{
  "nbformat": 4,
  "nbformat_minor": 0,
  "metadata": {
    "kernelspec": {
      "display_name": "Python 3",
      "language": "python",
      "name": "python3"
    },
    "language_info": {
      "codemirror_mode": {
        "name": "ipython",
        "version": 3
      },
      "file_extension": ".py",
      "mimetype": "text/x-python",
      "name": "python",
      "nbconvert_exporter": "python",
      "pygments_lexer": "ipython3",
      "version": "3.5.2"
    },
    "colab": {
      "name": "Intent Classification With Rasa NLU and SpaCy.ipynb",
      "provenance": []
    }
  },
  "cells": [
    {
      "cell_type": "markdown",
      "metadata": {
        "id": "c3Y8KWrQR25h"
      },
      "source": [
        "### Intent Classification with Rasa NLU and SpaCy \n",
        "+ + A Libary for intent recognition and entity extraction based on SpaCy and Sklearn\n",
        "\n",
        "##### NLP = NLU+\n",
        "+ NLP = understand,process,interprete everyday human language\n",
        "+ NLU = unstructured inputs and convert them into a structured form that a machine can understand and act upon\n",
        "\n",
        "#### Uses\n",
        "+ Chatbot task\n",
        "+ Intent classification\n",
        "\n"
      ]
    },
    {
      "cell_type": "code",
      "metadata": {
        "id": "ztAso7DSSQaV"
      },
      "source": [
        "!pip install rasa_nlu"
      ],
      "execution_count": null,
      "outputs": []
    },
    {
      "cell_type": "code",
      "metadata": {
        "id": "SPSbhr1aST0V"
      },
      "source": [
        "!pip install -U spacy"
      ],
      "execution_count": null,
      "outputs": []
    },
    {
      "cell_type": "code",
      "metadata": {
        "id": "lD0iJE9HR25r"
      },
      "source": [
        "# Load the Packages\n",
        "from rasa_nlu.training_data  import load_data\n",
        "from rasa_nlu.config import RasaNLUModelConfig\n",
        "from rasa_nlu.model import Trainer\n",
        "from rasa_nlu import config"
      ],
      "execution_count": null,
      "outputs": []
    },
    {
      "cell_type": "code",
      "metadata": {
        "id": "sjpdivgaR25u"
      },
      "source": [
        "# Loading DataSet\n",
        "train_data = load_data('rasa_dataset.json')"
      ],
      "execution_count": null,
      "outputs": []
    },
    {
      "cell_type": "code",
      "metadata": {
        "id": "O8_8ZV45R25u"
      },
      "source": [
        "# Config Backend using Sklearn and Spacy\n",
        "trainer = Trainer(config.load(\"config_spacy.yaml\"))"
      ],
      "execution_count": null,
      "outputs": []
    },
    {
      "cell_type": "markdown",
      "metadata": {
        "id": "pg0swfWbR25v"
      },
      "source": [
        "#### Content on Config\n",
        "    language: \"en\"\n",
        "    pipeline: \"spacy_sklearn\"\n",
        "\n",
        "    =======================\n",
        "\n",
        "    language: \"en\"\n",
        "\n",
        "    pipeline:\n",
        "    - name: \"nlp_spacy\"\n",
        "    - name: \"tokenizer_spacy\"\n",
        "    - name: \"intent_entity_featurizer_regex\"\n",
        "    - name: \"intent_featurizer_spacy\"\n",
        "    - name: \"ner_crf\"\n",
        "    - name: \"ner_synonyms\"\n",
        "    - name: \"intent_classifier_sklearn\""
      ]
    },
    {
      "cell_type": "code",
      "metadata": {
        "id": "Jn3InEzCR25w",
        "outputId": "aaf1d5df-cd15-4c69-b18c-6f81de47d1e4"
      },
      "source": [
        "# Training Data\n",
        "trainer.train(train_data)"
      ],
      "execution_count": null,
      "outputs": [
        {
          "name": "stdout",
          "output_type": "stream",
          "text": [
            "Fitting 2 folds for each of 6 candidates, totalling 12 fits\n"
          ]
        },
        {
          "name": "stderr",
          "output_type": "stream",
          "text": [
            "[Parallel(n_jobs=1)]: Done  12 out of  12 | elapsed:    0.3s finished\n"
          ]
        },
        {
          "data": {
            "text/plain": [
              "<rasa_nlu.model.Interpreter at 0x2801960c668>"
            ]
          },
          "execution_count": 19,
          "metadata": {},
          "output_type": "execute_result"
        }
      ]
    },
    {
      "cell_type": "code",
      "metadata": {
        "id": "JdoeANRLR25x"
      },
      "source": [
        "# Returns the directory the model is stored in (Creat a folder to store model in)\n",
        "model_directory = trainer.persist('/projects/')"
      ],
      "execution_count": null,
      "outputs": []
    },
    {
      "cell_type": "markdown",
      "metadata": {
        "id": "PcKRAt3gR25x"
      },
      "source": [
        "#### Entity Extraction With SpaCy"
      ]
    },
    {
      "cell_type": "code",
      "metadata": {
        "id": "ZKB5M5W4R25y"
      },
      "source": [
        "import spacy\n",
        "nlp = spacy.load('en')"
      ],
      "execution_count": null,
      "outputs": []
    },
    {
      "cell_type": "code",
      "metadata": {
        "id": "DXZYbVp9R25y"
      },
      "source": [
        "docx = nlp(u\"I am looking for an Italian Restaurant where I can eat\")"
      ],
      "execution_count": null,
      "outputs": []
    },
    {
      "cell_type": "code",
      "metadata": {
        "id": "6_uHviHyR25z",
        "outputId": "e05fcd61-5501-4cbb-bb9e-a95912ece34d"
      },
      "source": [
        "for word in docx.ents:\n",
        "    print(\"value\",word.text,\"entity\",word.label_,\"start\",word.start_char,\"end\",word.end_char)"
      ],
      "execution_count": null,
      "outputs": [
        {
          "name": "stdout",
          "output_type": "stream",
          "text": [
            "value Italian entity NORP start 20 end 27\n"
          ]
        }
      ]
    },
    {
      "cell_type": "markdown",
      "metadata": {
        "id": "jWFG7eKdR250"
      },
      "source": [
        "#### Making Predictions With Model\n",
        "+ Interpreter.load().parse()"
      ]
    },
    {
      "cell_type": "code",
      "metadata": {
        "id": "X4sJ0-_dR251"
      },
      "source": [
        "from rasa_nlu.model import Metadata, Interpreter"
      ],
      "execution_count": null,
      "outputs": []
    },
    {
      "cell_type": "code",
      "metadata": {
        "id": "4Y6ceMgLR251"
      },
      "source": [
        "# where `model_directory points to the folder the model is persisted in\n",
        "interpreter = Interpreter.load(model_directory)"
      ],
      "execution_count": null,
      "outputs": []
    },
    {
      "cell_type": "code",
      "metadata": {
        "id": "wbzDH4BSR252",
        "outputId": "c7e54cc0-e652-4645-907b-6c976a1929ab"
      },
      "source": [
        "# Prediction of Intent\n",
        "interpreter.parse(u\"I am looking for an Italian Restaurant where I can eat\")"
      ],
      "execution_count": null,
      "outputs": [
        {
          "data": {
            "text/plain": [
              "{'intent': {'name': 'restaurant_search', 'confidence': 0.7455215289019911},\n",
              " 'entities': [{'start': 20,\n",
              "   'end': 27,\n",
              "   'value': 'italian',\n",
              "   'entity': 'cuisine',\n",
              "   'confidence': 0.6636828413532201,\n",
              "   'extractor': 'ner_crf'}],\n",
              " 'intent_ranking': [{'name': 'restaurant_search',\n",
              "   'confidence': 0.7455215289019911},\n",
              "  {'name': 'affirm', 'confidence': 0.15019642212447237},\n",
              "  {'name': 'greet', 'confidence': 0.058736824115844515},\n",
              "  {'name': 'goodbye', 'confidence': 0.045545224857692024}],\n",
              " 'text': 'I am looking for an Italian Restaurant where I can eat'}"
            ]
          },
          "execution_count": 26,
          "metadata": {},
          "output_type": "execute_result"
        }
      ]
    },
    {
      "cell_type": "code",
      "metadata": {
        "id": "iYjBwPSFR252",
        "outputId": "db3de224-4293-4bd8-a51a-2d504376c7f5"
      },
      "source": [
        "interpreter.parse(u\"I want an African Spot to eat\")"
      ],
      "execution_count": null,
      "outputs": [
        {
          "data": {
            "text/plain": [
              "{'intent': {'name': 'restaurant_search', 'confidence': 0.6874972430877329},\n",
              " 'entities': [{'start': 10,\n",
              "   'end': 17,\n",
              "   'value': 'african',\n",
              "   'entity': 'cuisine',\n",
              "   'confidence': 0.6470976966769572,\n",
              "   'extractor': 'ner_crf'}],\n",
              " 'intent_ranking': [{'name': 'restaurant_search',\n",
              "   'confidence': 0.6874972430877329},\n",
              "  {'name': 'goodbye', 'confidence': 0.12400667696797882},\n",
              "  {'name': 'affirm', 'confidence': 0.11357435021080386},\n",
              "  {'name': 'greet', 'confidence': 0.07492172973348454}],\n",
              " 'text': 'I want an African Spot to eat'}"
            ]
          },
          "execution_count": 27,
          "metadata": {},
          "output_type": "execute_result"
        }
      ]
    },
    {
      "cell_type": "code",
      "metadata": {
        "id": "1IeC2uh1R252",
        "outputId": "bdaee9c1-a08d-4bd8-84d9-0da88fd750ca"
      },
      "source": [
        "interpreter.parse(u\"Good morning World\")"
      ],
      "execution_count": null,
      "outputs": [
        {
          "data": {
            "text/plain": [
              "{'intent': {'name': 'greet', 'confidence': 0.44328419685532383},\n",
              " 'entities': [],\n",
              " 'intent_ranking': [{'name': 'greet', 'confidence': 0.44328419685532383},\n",
              "  {'name': 'goodbye', 'confidence': 0.31245698090344237},\n",
              "  {'name': 'affirm', 'confidence': 0.1257434275305043},\n",
              "  {'name': 'restaurant_search', 'confidence': 0.11851539471072912}],\n",
              " 'text': 'Good morning World'}"
            ]
          },
          "execution_count": 28,
          "metadata": {},
          "output_type": "execute_result"
        }
      ]
    }
  ]
}