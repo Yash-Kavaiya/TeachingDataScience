{
 "cells": [
  {
   "cell_type": "code",
   "execution_count": 2,
   "metadata": {
    "collapsed": true
   },
   "outputs": [],
   "source": [
    "# Tuto inspiré largement de l'article publié sur Medium.com par Javed Shaikh\n",
    "# Machine Learning, NLP: Text Classification using scikit-learn, python and NLTK\n",
    "#\n",
    "# adapté en python 3.6\n",
    "#\n",
    "#https://medium.com/towards-data-science/machine-learning-nlp-text-classification-using-scikit-learn-python-and-nltk-c52b92a7c73a"
   ]
  },
  {
   "cell_type": "code",
   "execution_count": 3,
   "metadata": {
    "scrolled": true
   },
   "outputs": [],
   "source": [
    "### Import du dataset «The 20 newsgroups text»\n",
    "# les textes sont stockées dans \"data\" et les attributs dans \"target\"\n",
    "# plus d'infos sur la structure du dataset >> http://scikit-learn.org/stable/datasets/twenty_newsgroups.html\n",
    "\n",
    "from sklearn.datasets import fetch_20newsgroups\n",
    "twenty_train = fetch_20newsgroups(subset='train', shuffle=True)"
   ]
  },
  {
   "cell_type": "code",
   "execution_count": 4,
   "metadata": {},
   "outputs": [
    {
     "name": "stdout",
     "output_type": "stream",
     "text": [
      "['alt.atheism', 'comp.graphics', 'comp.os.ms-windows.misc', 'comp.sys.ibm.pc.hardware', 'comp.sys.mac.hardware', 'comp.windows.x', 'misc.forsale', 'rec.autos', 'rec.motorcycles', 'rec.sport.baseball', 'rec.sport.hockey', 'sci.crypt', 'sci.electronics', 'sci.med', 'sci.space', 'soc.religion.christian', 'talk.politics.guns', 'talk.politics.mideast', 'talk.politics.misc', 'talk.religion.misc']\n"
     ]
    }
   ],
   "source": [
    "# afficher la liste des catégories prédéfinies du classifier\n",
    "\n",
    "print(twenty_train.target_names)"
   ]
  },
  {
   "cell_type": "code",
   "execution_count": 5,
   "metadata": {},
   "outputs": [
    {
     "name": "stdout",
     "output_type": "stream",
     "text": [
      "From: lerxst@wam.umd.edu (where's my thing)\n",
      "Subject: WHAT car is this!?\n",
      "Nntp-Posting-Host: rac3.wam.umd.edu\n"
     ]
    }
   ],
   "source": [
    "# afficher les trois premieres lignes du premier texte \n",
    "\n",
    "print(\"\\n\".join(twenty_train.data[0].split(\"\\n\")[:3]))\n",
    "# print(twenty_train.data[0])"
   ]
  },
  {
   "cell_type": "code",
   "execution_count": 6,
   "metadata": {},
   "outputs": [
    {
     "name": "stdout",
     "output_type": "stream",
     "text": [
      "rec.autos\n"
     ]
    }
   ],
   "source": [
    "# afficher la categorie du premier texte\n",
    "\n",
    "print(twenty_train.target_names[twenty_train.target[0]])"
   ]
  },
  {
   "cell_type": "code",
   "execution_count": 7,
   "metadata": {},
   "outputs": [
    {
     "name": "stdout",
     "output_type": "stream",
     "text": [
      "11314\n",
      "11314\n"
     ]
    }
   ],
   "source": [
    "# dimension des tableaux\n",
    "\n",
    "print(len(twenty_train.data))\n",
    "print(len(twenty_train.target))"
   ]
  },
  {
   "cell_type": "code",
   "execution_count": 8,
   "metadata": {},
   "outputs": [
    {
     "data": {
      "text/plain": [
       "(11314, 130107)"
      ]
     },
     "execution_count": 8,
     "metadata": {},
     "output_type": "execute_result"
    }
   ],
   "source": [
    "### extraction des features\n",
    "# génération des bags of words\n",
    "# matrice à 2 entrées (Document-Term matrix. [n_samples, n_features]) : \n",
    "# 1| les textes du dataset (samples), 2| les mots contenus dans le dataset (features)\n",
    "# la valeur contenu est le nombre d'occurences du mot dans le texte\n",
    "\n",
    "from sklearn.feature_extraction.text import CountVectorizer\n",
    "count_vect = CountVectorizer()\n",
    "X_train_counts = count_vect.fit_transform(twenty_train.data)\n",
    "X_train_counts.shape"
   ]
  },
  {
   "cell_type": "code",
   "execution_count": 9,
   "metadata": {},
   "outputs": [
    {
     "data": {
      "text/plain": [
       "(11314, 130107)"
      ]
     },
     "execution_count": 9,
     "metadata": {},
     "output_type": "execute_result"
    }
   ],
   "source": [
    "# calcul du TF-IDF : term frequency-inverse document frequency\n",
    "# objectif : ponderer la fréquence du mot selon sa rareté dans le corpus de référence. \n",
    "# un mot fréquent dans un texte mais fréquent dans le corpus est peu signifiant. \n",
    "# un mot fréquent dans un texte mais rare dans le corpus est très signifiant. son poids est renforcé par la méthode TF-IDF\n",
    "\n",
    "from sklearn.feature_extraction.text import TfidfTransformer\n",
    "tfidf_transformer = TfidfTransformer()\n",
    "X_train_tfidf = tfidf_transformer.fit_transform(X_train_counts)\n",
    "X_train_tfidf.shape"
   ]
  },
  {
   "cell_type": "code",
   "execution_count": 10,
   "metadata": {},
   "outputs": [
    {
     "data": {
      "text/plain": [
       "0.7738980350504514"
      ]
     },
     "execution_count": 10,
     "metadata": {},
     "output_type": "execute_result"
    }
   ],
   "source": [
    "### execution d'algorithmes ML - Naive Bayes\n",
    "\n",
    "from sklearn.naive_bayes import MultinomialNB\n",
    "from sklearn.pipeline import Pipeline\n",
    "\n",
    "# constitution du pipeline utilisé pour l'entrainement et pour le test\n",
    "text_clf = Pipeline([('vect', CountVectorizer()), \\\n",
    "                     ('tfidf', TfidfTransformer()), \\\n",
    "                     ('clf', MultinomialNB()), \\\n",
    "                    ])\n",
    "# entrainement\n",
    "text_clf = text_clf.fit(twenty_train.data, twenty_train.target)\n",
    "\n",
    "# test de la performance de la classification Naive Bayes\n",
    "# import du dataset de test\n",
    "import numpy as np\n",
    "twenty_test = fetch_20newsgroups(subset='test', shuffle=True)\n",
    "# prediction avec le dataset de test\n",
    "predicted = text_clf.predict(twenty_test.data)\n",
    "# pourcentage de cas où la prediction est correcte\n",
    "np.mean(predicted == twenty_test.target)"
   ]
  },
  {
   "cell_type": "code",
   "execution_count": 11,
   "metadata": {
    "collapsed": true
   },
   "outputs": [],
   "source": [
    "# determiner la performance optimale avec ‘GridSearchCV’ pour le Naive Bayes\n",
    "# en combinant plusieurs valeurs pour chaque parametre de l'entrainement\n",
    "\n",
    "from sklearn.model_selection import GridSearchCV\n",
    "\n",
    "# liste de parametres pour le tuning\n",
    "parameters = {'vect__ngram_range': [(1, 1), (1, 2)], \\\n",
    "              'tfidf__use_idf': (True, False), \\\n",
    "              'clf__alpha': (1e-2, 1e-3), \\\n",
    "             }\n",
    "\n",
    "# creation et execution de l'instance\n",
    "gs_clf = GridSearchCV(text_clf, parameters, n_jobs=-1)\n",
    "gs_clf = gs_clf.fit(twenty_train.data, twenty_train.target)"
   ]
  },
  {
   "cell_type": "code",
   "execution_count": 12,
   "metadata": {},
   "outputs": [
    {
     "data": {
      "text/plain": [
       "0.90675269577514583"
      ]
     },
     "execution_count": 12,
     "metadata": {},
     "output_type": "execute_result"
    }
   ],
   "source": [
    "# meilleur résultat de prediction (pourcentage)\n",
    "gs_clf.best_score_"
   ]
  },
  {
   "cell_type": "code",
   "execution_count": 13,
   "metadata": {},
   "outputs": [
    {
     "data": {
      "text/plain": [
       "{'clf__alpha': 0.01, 'tfidf__use_idf': True, 'vect__ngram_range': (1, 2)}"
      ]
     },
     "execution_count": 13,
     "metadata": {},
     "output_type": "execute_result"
    }
   ],
   "source": [
    "# paramètres utilisés pour obtenir le meilleur résultat de prediction\n",
    "gs_clf.best_params_"
   ]
  },
  {
   "cell_type": "code",
   "execution_count": 16,
   "metadata": {},
   "outputs": [
    {
     "data": {
      "text/plain": [
       "Pipeline(memory=None,\n",
       "     steps=[('vect', CountVectorizer(analyzer='word', binary=False, decode_error='strict',\n",
       "        dtype=<class 'numpy.int64'>, encoding='utf-8', input='content',\n",
       "        lowercase=True, max_df=1.0, max_features=None, min_df=1,\n",
       "        ngram_range=(1, 2), preprocessor=None, stop_words=None,\n",
       "        strip...near_tf=False, use_idf=True)), ('clf', MultinomialNB(alpha=0.01, class_prior=None, fit_prior=True))])"
      ]
     },
     "execution_count": 16,
     "metadata": {},
     "output_type": "execute_result"
    }
   ],
   "source": [
    "gs_clf.best_estimator_"
   ]
  },
  {
   "cell_type": "code",
   "execution_count": 20,
   "metadata": {},
   "outputs": [
    {
     "data": {
      "text/plain": [
       "0.90675269577514583"
      ]
     },
     "execution_count": 20,
     "metadata": {},
     "output_type": "execute_result"
    }
   ],
   "source": [
    "# reuse des parametres obtenus\n",
    "# cross validation prediction sur training set\n",
    "\n",
    "from sklearn.model_selection import cross_val_predict\n",
    "predictedCV = cross_val_predict(gs_clf.best_estimator_, twenty_train.data, twenty_train.target)\n",
    "np.mean(predictedCV == twenty_train.target)"
   ]
  },
  {
   "cell_type": "code",
   "execution_count": 21,
   "metadata": {},
   "outputs": [
    {
     "data": {
      "text/plain": [
       "0.88542219861922467"
      ]
     },
     "execution_count": 21,
     "metadata": {},
     "output_type": "execute_result"
    }
   ],
   "source": [
    "# cross validation prediction sur test set\n",
    "\n",
    "predictedCV = cross_val_predict(gs_clf.best_estimator_, twenty_test.data, twenty_test.target)\n",
    "np.mean(predictedCV == twenty_test.target)"
   ]
  },
  {
   "cell_type": "code",
   "execution_count": 24,
   "metadata": {},
   "outputs": [
    {
     "data": {
      "text/plain": [
       "0.81691449814126393"
      ]
     },
     "execution_count": 24,
     "metadata": {},
     "output_type": "execute_result"
    }
   ],
   "source": [
    "# elimination des stop words / Naive Bayes\n",
    "\n",
    "# from sklearn.pipeline import Pipeline\n",
    "# enrichissement du pipeline NaiveBayes\n",
    "text_clf = Pipeline([('vect', CountVectorizer(stop_words='english')), \\\n",
    "                     ('tfidf', TfidfTransformer()), \\\n",
    "                     ('clf', MultinomialNB()), \\\n",
    "                    ])\n",
    "\n",
    "# entrainement + prediction + évaluation\n",
    "text_clf = text_clf.fit(twenty_train.data, twenty_train.target)\n",
    "predicted = text_clf.predict(twenty_test.data)\n",
    "np.mean(predicted == twenty_test.target)"
   ]
  },
  {
   "cell_type": "code",
   "execution_count": 25,
   "metadata": {},
   "outputs": [
    {
     "data": {
      "text/plain": [
       "0.8214285714285714"
      ]
     },
     "execution_count": 25,
     "metadata": {},
     "output_type": "execute_result"
    }
   ],
   "source": [
    "# FitPrior=False, Whether to learn class prior probabilities or not. If false, a uniform prior will be used.\n",
    "\n",
    "# from sklearn.pipeline import Pipeline\n",
    "# enrichissement du pipeline NaiveBayes\n",
    "text_clf = Pipeline([('vect', CountVectorizer(stop_words='english')), \\\n",
    "                     ('tfidf', TfidfTransformer()), \\\n",
    "                     ('clf', MultinomialNB(fit_prior=False)), \\\n",
    "                    ])\n",
    "# liste de parametres pour le tuning\n",
    "parameters = {'vect__ngram_range': [(1, 1), (1, 2)], \\\n",
    "              'tfidf__use_idf': (True, False), \\\n",
    "              'clf__alpha': (1e-2, 1e-3), \\\n",
    "             }\n",
    "\n",
    "# entrainement + prediction + évaluation\n",
    "text_clf = text_clf.fit(twenty_train.data, twenty_train.target)\n",
    "predicted = text_clf.predict(twenty_test.data)\n",
    "np.mean(predicted == twenty_test.target)"
   ]
  },
  {
   "cell_type": "code",
   "execution_count": 55,
   "metadata": {},
   "outputs": [
    {
     "data": {
      "text/plain": [
       "0.82408390865639936"
      ]
     },
     "execution_count": 55,
     "metadata": {},
     "output_type": "execute_result"
    }
   ],
   "source": [
    "### execution d'algorithmes ML - SVM (support vector machine)\n",
    "\n",
    "from sklearn.linear_model import SGDClassifier\n",
    "\n",
    "# constitution du pipeline utilisé pour l'entrainement et pour le test\n",
    "# max_iter = 5 par défaut, l'entrainement pourrait être stoppé trop tôt : 82,38%\n",
    "# test à 5000 iterations, mais sklearn n'utilise pas le GPU, donc qqes longueurs, faible amélio : 82,42%\n",
    "# test à 100 itérations : 82.40%\n",
    "text_clf_svm = Pipeline([('vect', CountVectorizer()), \\\n",
    "                         ('tfidf', TfidfTransformer()), \\\n",
    "                         ('clf-svm', SGDClassifier(loss='hinge', penalty='l2',alpha=1e-3, max_iter=100, random_state=42)), \\\n",
    "                         ])\n",
    "# entrainement\n",
    "_ = text_clf_svm.fit(twenty_train.data, twenty_train.target)\n",
    "# prediction avec le dataset de test\n",
    "predicted_svm = text_clf_svm.predict(twenty_test.data)\n",
    "# pourcentage de cas où la prediction est correcte\n",
    "np.mean(predicted_svm == twenty_test.target)"
   ]
  },
  {
   "cell_type": "code",
   "execution_count": 56,
   "metadata": {},
   "outputs": [
    {
     "data": {
      "text/plain": [
       "0.8994166519356549"
      ]
     },
     "execution_count": 56,
     "metadata": {},
     "output_type": "execute_result"
    }
   ],
   "source": [
    "# determiner la performance optimale avec ‘GridSearchCV’ pour le Support Vector Machine\n",
    "\n",
    "# max_iter = 5 -> 89.79%\n",
    "# max_iter = 100 -> 89.94%\n",
    "#from sklearn.model_selection import GridSearchCV\n",
    "parameters_svm = {'vect__ngram_range': [(1, 1), (1, 2)], \\\n",
    "                  'tfidf__use_idf': (True, False), \\\n",
    "                  'clf-svm__alpha': (1e-2, 1e-3), \\\n",
    "                 }\n",
    "gs_clf_svm = GridSearchCV(text_clf_svm, parameters_svm, n_jobs=-1)\n",
    "gs_clf_svm = gs_clf_svm.fit(twenty_train.data, twenty_train.target)\n",
    "gs_clf_svm.best_score_"
   ]
  },
  {
   "cell_type": "code",
   "execution_count": 53,
   "metadata": {},
   "outputs": [
    {
     "data": {
      "text/plain": [
       "{'clf-svm__alpha': 0.001, 'tfidf__use_idf': True, 'vect__ngram_range': (1, 2)}"
      ]
     },
     "execution_count": 53,
     "metadata": {},
     "output_type": "execute_result"
    }
   ],
   "source": [
    "gs_clf_svm.best_params_"
   ]
  },
  {
   "cell_type": "code",
   "execution_count": 62,
   "metadata": {},
   "outputs": [
    {
     "data": {
      "text/plain": [
       "0.83258098778544876"
      ]
     },
     "execution_count": 62,
     "metadata": {},
     "output_type": "execute_result"
    }
   ],
   "source": [
    "# elimination des stop words / SVM\n",
    "# enrichissement du pipeline NaiveBayes\n",
    "text_clf_svm = Pipeline([('vect', CountVectorizer(stop_words='english', ngram_range=(1, 2))), \\\n",
    "                         ('tfidf', TfidfTransformer()), \\\n",
    "                         ('clf-svm', SGDClassifier(loss='hinge', penalty='l2',alpha=1e-3, max_iter=100, random_state=42)), \\\n",
    "                         ])\n",
    "# entrainement + prediction + évaluation\n",
    "_ = text_clf_svm.fit(twenty_train.data, twenty_train.target)\n",
    "predicted_svm = text_clf_svm.predict(twenty_test.data)\n",
    "np.mean(predicted_svm == twenty_test.target)"
   ]
  }
 ],
 "metadata": {
  "kernelspec": {
   "display_name": "Python 3",
   "language": "python",
   "name": "python3"
  },
  "language_info": {
   "codemirror_mode": {
    "name": "ipython",
    "version": 3
   },
   "file_extension": ".py",
   "mimetype": "text/x-python",
   "name": "python",
   "nbconvert_exporter": "python",
   "pygments_lexer": "ipython3",
   "version": "3.6.2"
  }
 },
 "nbformat": 4,
 "nbformat_minor": 2
}
