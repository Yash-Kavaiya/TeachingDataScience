{
 "cells": [
  {
   "cell_type": "markdown",
   "metadata": {},
   "source": [
    "# Introduction to Jupyter Notebook"
   ]
  },
  {
   "cell_type": "markdown",
   "metadata": {},
   "source": [
    "Hey there. This is a small notebook to help you get familiar with the idea of jupyter notebooks. If you are seeing this on github, we recommend you run it locally on your computer so that you can see the interactive elements by doing the following.\n",
    "1. Clone the repository which contains this file. Not sure how to use git? Check out [this short tutorial](https://try.github.io/)\n",
    "2. Install Jupyter Notebook - If you installed Anaconda Python, it should have come along. If not, shoot up a terminal. Hit \n",
    "```\n",
    "pip install jupyter notebook\n",
    "```\n",
    "3. Then start a jupyter notebook from the cloned folder. To do this, open a terminal in the cloned folder, and execute the following command\n",
    "```\n",
    "jupyter notebook\n",
    "```\n",
    "A browser should open up. If it doesn't, shoot up firefox, hit   `localhost:8888`   in the URL bar, and hit enter. Then select this file in the webpage that is displayed"
   ]
  },
  {
   "cell_type": "markdown",
   "metadata": {},
   "source": [
    "This tutorial provides a very brief version of the content presented at [DataCamp](https://www.datacamp.com/community/tutorials/tutorial-jupyter-notebook)"
   ]
  },
  {
   "cell_type": "markdown",
   "metadata": {},
   "source": [
    "## What Is A Jupyter Notebook?"
   ]
  },
  {
   "cell_type": "markdown",
   "metadata": {},
   "source": [
    "In this case, \"notebook\" or \"notebook documents\" denote documents that contain both code and rich text elements, such as figures, links, equations, ... Because of the mix of code and text elements, these documents are the ideal place to bring together an analysis description and its results as well as they can be executed perform the data analysis in real time.\n",
    "\n",
    "\"Jupyter\" is a loose acronym meaning Julia, Python, and R."
   ]
  },
  {
   "cell_type": "markdown",
   "metadata": {},
   "source": [
    "**Replication** and **reproducibility** are two of the cornerstones in the scientific method. Jupyter notebooks make it easy to accomplish both"
   ]
  },
  {
   "cell_type": "markdown",
   "metadata": {},
   "source": [
    "### *What do you mean a combination of rich elements*?"
   ]
  },
  {
   "cell_type": "markdown",
   "metadata": {},
   "source": [
    "Well, you can have documenting text like this, with [links](https://github.com/iitmcvg) and images\n",
    "![iitmcvglogo](Elements/iitmcvg.png)"
   ]
  },
  {
   "cell_type": "code",
   "execution_count": 1,
   "metadata": {},
   "outputs": [
    {
     "name": "stdout",
     "output_type": "stream",
     "text": [
      "Hello World\n"
     ]
    }
   ],
   "source": [
    "# As well as code, and see their output in real time\n",
    "print('Hello World')"
   ]
  },
  {
   "cell_type": "markdown",
   "metadata": {},
   "source": [
    "#### Each block that you navigate using the up and down keys is called a cell\n",
    "* Hit [Shift+Enter] to execute a cell\n",
    "* Hit [Enter] to edit a cell in the Edit mode. Once you are done, hit [Escape] to come back into command mode\n",
    "* For a list of all shortcuts, when in command mode, hit [Ctrl+H]"
   ]
  },
  {
   "cell_type": "markdown",
   "metadata": {},
   "source": [
    "### *How is it better than normal Python?*"
   ]
  },
  {
   "cell_type": "markdown",
   "metadata": {},
   "source": [
    "Well, if you're a data scientist, it stores all your variable data in your RAM, so you don't have to keep loading it again and again, as well as letting you embed interactive plots into your notebook. Let's try that by plotting the quadratic function, shall we?"
   ]
  },
  {
   "cell_type": "code",
   "execution_count": 2,
   "metadata": {},
   "outputs": [
    {
     "name": "stdout",
     "output_type": "stream",
     "text": [
      "Populating the interactive namespace from numpy and matplotlib\n"
     ]
    }
   ],
   "source": [
    "# This line configures matplotlib(plotting library) to show figures embedded in the notebook, \n",
    "# instead of opening a new window for each figure. It also imports numpy \n",
    "# and matplotlib.pyplot in their common namespaces, np and plt\n",
    "%pylab inline"
   ]
  },
  {
   "cell_type": "code",
   "execution_count": 3,
   "metadata": {},
   "outputs": [],
   "source": [
    "x = np.linspace(0, 5, 10)\n",
    "y = x ** 2"
   ]
  },
  {
   "cell_type": "code",
   "execution_count": 4,
   "metadata": {},
   "outputs": [
    {
     "data": {
      "image/png": "[encoded data removed]",
      "text/plain": [
       "<matplotlib.figure.Figure at 0x85e42b0>"
      ]
     },
     "metadata": {},
     "output_type": "display_data"
    }
   ],
   "source": [
    "plt.figure()\n",
    "plt.plot(x, y, 'r')\n",
    "plt.xlabel('x')\n",
    "plt.ylabel('y')\n",
    "plt.title('This be the quadratic function')\n",
    "plt.show()"
   ]
  },
  {
   "cell_type": "markdown",
   "metadata": {},
   "source": [
    "You can do all sorts of crazy stuff on matplotlib+jupyter. You can check them out [here](http://nbviewer.jupyter.org/github/jrjohansson/scientific-python-lectures/blob/master/Lecture-4-Matplotlib.ipynb).\n",
    "The only disadvantage of plotting in the jupyter notebook is that the 3D plots you generate with mlab3d will not be interactive"
   ]
  },
  {
   "cell_type": "markdown",
   "metadata": {},
   "source": [
    "The functionality of the Jupyter notebook extends to a lot more than just plotting inline graphs. You can run shell commands, time blocks of code very easily, and even write latex inline. For example,\n",
    "\n",
    "$\\displaystyle \\int_a^b\\frac{\\mathrm{d}^2x}{\\mathrm{d}t^2} + 2\\zeta\\omega_0\\frac{\\mathrm{d}x}{\\mathrm{d}t} + \\omega^2_0 x = 0$\n",
    "\n",
    "(Trust us, that isn't an image. Enter the cell in edit mode to believe it)"
   ]
  },
  {
   "cell_type": "markdown",
   "metadata": {},
   "source": [
    "**Example of running a shell command in the notebook**"
   ]
  },
  {
   "cell_type": "code",
   "execution_count": 5,
   "metadata": {},
   "outputs": [
    {
     "name": "stdout",
     "output_type": "stream",
     "text": [
      " Volume in drive D is New Volume\n",
      " Volume Serial Number is 2662-545F\n",
      "\n",
      " Directory of D:\\Yogesh\\ToDos\\Projects\\Teaching\\Teaching_Python\\Jupyter\n",
      "\n",
      "16-02-2019  18:01    <DIR>          .\n",
      "16-02-2019  18:01    <DIR>          ..\n",
      "16-02-2019  18:01    <DIR>          .ipynb_checkpoints\n",
      "16-02-2019  17:57    <DIR>          data\n",
      "23-02-2017  10:14            21,717 Exercise 0 - Introduction to Jupyter.ipynb\n",
      "23-02-2017  10:14            79,072 Exercise 1 - Python.ipynb\n",
      "23-02-2017  10:14               912 Exercise 2 - Numpy.ipynb\n",
      "23-02-2017  10:14           346,083 Exercise 3 - Matplotlib.ipynb\n",
      "23-02-2017  10:14           116,670 Exercise 4 - Scipy.ipynb\n",
      "23-02-2017  10:14    <DIR>          images\n",
      "16-02-2018  11:39            93,465 OverviewReference.ipynb\n",
      "16-02-2019  17:57    <DIR>          src\n",
      "               6 File(s)        657,919 bytes\n",
      "               6 Dir(s)  23,400,255,488 bytes free\n"
     ]
    }
   ],
   "source": [
    "ls"
   ]
  }
 ],
 "metadata": {
  "kernelspec": {
   "display_name": "Python [default]",
   "language": "python",
   "name": "python3"
  },
  "language_info": {
   "codemirror_mode": {
    "name": "ipython",
    "version": 3
   },
   "file_extension": ".py",
   "mimetype": "text/x-python",
   "name": "python",
   "nbconvert_exporter": "python",
   "pygments_lexer": "ipython3",
   "version": "3.5.4"
  }
 },
 "nbformat": 4,
 "nbformat_minor": 2
}
