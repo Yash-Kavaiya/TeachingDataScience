{
 "cells": [
  {
   "cell_type": "markdown",
   "metadata": {},
   "source": [
    "# Advanced Python Workshop - Lecture Notes\n",
    "May 24, 2013\n"
   ]
  },
  {
   "cell_type": "markdown",
   "metadata": {},
   "source": [
    "Lets start with warm up problems.\n",
    "<http://anandology.com/apy/slides/python-warmup.html>"
   ]
  },
  {
   "cell_type": "code",
   "execution_count": 9,
   "metadata": {},
   "outputs": [
    {
     "data": {
      "text/plain": [
       "(2, 1)"
      ]
     },
     "execution_count": 9,
     "metadata": {},
     "output_type": "execute_result"
    }
   ],
   "source": [
    "# problem 1\n",
    "x = 1\n",
    "y = x\n",
    "x = 2\n",
    "x,y"
   ]
  },
  {
   "cell_type": "code",
   "execution_count": 10,
   "metadata": {},
   "outputs": [
    {
     "data": {
      "text/plain": [
       "[[1, 2, 3], 5]"
      ]
     },
     "execution_count": 10,
     "metadata": {},
     "output_type": "execute_result"
    }
   ],
   "source": [
    "# problem 2\n",
    "x = [1, 2]\n",
    "y = [x, 5]\n",
    "x.append(3)\n",
    "y"
   ]
  },
  {
   "cell_type": "markdown",
   "metadata": {},
   "source": [
    "## Functions"
   ]
  },
  {
   "cell_type": "code",
   "execution_count": 11,
   "metadata": {},
   "outputs": [
    {
     "data": {
      "text/plain": [
       "16"
      ]
     },
     "execution_count": 11,
     "metadata": {},
     "output_type": "execute_result"
    }
   ],
   "source": [
    "def square(x): \n",
    "    return x*x\n",
    "square(4)"
   ]
  },
  {
   "cell_type": "code",
   "execution_count": 12,
   "metadata": {},
   "outputs": [
    {
     "data": {
      "text/plain": [
       "16"
      ]
     },
     "execution_count": 12,
     "metadata": {},
     "output_type": "execute_result"
    }
   ],
   "source": [
    "f = square\n",
    "f(4)"
   ]
  },
  {
   "cell_type": "code",
   "execution_count": 13,
   "metadata": {},
   "outputs": [
    {
     "data": {
      "text/plain": [
       "25"
      ]
     },
     "execution_count": 13,
     "metadata": {},
     "output_type": "execute_result"
    }
   ],
   "source": [
    "def fxy(f, x, y):\n",
    "    return f(x) + f(y)\n",
    "\n",
    "fxy(square, 3, 4)"
   ]
  },
  {
   "cell_type": "code",
   "execution_count": 14,
   "metadata": {},
   "outputs": [
    {
     "data": {
      "text/plain": [
       "9"
      ]
     },
     "execution_count": 14,
     "metadata": {},
     "output_type": "execute_result"
    }
   ],
   "source": [
    "f = lambda x: x*x\n",
    "f(3)"
   ]
  },
  {
   "cell_type": "code",
   "execution_count": 16,
   "metadata": {},
   "outputs": [
    {
     "data": {
      "text/plain": [
       "91"
      ]
     },
     "execution_count": 16,
     "metadata": {},
     "output_type": "execute_result"
    }
   ],
   "source": [
    "fxy(lambda x: x*x*x, 3, 4)"
   ]
  },
  {
   "cell_type": "code",
   "execution_count": null,
   "metadata": {},
   "outputs": [],
   "source": [
    "x = ['python', 'perl', \n",
    "     'java', 'c', \n",
    "     'haskell', 'ruby']\n",
    "sorted(x)"
   ]
  },
  {
   "cell_type": "code",
   "execution_count": null,
   "metadata": {},
   "outputs": [],
   "source": [
    "sorted(x, key=len)"
   ]
  },
  {
   "cell_type": "markdown",
   "metadata": {},
   "source": [
    "**Default Arguments**"
   ]
  },
  {
   "cell_type": "code",
   "execution_count": null,
   "metadata": {},
   "outputs": [],
   "source": [
    "def inc(x, amount=1):\n",
    "    return x+amount\n",
    "\n",
    "inc(5)"
   ]
  },
  {
   "cell_type": "code",
   "execution_count": null,
   "metadata": {},
   "outputs": [],
   "source": [
    "inc(5, 4)"
   ]
  },
  {
   "cell_type": "code",
   "execution_count": null,
   "metadata": {},
   "outputs": [],
   "source": [
    "inc(x=5, amount=4)"
   ]
  },
  {
   "cell_type": "markdown",
   "metadata": {},
   "source": [
    "Lets find out when is default value computed. "
   ]
  },
  {
   "cell_type": "code",
   "execution_count": null,
   "metadata": {},
   "outputs": [],
   "source": [
    "def f(x):\n",
    "    print(\"f is called with\", x)\n",
    "    return x\n",
    "\n",
    "print(\"before defining inc\")\n",
    "\n",
    "def inc(x, amount=f(1)):\n",
    "    return x + amount\n",
    "\n",
    "print(\"after defining inc\")\n",
    "print(inc(5))"
   ]
  },
  {
   "cell_type": "markdown",
   "metadata": {},
   "source": [
    "# Iterators and Generators"
   ]
  },
  {
   "cell_type": "code",
   "execution_count": null,
   "metadata": {},
   "outputs": [],
   "source": [
    "for a in [1, 2, 3, 4]: \n",
    "    print(a)"
   ]
  },
  {
   "cell_type": "code",
   "execution_count": null,
   "metadata": {},
   "outputs": [],
   "source": [
    "for a in (1, 2, 3, 4):\n",
    "    print(a)"
   ]
  },
  {
   "cell_type": "code",
   "execution_count": null,
   "metadata": {},
   "outputs": [],
   "source": [
    "for k in {\"a\": 1, \"b\": 2}: \n",
    "    print(k)"
   ]
  },
  {
   "cell_type": "code",
   "execution_count": null,
   "metadata": {},
   "outputs": [],
   "source": [
    "for c in \"hello\":\n",
    "    print(c)"
   ]
  },
  {
   "cell_type": "code",
   "execution_count": null,
   "metadata": {},
   "outputs": [],
   "source": [
    "\",\".join([\"a\", \"b\", \"c\"])"
   ]
  },
  {
   "cell_type": "code",
   "execution_count": null,
   "metadata": {},
   "outputs": [],
   "source": [
    "\",\".join({\"a\": 1, \"b\": 2})"
   ]
  },
  {
   "cell_type": "code",
   "execution_count": null,
   "metadata": {},
   "outputs": [],
   "source": [
    "\",\".join(\"hello\")"
   ]
  },
  {
   "cell_type": "code",
   "execution_count": null,
   "metadata": {},
   "outputs": [],
   "source": [
    "max([1, 2, 3, 4])"
   ]
  },
  {
   "cell_type": "code",
   "execution_count": null,
   "metadata": {},
   "outputs": [],
   "source": [
    "max(\"hello\")"
   ]
  },
  {
   "cell_type": "code",
   "execution_count": null,
   "metadata": {},
   "outputs": [],
   "source": [
    "max({\"a\": 1, \"b\": 2})"
   ]
  },
  {
   "cell_type": "markdown",
   "metadata": {},
   "source": [
    "Lets try to understand how iteration works. "
   ]
  },
  {
   "cell_type": "code",
   "execution_count": null,
   "metadata": {},
   "outputs": [],
   "source": [
    "x = iter([1, 2, 3, 4])"
   ]
  },
  {
   "cell_type": "code",
   "execution_count": null,
   "metadata": {},
   "outputs": [],
   "source": [
    "x.next()"
   ]
  },
  {
   "cell_type": "code",
   "execution_count": null,
   "metadata": {},
   "outputs": [],
   "source": [
    "x.next()"
   ]
  },
  {
   "cell_type": "code",
   "execution_count": null,
   "metadata": {},
   "outputs": [],
   "source": [
    "x.next()"
   ]
  },
  {
   "cell_type": "code",
   "execution_count": null,
   "metadata": {},
   "outputs": [],
   "source": [
    "x.next()"
   ]
  },
  {
   "cell_type": "code",
   "execution_count": null,
   "metadata": {},
   "outputs": [],
   "source": [
    "x.next()"
   ]
  },
  {
   "cell_type": "code",
   "execution_count": null,
   "metadata": {},
   "outputs": [],
   "source": [
    "x = iter(\"abc\")\n",
    "x.next()"
   ]
  },
  {
   "cell_type": "code",
   "execution_count": null,
   "metadata": {},
   "outputs": [],
   "source": [
    "x.next()"
   ]
  },
  {
   "cell_type": "code",
   "execution_count": null,
   "metadata": {},
   "outputs": [],
   "source": [
    "x.next()"
   ]
  },
  {
   "cell_type": "code",
   "execution_count": null,
   "metadata": {},
   "outputs": [],
   "source": [
    "x.next()"
   ]
  },
  {
   "cell_type": "code",
   "execution_count": null,
   "metadata": {},
   "outputs": [],
   "source": [
    "class yrange:\n",
    "    def __init__(self, n):\n",
    "        self.i = 0\n",
    "        self.n = n\n",
    "        \n",
    "    def __iter__(self):\n",
    "        return self\n",
    "        \n",
    "    def next(self):\n",
    "        i = self.i\n",
    "        if i < self.n:\n",
    "            self.i = i + 1\n",
    "            return i\n",
    "        else:\n",
    "            raise StopIteration()\n",
    "            \n",
    "y = yrange(5)\n",
    "for a in y:\n",
    "    print(a)"
   ]
  },
  {
   "cell_type": "markdown",
   "metadata": {},
   "source": [
    "Lets try to see how for loop is behind the scenes.\n",
    " \n",
    "    for a in x:\n",
    "        print a\n",
    "\n",
    "Translate this in to while loop.\n",
    "\n",
    "    it = iter(x)\n",
    "    while True:\n",
    "        try:\n",
    "            a = it.next()\n",
    "        except StopIteration:\n",
    "            break\n",
    "        print a"
   ]
  },
  {
   "cell_type": "code",
   "execution_count": null,
   "metadata": {},
   "outputs": [],
   "source": [
    "# [1, 2, 3, 4] is an iterable object.\n",
    "# x = iter([1, 2, 3, 4]) gives an iterator.\n",
    "# next() method can be called on an iterator.\n",
    "\n",
    "y = yrange(5)\n",
    "print(list(y))\n",
    "print(list(y))"
   ]
  },
  {
   "cell_type": "code",
   "execution_count": null,
   "metadata": {},
   "outputs": [],
   "source": [
    "class zrange:\n",
    "    def __init__(self, n):\n",
    "        self.n = n\n",
    "    def __iter__(self):\n",
    "        return yrange(self.n)\n",
    "    \n",
    "z = zrange(5)\n",
    "print(list(z))\n",
    "print(list(z))"
   ]
  },
  {
   "cell_type": "markdown",
   "metadata": {},
   "source": [
    "## Generators"
   ]
  },
  {
   "cell_type": "code",
   "execution_count": null,
   "metadata": {},
   "outputs": [],
   "source": [
    "def yrange(n):\n",
    "    i = 0\n",
    "    while i < n:\n",
    "        yield i\n",
    "        i += 1\n",
    "\n",
    "y = yrange(3)\n",
    "print(y.next())"
   ]
  },
  {
   "cell_type": "code",
   "execution_count": null,
   "metadata": {},
   "outputs": [],
   "source": [
    "y.next()"
   ]
  },
  {
   "cell_type": "code",
   "execution_count": null,
   "metadata": {},
   "outputs": [],
   "source": [
    "y.next()"
   ]
  },
  {
   "cell_type": "code",
   "execution_count": null,
   "metadata": {},
   "outputs": [],
   "source": [
    "y.next()"
   ]
  },
  {
   "cell_type": "code",
   "execution_count": null,
   "metadata": {},
   "outputs": [],
   "source": [
    "def f():\n",
    "    print \"begin f\"\n",
    "    yield 1\n",
    "    print \"after yielding 1\"\n",
    "    yield 2\n",
    "    print \"end\"\n",
    "    \n",
    "a = f()\n",
    "print a"
   ]
  },
  {
   "cell_type": "code",
   "execution_count": null,
   "metadata": {},
   "outputs": [],
   "source": [
    "a.next()"
   ]
  },
  {
   "cell_type": "code",
   "execution_count": null,
   "metadata": {},
   "outputs": [],
   "source": [
    "a.next()"
   ]
  },
  {
   "cell_type": "code",
   "execution_count": null,
   "metadata": {},
   "outputs": [],
   "source": [
    "a.next()"
   ]
  },
  {
   "cell_type": "code",
   "execution_count": null,
   "metadata": {},
   "outputs": [],
   "source": [
    "max(yrange(4))"
   ]
  },
  {
   "cell_type": "code",
   "execution_count": null,
   "metadata": {},
   "outputs": [],
   "source": [
    "sum(yrange(4))"
   ]
  },
  {
   "cell_type": "code",
   "execution_count": null,
   "metadata": {},
   "outputs": [],
   "source": [
    "def squares(numbers):\n",
    "    for n in numbers:\n",
    "        yield n*n\n",
    "        \n",
    "sum(squares(xrange(1000000)))"
   ]
  },
  {
   "cell_type": "code",
   "execution_count": null,
   "metadata": {},
   "outputs": [],
   "source": [
    "%%file a.txt\n",
    "1\n",
    "2\n",
    "3\n",
    "4\n",
    "5"
   ]
  },
  {
   "cell_type": "code",
   "execution_count": null,
   "metadata": {},
   "outputs": [],
   "source": [
    "def toint(strings):\n",
    "    for s in strings:\n",
    "        yield int(s)\n",
    "        \n",
    "sum(toint(open(\"a.txt\")))"
   ]
  },
  {
   "cell_type": "code",
   "execution_count": null,
   "metadata": {},
   "outputs": [],
   "source": [
    "sum(squares(toint(open(\"a.txt\"))))"
   ]
  },
  {
   "cell_type": "code",
   "execution_count": null,
   "metadata": {},
   "outputs": [],
   "source": [
    "# the regular way is\n",
    "result = 0\n",
    "for line in open(\"a.txt\"):\n",
    "    n = int(line)\n",
    "    result += n\n",
    "result"
   ]
  },
  {
   "cell_type": "markdown",
   "metadata": {},
   "source": [
    "**Problem:** Write a function `joiniters`, that takes 2 iterators and returns a combined iterator.\n",
    "\n",
    "    print sum(joiniters([1, 2, 3], [4, 5, 6]))\n",
    "    for a in joiniters([1, 2, 3], \"hello\"):\n",
    "        print a\n",
    "\n",
    "    print list(joiniters(iter([1, 2]), iter([3, 4])))\n"
   ]
  },
  {
   "cell_type": "markdown",
   "metadata": {},
   "source": [
    "**Problem:** Write a function `iterappend`, that takes 2 arguments, an iterator and a value and return a new iterator containing all the elements of the given iterator and the given value.\n",
    "\n",
    "    >>> list(iterappend([1, 2], 3))\n",
    "    [1, 2, 3]"
   ]
  },
  {
   "cell_type": "code",
   "execution_count": null,
   "metadata": {},
   "outputs": [],
   "source": [
    "# Solution to joiniters\n",
    "def joiniters(x, y):\n",
    "    for a in x:\n",
    "        yield a\n",
    "    for b in y:\n",
    "        yield b\n",
    "        \n",
    "# solution to iterappend\n",
    "def iterappend(x, end):\n",
    "    return joiniters(x, [end])\n",
    "\n",
    "sum(iterappend([1, 2], 3))"
   ]
  },
  {
   "cell_type": "markdown",
   "metadata": {},
   "source": [
    "## Quick Introduction to List Comprehensions"
   ]
  },
  {
   "cell_type": "code",
   "execution_count": null,
   "metadata": {},
   "outputs": [],
   "source": [
    "x = range(10)"
   ]
  },
  {
   "cell_type": "code",
   "execution_count": null,
   "metadata": {},
   "outputs": [],
   "source": [
    "[a*a for a in x]"
   ]
  },
  {
   "cell_type": "code",
   "execution_count": null,
   "metadata": {},
   "outputs": [],
   "source": [
    "[a*a for a in x if a % 2 == 0]"
   ]
  },
  {
   "cell_type": "code",
   "execution_count": null,
   "metadata": {},
   "outputs": [],
   "source": [
    "%%file square.py\n",
    "def square(x):\n",
    "    return x*x\n",
    "def cube(x):\n",
    "    return x*x*x"
   ]
  },
  {
   "cell_type": "code",
   "execution_count": null,
   "metadata": {},
   "outputs": [],
   "source": [
    "# Find all line containing function definations\n",
    "[line for line in open(\"square.py\") if line.startswith(\"def\")]"
   ]
  },
  {
   "cell_type": "code",
   "execution_count": null,
   "metadata": {},
   "outputs": [],
   "source": [
    "# fine all function names"
   ]
  },
  {
   "cell_type": "code",
   "execution_count": null,
   "metadata": {},
   "outputs": [],
   "source": [
    "[line.split(\"(\")[0][len(\"def \"):] for line in open(\"square.py\") \n",
    "                    if line.startswith(\"def\")]"
   ]
  },
  {
   "cell_type": "code",
   "execution_count": null,
   "metadata": {},
   "outputs": [],
   "source": [
    "%%file a.csv\n",
    "a,b,c\n",
    "1,2,3\n",
    "1,4,9\n",
    "1,8,27"
   ]
  },
  {
   "cell_type": "code",
   "execution_count": null,
   "metadata": {},
   "outputs": [],
   "source": [
    "[line.strip(\"\\n\").split(\",\") for line in open(\"a.csv\")]"
   ]
  },
  {
   "cell_type": "code",
   "execution_count": null,
   "metadata": {},
   "outputs": [],
   "source": [
    "def squares(values):\n",
    "    return [x*x for x in values]\n",
    "sum(squares(xrange(1000000)))"
   ]
  },
  {
   "cell_type": "markdown",
   "metadata": {},
   "source": [
    "## Generator Expressions"
   ]
  },
  {
   "cell_type": "code",
   "execution_count": null,
   "metadata": {},
   "outputs": [],
   "source": [
    "squares_list = [x*x for x in xrange(1000000)]"
   ]
  },
  {
   "cell_type": "code",
   "execution_count": null,
   "metadata": {},
   "outputs": [],
   "source": [
    "squares_gen = (x*x for x in xrange(1000000))"
   ]
  },
  {
   "cell_type": "code",
   "execution_count": null,
   "metadata": {},
   "outputs": [],
   "source": [
    "squares_gen"
   ]
  },
  {
   "cell_type": "code",
   "execution_count": null,
   "metadata": {},
   "outputs": [],
   "source": [
    "sum(squares_gen)"
   ]
  },
  {
   "cell_type": "code",
   "execution_count": null,
   "metadata": {},
   "outputs": [],
   "source": [
    "sum((x*x for x in xrange(1000000)))"
   ]
  },
  {
   "cell_type": "code",
   "execution_count": null,
   "metadata": {},
   "outputs": [],
   "source": [
    "sum(x*x for x in xrange(1000000))"
   ]
  },
  {
   "cell_type": "markdown",
   "metadata": {},
   "source": [
    "**Problem** Write function `squares` that takes a iterable over numbers as argument and returns an iterator over their squares. Use generator expressions for doing this.\n",
    "\n",
    "    print sum(squares(xrange(1000)))"
   ]
  },
  {
   "cell_type": "markdown",
   "metadata": {},
   "source": [
    "#### Example: Reading multiple files"
   ]
  },
  {
   "cell_type": "code",
   "execution_count": null,
   "metadata": {},
   "outputs": [],
   "source": [
    "def grep(pattern, fileobj):\n",
    "    return (line for line in fileobj if pattern in line)"
   ]
  },
  {
   "cell_type": "code",
   "execution_count": null,
   "metadata": {},
   "outputs": [],
   "source": [
    "def printlines(lines):\n",
    "    for line in lines:\n",
    "        print(line.strip(\"\\n\"))"
   ]
  },
  {
   "cell_type": "code",
   "execution_count": null,
   "metadata": {},
   "outputs": [],
   "source": [
    "fileobj = open(\"square.py\")\n",
    "lines = grep(\"def\", fileobj)\n",
    "printlines(lines)"
   ]
  },
  {
   "cell_type": "markdown",
   "metadata": {},
   "source": [
    "Lets try to make the program search in multiple files instead of just single one."
   ]
  },
  {
   "cell_type": "code",
   "execution_count": null,
   "metadata": {},
   "outputs": [],
   "source": [
    "%%file hello.py\n",
    "def hello(name):\n",
    "    print(\"hello\", name)"
   ]
  },
  {
   "cell_type": "code",
   "execution_count": null,
   "metadata": {},
   "outputs": [],
   "source": [
    "def joiniters(x, y):\n",
    "    for a in x: yield a\n",
    "    for b in y: yield b\n",
    "        \n",
    "fileobj1 = open(\"square.py\")\n",
    "fileobj2 = open(\"hello.py\")\n",
    "lines = joiniters(fileobj1, fileobj2)\n",
    "lines = grep(\"def\", lines)\n",
    "printlines(lines)"
   ]
  },
  {
   "cell_type": "markdown",
   "metadata": {},
   "source": [
    "Lets extract that into useful function."
   ]
  },
  {
   "cell_type": "code",
   "execution_count": null,
   "metadata": {},
   "outputs": [],
   "source": [
    "def readfiles(filenames):\n",
    "    \"\"\"Reads all files and returns iterator over lines.\"\"\"\n",
    "    for filename in filenames:\n",
    "        for line in open(filename):\n",
    "            yield line"
   ]
  },
  {
   "cell_type": "code",
   "execution_count": null,
   "metadata": {},
   "outputs": [],
   "source": [
    "lines = readfiles([\"square.py\", \"hello.py\"])\n",
    "lines = grep(\"def\", lines)\n",
    "printlines(lines)"
   ]
  },
  {
   "cell_type": "markdown",
   "metadata": {},
   "source": [
    "Lets say some files are compressed using gzip and we want our program to read them as well."
   ]
  },
  {
   "cell_type": "code",
   "execution_count": null,
   "metadata": {},
   "outputs": [],
   "source": [
    "!gzip hello.py"
   ]
  },
  {
   "cell_type": "code",
   "execution_count": null,
   "metadata": {},
   "outputs": [],
   "source": [
    "!ls *.gz"
   ]
  },
  {
   "cell_type": "code",
   "execution_count": null,
   "metadata": {},
   "outputs": [],
   "source": [
    "import gzip\n",
    "def xopen(filename):\n",
    "    if filename.endswith(\".gz\"):\n",
    "        return gzip.open(filename)\n",
    "    else:\n",
    "        return open(filename)\n",
    "    \n",
    "def readfiles(filenames):\n",
    "    \"\"\"Reads all files and returns iterator over lines.\"\"\"\n",
    "    for filename in filenames:\n",
    "        for line in xopen(filename):\n",
    "            yield line\n",
    "            \n",
    "lines = readfiles([\"square.py\", \"hello.py.gz\"])\n",
    "lines = grep(\"def\", lines)\n",
    "printlines(lines)"
   ]
  },
  {
   "cell_type": "markdown",
   "metadata": {},
   "source": [
    "**Problem:** Write a function `countiter` to count number of elements in an iterator.\n",
    "    \n",
    "    >>> countiter(xrange(100))\n",
    "    100\n",
    "    >>> countiter(x for x in xrange(100) if x % 2 == 0)\n",
    "    50"
   ]
  },
  {
   "cell_type": "markdown",
   "metadata": {},
   "source": [
    "**Problem:** Write a function to `linecount` to count number of lines in a given file.\n",
    "\n",
    "    print linecount(\"square.py\")"
   ]
  },
  {
   "cell_type": "markdown",
   "metadata": {},
   "source": [
    "**Problem:** Write a function `wordcount` to count number of words in a file.\n",
    "\n",
    "    print wordcount(\"square.py\")"
   ]
  },
  {
   "cell_type": "code",
   "execution_count": null,
   "metadata": {},
   "outputs": [],
   "source": [
    "# countiter solution\n",
    "def countiter(it):\n",
    "    count = 0\n",
    "    for x in it:\n",
    "        count += 1\n",
    "    return count\n",
    "\n",
    "def countiter(it):\n",
    "    return sum(1 for x in it)"
   ]
  },
  {
   "cell_type": "markdown",
   "metadata": {},
   "source": [
    "#### The itertools module"
   ]
  },
  {
   "cell_type": "code",
   "execution_count": null,
   "metadata": {},
   "outputs": [],
   "source": [
    "import itertools\n",
    "\n",
    "list(itertools.chain([1, 2, 3, 4], [5, 6]))"
   ]
  },
  {
   "cell_type": "code",
   "execution_count": null,
   "metadata": {},
   "outputs": [],
   "source": [
    "for a, b in itertools.izip(\"hello\", \"world\"):\n",
    "    print(a, b)"
   ]
  },
  {
   "cell_type": "markdown",
   "metadata": {},
   "source": [
    " **Problem:** Implement `izip` function."
   ]
  },
  {
   "cell_type": "code",
   "execution_count": null,
   "metadata": {},
   "outputs": [],
   "source": [
    "x = itertools.izip(\"hello\", \"world\")\n",
    "x.next()"
   ]
  },
  {
   "cell_type": "markdown",
   "metadata": {},
   "source": [
    "**Problem:** Implement a function `numbers` that generate an infinite sequence of numbers starting from 0.\n",
    "\n",
    "    >>> n = numbers()\n",
    "    >>> n.next()\n",
    "    0\n",
    "    >>> n.next()\n",
    "    1\n",
    "    >>> n.next()\n",
    "    2    "
   ]
  },
  {
   "cell_type": "code",
   "execution_count": null,
   "metadata": {},
   "outputs": [],
   "source": [
    "# solution to izip\n",
    "\n",
    "def izip(x, y):\n",
    "    x = iter(x)\n",
    "    y = iter(y)\n",
    "    while True:\n",
    "        yield x.next(), y.next()\n",
    "    \n",
    "for a, b in izip([1, 2, 3], \"hello\"):\n",
    "    print(a, b)"
   ]
  },
  {
   "cell_type": "code",
   "execution_count": null,
   "metadata": {},
   "outputs": [],
   "source": [
    "for i, c in enumerate(\"hello\"):\n",
    "    print(i, c)"
   ]
  },
  {
   "cell_type": "code",
   "execution_count": null,
   "metadata": {},
   "outputs": [],
   "source": [
    "def myenumerate(it):\n",
    "    return izip(numbers(), it)\n",
    "\n",
    "def numbers():\n",
    "    i = 0\n",
    "    while True:\n",
    "        yield i\n",
    "        i += 1\n",
    "\n",
    "for i, c in myenumerate(\"hello\"):\n",
    "    print(i, c)"
   ]
  },
  {
   "cell_type": "markdown",
   "metadata": {},
   "source": [
    "# Functional Programming"
   ]
  },
  {
   "cell_type": "markdown",
   "metadata": {},
   "source": [
    "## Recursion"
   ]
  },
  {
   "cell_type": "code",
   "execution_count": null,
   "metadata": {},
   "outputs": [],
   "source": [
    "def exp(x, n):\n",
    "    print \"exp\", x, n\n",
    "    if n == 0:\n",
    "        return 1\n",
    "    else:\n",
    "        return x * exp(x, n-1)\n",
    "    \n",
    "exp(2, 10)"
   ]
  },
  {
   "cell_type": "code",
   "execution_count": null,
   "metadata": {},
   "outputs": [],
   "source": [
    "def fast_exp(x, n):\n",
    "    print \"fast_exp\", x, n\n",
    "    if n == 0:\n",
    "        return 1\n",
    "    elif n % 2 == 0:\n",
    "        return fast_exp(x*x, n/2)\n",
    "    else:\n",
    "        return x * fast_exp(x, n-1)\n",
    "\n",
    "fast_exp(2, 100)"
   ]
  },
  {
   "cell_type": "markdown",
   "metadata": {},
   "source": [
    "**Product:** Write a function `product` to compute product of 2 numbers, using `+` and `-` operators only."
   ]
  },
  {
   "cell_type": "markdown",
   "metadata": {},
   "source": [
    "**Example: Flatten list**"
   ]
  },
  {
   "cell_type": "code",
   "execution_count": null,
   "metadata": {},
   "outputs": [],
   "source": [
    "def flatten_list(x, result=None):\n",
    "    \"\"\"Flattens a nested list.\n",
    "\n",
    "        >>> flatten_list([[1, 2], [3, 4, [5]]])\n",
    "        [1, 2, 3, 4, 5]\n",
    "    \"\"\"\n",
    "    if result is None:\n",
    "        result = []\n",
    "        \n",
    "    for a in x:\n",
    "        if isinstance(a, list):\n",
    "            flatten_list(a, result)\n",
    "        else:\n",
    "            result.append(a)\n",
    "    return result\n",
    "\n",
    "print(flatten_list([1, 2, 3]))\n",
    "print(flatten_list([[1, 2], [3, 4, [5]]]))"
   ]
  },
  {
   "cell_type": "markdown",
   "metadata": {},
   "source": [
    "**Problem:** Write a function `flatten_dict` to flatten a nested dictionary by joining the keys with `.` character.\n",
    "\n",
    "    >>> flatten_dict({'a': 1, 'b': {'x': 2, 'y': 3}, 'c': 4})\n",
    "    {'a': 1, 'b.x': 2, 'b.y': 3, 'c': 4}"
   ]
  },
  {
   "cell_type": "code",
   "execution_count": null,
   "metadata": {},
   "outputs": [],
   "source": [
    "def flatten_dict(d, result=None, prefix=None):\n",
    "    if result is None:\n",
    "        result = {}\n",
    "    \n",
    "    for k, v in d.items():\n",
    "        if prefix is None:\n",
    "            key = k\n",
    "        else:\n",
    "            key = prefix + \".\" + k\n",
    "        if isinstance(v, dict):\n",
    "            flatten_dict(v, result, prefix=key)\n",
    "        else:\n",
    "            result[key] = v\n",
    "    return result\n",
    "\n",
    "flatten_dict({'a': 1, 'b': {'x': 2, 'y': 3, 'z': {'p': 5}}, 'c': 4})"
   ]
  },
  {
   "cell_type": "markdown",
   "metadata": {},
   "source": [
    "#### Example: JSON Encode"
   ]
  },
  {
   "cell_type": "code",
   "execution_count": null,
   "metadata": {},
   "outputs": [],
   "source": [
    "def json_encode(data):\n",
    "    if isinstance(data, bool):\n",
    "        if data:\n",
    "            return \"true\"\n",
    "        else:\n",
    "            return \"false\"\n",
    "    elif isinstance(data, (int, float)):\n",
    "        return str(data)\n",
    "    elif isinstance(data, str):\n",
    "        return '\"' + data + '\"'\n",
    "    elif isinstance(data, list):\n",
    "        elements = [json_encode(d) for d in data]\n",
    "        values = \", \".join(elements)\n",
    "        return \"[\" + values + \"]\"\n",
    "        \n",
    "print(json_encode(True))\n",
    "print(json_encode(1.234))\n",
    "print(json_encode([1, 2, 3, True, \"hello\", [3, 4]]))\n",
    "print(json_encode({\"a\": [1, True], \"b\": {\"name\": \"hello\"}}))\n",
    "# {\"a\": [1, true], \"b\": {\"name\": \"hello\"}}"
   ]
  },
  {
   "cell_type": "markdown",
   "metadata": {},
   "source": [
    "### Higher Order Functions"
   ]
  },
  {
   "cell_type": "markdown",
   "metadata": {},
   "source": [
    "#### Example: Tracing Function Calls"
   ]
  },
  {
   "cell_type": "code",
   "execution_count": null,
   "metadata": {},
   "outputs": [],
   "source": [
    "\n",
    "indent = 0\n",
    "def trace(f):\n",
    "    def g(n):\n",
    "        global indent\n",
    "        print \"| \" * indent + \"|-- \" + f.__name__, n\n",
    "        indent += 1\n",
    "        value = f(n)\n",
    "        indent -= 1\n",
    "        return value\n",
    "    return g\n",
    "\n",
    "def memoize(f):\n",
    "    cache = {}\n",
    "    def g(n):\n",
    "        if n not in cache:\n",
    "            cache[n] = f(n)\n",
    "        return cache[n]\n",
    "    return g\n",
    "\n",
    "import time\n",
    "#fib = trace(fib)\n",
    "#fib = memoize(fib)\n",
    "\n",
    "@memoize\n",
    "@trace\n",
    "def fib(n):\n",
    "    if n == 0 or n == 1:\n",
    "        return 1\n",
    "    else:\n",
    "        return fib(n-1) + fib(n-2)\n",
    "\n",
    "t0 = time.time()\n",
    "print fib(5)\n",
    "t1 = time.time()\n",
    "print(\"took %f seconds\" % (t1-t0))"
   ]
  },
  {
   "cell_type": "code",
   "execution_count": null,
   "metadata": {},
   "outputs": [],
   "source": [
    "def profile(f):\n",
    "    def g():\n",
    "        ...\n",
    "    return g\n",
    "    \n",
    "def timepass():\n",
    "    for i in range(100000):\n",
    "        for j in range(100):\n",
    "            x = i*j\n",
    "\n",
    "timepass = profile(timepass)\n",
    "timepass()"
   ]
  }
 ],
 "metadata": {
  "kernelspec": {
   "display_name": "Python [default]",
   "language": "python",
   "name": "python3"
  },
  "language_info": {
   "codemirror_mode": {
    "name": "ipython",
    "version": 3
   },
   "file_extension": ".py",
   "mimetype": "text/x-python",
   "name": "python",
   "nbconvert_exporter": "python",
   "pygments_lexer": "ipython3",
   "version": "3.5.4"
  }
 },
 "nbformat": 4,
 "nbformat_minor": 1
}
