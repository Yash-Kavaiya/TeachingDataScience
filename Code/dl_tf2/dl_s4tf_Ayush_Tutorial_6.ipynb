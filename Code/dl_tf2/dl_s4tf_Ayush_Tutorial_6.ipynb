{
  "nbformat": 4,
  "nbformat_minor": 0,
  "metadata": {
    "colab": {
      "name": "S4TF Tutorial 6",
      "version": "0.3.2",
      "provenance": [],
      "collapsed_sections": []
    },
    "language_info": {
      "file_extension": ".swift",
      "mimetype": "text/x-swift",
      "name": "swift",
      "version": ""
    },
    "kernelspec": {
      "display_name": "Swift",
      "language": "swift",
      "name": "swift"
    },
    "accelerator": "GPU"
  },
  "cells": [
    {
      "cell_type": "markdown",
      "metadata": {
        "id": "ArYw4ah2WxvI",
        "colab_type": "text"
      },
      "source": [
        "##### Copyright 2019 The TensorFlow Authors. [Licensed under the Apache License, Version 2.0](#scrollTo=y_UVSRtBBsJk)."
      ]
    },
    {
      "cell_type": "code",
      "metadata": {
        "id": "bpE2F8WvXHHR",
        "colab_type": "code",
        "colab": {}
      },
      "source": [
        "#@title Licensed under the Apache License, Version 2.0 (the \"License\"); { display-mode: \"form\" }\n",
        "// Licensed under the Apache License, Version 2.0 (the \"License\");\n",
        "// you may not use this file except in compliance with the License.\n",
        "// You may obtain a copy of the License at\n",
        "//\n",
        "// https://www.apache.org/licenses/LICENSE-2.0\n",
        "//\n",
        "// Unless required by applicable law or agreed to in writing, software\n",
        "// distributed under the License is distributed on an \"AS IS\" BASIS,\n",
        "// WITHOUT WARRANTIES OR CONDITIONS OF ANY KIND, either express or implied.\n",
        "// See the License for the specific language governing permissions and\n",
        "// limitations under the License."
      ],
      "execution_count": 0,
      "outputs": []
    },
    {
      "cell_type": "markdown",
      "metadata": {
        "id": "A6S7MO1QXaVF",
        "colab_type": "text"
      },
      "source": [
        "# Dogs vs Cats Image Classification With Image Augmentation"
      ]
    },
    {
      "cell_type": "markdown",
      "metadata": {
        "id": "qI_zO-WyXbHT",
        "colab_type": "text"
      },
      "source": [
        "<table class=\"tfo-notebook-buttons\" align=\"left\">\n",
        "  <td>\n",
        "    <a target=\"_blank\" href=\"https://colab.research.google.com/drive/148B0g-zaefmDTWxbEk1OiKGCEPojWwgz\"><img src=\"https://www.tensorflow.org/images/colab_logo_32px.png\" />Run in Google Colab</a>\n",
        "  </td>\n",
        "  <td>\n",
        "    <a target=\"_blank\" href=\"Link to be updated\"><img src=\"https://www.tensorflow.org/images/GitHub-Mark-32px.png\" />GitHub link to be updated accordingly</a>\n",
        "  </td>\n",
        "</table>"
      ]
    },
    {
      "cell_type": "markdown",
      "metadata": {
        "id": "0gMKDv9AXtw4",
        "colab_type": "text"
      },
      "source": [
        "\n",
        "\n",
        "In this tutorial, we will discuss how to classify images into pictures of cats or pictures of dogs. We'll build an image classifier using `Layer` and load data by creating training and validation tensors of images as well as their corresponding labels.\n",
        "\n",
        "## Specific concepts that will be covered:\n",
        "In the process, we will build practical experience and develop intuition around the following concepts:\n",
        "\n",
        "* Building _data input pipelines_  — How can we efficiently work with data on disk to interface with our model? \n",
        "* _Overfitting_ - what is it, how to identify it?\n",
        "* _Data Augmentation_ and _Dropout_ -  Key techniques to fight overfitting in computer vision tasks that we will incorporate into our data pipeline and image classifier model. \n",
        "\n",
        "## We will follow the general machine learning workflow:\n",
        "\n",
        "1. Examine and understand data\n",
        "2. Build an input pipeline \n",
        "3. Build our model\n",
        "4. Train our model\n",
        "5. Test our model\n",
        "6. Improve our model/Repeat the process\n",
        "\n",
        "<hr>\n",
        "\n",
        "\n",
        "**Before you begin**\n",
        "\n",
        "Before running the code in this notebook, reset the runtime by going to **Runtime -> Reset all runtimes** in the menu above. If you have been working through several notebooks, this will help you avoid reaching Colab's memory limits.\n",
        "\n"
      ]
    },
    {
      "cell_type": "markdown",
      "metadata": {
        "id": "3feKokVXX72h",
        "colab_type": "text"
      },
      "source": [
        "# Importing packages"
      ]
    },
    {
      "cell_type": "markdown",
      "metadata": {
        "id": "ELd6snqWX8PB",
        "colab_type": "text"
      },
      "source": [
        "Let's start by importing required packages:\n",
        "\n",
        "*   glob — to read files and directory structure.\n",
        "*   numpy — for some matrix math outside of TensorFlow.\n",
        "*   matplotlib.pyplot — to plot the graph and display images in our training and validation data.\n",
        "*  PIL — to view images."
      ]
    },
    {
      "cell_type": "code",
      "metadata": {
        "id": "KaGgOzPQbGj3",
        "colab_type": "code",
        "colab": {}
      },
      "source": [
        "import TensorFlow\n",
        "import Foundation\n",
        "import Python\n",
        "\n",
        "%include \"EnableIPythonDisplay.swift\"\n",
        "IPythonDisplay.shell.enable_matplotlib(\"inline\")\n",
        "let np = Python.import(\"numpy\")  // Make numpy available using np.\n",
        "let subprocess = Python.import(\"subprocess\")\n",
        "let plt = Python.import(\"matplotlib.pyplot\")\n",
        "let os = Python.import(\"os\")\n",
        "let glob = Python.import(\"glob\")\n",
        "let pil = Python.import(\"PIL\")\n",
        "let pilImageOps = Python.import(\"PIL.ImageOps\")\n",
        "let random = Python.import(\"random\")\n",
        "let sk = Python.import(\"skimage\")"
      ],
      "execution_count": 0,
      "outputs": []
    },
    {
      "cell_type": "markdown",
      "metadata": {
        "id": "VEIK0Qr6YpOw",
        "colab_type": "text"
      },
      "source": [
        "To build our image classifier, we begin by downloading the dataset. The dataset we are using is a filtered version of the <a href=\"https://www.kaggle.com/c/dogs-vs-cats/data\" target=\"_blank\">Dogs vs. Cats</a> dataset from Kaggle (ultimately, this dataset is provided by Microsoft Research).\n",
        "\n",
        "In this Colab, we will make use of the `glob` and  `subprocess` module which will read data from disk. We therefore need to directly download *Dogs vs. Cats* from a URL and unzip it to the Colab filesystem."
      ]
    },
    {
      "cell_type": "code",
      "metadata": {
        "id": "Lf_vvLoESGWf",
        "colab_type": "code",
        "colab": {}
      },
      "source": [
        "public extension String {\n",
        "    @discardableResult\n",
        "    func shell(_ args: String...) -> String {\n",
        "        let (task, pipe) = (Process(), Pipe())\n",
        "        task.executableURL = URL(fileURLWithPath: self)\n",
        "        (task.arguments, task.standardOutput) = (args, pipe)\n",
        "        do    { try task.run() }\n",
        "        catch { print(\"Unexpected error: \\(error).\") }\n",
        "\n",
        "        let data = pipe.fileHandleForReading.readDataToEndOfFile()\n",
        "        return String(data: data, encoding: String.Encoding.utf8) ?? \"\"\n",
        "    }\n",
        "}"
      ],
      "execution_count": 0,
      "outputs": []
    },
    {
      "cell_type": "code",
      "metadata": {
        "id": "L7SwG2Ny9JHd",
        "colab_type": "code",
        "outputId": "4b96310c-4188-4d0a-df8b-01eeacabe279",
        "colab": {
          "base_uri": "https://localhost:8080/",
          "height": 68
        }
      },
      "source": [
        "print(\"/bin/ls\".shell(\"-lh\"))"
      ],
      "execution_count": 0,
      "outputs": [
        {
          "output_type": "stream",
          "text": [
            "total 4.0K\r\n",
            "drwxr-xr-x 1 root root 4.0K Aug  2 16:06 sample_data\r\n",
            "\r\n"
          ],
          "name": "stdout"
        }
      ]
    },
    {
      "cell_type": "markdown",
      "metadata": {
        "id": "AZT6cUMweBCr",
        "colab_type": "text"
      },
      "source": [
        "We'll now download and unzip the dataset using the `subprocess` library via Python interoperability."
      ]
    },
    {
      "cell_type": "code",
      "metadata": {
        "id": "TpyLNoo3RDIQ",
        "colab_type": "code",
        "outputId": "9a3e2e1b-cb03-4ff5-d1c5-6f8065406bcd",
        "colab": {
          "base_uri": "https://localhost:8080/",
          "height": 274
        }
      },
      "source": [
        "let command = \"wget -nv -O- https://github.com/Ayush517/S4TF-Tutorials/raw/master/cats_and_dogs_filtered.tar.gz | tar xzf - -C .\"\n",
        "subprocess.call(command, shell: true)"
      ],
      "execution_count": 0,
      "outputs": [
        {
          "output_type": "stream",
          "text": [
            "2019-08-08 01:32:41 URL:https://raw.githubusercontent.com/Ayush517/S4TF-Tutorials/master/cats_and_dogs_filtered.tar.gz [67304034/67304034] -> \"-\" [1]\r\n"
          ],
          "name": "stdout"
        },
        {
          "output_type": "execute_result",
          "data": {
            "text/plain": [
              "0\n"
            ]
          },
          "metadata": {
            "tags": []
          },
          "execution_count": 5
        }
      ]
    },
    {
      "cell_type": "markdown",
      "metadata": {
        "id": "eM2tdEkVZGux",
        "colab_type": "text"
      },
      "source": [
        "The dataset we have downloaded has the following directory structure:\n",
        "\n",
        "<pre style=\"font-size: 10.0pt; font-family: Arial; line-height: 2; letter-spacing: 1.0pt;\" >\n",
        "<b>cats_and_dogs_filtered</b>\n",
        "|__ <b>train</b>\n",
        "    |______ <b>cats</b>: [cat.0.jpg, cat.1.jpg, cat.2.jpg ...]\n",
        "    |______ <b>dogs</b>: [dog.0.jpg, dog.1.jpg, dog.2.jpg ...]\n",
        "|__ <b>validation</b>\n",
        "    |______ <b>cats</b>: [cat.2000.jpg, cat.2001.jpg, cat.2002.jpg ...]\n",
        "    |______ <b>dogs</b>: [dog.2000.jpg, dog.2001.jpg, dog.2002.jpg ...]\n",
        "</pre>\n",
        "\n",
        "We can list the directories with the following terminal command:"
      ]
    },
    {
      "cell_type": "code",
      "metadata": {
        "id": "tvl9Lnce8H_2",
        "colab_type": "code",
        "outputId": "768257a1-820d-4b3a-d1a6-807001ee0be3",
        "colab": {
          "base_uri": "https://localhost:8080/",
          "height": 85
        }
      },
      "source": [
        "print(\"/bin/ls/\".shell(\"-lh\"))"
      ],
      "execution_count": 0,
      "outputs": [
        {
          "output_type": "stream",
          "text": [
            "total 8.0K\r\n",
            "drwxr-x--- 4  501 staff 4.0K Sep 23  2016 cats_and_dogs_filtered\r\n",
            "drwxr-xr-x 1 root root  4.0K Aug  2 16:06 sample_data\r\n",
            "\r\n"
          ],
          "name": "stdout"
        }
      ]
    },
    {
      "cell_type": "markdown",
      "metadata": {
        "id": "yIEL_bnxZN6X",
        "colab_type": "text"
      },
      "source": [
        "### Understanding our data"
      ]
    },
    {
      "cell_type": "markdown",
      "metadata": {
        "id": "dqxHwJADZKVw",
        "colab_type": "text"
      },
      "source": [
        "We'll now assign variables with the proper file path for the training and validation sets."
      ]
    },
    {
      "cell_type": "code",
      "metadata": {
        "id": "XXJjUDBOTNf4",
        "colab_type": "code",
        "colab": {}
      },
      "source": [
        "let catTrainList = glob.glob(\"cats_and_dogs_filtered/train/cats/*.jpg\")\n",
        "let dogTrainList = glob.glob(\"cats_and_dogs_filtered/train/dogs/*.jpg\")\n",
        "let trainList = glob.glob(\"cats_and_dogs_filtered/train/**/*.jpg\")\n",
        "\n",
        "let catTestList  = glob.glob(\"cats_and_dogs_filtered/validation/cats/*.jpg\")\n",
        "let dogTestList  = glob.glob(\"cats_and_dogs_filtered/validation/dogs/*.jpg\")\n",
        "let testList  = glob.glob(\"cats_and_dogs_filtered/validation/**/*.jpg\")\n",
        "\n",
        "for i in 0 ..< 5 {\n",
        "    np.random.shuffle(trainList)\n",
        "    np.random.shuffle(testList)\n",
        "}"
      ],
      "execution_count": 0,
      "outputs": []
    },
    {
      "cell_type": "markdown",
      "metadata": {
        "id": "0v-OItU3ZOOO",
        "colab_type": "text"
      },
      "source": [
        "Let's look at how many cats and dogs images we have in our training and validation directory:"
      ]
    },
    {
      "cell_type": "code",
      "metadata": {
        "id": "9pZdnDMKiybF",
        "colab_type": "code",
        "outputId": "467a97a5-3ffe-44b5-f65d-4ed3cb588898",
        "colab": {
          "base_uri": "https://localhost:8080/",
          "height": 153
        }
      },
      "source": [
        "print(\"total training cat images: \\(catTrainList.count)\")\n",
        "print(\"total training dog images: \\(dogTrainList.count)\")\n",
        "\n",
        "print(\"total validation cat images: \\(catTestList.count)\")\n",
        "print(\"total validation dog images: \\(dogTestList.count)\")\n",
        "print(\"--\")\n",
        "print(\"Total training images: \\(trainList.count)\")\n",
        "print(\"Total validation images: \\(testList.count)\")\n",
        "\n",
        "print(Python.type(trainList))"
      ],
      "execution_count": 0,
      "outputs": [
        {
          "output_type": "stream",
          "text": [
            "total training cat images: 1000\r\n",
            "total training dog images: 1000\r\n",
            "total validation cat images: 500\r\n",
            "total validation dog images: 500\r\n",
            "--\r\n",
            "Total training images: 2000\r\n",
            "Total validation images: 1000\r\n",
            "<class 'list'>\r\n"
          ],
          "name": "stdout"
        }
      ]
    },
    {
      "cell_type": "markdown",
      "metadata": {
        "id": "B1RxO8dzdF2g",
        "colab_type": "text"
      },
      "source": [
        "### Visualizing Training images"
      ]
    },
    {
      "cell_type": "markdown",
      "metadata": {
        "id": "CFz4nx1LdGTZ",
        "colab_type": "text"
      },
      "source": [
        "We can visualize our training images by creating functions to plot images through their paths or tensors, and then plotting a few of them."
      ]
    },
    {
      "cell_type": "code",
      "metadata": {
        "id": "fCKdKItfmlep",
        "colab_type": "code",
        "colab": {}
      },
      "source": [
        "func plotImages(_ image: Tensor<Float>) {\n",
        "    let numpyImage = image.reshaped(to: [150, 150, 3]).makeNumpyArray()\n",
        "    plt.imshow(numpyImage)\n",
        "    plt.show()\n",
        "}\n",
        "\n",
        "func plotImages(fromPath path: String) {\n",
        "    let img = pil.Image.open(path)\n",
        "    let image = np.array(img) * (1.0 / 255)\n",
        "    plt.imshow(image)\n",
        "    plt.show()\n",
        "}"
      ],
      "execution_count": 0,
      "outputs": []
    },
    {
      "cell_type": "markdown",
      "metadata": {
        "id": "sZRtJODkfxgf",
        "colab_type": "text"
      },
      "source": [
        "# Data Augmentation"
      ]
    },
    {
      "cell_type": "markdown",
      "metadata": {
        "id": "BpIp5hzAfx9P",
        "colab_type": "text"
      },
      "source": [
        "Overfitting often occurs when we have a small number of training examples. One way to fix this problem is to augment our dataset so that it has sufficient number and variety of training examples. Data augmentation takes the approach of generating more training data from existing training samples, by augmenting the samples through random transformations that yield believable-looking images. The goal is that at training time, your model will never see the exact same picture twice. This exposes the model to more aspects of the data, allowing it to generalize better.\n",
        "\n",
        "In Swift for TensorFlow we can implement this using the different Python libraries through Python interoperability. We can simply apply different transformations we would want to our dataset images and they will be applied during our training process."
      ]
    },
    {
      "cell_type": "markdown",
      "metadata": {
        "id": "CnMOZA_BgREI",
        "colab_type": "text"
      },
      "source": [
        "We perform the following image augmentation techniques randomly on an image:\n",
        "\n",
        "* Rotating the image\n",
        "* Transposing\n",
        "* Cropping\n",
        "* Flipping the image horizontally\n",
        "* Adding border to image\n",
        "* Adding noise"
      ]
    },
    {
      "cell_type": "code",
      "metadata": {
        "id": "QE-K4a2Ql8tx",
        "colab_type": "code",
        "colab": {}
      },
      "source": [
        "func augmentedImage(path: String) -> Tensor<Float> {\n",
        "    \n",
        "    var img = pil.Image.open(path)\n",
        "    \n",
        "    if random.random() < 0.5 {\n",
        "        img = img.rotate(45) // Rotate 45 degrees.\n",
        "    }\n",
        "    \n",
        "    if random.random() < 0.5 {\n",
        "        img = img.transpose(pil.Image.TRANSPOSE) // Transpose.\n",
        "    }\n",
        "    \n",
        "    if random.random() < 0.5 {\n",
        "        let h = Float(img.size[0])! / 4\n",
        "        let w = Float(img.size[1])! / 4\n",
        "        let cropBorder = Int(Python.min(h, w))\n",
        "        img = pilImageOps.crop(img,  cropBorder) // Crop by half of shorter sides.\n",
        "    }\n",
        "    \n",
        "    if random.random() < 0.5 {\n",
        "        img = img.transpose(pil.Image.FLIP_LEFT_RIGHT) // Flip.\n",
        "    }\n",
        "    \n",
        "    if random.random() < 0.5 {\n",
        "        let h = Float(img.size[0])! / 10\n",
        "        let w = Float(img.size[1])! / 10\n",
        "        let borderSize = Int(Python.min(h, w))\n",
        "        img = pilImageOps.expand(img, borderSize) // Add border.\n",
        "    }\n",
        "    \n",
        "    var image = np.array(img, dtype: np.float32) * (1.0 / 255)\n",
        "    \n",
        "    if random.random() < 0.5 {\n",
        "        image = sk.util.random_noise(image) // Add noise.\n",
        "    }\n",
        "    \n",
        "    image = np.array(image, dtype: np.float32)\n",
        "    \n",
        "    let imageTensor = Tensor<Float>(numpy: image)!\n",
        "\n",
        "    return imageTensor\n",
        "}"
      ],
      "execution_count": 0,
      "outputs": []
    },
    {
      "cell_type": "markdown",
      "metadata": {
        "id": "vl6vw_AcZd54",
        "colab_type": "text"
      },
      "source": [
        "# Data Preparation "
      ]
    },
    {
      "cell_type": "markdown",
      "metadata": {
        "id": "IQ3OILUgZeqb",
        "colab_type": "text"
      },
      "source": [
        "Images must be formatted into appropriately pre-processed floating point tensors before being fed into the network. The steps involved in preparing these images are:\n",
        "\n",
        "1. Read images from the disk.\n",
        "2. Decode the contents of these images into their RGB bytes.\n",
        "3. Convert them into floating point tensors.\n",
        "4. Rescale the tensors from values between 0 and 255 to values between 0 and 1, to better match the range expected by the initial neural network weights.\n",
        "5. Apply or don't apply image augmentation techniques, based on the type of data.\n",
        "\n",
        "We have done this in the following code."
      ]
    },
    {
      "cell_type": "markdown",
      "metadata": {
        "id": "0FyESvV0ZjhJ",
        "colab_type": "text"
      },
      "source": [
        "The `resizedImage(fromPath:augmented:)` function takes 2 inputs:\n",
        "1. Image path as input.\n",
        "2. Whether or not to apply image augmentations.\n",
        "\n",
        "The `images(fromList:imageCount:augmented:)` function takes 3 inputs :\n",
        "\n",
        "1. List of paths.\n",
        "\n",
        "2. Number of tensors to be produced in the output tensor as input.\n",
        "\n",
        "3. Whether or not to apply image augmentations."
      ]
    },
    {
      "cell_type": "code",
      "metadata": {
        "id": "3JihjHwPi2Ch",
        "colab_type": "code",
        "colab": {}
      },
      "source": [
        "func resizedImage(fromPath: String, augmented: Bool) -> (Tensor<Float>, Int32) {\n",
        "    var img = pil.Image.open(fromPath)\n",
        "    var image = np.array(img, dtype: np.float32) * (1.0 / 255)\n",
        "    var imageTensor = Tensor<Float>(numpy: image)!\n",
        "    \n",
        "    if augmented {\n",
        "        imageTensor = augmentedImage(path: fromPath)\n",
        "    }\n",
        "    \n",
        "    imageTensor = imageTensor.expandingShape(at: 0)\n",
        "    imageTensor = Raw.resizeArea(images: imageTensor , size: [150, 150])\n",
        "    \n",
        "    let label: Int32 = fromPath.contains(\"dog.\") ? 0 : 1\n",
        "    \n",
        "    return (imageTensor, label)\n",
        "}\n",
        "\n",
        "func images(fromList: PythonObject, imageCount: Int, augmented: Bool) -> (image: Tensor<Float>, label: Tensor<Int32>) {\n",
        "    let batchFiles = fromList[0..<imageCount]\n",
        "    var labels: [Int32] = []\n",
        "    var x: Tensor<Float>\n",
        "    var y: Tensor<Int32>\n",
        "\n",
        "    // Load first image.\n",
        "    let path = String(batchFiles[0]) ?? \"\"\n",
        "    let data = resizedImage(fromPath: path, augmented: augmented)\n",
        "    x = data.0 \n",
        "    labels.append(data.1)\n",
        "\n",
        "    // Load rest of the images.\n",
        "    var numberOfFilesDone = 1\n",
        "    for file in batchFiles[1..<imageCount] {\n",
        "        let path = String(file) ?? \"\"\n",
        "        let data = resizedImage(fromPath: path, augmented: augmented)\n",
        "        let tensor = data.0\n",
        "        labels.append(data.1)\n",
        "        x = Tensor(concatenating: [x, tensor], alongAxis: 0)\n",
        "    }\n",
        "    y = Tensor<Int32>(labels)\n",
        "    return (x, y)\n",
        "}"
      ],
      "execution_count": 0,
      "outputs": []
    },
    {
      "cell_type": "markdown",
      "metadata": {
        "id": "7m427NXlc7Xw",
        "colab_type": "text"
      },
      "source": [
        "After defining our generators for images and labels, we will load those images and labels in tensor arrays, thereby creating our `testTensors`."
      ]
    },
    {
      "cell_type": "code",
      "metadata": {
        "id": "Xd8WDjGSBZYb",
        "colab_type": "code",
        "outputId": "34c04a8b-1a0e-487c-f630-51a3a42ff805",
        "colab": {
          "base_uri": "https://localhost:8080/",
          "height": 51
        }
      },
      "source": [
        "let testTensors = images(fromList: testList, imageCount: testList.count, augmented: false)\n",
        "let testImageTensors = testTensors.0\n",
        "let testLabelTensors = testTensors.1\n",
        "print(testImageTensors.shape)\n",
        "print(testLabelTensors.shape)"
      ],
      "execution_count": 0,
      "outputs": [
        {
          "output_type": "stream",
          "text": [
            "[1000, 150, 150, 3]\r\n",
            "[1000]\r\n"
          ],
          "name": "stdout"
        }
      ]
    },
    {
      "cell_type": "markdown",
      "metadata": {
        "id": "oxjqzqP3doZn",
        "colab_type": "text"
      },
      "source": [
        "# Model Creation"
      ]
    },
    {
      "cell_type": "markdown",
      "metadata": {
        "id": "Ye4j5sK9douT",
        "colab_type": "text"
      },
      "source": [
        "The model consists of four convolution blocks with a max pool layer in each of them.\n",
        "\n",
        "Before the final Dense layers, we're also applying a Dropout probability of 0.5. This mean that 50% of the values coming into the Dropout layer will be set to zero. This helps to prevent overfitting.\n",
        "\n",
        "Then we have a fully connected layer with 512 units, with a `relu` activation function. The model will output class probabilities for two classes — dogs and cats — using `softmax`. "
      ]
    },
    {
      "cell_type": "code",
      "metadata": {
        "id": "QmaeXuZQUx2k",
        "colab_type": "code",
        "colab": {}
      },
      "source": [
        "struct Classifier: Layer {\n",
        "    typealias Input = Tensor<Float>\n",
        "    typealias Output = Tensor<Float>\n",
        "\n",
        "    var conv1a = Conv2D<Float>(filterShape: (3, 3, 3, 32), activation: relu)\n",
        "    var pool1 = MaxPool2D<Float>(poolSize: (2, 2), strides: (2, 2))\n",
        "    \n",
        "    var conv1b = Conv2D<Float>(filterShape: (3, 3, 32, 64), activation: relu)\n",
        "    var pool2 = MaxPool2D<Float>(poolSize: (2, 2), strides: (2, 2))\n",
        "    \n",
        "    var conv1c = Conv2D<Float>(filterShape: (3, 3, 64, 128), activation: relu)\n",
        "    var pool3 = MaxPool2D<Float>(poolSize: (2, 2), strides: (2, 2))\n",
        "    \n",
        "    var conv1d = Conv2D<Float>(filterShape: (3, 3, 128, 128), activation: relu)\n",
        "    var pool4 = MaxPool2D<Float>(poolSize: (2, 2), strides: (2, 2))\n",
        "    \n",
        "    var dropout1a = Dropout<Float>(probability: 0.5)\n",
        "    var flatten = Flatten<Float>()\n",
        "    var layer1a = Dense<Float>(inputSize: 6272, outputSize: 512, activation: relu)\n",
        "    var layer1b = Dense<Float>(inputSize: 512, outputSize: 2, activation: softmax)\n",
        "\n",
        "    @differentiable\n",
        "    public func callAsFunction(_ input: Input) -> Output {\n",
        "        var convolved1 = input.sequenced(through: conv1a, pool1)\n",
        "        var convolved2 = convolved1.sequenced(through: conv1b, pool2)\n",
        "        var convolved3 = convolved2.sequenced(through: conv1c, pool3)\n",
        "        var convolved4 = convolved3.sequenced(through: conv1d, pool4)\n",
        "        return convolved4.sequenced(through: dropout1a, flatten, layer1a, layer1b)\n",
        "    }\n",
        "}"
      ],
      "execution_count": 0,
      "outputs": []
    },
    {
      "cell_type": "markdown",
      "metadata": {
        "id": "mE4Fv2cwdsWz",
        "colab_type": "text"
      },
      "source": [
        "### Compile the model\n",
        "\n",
        "As usual, we will use the `adam` optimizer. Since we output a softmax categorization, we'll use `softmaxCrossEntropy` as the loss function. We would also like to look at the training and validation accuracy on each epoch as we train our network, so we are passing in the metrics argument."
      ]
    },
    {
      "cell_type": "code",
      "metadata": {
        "id": "nsPxQTvwYmy8",
        "colab_type": "code",
        "outputId": "4aed1df7-2260-476d-d894-9c23fbf4899d",
        "colab": {
          "base_uri": "https://localhost:8080/",
          "height": 85
        }
      },
      "source": [
        "let tensor = Tensor<Float>(zeros: [1, 150, 150, 3])\n",
        "var classifier = Classifier()\n",
        "var optimizer = Adam(for: classifier)\n",
        "classifier(tensor).shape"
      ],
      "execution_count": 0,
      "outputs": [
        {
          "output_type": "execute_result",
          "data": {
            "text/plain": [
              "▿ [1, 2]\n",
              "  ▿ dimensions : 2 elements\n",
              "    - 0 : 1\n",
              "    - 1 : 2\n"
            ]
          },
          "metadata": {
            "tags": []
          },
          "execution_count": 14
        }
      ]
    },
    {
      "cell_type": "code",
      "metadata": {
        "id": "fikBuWi3_a9z",
        "colab_type": "code",
        "colab": {}
      },
      "source": [
        "let epochCount = 100\n",
        "let batchSize = 100\n",
        "\n",
        "// Extract a batch of size batchSize.\n",
        "func minibatch<Scalar>(in x: Tensor<Scalar>, at index: Int) -> Tensor<Scalar> {\n",
        "    let start = index * batchSize\n",
        "    return x[start..<start + batchSize]\n",
        "}"
      ],
      "execution_count": 0,
      "outputs": []
    },
    {
      "cell_type": "code",
      "metadata": {
        "id": "g6oZ-9RKjGM2",
        "colab_type": "code",
        "colab": {}
      },
      "source": [
        "var trainingAccuracy: [Float] = []\n",
        "var validationAccuracy: [Float] = []\n",
        "var trainingLoss: [Float] = []\n",
        "var validationLoss: [Float] = []\n",
        "var epochsRange: [Int] = []"
      ],
      "execution_count": 0,
      "outputs": []
    },
    {
      "cell_type": "markdown",
      "metadata": {
        "id": "fq7RgKWbeaGZ",
        "colab_type": "text"
      },
      "source": [
        "### Train the model"
      ]
    },
    {
      "cell_type": "markdown",
      "metadata": {
        "id": "F2xgoa_Aeai6",
        "colab_type": "text"
      },
      "source": [
        "It's time to train our network. \n",
        "\n",
        " We need to apply the random image augmentations every time an image is accessed, so we recreate `trainTensors` in every epoch."
      ]
    },
    {
      "cell_type": "code",
      "metadata": {
        "id": "lJaSgWCgs90t",
        "colab_type": "code",
        "outputId": "16001e2c-8cc9-42af-ec44-237a341c9026",
        "colab": {
          "base_uri": "https://localhost:8080/",
          "height": 1000
        }
      },
      "source": [
        "print(\"Beginning training...\")\n",
        "\n",
        "struct Statistics {\n",
        "    var correctGuessCount: Int = 0\n",
        "    var totalGuessCount: Int = 0\n",
        "    var totalLoss: Float = 0\n",
        "}\n",
        "\n",
        "// The training loop.\n",
        "for epoch in 1...epochCount {\n",
        "    epochsRange.append(epoch)\n",
        "    var trainStats = Statistics()\n",
        "    var testStats = Statistics()\n",
        "    print(\"Creating Training Dataset for Epoch \\(epoch)\")\n",
        "    let trainTensors = images(fromList: trainList, imageCount: trainList.count, augmented: true)\n",
        "    let trainImageTensors = trainTensors.0\n",
        "    let trainLabelTensors = trainTensors.1\n",
        "    print(\"Dataset Creation Completed\")\n",
        "    \n",
        "    Context.local.learningPhase = .training\n",
        "    for i in 0..<Int(trainList.count) / batchSize {\n",
        "        let x = minibatch(in: trainImageTensors, at: i)\n",
        "        let y = minibatch(in: trainLabelTensors, at: i)\n",
        "        // Compute the gradient with respect to the model.\n",
        "        let 𝛁model = classifier.gradient { classifier -> Tensor<Float> in\n",
        "            let ŷ = classifier(x)\n",
        "            let correctPredictions = ŷ.argmax(squeezingAxis: 1) .== y\n",
        "            trainStats.correctGuessCount += Int(\n",
        "              Tensor<Int32>(correctPredictions).sum().scalarized())\n",
        "            trainStats.totalGuessCount += batchSize\n",
        "            let loss = softmaxCrossEntropy(logits: ŷ, labels: y)\n",
        "            trainStats.totalLoss += loss.scalarized()\n",
        "            return loss\n",
        "        }\n",
        "        // Update the model's differentiable variables along the gradient vector.\n",
        "        optimizer.update(&classifier.allDifferentiableVariables, along: 𝛁model)\n",
        "    }\n",
        "\n",
        "    Context.local.learningPhase = .inference\n",
        "    for i in 0..<Int(testList.count) / batchSize {\n",
        "        let x = minibatch(in: testImageTensors, at: i)\n",
        "        let y = minibatch(in: testLabelTensors, at: i)\n",
        "        // Compute loss on test set.\n",
        "        let ŷ = classifier(x)\n",
        "        let correctPredictions = ŷ.argmax(squeezingAxis: 1) .== y\n",
        "        testStats.correctGuessCount += Int(Tensor<Int32>(correctPredictions).sum().scalarized())\n",
        "        testStats.totalGuessCount += batchSize\n",
        "        let loss = softmaxCrossEntropy(logits: ŷ, labels: y)\n",
        "        testStats.totalLoss += loss.scalarized()\n",
        "    }\n",
        "    \n",
        "    let trainAccuracy = Float(trainStats.correctGuessCount) / Float(trainStats.totalGuessCount)\n",
        "    let testAccuracy = Float(testStats.correctGuessCount) / Float(testStats.totalGuessCount)\n",
        "    \n",
        "    trainingAccuracy.append(trainAccuracy)\n",
        "    validationAccuracy.append(testAccuracy)\n",
        "    trainingLoss.append(trainStats.totalLoss)\n",
        "    validationLoss.append(testStats.totalLoss)\n",
        "    \n",
        "    print(\"\"\"\n",
        "          [Epoch \\(epoch)] \\\n",
        "          Training Loss: \\(trainStats.totalLoss), \\\n",
        "          Training Accuracy: \\(trainStats.correctGuessCount)/\\(trainStats.totalGuessCount) \\ \n",
        "          (\\(trainAccuracy)), \\\n",
        "          Test Loss: \\(testStats.totalLoss), \\\n",
        "          Test Accuracy: \\(testStats.correctGuessCount)/\\(testStats.totalGuessCount) \\\n",
        "          (\\(testAccuracy))\n",
        "          \"\"\")\n",
        "}"
      ],
      "execution_count": 0,
      "outputs": [
        {
          "output_type": "stream",
          "text": [
            "Beginning training...\r\n",
            "Creating Training Dataset for Epoch 1\n",
            "Dataset Creation Completed\n",
            "[Epoch 1] Training Loss: 14.008552, Training Accuracy: 1003/2000 (0.5015), Test Loss: 6.9179916, Test Accuracy: 500/1000 (0.5)\n",
            "Creating Training Dataset for Epoch 2\n",
            "Dataset Creation Completed\n",
            "[Epoch 2] Training Loss: 13.857941, Training Accuracy: 1023/2000 (0.5115), Test Loss: 6.9059653, Test Accuracy: 500/1000 (0.5)\n",
            "Creating Training Dataset for Epoch 3\n",
            "Dataset Creation Completed\n",
            "[Epoch 3] Training Loss: 13.827478, Training Accuracy: 1023/2000 (0.5115), Test Loss: 6.8789077, Test Accuracy: 543/1000 (0.543)\n",
            "Creating Training Dataset for Epoch 4\n",
            "Dataset Creation Completed\n",
            "[Epoch 4] Training Loss: 13.689729, Training Accuracy: 1096/2000 (0.548), Test Loss: 6.7599926, Test Accuracy: 595/1000 (0.595)\n",
            "Creating Training Dataset for Epoch 5\n",
            "Dataset Creation Completed\n",
            "[Epoch 5] Training Loss: 13.692575, Training Accuracy: 1121/2000 (0.5605), Test Loss: 6.723502, Test Accuracy: 579/1000 (0.579)\n",
            "Creating Training Dataset for Epoch 6\n",
            "Dataset Creation Completed\n",
            "[Epoch 6] Training Loss: 13.357079, Training Accuracy: 1205/2000 (0.6025), Test Loss: 6.6600685, Test Accuracy: 596/1000 (0.596)\n",
            "Creating Training Dataset for Epoch 7\n",
            "Dataset Creation Completed\n",
            "[Epoch 7] Training Loss: 13.309489, Training Accuracy: 1184/2000 (0.592), Test Loss: 6.6477146, Test Accuracy: 607/1000 (0.607)\n",
            "Creating Training Dataset for Epoch 8\n",
            "Dataset Creation Completed\n",
            "[Epoch 8] Training Loss: 13.23372, Training Accuracy: 1211/2000 (0.6055), Test Loss: 6.432617, Test Accuracy: 637/1000 (0.637)\n",
            "Creating Training Dataset for Epoch 9\n",
            "Dataset Creation Completed\n",
            "[Epoch 9] Training Loss: 13.215973, Training Accuracy: 1245/2000 (0.6225), Test Loss: 6.481058, Test Accuracy: 627/1000 (0.627)\n",
            "Creating Training Dataset for Epoch 10\n",
            "Dataset Creation Completed\n",
            "[Epoch 10] Training Loss: 12.996811, Training Accuracy: 1246/2000 (0.623), Test Loss: 6.3228807, Test Accuracy: 651/1000 (0.651)\n",
            "Creating Training Dataset for Epoch 11\n",
            "Dataset Creation Completed\n",
            "[Epoch 11] Training Loss: 12.5879965, Training Accuracy: 1298/2000 (0.649), Test Loss: 6.1876836, Test Accuracy: 676/1000 (0.676)\n",
            "Creating Training Dataset for Epoch 12\n",
            "Dataset Creation Completed\n",
            "[Epoch 12] Training Loss: 12.679949, Training Accuracy: 1304/2000 (0.652), Test Loss: 6.3504677, Test Accuracy: 635/1000 (0.635)\n",
            "Creating Training Dataset for Epoch 13\n",
            "Dataset Creation Completed\n",
            "[Epoch 13] Training Loss: 12.596915, Training Accuracy: 1321/2000 (0.6605), Test Loss: 6.3170156, Test Accuracy: 653/1000 (0.653)\n",
            "Creating Training Dataset for Epoch 14\n",
            "Dataset Creation Completed\n",
            "[Epoch 14] Training Loss: 12.699471, Training Accuracy: 1283/2000 (0.6415), Test Loss: 6.1711984, Test Accuracy: 665/1000 (0.665)\n",
            "Creating Training Dataset for Epoch 15\n",
            "Dataset Creation Completed\n",
            "[Epoch 15] Training Loss: 12.486288, Training Accuracy: 1299/2000 (0.6495), Test Loss: 6.082092, Test Accuracy: 674/1000 (0.674)\n",
            "Creating Training Dataset for Epoch 16\n",
            "Dataset Creation Completed\n",
            "[Epoch 16] Training Loss: 12.4508095, Training Accuracy: 1321/2000 (0.6605), Test Loss: 6.2093205, Test Accuracy: 655/1000 (0.655)\n",
            "Creating Training Dataset for Epoch 17\n",
            "Dataset Creation Completed\n",
            "[Epoch 17] Training Loss: 12.367729, Training Accuracy: 1325/2000 (0.6625), Test Loss: 6.318341, Test Accuracy: 642/1000 (0.642)\n",
            "Creating Training Dataset for Epoch 18\n",
            "Dataset Creation Completed\n",
            "[Epoch 18] Training Loss: 12.27698, Training Accuracy: 1354/2000 (0.677), Test Loss: 6.0559826, Test Accuracy: 672/1000 (0.672)\n",
            "Creating Training Dataset for Epoch 19\n",
            "Dataset Creation Completed\n",
            "[Epoch 19] Training Loss: 12.163248, Training Accuracy: 1359/2000 (0.6795), Test Loss: 5.958807, Test Accuracy: 683/1000 (0.683)\n",
            "Creating Training Dataset for Epoch 20\n",
            "Dataset Creation Completed\n",
            "[Epoch 20] Training Loss: 12.024206, Training Accuracy: 1380/2000 (0.69), Test Loss: 6.0802245, Test Accuracy: 678/1000 (0.678)\n",
            "Creating Training Dataset for Epoch 21\n",
            "Dataset Creation Completed\n",
            "[Epoch 21] Training Loss: 12.098769, Training Accuracy: 1372/2000 (0.686), Test Loss: 5.947092, Test Accuracy: 690/1000 (0.69)\n",
            "Creating Training Dataset for Epoch 22\n",
            "Dataset Creation Completed\n",
            "[Epoch 22] Training Loss: 12.032903, Training Accuracy: 1387/2000 (0.6935), Test Loss: 6.0854893, Test Accuracy: 674/1000 (0.674)\n",
            "Creating Training Dataset for Epoch 23\n",
            "Dataset Creation Completed\n",
            "[Epoch 23] Training Loss: 12.106308, Training Accuracy: 1373/2000 (0.6865), Test Loss: 5.9977074, Test Accuracy: 688/1000 (0.688)\n",
            "Creating Training Dataset for Epoch 24\n",
            "Dataset Creation Completed\n",
            "[Epoch 24] Training Loss: 11.666188, Training Accuracy: 1422/2000 (0.711), Test Loss: 6.0782537, Test Accuracy: 684/1000 (0.684)\n",
            "Creating Training Dataset for Epoch 25\n",
            "Dataset Creation Completed\n",
            "[Epoch 25] Training Loss: 11.956634, Training Accuracy: 1372/2000 (0.686), Test Loss: 5.9156113, Test Accuracy: 692/1000 (0.692)\n",
            "Creating Training Dataset for Epoch 26\n",
            "Dataset Creation Completed\n",
            "[Epoch 26] Training Loss: 11.75542, Training Accuracy: 1407/2000 (0.7035), Test Loss: 5.9283657, Test Accuracy: 677/1000 (0.677)\n",
            "Creating Training Dataset for Epoch 27\n",
            "Dataset Creation Completed\n",
            "[Epoch 27] Training Loss: 11.493492, Training Accuracy: 1430/2000 (0.715), Test Loss: 6.0044856, Test Accuracy: 678/1000 (0.678)\n",
            "Creating Training Dataset for Epoch 28\n",
            "Dataset Creation Completed\n",
            "[Epoch 28] Training Loss: 11.695973, Training Accuracy: 1413/2000 (0.7065), Test Loss: 5.902498, Test Accuracy: 699/1000 (0.699)\n",
            "Creating Training Dataset for Epoch 29\n",
            "Dataset Creation Completed\n",
            "[Epoch 29] Training Loss: 11.622239, Training Accuracy: 1433/2000 (0.7165), Test Loss: 5.9215517, Test Accuracy: 699/1000 (0.699)\n",
            "Creating Training Dataset for Epoch 30\n",
            "Dataset Creation Completed\n",
            "[Epoch 30] Training Loss: 11.811456, Training Accuracy: 1418/2000 (0.709), Test Loss: 5.96063, Test Accuracy: 686/1000 (0.686)\n",
            "Creating Training Dataset for Epoch 31\n",
            "Dataset Creation Completed\n",
            "[Epoch 31] Training Loss: 11.502043, Training Accuracy: 1445/2000 (0.7225), Test Loss: 5.954193, Test Accuracy: 696/1000 (0.696)\n",
            "Creating Training Dataset for Epoch 32\n",
            "Dataset Creation Completed\n",
            "[Epoch 32] Training Loss: 11.708868, Training Accuracy: 1413/2000 (0.7065), Test Loss: 5.794891, Test Accuracy: 706/1000 (0.706)\n",
            "Creating Training Dataset for Epoch 33\n",
            "Dataset Creation Completed\n",
            "[Epoch 33] Training Loss: 11.445494, Training Accuracy: 1436/2000 (0.718), Test Loss: 6.0797167, Test Accuracy: 676/1000 (0.676)\n",
            "Creating Training Dataset for Epoch 34\n",
            "Dataset Creation Completed\n",
            "[Epoch 34] Training Loss: 11.723052, Training Accuracy: 1414/2000 (0.707), Test Loss: 5.8043394, Test Accuracy: 701/1000 (0.701)\n",
            "Creating Training Dataset for Epoch 35\n",
            "Dataset Creation Completed\n",
            "[Epoch 35] Training Loss: 11.492159, Training Accuracy: 1440/2000 (0.72), Test Loss: 5.8486724, Test Accuracy: 696/1000 (0.696)\n",
            "Creating Training Dataset for Epoch 36\n",
            "Dataset Creation Completed\n",
            "[Epoch 36] Training Loss: 11.508648, Training Accuracy: 1447/2000 (0.7235), Test Loss: 5.702058, Test Accuracy: 727/1000 (0.727)\n",
            "Creating Training Dataset for Epoch 37\n",
            "Dataset Creation Completed\n",
            "[Epoch 37] Training Loss: 11.481249, Training Accuracy: 1437/2000 (0.7185), Test Loss: 5.7750797, Test Accuracy: 711/1000 (0.711)\n",
            "Creating Training Dataset for Epoch 38\n",
            "Dataset Creation Completed\n",
            "[Epoch 38] Training Loss: 11.306183, Training Accuracy: 1461/2000 (0.7305), Test Loss: 6.0145187, Test Accuracy: 695/1000 (0.695)\n",
            "Creating Training Dataset for Epoch 39\n",
            "Dataset Creation Completed\n",
            "[Epoch 39] Training Loss: 11.427606, Training Accuracy: 1449/2000 (0.7245), Test Loss: 5.8373675, Test Accuracy: 715/1000 (0.715)\n",
            "Creating Training Dataset for Epoch 40\n",
            "Dataset Creation Completed\n",
            "[Epoch 40] Training Loss: 11.7986355, Training Accuracy: 1390/2000 (0.695), Test Loss: 5.5896425, Test Accuracy: 739/1000 (0.739)\n",
            "Creating Training Dataset for Epoch 41\n",
            "Dataset Creation Completed\n",
            "[Epoch 41] Training Loss: 11.441049, Training Accuracy: 1451/2000 (0.7255), Test Loss: 5.5857973, Test Accuracy: 741/1000 (0.741)\n",
            "Creating Training Dataset for Epoch 42\n",
            "Dataset Creation Completed\n",
            "[Epoch 42] Training Loss: 11.476525, Training Accuracy: 1456/2000 (0.728), Test Loss: 5.953733, Test Accuracy: 695/1000 (0.695)\n",
            "Creating Training Dataset for Epoch 43\n",
            "Dataset Creation Completed\n",
            "[Epoch 43] Training Loss: 11.4702425, Training Accuracy: 1441/2000 (0.7205), Test Loss: 6.4597645, Test Accuracy: 640/1000 (0.64)\n",
            "Creating Training Dataset for Epoch 44\n",
            "Dataset Creation Completed\n",
            "[Epoch 44] Training Loss: 11.612667, Training Accuracy: 1420/2000 (0.71), Test Loss: 5.5726314, Test Accuracy: 732/1000 (0.732)\n",
            "Creating Training Dataset for Epoch 45\n",
            "Dataset Creation Completed\n",
            "[Epoch 45] Training Loss: 11.329279, Training Accuracy: 1461/2000 (0.7305), Test Loss: 5.631605, Test Accuracy: 726/1000 (0.726)\n",
            "Creating Training Dataset for Epoch 46\n",
            "Dataset Creation Completed\n",
            "[Epoch 46] Training Loss: 11.029331, Training Accuracy: 1489/2000 (0.7445), Test Loss: 5.6175456, Test Accuracy: 734/1000 (0.734)\n",
            "Creating Training Dataset for Epoch 47\n",
            "Dataset Creation Completed\n",
            "[Epoch 47] Training Loss: 11.159716, Training Accuracy: 1477/2000 (0.7385), Test Loss: 5.7026258, Test Accuracy: 728/1000 (0.728)\n",
            "Creating Training Dataset for Epoch 48\n",
            "Dataset Creation Completed\n",
            "[Epoch 48] Training Loss: 11.06725, Training Accuracy: 1490/2000 (0.745), Test Loss: 5.6408215, Test Accuracy: 729/1000 (0.729)\n",
            "Creating Training Dataset for Epoch 49\n",
            "Dataset Creation Completed\n",
            "[Epoch 49] Training Loss: 11.317558, Training Accuracy: 1461/2000 (0.7305), Test Loss: 5.649098, Test Accuracy: 728/1000 (0.728)\n",
            "Creating Training Dataset for Epoch 50\n",
            "Dataset Creation Completed\n",
            "[Epoch 50] Training Loss: 11.235784, Training Accuracy: 1471/2000 (0.7355), Test Loss: 5.6881943, Test Accuracy: 729/1000 (0.729)\n",
            "Creating Training Dataset for Epoch 51\n",
            "Dataset Creation Completed\n",
            "[Epoch 51] Training Loss: 11.056953, Training Accuracy: 1487/2000 (0.7435), Test Loss: 5.593237, Test Accuracy: 733/1000 (0.733)\n",
            "Creating Training Dataset for Epoch 52\n",
            "Dataset Creation Completed\n",
            "[Epoch 52] Training Loss: 11.160788, Training Accuracy: 1481/2000 (0.7405), Test Loss: 6.0016165, Test Accuracy: 695/1000 (0.695)\n",
            "Creating Training Dataset for Epoch 53\n",
            "Dataset Creation Completed\n",
            "[Epoch 53] Training Loss: 11.306565, Training Accuracy: 1460/2000 (0.73), Test Loss: 5.514793, Test Accuracy: 743/1000 (0.743)\n",
            "Creating Training Dataset for Epoch 54\n",
            "Dataset Creation Completed\n",
            "[Epoch 54] Training Loss: 10.93155, Training Accuracy: 1509/2000 (0.7545), Test Loss: 5.597282, Test Accuracy: 737/1000 (0.737)\n",
            "Creating Training Dataset for Epoch 55\n",
            "Dataset Creation Completed\n",
            "[Epoch 55] Training Loss: 11.030945, Training Accuracy: 1501/2000 (0.7505), Test Loss: 5.5657, Test Accuracy: 731/1000 (0.731)\n",
            "Creating Training Dataset for Epoch 56\n",
            "Dataset Creation Completed\n",
            "[Epoch 56] Training Loss: 11.120179, Training Accuracy: 1475/2000 (0.7375), Test Loss: 5.6317406, Test Accuracy: 732/1000 (0.732)\n",
            "Creating Training Dataset for Epoch 57\n",
            "Dataset Creation Completed\n",
            "[Epoch 57] Training Loss: 11.071105, Training Accuracy: 1495/2000 (0.7475), Test Loss: 5.535241, Test Accuracy: 733/1000 (0.733)\n",
            "Creating Training Dataset for Epoch 58\n",
            "Dataset Creation Completed\n",
            "[Epoch 58] Training Loss: 11.226665, Training Accuracy: 1467/2000 (0.7335), Test Loss: 5.668862, Test Accuracy: 719/1000 (0.719)\n",
            "Creating Training Dataset for Epoch 59\n",
            "Dataset Creation Completed\n",
            "[Epoch 59] Training Loss: 11.163568, Training Accuracy: 1483/2000 (0.7415), Test Loss: 5.584177, Test Accuracy: 731/1000 (0.731)\n",
            "Creating Training Dataset for Epoch 60\n",
            "Dataset Creation Completed\n",
            "[Epoch 60] Training Loss: 11.205317, Training Accuracy: 1467/2000 (0.7335), Test Loss: 5.659808, Test Accuracy: 731/1000 (0.731)\n",
            "Creating Training Dataset for Epoch 61\n",
            "Dataset Creation Completed\n",
            "[Epoch 61] Training Loss: 11.253441, Training Accuracy: 1481/2000 (0.7405), Test Loss: 5.5917006, Test Accuracy: 731/1000 (0.731)\n",
            "Creating Training Dataset for Epoch 62\n",
            "Dataset Creation Completed\n",
            "[Epoch 62] Training Loss: 10.83195, Training Accuracy: 1508/2000 (0.754), Test Loss: 5.522423, Test Accuracy: 734/1000 (0.734)\n",
            "Creating Training Dataset for Epoch 63\n",
            "Dataset Creation Completed\n",
            "[Epoch 63] Training Loss: 10.945521, Training Accuracy: 1508/2000 (0.754), Test Loss: 5.5434794, Test Accuracy: 736/1000 (0.736)\n",
            "Creating Training Dataset for Epoch 64\n",
            "Dataset Creation Completed\n",
            "[Epoch 64] Training Loss: 11.173052, Training Accuracy: 1484/2000 (0.742), Test Loss: 5.586164, Test Accuracy: 732/1000 (0.732)\n",
            "Creating Training Dataset for Epoch 65\n",
            "Dataset Creation Completed\n",
            "[Epoch 65] Training Loss: 11.219073, Training Accuracy: 1480/2000 (0.74), Test Loss: 6.0362234, Test Accuracy: 684/1000 (0.684)\n",
            "Creating Training Dataset for Epoch 66\n",
            "Dataset Creation Completed\n",
            "[Epoch 66] Training Loss: 11.065803, Training Accuracy: 1472/2000 (0.736), Test Loss: 5.5121903, Test Accuracy: 744/1000 (0.744)\n",
            "Creating Training Dataset for Epoch 67\n",
            "Dataset Creation Completed\n",
            "[Epoch 67] Training Loss: 10.617672, Training Accuracy: 1542/2000 (0.771), Test Loss: 5.583139, Test Accuracy: 725/1000 (0.725)\n",
            "Creating Training Dataset for Epoch 68\n",
            "Dataset Creation Completed\n",
            "[Epoch 68] Training Loss: 10.8089695, Training Accuracy: 1532/2000 (0.766), Test Loss: 5.4529305, Test Accuracy: 748/1000 (0.748)\n",
            "Creating Training Dataset for Epoch 69\n",
            "Dataset Creation Completed\n",
            "[Epoch 69] Training Loss: 10.820509, Training Accuracy: 1519/2000 (0.7595), Test Loss: 5.5711713, Test Accuracy: 737/1000 (0.737)\n",
            "Creating Training Dataset for Epoch 70\n",
            "Dataset Creation Completed\n",
            "[Epoch 70] Training Loss: 10.915958, Training Accuracy: 1506/2000 (0.753), Test Loss: 5.595536, Test Accuracy: 724/1000 (0.724)\n",
            "Creating Training Dataset for Epoch 71\n",
            "Dataset Creation Completed\n",
            "[Epoch 71] Training Loss: 10.594099, Training Accuracy: 1549/2000 (0.7745), Test Loss: 5.551861, Test Accuracy: 740/1000 (0.74)\n",
            "Creating Training Dataset for Epoch 72\n",
            "Dataset Creation Completed\n",
            "[Epoch 72] Training Loss: 10.658302, Training Accuracy: 1545/2000 (0.7725), Test Loss: 5.7630696, Test Accuracy: 719/1000 (0.719)\n",
            "Creating Training Dataset for Epoch 73\n",
            "Dataset Creation Completed\n",
            "[Epoch 73] Training Loss: 10.849307, Training Accuracy: 1510/2000 (0.755), Test Loss: 5.3910317, Test Accuracy: 757/1000 (0.757)\n",
            "Creating Training Dataset for Epoch 74\n",
            "Dataset Creation Completed\n",
            "[Epoch 74] Training Loss: 10.681459, Training Accuracy: 1526/2000 (0.763), Test Loss: 5.431651, Test Accuracy: 747/1000 (0.747)\n",
            "Creating Training Dataset for Epoch 75\n",
            "Dataset Creation Completed\n",
            "[Epoch 75] Training Loss: 10.679496, Training Accuracy: 1536/2000 (0.768), Test Loss: 5.640542, Test Accuracy: 728/1000 (0.728)\n",
            "Creating Training Dataset for Epoch 76\n",
            "Dataset Creation Completed\n",
            "[Epoch 76] Training Loss: 10.604131, Training Accuracy: 1553/2000 (0.7765), Test Loss: 5.4870358, Test Accuracy: 754/1000 (0.754)\n",
            "Creating Training Dataset for Epoch 77\n",
            "Dataset Creation Completed\n",
            "[Epoch 77] Training Loss: 11.052588, Training Accuracy: 1492/2000 (0.746), Test Loss: 5.752154, Test Accuracy: 708/1000 (0.708)\n",
            "Creating Training Dataset for Epoch 78\n",
            "Dataset Creation Completed\n",
            "[Epoch 78] Training Loss: 10.650602, Training Accuracy: 1543/2000 (0.7715), Test Loss: 6.221654, Test Accuracy: 672/1000 (0.672)\n",
            "Creating Training Dataset for Epoch 79\n",
            "Dataset Creation Completed\n",
            "[Epoch 79] Training Loss: 10.716773, Training Accuracy: 1527/2000 (0.7635), Test Loss: 5.5061655, Test Accuracy: 747/1000 (0.747)\n",
            "Creating Training Dataset for Epoch 80\n",
            "Dataset Creation Completed\n",
            "[Epoch 80] Training Loss: 10.567615, Training Accuracy: 1554/2000 (0.777), Test Loss: 5.7490873, Test Accuracy: 720/1000 (0.72)\n",
            "Creating Training Dataset for Epoch 81\n",
            "Dataset Creation Completed\n",
            "[Epoch 81] Training Loss: 10.797531, Training Accuracy: 1524/2000 (0.762), Test Loss: 5.602848, Test Accuracy: 733/1000 (0.733)\n",
            "Creating Training Dataset for Epoch 82\n",
            "Dataset Creation Completed\n",
            "[Epoch 82] Training Loss: 10.707157, Training Accuracy: 1539/2000 (0.7695), Test Loss: 5.46583, Test Accuracy: 749/1000 (0.749)\n",
            "Creating Training Dataset for Epoch 83\n",
            "Dataset Creation Completed\n",
            "[Epoch 83] Training Loss: 10.724908, Training Accuracy: 1525/2000 (0.7625), Test Loss: 5.7232027, Test Accuracy: 727/1000 (0.727)\n",
            "Creating Training Dataset for Epoch 84\n",
            "Dataset Creation Completed\n",
            "[Epoch 84] Training Loss: 10.568694, Training Accuracy: 1566/2000 (0.783), Test Loss: 5.551626, Test Accuracy: 740/1000 (0.74)\n",
            "Creating Training Dataset for Epoch 85\n",
            "Dataset Creation Completed\n",
            "[Epoch 85] Training Loss: 10.643957, Training Accuracy: 1525/2000 (0.7625), Test Loss: 5.4007053, Test Accuracy: 745/1000 (0.745)\n",
            "Creating Training Dataset for Epoch 86\n",
            "Dataset Creation Completed\n",
            "[Epoch 86] Training Loss: 10.608129, Training Accuracy: 1552/2000 (0.776), Test Loss: 5.5321035, Test Accuracy: 749/1000 (0.749)\n",
            "Creating Training Dataset for Epoch 87\n",
            "Dataset Creation Completed\n",
            "[Epoch 87] Training Loss: 10.87781, Training Accuracy: 1515/2000 (0.7575), Test Loss: 5.4257555, Test Accuracy: 749/1000 (0.749)\n",
            "Creating Training Dataset for Epoch 88\n",
            "Dataset Creation Completed\n",
            "[Epoch 88] Training Loss: 10.738053, Training Accuracy: 1528/2000 (0.764), Test Loss: 5.3525906, Test Accuracy: 760/1000 (0.76)\n",
            "Creating Training Dataset for Epoch 89\n",
            "Dataset Creation Completed\n",
            "[Epoch 89] Training Loss: 10.391031, Training Accuracy: 1558/2000 (0.779), Test Loss: 5.4495373, Test Accuracy: 754/1000 (0.754)\n",
            "Creating Training Dataset for Epoch 90\n",
            "Dataset Creation Completed\n",
            "[Epoch 90] Training Loss: 10.48215, Training Accuracy: 1542/2000 (0.771), Test Loss: 5.7826924, Test Accuracy: 709/1000 (0.709)\n",
            "Creating Training Dataset for Epoch 91\n",
            "Dataset Creation Completed\n",
            "[Epoch 91] Training Loss: 10.60565, Training Accuracy: 1549/2000 (0.7745), Test Loss: 5.54422, Test Accuracy: 734/1000 (0.734)\n",
            "Creating Training Dataset for Epoch 92\n",
            "Dataset Creation Completed\n",
            "[Epoch 92] Training Loss: 10.619201, Training Accuracy: 1537/2000 (0.7685), Test Loss: 5.330869, Test Accuracy: 767/1000 (0.767)\n",
            "Creating Training Dataset for Epoch 93\n",
            "Dataset Creation Completed\n",
            "[Epoch 93] Training Loss: 10.471192, Training Accuracy: 1561/2000 (0.7805), Test Loss: 5.299608, Test Accuracy: 763/1000 (0.763)\n",
            "Creating Training Dataset for Epoch 94\n",
            "Dataset Creation Completed\n",
            "[Epoch 94] Training Loss: 10.513258, Training Accuracy: 1554/2000 (0.777), Test Loss: 5.5591674, Test Accuracy: 739/1000 (0.739)\n",
            "Creating Training Dataset for Epoch 95\n",
            "Dataset Creation Completed\n",
            "[Epoch 95] Training Loss: 10.564892, Training Accuracy: 1542/2000 (0.771), Test Loss: 5.322041, Test Accuracy: 770/1000 (0.77)\n",
            "Creating Training Dataset for Epoch 96\n",
            "Dataset Creation Completed\n",
            "[Epoch 96] Training Loss: 10.404975, Training Accuracy: 1564/2000 (0.782), Test Loss: 5.3454204, Test Accuracy: 765/1000 (0.765)\n",
            "Creating Training Dataset for Epoch 97\n",
            "Dataset Creation Completed\n",
            "[Epoch 97] Training Loss: 10.415464, Training Accuracy: 1567/2000 (0.7835), Test Loss: 5.479216, Test Accuracy: 740/1000 (0.74)\n",
            "Creating Training Dataset for Epoch 98\n",
            "Dataset Creation Completed\n",
            "[Epoch 98] Training Loss: 10.362217, Training Accuracy: 1580/2000 (0.79), Test Loss: 5.390283, Test Accuracy: 760/1000 (0.76)\n",
            "Creating Training Dataset for Epoch 99\n",
            "Dataset Creation Completed\n",
            "[Epoch 99] Training Loss: 10.228871, Training Accuracy: 1582/2000 (0.791), Test Loss: 5.4111867, Test Accuracy: 758/1000 (0.758)\n",
            "Creating Training Dataset for Epoch 100\n",
            "Dataset Creation Completed\n",
            "[Epoch 100] Training Loss: 10.4775305, Training Accuracy: 1563/2000 (0.7815), Test Loss: 5.556578, Test Accuracy: 734/1000 (0.734)\n"
          ],
          "name": "stdout"
        }
      ]
    },
    {
      "cell_type": "markdown",
      "metadata": {
        "id": "8K2cWGKwe5hz",
        "colab_type": "text"
      },
      "source": [
        "### Visualizing results of the training"
      ]
    },
    {
      "cell_type": "markdown",
      "metadata": {
        "id": "W-YeHX65e6l0",
        "colab_type": "text"
      },
      "source": [
        "We'll now visualize the results we get after training our network."
      ]
    },
    {
      "cell_type": "code",
      "metadata": {
        "id": "nmqhLD0UjLLo",
        "colab_type": "code",
        "outputId": "a8782a67-4e25-4fdd-aedf-c1dff3c7edf6",
        "colab": {
          "base_uri": "https://localhost:8080/",
          "height": 553
        }
      },
      "source": [
        "plt.figure(figsize: [12, 8])\n",
        "plt.subplot(1, 2, 1)\n",
        "plt.xlabel(\"Number of Epochs\")\n",
        "plt.ylabel(\"Training Accuracy(l) vs Validation Accuracy(o)\")\n",
        "plt.plot(epochsRange, trainingAccuracy)\n",
        "plt.plot(epochsRange, validationAccuracy)\n",
        "var loc = \"lower right\"\n",
        "plt.legend(loc)\n",
        "plt.title(\"Training and Validation Accuracy\")\n",
        "\n",
        "plt.subplot(1, 2, 2)\n",
        "plt.xlabel(\"Number of Epochs\")\n",
        "plt.ylabel(\"Training Loss(u) vs Validation Loss(p)\")\n",
        "plt.plot(epochsRange, trainingLoss)\n",
        "plt.plot(epochsRange, validationLoss)\n",
        "loc = \"upper right\"\n",
        "plt.legend(loc)\n",
        "plt.title(\"Training and Validation Loss\")\n",
        "plt.show()"
      ],
      "execution_count": 0,
      "outputs": [
        {
          "output_type": "display_data",
          "data": {
            "image/png": "[encoded data removed]",
            "text/plain": [
              "<Figure size 864x576 with 2 Axes>"
            ]
          },
          "metadata": {
            "tags": []
          }
        },
        {
          "output_type": "execute_result",
          "data": {
            "text/plain": [
              "None\n"
            ]
          },
          "metadata": {
            "tags": []
          },
          "execution_count": 18
        }
      ]
    },
    {
      "cell_type": "markdown",
      "metadata": {
        "id": "IV4iitDGbroi",
        "colab_type": "text"
      },
      "source": [
        "As we can see from the plots, training accuracy and validation accuracy are off by a much smaller margin than what we saw in Tutorial 5 and our model has achieved around **73%** accuracy on the validation set with a training accuracy of **78%** (depending on the number of epochs you trained for).\n",
        "\n",
        "This is a clear indication that we have prevented overfitting by performing image augmentation techniques on our training images."
      ]
    }
  ]
}
