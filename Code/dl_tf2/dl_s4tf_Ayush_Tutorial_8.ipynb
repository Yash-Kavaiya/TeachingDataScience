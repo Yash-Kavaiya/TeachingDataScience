{
  "nbformat": 4,
  "nbformat_minor": 0,
  "metadata": {
    "colab": {
      "name": "S4TF Tutorial 8",
      "version": "0.3.2",
      "provenance": [],
      "collapsed_sections": []
    },
    "language_info": {
      "file_extension": ".swift",
      "mimetype": "text/x-swift",
      "name": "swift",
      "version": ""
    },
    "kernelspec": {
      "display_name": "Swift",
      "language": "swift",
      "name": "swift"
    },
    "accelerator": "GPU"
  },
  "cells": [
    {
      "cell_type": "markdown",
      "metadata": {
        "colab_type": "text",
        "id": "QyCcF45zBQ3E"
      },
      "source": [
        "##### Copyright 2019 The TensorFlow Authors. [Licensed under the Apache License, Version 2.0](#scrollTo=y_UVSRtBBsJk)."
      ]
    },
    {
      "cell_type": "code",
      "metadata": {
        "colab_type": "code",
        "id": "CPII1rGR2rF9",
        "scrolled": true,
        "colab": {}
      },
      "source": [
        "#@title Licensed under the Apache License, Version 2.0 (the \"License\"); { display-mode: \"form\" }\n",
        "// Licensed under the Apache License, Version 2.0 (the \"License\");\n",
        "// you may not use this file except in compliance with the License.\n",
        "// You may obtain a copy of the License at\n",
        "//\n",
        "// https://www.apache.org/licenses/LICENSE-2.0\n",
        "//\n",
        "// Unless required by applicable law or agreed to in writing, software\n",
        "// distributed under the License is distributed on an \"AS IS\" BASIS,\n",
        "// WITHOUT WARRANTIES OR CONDITIONS OF ANY KIND, either express or implied.\n",
        "// See the License for the specific language governing permissions and\n",
        "// limitations under the License."
      ],
      "execution_count": 0,
      "outputs": []
    },
    {
      "cell_type": "markdown",
      "metadata": {
        "colab_type": "text",
        "id": "YHI3vyhv5p85"
      },
      "source": [
        "# Image Classification using Swift for TensorFlow"
      ]
    },
    {
      "cell_type": "markdown",
      "metadata": {
        "colab_type": "text",
        "id": "OVi775ZJ2bsy"
      },
      "source": [
        "<table class=\"tfo-notebook-buttons\" align=\"left\">\n",
        "  <td>\n",
        "    <a target=\"_blank\" href=\"https://colab.research.google.com/drive/13lBsht3Wa4GjKKkA47JCrd54XikhNX2E\"><img src=\"https://www.tensorflow.org/images/colab_logo_32px.png\" />Run in Google Colab</a>\n",
        "  </td>\n",
        "  <td>\n",
        "    <a target=\"_blank\" href=\"Link to be updated\"><img src=\"https://www.tensorflow.org/images/GitHub-Mark-32px.png\" />GitHub link to be updated accordingly</a>\n",
        "  </td>\n",
        "</table>"
      ]
    },
    {
      "cell_type": "markdown",
      "metadata": {
        "id": "DCxmvkku5R-v",
        "colab_type": "text"
      },
      "source": [
        "In this Colab you will classify images of flowers. We'll build an image classifier using `Layer` and load data by creating training and validation tensors of images as well as their corresponding labels."
      ]
    },
    {
      "cell_type": "markdown",
      "metadata": {
        "id": "nAcmWrRy512Q",
        "colab_type": "text"
      },
      "source": [
        "# Importing packages"
      ]
    },
    {
      "cell_type": "markdown",
      "metadata": {
        "id": "z_IfI4an53t7",
        "colab_type": "text"
      },
      "source": [
        "Let's start by importing required packages:\n",
        "\n",
        "*   glob — to read files and directory structure.\n",
        "*   numpy — for some matrix math outside of TensorFlow.\n",
        "*   matplotlib.pyplot — to plot the graph and display images in our training and validation data.\n",
        "*  PIL — to view images."
      ]
    },
    {
      "cell_type": "code",
      "metadata": {
        "id": "ektHrmri503Q",
        "colab_type": "code",
        "colab": {}
      },
      "source": [
        "import TensorFlow\n",
        "import Foundation\n",
        "import Python\n",
        "\n",
        "%include \"EnableIPythonDisplay.swift\"\n",
        "IPythonDisplay.shell.enable_matplotlib(\"inline\")\n",
        "let np = Python.import(\"numpy\")  // Make numpy available using np.\n",
        "let subprocess = Python.import(\"subprocess\")\n",
        "let plt = Python.import(\"matplotlib.pyplot\")\n",
        "let os = Python.import(\"os\")\n",
        "let glob = Python.import(\"glob\")\n",
        "let pil = Python.import(\"PIL\")\n",
        "let pilImageOps = Python.import(\"PIL.ImageOps\")\n",
        "let random = Python.import(\"random\")\n",
        "let sk = Python.import(\"skimage\")"
      ],
      "execution_count": 0,
      "outputs": []
    },
    {
      "cell_type": "markdown",
      "metadata": {
        "id": "y3fcURSS6S_i",
        "colab_type": "text"
      },
      "source": [
        "In order to build our image classifier, we can begin by downloading the flowers dataset.  "
      ]
    },
    {
      "cell_type": "code",
      "metadata": {
        "id": "00tAtxan6dbo",
        "colab_type": "code",
        "colab": {}
      },
      "source": [
        "public extension String {\n",
        "    @discardableResult\n",
        "    func shell(_ args: String...) -> String {\n",
        "        let (task, pipe) = (Process(), Pipe())\n",
        "        task.executableURL = URL(fileURLWithPath: self)\n",
        "        (task.arguments, task.standardOutput) = (args, pipe)\n",
        "        do    { try task.run() }\n",
        "        catch { print(\"Unexpected error: \\(error).\") }\n",
        "\n",
        "        let data = pipe.fileHandleForReading.readDataToEndOfFile()\n",
        "        return String(data: data, encoding: String.Encoding.utf8) ?? \"\"\n",
        "    }\n",
        "}"
      ],
      "execution_count": 0,
      "outputs": []
    },
    {
      "cell_type": "code",
      "metadata": {
        "id": "KT2rv2eX6d8b",
        "colab_type": "code",
        "outputId": "27dde1b8-548f-4cf0-c2d4-eb76010396fc",
        "colab": {
          "base_uri": "https://localhost:8080/",
          "height": 68
        }
      },
      "source": [
        "print(\"/bin/ls\".shell(\"-lh\"))"
      ],
      "execution_count": 4,
      "outputs": [
        {
          "output_type": "stream",
          "text": [
            "total 4.0K\r\n",
            "drwxr-xr-x 1 root root 4.0K Aug 22 16:14 sample_data\r\n",
            "\r\n"
          ],
          "name": "stdout"
        }
      ]
    },
    {
      "cell_type": "markdown",
      "metadata": {
        "id": "aonzsRRqoWZ9",
        "colab_type": "text"
      },
      "source": [
        "In order to build our image classifier, we can begin by downloading the flowers dataset. We first need to download the archive version of the dataset and after the download, we unzip it."
      ]
    },
    {
      "cell_type": "code",
      "metadata": {
        "id": "Ejo6uVyR6fe6",
        "colab_type": "code",
        "outputId": "0c95e180-4662-4482-aa45-220f4c98939b",
        "colab": {
          "base_uri": "https://localhost:8080/",
          "height": 94
        }
      },
      "source": [
        "let command = \"wget -nv -O- https://storage.googleapis.com/download.tensorflow.org/example_images/flower_photos.tgz | tar xzf - -C .\"\n",
        "subprocess.call(command, shell: true)"
      ],
      "execution_count": 5,
      "outputs": [
        {
          "output_type": "stream",
          "text": [
            "2019-08-25 20:38:28 URL:https://storage.googleapis.com/download.tensorflow.org/example_images/flower_photos.tgz [228813984/228813984] -> \"-\" [1]\r\n"
          ],
          "name": "stdout"
        },
        {
          "output_type": "execute_result",
          "data": {
            "text/plain": [
              "0\n"
            ]
          },
          "metadata": {
            "tags": []
          },
          "execution_count": 5
        }
      ]
    },
    {
      "cell_type": "markdown",
      "metadata": {
        "id": "NldOzNbk_9xq",
        "colab_type": "text"
      },
      "source": [
        "The  dataset we downloaded contains images of 5 types of flowers:\n",
        "\n",
        "1. Rose\n",
        "2. Daisy\n",
        "3. Dandelion\n",
        "4. Sunflowers\n",
        "5. Tulips\n",
        "\n",
        "So, let's create the labels for these 5 classes: "
      ]
    },
    {
      "cell_type": "code",
      "metadata": {
        "id": "VeDOH8TR_-xi",
        "colab_type": "code",
        "colab": {}
      },
      "source": [
        "let classNames = [\"roses\", \"daisy\", \"dandelion\", \"sunflowers\", \"tulips\"]"
      ],
      "execution_count": 0,
      "outputs": []
    },
    {
      "cell_type": "markdown",
      "metadata": {
        "id": "zN86uRrg7UDc",
        "colab_type": "text"
      },
      "source": [
        "Also, the dataset we have downloaded has following directory structure:\n",
        "\n",
        "<pre style=\"font-size: 10.0pt; font-family: Arial; line-height: 2; letter-spacing: 1.0pt;\" >\n",
        "<b>flower_photos</b>\n",
        "|__ <b>diasy</b>\n",
        "|__ <b>dandelion</b>\n",
        "|__ <b>roses</b>\n",
        "|__ <b>sunflowers</b>\n",
        "|__ <b>tulips</b>\n",
        "</pre>"
      ]
    },
    {
      "cell_type": "code",
      "metadata": {
        "id": "SCombgoqB0hs",
        "colab_type": "code",
        "outputId": "b4a3bb5d-51d8-471f-9140-c9c20776af11",
        "colab": {
          "base_uri": "https://localhost:8080/",
          "height": 187
        }
      },
      "source": [
        "let filelist = try FileManager.default.contentsOfDirectory(atPath: \"./flower_photos/daisy\")\n",
        "for filename in filelist[0..<10] {\n",
        "    print(filename)\n",
        "}"
      ],
      "execution_count": 7,
      "outputs": [
        {
          "output_type": "stream",
          "text": [
            "3764116502_f394428ee0_n.jpg\r\n",
            "5434901893_4550be3f84_m.jpg\r\n",
            "8759177308_951790e00d_m.jpg\r\n",
            "11023272144_fce94401f2_m.jpg\r\n",
            "4432271543_01c56ca3a9.jpg\r\n",
            "5608389827_a42a46f760.jpg\r\n",
            "3711723108_65247a3170.jpg\r\n",
            "3386988684_bc5a66005e.jpg\r\n",
            "2812442552_3eed5fb9f2_m.jpg\r\n",
            "5058708968_8bdcd29e63_n.jpg\r\n"
          ],
          "name": "stdout"
        }
      ]
    },
    {
      "cell_type": "markdown",
      "metadata": {
        "id": "L-ThzyQld-xv",
        "colab_type": "text"
      },
      "source": [
        "Let's look at how many images we have in our directory for each flower:"
      ]
    },
    {
      "cell_type": "code",
      "metadata": {
        "id": "SY9dXaFgBE4l",
        "colab_type": "code",
        "outputId": "ab72d149-39f8-448f-9229-96d65808af83",
        "colab": {
          "base_uri": "https://localhost:8080/",
          "height": 119
        }
      },
      "source": [
        "let totalImages = glob.glob(\"flower_photos/*/**.jpg\")\n",
        "let daisyList = glob.glob(\"flower_photos/daisy/*.jpg\")\n",
        "let dandelionList = glob.glob(\"flower_photos/dandelion/*.jpg\")\n",
        "let rosesList = glob.glob(\"flower_photos/roses/*.jpg\")\n",
        "let sunflowersList = glob.glob(\"flower_photos/sunflowers/*.jpg\")\n",
        "let tulipsList = glob.glob(\"flower_photos/tulips/*.jpg\")\n",
        "\n",
        "print(\"Total Images \\(totalImages.count)\")\n",
        "print(\"roses \\(rosesList.count)\")\n",
        "print(\"sunflowers \\(sunflowersList.count)\")\n",
        "print(\"daisy \\(daisyList.count)\")\n",
        "print(\"tulips \\(tulipsList.count)\")\n",
        "print(\"dandelion \\(dandelionList.count)\")"
      ],
      "execution_count": 8,
      "outputs": [
        {
          "output_type": "stream",
          "text": [
            "Total Images 3670\r\n",
            "roses 641\r\n",
            "sunflowers 699\r\n",
            "daisy 633\r\n",
            "tulips 799\r\n",
            "dandelion 898\r\n"
          ],
          "name": "stdout"
        }
      ]
    },
    {
      "cell_type": "markdown",
      "metadata": {
        "id": "_fOp3XH_7ngK",
        "colab_type": "text"
      },
      "source": [
        "We'll now assign variables with the proper file path for the training and validation sets."
      ]
    },
    {
      "cell_type": "markdown",
      "metadata": {
        "id": "rJVVxOUXAv8T",
        "colab_type": "text"
      },
      "source": [
        "As you can see there are no folders containing training and validation data. Therefore, we will have to create our own training and validation set. Let's write some code that will do this.\n",
        "\n",
        "\n",
        "The code below creates a `trainList` and a `testList` list. It then copies the image paths from the original folders to these new lists such that 80% of the images go to the training set and 20% of the images go into the validation set."
      ]
    },
    {
      "cell_type": "code",
      "metadata": {
        "id": "Q-CK_BBQ1Yru",
        "colab_type": "code",
        "outputId": "f1ed9f58-2bd7-4a41-ec41-fd3e86d288b3",
        "colab": {
          "base_uri": "https://localhost:8080/",
          "height": 68
        }
      },
      "source": [
        "let numTotalImages = [641, 699, 633, 799, 898]\n",
        "let numTrainImages = [512, 559, 506, 639, 718]  // Number of Train Images = 0.8 * Number of Total Images.\n",
        "var trainList = Python.list()\n",
        "var testList = Python.list()\n",
        "var i = 0, numImagesDone = 0\n",
        "\n",
        "for path in totalImages {\n",
        "    if numImagesDone == numTotalImages[i] {\n",
        "        i += 1\n",
        "        numImagesDone = 0\n",
        "    }\n",
        "    if numImagesDone >= numTrainImages[i] {\n",
        "        testList.append(path)\n",
        "        numImagesDone += 1\n",
        "    } else {\n",
        "        trainList.append(path)\n",
        "        numImagesDone += 1\n",
        "    }\n",
        "}\n",
        "\n",
        "for i in 0..<5 {\n",
        "    np.random.shuffle(trainList)\n",
        "    np.random.shuffle(testList)\n",
        "}\n",
        "\n",
        "print(\"Total Images \\(totalImages.count)\")\n",
        "print(\"Train Images \\(trainList.count)\")\n",
        "print(\"Test Images \\(testList.count)\")"
      ],
      "execution_count": 9,
      "outputs": [
        {
          "output_type": "stream",
          "text": [
            "Total Images 3670\r\n",
            "Train Images 2934\r\n",
            "Test Images 736\r\n"
          ],
          "name": "stdout"
        }
      ]
    },
    {
      "cell_type": "markdown",
      "metadata": {
        "id": "RW_oP9vd83AT",
        "colab_type": "text"
      },
      "source": [
        "### Visualizing Training images"
      ]
    },
    {
      "cell_type": "markdown",
      "metadata": {
        "id": "FoeLuQjY83nZ",
        "colab_type": "text"
      },
      "source": [
        "We can visualize our training images by creating functions to plot images through their paths or tensors, and then plotting a few of them."
      ]
    },
    {
      "cell_type": "code",
      "metadata": {
        "id": "wZaQBU0R6n-d",
        "colab_type": "code",
        "colab": {}
      },
      "source": [
        "func plotImages(_ image: Tensor<Float>) {\n",
        "    let numpyImage = image.makeNumpyArray().reshape(150, 150, 3)\n",
        "    plt.imshow(numpyImage)\n",
        "    plt.show()\n",
        "}\n",
        "\n",
        "func plotImages(from path: String) {\n",
        "    let img = pil.Image.open(path)\n",
        "    let image = np.array(img) * (1.0 / 255)\n",
        "    plt.imshow(image)\n",
        "    plt.show()\n",
        "}"
      ],
      "execution_count": 0,
      "outputs": []
    },
    {
      "cell_type": "markdown",
      "metadata": {
        "id": "zazRWHDLne_x",
        "colab_type": "text"
      },
      "source": [
        "# Data Augmentation"
      ]
    },
    {
      "cell_type": "markdown",
      "metadata": {
        "id": "FczZhOBEnhQA",
        "colab_type": "text"
      },
      "source": [
        "Overfitting often occurs when we have a small number of training examples. One way to fix this problem is to augment our dataset so that it has sufficient number and variety of training examples. Data augmentation takes the approach of generating more training data from existing training samples, by augmenting the samples through random transformations that yield believable-looking images. The goal is that at training time, your model will never see the exact same picture twice. This exposes the model to more aspects of the data, allowing it to generalize better.\n",
        "\n",
        "In Swift for TensorFlow we can implement this using the different Python libraries through Python interoperability. WWe can simply apply different transformations we would want to our dataset images and they will be applied during our training process."
      ]
    },
    {
      "cell_type": "markdown",
      "metadata": {
        "id": "On5jRhcfnisD",
        "colab_type": "text"
      },
      "source": [
        "We perform the following image augmentation techniques randomly on an image:\n",
        "\n",
        "* Rotating the image\n",
        "* Transposing\n",
        "* Flipping the image horizontally\n",
        "* Adding noise"
      ]
    },
    {
      "cell_type": "code",
      "metadata": {
        "id": "q9IsIJl5nk3L",
        "colab_type": "code",
        "colab": {}
      },
      "source": [
        "func augmentedImage(path: String) -> Tensor<Float> {\n",
        "    \n",
        "    var img = pil.Image.open(path)\n",
        "    \n",
        "    if random.random() < 0.5 {\n",
        "        img = img.rotate(45) // Rotate 45 degrees.\n",
        "    }\n",
        "    \n",
        "    if random.random() < 0.5 {\n",
        "        img = img.transpose(pil.Image.TRANSPOSE) // Transpose.\n",
        "    }\n",
        "    \n",
        "    if random.random() < 0.5 {\n",
        "        img = img.transpose(pil.Image.FLIP_LEFT_RIGHT) // Flip.\n",
        "    }\n",
        "    \n",
        "    var image = np.array(img, dtype: np.float32) * (1.0 / 255)\n",
        "    \n",
        "    if random.random() < 0.5 {\n",
        "        image = sk.util.random_noise(image) // Add noise.\n",
        "    }\n",
        "    \n",
        "    image = np.array(image, dtype: np.float32)\n",
        "    \n",
        "    let imageTensor = Tensor<Float>(numpy: image)!\n",
        "\n",
        "    return imageTensor\n",
        "}"
      ],
      "execution_count": 0,
      "outputs": []
    },
    {
      "cell_type": "markdown",
      "metadata": {
        "id": "akDk2rmO70un",
        "colab_type": "text"
      },
      "source": [
        "# Data Preparation "
      ]
    },
    {
      "cell_type": "markdown",
      "metadata": {
        "id": "nQ7KrBqH71L0",
        "colab_type": "text"
      },
      "source": [
        "Images must be formatted into appropriately pre-processed floating point tensors before being fed into the network. The steps involved in preparing these images are:\n",
        "\n",
        "1. Read images from the disk.\n",
        "2. Decode the contents of these images into their RGB bytes.\n",
        "3. Convert them into floating point tensors.\n",
        "4. Rescale the tensors from values between 0 and 255 to values between 0 and 1, to better match the range expected by the initial neural network weights.\n",
        "5. Apply or don't apply image augmentation techniques, based on the type of data.\n",
        "\n",
        "We have done this in the following code."
      ]
    },
    {
      "cell_type": "markdown",
      "metadata": {
        "id": "aRAT9M538M82",
        "colab_type": "text"
      },
      "source": [
        "The `resizedImage(fromPath:augmented:)` function takes 2 inputs:\n",
        "1. Image path as input.\n",
        "2. Whether or not to apply image augmentations.\n",
        "\n",
        "The `images(fromList:imageCount:augmented:)` function takes 3 inputs :\n",
        "\n",
        "1. List of paths.\n",
        "\n",
        "2. Number of tensors to be produced in the output tensor as input.\n",
        "\n",
        "3. Whether or not to apply image augmentations."
      ]
    },
    {
      "cell_type": "code",
      "metadata": {
        "id": "1DC85ego6kmK",
        "colab_type": "code",
        "colab": {}
      },
      "source": [
        "func resizedImage(fromPath: String, augmented: Bool) -> (Tensor<Float>, Int32) {\n",
        "    var img = pil.Image.open(fromPath)\n",
        "    var image = np.array(img, dtype: np.float32) * (1.0 / 255)\n",
        "    var imageTensor = Tensor<Float>(numpy: image)!\n",
        "    \n",
        "    if augmented {\n",
        "        imageTensor = augmentedImage(path: fromPath)\n",
        "    }\n",
        "    \n",
        "    imageTensor = imageTensor.expandingShape(at: 0)\n",
        "    imageTensor = Raw.resizeArea(images: imageTensor , size: [150, 150])\n",
        "    \n",
        "    var label: Int32 = 0\n",
        "    \n",
        "    for i in 0 ..< 5 {\n",
        "        if fromPath.contains(classNames[i]) {\n",
        "            label = Int32(i)\n",
        "            break\n",
        "        }\n",
        "    }\n",
        "    \n",
        "    return (imageTensor, label)\n",
        "}\n",
        "\n",
        "func images(fromList: PythonObject, imageCount: Int, augmented: Bool) -> (image: Tensor<Float>, label: Tensor<Int32>) {\n",
        "    let batchFiles = fromList[0..<imageCount]\n",
        "    var labels: [Int32] = []\n",
        "    var x: Tensor<Float>\n",
        "    var y: Tensor<Int32>\n",
        "\n",
        "    // Load first image.\n",
        "    let path = String(batchFiles[0]) ?? \"\"\n",
        "    let data = resizedImage(fromPath: path, augmented: augmented)\n",
        "    x = data.0 \n",
        "    labels.append(data.1)\n",
        "\n",
        "    // Load rest of the images.\n",
        "    var numberOfFilesDone = 1\n",
        "    for file in batchFiles[1..<imageCount] {\n",
        "        let path = String(file) ?? \"\"\n",
        "        let data = resizedImage(fromPath: path, augmented: augmented)\n",
        "        let tensor = data.0\n",
        "        labels.append(data.1)\n",
        "        x = Tensor(concatenating: [x, tensor], alongAxis: 0)\n",
        "    }\n",
        "    y = Tensor<Int32>(labels)\n",
        "    return (x, y)\n",
        "}"
      ],
      "execution_count": 0,
      "outputs": []
    },
    {
      "cell_type": "markdown",
      "metadata": {
        "id": "e7t-Xyds8dOm",
        "colab_type": "text"
      },
      "source": [
        "After defining our generators for images and labels, we will load those images and labels in tensor arrays, thereby creating our `testTensors`."
      ]
    },
    {
      "cell_type": "code",
      "metadata": {
        "id": "w9T1CsET6mVn",
        "colab_type": "code",
        "outputId": "b4550c41-0efe-4ad5-f109-ac66ca02151f",
        "colab": {
          "base_uri": "https://localhost:8080/",
          "height": 51
        }
      },
      "source": [
        "let testTensors = images(fromList: testList, imageCount: testList.count, augmented: false)\n",
        "let testImageTensors = testTensors.0\n",
        "let testLabelTensors = testTensors.1\n",
        "print(testImageTensors.shape)\n",
        "print(testLabelTensors.shape)"
      ],
      "execution_count": 13,
      "outputs": [
        {
          "output_type": "stream",
          "text": [
            "[736, 150, 150, 3]\r\n",
            "[736]\r\n"
          ],
          "name": "stdout"
        }
      ]
    },
    {
      "cell_type": "markdown",
      "metadata": {
        "id": "pyb5bsh_9Idt",
        "colab_type": "text"
      },
      "source": [
        "# Model Creation"
      ]
    },
    {
      "cell_type": "markdown",
      "metadata": {
        "id": "Mk5ikBiM9JA8",
        "colab_type": "text"
      },
      "source": [
        "## Define the model\n",
        "\n",
        "In the cell below, create a convolutional neural network that consists of 3 convolution blocks. Each convolutional block contains a `Conv2D` layer followed by a max pool layer. The first convolutional block should have 16 filters, the second one should have 32 filters, and the third one should have 64 filters. All convolutional filters should be 3 x 3. All max pool layers should have a `poolSize` of `(2, 2)`.\n",
        "\n",
        "After the 3 convolutional blocks you should have a flatten layer followed by a fully connected layer with 512 units. The CNN should output class probabilities based on 5 classes which is done by the **softmax** activation function. All other layers should use a **relu** activation function. You should also add Dropout layers with a probability of 20%,  where appropriate. "
      ]
    },
    {
      "cell_type": "code",
      "metadata": {
        "id": "mPf9jf2p6rE-",
        "colab_type": "code",
        "colab": {}
      },
      "source": [
        "struct Classifier: Layer {\n",
        "    typealias Input = Tensor<Float>\n",
        "    typealias Output = Tensor<Float>\n",
        "\n",
        "    var conv1a = Conv2D<Float>(filterShape: (3, 3, 3, 16), activation: relu)\n",
        "    var pool1 = MaxPool2D<Float>(poolSize: (2, 2), strides: (2, 2))\n",
        "    \n",
        "    var conv1b = Conv2D<Float>(filterShape: (3, 3, 16, 32), activation: relu)\n",
        "    var pool2 = MaxPool2D<Float>(poolSize: (2, 2), strides: (2, 2))\n",
        "    \n",
        "    var conv1c = Conv2D<Float>(filterShape: (3, 3, 32, 64), activation: relu)\n",
        "    var pool3 = MaxPool2D<Float>(poolSize: (2, 2), strides: (2, 2))\n",
        "    \n",
        "    var flatten = Flatten<Float>()\n",
        "    var dropout1a = Dropout<Float>(probability: 0.2)\n",
        "    var layer1a = Dense<Float>(inputSize: 18496, outputSize: 512, activation: relu)\n",
        "    var dropout1b = Dropout<Float>(probability: 0.2)\n",
        "    var layer1b = Dense<Float>(inputSize: 512, outputSize: 5, activation: softmax)\n",
        "\n",
        "    @differentiable\n",
        "    public func callAsFunction(_ input: Input) -> Output {\n",
        "        var convolved1 = input.sequenced(through: conv1a, pool1)\n",
        "        var convolved2 = convolved1.sequenced(through: conv1b, pool2)\n",
        "        var convolved3 = convolved2.sequenced(through: conv1c, pool3)\n",
        "        var dense1 = convolved3.sequenced(through: flatten, dropout1a, layer1a)\n",
        "        var dense2 = dense1.sequenced(through: dropout1b, layer1b)\n",
        "        return dense2\n",
        "    }\n",
        "}"
      ],
      "execution_count": 0,
      "outputs": []
    },
    {
      "cell_type": "markdown",
      "metadata": {
        "id": "o_3UQ6ef9N5b",
        "colab_type": "text"
      },
      "source": [
        "### Compile the model\n",
        "\n",
        "As usual, we will use the `adam` optimizer. Since we output a softmax categorization, we'll use `softmaxCrossEntropy` as the loss function. We would also like to look at the training and validation accuracy on each epoch as we train our network, so we are passing in the metrics argument."
      ]
    },
    {
      "cell_type": "code",
      "metadata": {
        "id": "MSNPc99r6s08",
        "colab_type": "code",
        "outputId": "9aaa1f8c-f3b8-42b2-8f18-9b91d7765f4a",
        "colab": {
          "base_uri": "https://localhost:8080/",
          "height": 85
        }
      },
      "source": [
        "let tensor = Tensor<Float>(zeros:[1, 150, 150, 3])\n",
        "var classifier = Classifier()\n",
        "var optimizer = Adam(for: classifier, learningRate: 0.001)\n",
        "classifier(tensor).shape"
      ],
      "execution_count": 15,
      "outputs": [
        {
          "output_type": "execute_result",
          "data": {
            "text/plain": [
              "▿ [1, 5]\n",
              "  ▿ dimensions : 2 elements\n",
              "    - 0 : 1\n",
              "    - 1 : 5\n"
            ]
          },
          "metadata": {
            "tags": []
          },
          "execution_count": 15
        }
      ]
    },
    {
      "cell_type": "code",
      "metadata": {
        "id": "zZ1o31qE6uGz",
        "colab_type": "code",
        "colab": {}
      },
      "source": [
        "let epochCount = 80\n",
        "let batchSize = 100\n",
        "\n",
        "// Extract a batch of size batchSize.\n",
        "func minibatch<Scalar>(in x: Tensor<Scalar>, at index: Int) -> Tensor<Scalar> {\n",
        "    let start = index * batchSize\n",
        "    return x[start..<start + batchSize]\n",
        "}"
      ],
      "execution_count": 0,
      "outputs": []
    },
    {
      "cell_type": "code",
      "metadata": {
        "id": "C0YEIbAT-m3E",
        "colab_type": "code",
        "colab": {}
      },
      "source": [
        "var trainingAccuracy: [Float] = []\n",
        "var validationAccuracy: [Float] = []\n",
        "var trainingLoss: [Float] = []\n",
        "var validationLoss: [Float] = []\n",
        "var epochsRange: [Int] = []"
      ],
      "execution_count": 0,
      "outputs": []
    },
    {
      "cell_type": "markdown",
      "metadata": {
        "id": "UJvC4F3O9bTW",
        "colab_type": "text"
      },
      "source": [
        "### Train the model"
      ]
    },
    {
      "cell_type": "markdown",
      "metadata": {
        "id": "vuGBD1uY9bt6",
        "colab_type": "text"
      },
      "source": [
        "It's time to train our network. \n",
        "\n",
        "We need to apply the random image augmentations every time an image is accessed, so we recreate `trainTensors` in every epoch."
      ]
    },
    {
      "cell_type": "code",
      "metadata": {
        "id": "RY0hIJK36vnT",
        "colab_type": "code",
        "outputId": "1b3c562a-7d16-4ce6-e7ef-87ad3693542d",
        "colab": {
          "base_uri": "https://localhost:8080/",
          "height": 122
        }
      },
      "source": [
        "print(\"Beginning training...\")\n",
        "\n",
        "struct Statistics {\n",
        "    var correctGuessCount: Int = 0\n",
        "    var totalGuessCount: Int = 0\n",
        "    var totalLoss: Float = 0\n",
        "}\n",
        "\n",
        "// The training loop.\n",
        "for epoch in 1...epochCount {\n",
        "    epochsRange.append(epoch)\n",
        "    var trainStats = Statistics()\n",
        "    var testStats = Statistics()\n",
        "    print(\"Creating Training Dataset for Epoch \\(epoch)\")\n",
        "    let trainTensors = images(fromList: trainList, imageCount: trainList.count, augmented: true)\n",
        "    let trainImageTensors = trainTensors.0\n",
        "    let trainLabelTensors = trainTensors.1\n",
        "    print(\"Dataset Creation Completed\")\n",
        "    \n",
        "    Context.local.learningPhase = .training\n",
        "    for i in 0..<Int(trainList.count) / batchSize {\n",
        "        let x = minibatch(in: trainImageTensors, at: i)\n",
        "        let y = minibatch(in: trainLabelTensors, at: i)\n",
        "        // Compute the gradient with respect to the model.\n",
        "        let 𝛁model = classifier.gradient { classifier -> Tensor<Float> in\n",
        "            let ŷ = classifier(x)\n",
        "            let correctPredictions = ŷ.argmax(squeezingAxis: 1) .== y\n",
        "            trainStats.correctGuessCount += Int(\n",
        "              Tensor<Int32>(correctPredictions).sum().scalarized())\n",
        "            trainStats.totalGuessCount += batchSize\n",
        "            let loss = softmaxCrossEntropy(logits: ŷ, labels: y)\n",
        "            trainStats.totalLoss += loss.scalarized()\n",
        "            return loss\n",
        "        }\n",
        "        // Update the model's differentiable variables along the gradient vector.\n",
        "        optimizer.update(&classifier.allDifferentiableVariables, along: 𝛁model)\n",
        "    }\n",
        "\n",
        "    Context.local.learningPhase = .inference\n",
        "    for i in 0..<Int(testList.count) / batchSize {\n",
        "        let x = minibatch(in: testImageTensors, at: i)\n",
        "        let y = minibatch(in: testLabelTensors, at: i)\n",
        "        // Compute loss on test set.\n",
        "        let ŷ = classifier(x)\n",
        "        let correctPredictions = ŷ.argmax(squeezingAxis: 1) .== y\n",
        "        testStats.correctGuessCount += Int(Tensor<Int32>(correctPredictions).sum().scalarized())\n",
        "        testStats.totalGuessCount += batchSize\n",
        "        let loss = softmaxCrossEntropy(logits: ŷ, labels: y)\n",
        "        testStats.totalLoss += loss.scalarized()\n",
        "    }\n",
        "    \n",
        "    let trainAccuracy = Float(trainStats.correctGuessCount) / Float(trainStats.totalGuessCount)\n",
        "    let testAccuracy = Float(testStats.correctGuessCount) / Float(testStats.totalGuessCount)\n",
        "    \n",
        "    trainingAccuracy.append(trainAccuracy)\n",
        "    validationAccuracy.append(testAccuracy)\n",
        "    trainingLoss.append(trainStats.totalLoss)\n",
        "    validationLoss.append(testStats.totalLoss)\n",
        "    \n",
        "    print(\"\"\"\n",
        "          [Epoch \\(epoch)] \\\n",
        "          Training Loss: \\(trainStats.totalLoss), \\\n",
        "          Training Accuracy: \\(trainStats.correctGuessCount)/\\(trainStats.totalGuessCount) \\ \n",
        "          (\\(trainAccuracy)), \\\n",
        "          Test Loss: \\(testStats.totalLoss), \\\n",
        "          Test Accuracy: \\(testStats.correctGuessCount)/\\(testStats.totalGuessCount) \\\n",
        "          (\\(testAccuracy))\n",
        "          \"\"\")\n",
        "}"
      ],
      "execution_count": 0,
      "outputs": [
        {
          "output_type": "stream",
          "text": [
            "Beginning training...\r\n",
            "Creating Training Dataset for Epoch 1\n",
            "Dataset Creation Completed\n",
            "[Epoch 1] Training Loss: 45.553837, Training Accuracy: 876/2900 (0.30206898), Test Loss: 10.439911, Test Accuracy: 270/700 (0.3857143)\n",
            "Creating Training Dataset for Epoch 2\n",
            "Dataset Creation Completed\n",
            "[Epoch 2] Training Loss: 41.631733, Training Accuracy: 1330/2900 (0.4586207), Test Loss: 10.161191, Test Accuracy: 311/700 (0.44428572)\n",
            "Creating Training Dataset for Epoch 3\n",
            "Dataset Creation Completed\n",
            "[Epoch 3] Training Loss: 39.67013, Training Accuracy: 1548/2900 (0.5337931), Test Loss: 9.679314, Test Accuracy: 356/700 (0.50857145)\n",
            "Creating Training Dataset for Epoch 4\n",
            "Dataset Creation Completed\n",
            "[Epoch 4] Training Loss: 39.009964, Training Accuracy: 1599/2900 (0.5513793), Test Loss: 9.317457, Test Accuracy: 403/700 (0.5757143)\n",
            "Creating Training Dataset for Epoch 5\n",
            "Dataset Creation Completed\n",
            "[Epoch 5] Training Loss: 38.357723, Training Accuracy: 1684/2900 (0.58068967), Test Loss: 9.508276, Test Accuracy: 376/700 (0.5371429)\n",
            "Creating Training Dataset for Epoch 6\n",
            "Dataset Creation Completed\n",
            "[Epoch 6] Training Loss: 38.447395, Training Accuracy: 1662/2900 (0.5731034), Test Loss: 9.436806, Test Accuracy: 387/700 (0.55285716)\n",
            "Creating Training Dataset for Epoch 7\n",
            "Dataset Creation Completed\n",
            "[Epoch 7] Training Loss: 37.57947, Training Accuracy: 1758/2900 (0.6062069), Test Loss: 9.299366, Test Accuracy: 406/700 (0.58)\n",
            "Creating Training Dataset for Epoch 8\n",
            "Dataset Creation Completed\n",
            "[Epoch 8] Training Loss: 37.743244, Training Accuracy: 1726/2900 (0.5951724), Test Loss: 9.022965, Test Accuracy: 428/700 (0.61142856)\n",
            "Creating Training Dataset for Epoch 9\n",
            "Dataset Creation Completed\n",
            "[Epoch 9] Training Loss: 38.165283, Training Accuracy: 1699/2900 (0.58586204), Test Loss: 9.36207, Test Accuracy: 393/700 (0.56142855)\n",
            "Creating Training Dataset for Epoch 10\n",
            "Dataset Creation Completed\n",
            "[Epoch 10] Training Loss: 38.261063, Training Accuracy: 1678/2900 (0.5786207), Test Loss: 9.45117, Test Accuracy: 385/700 (0.55)\n",
            "Creating Training Dataset for Epoch 11\n",
            "Dataset Creation Completed\n",
            "[Epoch 11] Training Loss: 37.631573, Training Accuracy: 1745/2900 (0.60172415), Test Loss: 9.186507, Test Accuracy: 418/700 (0.5971429)\n",
            "Creating Training Dataset for Epoch 12\n",
            "Dataset Creation Completed\n",
            "[Epoch 12] Training Loss: 36.816303, Training Accuracy: 1838/2900 (0.6337931), Test Loss: 9.149138, Test Accuracy: 412/700 (0.5885714)\n",
            "Creating Training Dataset for Epoch 13\n",
            "Dataset Creation Completed\n",
            "[Epoch 13] Training Loss: 36.990322, Training Accuracy: 1816/2900 (0.6262069), Test Loss: 9.275795, Test Accuracy: 404/700 (0.57714283)\n",
            "Creating Training Dataset for Epoch 14\n",
            "Dataset Creation Completed\n",
            "[Epoch 14] Training Loss: 36.855457, Training Accuracy: 1829/2900 (0.6306897), Test Loss: 9.025635, Test Accuracy: 430/700 (0.6142857)\n",
            "Creating Training Dataset for Epoch 15\n",
            "Dataset Creation Completed\n",
            "[Epoch 15] Training Loss: 36.799477, Training Accuracy: 1836/2900 (0.63310343), Test Loss: 9.187644, Test Accuracy: 414/700 (0.5914286)\n",
            "Creating Training Dataset for Epoch 16\n",
            "Dataset Creation Completed\n",
            "[Epoch 16] Training Loss: 36.4312, Training Accuracy: 1877/2900 (0.64724135), Test Loss: 9.033062, Test Accuracy: 428/700 (0.61142856)\n",
            "Creating Training Dataset for Epoch 17\n",
            "Dataset Creation Completed\n",
            "[Epoch 17] Training Loss: 35.87366, Training Accuracy: 1921/2900 (0.6624138), Test Loss: 9.04665, Test Accuracy: 419/700 (0.5985714)\n",
            "Creating Training Dataset for Epoch 18\n",
            "Dataset Creation Completed\n",
            "[Epoch 18] Training Loss: 35.34545, Training Accuracy: 1985/2900 (0.68448275), Test Loss: 9.139501, Test Accuracy: 417/700 (0.5957143)\n",
            "Creating Training Dataset for Epoch 19\n",
            "Dataset Creation Completed\n",
            "[Epoch 19] Training Loss: 35.84875, Training Accuracy: 1918/2900 (0.66137934), Test Loss: 8.860996, Test Accuracy: 440/700 (0.62857145)\n",
            "Creating Training Dataset for Epoch 20\n",
            "Dataset Creation Completed\n",
            "[Epoch 20] Training Loss: 35.071728, Training Accuracy: 2002/2900 (0.6903448), Test Loss: 8.731099, Test Accuracy: 460/700 (0.6571429)\n",
            "Creating Training Dataset for Epoch 21\n",
            "Dataset Creation Completed\n",
            "[Epoch 21] Training Loss: 35.0017, Training Accuracy: 2020/2900 (0.69655174), Test Loss: 8.666419, Test Accuracy: 465/700 (0.6642857)\n",
            "Creating Training Dataset for Epoch 22\n",
            "Dataset Creation Completed\n",
            "[Epoch 22] Training Loss: 34.49837, Training Accuracy: 2068/2900 (0.7131035), Test Loss: 8.587055, Test Accuracy: 471/700 (0.67285717)\n",
            "Creating Training Dataset for Epoch 23\n",
            "Dataset Creation Completed\n",
            "[Epoch 23] Training Loss: 34.787342, Training Accuracy: 2032/2900 (0.7006897), Test Loss: 8.677781, Test Accuracy: 461/700 (0.6585714)\n",
            "Creating Training Dataset for Epoch 24\n",
            "Dataset Creation Completed\n",
            "[Epoch 24] Training Loss: 34.520508, Training Accuracy: 2062/2900 (0.7110345), Test Loss: 8.649932, Test Accuracy: 467/700 (0.66714287)\n",
            "Creating Training Dataset for Epoch 25\n",
            "Dataset Creation Completed\n",
            "[Epoch 25] Training Loss: 34.439507, Training Accuracy: 2078/2900 (0.7165517), Test Loss: 8.532504, Test Accuracy: 481/700 (0.68714285)\n",
            "Creating Training Dataset for Epoch 26\n",
            "Dataset Creation Completed\n",
            "[Epoch 26] Training Loss: 34.31753, Training Accuracy: 2081/2900 (0.7175862), Test Loss: 8.578087, Test Accuracy: 475/700 (0.6785714)\n",
            "Creating Training Dataset for Epoch 27\n",
            "Dataset Creation Completed\n",
            "[Epoch 27] Training Loss: 33.70472, Training Accuracy: 2160/2900 (0.74482757), Test Loss: 8.585871, Test Accuracy: 471/700 (0.67285717)\n",
            "Creating Training Dataset for Epoch 28\n",
            "Dataset Creation Completed\n",
            "[Epoch 28] Training Loss: 33.965355, Training Accuracy: 2124/2900 (0.73241377), Test Loss: 8.488111, Test Accuracy: 478/700 (0.68285716)\n",
            "Creating Training Dataset for Epoch 29\n",
            "Dataset Creation Completed\n",
            "[Epoch 29] Training Loss: 34.00146, Training Accuracy: 2124/2900 (0.73241377), Test Loss: 8.424349, Test Accuracy: 487/700 (0.6957143)\n",
            "Creating Training Dataset for Epoch 30\n",
            "Dataset Creation Completed\n",
            "[Epoch 30] Training Loss: 33.831722, Training Accuracy: 2138/2900 (0.7372414), Test Loss: 8.616626, Test Accuracy: 472/700 (0.6742857)\n",
            "Creating Training Dataset for Epoch 31\n",
            "Dataset Creation Completed\n",
            "[Epoch 31] Training Loss: 33.817726, Training Accuracy: 2139/2900 (0.7375862), Test Loss: 8.462206, Test Accuracy: 486/700 (0.6942857)\n",
            "Creating Training Dataset for Epoch 32\n",
            "Dataset Creation Completed\n",
            "[Epoch 32] Training Loss: 33.61452, Training Accuracy: 2161/2900 (0.74517244), Test Loss: 8.570156, Test Accuracy: 470/700 (0.67142856)\n",
            "Creating Training Dataset for Epoch 33\n",
            "Dataset Creation Completed\n",
            "[Epoch 33] Training Loss: 33.31805, Training Accuracy: 2180/2900 (0.7517241), Test Loss: 8.468325, Test Accuracy: 486/700 (0.6942857)\n",
            "Creating Training Dataset for Epoch 34\n",
            "Dataset Creation Completed\n",
            "[Epoch 34] Training Loss: 33.22106, Training Accuracy: 2188/2900 (0.75448275), Test Loss: 8.59055, Test Accuracy: 470/700 (0.67142856)\n",
            "Creating Training Dataset for Epoch 35\n",
            "Dataset Creation Completed\n",
            "[Epoch 35] Training Loss: 33.28286, Training Accuracy: 2199/2900 (0.75827587), Test Loss: 8.538964, Test Accuracy: 472/700 (0.6742857)\n",
            "Creating Training Dataset for Epoch 36\n",
            "Dataset Creation Completed\n",
            "[Epoch 36] Training Loss: 33.28312, Training Accuracy: 2192/2900 (0.75586206), Test Loss: 8.457523, Test Accuracy: 483/700 (0.69)\n",
            "Creating Training Dataset for Epoch 37\n",
            "Dataset Creation Completed\n",
            "[Epoch 37] Training Loss: 33.217, Training Accuracy: 2199/2900 (0.75827587), Test Loss: 8.441791, Test Accuracy: 485/700 (0.69285715)\n",
            "Creating Training Dataset for Epoch 38\n",
            "Dataset Creation Completed\n",
            "[Epoch 38] Training Loss: 33.02613, Training Accuracy: 2218/2900 (0.7648276), Test Loss: 8.409832, Test Accuracy: 486/700 (0.6942857)\n",
            "Creating Training Dataset for Epoch 39\n",
            "Dataset Creation Completed\n",
            "[Epoch 39] Training Loss: 32.662193, Training Accuracy: 2258/2900 (0.77862066), Test Loss: 8.464566, Test Accuracy: 485/700 (0.69285715)\n",
            "Creating Training Dataset for Epoch 40\n",
            "Dataset Creation Completed\n",
            "[Epoch 40] Training Loss: 32.701866, Training Accuracy: 2248/2900 (0.7751724), Test Loss: 8.503538, Test Accuracy: 480/700 (0.6857143)\n",
            "Creating Training Dataset for Epoch 41\n",
            "Dataset Creation Completed\n",
            "[Epoch 41] Training Loss: 32.64108, Training Accuracy: 2264/2900 (0.78068966), Test Loss: 8.385241, Test Accuracy: 494/700 (0.7057143)\n",
            "Creating Training Dataset for Epoch 42\n",
            "Dataset Creation Completed\n",
            "[Epoch 42] Training Loss: 32.68293, Training Accuracy: 2250/2900 (0.7758621), Test Loss: 8.494101, Test Accuracy: 481/700 (0.68714285)\n",
            "Creating Training Dataset for Epoch 43\n",
            "Dataset Creation Completed\n",
            "[Epoch 43] Training Loss: 32.473663, Training Accuracy: 2289/2900 (0.78931034), Test Loss: 8.411961, Test Accuracy: 488/700 (0.69714284)\n",
            "Creating Training Dataset for Epoch 44\n",
            "Dataset Creation Completed\n",
            "[Epoch 44] Training Loss: 32.67023, Training Accuracy: 2253/2900 (0.77689654), Test Loss: 8.429411, Test Accuracy: 487/700 (0.6957143)\n",
            "Creating Training Dataset for Epoch 45\n",
            "Dataset Creation Completed\n",
            "[Epoch 45] Training Loss: 32.09167, Training Accuracy: 2314/2900 (0.797931), Test Loss: 8.431427, Test Accuracy: 484/700 (0.69142854)\n",
            "Creating Training Dataset for Epoch 46\n",
            "Dataset Creation Completed\n",
            "[Epoch 46] Training Loss: 32.157654, Training Accuracy: 2309/2900 (0.7962069), Test Loss: 8.375217, Test Accuracy: 496/700 (0.70857143)\n",
            "Creating Training Dataset for Epoch 47\n",
            "Dataset Creation Completed\n",
            "[Epoch 47] Training Loss: 32.55082, Training Accuracy: 2263/2900 (0.78034484), Test Loss: 8.458998, Test Accuracy: 487/700 (0.6957143)\n",
            "Creating Training Dataset for Epoch 48\n",
            "Dataset Creation Completed\n",
            "[Epoch 48] Training Loss: 32.1827, Training Accuracy: 2311/2900 (0.7968966), Test Loss: 8.40663, Test Accuracy: 489/700 (0.69857144)\n",
            "Creating Training Dataset for Epoch 49\n",
            "Dataset Creation Completed\n",
            "[Epoch 49] Training Loss: 32.14724, Training Accuracy: 2312/2900 (0.7972414), Test Loss: 8.372303, Test Accuracy: 490/700 (0.7)\n",
            "Creating Training Dataset for Epoch 50\n",
            "Dataset Creation Completed\n",
            "[Epoch 50] Training Loss: 32.206863, Training Accuracy: 2302/2900 (0.7937931), Test Loss: 8.408084, Test Accuracy: 490/700 (0.7)\n",
            "Creating Training Dataset for Epoch 51\n",
            "Dataset Creation Completed\n",
            "[Epoch 51] Training Loss: 31.91706, Training Accuracy: 2339/2900 (0.8065517), Test Loss: 8.349409, Test Accuracy: 497/700 (0.71)\n",
            "Creating Training Dataset for Epoch 52\n",
            "Dataset Creation Completed\n",
            "[Epoch 52] Training Loss: 31.870558, Training Accuracy: 2333/2900 (0.80448276), Test Loss: 8.402428, Test Accuracy: 492/700 (0.70285714)\n",
            "Creating Training Dataset for Epoch 53\n",
            "Dataset Creation Completed\n",
            "[Epoch 53] Training Loss: 31.732397, Training Accuracy: 2352/2900 (0.8110345), Test Loss: 8.38466, Test Accuracy: 495/700 (0.70714283)\n",
            "Creating Training Dataset for Epoch 54\n",
            "Dataset Creation Completed\n",
            "[Epoch 54] Training Loss: 31.63137, Training Accuracy: 2365/2900 (0.81551725), Test Loss: 8.304354, Test Accuracy: 500/700 (0.71428573)\n",
            "Creating Training Dataset for Epoch 55\n",
            "Dataset Creation Completed\n",
            "[Epoch 55] Training Loss: 31.648954, Training Accuracy: 2355/2900 (0.81206894), Test Loss: 8.294857, Test Accuracy: 504/700 (0.72)\n",
            "Creating Training Dataset for Epoch 56\n",
            "Dataset Creation Completed\n",
            "[Epoch 56] Training Loss: 31.666866, Training Accuracy: 2356/2900 (0.8124138), Test Loss: 8.336712, Test Accuracy: 498/700 (0.7114286)\n",
            "Creating Training Dataset for Epoch 57\n",
            "Dataset Creation Completed\n",
            "[Epoch 57] Training Loss: 31.346972, Training Accuracy: 2387/2900 (0.8231034), Test Loss: 8.366803, Test Accuracy: 492/700 (0.70285714)\n",
            "Creating Training Dataset for Epoch 58\n",
            "Dataset Creation Completed\n",
            "[Epoch 58] Training Loss: 31.443201, Training Accuracy: 2380/2900 (0.8206897), Test Loss: 8.379597, Test Accuracy: 487/700 (0.6957143)\n",
            "Creating Training Dataset for Epoch 59\n",
            "Dataset Creation Completed\n",
            "[Epoch 59] Training Loss: 31.272802, Training Accuracy: 2401/2900 (0.82793105), Test Loss: 8.357033, Test Accuracy: 491/700 (0.7014286)\n",
            "Creating Training Dataset for Epoch 60\n",
            "Dataset Creation Completed\n",
            "[Epoch 60] Training Loss: 31.75613, Training Accuracy: 2341/2900 (0.8072414), Test Loss: 8.290027, Test Accuracy: 506/700 (0.7228571)\n",
            "Creating Training Dataset for Epoch 61\n",
            "Dataset Creation Completed\n",
            "[Epoch 61] Training Loss: 31.351501, Training Accuracy: 2394/2900 (0.82551724), Test Loss: 8.327665, Test Accuracy: 499/700 (0.7128571)\n",
            "Creating Training Dataset for Epoch 62\n",
            "Dataset Creation Completed\n",
            "[Epoch 62] Training Loss: 31.48587, Training Accuracy: 2373/2900 (0.81827587), Test Loss: 8.318741, Test Accuracy: 497/700 (0.71)\n",
            "Creating Training Dataset for Epoch 63\n",
            "Dataset Creation Completed\n",
            "[Epoch 63] Training Loss: 31.131649, Training Accuracy: 2407/2900 (0.83), Test Loss: 8.297636, Test Accuracy: 499/700 (0.7128571)\n",
            "Creating Training Dataset for Epoch 64\n",
            "Dataset Creation Completed\n",
            "[Epoch 64] Training Loss: 30.919151, Training Accuracy: 2436/2900 (0.84), Test Loss: 8.268629, Test Accuracy: 499/700 (0.7128571)\n",
            "Creating Training Dataset for Epoch 65\n",
            "Dataset Creation Completed\n",
            "[Epoch 65] Training Loss: 31.073261, Training Accuracy: 2418/2900 (0.8337931), Test Loss: 8.334741, Test Accuracy: 498/700 (0.7114286)\n",
            "Creating Training Dataset for Epoch 66\n",
            "Dataset Creation Completed\n",
            "[Epoch 66] Training Loss: 30.794561, Training Accuracy: 2444/2900 (0.8427586), Test Loss: 8.264223, Test Accuracy: 503/700 (0.7185714)\n",
            "Creating Training Dataset for Epoch 67\n",
            "Dataset Creation Completed\n",
            "[Epoch 67] Training Loss: 30.685085, Training Accuracy: 2460/2900 (0.84827584), Test Loss: 8.305901, Test Accuracy: 495/700 (0.70714283)\n",
            "Creating Training Dataset for Epoch 68\n",
            "Dataset Creation Completed\n",
            "[Epoch 68] Training Loss: 30.676805, Training Accuracy: 2468/2900 (0.85103446), Test Loss: 8.322411, Test Accuracy: 502/700 (0.7171429)\n",
            "Creating Training Dataset for Epoch 69\n",
            "Dataset Creation Completed\n",
            "[Epoch 69] Training Loss: 30.579247, Training Accuracy: 2480/2900 (0.8551724), Test Loss: 8.262633, Test Accuracy: 502/700 (0.7171429)\n",
            "Creating Training Dataset for Epoch 70\n",
            "Dataset Creation Completed\n",
            "[Epoch 70] Training Loss: 30.551603, Training Accuracy: 2479/2900 (0.8548276), Test Loss: 8.299657, Test Accuracy: 501/700 (0.7157143)\n",
            "Creating Training Dataset for Epoch 71\n",
            "Dataset Creation Completed\n",
            "[Epoch 71] Training Loss: 30.635956, Training Accuracy: 2459/2900 (0.847931), Test Loss: 8.318952, Test Accuracy: 495/700 (0.70714283)\n",
            "Creating Training Dataset for Epoch 72\n",
            "Dataset Creation Completed\n",
            "[Epoch 72] Training Loss: 30.510489, Training Accuracy: 2481/2900 (0.85551727), Test Loss: 8.324481, Test Accuracy: 495/700 (0.70714283)\n",
            "Creating Training Dataset for Epoch 73\n",
            "Dataset Creation Completed\n",
            "[Epoch 73] Training Loss: 30.345486, Training Accuracy: 2491/2900 (0.8589655), Test Loss: 8.313188, Test Accuracy: 504/700 (0.72)\n",
            "Creating Training Dataset for Epoch 74\n",
            "Dataset Creation Completed\n",
            "[Epoch 74] Training Loss: 30.236015, Training Accuracy: 2508/2900 (0.8648276), Test Loss: 8.313532, Test Accuracy: 500/700 (0.71428573)\n",
            "Creating Training Dataset for Epoch 75\n",
            "Dataset Creation Completed\n",
            "[Epoch 75] Training Loss: 30.742693, Training Accuracy: 2461/2900 (0.8486207), Test Loss: 8.384074, Test Accuracy: 490/700 (0.7)\n",
            "Creating Training Dataset for Epoch 76\n",
            "Dataset Creation Completed\n",
            "[Epoch 76] Training Loss: 30.294891, Training Accuracy: 2503/2900 (0.86310345), Test Loss: 8.313178, Test Accuracy: 497/700 (0.71)\n",
            "Creating Training Dataset for Epoch 77\n",
            "Dataset Creation Completed\n",
            "[Epoch 77] Training Loss: 30.275547, Training Accuracy: 2499/2900 (0.86172414), Test Loss: 8.324158, Test Accuracy: 497/700 (0.71)\n",
            "Creating Training Dataset for Epoch 78\n",
            "Dataset Creation Completed\n",
            "[Epoch 78] Training Loss: 30.117344, Training Accuracy: 2518/2900 (0.8682759), Test Loss: 8.326006, Test Accuracy: 500/700 (0.71428573)\n",
            "Creating Training Dataset for Epoch 79\n",
            "Dataset Creation Completed\n",
            "[Epoch 79] Training Loss: 30.224691, Training Accuracy: 2508/2900 (0.8648276), Test Loss: 8.374521, Test Accuracy: 495/700 (0.70714283)\n",
            "Creating Training Dataset for Epoch 80\n",
            "Dataset Creation Completed\n",
            "[Epoch 80] Training Loss: 30.41342, Training Accuracy: 2479/2900 (0.8548276), Test Loss: 8.335438, Test Accuracy: 496/700 (0.70857143)\n"
          ],
          "name": "stdout"
        }
      ]
    },
    {
      "cell_type": "markdown",
      "metadata": {
        "id": "aRWzpR3q9ho6",
        "colab_type": "text"
      },
      "source": [
        "### Visualizing results of the training"
      ]
    },
    {
      "cell_type": "markdown",
      "metadata": {
        "id": "7zD0-Bvf9iD6",
        "colab_type": "text"
      },
      "source": [
        "We'll now visualize the results we get after training our network."
      ]
    },
    {
      "cell_type": "code",
      "metadata": {
        "id": "4h42Yr6O_3NR",
        "colab_type": "code",
        "outputId": "f646d271-216d-4817-cbbf-3b064603f86c",
        "colab": {
          "base_uri": "https://localhost:8080/",
          "height": 550
        }
      },
      "source": [
        "plt.figure(figsize: [12, 8])\n",
        "plt.subplot(1, 2, 1)\n",
        "plt.xlabel(\"Number of Epochs\")\n",
        "plt.ylabel(\"Training Accuracy(l) vs Validation Accuracy(o)\")\n",
        "plt.plot(epochsRange, trainingAccuracy)\n",
        "plt.plot(epochsRange, validationAccuracy)\n",
        "var loc = \"lower right\"\n",
        "plt.legend(loc)\n",
        "plt.title(\"Training and Validation Accuracy\")\n",
        "\n",
        "plt.subplot(1, 2, 2)\n",
        "plt.xlabel(\"Number of Epochs\")\n",
        "plt.ylabel(\"Training Loss(u) vs Validation Loss(p)\")\n",
        "plt.plot(epochsRange, trainingLoss)\n",
        "plt.plot(epochsRange, validationLoss)\n",
        "loc = \"upper right\"\n",
        "plt.legend(loc)\n",
        "plt.title(\"Training and Validation Loss\")\n",
        "plt.show()"
      ],
      "execution_count": 0,
      "outputs": [
        {
          "output_type": "display_data",
          "data": {
            "image/png": "[encoded data removed]",
            "text/plain": [
              "<Figure size 864x576 with 2 Axes>"
            ]
          },
          "metadata": {
            "tags": []
          }
        },
        {
          "output_type": "execute_result",
          "data": {
            "text/plain": [
              "None\n"
            ]
          },
          "metadata": {
            "tags": []
          },
          "execution_count": 19
        }
      ]
    },{"cell_type":"markdown","metadata":{"id":"uGE3VS9VfcaA","colab_type":"text"},"source":["# TODO: Experiment with Different Parameters"]},{"cell_type":"markdown","metadata":{"id":"OA8_Egr6faNB","colab_type":"text"},"source":["So far you've created a CNN with 3 convolutional layers and followed by a fully connected layer with 512 units. In the cells below create a new CNN with a different architecture. Feel free to experiement by changing as many parameters as you like. For example, you can add more convolutional layers, or more fully connected layers. You can also experiement with different filter sizes in your convolutional layers, different number of units in your fully connected layers, different dropout rates, etc... You can also experiment by performing image aumentation with more image transformations that we have seen so far. For example, you can add shear transformations, or you can vary the brightness of the images, etc... Experiment as much as you can and compare the accuracy of your various models. Which parameters give you the best result?"]}]}
