{
 "cells": [
  {
   "cell_type": "code",
   "execution_count": 74,
   "metadata": {
    "collapsed": true
   },
   "outputs": [],
   "source": [
    "import numpy as np"
   ]
  },
  {
   "cell_type": "code",
   "execution_count": 75,
   "metadata": {
    "collapsed": true
   },
   "outputs": [],
   "source": [
    "# define training data\n",
    "\n",
    "X = np.array([[0,0,1],[1,1,1],[1,0,1],[0,1,1]]) # training inputs\n",
    "y = np.array([[0,1,1,0]]).T # training outputs/labels"
   ]
  },
  {
   "cell_type": "code",
   "execution_count": 76,
   "metadata": {
    "collapsed": false
   },
   "outputs": [
    {
     "name": "stdout",
     "output_type": "stream",
     "text": [
      "[[0 0 1]\n",
      " [1 1 1]\n",
      " [1 0 1]\n",
      " [0 1 1]]\n"
     ]
    }
   ],
   "source": [
    "print(X)"
   ]
  },
  {
   "cell_type": "code",
   "execution_count": 77,
   "metadata": {
    "collapsed": false
   },
   "outputs": [
    {
     "name": "stdout",
     "output_type": "stream",
     "text": [
      "[[0]\n",
      " [1]\n",
      " [1]\n",
      " [0]]\n"
     ]
    }
   ],
   "source": [
    "print(y)"
   ]
  },
  {
   "cell_type": "code",
   "execution_count": 78,
   "metadata": {
    "collapsed": true
   },
   "outputs": [],
   "source": [
    "num_features = len(X[0])\n",
    "num_output = len(y[0])"
   ]
  },
  {
   "cell_type": "code",
   "execution_count": 79,
   "metadata": {
    "collapsed": false
   },
   "outputs": [
    {
     "name": "stdout",
     "output_type": "stream",
     "text": [
      "3 1\n"
     ]
    }
   ],
   "source": [
    "print(num_features, num_output)"
   ]
  },
  {
   "cell_type": "code",
   "execution_count": 85,
   "metadata": {
    "collapsed": false
   },
   "outputs": [],
   "source": [
    "class NeuralNetwork():\n",
    "    \n",
    "    def __init__(self, inputs, labels, epochs=10000):\n",
    "        \n",
    "        self.X = inputs\n",
    "        self.y = labels\n",
    "        self.num_features = len(inputs[0])\n",
    "        self.num_output = len(labels[0])\n",
    "        self.epochs = epochs\n",
    "        np.random.seed(1)\n",
    "        \n",
    "        # initialize weights with a mean of 0\n",
    "        self.weights = 2*np.random.random((num_features,num_output))-1\n",
    "        self.gradients = None\n",
    "        \n",
    "    def sigmoid(self, weighted_input):\n",
    "        return 1/(1+np.exp(-weighted_input))\n",
    "    \n",
    "    def sigmoid_derivative(self, output):\n",
    "        \n",
    "        # the derivative of a sigmoid function can be calculated\n",
    "        # using its output, so output refers to output of the\n",
    "        # sigmoid activation\n",
    "        # returns the slope of each point in output\n",
    "        \n",
    "        return output*(1-output)\n",
    "        \n",
    "    def train(self):\n",
    "        \n",
    "        for i in range(self.epochs): # train for number of epochs\n",
    "            \n",
    "            layer0 = self.X # first layer in network or input data\n",
    "            \n",
    "            layer1 = self.sigmoid(np.dot(layer0, self.weights))  # second layer which is also output layer in this case\n",
    "            \n",
    "            layer1_error = y - layer1  # calculate error at the layer\n",
    "            \n",
    "            # multiply error by slope of sigmoid at the values in layer1\n",
    "            # using the Error Weighted Derivative\n",
    "            layer1_delta = layer1_error * self.sigmoid_derivative(layer1)\n",
    "            \n",
    "            self.gradients = np.dot(self.X.T, layer1_delta)\n",
    "        \n",
    "            self.weights = self.weights + self.gradients\n",
    "            \n",
    "    def predict(self, input):\n",
    "        \n",
    "        return self.sigmoid(np.dot(input, self.weights))\n",
    "        "
   ]
  },
  {
   "cell_type": "code",
   "execution_count": 86,
   "metadata": {
    "collapsed": false
   },
   "outputs": [],
   "source": [
    "nn = NeuralNetwork(X, y)"
   ]
  },
  {
   "cell_type": "code",
   "execution_count": 87,
   "metadata": {
    "collapsed": false
   },
   "outputs": [],
   "source": [
    "nn.train()"
   ]
  },
  {
   "cell_type": "code",
   "execution_count": 88,
   "metadata": {
    "collapsed": false
   },
   "outputs": [
    {
     "data": {
      "text/plain": [
       "array([ 0.99993704])"
      ]
     },
     "execution_count": 88,
     "metadata": {},
     "output_type": "execute_result"
    }
   ],
   "source": [
    "nn.predict([1,0,0])"
   ]
  },
  {
   "cell_type": "code",
   "execution_count": 89,
   "metadata": {
    "collapsed": false
   },
   "outputs": [
    {
     "data": {
      "text/plain": [
       "array([ 0.5])"
      ]
     },
     "execution_count": 89,
     "metadata": {},
     "output_type": "execute_result"
    }
   ],
   "source": [
    "nn.predict([0,0,0])"
   ]
  },
  {
   "cell_type": "code",
   "execution_count": 90,
   "metadata": {
    "collapsed": false
   },
   "outputs": [
    {
     "data": {
      "text/plain": [
       "array([ 0.009664])"
      ]
     },
     "execution_count": 90,
     "metadata": {},
     "output_type": "execute_result"
    }
   ],
   "source": [
    "nn.predict([0,0,1])"
   ]
  },
  {
   "cell_type": "code",
   "execution_count": 91,
   "metadata": {
    "collapsed": false
   },
   "outputs": [
    {
     "data": {
      "text/plain": [
       "array([[ 9.67299303],\n",
       "       [-0.2078435 ],\n",
       "       [-4.62963669]])"
      ]
     },
     "execution_count": 91,
     "metadata": {},
     "output_type": "execute_result"
    }
   ],
   "source": [
    "nn.weights"
   ]
  },
  {
   "cell_type": "code",
   "execution_count": 92,
   "metadata": {
    "collapsed": false
   },
   "outputs": [
    {
     "data": {
      "text/plain": [
       "(3, 1)"
      ]
     },
     "execution_count": 92,
     "metadata": {},
     "output_type": "execute_result"
    }
   ],
   "source": [
    "nn.gradients.shape"
   ]
  },
  {
   "cell_type": "code",
   "execution_count": 93,
   "metadata": {
    "collapsed": false
   },
   "outputs": [
    {
     "data": {
      "text/plain": [
       "(4, 1)"
      ]
     },
     "execution_count": 93,
     "metadata": {},
     "output_type": "execute_result"
    }
   ],
   "source": [
    "nn.sigmoid_derivative(y).shape"
   ]
  },
  {
   "cell_type": "code",
   "execution_count": null,
   "metadata": {
    "collapsed": true
   },
   "outputs": [],
   "source": []
  }
 ],
 "metadata": {
  "kernelspec": {
   "display_name": "Python 3",
   "language": "python",
   "name": "python3"
  },
  "language_info": {
   "codemirror_mode": {
    "name": "ipython",
    "version": 3
   },
   "file_extension": ".py",
   "mimetype": "text/x-python",
   "name": "python",
   "nbconvert_exporter": "python",
   "pygments_lexer": "ipython3",
   "version": "3.5.2"
  }
 },
 "nbformat": 4,
 "nbformat_minor": 2
}
