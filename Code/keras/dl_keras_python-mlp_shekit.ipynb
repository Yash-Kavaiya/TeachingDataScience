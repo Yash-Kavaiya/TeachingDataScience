{
 "cells": [
  {
   "cell_type": "code",
   "execution_count": 1,
   "metadata": {
    "collapsed": true
   },
   "outputs": [],
   "source": [
    "import numpy as np"
   ]
  },
  {
   "cell_type": "code",
   "execution_count": 2,
   "metadata": {
    "collapsed": true
   },
   "outputs": [],
   "source": [
    "# input data\n",
    "\n",
    "X = np.array([[0,0,1],[0,1,1],[1,0,1],[1,1,1]])\n",
    "y = np.array([[0,1,1,0]]).T"
   ]
  },
  {
   "cell_type": "code",
   "execution_count": 16,
   "metadata": {
    "collapsed": true
   },
   "outputs": [],
   "source": [
    "class NeuralNetwork():\n",
    "    \n",
    "    def __init__(self, X, y):\n",
    "        \n",
    "        self.X = X\n",
    "        self.y = y\n",
    "        self.num_features = len(X[0])\n",
    "        self.num_outputs = len(y[0])\n",
    "        self.layer1_neurons = 4\n",
    "        self.weights_layer1 = 2*np.random.random((self.num_features, self.layer1_neurons))-1\n",
    "        self.weights_layer2 = 2*np.random.random((self.layer1_neurons, self.num_outputs))-1\n",
    "        \n",
    "    \n",
    "    def sigmoid(self, weighted_input):\n",
    "        \n",
    "        return 1/(1+np.exp(-weighted_input))\n",
    "    \n",
    "    \n",
    "    def sigmoid_derivative(self, sigmoid_output):\n",
    "        \n",
    "        return sigmoid_output*(1-sigmoid_output)\n",
    "        \n",
    "    def train(self, num_epochs):\n",
    "        \n",
    "        for i in range(num_epochs):\n",
    "            \n",
    "            inputs = self.X\n",
    "            \n",
    "            layer1_pred = self.sigmoid(np.dot(inputs, self.weights_layer1))\n",
    "            layer2_pred = self.sigmoid(np.dot(layer1_pred, self.weights_layer2))\n",
    "            \n",
    "            layer2_error = self.y - layer2_pred\n",
    "            \n",
    "            \n",
    "            if (i%10000)==0:\n",
    "                print(\"Error:\", str(np.mean(np.abs(layer2_error))))\n",
    "            \n",
    "            #error weighted derivative\n",
    "            \n",
    "            \n",
    "            layer2_delta = layer2_error * self.sigmoid_derivative(layer2_pred)\n",
    "            layer2_gradient = np.dot(layer1_pred.T, layer2_delta)\n",
    "            \n",
    "            \n",
    "\n",
    "            layer1_error = np.dot(layer2_delta, self.weights_layer2.T)\n",
    "            \n",
    "            layer1_delta = layer1_error * self.sigmoid_derivative(layer1_pred)\n",
    "            layer1_gradient = np.dot(self.X.T, layer1_delta)\n",
    "            \n",
    "            self.weights_layer2 += layer2_gradient\n",
    "            self.weights_layer1 += layer1_gradient\n",
    "            \n",
    "    def predict(self, new):\n",
    "        \n",
    "        layer1 = self.sigmoid(np.dot(new, self.weights_layer1))\n",
    "        layer2 = self.sigmoid(np.dot(layer1, self.weights_layer2))\n",
    "        return layer2\n",
    "        \n",
    "        "
   ]
  },
  {
   "cell_type": "code",
   "execution_count": 17,
   "metadata": {
    "collapsed": false
   },
   "outputs": [],
   "source": [
    "nn = NeuralNetwork(X,y)"
   ]
  },
  {
   "cell_type": "code",
   "execution_count": 18,
   "metadata": {
    "collapsed": false
   },
   "outputs": [
    {
     "name": "stdout",
     "output_type": "stream",
     "text": [
      "Error: 0.49950888573\n",
      "Error: 0.0103658560397\n",
      "Error: 0.00712247674104\n",
      "Error: 0.00573721700728\n",
      "Error: 0.00492574632641\n",
      "Error: 0.00437802833652\n"
     ]
    }
   ],
   "source": [
    "nn.train(60000)"
   ]
  },
  {
   "cell_type": "code",
   "execution_count": 19,
   "metadata": {
    "collapsed": false
   },
   "outputs": [
    {
     "data": {
      "text/plain": [
       "array([[ 3.10305519,  6.95274936, -1.71962941,  6.01202485],\n",
       "       [ 3.20695157, -5.85911077, -0.4274608 , -7.05283504],\n",
       "       [-0.30390163,  2.8371537 ,  1.20254648, -2.96409346]])"
      ]
     },
     "execution_count": 19,
     "metadata": {},
     "output_type": "execute_result"
    }
   ],
   "source": [
    "nn.weights_layer1"
   ]
  },
  {
   "cell_type": "code",
   "execution_count": 20,
   "metadata": {
    "collapsed": false
   },
   "outputs": [
    {
     "data": {
      "text/plain": [
       "array([[  4.41290193],\n",
       "       [-10.90150095],\n",
       "       [  2.64079937],\n",
       "       [ 11.80037003]])"
      ]
     },
     "execution_count": 20,
     "metadata": {},
     "output_type": "execute_result"
    }
   ],
   "source": [
    "nn.weights_layer2"
   ]
  },
  {
   "cell_type": "code",
   "execution_count": 21,
   "metadata": {
    "collapsed": false
   },
   "outputs": [
    {
     "data": {
      "text/plain": [
       "array([[ 0.995871]])"
      ]
     },
     "execution_count": 21,
     "metadata": {},
     "output_type": "execute_result"
    }
   ],
   "source": [
    "nn.predict([[0,1,1]])"
   ]
  },
  {
   "cell_type": "code",
   "execution_count": 22,
   "metadata": {
    "collapsed": false
   },
   "outputs": [
    {
     "data": {
      "text/plain": [
       "array([ 0.40011306])"
      ]
     },
     "execution_count": 22,
     "metadata": {},
     "output_type": "execute_result"
    }
   ],
   "source": [
    "nn.predict([1,1,0])"
   ]
  },
  {
   "cell_type": "code",
   "execution_count": null,
   "metadata": {
    "collapsed": true
   },
   "outputs": [],
   "source": []
  }
 ],
 "metadata": {
  "kernelspec": {
   "display_name": "Python 3",
   "language": "python",
   "name": "python3"
  },
  "language_info": {
   "codemirror_mode": {
    "name": "ipython",
    "version": 3
   },
   "file_extension": ".py",
   "mimetype": "text/x-python",
   "name": "python",
   "nbconvert_exporter": "python",
   "pygments_lexer": "ipython3",
   "version": "3.5.2"
  }
 },
 "nbformat": 4,
 "nbformat_minor": 2
}
