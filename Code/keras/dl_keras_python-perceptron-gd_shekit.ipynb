{
 "cells": [
  {
   "cell_type": "code",
   "execution_count": 1,
   "metadata": {
    "collapsed": true
   },
   "outputs": [],
   "source": [
    "import numpy as np"
   ]
  },
  {
   "cell_type": "code",
   "execution_count": 2,
   "metadata": {
    "collapsed": true
   },
   "outputs": [],
   "source": [
    "# training data\n",
    "\n",
    "X = np.array([[0,1],[0,1],[1,0],[1,0]])\n",
    "y = np.array([[0,0,1,1]]).T"
   ]
  },
  {
   "cell_type": "code",
   "execution_count": 3,
   "metadata": {
    "collapsed": true
   },
   "outputs": [],
   "source": [
    "def sigmoid(x):\n",
    "    return 1/(1+np.exp(-x))\n",
    "\n",
    "def sigmoid_output_to_derivative(output):\n",
    "    return output*(1-output)"
   ]
  },
  {
   "cell_type": "code",
   "execution_count": 20,
   "metadata": {
    "collapsed": true
   },
   "outputs": [],
   "source": [
    "np.random.seed(1)\n",
    "weights = 2*np.random.random((2,1))-1"
   ]
  },
  {
   "cell_type": "code",
   "execution_count": 21,
   "metadata": {
    "collapsed": false
   },
   "outputs": [
    {
     "name": "stdout",
     "output_type": "stream",
     "text": [
      "Training over. Layer 1: [[ 0.00717543]\n",
      " [ 0.00717543]\n",
      " [ 0.99282528]\n",
      " [ 0.99282528]]\n",
      "Weights: [[ 4.93004138]\n",
      " [-4.92994307]]\n"
     ]
    }
   ],
   "source": [
    "epochs = 10000\n",
    "learning_rate = 0.5\n",
    "\n",
    "for i in range(epochs):\n",
    "    \n",
    "    #forward pass\n",
    "    layer_0 = X\n",
    "    layer_1 = sigmoid(np.dot(X,weights))\n",
    "    \n",
    "    # error\n",
    "    error = layer_1 - y\n",
    "    \n",
    "    layer1_delta = error * sigmoid_output_to_derivative(layer_1)\n",
    "    \n",
    "    gradients = np.dot(layer_0.T, layer1_delta)\n",
    "    \n",
    "    weights -= (learning_rate * gradients)\n",
    "    \n",
    "print(\"Training over. Layer 1:\", layer_1)\n",
    "print(\"Weights:\", weights)"
   ]
  },
  {
   "cell_type": "code",
   "execution_count": null,
   "metadata": {
    "collapsed": true
   },
   "outputs": [],
   "source": []
  }
 ],
 "metadata": {
  "kernelspec": {
   "display_name": "Python 3",
   "language": "python",
   "name": "python3"
  },
  "language_info": {
   "codemirror_mode": {
    "name": "ipython",
    "version": 3
   },
   "file_extension": ".py",
   "mimetype": "text/x-python",
   "name": "python",
   "nbconvert_exporter": "python",
   "pygments_lexer": "ipython3",
   "version": "3.5.2"
  }
 },
 "nbformat": 4,
 "nbformat_minor": 2
}
