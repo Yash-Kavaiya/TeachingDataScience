{
 "cells": [
  {
   "cell_type": "code",
   "execution_count": 1,
   "metadata": {
    "collapsed": true,
    "deletable": true,
    "editable": true
   },
   "outputs": [],
   "source": [
    "import tensorflow as tf\n",
    "import numpy as np\n",
    "import matplotlib.pyplot as plt\n",
    "\n",
    "%matplotlib inline"
   ]
  },
  {
   "cell_type": "code",
   "execution_count": 2,
   "metadata": {
    "collapsed": true,
    "deletable": true,
    "editable": true
   },
   "outputs": [],
   "source": [
    "from tensorflow.examples.tutorials.mnist import input_data"
   ]
  },
  {
   "cell_type": "code",
   "execution_count": 3,
   "metadata": {
    "collapsed": false,
    "deletable": true,
    "editable": true
   },
   "outputs": [
    {
     "name": "stdout",
     "output_type": "stream",
     "text": [
      "Extracting mnist_data/train-images-idx3-ubyte.gz\n",
      "Extracting mnist_data/train-labels-idx1-ubyte.gz\n",
      "Extracting mnist_data/t10k-images-idx3-ubyte.gz\n",
      "Extracting mnist_data/t10k-labels-idx1-ubyte.gz\n"
     ]
    }
   ],
   "source": [
    "mnist = input_data.read_data_sets(\"mnist_data/\", one_hot=True)"
   ]
  },
  {
   "cell_type": "code",
   "execution_count": 4,
   "metadata": {
    "collapsed": false,
    "deletable": true,
    "editable": true
   },
   "outputs": [
    {
     "data": {
      "text/plain": [
       "(55000, 784)"
      ]
     },
     "execution_count": 4,
     "metadata": {},
     "output_type": "execute_result"
    }
   ],
   "source": [
    "mnist.train.images.shape"
   ]
  },
  {
   "cell_type": "code",
   "execution_count": 5,
   "metadata": {
    "collapsed": true,
    "deletable": true,
    "editable": true
   },
   "outputs": [],
   "source": [
    "X = tf.placeholder(tf.float32, shape=[None,784])\n",
    "Y = tf.placeholder(tf.float32, shape=[None, 10])"
   ]
  },
  {
   "cell_type": "code",
   "execution_count": 6,
   "metadata": {
    "collapsed": true,
    "deletable": true,
    "editable": true
   },
   "outputs": [],
   "source": [
    "X_tensor = tf.reshape(X, (-1, 28,28,1))"
   ]
  },
  {
   "cell_type": "code",
   "execution_count": 7,
   "metadata": {
    "collapsed": true,
    "deletable": true,
    "editable": true
   },
   "outputs": [],
   "source": [
    "filter_size = 5\n",
    "n_filters_in = 1\n",
    "n_filters_out = 32\n",
    "\n",
    "W_one = tf.get_variable(name='W',\n",
    "                       shape=[filter_size, filter_size, n_filters_in, n_filters_out],\n",
    "                       initializer=tf.random_normal_initializer())\n",
    "\n",
    "b_one = tf.get_variable(name='B',\n",
    "                       shape=[n_filters_out],\n",
    "                       initializer=tf.constant_initializer())"
   ]
  },
  {
   "cell_type": "code",
   "execution_count": 8,
   "metadata": {
    "collapsed": false,
    "deletable": true,
    "editable": true
   },
   "outputs": [],
   "source": [
    "h_one = tf.nn.relu(tf.nn.bias_add(tf.nn.conv2d(X_tensor,\n",
    "                  W_one,\n",
    "                  strides=[1,2,2,1],\n",
    "                  padding='SAME'), b_one))"
   ]
  },
  {
   "cell_type": "code",
   "execution_count": 9,
   "metadata": {
    "collapsed": true,
    "deletable": true,
    "editable": true
   },
   "outputs": [],
   "source": [
    "n_filters_two_in = 32\n",
    "n_filters_two_out = 64\n",
    "\n",
    "W_two = tf.get_variable(name='W2',\n",
    "                       shape=[filter_size, filter_size, n_filters_two_in, n_filters_two_out],\n",
    "                       initializer=tf.random_normal_initializer())\n",
    "\n",
    "b_two = tf.get_variable(name='b2',\n",
    "                       shape=[n_filters_two_out],\n",
    "                       initializer=tf.constant_initializer())\n",
    "\n",
    "h_two = tf.nn.relu(tf.nn.bias_add(tf.nn.conv2d(h_one,\n",
    "                                              W_two,\n",
    "                                              strides=[1,2,2,1],\n",
    "                                              padding='SAME')\n",
    "                                  ,b_two))"
   ]
  },
  {
   "cell_type": "code",
   "execution_count": 10,
   "metadata": {
    "collapsed": true,
    "deletable": true,
    "editable": true
   },
   "outputs": [],
   "source": [
    "# flatten layer to plug into fully connected\n",
    "\n",
    "h_two_flat = tf.reshape(h_two, [-1, 7*7*n_filters_two_out])"
   ]
  },
  {
   "cell_type": "code",
   "execution_count": 11,
   "metadata": {
    "collapsed": true,
    "deletable": true,
    "editable": true
   },
   "outputs": [],
   "source": [
    "# fully connected layer\n",
    "\n",
    "W_c = tf.get_variable(name='W_c',\n",
    "                     shape=[h_two_flat.get_shape().as_list()[1], 128],\n",
    "                      dtype=tf.float32,\n",
    "                     initializer=tf.contrib.layers.xavier_initializer())\n",
    "\n",
    "b_c = tf.get_variable(name='b_c',\n",
    "                     shape=[128],\n",
    "                      dtype=tf.float32,\n",
    "                     initializer=tf.constant_initializer(0.0))\n",
    "\n",
    "h_c = tf.nn.relu(tf.matmul(h_two_flat, W_c)+b_c)"
   ]
  },
  {
   "cell_type": "code",
   "execution_count": 12,
   "metadata": {
    "collapsed": true,
    "deletable": true,
    "editable": true
   },
   "outputs": [],
   "source": [
    "W_f = tf.get_variable(name='W_f',\n",
    "                     shape=[128, 10],\n",
    "                      dtype=tf.float32,\n",
    "                     initializer=tf.contrib.layers.xavier_initializer())\n",
    "\n",
    "b_f = tf.get_variable(name='b_f',\n",
    "                     shape=[10],\n",
    "                      dtype=tf.float32,\n",
    "                     initializer=tf.constant_initializer(0.0))\n",
    "\n",
    "Y_pred = tf.nn.softmax(tf.matmul(h_c, W_f)+b_f)"
   ]
  },
  {
   "cell_type": "code",
   "execution_count": 13,
   "metadata": {
    "collapsed": true,
    "deletable": true,
    "editable": true
   },
   "outputs": [],
   "source": [
    "cross_entropy = tf.reduce_mean(-tf.reduce_sum(Y * tf.log(Y_pred+ 1e-12)))\n",
    "optimizer = tf.train.AdamOptimizer().minimize(cross_entropy)"
   ]
  },
  {
   "cell_type": "code",
   "execution_count": 14,
   "metadata": {
    "collapsed": true,
    "deletable": true,
    "editable": true
   },
   "outputs": [],
   "source": [
    "correct_pred = tf.equal(tf.argmax(Y_pred, 1), tf.argmax(Y,1))\n",
    "accuracy = tf.reduce_mean(tf.cast(correct_pred, 'float'))"
   ]
  },
  {
   "cell_type": "code",
   "execution_count": 15,
   "metadata": {
    "collapsed": true,
    "deletable": true,
    "editable": true
   },
   "outputs": [],
   "source": [
    "sess = tf.Session()\n",
    "sess.run(tf.global_variables_initializer())"
   ]
  },
  {
   "cell_type": "code",
   "execution_count": 16,
   "metadata": {
    "collapsed": false,
    "deletable": true,
    "editable": true
   },
   "outputs": [
    {
     "name": "stdout",
     "output_type": "stream",
     "text": [
      "Cost: 489992.0\n",
      "Cost: 9155.97\n",
      "Cost: 4156.91\n",
      "Cost: 2136.89\n",
      "Cost: 1698.0\n",
      "Cost: 833.125\n",
      "Cost: 1105.82\n",
      "Cost: 1158.02\n",
      "Cost: 1012.01\n",
      "Cost: 944.796\n",
      "0.9754\n"
     ]
    }
   ],
   "source": [
    "batch_size = 100\n",
    "n_epochs = 10\n",
    "\n",
    "for i in range(n_epochs):\n",
    "    for _ in range(500):\n",
    "        batch_x, batch_y = mnist.train.next_batch(batch_size)\n",
    "        sess.run(optimizer, feed_dict={X:batch_x, Y:batch_y})\n",
    "    \n",
    "    print(\"Cost:\", sess.run(cross_entropy, feed_dict={X:mnist.train.images, Y:mnist.train.labels}))\n",
    "\n",
    "print(sess.run(accuracy, feed_dict={X:mnist.test.images, Y:mnist.test.labels}))"
   ]
  },
  {
   "cell_type": "code",
   "execution_count": null,
   "metadata": {
    "collapsed": true,
    "deletable": true,
    "editable": true
   },
   "outputs": [],
   "source": []
  }
 ],
 "metadata": {
  "kernelspec": {
   "display_name": "Python 3",
   "language": "python",
   "name": "python3"
  },
  "language_info": {
   "codemirror_mode": {
    "name": "ipython",
    "version": 3
   },
   "file_extension": ".py",
   "mimetype": "text/x-python",
   "name": "python",
   "nbconvert_exporter": "python",
   "pygments_lexer": "ipython3",
   "version": "3.5.3"
  }
 },
 "nbformat": 4,
 "nbformat_minor": 2
}
