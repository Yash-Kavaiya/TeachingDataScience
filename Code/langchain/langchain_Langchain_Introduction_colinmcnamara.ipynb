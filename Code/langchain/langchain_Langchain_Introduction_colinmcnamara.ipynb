{
  "cells": [
    {
      "cell_type": "markdown",
      "metadata": {
        "id": "ot-DVxCJlTBc"
      },
      "source": [
        "<a href=\"https://colab.research.google.com/github/colinmcnamara/austin_langchain/blob/main/labs/Langchain_Introduction/Langchain_Introduction.ipynb\" target=\"_parent\"><img src=\"https://colab.research.google.com/assets/colab-badge.svg\" alt=\"Open In Colab\"/></a>"
      ]
    },
    {
      "cell_type": "markdown",
      "metadata": {
        "id": "ImHNECVHLIgc"
      },
      "source": [
        "# Langchain Introduction"
      ]
    },
    {
      "cell_type": "markdown",
      "metadata": {
        "id": "jIPKgYwzLf2g"
      },
      "source": [
        "In this notebook, you'll be able to setup a simple langchain application and use it to communicate with OpenAI's **chat-3.5-turbo** model **(ChatGPT)**.\n",
        "\n",
        "This will help build your understanding about Langchain and help you create more complex AI applications using LLMs."
      ]
    },
    {
      "cell_type": "markdown",
      "metadata": {
        "id": "7NBa244mLN1k"
      },
      "source": [
        "## 1. Install langchain and openai packages"
      ]
    },
    {
      "cell_type": "code",
      "execution_count": 1,
      "metadata": {
        "id": "5VCg0TQRHREK"
      },
      "outputs": [],
      "source": [
        "%pip install -q langchain openai cohere tiktoken"
      ]
    },
    {
      "cell_type": "markdown",
      "metadata": {
        "id": "xOU5l2NjMu99"
      },
      "source": [
        "## 2. Import langchain packages"
      ]
    },
    {
      "cell_type": "code",
      "execution_count": 2,
      "metadata": {
        "id": "wI4T4H2_HTX8"
      },
      "outputs": [],
      "source": [
        "from langchain.callbacks.base import BaseCallbackHandler\n",
        "from langchain.chat_models import ChatOpenAI\n",
        "from langchain.schema import ChatMessage"
      ]
    },
    {
      "cell_type": "markdown",
      "metadata": {
        "id": "RpieQnSHM07H"
      },
      "source": [
        "## 3. Get `OPENAI_API_KEY` from Colab Secret\n",
        "\n",
        "Ensure you have the OpanAI API Key stores in the secrets accessible on the left side bar."
      ]
    },
    {
      "cell_type": "code",
      "execution_count": 3,
      "metadata": {
        "colab": {
          "base_uri": "https://localhost:8080/"
        },
        "id": "V6WS11vVHjGa",
        "outputId": "4759bf0c-9a99-4858-973e-6eef508d24d3"
      },
      "outputs": [
        {
          "name": "stdout",
          "output_type": "stream",
          "text": [
            "OPENAI_API_KEY found in colab secret\n"
          ]
        }
      ],
      "source": [
        "from google.colab import userdata\n",
        "openai_api_key = userdata.get('OPENAI_API_KEY')\n",
        "if openai_api_key == None:\n",
        "  print(\"OPENAI_API_KEY not found in colab secret\")\n",
        "else:\n",
        "  print(\"OPENAI_API_KEY found in colab secret\")"
      ]
    },
    {
      "cell_type": "markdown",
      "metadata": {
        "id": "2A0OVT1PP484"
      },
      "source": [
        "## 4. Create a Langchain object (llm) for OpenAI's chat api interface\n",
        "\n",
        "We pass the OpenAI API key to the interface so we can communicate with OpenAI APIs."
      ]
    },
    {
      "cell_type": "code",
      "execution_count": 4,
      "metadata": {
        "id": "CVLjaW21IqFp"
      },
      "outputs": [],
      "source": [
        "llm = ChatOpenAI(openai_api_key=openai_api_key)"
      ]
    },
    {
      "cell_type": "markdown",
      "metadata": {
        "id": "QTWNYCK4Q77z"
      },
      "source": [
        "## 5. Create an object to store all the prompts and responses from the AI chat\n",
        "\n",
        "We also add the initial \"Assistant\" prompt in a `ChatMessage` object as the first message to the list.\n",
        "\n",
        "Important thing to note is that the OpenAI Chat interface expects you to pass a list of messages. We will add the user prompt and the responses from the LLM to this list of messages as we interact with OpenAI."
      ]
    },
    {
      "cell_type": "code",
      "execution_count": 5,
      "metadata": {
        "id": "ANzzmXjHJ6N-"
      },
      "outputs": [],
      "source": [
        "messages = [ChatMessage(role=\"assistant\", content=\"How may I help you?\")]"
      ]
    },
    {
      "cell_type": "markdown",
      "metadata": {
        "id": "XF5rDL_iSC23"
      },
      "source": [
        "## 6. Get user's prompt and add it to the messages"
      ]
    },
    {
      "cell_type": "code",
      "execution_count": 13,
      "metadata": {
        "colab": {
          "base_uri": "https://localhost:8080/"
        },
        "id": "RLU76UPII4Vc",
        "outputId": "db5da7a5-d12b-448d-ac01-a97a9e077989"
      },
      "outputs": [
        {
          "name": "stdout",
          "output_type": "stream",
          "text": [
            "How many celestial bodies are in the solar system?\n"
          ]
        }
      ],
      "source": [
        "prompt = input()"
      ]
    },
    {
      "cell_type": "code",
      "execution_count": 14,
      "metadata": {
        "id": "TWHmymUkKDbW"
      },
      "outputs": [],
      "source": [
        "messages.append(ChatMessage(role=\"user\", content=prompt))"
      ]
    },
    {
      "cell_type": "code",
      "execution_count": 15,
      "metadata": {
        "colab": {
          "base_uri": "https://localhost:8080/"
        },
        "id": "Tv6gb86LKVnZ",
        "outputId": "7ce8883b-a929-4a79-d2f5-6f44166372ee"
      },
      "outputs": [
        {
          "data": {
            "text/plain": [
              "[ChatMessage(content='How may I help you?', role='assistant'),\n",
              " ChatMessage(content='How far is the Earth from the Sun?', role='user'),\n",
              " AIMessage(content='The average distance from the Earth to the Sun is about 93 million miles (150 million kilometers).'),\n",
              " ChatMessage(content='How many celestial bodies are in the solar system?', role='user')]"
            ]
          },
          "execution_count": 15,
          "metadata": {},
          "output_type": "execute_result"
        }
      ],
      "source": [
        "messages"
      ]
    },
    {
      "cell_type": "markdown",
      "metadata": {
        "id": "1gZLig1SbPW0"
      },
      "source": [
        "## 7. Run the messages through the Langchain and get the response"
      ]
    },
    {
      "cell_type": "code",
      "execution_count": 16,
      "metadata": {
        "id": "lCpL_SsHIyUn"
      },
      "outputs": [],
      "source": [
        "response = llm(messages)"
      ]
    },
    {
      "cell_type": "code",
      "execution_count": 17,
      "metadata": {
        "colab": {
          "base_uri": "https://localhost:8080/"
        },
        "id": "W0_EspsGJyhz",
        "outputId": "6098e3c1-1c68-45c4-98db-a896c21548e8"
      },
      "outputs": [
        {
          "data": {
            "text/plain": [
              "AIMessage(content='As of now, there are officially eight recognized planets in the solar system: Mercury, Venus, Earth, Mars, Jupiter, Saturn, Uranus, and Neptune. Additionally, there are five officially recognized dwarf planets: Pluto, Eris, Haumea, Makemake, and Ceres. Apart from these, there are numerous asteroids, comets, and other smaller objects in the solar system.')"
            ]
          },
          "execution_count": 17,
          "metadata": {},
          "output_type": "execute_result"
        }
      ],
      "source": [
        "response"
      ]
    },
    {
      "cell_type": "code",
      "execution_count": 18,
      "metadata": {
        "colab": {
          "base_uri": "https://localhost:8080/",
          "height": 73
        },
        "id": "3GIfxyNoJtI1",
        "outputId": "e56cf729-79d4-4279-f099-ecb5dc55f50a"
      },
      "outputs": [
        {
          "data": {
            "application/vnd.google.colaboratory.intrinsic+json": {
              "type": "string"
            },
            "text/plain": [
              "'As of now, there are officially eight recognized planets in the solar system: Mercury, Venus, Earth, Mars, Jupiter, Saturn, Uranus, and Neptune. Additionally, there are five officially recognized dwarf planets: Pluto, Eris, Haumea, Makemake, and Ceres. Apart from these, there are numerous asteroids, comets, and other smaller objects in the solar system.'"
            ]
          },
          "execution_count": 18,
          "metadata": {},
          "output_type": "execute_result"
        }
      ],
      "source": [
        "response.content"
      ]
    },
    {
      "cell_type": "markdown",
      "metadata": {
        "id": "TXnnmp9JeEl-"
      },
      "source": [
        "## 8. Add the response to the messages"
      ]
    },
    {
      "cell_type": "code",
      "execution_count": 19,
      "metadata": {
        "id": "yyXf-igNKcCY"
      },
      "outputs": [],
      "source": [
        "messages.append(response)"
      ]
    },
    {
      "cell_type": "markdown",
      "metadata": {
        "id": "DmQ52VsieXSP"
      },
      "source": [
        "## 9. To Rinse and Repeat, go to step back to 6."
      ]
    }
  ],
  "metadata": {
    "colab": {
      "provenance": []
    },
    "kernelspec": {
      "display_name": "Python 3",
      "name": "python3"
    },
    "language_info": {
      "name": "python"
    }
  },
  "nbformat": 4,
  "nbformat_minor": 0
}
