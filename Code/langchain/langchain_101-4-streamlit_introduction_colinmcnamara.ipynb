{
  "cells": [
    {
      "cell_type": "markdown",
      "metadata": {},
      "source": [
        "<a href=\"https://colab.research.google.com/github/colinmcnamara/austin_langchain/blob/main/labs/LangChain_101/101-4-streamlit_introduction.ipynb\" target=\"_parent\"><img src=\"https://colab.research.google.com/assets/colab-badge.svg\" alt=\"Open In Colab\"/></a>\n"
      ]
    },
    {
      "cell_type": "markdown",
      "metadata": {
        "id": "vmPpMn28TcGE"
      },
      "source": [
        "# Streamlit Introduction\n",
        "\n",
        "Streamlit is a popular choice among Langchain enthusiasts because of how easy it makes creating amazing UIs using just python!\n",
        "\n",
        "This tutorial will guide you through creating a simple Streamlit app.\n",
        "\n",
        "The [Main Concepts](https://docs.streamlit.io/library/get-started/main-concepts) section of the documentation is a great resource to reference\n"
      ]
    },
    {
      "cell_type": "markdown",
      "metadata": {
        "id": "GMBIcMtuV0xL"
      },
      "source": [
        "## Install Pre-requisite Packages\n"
      ]
    },
    {
      "cell_type": "code",
      "execution_count": 3,
      "metadata": {},
      "outputs": [
        {
          "name": "stdout",
          "output_type": "stream",
          "text": [
            "\u001b[33mWARNING: Skipping /opt/homebrew/lib/python3.11/site-packages/six-1.16.0-py3.11.egg-info due to invalid metadata entry 'name'\u001b[0m\u001b[33m\n",
            "\u001b[0m\u001b[33mWARNING: Skipping /opt/homebrew/lib/python3.11/site-packages/six-1.16.0-py3.11.egg-info due to invalid metadata entry 'name'\u001b[0m\u001b[33m\n",
            "\u001b[0mCollecting streamlit\n",
            "  Downloading streamlit-1.29.0-py2.py3-none-any.whl.metadata (8.2 kB)\n",
            "Collecting altair<6,>=4.0 (from streamlit)\n",
            "  Downloading altair-5.2.0-py3-none-any.whl.metadata (8.7 kB)\n",
            "Collecting blinker<2,>=1.0.0 (from streamlit)\n",
            "  Using cached blinker-1.7.0-py3-none-any.whl.metadata (1.9 kB)\n",
            "Requirement already satisfied: cachetools<6,>=4.0 in /opt/homebrew/lib/python3.11/site-packages (from streamlit) (5.3.2)\n",
            "Requirement already satisfied: click<9,>=7.0 in /opt/homebrew/lib/python3.11/site-packages (from streamlit) (8.1.7)\n",
            "Requirement already satisfied: importlib-metadata<7,>=1.4 in /opt/homebrew/lib/python3.11/site-packages (from streamlit) (6.8.0)\n",
            "Requirement already satisfied: numpy<2,>=1.19.3 in /opt/homebrew/lib/python3.11/site-packages (from streamlit) (1.26.2)\n",
            "Requirement already satisfied: packaging<24,>=16.8 in /opt/homebrew/lib/python3.11/site-packages (from streamlit) (23.2)\n",
            "Requirement already satisfied: pandas<3,>=1.3.0 in /opt/homebrew/lib/python3.11/site-packages (from streamlit) (2.1.3)\n",
            "Requirement already satisfied: pillow<11,>=7.1.0 in /opt/homebrew/lib/python3.11/site-packages (from streamlit) (10.1.0)\n",
            "Requirement already satisfied: protobuf<5,>=3.20 in /opt/homebrew/lib/python3.11/site-packages (from streamlit) (4.21.9)\n",
            "Collecting pyarrow>=6.0 (from streamlit)\n",
            "  Downloading pyarrow-14.0.2-cp311-cp311-macosx_11_0_arm64.whl.metadata (3.0 kB)\n",
            "Requirement already satisfied: python-dateutil<3,>=2.7.3 in /opt/homebrew/lib/python3.11/site-packages (from streamlit) (2.8.2)\n",
            "Requirement already satisfied: requests<3,>=2.27 in /opt/homebrew/lib/python3.11/site-packages (from streamlit) (2.31.0)\n",
            "Collecting rich<14,>=10.14.0 (from streamlit)\n",
            "  Using cached rich-13.7.0-py3-none-any.whl.metadata (18 kB)\n",
            "Requirement already satisfied: tenacity<9,>=8.1.0 in /opt/homebrew/lib/python3.11/site-packages (from streamlit) (8.2.3)\n",
            "Collecting toml<2,>=0.10.1 (from streamlit)\n",
            "  Using cached toml-0.10.2-py2.py3-none-any.whl (16 kB)\n",
            "Requirement already satisfied: typing-extensions<5,>=4.3.0 in /opt/homebrew/lib/python3.11/site-packages (from streamlit) (4.8.0)\n",
            "Collecting tzlocal<6,>=1.1 (from streamlit)\n",
            "  Using cached tzlocal-5.2-py3-none-any.whl.metadata (7.8 kB)\n",
            "Collecting validators<1,>=0.2 (from streamlit)\n",
            "  Using cached validators-0.22.0-py3-none-any.whl.metadata (4.7 kB)\n",
            "Collecting gitpython!=3.1.19,<4,>=3.0.7 (from streamlit)\n",
            "  Using cached GitPython-3.1.40-py3-none-any.whl.metadata (12 kB)\n",
            "Collecting pydeck<1,>=0.8.0b4 (from streamlit)\n",
            "  Using cached pydeck-0.8.1b0-py2.py3-none-any.whl (4.8 MB)\n",
            "Requirement already satisfied: tornado<7,>=6.0.3 in /opt/homebrew/lib/python3.11/site-packages (from streamlit) (6.3.3)\n",
            "Requirement already satisfied: jinja2 in /opt/homebrew/lib/python3.11/site-packages (from altair<6,>=4.0->streamlit) (3.1.2)\n",
            "Requirement already satisfied: jsonschema>=3.0 in /opt/homebrew/lib/python3.11/site-packages (from altair<6,>=4.0->streamlit) (4.19.2)\n",
            "Collecting toolz (from altair<6,>=4.0->streamlit)\n",
            "  Using cached toolz-0.12.0-py3-none-any.whl (55 kB)\n",
            "Collecting gitdb<5,>=4.0.1 (from gitpython!=3.1.19,<4,>=3.0.7->streamlit)\n",
            "  Using cached gitdb-4.0.11-py3-none-any.whl.metadata (1.2 kB)\n",
            "Requirement already satisfied: zipp>=0.5 in /opt/homebrew/lib/python3.11/site-packages (from importlib-metadata<7,>=1.4->streamlit) (3.17.0)\n",
            "Requirement already satisfied: pytz>=2020.1 in /opt/homebrew/lib/python3.11/site-packages (from pandas<3,>=1.3.0->streamlit) (2023.3.post1)\n",
            "Requirement already satisfied: tzdata>=2022.1 in /opt/homebrew/lib/python3.11/site-packages (from pandas<3,>=1.3.0->streamlit) (2023.3)\n",
            "Requirement already satisfied: six>=1.5 in /opt/homebrew/lib/python3.11/site-packages (from python-dateutil<3,>=2.7.3->streamlit) (1.16.0)\n",
            "Requirement already satisfied: charset-normalizer<4,>=2 in /opt/homebrew/lib/python3.11/site-packages (from requests<3,>=2.27->streamlit) (3.3.2)\n",
            "Requirement already satisfied: idna<4,>=2.5 in /opt/homebrew/lib/python3.11/site-packages (from requests<3,>=2.27->streamlit) (3.4)\n",
            "Requirement already satisfied: urllib3<3,>=1.21.1 in /opt/homebrew/lib/python3.11/site-packages (from requests<3,>=2.27->streamlit) (1.26.18)\n",
            "Requirement already satisfied: certifi>=2017.4.17 in /opt/homebrew/lib/python3.11/site-packages (from requests<3,>=2.27->streamlit) (2023.7.22)\n",
            "Collecting markdown-it-py>=2.2.0 (from rich<14,>=10.14.0->streamlit)\n",
            "  Using cached markdown_it_py-3.0.0-py3-none-any.whl.metadata (6.9 kB)\n",
            "Requirement already satisfied: pygments<3.0.0,>=2.13.0 in /opt/homebrew/lib/python3.11/site-packages (from rich<14,>=10.14.0->streamlit) (2.16.1)\n",
            "Collecting smmap<6,>=3.0.1 (from gitdb<5,>=4.0.1->gitpython!=3.1.19,<4,>=3.0.7->streamlit)\n",
            "  Using cached smmap-5.0.1-py3-none-any.whl.metadata (4.3 kB)\n",
            "Requirement already satisfied: MarkupSafe>=2.0 in /opt/homebrew/lib/python3.11/site-packages (from jinja2->altair<6,>=4.0->streamlit) (2.1.3)\n",
            "Requirement already satisfied: attrs>=22.2.0 in /opt/homebrew/lib/python3.11/site-packages (from jsonschema>=3.0->altair<6,>=4.0->streamlit) (23.1.0)\n",
            "Requirement already satisfied: jsonschema-specifications>=2023.03.6 in /opt/homebrew/lib/python3.11/site-packages (from jsonschema>=3.0->altair<6,>=4.0->streamlit) (2023.7.1)\n",
            "Requirement already satisfied: referencing>=0.28.4 in /opt/homebrew/lib/python3.11/site-packages (from jsonschema>=3.0->altair<6,>=4.0->streamlit) (0.30.2)\n",
            "Requirement already satisfied: rpds-py>=0.7.1 in /opt/homebrew/lib/python3.11/site-packages (from jsonschema>=3.0->altair<6,>=4.0->streamlit) (0.12.0)\n",
            "Collecting mdurl~=0.1 (from markdown-it-py>=2.2.0->rich<14,>=10.14.0->streamlit)\n",
            "  Using cached mdurl-0.1.2-py3-none-any.whl (10.0 kB)\n",
            "Downloading streamlit-1.29.0-py2.py3-none-any.whl (8.4 MB)\n",
            "\u001b[2K   \u001b[38;2;114;156;31m━━━━━━━━━━━━━━━━━━━━━━━━━━━━━━━━━━━━━━━━\u001b[0m \u001b[32m8.4/8.4 MB\u001b[0m \u001b[31m32.5 MB/s\u001b[0m eta \u001b[36m0:00:00\u001b[0m MB/s\u001b[0m eta \u001b[36m0:00:01\u001b[0m:01\u001b[0m\n",
            "\u001b[?25hDownloading altair-5.2.0-py3-none-any.whl (996 kB)\n",
            "\u001b[2K   \u001b[38;2;114;156;31m━━━━━━━━━━━━━━━━━━━━━━━━━━━━━━━━━━━━━━━━\u001b[0m \u001b[32m996.9/996.9 kB\u001b[0m \u001b[31m46.5 MB/s\u001b[0m eta \u001b[36m0:00:00\u001b[0m\n",
            "\u001b[?25hUsing cached blinker-1.7.0-py3-none-any.whl (13 kB)\n",
            "Using cached GitPython-3.1.40-py3-none-any.whl (190 kB)\n",
            "Downloading pyarrow-14.0.2-cp311-cp311-macosx_11_0_arm64.whl (24.0 MB)\n",
            "\u001b[2K   \u001b[38;2;114;156;31m━━━━━━━━━━━━━━━━━━━━━━━━━━━━━━━━━━━━━━━━\u001b[0m \u001b[32m24.0/24.0 MB\u001b[0m \u001b[31m62.0 MB/s\u001b[0m eta \u001b[36m0:00:00\u001b[0mm eta \u001b[36m0:00:01\u001b[0m[36m0:00:01\u001b[0m\n",
            "\u001b[?25hUsing cached rich-13.7.0-py3-none-any.whl (240 kB)\n",
            "Using cached tzlocal-5.2-py3-none-any.whl (17 kB)\n",
            "Using cached validators-0.22.0-py3-none-any.whl (26 kB)\n",
            "Using cached gitdb-4.0.11-py3-none-any.whl (62 kB)\n",
            "Using cached markdown_it_py-3.0.0-py3-none-any.whl (87 kB)\n",
            "Using cached smmap-5.0.1-py3-none-any.whl (24 kB)\n",
            "\u001b[33mWARNING: Skipping /opt/homebrew/lib/python3.11/site-packages/six-1.16.0-py3.11.egg-info due to invalid metadata entry 'name'\u001b[0m\u001b[33m\n",
            "\u001b[0mInstalling collected packages: validators, tzlocal, toolz, toml, smmap, pyarrow, mdurl, blinker, pydeck, markdown-it-py, gitdb, rich, gitpython, altair, streamlit\n",
            "\u001b[33mWARNING: Skipping /opt/homebrew/lib/python3.11/site-packages/six-1.16.0-py3.11.egg-info due to invalid metadata entry 'name'\u001b[0m\u001b[33m\n",
            "\u001b[0m\u001b[33mWARNING: Skipping /opt/homebrew/lib/python3.11/site-packages/six-1.16.0-py3.11.egg-info due to invalid metadata entry 'name'\u001b[0m\u001b[33m\n",
            "\u001b[0m\u001b[33mWARNING: Skipping /opt/homebrew/lib/python3.11/site-packages/six-1.16.0-py3.11.egg-info due to invalid metadata entry 'name'\u001b[0m\u001b[33m\n",
            "\u001b[0m\u001b[33mWARNING: Skipping /opt/homebrew/lib/python3.11/site-packages/six-1.16.0-py3.11.egg-info due to invalid metadata entry 'name'\u001b[0m\u001b[33m\n",
            "\u001b[0m\u001b[33mWARNING: Skipping /opt/homebrew/lib/python3.11/site-packages/six-1.16.0-py3.11.egg-info due to invalid metadata entry 'name'\u001b[0m\u001b[33m\n",
            "\u001b[0m\u001b[33mWARNING: Skipping /opt/homebrew/lib/python3.11/site-packages/six-1.16.0-py3.11.egg-info due to invalid metadata entry 'name'\u001b[0m\u001b[33m\n",
            "\u001b[0m\u001b[33mWARNING: Skipping /opt/homebrew/lib/python3.11/site-packages/six-1.16.0-py3.11.egg-info due to invalid metadata entry 'name'\u001b[0m\u001b[33m\n",
            "\u001b[0m\u001b[33mWARNING: Skipping /opt/homebrew/lib/python3.11/site-packages/six-1.16.0-py3.11.egg-info due to invalid metadata entry 'name'\u001b[0m\u001b[33m\n",
            "\u001b[0m\u001b[33mWARNING: Skipping /opt/homebrew/lib/python3.11/site-packages/six-1.16.0-py3.11.egg-info due to invalid metadata entry 'name'\u001b[0m\u001b[33m\n",
            "\u001b[0m\u001b[33mWARNING: Skipping /opt/homebrew/lib/python3.11/site-packages/six-1.16.0-py3.11.egg-info due to invalid metadata entry 'name'\u001b[0m\u001b[33m\n",
            "\u001b[0mSuccessfully installed altair-5.2.0 blinker-1.7.0 gitdb-4.0.11 gitpython-3.1.40 markdown-it-py-3.0.0 mdurl-0.1.2 pyarrow-14.0.2 pydeck-0.8.1b0 rich-13.7.0 smmap-5.0.1 streamlit-1.29.0 toml-0.10.2 toolz-0.12.0 tzlocal-5.2 validators-0.22.0\n",
            "\u001b[33mWARNING: Skipping /opt/homebrew/lib/python3.11/site-packages/six-1.16.0-py3.11.egg-info due to invalid metadata entry 'name'\u001b[0m\u001b[33m\n",
            "\u001b[0m\n",
            "\u001b[1m[\u001b[0m\u001b[34;49mnotice\u001b[0m\u001b[1;39;49m]\u001b[0m\u001b[39;49m A new release of pip is available: \u001b[0m\u001b[31;49m23.3.1\u001b[0m\u001b[39;49m -> \u001b[0m\u001b[32;49m23.3.2\u001b[0m\n",
            "\u001b[1m[\u001b[0m\u001b[34;49mnotice\u001b[0m\u001b[1;39;49m]\u001b[0m\u001b[39;49m To update, run: \u001b[0m\u001b[32;49mpython3.11 -m pip install --upgrade pip\u001b[0m\n",
            "Note: you may need to restart the kernel to use updated packages.\n"
          ]
        }
      ],
      "source": [
        "%pip install streamlit"
      ]
    },
    {
      "cell_type": "markdown",
      "metadata": {},
      "source": [
        "## Create a Simple Streamlit App\n",
        "\n",
        "This is a simple app with just a title, header, text, and some content appended\n",
        "\n",
        "`st.write` displays a variety of content types like text, numbers, data, and more. It's versatile and automatically formats content for you.\n"
      ]
    },
    {
      "cell_type": "code",
      "execution_count": null,
      "metadata": {},
      "outputs": [],
      "source": [
        "%%writefile streamlit_app.py\n",
        "import streamlit as st\n",
        "import pandas\n",
        "\n",
        "# Add a page title\n",
        "st.title('Simple Streamlit App')\n",
        "\n",
        "# Adding Text\n",
        "st.header('Adding Text')\n",
        "st.text('This is some example text.')\n",
        "\n",
        "# Add some content to the page\n",
        "st.write('Hello World')\n",
        "number = 10\n",
        "st.write('this is my number:', number)\n",
        "\n",
        "# Streamlit automatically applies st.write() to variables and litterals in your code\n",
        "# This is the same as st.write('this is my number:', number)\n",
        "'this is my number:', number"
      ]
    },
    {
      "cell_type": "markdown",
      "metadata": {},
      "source": [
        "Running the last cell saves our app in `streamlit_app.py`. Skip to **Running a Streamlit App** to see the output UI.\n"
      ]
    },
    {
      "cell_type": "markdown",
      "metadata": {},
      "source": [
        "## Making Our Streamlit App Interactive\n"
      ]
    },
    {
      "cell_type": "code",
      "execution_count": null,
      "metadata": {},
      "outputs": [],
      "source": [
        "%%writefile streamlit_app.py\n",
        "import streamlit as st\n",
        "\n",
        "# The basic structure of a Streamlit app\n",
        "st.title('Streamlit Tutorial')\n",
        "\n",
        "# Adding text\n",
        "st.header('Adding Text')\n",
        "st.text('This is some example text.')\n",
        "\n",
        "# Adding input controls\n",
        "st.header('Input Controls')\n",
        "\n",
        "# Text input\n",
        "user_input = st.text_input('Enter your name:')\n",
        "st.write(f'Your name is {user_input}')\n",
        "\n",
        "# Checkbox\n",
        "if st.checkbox('I agree'):\n",
        "    st.write('Thank you for agreeing!')\n",
        "\n",
        "# Adding a sidebar\n",
        "st.sidebar.header('Sidebar')\n",
        "user_message = st.sidebar.text_area('Leave a message here:')\n",
        "st.sidebar.button('Submit')\n",
        "\n",
        "# Display the user message in the sidebar\n",
        "if user_message:\n",
        "    st.sidebar.write('You wrote:', user_message)"
      ]
    },
    {
      "cell_type": "markdown",
      "metadata": {},
      "source": [
        "## Session State\n"
      ]
    },
    {
      "cell_type": "markdown",
      "metadata": {},
      "source": [
        "In Streamlit, the application is server-rendered, which means that the Python script is executed server side.\n",
        "\n",
        "When you interact with the app, such as clicking a button or entering text, Streamlit reruns the entire script and re-renders only the components that changed.\n",
        "\n",
        "The `session_state` object is used to persist \"state\" across reruns, allowing us to interact with our app.\n",
        "\n",
        "Check out the Streamlit [Session State Documentation](https://docs.streamlit.io/library/api-reference/session-state) for more info\n"
      ]
    },
    {
      "cell_type": "code",
      "execution_count": null,
      "metadata": {},
      "outputs": [],
      "source": [
        "%%writefile streamlit_app.py\n",
        "import streamlit as st\n",
        "\n",
        "# Title for the app\n",
        "st.title('Streamlit Session State Tutorial')\n",
        "\n",
        "# Initialize session state variables if they don't exist\n",
        "if 'counter' not in st.session_state:\n",
        "    st.session_state['counter'] = 0\n",
        "\n",
        "# Can also use dot notation: st.session_state['text'] is the same as st.session_state.text\n",
        "if 'text' not in st.session_state:\n",
        "    st.session_state.text = ''\n",
        "\n",
        "# Can also initialize state in your widgets with 'key' argument\n",
        "st.text_input('Enter your name', key='name')\n",
        "\n",
        "# Increment counter function\n",
        "def increment_counter():\n",
        "    st.session_state.counter += 1\n",
        "\n",
        "# Update text function\n",
        "def update_text(input_text):\n",
        "    st.session_state.text = input_text\n",
        "\n",
        "# Delete state function\n",
        "def delete_state():\n",
        "    if 'counter' in st.session_state:\n",
        "        del st.session_state.counter\n",
        "    if 'text' in st.session_state:\n",
        "        del st.session_state.text\n",
        "    if 'name' in st.session_state:\n",
        "        del st.session_state.name\n",
        "\n",
        "# Input to update the text\n",
        "input_text = st.text_input('Enter some text', value='')\n",
        "\n",
        "# Button to increment the counter\n",
        "st.button('Increment Counter', on_click=increment_counter)\n",
        "\n",
        "# Button to update the text\n",
        "# We use an if statement here so that update_text(input_text) is only called when the button is clicked\n",
        "if st.button('Update Text'):\n",
        "    update_text(input_text)\n",
        "\n",
        "st.header('Our Session Sate')\n",
        "st.write(f\"Current Counter Value: {st.session_state.counter}\")\n",
        "st.write(f\"Current Text: {st.session_state.text}\")\n",
        "st.write(f\"Hello, {st.session_state.name}!\")\n",
        "\n",
        "st.button('Delete State', on_click=delete_state)\n",
        "\n",
        "# Display the session state object. Useful for when you want to know what is currently in the session state\n",
        "st.session_state\n",
        "\n",
        "# Explanation\n",
        "st.markdown(\"\"\"\n",
        "    ## Explanation\n",
        "    - The **counter** shows a simple integer value that can be incremented.\n",
        "    - **text** and **name** shows how strings can be updated and preserved.\n",
        "    - The **Delete State** button shows how to delete specific session state variables.\n",
        "\n",
        "    The `session_state` is particularly useful for:\n",
        "\n",
        "    - Storing user inputs\n",
        "    - Saving temporary app state\n",
        "    - Store and share data between different parts of your app\n",
        "\"\"\")"
      ]
    },
    {
      "cell_type": "markdown",
      "metadata": {},
      "source": [
        "Running the last cell saves our updated app in `streamlit_app.py`, overwriting the script we had before. Skip to **Running a Streamlit App** to see the output UI.\n"
      ]
    },
    {
      "cell_type": "markdown",
      "metadata": {},
      "source": [
        "## Caching\n"
      ]
    },
    {
      "cell_type": "code",
      "execution_count": null,
      "metadata": {},
      "outputs": [],
      "source": [
        "%%writefile streamlit_app.py\n",
        "import streamlit as st\n",
        "import time\n",
        "\n",
        "# You would typically use st.cache_resource decorator for caching “resources\" that should be available globally across all users, sessions, and reruns\n",
        "# use st.cache_resource to cache language models\n",
        "@st.cache_resource\n",
        "def expensive_computation(number):\n",
        "    time.sleep(3)  # This makes the function take 3 seconds to run so we know that result is being computed\n",
        "    return number ** 2\n",
        "\n",
        "st.title('Streamlit Caching Example with st.cache_resource')\n",
        "\n",
        "number = st.number_input('Enter a number:', min_value=0, value=10)\n",
        "\n",
        "# Call the cached function\n",
        "result = expensive_computation(number)\n",
        "\n",
        "st.write(f\"The square of {number} is {result}\")"
      ]
    },
    {
      "cell_type": "markdown",
      "metadata": {},
      "source": [
        "Again, running the last cell saves our updated app in `streamlit_app.py`, overwriting the script we had before. Skip to **Running a Streamlit App** to see the output UI.\n"
      ]
    },
    {
      "cell_type": "markdown",
      "metadata": {},
      "source": [
        "### Simulating Caching an LLM Response\n"
      ]
    },
    {
      "cell_type": "code",
      "execution_count": 34,
      "metadata": {},
      "outputs": [
        {
          "name": "stdout",
          "output_type": "stream",
          "text": [
            "Overwriting streamlit_app.py\n"
          ]
        }
      ],
      "source": [
        "%%writefile streamlit_app.py\n",
        "import streamlit as st\n",
        "import time\n",
        "\n",
        "@st.cache_data\n",
        "def get_response_from_llm(query):\n",
        "    time.sleep(3)  # Simulating an expensive llm response to a user query\n",
        "    response = f\"Response to expensive query '{query}'\"\n",
        "    return response\n",
        "\n",
        "st.title(\"LLM Query with Caching\")\n",
        "\n",
        "# Initialize chat history\n",
        "if \"messages\" not in st.session_state:\n",
        "    st.session_state.messages = []\n",
        "\n",
        "# Display chat messages from history on app rerun\n",
        "for message in st.session_state.messages:\n",
        "    with st.chat_message(message[\"role\"]):\n",
        "        st.write(message[\"content\"])\n",
        "\n",
        "\n",
        "prompt = st.chat_input(\"What is your query?\")\n",
        "if prompt:\n",
        "    # Add user message to chat history and display it\n",
        "    st.session_state.messages.append({\"role\": \"user\", \"content\": prompt})\n",
        "    with st.chat_message(\"user\"):\n",
        "        st.write(prompt)\n",
        "\n",
        "    response = get_response_from_llm(prompt)\n",
        "\n",
        "    # Display bot response and add to chat history\n",
        "    with st.chat_message(\"assistant\"):\n",
        "        st.write(response)\n",
        "    st.session_state.messages.append({\"role\": \"assistant\", \"content\": response})"
      ]
    },
    {
      "cell_type": "markdown",
      "metadata": {},
      "source": [
        "## Running a Streamlit app\n"
      ]
    },
    {
      "cell_type": "code",
      "execution_count": null,
      "metadata": {},
      "outputs": [],
      "source": [
        "!streamlit run streamlit_app.py &>/content/logs.txt &"
      ]
    },
    {
      "cell_type": "code",
      "execution_count": null,
      "metadata": {},
      "outputs": [],
      "source": [
        "!curl ipv4.icanhazip.com\n",
        "!echo \"Copy this IP into the webpage that opens below\""
      ]
    },
    {
      "cell_type": "code",
      "execution_count": null,
      "metadata": {},
      "outputs": [],
      "source": [
        "!npx localtunnel --port 8501"
      ]
    }
  ],
  "metadata": {
    "colab": {
      "provenance": []
    },
    "kernelspec": {
      "display_name": "Python 3",
      "name": "python3"
    },
    "language_info": {
      "codemirror_mode": {
        "name": "ipython",
        "version": 3
      },
      "file_extension": ".py",
      "mimetype": "text/x-python",
      "name": "python",
      "nbconvert_exporter": "python",
      "pygments_lexer": "ipython3",
      "version": "3.11.6"
    }
  },
  "nbformat": 4,
  "nbformat_minor": 0
}
