{
  "cells": [
    {
      "cell_type": "markdown",
      "metadata": {
        "colab_type": "text",
        "id": "view-in-github"
      },
      "source": [
        "<a href=\"https://colab.research.google.com/github/colinmcnamara/austin_langchain/blob/main/labs/LangChain_102/LC_102-LangServe-pirate-speak.ipynb\" target=\"_parent\"><img src=\"https://colab.research.google.com/assets/colab-badge.svg\" alt=\"Open In Colab\"/></a>"
      ]
    },
    {
      "cell_type": "markdown",
      "metadata": {
        "id": "U5w9P7alELGR"
      },
      "source": [
        "# If you are using LangSmith for DebugingBonus round - Connect to LangSmith and view your logs\n",
        "configure our project to langsmith\n",
        "* you can add your langchain_api_key to Colab key manager as well\n",
        "* Add your langsmith endpoint\n",
        "* set tracing to true\n",
        "\n",
        "```\n",
        "export LANGCHAIN_TRACING_V2=true\n",
        "export LANGCHAIN_API_KEY=<your-api-key>\n",
        "export LANGCHAIN_PROJECT=Austin-LangChain-102-pirate-h4x0r-speak  # if not specified, defaults to \"default\"\n",
        "```"
      ]
    },
    {
      "cell_type": "markdown",
      "metadata": {
        "id": "wD-7YvxljIsF"
      },
      "source": [
        "## Install packages\n",
        "* langchain-cli\n",
        "* Additional dependencies (added manually due to dependency manager issue)\n"
      ]
    },
    {
      "cell_type": "code",
      "execution_count": 1,
      "metadata": {
        "colab": {
          "base_uri": "https://localhost:8080/"
        },
        "id": "GpnxWVeSivEF",
        "outputId": "de344fe3-c4cd-45d9-afb1-ced946cc762f"
      },
      "outputs": [
        {
          "name": "stdout",
          "output_type": "stream",
          "text": [
            "\u001b[2K     \u001b[90m━━━━━━━━━━━━━━━━━━━━━━━━━━━━━━━━━━━━━━━━\u001b[0m \u001b[32m220.2/220.2 kB\u001b[0m \u001b[31m4.0 MB/s\u001b[0m eta \u001b[36m0:00:00\u001b[0m\n",
            "\u001b[2K     \u001b[90m━━━━━━━━━━━━━━━━━━━━━━━━━━━━━━━━━━━━━━━━\u001b[0m \u001b[32m79.9/79.9 MB\u001b[0m \u001b[31m10.3 MB/s\u001b[0m eta \u001b[36m0:00:00\u001b[0m\n",
            "\u001b[2K     \u001b[90m━━━━━━━━━━━━━━━━━━━━━━━━━━━━━━━━━━━━━━━━\u001b[0m \u001b[32m45.7/45.7 kB\u001b[0m \u001b[31m4.7 MB/s\u001b[0m eta \u001b[36m0:00:00\u001b[0m\n",
            "\u001b[2K     \u001b[90m━━━━━━━━━━━━━━━━━━━━━━━━━━━━━━━━━━━━━━━━\u001b[0m \u001b[32m48.2/48.2 kB\u001b[0m \u001b[31m4.5 MB/s\u001b[0m eta \u001b[36m0:00:00\u001b[0m\n",
            "\u001b[2K     \u001b[90m━━━━━━━━━━━━━━━━━━━━━━━━━━━━━━━━━━━━━━━━\u001b[0m \u001b[32m2.0/2.0 MB\u001b[0m \u001b[31m57.2 MB/s\u001b[0m eta \u001b[36m0:00:00\u001b[0m\n",
            "\u001b[2K     \u001b[90m━━━━━━━━━━━━━━━━━━━━━━━━━━━━━━━━━━━━━━━━\u001b[0m \u001b[32m7.9/7.9 MB\u001b[0m \u001b[31m60.6 MB/s\u001b[0m eta \u001b[36m0:00:00\u001b[0m\n",
            "\u001b[2K     \u001b[90m━━━━━━━━━━━━━━━━━━━━━━━━━━━━━━━━━━━━━━━━\u001b[0m \u001b[32m190.6/190.6 kB\u001b[0m \u001b[31m13.5 MB/s\u001b[0m eta \u001b[36m0:00:00\u001b[0m\n",
            "\u001b[2K     \u001b[90m━━━━━━━━━━━━━━━━━━━━━━━━━━━━━━━━━━━━━━━━\u001b[0m \u001b[32m492.7/492.7 kB\u001b[0m \u001b[31m31.7 MB/s\u001b[0m eta \u001b[36m0:00:00\u001b[0m\n",
            "\u001b[2K     \u001b[90m━━━━━━━━━━━━━━━━━━━━━━━━━━━━━━━━━━━━━━━━\u001b[0m \u001b[32m59.5/59.5 kB\u001b[0m \u001b[31m4.3 MB/s\u001b[0m eta \u001b[36m0:00:00\u001b[0m\n",
            "\u001b[2K     \u001b[90m━━━━━━━━━━━━━━━━━━━━━━━━━━━━━━━━━━━━━━━━\u001b[0m \u001b[32m75.0/75.0 kB\u001b[0m \u001b[31m8.3 MB/s\u001b[0m eta \u001b[36m0:00:00\u001b[0m\n",
            "\u001b[2K     \u001b[90m━━━━━━━━━━━━━━━━━━━━━━━━━━━━━━━━━━━━━━━━\u001b[0m \u001b[32m2.7/2.7 MB\u001b[0m \u001b[31m64.6 MB/s\u001b[0m eta \u001b[36m0:00:00\u001b[0m\n",
            "\u001b[2K     \u001b[90m━━━━━━━━━━━━━━━━━━━━━━━━━━━━━━━━━━━━━━━━\u001b[0m \u001b[32m311.1/311.1 kB\u001b[0m \u001b[31m26.8 MB/s\u001b[0m eta \u001b[36m0:00:00\u001b[0m\n",
            "\u001b[2K     \u001b[90m━━━━━━━━━━━━━━━━━━━━━━━━━━━━━━━━━━━━━━━━\u001b[0m \u001b[32m3.8/3.8 MB\u001b[0m \u001b[31m78.4 MB/s\u001b[0m eta \u001b[36m0:00:00\u001b[0m\n",
            "\u001b[2K     \u001b[90m━━━━━━━━━━━━━━━━━━━━━━━━━━━━━━━━━━━━━━━━\u001b[0m \u001b[32m1.3/1.3 MB\u001b[0m \u001b[31m56.2 MB/s\u001b[0m eta \u001b[36m0:00:00\u001b[0m\n",
            "\u001b[2K     \u001b[90m━━━━━━━━━━━━━━━━━━━━━━━━━━━━━━━━━━━━━━━━\u001b[0m \u001b[32m62.7/62.7 kB\u001b[0m \u001b[31m6.1 MB/s\u001b[0m eta \u001b[36m0:00:00\u001b[0m\n",
            "\u001b[2K     \u001b[90m━━━━━━━━━━━━━━━━━━━━━━━━━━━━━━━━━━━━━━━━\u001b[0m \u001b[32m76.9/76.9 kB\u001b[0m \u001b[31m7.0 MB/s\u001b[0m eta \u001b[36m0:00:00\u001b[0m\n",
            "\u001b[2K     \u001b[90m━━━━━━━━━━━━━━━━━━━━━━━━━━━━━━━━━━━━━━━━\u001b[0m \u001b[32m2.0/2.0 MB\u001b[0m \u001b[31m71.6 MB/s\u001b[0m eta \u001b[36m0:00:00\u001b[0m\n",
            "\u001b[2K     \u001b[90m━━━━━━━━━━━━━━━━━━━━━━━━━━━━━━━━━━━━━━━━\u001b[0m \u001b[32m138.7/138.7 kB\u001b[0m \u001b[31m12.9 MB/s\u001b[0m eta \u001b[36m0:00:00\u001b[0m\n",
            "\u001b[2K     \u001b[90m━━━━━━━━━━━━━━━━━━━━━━━━━━━━━━━━━━━━━━━━\u001b[0m \u001b[32m92.9/92.9 kB\u001b[0m \u001b[31m8.7 MB/s\u001b[0m eta \u001b[36m0:00:00\u001b[0m\n",
            "\u001b[2K     \u001b[90m━━━━━━━━━━━━━━━━━━━━━━━━━━━━━━━━━━━━━━━━\u001b[0m \u001b[32m295.0/295.0 kB\u001b[0m \u001b[31m25.8 MB/s\u001b[0m eta \u001b[36m0:00:00\u001b[0m\n",
            "\u001b[2K     \u001b[90m━━━━━━━━━━━━━━━━━━━━━━━━━━━━━━━━━━━━━━━━\u001b[0m \u001b[32m58.3/58.3 kB\u001b[0m \u001b[31m6.2 MB/s\u001b[0m eta \u001b[36m0:00:00\u001b[0m\n",
            "\u001b[2K     \u001b[90m━━━━━━━━━━━━━━━━━━━━━━━━━━━━━━━━━━━━━━━━\u001b[0m \u001b[32m67.0/67.0 kB\u001b[0m \u001b[31m7.0 MB/s\u001b[0m eta \u001b[36m0:00:00\u001b[0m\n",
            "\u001b[2K     \u001b[90m━━━━━━━━━━━━━━━━━━━━━━━━━━━━━━━━━━━━━━━━\u001b[0m \u001b[32m92.9/92.9 kB\u001b[0m \u001b[31m8.3 MB/s\u001b[0m eta \u001b[36m0:00:00\u001b[0m\n",
            "\u001b[2K     \u001b[90m━━━━━━━━━━━━━━━━━━━━━━━━━━━━━━━━━━━━━━━━\u001b[0m \u001b[32m66.3/66.3 kB\u001b[0m \u001b[31m6.2 MB/s\u001b[0m eta \u001b[36m0:00:00\u001b[0m\n",
            "\u001b[2K     \u001b[90m━━━━━━━━━━━━━━━━━━━━━━━━━━━━━━━━━━━━━━━━\u001b[0m \u001b[32m45.5/45.5 kB\u001b[0m \u001b[31m4.9 MB/s\u001b[0m eta \u001b[36m0:00:00\u001b[0m\n",
            "\u001b[2K     \u001b[90m━━━━━━━━━━━━━━━━━━━━━━━━━━━━━━━━━━━━━━━━\u001b[0m \u001b[32m49.4/49.4 kB\u001b[0m \u001b[31m4.2 MB/s\u001b[0m eta \u001b[36m0:00:00\u001b[0m\n",
            "\u001b[?25h"
          ]
        }
      ],
      "source": [
        "%pip install -q langchain-cli openai kaleido python-multipart tensorflow-probability cohere tiktoken transformers"
      ]
    },
    {
      "cell_type": "markdown",
      "metadata": {
        "id": "zF2aOAP0rlry"
      },
      "source": [
        "# Exporting variables from Colab key manager into the notebook AND shell\n",
        "* This takes the keys from your colab instance, maps them into your notebook AND creates a shell script you can execute from your terminal to set all of your keys\n",
        "## Set environment variables from Google Colab Secrets\n",
        "* Enable notebook access for each key you want to use\n",
        "* Highlight each line \"CMD+SHIFT+/\" to comment/uncomment # a line\n",
        "\n"
      ]
    },
    {
      "cell_type": "code",
      "execution_count": 2,
      "metadata": {
        "colab": {
          "base_uri": "https://localhost:8080/"
        },
        "id": "3chmJTYCs2C2",
        "outputId": "c6a5cbaf-0fae-4183-a0e5-a063ee23da09"
      },
      "outputs": [
        {
          "name": "stdout",
          "output_type": "stream",
          "text": [
            "Environment variable 'LANGCHAIN_PROJECT' set in Python environment.\n",
            "Environment variable 'OPENAI_API_KEY' set in Python environment.\n",
            "Environment variable 'LANGCHAIN_TRACING_V2' set in Python environment.\n",
            "Environment variable 'LANGCHAIN_ENDPOINT' set in Python environment.\n",
            "Environment variable 'LANGCHAIN_API_KEY' set in Python environment.\n",
            "Shell script 'set_env_vars.sh' created and made executable. You can source it in your terminal with 'source set_env_vars.sh'. It will display which variables have been set.\n"
          ]
        }
      ],
      "source": [
        "import os\n",
        "from google.colab import userdata\n",
        "\n",
        "# List of your secret names, one per line for easy commenting\n",
        "secret_names = [\n",
        "    'OPENAI_API_KEY',\n",
        "    # 'SERPAPI_API_KEY',\n",
        "    # 'PINECONE_API_KEY',\n",
        "    # 'PINECONE_ENV',\n",
        "    # 'GOOGLE_CSE_ID',\n",
        "    # 'HUGGINGFACEHUB_API_TOKEN',\n",
        "    # 'COHERE_API_KEY',\n",
        "    # 'GOOGLE_API_KEY',\n",
        "    'LANGCHAIN_TRACING_V2', # Uncomment when needed\n",
        "    'LANGCHAIN_ENDPOINT', # Uncomment when needed\n",
        "    'LANGCHAIN_API_KEY' # Uncomment when needed\n",
        "]\n",
        "\n",
        "# Start the shell script with the shebang line\n",
        "shell_script = \"#!/bin/sh\\n\"\n",
        "\n",
        "# Manually set the LANGCHAIN_PROJECT variable\n",
        "langchain_project_value = 'LC-102'\n",
        "os.environ['LANGCHAIN_PROJECT'] = langchain_project_value\n",
        "print(\"Environment variable 'LANGCHAIN_PROJECT' set in Python environment.\")\n",
        "shell_script += f\"export LANGCHAIN_PROJECT='{langchain_project_value}'\\n\"\n",
        "shell_script += f'echo \"Environment variable \\'LANGCHAIN_PROJECT\\' set in terminal environment.\"\\n'\n",
        "\n",
        "# Loop through each secret name and set the corresponding environment variable\n",
        "for secret_name in secret_names:\n",
        "    # Retrieve the secret value from Colab's secret manager\n",
        "    secret_value = userdata.get(secret_name)\n",
        "\n",
        "    # Check if the secret value was successfully retrieved\n",
        "    if secret_value is not None:\n",
        "        # Set the secret as an environment variable in Python\n",
        "        os.environ[secret_name] = secret_value\n",
        "        print(f\"Environment variable '{secret_name}' set in Python environment.\")\n",
        "\n",
        "        # Add the secret to the shell script for the terminal environment\n",
        "        shell_script += f\"export {secret_name}='{secret_value}'\\n\"\n",
        "        shell_script += f'echo \"Environment variable \\'{secret_name}\\' set in terminal environment.\"\\n'\n",
        "    else:\n",
        "        print(f\"Secret '{secret_name}' not found. Please check the key name and try again.\")\n",
        "\n",
        "# Write the shell script to a file\n",
        "with open('set_env_vars.sh', 'w') as file:\n",
        "    file.write(shell_script)\n",
        "\n",
        "# Make the script executable\n",
        "!chmod +x set_env_vars.sh\n",
        "\n",
        "print(\"Shell script 'set_env_vars.sh' created and made executable. You can source it in your terminal with 'source set_env_vars.sh'. It will display which variables have been set.\")\n"
      ]
    },
    {
      "cell_type": "markdown",
      "metadata": {
        "id": "mdWDICn3qJeJ"
      },
      "source": [
        "# Verify your OPENAI_API_KEY variable is set\n",
        "* Scroll down to verify your OPENAI_API_KEY is set\n"
      ]
    },
    {
      "cell_type": "code",
      "execution_count": 3,
      "metadata": {
        "colab": {
          "base_uri": "https://localhost:8080/"
        },
        "id": "0Ccm5Ok4pv8J",
        "outputId": "5f03486b-218f-450d-a87f-25b5be3b48d2"
      },
      "outputs": [
        {
          "name": "stdout",
          "output_type": "stream",
          "text": [
            "OPENAI_API_KEY is set, but we're not displaying the value\n"
          ]
        }
      ],
      "source": [
        "import os\n",
        "\n",
        "if 'OPENAI_API_KEY' in os.environ:\n",
        "    print(\"OPENAI_API_KEY is set, but we're not displaying the value\")\n",
        "else:\n",
        "    print(\"OPENAI_API_KEY is unset or set to the empty string\")\n"
      ]
    },
    {
      "cell_type": "markdown",
      "metadata": {
        "id": "HlJ7lxvRpIQc"
      },
      "source": [
        "# Open your terminal (or press play in cells below to run on free account)\n",
        "* Click icon  [>_] on the lower left\n",
        "* Terminal should appear on your right\n",
        "* Type the following, then hit enter\n",
        "\n",
        "```\n",
        "source set_env_vars.sh\n",
        "```\n",
        "\n",
        "* you should see notes saying the variables you specified are set:\n",
        "\n",
        "* example output:\n",
        "\n",
        "```\n",
        "Environment variable 'OPENAI_API_KEY' set in terminal environment.\n",
        "```"
      ]
    },
    {
      "cell_type": "markdown",
      "metadata": {
        "id": "lB7fdwMp09Ud"
      },
      "source": [
        "# validate the following commands are available in the terminal\n",
        "* type **lang** and hit tab twice to see what commands start with **lang**\n",
        "\n",
        "```\n",
        "lang\n",
        "```\n",
        "expected output\n",
        "```\n",
        "/content/my-app# lang\n",
        "langchain         langchain-cli     langchain-server  langsmith\n",
        "```"
      ]
    },
    {
      "cell_type": "markdown",
      "metadata": {
        "id": "LifgzFEE134m"
      },
      "source": [
        "# Create a new LangChain project\n",
        "Create a new app named my app\n",
        "```\n",
        "langchain app new LC-102\n",
        "```\n",
        "list the files inside of the folder my-app\n",
        "```\n",
        "ls LC-102\n",
        "```\n",
        "\n",
        "* view that the following directores are created\n",
        "  * app - LangServe code\n",
        "  * packages - Chains and Agents\n",
        "\n",
        "\n"
      ]
    },
    {
      "cell_type": "markdown",
      "metadata": {
        "id": "ZFd0hmSZDChW"
      },
      "source": [
        "Expected output:\n",
        "```\n",
        "/content/LC-102# ls\n",
        "app  logs  packages  pyproject.toml  README.md\n",
        "```"
      ]
    },
    {
      "cell_type": "markdown",
      "metadata": {
        "id": "zEcCa6iD2wAe"
      },
      "source": [
        "# Add templates into your project\n",
        "**note:** You can find the full list of templates here: https://github.com/langchain-ai/langchain/blob/master/templates/docs/INDEX.md\n",
        "\n",
        " Change directory into **my-app**\n",
        "\n",
        "```\n",
        "cd LC-102\n",
        "```\n",
        "add the pirate-speak template to your app\n",
        "```\n",
        "langchain app add pirate-speak\n",
        "```\n",
        "Answer '**y** to the run it question, and hit enter\n",
        "```\n",
        "\"Run it? [y/N]:\"\n",
        "```\n",
        "you should see a lot of output as it installs. If you see any pip errors, adjust the packages list above to resolve the issues\n",
        "```\n",
        "Successfully installed openai-0.28.1 pirate-speak-0.0.1\n",
        "```"
      ]
    },
    {
      "cell_type": "markdown",
      "metadata": {
        "id": "FRKGq8ia30Wp"
      },
      "source": [
        "# Generate Route code\n",
        "* Generate route code for these packages? [Y/n]: (answer y)\n",
        "\n",
        "It will generate the following code that we need to add to server.py\n",
        "\n",
        "Great! Add the following to your app: in content/my-app/app/server.py by\n",
        "* navigating to file manager on your left hand side (under the key)\n",
        "* Click on **my-app** / **app** / to expand the directories\n",
        "* Double-Click on **server.py**\n",
        "* A new tab should open next to your terminal on the right. This is that file\n",
        "\n",
        "import your pirate_speak_chain by addeding a from statement\n",
        "```\n",
        "from pirate_speak.chain import chain as pirate_speak_chain\n",
        "```\n",
        "\n",
        "Replace this -\n",
        "```\n",
        "add_routes(app, NotImplemented)\n",
        "```\n",
        "with your new chain routes connecting your app, the pirate speak chain, and specifying the path to the folder (this is important since we can edit this late)\n",
        "```\n",
        "add_routes(app, pirate_speak_chain, path=\"/pirate-speak\")\n",
        "```\n",
        "* hit **ctrl+s** to save (or click on file>save)\n",
        "\n",
        "Your new server.py file should look like this\n",
        "```\n",
        "from fastapi import FastAPI\n",
        "from langserve import add_routes\n",
        "from pirate_speak.chain import chain as pirate_speak_chain\n",
        "\n",
        "app = FastAPI()\n",
        "\n",
        "# Edit this to add the chain you want to add\n",
        "add_routes(app, pirate_speak_chain, path=\"/pirate-speak\")\n",
        "\n",
        "if __name__ == \"__main__\":\n",
        "    import uvicorn\n",
        "\n",
        "    uvicorn.run(app, host=\"0.0.0.0\", port=8000)\n",
        "```"
      ]
    },
    {
      "cell_type": "markdown",
      "metadata": {
        "id": "fo1DWjs48ntL"
      },
      "source": [
        "# Start langchain server!!!\n",
        "Type the command below. This will start up LangServe, and load the app as a web service using FASTAPI\n",
        "```\n",
        "langchain serve\n",
        "```\n",
        "You should see something like this:\n",
        "```\n",
        "/content/LC-102# langchain serve\n",
        "INFO:     Will watch for changes in these directories: ['/content/my-app']\n",
        "INFO:     Uvicorn running on http://127.0.0.1:8000 (Press CTRL+C to quit)\n",
        "INFO:     Started reloader process [8879] using StatReload\n",
        "INFO:     Started server process [8888]\n",
        "INFO:     Waiting for application startup.\n",
        "\n",
        " __          ___      .__   __.   _______      _______. _______ .______     ____    ____  _______\n",
        "|  |        /   \\     |  \\ |  |  /  _____|    /       ||   ____||   _  \\    \\   \\  /   / |   ____|\n",
        "|  |       /  ^  \\    |   \\|  | |  |  __     |   (----`|  |__   |  |_)  |    \\   \\/   /  |  |__   \n",
        "|  |      /  /_\\  \\   |  . `  | |  | |_ |     \\   \\    |   __|  |      /      \\      /   |   __|  \n",
        "|  `----./  _____  \\  |  |\\   | |  |__| | .----)   |   |  |____ |  |\\  \\----.  \\    /    |  |____\n",
        "|_______/__/     \\__\\ |__| \\__|  \\______| |_______/    |_______|| _| `._____|   \\__/     |_______|\n",
        "\n",
        "LANGSERVE: Playground for chain \"/pirate-speak\" is live at:\n",
        "LANGSERVE:  │\n",
        "LANGSERVE:  └──> /pirate-speak/playground\n",
        "LANGSERVE:\n",
        "LANGSERVE: See all available routes at /docs\n",
        "\n",
        "INFO:     Application startup complete.\n",
        "```"
      ]
    },
    {
      "cell_type": "markdown",
      "metadata": {
        "id": "oFogw4ce8xMJ"
      },
      "source": [
        "# Getting to the interface through Google Colab\n",
        "Since we are in a hosted google envoironment, we are going to have to do a couple tricks to access the API / Playground\n",
        "\n",
        "* We are going to have to tunnel our way out using npx\n"
      ]
    },
    {
      "cell_type": "markdown",
      "metadata": {
        "id": "ifux-mmzcTQK"
      },
      "source": [
        "## Find the IP of your instance"
      ]
    },
    {
      "cell_type": "code",
      "execution_count": 4,
      "metadata": {
        "colab": {
          "base_uri": "https://localhost:8080/"
        },
        "id": "nQz0WaTTcTQK",
        "outputId": "3d6a972b-5655-4bd9-9af0-3971db70cbcc"
      },
      "outputs": [
        {
          "name": "stdout",
          "output_type": "stream",
          "text": [
            "35.243.153.65\n",
            "Copy this IP into the webpage that opens below\n"
          ]
        }
      ],
      "source": [
        "!curl ipv4.icanhazip.com\n",
        "!echo \"Copy this IP into the webpage that opens below\""
      ]
    },
    {
      "cell_type": "markdown",
      "metadata": {
        "id": "1XkNhk9abV29"
      },
      "source": [
        "## Expose the langserve app from port 8000"
      ]
    },
    {
      "cell_type": "code",
      "execution_count": null,
      "metadata": {
        "colab": {
          "base_uri": "https://localhost:8080/"
        },
        "id": "_DDegT-jZ2Q5",
        "outputId": "412d7535-51ad-40c4-a9de-d7bd171f47c4"
      },
      "outputs": [
        {
          "name": "stdout",
          "output_type": "stream",
          "text": [
            "\u001b[K\u001b[?25hnpx: installed 22 in 3.031s\n",
            "your url is: https://small-masks-walk.loca.lt\n"
          ]
        }
      ],
      "source": [
        "!npx localtunnel --port 8000"
      ]
    },
    {
      "cell_type": "markdown",
      "metadata": {
        "id": "trzj4bdH-PQg"
      },
      "source": [
        "#Authenticate through you the web interface\n",
        "* Paste your ip in\n",
        "* Hit enter\n",
        "\n",
        "#Add your app uri\n",
        "* open docs\n",
        "  * https://your_tunnel_url/doc\n",
        "  * This will all availabel apps\n",
        "* open the playground\n",
        "  * https://your_url/pirate-speak/playground"
      ]
    },
    {
      "cell_type": "markdown",
      "metadata": {
        "id": "Xtag_zPZDrPX"
      },
      "source": [
        "Now play with the web interface, interact, as it some questions\n"
      ]
    },
    {
      "cell_type": "markdown",
      "metadata": {
        "id": "8asZZgvUDwz8"
      },
      "source": [
        "# Modify your applications code\n",
        "* In the folder interface on your left click on\n",
        "  * LC-102\n",
        "    * packages\n",
        "      * pirate-speak\n",
        "        * chain.py\n"
      ]
    },
    {
      "cell_type": "markdown",
      "metadata": {
        "id": "sOLpNlRdEDxk"
      },
      "source": [
        "You should notice the chain.py file open up next to your terminal tab\n",
        "* Click it to edit the file and change pirate speak to elite haX0r speak\n",
        "\n",
        "```\n",
        "from langchain.chat_models import ChatOpenAI\n",
        "from langchain.prompts import ChatPromptTemplate\n",
        "```\n",
        "```\n",
        "_prompt = ChatPromptTemplate.from_messages(\n",
        "    [\n",
        "        (\n",
        "            \"system\",\n",
        "\n",
        "            \"Translate user input into elite h4X0r speak\", # new line\n",
        "        ),\n",
        "        (\"human\", \"{text}\"),\n",
        "    ]\n",
        ")\n",
        "_model = ChatOpenAI()\n",
        "```\n",
        "```\n",
        "# if you update this, you MUST also update ../pyproject.toml\n",
        "# with the new `tool.langserve.export_attr`\n",
        "chain = _prompt | _model\n",
        "```"
      ]
    },
    {
      "cell_type": "markdown",
      "metadata": {
        "id": "HjJoVgnOEsN6"
      },
      "source": [
        "# Press save, and click over to the terminal\n",
        "* Notice that LangServe picked up the change hwen you saved your file\n",
        "\n",
        "```\n",
        "WARNING:  StatReload detected changes in 'packages/pirate-speak/pirate_speak/chain.py'. Reloading...\n",
        "/content/my-app# INFO:     Shutting down\n",
        "INFO:     Waiting for application shutdown.\n",
        "INFO:     Application shutdown complete.\n",
        "INFO:     Finished server process [17853]\n",
        "INFO:     Started server process [17869]\n",
        "INFO:     Waiting for application startup.\n",
        "\n",
        " __          ___      .__   __.   _______      _______. _______ .______     ____    ____  _______\n",
        "|  |        /   \\     |  \\ |  |  /  _____|    /       ||   ____||   _  \\    \\   \\  /   / |   ____|\n",
        "|  |       /  ^  \\    |   \\|  | |  |  __     |   (----`|  |__   |  |_)  |    \\   \\/   /  |  |__   \n",
        "|  |      /  /_\\  \\   |  . `  | |  | |_ |     \\   \\    |   __|  |      /      \\      /   |   __|  \n",
        "|  `----./  _____  \\  |  |\\   | |  |__| | .----)   |   |  |____ |  |\\  \\----.  \\    /    |  |____\n",
        "|_______/__/     \\__\\ |__| \\__|  \\______| |_______/    |_______|| _| `._____|   \\__/     |_______|\n",
        "\n",
        "LANGSERVE: Playground for chain \"/pirate-speak\" is live at:\n",
        "LANGSERVE:  │\n",
        "LANGSERVE:  └──> /pirate-speak/playground\n",
        "LANGSERVE:\n",
        "LANGSERVE: See all available routes at /docs\n",
        "\n",
        "INFO:     Application startup complete.\n",
        "```"
      ]
    },
    {
      "cell_type": "markdown",
      "metadata": {
        "id": "TzyNAxKuE5Of"
      },
      "source": [
        "# go back to your playground, and interact with this new application !!!"
      ]
    },
    {
      "cell_type": "markdown",
      "metadata": {
        "id": "bKKMg0AFlIC8"
      },
      "source": [
        "# Extend your application - More Templates!\n",
        "https://github.com/langchain-ai/langchain/tree/master/templates\n",
        "\n",
        "\n",
        "\n",
        "\n"
      ]
    },
    {
      "cell_type": "markdown",
      "metadata": {
        "id": "YKRaXMoyl9li"
      },
      "source": [
        "#install a CSV searching application\n",
        "\n",
        "```\n",
        "langchain app add csv-agent\n",
        "```\n",
        "* add the resulting code to server.py\n",
        "\n",
        "* ctrl+c to terminate langserve\n",
        "\n",
        "```\n",
        "langchain serve\n",
        "```\n",
        "\n",
        "go 2 url/csv-agent/playground\n",
        "\n",
        "Query the interface\n",
        "\n",
        "* How many passengers were from america?\n",
        "\n",
        "* What was the average age of the passengers\n",
        "\n",
        "\n"
      ]
    },
    {
      "cell_type": "markdown",
      "metadata": {
        "id": "N-hgbtmlo-26"
      },
      "source": [
        "# Notes on bypassing authentication URL with curl:"
      ]
    },
    {
      "cell_type": "markdown",
      "metadata": {
        "id": "CGk9sqHFpDAr"
      },
      "source": [
        " To bypass this security page, there are two options mentioned:\n",
        "\n",
        "1. **Set and send a `Bypass-Tunnel-Reminder` request header**: You can modify the HTTP request to include a custom header named `Bypass-Tunnel-Reminder`. The value of this header can be anything; its presence in the request is what's important. Here's how you might set it in different contexts:\n",
        "\n",
        "   - **In a browser extension**: If you're using a browser extension to modify HTTP requests, you can add the `Bypass-Tunnel-Reminder` header with any value to your requests.\n",
        "   \n",
        "   - **Using `curl` in the terminal**: If you're accessing the tunnel via `curl`, you can include the header like this:\n",
        "     ```sh\n",
        "     curl -H \"Bypass-Tunnel-Reminder: any_value\" http://green-donkeys-sing.loca.lt\n",
        "     ```\n",
        "     \n",
        "   - **In a programming language**: When making HTTP requests in code, you can add this header to your request object. For instance, in Python with `requests`:\n",
        "     ```python\n",
        "     import requests\n",
        "     \n",
        "     headers = {\n",
        "         'Bypass-Tunnel-Reminder': 'any_value'\n",
        "     }\n",
        "     \n",
        "     response = requests.get('http://green-donkeys-sing.loca.lt', headers=headers)\n",
        "     ```\n",
        "\n",
        "2. **Set and send a custom / non-standard browser User-Agent request header**: Another method is to change the `User-Agent` request header to a value that does not match any standard web browser. This could be useful if you're making requests from a script or a service that allows you to customize the `User-Agent`. For example:\n",
        "\n",
        "   - **Using `curl`**:\n",
        "     ```sh\n",
        "     curl -A \"NonStandardUserAgent\" http://green-donkeys-sing.loca.lt\n",
        "     ```\n",
        "     \n",
        "   - **In Python**:\n",
        "     ```python\n",
        "     response = requests.get('http://green-donkeys-sing.loca.lt', headers={'User-Agent': 'NonStandardUserAgent'})\n",
        "     ```\n",
        "\n",
        "If you're using `localtunnel` as part of an automated system or service, such as webhooks or IPNs, you should make sure to include one of these headers in your requests to avoid being stopped by the security page.\n",
        "\n",
        "Keep in mind that while these methods can bypass the reminder page, they should be used responsibly and in compliance with `localtunnel`'s terms of service to ensure the tool isn't being used for malicious purposes."
      ]
    }
  ],
  "metadata": {
    "colab": {
      "authorship_tag": "ABX9TyOMZVjDvImGWoLZjX7RDPqT",
      "collapsed_sections": [
        "N-hgbtmlo-26"
      ],
      "include_colab_link": true,
      "provenance": []
    },
    "kernelspec": {
      "display_name": "Python 3",
      "name": "python3"
    },
    "language_info": {
      "name": "python"
    }
  },
  "nbformat": 4,
  "nbformat_minor": 0
}
