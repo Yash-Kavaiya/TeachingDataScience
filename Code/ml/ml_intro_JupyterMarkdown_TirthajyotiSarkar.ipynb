{
 "cells": [
  {
   "cell_type": "markdown",
   "metadata": {},
   "source": [
    "# This is a Level 1 Heading\n",
    "## This is a Level 2 Heading\n",
    "### This is Level 3 Heading\n",
    "#### And finally, this is a Level 4 Heading..."
   ]
  },
  {
   "cell_type": "markdown",
   "metadata": {},
   "source": [
    "***"
   ]
  },
  {
   "cell_type": "markdown",
   "metadata": {},
   "source": [
    "### Emphasizing (bold, italic)\n",
    "Use `**` or `__` for bold ** This is bold text **\n",
    "\n",
    "__This is also bold text__\n",
    "\n",
    "Use `*` or `_` for italic. *This is italic*\n",
    "\n",
    "_This is also italic_\n",
    "\n",
    "*** This is both bold and italic ***\n",
    "\n",
    "Use `* ` (asterick with a space) for bulleted list. Use a Tab for sub-bullets.\n",
    "\n",
    "* Bullet Item 1\n",
    "* Bullet Item 2\n",
    "    * Sub-bullet 1\n",
    "\n",
    "### Indentation\n",
    "Use `> ' for indentation. Following is a piece of indented text.\n",
    "> Quick brown fox jumps and blah blah...\n",
    "\n",
    "### Geometric shapes and HTML Unicodes\n",
    "\n",
    "<p>It will display &#9685;</p>\n",
    "<p>The symbol for electrical resistance (Ohm) is: &#8486;</p>\n",
    "\n",
    "### Section Link within the notebook\n",
    "To know more HTML tags you can go to: [Simple HTML tags and scripts](#Simple-HTML-tags-and-scripts)\n",
    "\n",
    "### Blockquote\n",
    "<blockquote>\n",
    "Markdown is a text-to-HTML conversion tool for web writers. Markdown allows you to write using an easy-to-read, easy-to-write plain text format, then convert it to structurally valid XHTML (or HTML).\n",
    "</blockquote>"
   ]
  },
  {
   "cell_type": "markdown",
   "metadata": {},
   "source": [
    "***"
   ]
  },
  {
   "cell_type": "markdown",
   "metadata": {},
   "source": [
    "### Images, Hyperlink, and LaTex formatting\n",
    "\n",
    "Image sourcing can be done by HTML tags like **'<img src...'**\n",
    "<img src=https://upload.wikimedia.org/wikipedia/commons/thumb/d/d2/Pythagorean.svg/500px-Pythagorean.svg.png>\n",
    "\n",
    "So the [Pythagorean Theorem](https://en.wikipedia.org/wiki/Pythagorean_theorem) states that:\n",
    "\n",
    "$$ a^2+b^2 = c^2 $$"
   ]
  },
  {
   "attachments": {
    "Jupyter-1.png": {
     "image/png": "[encoded data removed]"
    }
   },
   "cell_type": "markdown",
   "metadata": {},
   "source": [
    "### Drag and drop a local image directly on to a markdown cell! (This will not show up on GitHub rendering)\n",
    "![Jupyter-1.png](attachment:Jupyter-1.png)"
   ]
  },
  {
   "cell_type": "markdown",
   "metadata": {},
   "source": [
    "### More LaTeX\n",
    "\n",
    "More complicated expressions can be written easily,\n",
    "\n",
    "$$ \\mathbf{max}\\left \\{ \\mathbf{c^Tx\\mid Ax\\leq b\\wedge x\\geq 0} \\right \\} $$\n",
    "\n",
    "Or,\n",
    "\n",
    "\n",
    "$${\\displaystyle {\\frac {\\partial \\mathbf {F} }{\\partial \\mathbf {X} }}={\\begin{bmatrix}{\\frac {\\partial \\mathbf {F} }{\\partial X_{1,1}}}&\\cdots &{\\frac {\\partial \\mathbf {F} }{\\partial X_{1,n}}}\\\\\\vdots &\\ddots &\\vdots \\\\{\\frac {\\partial \\mathbf {F} }{\\partial X_{m,1}}}&\\cdots &{\\frac {\\partial \\mathbf {F} }{\\partial X_{m,n}}}\\\\\\end{bmatrix}}}$$ "
   ]
  },
  {
   "cell_type": "markdown",
   "metadata": {},
   "source": [
    "** Amazingly, even Matplotlib plots will support simple LaTeX formatting in title or labels! **"
   ]
  },
  {
   "cell_type": "code",
   "execution_count": 1,
   "metadata": {},
   "outputs": [],
   "source": [
    "import matplotlib.pyplot as plt\n",
    "import numpy as np"
   ]
  },
  {
   "cell_type": "code",
   "execution_count": null,
   "metadata": {},
   "outputs": [],
   "source": [
    "x=np.random.random(size=1000)\n",
    "y=x**(2*x**2+3)"
   ]
  },
  {
   "cell_type": "code",
   "execution_count": null,
   "metadata": {},
   "outputs": [],
   "source": [
    "plt.figure(figsize=(8,5))\n",
    "plt.grid(True)\n",
    "plt.title(\"Plot of $y=g(x)=\\oint_{a}^{b}{{f(x)}^{[2x^2+3]}}$\\n\",fontsize=20)\n",
    "plt.xlabel(\"Variable: $\\mathbf{x}$\",fontsize=20)\n",
    "plt.ylabel(\"Output: $\\mathbf{y=g(x)}$\",fontsize=20)\n",
    "plt.fill(x,y)\n",
    "plt.show()"
   ]
  },
  {
   "cell_type": "markdown",
   "metadata": {},
   "source": [
    "***"
   ]
  },
  {
   "cell_type": "markdown",
   "metadata": {},
   "source": [
    "## Simple HTML tags and scripts\n",
    "#### Color: \n",
    "<font color='green'>This is a green text</font>\n",
    "\n",
    "### Colored heading\n",
    "<h1 style= \"color:orange;font-family:verdana\">This is an orange heading in <i>Verdana</i> style</h1>\n",
    "\n",
    "### Following is a colored note box with center-aligned large text\n",
    "<div class=\"alert alert-block alert-success\"> <p style=font-size:150%;text-align:center> SUCCESS!</p></div>\n",
    "\n",
    "Following is yellow text on a red background with larger (120%) font size\n",
    "<p style=\"background-color:Tomato; color:yellow; font-size:120%\">Lorem ipsum dolor sit amet, consectetuer adipiscing elit, sed diam nonummy nibh euismod tincidunt ut laoreet dolore magna aliquam erat volutpat. Ut wisi enim ad minim veniam, quis nostrud exerci tation ullamcorper suscipit lobortis nisl ut aliquip ex ea commodo consequat.</p>"
   ]
  },
  {
   "cell_type": "markdown",
   "metadata": {},
   "source": [
    "***"
   ]
  },
  {
   "cell_type": "markdown",
   "metadata": {},
   "source": [
    "<h2 style=\"background-color:black;color:white;font-size:120%\">Code embedding</h2>\n",
    "\n",
    "** In Python (along with HTML) **\n",
    "\n",
    "<p style=\"font-family:Times;font-size:120%\"> <b>\n",
    "```\n",
    "def f(x):\n",
    "    \"\"\"returns square of the input\"\"\"\n",
    "    return (x**2)\n",
    "    ```\n",
    "</b></p>\n",
    "\n",
    "\n",
    "<p style=\"color:blue\"> <b>Or, in another language</b></p>\n",
    "```\n",
    "if (i=0; i<n; i++) {\n",
    "  printf(\"hello %d\\n\", i);\n",
    "  x += 4;\n",
    "}\n",
    "```"
   ]
  }
 ],
 "metadata": {
  "kernelspec": {
   "display_name": "Python [default]",
   "language": "python",
   "name": "python3"
  },
  "language_info": {
   "codemirror_mode": {
    "name": "ipython",
    "version": 3
   },
   "file_extension": ".py",
   "mimetype": "text/x-python",
   "name": "python",
   "nbconvert_exporter": "python",
   "pygments_lexer": "ipython3",
   "version": "3.5.4"
  }
 },
 "nbformat": 4,
 "nbformat_minor": 2
}
