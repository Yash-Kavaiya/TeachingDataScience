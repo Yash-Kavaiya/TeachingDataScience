{
 "cells": [
  {
   "cell_type": "markdown",
   "metadata": {
    "collapsed": true
   },
   "source": [
    "# Fibonacci Numbers\n",
    "\n",
    "Reference: Intro FibinacciTree - Sebastian Raschka"
   ]
  },
  {
   "cell_type": "markdown",
   "metadata": {},
   "source": [
    "A Fibonacci number F(n) is computed as the sum of the two numbers preceeding it in a Fibonacci sequence\n",
    "\n",
    "(0), 1, 1, 2, 3, 5, 8, 13, 21, 34, 55, ...,\n",
    "\n",
    "for example, F(10) = 55.\n",
    "\n",
    "More formally, we can define a Fibonacci number F(n) as \n",
    "\n",
    "$F(n) = F(n-1) + F(n-2)$, for integers $n > 1$:\n",
    "\n",
    "$$F(n)=\n",
    "\\begin{cases} \n",
    "      0 & n=0, \\\\\n",
    "      1, & n=1, \\\\\n",
    "      F(n-1) + F(n-2), & n > 1.\n",
    "   \\end{cases}$$"
   ]
  },
  {
   "cell_type": "markdown",
   "metadata": {},
   "source": [
    "The Fibonacci sequence was named after Leanardo Fibonacci, who used the Fibonacci sequence to study rabit populations in the 12th century. I highly recommend reading the excellent articles on [Wikipedia](https://en.wikipedia.org/wiki/Fibonacci_number) and [Wolfram](http://mathworld.wolfram.com/FibonacciNumber.html), which discuss the interesting facts about the Fibonacci number in great detail."
   ]
  },
  {
   "cell_type": "markdown",
   "metadata": {},
   "source": [
    "The recursive Fibonacci number computation is a typical text book example of a recursive algorithm:"
   ]
  },
  {
   "cell_type": "code",
   "execution_count": 1,
   "metadata": {},
   "outputs": [
    {
     "name": "stdout",
     "output_type": "stream",
     "text": [
      "0\n",
      "1\n",
      "55\n"
     ]
    }
   ],
   "source": [
    "def fibo_recurse(n):\n",
    "    if n <= 1:\n",
    "        return n\n",
    "    else:\n",
    "        return fibo_recurse(n-1) + fibo_recurse(n-2)\n",
    "    \n",
    "print(fibo_recurse(0))\n",
    "print(fibo_recurse(1))\n",
    "print(fibo_recurse(10))"
   ]
  },
  {
   "cell_type": "markdown",
   "metadata": {},
   "source": [
    "However, it is unfortunately a terribly inefficient algorithm with an exponential running time of $O(2^n)$. The main problem why it is so slow is that we recompute Fibonacci number $F(n) = F(n-1) + F(n-2)$ repeatedly as shown in the recursive tree below:\n",
    "\n"
   ]
  },
  {
   "cell_type": "markdown",
   "metadata": {},
   "source": [
    "For example, assuming $n \\geq 2$ we have \n",
    "\n",
    "$O(2^{n-1}) + O(2^{n-2}) + O(1) = O(2^n)$\n",
    "\n",
    "for $F(n) = F(n-1) + F(n-2)$, where $O(1)$ is for adding to Fibonacci numbers together.\n",
    "\n"
   ]
  },
  {
   "cell_type": "markdown",
   "metadata": {},
   "source": [
    "A more efficient approach to compute a Fibonacci number is a dynamic approach with linear runtime, $O(n)$:"
   ]
  },
  {
   "cell_type": "code",
   "execution_count": 2,
   "metadata": {},
   "outputs": [
    {
     "name": "stdout",
     "output_type": "stream",
     "text": [
      "0\n",
      "1\n",
      "55\n"
     ]
    }
   ],
   "source": [
    "def fibo_dynamic(n):\n",
    "    f, f_minus_1 = 0, 1\n",
    "    for i in range(n):\n",
    "        f_minus_1, f = f, f + f_minus_1\n",
    "    return f\n",
    "\n",
    "print(fibo_dynamic(0))\n",
    "print(fibo_dynamic(1))\n",
    "print(fibo_dynamic(10))"
   ]
  },
  {
   "cell_type": "markdown",
   "metadata": {},
   "source": [
    "(If you are interested in other approaches, I recommend you take a look at the pages on [Wikipedia](https://en.wikipedia.org/wiki/Fibonacci_number) and [Wolfram](http://mathworld.wolfram.com/FibonacciNumber.html).)"
   ]
  },
  {
   "cell_type": "markdown",
   "metadata": {},
   "source": [
    "To get a rough idea of the running times of each of our implementations, let's use the `%timeit` magic for F(30)."
   ]
  },
  {
   "cell_type": "code",
   "execution_count": 3,
   "metadata": {},
   "outputs": [
    {
     "name": "stdout",
     "output_type": "stream",
     "text": [
      "451 ms ± 4.18 ms per loop (mean ± std. dev. of 3 runs, 10 loops each)\n"
     ]
    }
   ],
   "source": [
    "%timeit -r 3 -n 10 fibo_recurse(n=30) "
   ]
  },
  {
   "cell_type": "code",
   "execution_count": 4,
   "metadata": {},
   "outputs": [
    {
     "name": "stdout",
     "output_type": "stream",
     "text": [
      "2.43 µs ± 96.8 ns per loop (mean ± std. dev. of 3 runs, 10 loops each)\n"
     ]
    }
   ],
   "source": [
    "%timeit -r 3 -n 10 fibo_dynamic(n=30) "
   ]
  },
  {
   "cell_type": "markdown",
   "metadata": {},
   "source": [
    "Finally, let's benchmark our implementations for varying sizes of n:"
   ]
  },
  {
   "cell_type": "code",
   "execution_count": 5,
   "metadata": {},
   "outputs": [],
   "source": [
    "# import timeit\n",
    "\n",
    "# funcs = ['fibo_recurse', 'fibo_dynamic']\n",
    "# orders_n = list(range(0, 50, 10))\n",
    "# times_n = {f:[] for f in funcs}\n",
    "\n",
    "# for n in orders_n:\n",
    "#     for f in funcs:\n",
    "#         times_n[f].append(min(timeit.Timer('%s(n)' % f, \n",
    "#                 'from __main__ import %s, n' % f)\n",
    "#                     .repeat(repeat=3, number=5)))"
   ]
  },
  {
   "cell_type": "code",
   "execution_count": 6,
   "metadata": {},
   "outputs": [],
   "source": [
    "# %matplotlib inline\n",
    "# import matplotlib.pyplot as plt\n",
    "\n",
    "# def plot_timing():\n",
    "\n",
    "#     labels = [('fibo_recurse', 'fibo_recurse'), \n",
    "#               ('fibo_dynamic', 'fibo_dynamic')]\n",
    "\n",
    "#     plt.rcParams.update({'font.size': 12})\n",
    "\n",
    "#     fig = plt.figure(figsize=(10, 8))\n",
    "#     for lb in labels:\n",
    "#         plt.plot(orders_n, times_n[lb[0]], \n",
    "#              alpha=0.5, label=lb[1], marker='o', lw=3)\n",
    "#     plt.xlabel('sample size n')\n",
    "#     plt.ylabel('time per computation in milliseconds [ms]')\n",
    "#     plt.legend(loc=2)\n",
    "#     plt.ylim([-1, 300])\n",
    "#     plt.grid()\n",
    "#     plt.show()"
   ]
  },
  {
   "cell_type": "code",
   "execution_count": 7,
   "metadata": {},
   "outputs": [],
   "source": [
    "# plot_timing()"
   ]
  }
 ],
 "metadata": {
  "kernelspec": {
   "display_name": "Python [default]",
   "language": "python",
   "name": "python3"
  },
  "language_info": {
   "codemirror_mode": {
    "name": "ipython",
    "version": 3
   },
   "file_extension": ".py",
   "mimetype": "text/x-python",
   "name": "python",
   "nbconvert_exporter": "python",
   "pygments_lexer": "ipython3",
   "version": "3.5.4"
  }
 },
 "nbformat": 4,
 "nbformat_minor": 1
}
