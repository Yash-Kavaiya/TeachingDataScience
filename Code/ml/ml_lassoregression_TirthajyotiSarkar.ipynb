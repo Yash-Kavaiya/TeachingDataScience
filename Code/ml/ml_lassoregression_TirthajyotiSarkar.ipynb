{
 "cells": [
  {
   "cell_type": "markdown",
   "metadata": {},
   "source": [
    "# Multi-variate Rregression Metamodel with DOE based on random sampling\n",
    "* Input variable space should be constructed using random sampling, not classical factorial DOE\n",
    "* Linear fit is often inadequate but higher-order polynomial fits often leads to overfitting i.e. learns spurious, flawed relationships between input and output\n",
    "* R-square fit can often be misleding measure in case of high-dimensional regression\n",
    "* Metamodel can be constructed by selectively discovering features (or their combination) which matter and shrinking other high-order terms towards zero\n",
    "\n",
    "#### LASSO: Least Absolute Shrinkage and Selection Operator\n",
    "$$ {\\displaystyle \\min _{\\beta _{0},\\beta }\\left\\{{\\frac {1}{N}}\\sum _{i=1}^{N}(y_{i}-\\beta _{0}-x_{i}^{T}\\beta )^{2}\\right\\}{\\text{ subject to }}\\sum _{j=1}^{p}|\\beta _{j}|\\leq t.} $$"
   ]
  },
  {
   "cell_type": "markdown",
   "metadata": {},
   "source": [
    "### Import libraries"
   ]
  },
  {
   "cell_type": "code",
   "execution_count": 1,
   "metadata": {},
   "outputs": [],
   "source": [
    "import numpy as np\n",
    "import pandas as pd\n",
    "import matplotlib.pyplot as plt\n",
    "%matplotlib inline"
   ]
  },
  {
   "cell_type": "markdown",
   "metadata": {},
   "source": [
    "### Generate random (equivalent to Latin Hypercube sampling done in Optislang) feature vectors"
   ]
  },
  {
   "cell_type": "code",
   "execution_count": 2,
   "metadata": {},
   "outputs": [],
   "source": [
    "X=np.array(10*np.random.randn(37,5))"
   ]
  },
  {
   "cell_type": "code",
   "execution_count": 3,
   "metadata": {},
   "outputs": [],
   "source": [
    "df=pd.DataFrame(X,columns=['Feature'+str(l) for l in range(1,6)])"
   ]
  },
  {
   "cell_type": "code",
   "execution_count": 4,
   "metadata": {},
   "outputs": [
    {
     "data": {
      "text/html": [
       "<div>\n",
       "<style scoped>\n",
       "    .dataframe tbody tr th:only-of-type {\n",
       "        vertical-align: middle;\n",
       "    }\n",
       "\n",
       "    .dataframe tbody tr th {\n",
       "        vertical-align: top;\n",
       "    }\n",
       "\n",
       "    .dataframe thead th {\n",
       "        text-align: right;\n",
       "    }\n",
       "</style>\n",
       "<table border=\"1\" class=\"dataframe\">\n",
       "  <thead>\n",
       "    <tr style=\"text-align: right;\">\n",
       "      <th></th>\n",
       "      <th>Feature1</th>\n",
       "      <th>Feature2</th>\n",
       "      <th>Feature3</th>\n",
       "      <th>Feature4</th>\n",
       "      <th>Feature5</th>\n",
       "    </tr>\n",
       "  </thead>\n",
       "  <tbody>\n",
       "    <tr>\n",
       "      <th>0</th>\n",
       "      <td>-6.054888</td>\n",
       "      <td>4.954744</td>\n",
       "      <td>0.706008</td>\n",
       "      <td>-7.876673</td>\n",
       "      <td>13.476252</td>\n",
       "    </tr>\n",
       "    <tr>\n",
       "      <th>1</th>\n",
       "      <td>-9.112379</td>\n",
       "      <td>-16.387968</td>\n",
       "      <td>-0.416979</td>\n",
       "      <td>-0.672097</td>\n",
       "      <td>14.290933</td>\n",
       "    </tr>\n",
       "    <tr>\n",
       "      <th>2</th>\n",
       "      <td>-0.032246</td>\n",
       "      <td>0.234032</td>\n",
       "      <td>-1.583776</td>\n",
       "      <td>3.060950</td>\n",
       "      <td>3.995919</td>\n",
       "    </tr>\n",
       "    <tr>\n",
       "      <th>3</th>\n",
       "      <td>10.353783</td>\n",
       "      <td>6.523231</td>\n",
       "      <td>1.638374</td>\n",
       "      <td>10.981143</td>\n",
       "      <td>-11.433503</td>\n",
       "    </tr>\n",
       "    <tr>\n",
       "      <th>4</th>\n",
       "      <td>6.884713</td>\n",
       "      <td>2.680072</td>\n",
       "      <td>-13.577599</td>\n",
       "      <td>10.763904</td>\n",
       "      <td>-6.616147</td>\n",
       "    </tr>\n",
       "  </tbody>\n",
       "</table>\n",
       "</div>"
      ],
      "text/plain": [
       "    Feature1   Feature2   Feature3   Feature4   Feature5\n",
       "0  -6.054888   4.954744   0.706008  -7.876673  13.476252\n",
       "1  -9.112379 -16.387968  -0.416979  -0.672097  14.290933\n",
       "2  -0.032246   0.234032  -1.583776   3.060950   3.995919\n",
       "3  10.353783   6.523231   1.638374  10.981143 -11.433503\n",
       "4   6.884713   2.680072 -13.577599  10.763904  -6.616147"
      ]
     },
     "execution_count": 4,
     "metadata": {},
     "output_type": "execute_result"
    }
   ],
   "source": [
    "df.head()"
   ]
  },
  {
   "cell_type": "markdown",
   "metadata": {},
   "source": [
    "### Plot the random distributions of input features"
   ]
  },
  {
   "cell_type": "code",
   "execution_count": 5,
   "metadata": {
    "scrolled": false
   },
   "outputs": [
    {
     "data": {
      "image/png": "[encoded data removed]",
      "text/plain": [
       "<Figure size 576x432 with 1 Axes>"
      ]
     },
     "metadata": {
      "needs_background": "light"
     },
     "output_type": "display_data"
    },
    {
     "data": {
      "image/png": "[encoded data removed]",
      "text/plain": [
       "<Figure size 576x432 with 1 Axes>"
      ]
     },
     "metadata": {
      "needs_background": "light"
     },
     "output_type": "display_data"
    },
    {
     "data": {
      "image/png": "[encoded data removed]",
      "text/plain": [
       "<Figure size 576x432 with 1 Axes>"
      ]
     },
     "metadata": {
      "needs_background": "light"
     },
     "output_type": "display_data"
    },
    {
     "data": {
      "image/png": "[encoded data removed]",
      "text/plain": [
       "<Figure size 576x432 with 1 Axes>"
      ]
     },
     "metadata": {
      "needs_background": "light"
     },
     "output_type": "display_data"
    },
    {
     "data": {
      "image/png": "[encoded data removed]",
      "text/plain": [
       "<Figure size 576x432 with 1 Axes>"
      ]
     },
     "metadata": {
      "needs_background": "light"
     },
     "output_type": "display_data"
    }
   ],
   "source": [
    "for i in df.columns:\n",
    "    df.hist(i,bins=5,xlabelsize=15,ylabelsize=15,figsize=(8,6))"
   ]
  },
  {
   "cell_type": "markdown",
   "metadata": {},
   "source": [
    "### Generate the output variable by analytic function + Gaussian noise (our goal will be to *'learn'* this function)"
   ]
  },
  {
   "cell_type": "markdown",
   "metadata": {},
   "source": [
    "#### Let's construst the ground  truth  or  originating  function  as  follows: \n",
    " \n",
    "$$ y=f(x_1,x_2,x_3,x_4,x_5)= 5x_1^2+13x_2+0.1x_1x_3^2+2x_4x_5+0.1x_5^3+0.8x_1x_4x_5+\\psi(x)\\ :\\ \\psi(x) = {\\displaystyle f(x\\;|\\;\\mu ,\\sigma ^{2})={\\frac {1}{\\sqrt {2\\pi \\sigma ^{2}}}}\\;e^{-{\\frac {(x-\\mu )^{2}}{2\\sigma ^{2}}}}}$$"
   ]
  },
  {
   "cell_type": "code",
   "execution_count": 6,
   "metadata": {},
   "outputs": [],
   "source": [
    "df['y']=5*df['Feature1']**2+13*df['Feature2']+0.1*df['Feature3']**2*df['Feature1'] \\\n",
    "+2*df['Feature4']*df['Feature5']+0.1*df['Feature5']**3+0.8*df['Feature1']*df['Feature4']*df['Feature5'] \\\n",
    "+30*np.random.normal(loc=5,scale=2)"
   ]
  },
  {
   "cell_type": "code",
   "execution_count": 7,
   "metadata": {},
   "outputs": [
    {
     "data": {
      "text/html": [
       "<div>\n",
       "<style scoped>\n",
       "    .dataframe tbody tr th:only-of-type {\n",
       "        vertical-align: middle;\n",
       "    }\n",
       "\n",
       "    .dataframe tbody tr th {\n",
       "        vertical-align: top;\n",
       "    }\n",
       "\n",
       "    .dataframe thead th {\n",
       "        text-align: right;\n",
       "    }\n",
       "</style>\n",
       "<table border=\"1\" class=\"dataframe\">\n",
       "  <thead>\n",
       "    <tr style=\"text-align: right;\">\n",
       "      <th></th>\n",
       "      <th>Feature1</th>\n",
       "      <th>Feature2</th>\n",
       "      <th>Feature3</th>\n",
       "      <th>Feature4</th>\n",
       "      <th>Feature5</th>\n",
       "      <th>y</th>\n",
       "    </tr>\n",
       "  </thead>\n",
       "  <tbody>\n",
       "    <tr>\n",
       "      <th>0</th>\n",
       "      <td>-6.054888</td>\n",
       "      <td>4.954744</td>\n",
       "      <td>0.706008</td>\n",
       "      <td>-7.876673</td>\n",
       "      <td>13.476252</td>\n",
       "      <td>923.275952</td>\n",
       "    </tr>\n",
       "    <tr>\n",
       "      <th>1</th>\n",
       "      <td>-9.112379</td>\n",
       "      <td>-16.387968</td>\n",
       "      <td>-0.416979</td>\n",
       "      <td>-0.672097</td>\n",
       "      <td>14.290933</td>\n",
       "      <td>673.889927</td>\n",
       "    </tr>\n",
       "    <tr>\n",
       "      <th>2</th>\n",
       "      <td>-0.032246</td>\n",
       "      <td>0.234032</td>\n",
       "      <td>-1.583776</td>\n",
       "      <td>3.060950</td>\n",
       "      <td>3.995919</td>\n",
       "      <td>162.807983</td>\n",
       "    </tr>\n",
       "    <tr>\n",
       "      <th>3</th>\n",
       "      <td>10.353783</td>\n",
       "      <td>6.523231</td>\n",
       "      <td>1.638374</td>\n",
       "      <td>10.981143</td>\n",
       "      <td>-11.433503</td>\n",
       "      <td>-687.702238</td>\n",
       "    </tr>\n",
       "    <tr>\n",
       "      <th>4</th>\n",
       "      <td>6.884713</td>\n",
       "      <td>2.680072</td>\n",
       "      <td>-13.577599</td>\n",
       "      <td>10.763904</td>\n",
       "      <td>-6.616147</td>\n",
       "      <td>-35.632538</td>\n",
       "    </tr>\n",
       "  </tbody>\n",
       "</table>\n",
       "</div>"
      ],
      "text/plain": [
       "    Feature1   Feature2   Feature3   Feature4   Feature5           y\n",
       "0  -6.054888   4.954744   0.706008  -7.876673  13.476252  923.275952\n",
       "1  -9.112379 -16.387968  -0.416979  -0.672097  14.290933  673.889927\n",
       "2  -0.032246   0.234032  -1.583776   3.060950   3.995919  162.807983\n",
       "3  10.353783   6.523231   1.638374  10.981143 -11.433503 -687.702238\n",
       "4   6.884713   2.680072 -13.577599  10.763904  -6.616147  -35.632538"
      ]
     },
     "execution_count": 7,
     "metadata": {},
     "output_type": "execute_result"
    }
   ],
   "source": [
    "df.head()"
   ]
  },
  {
   "cell_type": "markdown",
   "metadata": {},
   "source": [
    "### Plot single-variable scatterplots"
   ]
  },
  {
   "cell_type": "code",
   "execution_count": 8,
   "metadata": {
    "scrolled": false
   },
   "outputs": [
    {
     "data": {
      "image/png": "[encoded data removed]",
      "text/plain": [
       "<Figure size 432x288 with 1 Axes>"
      ]
     },
     "metadata": {
      "needs_background": "light"
     },
     "output_type": "display_data"
    },
    {
     "data": {
      "image/png": "[encoded data removed]",
      "text/plain": [
       "<Figure size 432x288 with 1 Axes>"
      ]
     },
     "metadata": {
      "needs_background": "light"
     },
     "output_type": "display_data"
    },
    {
     "data": {
      "image/png": "[encoded data removed]",
      "text/plain": [
       "<Figure size 432x288 with 1 Axes>"
      ]
     },
     "metadata": {
      "needs_background": "light"
     },
     "output_type": "display_data"
    },
    {
     "data": {
      "image/png": "[encoded data removed]",
      "text/plain": [
       "<Figure size 432x288 with 1 Axes>"
      ]
     },
     "metadata": {
      "needs_background": "light"
     },
     "output_type": "display_data"
    },
    {
     "data": {
      "image/png": "[encoded data removed]",
      "text/plain": [
       "<Figure size 432x288 with 1 Axes>"
      ]
     },
     "metadata": {
      "needs_background": "light"
     },
     "output_type": "display_data"
    },
    {
     "data": {
      "image/png": "[encoded data removed]",
      "text/plain": [
       "<Figure size 432x288 with 1 Axes>"
      ]
     },
     "metadata": {
      "needs_background": "light"
     },
     "output_type": "display_data"
    }
   ],
   "source": [
    "for i in df.columns:\n",
    "    df.plot.scatter(i,'y', edgecolors=(0,0,0),s=50,c='g',grid=True)"
   ]
  },
  {
   "cell_type": "markdown",
   "metadata": {},
   "source": [
    "### Standard linear regression"
   ]
  },
  {
   "cell_type": "code",
   "execution_count": 9,
   "metadata": {},
   "outputs": [],
   "source": [
    "from sklearn.linear_model import LinearRegression"
   ]
  },
  {
   "cell_type": "code",
   "execution_count": 10,
   "metadata": {},
   "outputs": [],
   "source": [
    "linear_model = LinearRegression(normalize=True)"
   ]
  },
  {
   "cell_type": "code",
   "execution_count": 11,
   "metadata": {},
   "outputs": [],
   "source": [
    "X_linear=df.drop('y',axis=1)\n",
    "y_linear=df['y']"
   ]
  },
  {
   "cell_type": "code",
   "execution_count": 12,
   "metadata": {},
   "outputs": [
    {
     "data": {
      "text/plain": [
       "LinearRegression(copy_X=True, fit_intercept=True, n_jobs=None, normalize=True)"
      ]
     },
     "execution_count": 12,
     "metadata": {},
     "output_type": "execute_result"
    }
   ],
   "source": [
    "linear_model.fit(X_linear,y_linear)"
   ]
  },
  {
   "cell_type": "code",
   "execution_count": 13,
   "metadata": {},
   "outputs": [],
   "source": [
    "y_pred_linear = linear_model.predict(X_linear)"
   ]
  },
  {
   "cell_type": "markdown",
   "metadata": {},
   "source": [
    "### R-square of simple linear fit is very bad, coefficients have no meaning i.e. we did not 'learn' the function"
   ]
  },
  {
   "cell_type": "code",
   "execution_count": 14,
   "metadata": {},
   "outputs": [],
   "source": [
    "RMSE_linear = np.sqrt(np.sum(np.square(y_pred_linear-y_linear)))"
   ]
  },
  {
   "cell_type": "code",
   "execution_count": 15,
   "metadata": {},
   "outputs": [
    {
     "name": "stdout",
     "output_type": "stream",
     "text": [
      "Root-mean-square error of linear model: 5567.254401779148\n"
     ]
    }
   ],
   "source": [
    "print(\"Root-mean-square error of linear model:\",RMSE_linear)"
   ]
  },
  {
   "cell_type": "code",
   "execution_count": 16,
   "metadata": {},
   "outputs": [
    {
     "data": {
      "text/html": [
       "<div>\n",
       "<style scoped>\n",
       "    .dataframe tbody tr th:only-of-type {\n",
       "        vertical-align: middle;\n",
       "    }\n",
       "\n",
       "    .dataframe tbody tr th {\n",
       "        vertical-align: top;\n",
       "    }\n",
       "\n",
       "    .dataframe thead th {\n",
       "        text-align: right;\n",
       "    }\n",
       "</style>\n",
       "<table border=\"1\" class=\"dataframe\">\n",
       "  <thead>\n",
       "    <tr style=\"text-align: right;\">\n",
       "      <th></th>\n",
       "      <th>Linear model coefficients</th>\n",
       "    </tr>\n",
       "  </thead>\n",
       "  <tbody>\n",
       "    <tr>\n",
       "      <th>Feature1</th>\n",
       "      <td>63.206381</td>\n",
       "    </tr>\n",
       "    <tr>\n",
       "      <th>Feature2</th>\n",
       "      <td>-0.576087</td>\n",
       "    </tr>\n",
       "    <tr>\n",
       "      <th>Feature3</th>\n",
       "      <td>35.918304</td>\n",
       "    </tr>\n",
       "    <tr>\n",
       "      <th>Feature4</th>\n",
       "      <td>22.872408</td>\n",
       "    </tr>\n",
       "    <tr>\n",
       "      <th>Feature5</th>\n",
       "      <td>54.263715</td>\n",
       "    </tr>\n",
       "  </tbody>\n",
       "</table>\n",
       "</div>"
      ],
      "text/plain": [
       "          Linear model coefficients\n",
       "Feature1                  63.206381\n",
       "Feature2                  -0.576087\n",
       "Feature3                  35.918304\n",
       "Feature4                  22.872408\n",
       "Feature5                  54.263715"
      ]
     },
     "execution_count": 16,
     "metadata": {},
     "output_type": "execute_result"
    }
   ],
   "source": [
    "coeff_linear = pd.DataFrame(linear_model.coef_,index=df.drop('y',axis=1).columns, columns=['Linear model coefficients'])\n",
    "coeff_linear"
   ]
  },
  {
   "cell_type": "code",
   "execution_count": 17,
   "metadata": {},
   "outputs": [
    {
     "name": "stdout",
     "output_type": "stream",
     "text": [
      "R2 value of linear model: 0.46456694945390403\n"
     ]
    }
   ],
   "source": [
    "print (\"R2 value of linear model:\",linear_model.score(X_linear,y_linear))"
   ]
  },
  {
   "cell_type": "code",
   "execution_count": 18,
   "metadata": {},
   "outputs": [
    {
     "data": {
      "text/plain": [
       "[<matplotlib.lines.Line2D at 0x262c5fb5be0>]"
      ]
     },
     "execution_count": 18,
     "metadata": {},
     "output_type": "execute_result"
    },
    {
     "data": {
      "image/png": "[encoded data removed]",
      "text/plain": [
       "<Figure size 864x576 with 1 Axes>"
      ]
     },
     "metadata": {
      "needs_background": "light"
     },
     "output_type": "display_data"
    }
   ],
   "source": [
    "plt.figure(figsize=(12,8))\n",
    "plt.xlabel(\"Predicted value with linear fit\",fontsize=20)\n",
    "plt.ylabel(\"Actual y-values\",fontsize=20)\n",
    "plt.grid(1)\n",
    "plt.scatter(y_pred_linear,y_linear,edgecolors=(0,0,0),lw=2,s=80)\n",
    "plt.plot(y_pred_linear,y_pred_linear, 'k--', lw=2)"
   ]
  },
  {
   "cell_type": "markdown",
   "metadata": {},
   "source": [
    "### Create polynomial features"
   ]
  },
  {
   "cell_type": "code",
   "execution_count": 19,
   "metadata": {},
   "outputs": [],
   "source": [
    "from sklearn.preprocessing import PolynomialFeatures"
   ]
  },
  {
   "cell_type": "code",
   "execution_count": 20,
   "metadata": {},
   "outputs": [],
   "source": [
    "poly = PolynomialFeatures(3,include_bias=False)"
   ]
  },
  {
   "cell_type": "code",
   "execution_count": 21,
   "metadata": {},
   "outputs": [
    {
     "name": "stdout",
     "output_type": "stream",
     "text": [
      "['Feature1', 'Feature2', 'Feature3', 'Feature4', 'Feature5', 'Feature1^2', 'Feature1 Feature2', 'Feature1 Feature3', 'Feature1 Feature4', 'Feature1 Feature5', 'Feature2^2', 'Feature2 Feature3', 'Feature2 Feature4', 'Feature2 Feature5', 'Feature3^2', 'Feature3 Feature4', 'Feature3 Feature5', 'Feature4^2', 'Feature4 Feature5', 'Feature5^2', 'Feature1^3', 'Feature1^2 Feature2', 'Feature1^2 Feature3', 'Feature1^2 Feature4', 'Feature1^2 Feature5', 'Feature1 Feature2^2', 'Feature1 Feature2 Feature3', 'Feature1 Feature2 Feature4', 'Feature1 Feature2 Feature5', 'Feature1 Feature3^2', 'Feature1 Feature3 Feature4', 'Feature1 Feature3 Feature5', 'Feature1 Feature4^2', 'Feature1 Feature4 Feature5', 'Feature1 Feature5^2', 'Feature2^3', 'Feature2^2 Feature3', 'Feature2^2 Feature4', 'Feature2^2 Feature5', 'Feature2 Feature3^2', 'Feature2 Feature3 Feature4', 'Feature2 Feature3 Feature5', 'Feature2 Feature4^2', 'Feature2 Feature4 Feature5', 'Feature2 Feature5^2', 'Feature3^3', 'Feature3^2 Feature4', 'Feature3^2 Feature5', 'Feature3 Feature4^2', 'Feature3 Feature4 Feature5', 'Feature3 Feature5^2', 'Feature4^3', 'Feature4^2 Feature5', 'Feature4 Feature5^2', 'Feature5^3']\n",
      "55\n"
     ]
    }
   ],
   "source": [
    "X_poly = poly.fit_transform(X)\n",
    "X_poly_feature_name = poly.get_feature_names(['Feature'+str(l) for l in range(1,6)])\n",
    "print(X_poly_feature_name)\n",
    "print(len(X_poly_feature_name))"
   ]
  },
  {
   "cell_type": "code",
   "execution_count": 22,
   "metadata": {},
   "outputs": [
    {
     "data": {
      "text/html": [
       "<div>\n",
       "<style scoped>\n",
       "    .dataframe tbody tr th:only-of-type {\n",
       "        vertical-align: middle;\n",
       "    }\n",
       "\n",
       "    .dataframe tbody tr th {\n",
       "        vertical-align: top;\n",
       "    }\n",
       "\n",
       "    .dataframe thead th {\n",
       "        text-align: right;\n",
       "    }\n",
       "</style>\n",
       "<table border=\"1\" class=\"dataframe\">\n",
       "  <thead>\n",
       "    <tr style=\"text-align: right;\">\n",
       "      <th></th>\n",
       "      <th>Feature1</th>\n",
       "      <th>Feature2</th>\n",
       "      <th>Feature3</th>\n",
       "      <th>Feature4</th>\n",
       "      <th>Feature5</th>\n",
       "      <th>Feature1^2</th>\n",
       "      <th>Feature1 Feature2</th>\n",
       "      <th>Feature1 Feature3</th>\n",
       "      <th>Feature1 Feature4</th>\n",
       "      <th>Feature1 Feature5</th>\n",
       "      <th>...</th>\n",
       "      <th>Feature3^3</th>\n",
       "      <th>Feature3^2 Feature4</th>\n",
       "      <th>Feature3^2 Feature5</th>\n",
       "      <th>Feature3 Feature4^2</th>\n",
       "      <th>Feature3 Feature4 Feature5</th>\n",
       "      <th>Feature3 Feature5^2</th>\n",
       "      <th>Feature4^3</th>\n",
       "      <th>Feature4^2 Feature5</th>\n",
       "      <th>Feature4 Feature5^2</th>\n",
       "      <th>Feature5^3</th>\n",
       "    </tr>\n",
       "  </thead>\n",
       "  <tbody>\n",
       "    <tr>\n",
       "      <th>0</th>\n",
       "      <td>-6.054888</td>\n",
       "      <td>4.954744</td>\n",
       "      <td>0.706008</td>\n",
       "      <td>-7.876673</td>\n",
       "      <td>13.476252</td>\n",
       "      <td>36.661666</td>\n",
       "      <td>-30.000418</td>\n",
       "      <td>-4.274802</td>\n",
       "      <td>47.692371</td>\n",
       "      <td>-81.597193</td>\n",
       "      <td>...</td>\n",
       "      <td>0.351908</td>\n",
       "      <td>-3.926112</td>\n",
       "      <td>6.717210</td>\n",
       "      <td>43.802162</td>\n",
       "      <td>-74.941408</td>\n",
       "      <td>128.217750</td>\n",
       "      <td>-488.684375</td>\n",
       "      <td>836.093327</td>\n",
       "      <td>-1430.477599</td>\n",
       "      <td>2447.413578</td>\n",
       "    </tr>\n",
       "    <tr>\n",
       "      <th>1</th>\n",
       "      <td>-9.112379</td>\n",
       "      <td>-16.387968</td>\n",
       "      <td>-0.416979</td>\n",
       "      <td>-0.672097</td>\n",
       "      <td>14.290933</td>\n",
       "      <td>83.035456</td>\n",
       "      <td>149.333381</td>\n",
       "      <td>3.799671</td>\n",
       "      <td>6.124401</td>\n",
       "      <td>-130.224399</td>\n",
       "      <td>...</td>\n",
       "      <td>-0.072501</td>\n",
       "      <td>-0.116858</td>\n",
       "      <td>2.484786</td>\n",
       "      <td>-0.188355</td>\n",
       "      <td>4.005037</td>\n",
       "      <td>-85.159939</td>\n",
       "      <td>-0.303596</td>\n",
       "      <td>6.455415</td>\n",
       "      <td>-137.262834</td>\n",
       "      <td>2918.648011</td>\n",
       "    </tr>\n",
       "    <tr>\n",
       "      <th>2</th>\n",
       "      <td>-0.032246</td>\n",
       "      <td>0.234032</td>\n",
       "      <td>-1.583776</td>\n",
       "      <td>3.060950</td>\n",
       "      <td>3.995919</td>\n",
       "      <td>0.001040</td>\n",
       "      <td>-0.007547</td>\n",
       "      <td>0.051070</td>\n",
       "      <td>-0.098702</td>\n",
       "      <td>-0.128851</td>\n",
       "      <td>...</td>\n",
       "      <td>-3.972660</td>\n",
       "      <td>7.677926</td>\n",
       "      <td>10.023151</td>\n",
       "      <td>-14.839061</td>\n",
       "      <td>-19.371657</td>\n",
       "      <td>-25.288736</td>\n",
       "      <td>28.679324</td>\n",
       "      <td>37.439433</td>\n",
       "      <td>48.875320</td>\n",
       "      <td>63.804303</td>\n",
       "    </tr>\n",
       "    <tr>\n",
       "      <th>3</th>\n",
       "      <td>10.353783</td>\n",
       "      <td>6.523231</td>\n",
       "      <td>1.638374</td>\n",
       "      <td>10.981143</td>\n",
       "      <td>-11.433503</td>\n",
       "      <td>107.200823</td>\n",
       "      <td>67.540123</td>\n",
       "      <td>16.963365</td>\n",
       "      <td>113.696371</td>\n",
       "      <td>-118.380007</td>\n",
       "      <td>...</td>\n",
       "      <td>4.397834</td>\n",
       "      <td>29.476333</td>\n",
       "      <td>-30.690588</td>\n",
       "      <td>197.564105</td>\n",
       "      <td>-205.702608</td>\n",
       "      <td>214.176371</td>\n",
       "      <td>1324.166613</td>\n",
       "      <td>-1378.714650</td>\n",
       "      <td>1435.509752</td>\n",
       "      <td>-1494.644485</td>\n",
       "    </tr>\n",
       "    <tr>\n",
       "      <th>4</th>\n",
       "      <td>6.884713</td>\n",
       "      <td>2.680072</td>\n",
       "      <td>-13.577599</td>\n",
       "      <td>10.763904</td>\n",
       "      <td>-6.616147</td>\n",
       "      <td>47.399274</td>\n",
       "      <td>18.451525</td>\n",
       "      <td>-93.477872</td>\n",
       "      <td>74.106392</td>\n",
       "      <td>-45.550272</td>\n",
       "      <td>...</td>\n",
       "      <td>-2503.046492</td>\n",
       "      <td>1984.338554</td>\n",
       "      <td>-1219.694523</td>\n",
       "      <td>-1573.122797</td>\n",
       "      <td>966.936441</td>\n",
       "      <td>-594.337634</td>\n",
       "      <td>1247.123546</td>\n",
       "      <td>-766.557579</td>\n",
       "      <td>471.172663</td>\n",
       "      <td>-289.611224</td>\n",
       "    </tr>\n",
       "  </tbody>\n",
       "</table>\n",
       "<p>5 rows × 55 columns</p>\n",
       "</div>"
      ],
      "text/plain": [
       "    Feature1   Feature2   Feature3   Feature4   Feature5  Feature1^2  \\\n",
       "0  -6.054888   4.954744   0.706008  -7.876673  13.476252   36.661666   \n",
       "1  -9.112379 -16.387968  -0.416979  -0.672097  14.290933   83.035456   \n",
       "2  -0.032246   0.234032  -1.583776   3.060950   3.995919    0.001040   \n",
       "3  10.353783   6.523231   1.638374  10.981143 -11.433503  107.200823   \n",
       "4   6.884713   2.680072 -13.577599  10.763904  -6.616147   47.399274   \n",
       "\n",
       "   Feature1 Feature2  Feature1 Feature3  Feature1 Feature4  Feature1 Feature5  \\\n",
       "0         -30.000418          -4.274802          47.692371         -81.597193   \n",
       "1         149.333381           3.799671           6.124401        -130.224399   \n",
       "2          -0.007547           0.051070          -0.098702          -0.128851   \n",
       "3          67.540123          16.963365         113.696371        -118.380007   \n",
       "4          18.451525         -93.477872          74.106392         -45.550272   \n",
       "\n",
       "   ...   Feature3^3  Feature3^2 Feature4  Feature3^2 Feature5  \\\n",
       "0  ...     0.351908            -3.926112             6.717210   \n",
       "1  ...    -0.072501            -0.116858             2.484786   \n",
       "2  ...    -3.972660             7.677926            10.023151   \n",
       "3  ...     4.397834            29.476333           -30.690588   \n",
       "4  ... -2503.046492          1984.338554         -1219.694523   \n",
       "\n",
       "   Feature3 Feature4^2  Feature3 Feature4 Feature5  Feature3 Feature5^2  \\\n",
       "0            43.802162                  -74.941408           128.217750   \n",
       "1            -0.188355                    4.005037           -85.159939   \n",
       "2           -14.839061                  -19.371657           -25.288736   \n",
       "3           197.564105                 -205.702608           214.176371   \n",
       "4         -1573.122797                  966.936441          -594.337634   \n",
       "\n",
       "    Feature4^3  Feature4^2 Feature5  Feature4 Feature5^2   Feature5^3  \n",
       "0  -488.684375           836.093327         -1430.477599  2447.413578  \n",
       "1    -0.303596             6.455415          -137.262834  2918.648011  \n",
       "2    28.679324            37.439433            48.875320    63.804303  \n",
       "3  1324.166613         -1378.714650          1435.509752 -1494.644485  \n",
       "4  1247.123546          -766.557579           471.172663  -289.611224  \n",
       "\n",
       "[5 rows x 55 columns]"
      ]
     },
     "execution_count": 22,
     "metadata": {},
     "output_type": "execute_result"
    }
   ],
   "source": [
    "df_poly = pd.DataFrame(X_poly, columns=X_poly_feature_name)\n",
    "df_poly.head()"
   ]
  },
  {
   "cell_type": "code",
   "execution_count": 23,
   "metadata": {},
   "outputs": [
    {
     "data": {
      "text/html": [
       "<div>\n",
       "<style scoped>\n",
       "    .dataframe tbody tr th:only-of-type {\n",
       "        vertical-align: middle;\n",
       "    }\n",
       "\n",
       "    .dataframe tbody tr th {\n",
       "        vertical-align: top;\n",
       "    }\n",
       "\n",
       "    .dataframe thead th {\n",
       "        text-align: right;\n",
       "    }\n",
       "</style>\n",
       "<table border=\"1\" class=\"dataframe\">\n",
       "  <thead>\n",
       "    <tr style=\"text-align: right;\">\n",
       "      <th></th>\n",
       "      <th>Feature1</th>\n",
       "      <th>Feature2</th>\n",
       "      <th>Feature3</th>\n",
       "      <th>Feature4</th>\n",
       "      <th>Feature5</th>\n",
       "      <th>Feature1^2</th>\n",
       "      <th>Feature1 Feature2</th>\n",
       "      <th>Feature1 Feature3</th>\n",
       "      <th>Feature1 Feature4</th>\n",
       "      <th>Feature1 Feature5</th>\n",
       "      <th>...</th>\n",
       "      <th>Feature3^2 Feature4</th>\n",
       "      <th>Feature3^2 Feature5</th>\n",
       "      <th>Feature3 Feature4^2</th>\n",
       "      <th>Feature3 Feature4 Feature5</th>\n",
       "      <th>Feature3 Feature5^2</th>\n",
       "      <th>Feature4^3</th>\n",
       "      <th>Feature4^2 Feature5</th>\n",
       "      <th>Feature4 Feature5^2</th>\n",
       "      <th>Feature5^3</th>\n",
       "      <th>y</th>\n",
       "    </tr>\n",
       "  </thead>\n",
       "  <tbody>\n",
       "    <tr>\n",
       "      <th>0</th>\n",
       "      <td>-6.054888</td>\n",
       "      <td>4.954744</td>\n",
       "      <td>0.706008</td>\n",
       "      <td>-7.876673</td>\n",
       "      <td>13.476252</td>\n",
       "      <td>36.661666</td>\n",
       "      <td>-30.000418</td>\n",
       "      <td>-4.274802</td>\n",
       "      <td>47.692371</td>\n",
       "      <td>-81.597193</td>\n",
       "      <td>...</td>\n",
       "      <td>-3.926112</td>\n",
       "      <td>6.717210</td>\n",
       "      <td>43.802162</td>\n",
       "      <td>-74.941408</td>\n",
       "      <td>128.217750</td>\n",
       "      <td>-488.684375</td>\n",
       "      <td>836.093327</td>\n",
       "      <td>-1430.477599</td>\n",
       "      <td>2447.413578</td>\n",
       "      <td>923.275952</td>\n",
       "    </tr>\n",
       "    <tr>\n",
       "      <th>1</th>\n",
       "      <td>-9.112379</td>\n",
       "      <td>-16.387968</td>\n",
       "      <td>-0.416979</td>\n",
       "      <td>-0.672097</td>\n",
       "      <td>14.290933</td>\n",
       "      <td>83.035456</td>\n",
       "      <td>149.333381</td>\n",
       "      <td>3.799671</td>\n",
       "      <td>6.124401</td>\n",
       "      <td>-130.224399</td>\n",
       "      <td>...</td>\n",
       "      <td>-0.116858</td>\n",
       "      <td>2.484786</td>\n",
       "      <td>-0.188355</td>\n",
       "      <td>4.005037</td>\n",
       "      <td>-85.159939</td>\n",
       "      <td>-0.303596</td>\n",
       "      <td>6.455415</td>\n",
       "      <td>-137.262834</td>\n",
       "      <td>2918.648011</td>\n",
       "      <td>673.889927</td>\n",
       "    </tr>\n",
       "    <tr>\n",
       "      <th>2</th>\n",
       "      <td>-0.032246</td>\n",
       "      <td>0.234032</td>\n",
       "      <td>-1.583776</td>\n",
       "      <td>3.060950</td>\n",
       "      <td>3.995919</td>\n",
       "      <td>0.001040</td>\n",
       "      <td>-0.007547</td>\n",
       "      <td>0.051070</td>\n",
       "      <td>-0.098702</td>\n",
       "      <td>-0.128851</td>\n",
       "      <td>...</td>\n",
       "      <td>7.677926</td>\n",
       "      <td>10.023151</td>\n",
       "      <td>-14.839061</td>\n",
       "      <td>-19.371657</td>\n",
       "      <td>-25.288736</td>\n",
       "      <td>28.679324</td>\n",
       "      <td>37.439433</td>\n",
       "      <td>48.875320</td>\n",
       "      <td>63.804303</td>\n",
       "      <td>162.807983</td>\n",
       "    </tr>\n",
       "    <tr>\n",
       "      <th>3</th>\n",
       "      <td>10.353783</td>\n",
       "      <td>6.523231</td>\n",
       "      <td>1.638374</td>\n",
       "      <td>10.981143</td>\n",
       "      <td>-11.433503</td>\n",
       "      <td>107.200823</td>\n",
       "      <td>67.540123</td>\n",
       "      <td>16.963365</td>\n",
       "      <td>113.696371</td>\n",
       "      <td>-118.380007</td>\n",
       "      <td>...</td>\n",
       "      <td>29.476333</td>\n",
       "      <td>-30.690588</td>\n",
       "      <td>197.564105</td>\n",
       "      <td>-205.702608</td>\n",
       "      <td>214.176371</td>\n",
       "      <td>1324.166613</td>\n",
       "      <td>-1378.714650</td>\n",
       "      <td>1435.509752</td>\n",
       "      <td>-1494.644485</td>\n",
       "      <td>-687.702238</td>\n",
       "    </tr>\n",
       "    <tr>\n",
       "      <th>4</th>\n",
       "      <td>6.884713</td>\n",
       "      <td>2.680072</td>\n",
       "      <td>-13.577599</td>\n",
       "      <td>10.763904</td>\n",
       "      <td>-6.616147</td>\n",
       "      <td>47.399274</td>\n",
       "      <td>18.451525</td>\n",
       "      <td>-93.477872</td>\n",
       "      <td>74.106392</td>\n",
       "      <td>-45.550272</td>\n",
       "      <td>...</td>\n",
       "      <td>1984.338554</td>\n",
       "      <td>-1219.694523</td>\n",
       "      <td>-1573.122797</td>\n",
       "      <td>966.936441</td>\n",
       "      <td>-594.337634</td>\n",
       "      <td>1247.123546</td>\n",
       "      <td>-766.557579</td>\n",
       "      <td>471.172663</td>\n",
       "      <td>-289.611224</td>\n",
       "      <td>-35.632538</td>\n",
       "    </tr>\n",
       "  </tbody>\n",
       "</table>\n",
       "<p>5 rows × 56 columns</p>\n",
       "</div>"
      ],
      "text/plain": [
       "    Feature1   Feature2   Feature3   Feature4   Feature5  Feature1^2  \\\n",
       "0  -6.054888   4.954744   0.706008  -7.876673  13.476252   36.661666   \n",
       "1  -9.112379 -16.387968  -0.416979  -0.672097  14.290933   83.035456   \n",
       "2  -0.032246   0.234032  -1.583776   3.060950   3.995919    0.001040   \n",
       "3  10.353783   6.523231   1.638374  10.981143 -11.433503  107.200823   \n",
       "4   6.884713   2.680072 -13.577599  10.763904  -6.616147   47.399274   \n",
       "\n",
       "   Feature1 Feature2  Feature1 Feature3  Feature1 Feature4  Feature1 Feature5  \\\n",
       "0         -30.000418          -4.274802          47.692371         -81.597193   \n",
       "1         149.333381           3.799671           6.124401        -130.224399   \n",
       "2          -0.007547           0.051070          -0.098702          -0.128851   \n",
       "3          67.540123          16.963365         113.696371        -118.380007   \n",
       "4          18.451525         -93.477872          74.106392         -45.550272   \n",
       "\n",
       "   ...  Feature3^2 Feature4  Feature3^2 Feature5  Feature3 Feature4^2  \\\n",
       "0  ...            -3.926112             6.717210            43.802162   \n",
       "1  ...            -0.116858             2.484786            -0.188355   \n",
       "2  ...             7.677926            10.023151           -14.839061   \n",
       "3  ...            29.476333           -30.690588           197.564105   \n",
       "4  ...          1984.338554         -1219.694523         -1573.122797   \n",
       "\n",
       "   Feature3 Feature4 Feature5  Feature3 Feature5^2   Feature4^3  \\\n",
       "0                  -74.941408           128.217750  -488.684375   \n",
       "1                    4.005037           -85.159939    -0.303596   \n",
       "2                  -19.371657           -25.288736    28.679324   \n",
       "3                 -205.702608           214.176371  1324.166613   \n",
       "4                  966.936441          -594.337634  1247.123546   \n",
       "\n",
       "   Feature4^2 Feature5  Feature4 Feature5^2   Feature5^3           y  \n",
       "0           836.093327         -1430.477599  2447.413578  923.275952  \n",
       "1             6.455415          -137.262834  2918.648011  673.889927  \n",
       "2            37.439433            48.875320    63.804303  162.807983  \n",
       "3         -1378.714650          1435.509752 -1494.644485 -687.702238  \n",
       "4          -766.557579           471.172663  -289.611224  -35.632538  \n",
       "\n",
       "[5 rows x 56 columns]"
      ]
     },
     "execution_count": 23,
     "metadata": {},
     "output_type": "execute_result"
    }
   ],
   "source": [
    "df_poly['y']=df['y']\n",
    "df_poly.head()"
   ]
  },
  {
   "cell_type": "code",
   "execution_count": 24,
   "metadata": {},
   "outputs": [],
   "source": [
    "X_train=df_poly.drop('y',axis=1)\n",
    "y_train=df_poly['y']"
   ]
  },
  {
   "cell_type": "markdown",
   "metadata": {},
   "source": [
    "### Polynomial model without regularization and cross-validation"
   ]
  },
  {
   "cell_type": "code",
   "execution_count": 25,
   "metadata": {},
   "outputs": [],
   "source": [
    "poly = LinearRegression(normalize=True)"
   ]
  },
  {
   "cell_type": "code",
   "execution_count": 26,
   "metadata": {},
   "outputs": [
    {
     "name": "stdout",
     "output_type": "stream",
     "text": [
      "Root-mean-square error of simple polynomial model: 7.38993139628491e-12\n"
     ]
    }
   ],
   "source": [
    "model_poly=poly.fit(X_train,y_train)\n",
    "y_poly = poly.predict(X_train)\n",
    "RMSE_poly=np.sqrt(np.sum(np.square(y_poly-y_train)))\n",
    "print(\"Root-mean-square error of simple polynomial model:\",RMSE_poly)"
   ]
  },
  {
   "cell_type": "code",
   "execution_count": 27,
   "metadata": {},
   "outputs": [
    {
     "data": {
      "text/html": [
       "<div>\n",
       "<style scoped>\n",
       "    .dataframe tbody tr th:only-of-type {\n",
       "        vertical-align: middle;\n",
       "    }\n",
       "\n",
       "    .dataframe tbody tr th {\n",
       "        vertical-align: top;\n",
       "    }\n",
       "\n",
       "    .dataframe thead th {\n",
       "        text-align: right;\n",
       "    }\n",
       "</style>\n",
       "<table border=\"1\" class=\"dataframe\">\n",
       "  <thead>\n",
       "    <tr style=\"text-align: right;\">\n",
       "      <th></th>\n",
       "      <th>Coefficients polynomial model</th>\n",
       "    </tr>\n",
       "  </thead>\n",
       "  <tbody>\n",
       "    <tr>\n",
       "      <th>Feature1</th>\n",
       "      <td>-0.942070</td>\n",
       "    </tr>\n",
       "    <tr>\n",
       "      <th>Feature2</th>\n",
       "      <td>12.799089</td>\n",
       "    </tr>\n",
       "    <tr>\n",
       "      <th>Feature3</th>\n",
       "      <td>-10.249640</td>\n",
       "    </tr>\n",
       "    <tr>\n",
       "      <th>Feature4</th>\n",
       "      <td>-1.263042</td>\n",
       "    </tr>\n",
       "    <tr>\n",
       "      <th>Feature5</th>\n",
       "      <td>-7.354561</td>\n",
       "    </tr>\n",
       "    <tr>\n",
       "      <th>Feature1^2</th>\n",
       "      <td>3.121500</td>\n",
       "    </tr>\n",
       "    <tr>\n",
       "      <th>Feature1 Feature2</th>\n",
       "      <td>1.111090</td>\n",
       "    </tr>\n",
       "    <tr>\n",
       "      <th>Feature1 Feature3</th>\n",
       "      <td>-0.206849</td>\n",
       "    </tr>\n",
       "    <tr>\n",
       "      <th>Feature1 Feature4</th>\n",
       "      <td>-1.489845</td>\n",
       "    </tr>\n",
       "    <tr>\n",
       "      <th>Feature1 Feature5</th>\n",
       "      <td>0.196511</td>\n",
       "    </tr>\n",
       "    <tr>\n",
       "      <th>Feature2^2</th>\n",
       "      <td>0.239840</td>\n",
       "    </tr>\n",
       "    <tr>\n",
       "      <th>Feature2 Feature3</th>\n",
       "      <td>-0.135041</td>\n",
       "    </tr>\n",
       "    <tr>\n",
       "      <th>Feature2 Feature4</th>\n",
       "      <td>-0.962071</td>\n",
       "    </tr>\n",
       "    <tr>\n",
       "      <th>Feature2 Feature5</th>\n",
       "      <td>-0.396695</td>\n",
       "    </tr>\n",
       "    <tr>\n",
       "      <th>Feature3^2</th>\n",
       "      <td>0.600505</td>\n",
       "    </tr>\n",
       "    <tr>\n",
       "      <th>Feature3 Feature4</th>\n",
       "      <td>1.423828</td>\n",
       "    </tr>\n",
       "    <tr>\n",
       "      <th>Feature3 Feature5</th>\n",
       "      <td>2.221160</td>\n",
       "    </tr>\n",
       "    <tr>\n",
       "      <th>Feature4^2</th>\n",
       "      <td>1.179412</td>\n",
       "    </tr>\n",
       "    <tr>\n",
       "      <th>Feature4 Feature5</th>\n",
       "      <td>2.602018</td>\n",
       "    </tr>\n",
       "    <tr>\n",
       "      <th>Feature5^2</th>\n",
       "      <td>0.208666</td>\n",
       "    </tr>\n",
       "    <tr>\n",
       "      <th>Feature1^3</th>\n",
       "      <td>0.017270</td>\n",
       "    </tr>\n",
       "    <tr>\n",
       "      <th>Feature1^2 Feature2</th>\n",
       "      <td>-0.027677</td>\n",
       "    </tr>\n",
       "    <tr>\n",
       "      <th>Feature1^2 Feature3</th>\n",
       "      <td>0.077763</td>\n",
       "    </tr>\n",
       "    <tr>\n",
       "      <th>Feature1^2 Feature4</th>\n",
       "      <td>0.137049</td>\n",
       "    </tr>\n",
       "    <tr>\n",
       "      <th>Feature1^2 Feature5</th>\n",
       "      <td>-0.057374</td>\n",
       "    </tr>\n",
       "    <tr>\n",
       "      <th>Feature1 Feature2^2</th>\n",
       "      <td>-0.000016</td>\n",
       "    </tr>\n",
       "    <tr>\n",
       "      <th>Feature1 Feature2 Feature3</th>\n",
       "      <td>-0.222307</td>\n",
       "    </tr>\n",
       "    <tr>\n",
       "      <th>Feature1 Feature2 Feature4</th>\n",
       "      <td>0.091032</td>\n",
       "    </tr>\n",
       "    <tr>\n",
       "      <th>Feature1 Feature2 Feature5</th>\n",
       "      <td>0.032744</td>\n",
       "    </tr>\n",
       "    <tr>\n",
       "      <th>Feature1 Feature3^2</th>\n",
       "      <td>0.084419</td>\n",
       "    </tr>\n",
       "    <tr>\n",
       "      <th>Feature1 Feature3 Feature4</th>\n",
       "      <td>-0.031397</td>\n",
       "    </tr>\n",
       "    <tr>\n",
       "      <th>Feature1 Feature3 Feature5</th>\n",
       "      <td>0.020785</td>\n",
       "    </tr>\n",
       "    <tr>\n",
       "      <th>Feature1 Feature4^2</th>\n",
       "      <td>-0.046463</td>\n",
       "    </tr>\n",
       "    <tr>\n",
       "      <th>Feature1 Feature4 Feature5</th>\n",
       "      <td>0.616983</td>\n",
       "    </tr>\n",
       "    <tr>\n",
       "      <th>Feature1 Feature5^2</th>\n",
       "      <td>-0.011836</td>\n",
       "    </tr>\n",
       "    <tr>\n",
       "      <th>Feature2^3</th>\n",
       "      <td>0.000977</td>\n",
       "    </tr>\n",
       "    <tr>\n",
       "      <th>Feature2^2 Feature3</th>\n",
       "      <td>0.010596</td>\n",
       "    </tr>\n",
       "    <tr>\n",
       "      <th>Feature2^2 Feature4</th>\n",
       "      <td>0.062846</td>\n",
       "    </tr>\n",
       "    <tr>\n",
       "      <th>Feature2^2 Feature5</th>\n",
       "      <td>0.013224</td>\n",
       "    </tr>\n",
       "    <tr>\n",
       "      <th>Feature2 Feature3^2</th>\n",
       "      <td>-0.028973</td>\n",
       "    </tr>\n",
       "    <tr>\n",
       "      <th>Feature2 Feature3 Feature4</th>\n",
       "      <td>0.074976</td>\n",
       "    </tr>\n",
       "    <tr>\n",
       "      <th>Feature2 Feature3 Feature5</th>\n",
       "      <td>-0.082328</td>\n",
       "    </tr>\n",
       "    <tr>\n",
       "      <th>Feature2 Feature4^2</th>\n",
       "      <td>-0.069263</td>\n",
       "    </tr>\n",
       "    <tr>\n",
       "      <th>Feature2 Feature4 Feature5</th>\n",
       "      <td>-0.221653</td>\n",
       "    </tr>\n",
       "    <tr>\n",
       "      <th>Feature2 Feature5^2</th>\n",
       "      <td>-0.008431</td>\n",
       "    </tr>\n",
       "    <tr>\n",
       "      <th>Feature3^3</th>\n",
       "      <td>-0.017271</td>\n",
       "    </tr>\n",
       "    <tr>\n",
       "      <th>Feature3^2 Feature4</th>\n",
       "      <td>0.072761</td>\n",
       "    </tr>\n",
       "    <tr>\n",
       "      <th>Feature3^2 Feature5</th>\n",
       "      <td>0.028849</td>\n",
       "    </tr>\n",
       "    <tr>\n",
       "      <th>Feature3 Feature4^2</th>\n",
       "      <td>0.262706</td>\n",
       "    </tr>\n",
       "    <tr>\n",
       "      <th>Feature3 Feature4 Feature5</th>\n",
       "      <td>0.110025</td>\n",
       "    </tr>\n",
       "    <tr>\n",
       "      <th>Feature3 Feature5^2</th>\n",
       "      <td>-0.002605</td>\n",
       "    </tr>\n",
       "    <tr>\n",
       "      <th>Feature4^3</th>\n",
       "      <td>-0.012551</td>\n",
       "    </tr>\n",
       "    <tr>\n",
       "      <th>Feature4^2 Feature5</th>\n",
       "      <td>0.168957</td>\n",
       "    </tr>\n",
       "    <tr>\n",
       "      <th>Feature4 Feature5^2</th>\n",
       "      <td>-0.163014</td>\n",
       "    </tr>\n",
       "    <tr>\n",
       "      <th>Feature5^3</th>\n",
       "      <td>0.046757</td>\n",
       "    </tr>\n",
       "  </tbody>\n",
       "</table>\n",
       "</div>"
      ],
      "text/plain": [
       "                            Coefficients polynomial model\n",
       "Feature1                                        -0.942070\n",
       "Feature2                                        12.799089\n",
       "Feature3                                       -10.249640\n",
       "Feature4                                        -1.263042\n",
       "Feature5                                        -7.354561\n",
       "Feature1^2                                       3.121500\n",
       "Feature1 Feature2                                1.111090\n",
       "Feature1 Feature3                               -0.206849\n",
       "Feature1 Feature4                               -1.489845\n",
       "Feature1 Feature5                                0.196511\n",
       "Feature2^2                                       0.239840\n",
       "Feature2 Feature3                               -0.135041\n",
       "Feature2 Feature4                               -0.962071\n",
       "Feature2 Feature5                               -0.396695\n",
       "Feature3^2                                       0.600505\n",
       "Feature3 Feature4                                1.423828\n",
       "Feature3 Feature5                                2.221160\n",
       "Feature4^2                                       1.179412\n",
       "Feature4 Feature5                                2.602018\n",
       "Feature5^2                                       0.208666\n",
       "Feature1^3                                       0.017270\n",
       "Feature1^2 Feature2                             -0.027677\n",
       "Feature1^2 Feature3                              0.077763\n",
       "Feature1^2 Feature4                              0.137049\n",
       "Feature1^2 Feature5                             -0.057374\n",
       "Feature1 Feature2^2                             -0.000016\n",
       "Feature1 Feature2 Feature3                      -0.222307\n",
       "Feature1 Feature2 Feature4                       0.091032\n",
       "Feature1 Feature2 Feature5                       0.032744\n",
       "Feature1 Feature3^2                              0.084419\n",
       "Feature1 Feature3 Feature4                      -0.031397\n",
       "Feature1 Feature3 Feature5                       0.020785\n",
       "Feature1 Feature4^2                             -0.046463\n",
       "Feature1 Feature4 Feature5                       0.616983\n",
       "Feature1 Feature5^2                             -0.011836\n",
       "Feature2^3                                       0.000977\n",
       "Feature2^2 Feature3                              0.010596\n",
       "Feature2^2 Feature4                              0.062846\n",
       "Feature2^2 Feature5                              0.013224\n",
       "Feature2 Feature3^2                             -0.028973\n",
       "Feature2 Feature3 Feature4                       0.074976\n",
       "Feature2 Feature3 Feature5                      -0.082328\n",
       "Feature2 Feature4^2                             -0.069263\n",
       "Feature2 Feature4 Feature5                      -0.221653\n",
       "Feature2 Feature5^2                             -0.008431\n",
       "Feature3^3                                      -0.017271\n",
       "Feature3^2 Feature4                              0.072761\n",
       "Feature3^2 Feature5                              0.028849\n",
       "Feature3 Feature4^2                              0.262706\n",
       "Feature3 Feature4 Feature5                       0.110025\n",
       "Feature3 Feature5^2                             -0.002605\n",
       "Feature4^3                                      -0.012551\n",
       "Feature4^2 Feature5                              0.168957\n",
       "Feature4 Feature5^2                             -0.163014\n",
       "Feature5^3                                       0.046757"
      ]
     },
     "execution_count": 27,
     "metadata": {},
     "output_type": "execute_result"
    }
   ],
   "source": [
    "coeff_poly = pd.DataFrame(model_poly.coef_,index=df_poly.drop('y',axis=1).columns, \n",
    "                          columns=['Coefficients polynomial model'])\n",
    "coeff_poly"
   ]
  },
  {
   "cell_type": "markdown",
   "metadata": {},
   "source": [
    "#### R-square value of the simple polynomial model is perfect but the model is flawed as shown above i.e. it learned wrong coefficients and overfitted the to the data"
   ]
  },
  {
   "cell_type": "code",
   "execution_count": 28,
   "metadata": {},
   "outputs": [
    {
     "name": "stdout",
     "output_type": "stream",
     "text": [
      "R2 value of simple polynomial model: 1.0\n"
     ]
    }
   ],
   "source": [
    "print (\"R2 value of simple polynomial model:\",model_poly.score(X_train,y_train))"
   ]
  },
  {
   "cell_type": "markdown",
   "metadata": {},
   "source": [
    "### Metamodel (Optislang style :) - polynomial model with cross-validation and LASSO regularization\n",
    "** This is an advanced machine learning method which prevents over-fitting by penalizing high-valued coefficients i.e. keep them bounded **"
   ]
  },
  {
   "cell_type": "code",
   "execution_count": 29,
   "metadata": {},
   "outputs": [],
   "source": [
    "from sklearn.linear_model import LassoCV"
   ]
  },
  {
   "cell_type": "code",
   "execution_count": 30,
   "metadata": {},
   "outputs": [],
   "source": [
    "model1 = LassoCV(cv=10,verbose=0,normalize=True,eps=0.001,n_alphas=100, tol=0.0001,max_iter=5000)"
   ]
  },
  {
   "cell_type": "code",
   "execution_count": 31,
   "metadata": {},
   "outputs": [
    {
     "data": {
      "text/plain": [
       "LassoCV(alphas=None, copy_X=True, cv=10, eps=0.001, fit_intercept=True,\n",
       "    max_iter=5000, n_alphas=100, n_jobs=None, normalize=True,\n",
       "    positive=False, precompute='auto', random_state=None,\n",
       "    selection='cyclic', tol=0.0001, verbose=0)"
      ]
     },
     "execution_count": 31,
     "metadata": {},
     "output_type": "execute_result"
    }
   ],
   "source": [
    "model1.fit(X_train,y_train)"
   ]
  },
  {
   "cell_type": "code",
   "execution_count": 32,
   "metadata": {},
   "outputs": [],
   "source": [
    "y_pred1 = np.array(model1.predict(X_train))"
   ]
  },
  {
   "cell_type": "code",
   "execution_count": 33,
   "metadata": {},
   "outputs": [
    {
     "name": "stdout",
     "output_type": "stream",
     "text": [
      "Root-mean-square error of Metamodel: 16.760788703434315\n"
     ]
    }
   ],
   "source": [
    "RMSE_1=np.sqrt(np.sum(np.square(y_pred1-y_train)))\n",
    "print(\"Root-mean-square error of Metamodel:\",RMSE_1)"
   ]
  },
  {
   "cell_type": "code",
   "execution_count": 34,
   "metadata": {},
   "outputs": [
    {
     "data": {
      "text/html": [
       "<div>\n",
       "<style scoped>\n",
       "    .dataframe tbody tr th:only-of-type {\n",
       "        vertical-align: middle;\n",
       "    }\n",
       "\n",
       "    .dataframe tbody tr th {\n",
       "        vertical-align: top;\n",
       "    }\n",
       "\n",
       "    .dataframe thead th {\n",
       "        text-align: right;\n",
       "    }\n",
       "</style>\n",
       "<table border=\"1\" class=\"dataframe\">\n",
       "  <thead>\n",
       "    <tr style=\"text-align: right;\">\n",
       "      <th></th>\n",
       "      <th>Coefficients Metamodel</th>\n",
       "    </tr>\n",
       "  </thead>\n",
       "  <tbody>\n",
       "    <tr>\n",
       "      <th>Feature1</th>\n",
       "      <td>0.012030</td>\n",
       "    </tr>\n",
       "    <tr>\n",
       "      <th>Feature2</th>\n",
       "      <td>12.774227</td>\n",
       "    </tr>\n",
       "    <tr>\n",
       "      <th>Feature3</th>\n",
       "      <td>-0.000000</td>\n",
       "    </tr>\n",
       "    <tr>\n",
       "      <th>Feature4</th>\n",
       "      <td>0.000000</td>\n",
       "    </tr>\n",
       "    <tr>\n",
       "      <th>Feature5</th>\n",
       "      <td>0.047323</td>\n",
       "    </tr>\n",
       "    <tr>\n",
       "      <th>Feature1^2</th>\n",
       "      <td>4.992291</td>\n",
       "    </tr>\n",
       "    <tr>\n",
       "      <th>Feature1 Feature2</th>\n",
       "      <td>-0.000000</td>\n",
       "    </tr>\n",
       "    <tr>\n",
       "      <th>Feature1 Feature3</th>\n",
       "      <td>0.000000</td>\n",
       "    </tr>\n",
       "    <tr>\n",
       "      <th>Feature1 Feature4</th>\n",
       "      <td>0.000000</td>\n",
       "    </tr>\n",
       "    <tr>\n",
       "      <th>Feature1 Feature5</th>\n",
       "      <td>0.000000</td>\n",
       "    </tr>\n",
       "    <tr>\n",
       "      <th>Feature2^2</th>\n",
       "      <td>-0.000000</td>\n",
       "    </tr>\n",
       "    <tr>\n",
       "      <th>Feature2 Feature3</th>\n",
       "      <td>-0.000000</td>\n",
       "    </tr>\n",
       "    <tr>\n",
       "      <th>Feature2 Feature4</th>\n",
       "      <td>-0.000000</td>\n",
       "    </tr>\n",
       "    <tr>\n",
       "      <th>Feature2 Feature5</th>\n",
       "      <td>-0.000000</td>\n",
       "    </tr>\n",
       "    <tr>\n",
       "      <th>Feature3^2</th>\n",
       "      <td>-0.000000</td>\n",
       "    </tr>\n",
       "    <tr>\n",
       "      <th>Feature3 Feature4</th>\n",
       "      <td>0.000000</td>\n",
       "    </tr>\n",
       "    <tr>\n",
       "      <th>Feature3 Feature5</th>\n",
       "      <td>0.000000</td>\n",
       "    </tr>\n",
       "    <tr>\n",
       "      <th>Feature4^2</th>\n",
       "      <td>0.000000</td>\n",
       "    </tr>\n",
       "    <tr>\n",
       "      <th>Feature4 Feature5</th>\n",
       "      <td>1.984165</td>\n",
       "    </tr>\n",
       "    <tr>\n",
       "      <th>Feature5^2</th>\n",
       "      <td>-0.000000</td>\n",
       "    </tr>\n",
       "    <tr>\n",
       "      <th>Feature1^3</th>\n",
       "      <td>0.000065</td>\n",
       "    </tr>\n",
       "    <tr>\n",
       "      <th>Feature1^2 Feature2</th>\n",
       "      <td>-0.000000</td>\n",
       "    </tr>\n",
       "    <tr>\n",
       "      <th>Feature1^2 Feature3</th>\n",
       "      <td>0.000000</td>\n",
       "    </tr>\n",
       "    <tr>\n",
       "      <th>Feature1^2 Feature4</th>\n",
       "      <td>0.000111</td>\n",
       "    </tr>\n",
       "    <tr>\n",
       "      <th>Feature1^2 Feature5</th>\n",
       "      <td>0.000000</td>\n",
       "    </tr>\n",
       "    <tr>\n",
       "      <th>Feature1 Feature2^2</th>\n",
       "      <td>0.000000</td>\n",
       "    </tr>\n",
       "    <tr>\n",
       "      <th>Feature1 Feature2 Feature3</th>\n",
       "      <td>-0.000000</td>\n",
       "    </tr>\n",
       "    <tr>\n",
       "      <th>Feature1 Feature2 Feature4</th>\n",
       "      <td>-0.000000</td>\n",
       "    </tr>\n",
       "    <tr>\n",
       "      <th>Feature1 Feature2 Feature5</th>\n",
       "      <td>0.000000</td>\n",
       "    </tr>\n",
       "    <tr>\n",
       "      <th>Feature1 Feature3^2</th>\n",
       "      <td>0.098697</td>\n",
       "    </tr>\n",
       "    <tr>\n",
       "      <th>Feature1 Feature3 Feature4</th>\n",
       "      <td>0.000000</td>\n",
       "    </tr>\n",
       "    <tr>\n",
       "      <th>Feature1 Feature3 Feature5</th>\n",
       "      <td>0.000000</td>\n",
       "    </tr>\n",
       "    <tr>\n",
       "      <th>Feature1 Feature4^2</th>\n",
       "      <td>0.000000</td>\n",
       "    </tr>\n",
       "    <tr>\n",
       "      <th>Feature1 Feature4 Feature5</th>\n",
       "      <td>0.799753</td>\n",
       "    </tr>\n",
       "    <tr>\n",
       "      <th>Feature1 Feature5^2</th>\n",
       "      <td>0.000000</td>\n",
       "    </tr>\n",
       "    <tr>\n",
       "      <th>Feature2^3</th>\n",
       "      <td>0.000197</td>\n",
       "    </tr>\n",
       "    <tr>\n",
       "      <th>Feature2^2 Feature3</th>\n",
       "      <td>-0.000000</td>\n",
       "    </tr>\n",
       "    <tr>\n",
       "      <th>Feature2^2 Feature4</th>\n",
       "      <td>0.000000</td>\n",
       "    </tr>\n",
       "    <tr>\n",
       "      <th>Feature2^2 Feature5</th>\n",
       "      <td>0.000000</td>\n",
       "    </tr>\n",
       "    <tr>\n",
       "      <th>Feature2 Feature3^2</th>\n",
       "      <td>-0.000000</td>\n",
       "    </tr>\n",
       "    <tr>\n",
       "      <th>Feature2 Feature3 Feature4</th>\n",
       "      <td>0.000000</td>\n",
       "    </tr>\n",
       "    <tr>\n",
       "      <th>Feature2 Feature3 Feature5</th>\n",
       "      <td>-0.000000</td>\n",
       "    </tr>\n",
       "    <tr>\n",
       "      <th>Feature2 Feature4^2</th>\n",
       "      <td>0.000000</td>\n",
       "    </tr>\n",
       "    <tr>\n",
       "      <th>Feature2 Feature4 Feature5</th>\n",
       "      <td>0.000000</td>\n",
       "    </tr>\n",
       "    <tr>\n",
       "      <th>Feature2 Feature5^2</th>\n",
       "      <td>0.000000</td>\n",
       "    </tr>\n",
       "    <tr>\n",
       "      <th>Feature3^3</th>\n",
       "      <td>-0.000000</td>\n",
       "    </tr>\n",
       "    <tr>\n",
       "      <th>Feature3^2 Feature4</th>\n",
       "      <td>0.000310</td>\n",
       "    </tr>\n",
       "    <tr>\n",
       "      <th>Feature3^2 Feature5</th>\n",
       "      <td>0.000000</td>\n",
       "    </tr>\n",
       "    <tr>\n",
       "      <th>Feature3 Feature4^2</th>\n",
       "      <td>0.000000</td>\n",
       "    </tr>\n",
       "    <tr>\n",
       "      <th>Feature3 Feature4 Feature5</th>\n",
       "      <td>0.000000</td>\n",
       "    </tr>\n",
       "    <tr>\n",
       "      <th>Feature3 Feature5^2</th>\n",
       "      <td>-0.000000</td>\n",
       "    </tr>\n",
       "    <tr>\n",
       "      <th>Feature4^3</th>\n",
       "      <td>0.000000</td>\n",
       "    </tr>\n",
       "    <tr>\n",
       "      <th>Feature4^2 Feature5</th>\n",
       "      <td>0.000000</td>\n",
       "    </tr>\n",
       "    <tr>\n",
       "      <th>Feature4 Feature5^2</th>\n",
       "      <td>0.000000</td>\n",
       "    </tr>\n",
       "    <tr>\n",
       "      <th>Feature5^3</th>\n",
       "      <td>0.099251</td>\n",
       "    </tr>\n",
       "  </tbody>\n",
       "</table>\n",
       "</div>"
      ],
      "text/plain": [
       "                            Coefficients Metamodel\n",
       "Feature1                                  0.012030\n",
       "Feature2                                 12.774227\n",
       "Feature3                                 -0.000000\n",
       "Feature4                                  0.000000\n",
       "Feature5                                  0.047323\n",
       "Feature1^2                                4.992291\n",
       "Feature1 Feature2                        -0.000000\n",
       "Feature1 Feature3                         0.000000\n",
       "Feature1 Feature4                         0.000000\n",
       "Feature1 Feature5                         0.000000\n",
       "Feature2^2                               -0.000000\n",
       "Feature2 Feature3                        -0.000000\n",
       "Feature2 Feature4                        -0.000000\n",
       "Feature2 Feature5                        -0.000000\n",
       "Feature3^2                               -0.000000\n",
       "Feature3 Feature4                         0.000000\n",
       "Feature3 Feature5                         0.000000\n",
       "Feature4^2                                0.000000\n",
       "Feature4 Feature5                         1.984165\n",
       "Feature5^2                               -0.000000\n",
       "Feature1^3                                0.000065\n",
       "Feature1^2 Feature2                      -0.000000\n",
       "Feature1^2 Feature3                       0.000000\n",
       "Feature1^2 Feature4                       0.000111\n",
       "Feature1^2 Feature5                       0.000000\n",
       "Feature1 Feature2^2                       0.000000\n",
       "Feature1 Feature2 Feature3               -0.000000\n",
       "Feature1 Feature2 Feature4               -0.000000\n",
       "Feature1 Feature2 Feature5                0.000000\n",
       "Feature1 Feature3^2                       0.098697\n",
       "Feature1 Feature3 Feature4                0.000000\n",
       "Feature1 Feature3 Feature5                0.000000\n",
       "Feature1 Feature4^2                       0.000000\n",
       "Feature1 Feature4 Feature5                0.799753\n",
       "Feature1 Feature5^2                       0.000000\n",
       "Feature2^3                                0.000197\n",
       "Feature2^2 Feature3                      -0.000000\n",
       "Feature2^2 Feature4                       0.000000\n",
       "Feature2^2 Feature5                       0.000000\n",
       "Feature2 Feature3^2                      -0.000000\n",
       "Feature2 Feature3 Feature4                0.000000\n",
       "Feature2 Feature3 Feature5               -0.000000\n",
       "Feature2 Feature4^2                       0.000000\n",
       "Feature2 Feature4 Feature5                0.000000\n",
       "Feature2 Feature5^2                       0.000000\n",
       "Feature3^3                               -0.000000\n",
       "Feature3^2 Feature4                       0.000310\n",
       "Feature3^2 Feature5                       0.000000\n",
       "Feature3 Feature4^2                       0.000000\n",
       "Feature3 Feature4 Feature5                0.000000\n",
       "Feature3 Feature5^2                      -0.000000\n",
       "Feature4^3                                0.000000\n",
       "Feature4^2 Feature5                       0.000000\n",
       "Feature4 Feature5^2                       0.000000\n",
       "Feature5^3                                0.099251"
      ]
     },
     "execution_count": 34,
     "metadata": {},
     "output_type": "execute_result"
    }
   ],
   "source": [
    "coeff1 = pd.DataFrame(model1.coef_,index=df_poly.drop('y',axis=1).columns, columns=['Coefficients Metamodel'])\n",
    "coeff1"
   ]
  },
  {
   "cell_type": "code",
   "execution_count": 35,
   "metadata": {},
   "outputs": [
    {
     "data": {
      "text/plain": [
       "0.9999951469815446"
      ]
     },
     "execution_count": 35,
     "metadata": {},
     "output_type": "execute_result"
    }
   ],
   "source": [
    "model1.score(X_train,y_train)"
   ]
  },
  {
   "cell_type": "code",
   "execution_count": 36,
   "metadata": {},
   "outputs": [
    {
     "data": {
      "text/plain": [
       "0.1682402228779332"
      ]
     },
     "execution_count": 36,
     "metadata": {},
     "output_type": "execute_result"
    }
   ],
   "source": [
    "model1.alpha_"
   ]
  },
  {
   "cell_type": "markdown",
   "metadata": {},
   "source": [
    "#### Recall that the ground  truth  or  originating  function  is  as  follows: \n",
    " \n",
    "$$ y=f(x_1,x_2,x_3,x_4,x_5)= 5x_1^2+13x_2+0.1x_1x_3^2+2x_4x_5+0.1x_5^3+0.8x_1x_4x_5+\\psi(x) $$"
   ]
  },
  {
   "cell_type": "markdown",
   "metadata": {},
   "source": [
    "### Printing only the non-zero coefficients of the *metamodel*"
   ]
  },
  {
   "cell_type": "code",
   "execution_count": 37,
   "metadata": {},
   "outputs": [
    {
     "data": {
      "text/html": [
       "<div>\n",
       "<style scoped>\n",
       "    .dataframe tbody tr th:only-of-type {\n",
       "        vertical-align: middle;\n",
       "    }\n",
       "\n",
       "    .dataframe tbody tr th {\n",
       "        vertical-align: top;\n",
       "    }\n",
       "\n",
       "    .dataframe thead th {\n",
       "        text-align: right;\n",
       "    }\n",
       "</style>\n",
       "<table border=\"1\" class=\"dataframe\">\n",
       "  <thead>\n",
       "    <tr style=\"text-align: right;\">\n",
       "      <th></th>\n",
       "      <th>Coefficients Metamodel</th>\n",
       "    </tr>\n",
       "  </thead>\n",
       "  <tbody>\n",
       "    <tr>\n",
       "      <th>Feature1</th>\n",
       "      <td>0.012030</td>\n",
       "    </tr>\n",
       "    <tr>\n",
       "      <th>Feature2</th>\n",
       "      <td>12.774227</td>\n",
       "    </tr>\n",
       "    <tr>\n",
       "      <th>Feature5</th>\n",
       "      <td>0.047323</td>\n",
       "    </tr>\n",
       "    <tr>\n",
       "      <th>Feature1^2</th>\n",
       "      <td>4.992291</td>\n",
       "    </tr>\n",
       "    <tr>\n",
       "      <th>Feature4 Feature5</th>\n",
       "      <td>1.984165</td>\n",
       "    </tr>\n",
       "    <tr>\n",
       "      <th>Feature1^3</th>\n",
       "      <td>0.000065</td>\n",
       "    </tr>\n",
       "    <tr>\n",
       "      <th>Feature1^2 Feature4</th>\n",
       "      <td>0.000111</td>\n",
       "    </tr>\n",
       "    <tr>\n",
       "      <th>Feature1 Feature3^2</th>\n",
       "      <td>0.098697</td>\n",
       "    </tr>\n",
       "    <tr>\n",
       "      <th>Feature1 Feature4 Feature5</th>\n",
       "      <td>0.799753</td>\n",
       "    </tr>\n",
       "    <tr>\n",
       "      <th>Feature2^3</th>\n",
       "      <td>0.000197</td>\n",
       "    </tr>\n",
       "    <tr>\n",
       "      <th>Feature3^2 Feature4</th>\n",
       "      <td>0.000310</td>\n",
       "    </tr>\n",
       "    <tr>\n",
       "      <th>Feature5^3</th>\n",
       "      <td>0.099251</td>\n",
       "    </tr>\n",
       "  </tbody>\n",
       "</table>\n",
       "</div>"
      ],
      "text/plain": [
       "                            Coefficients Metamodel\n",
       "Feature1                                  0.012030\n",
       "Feature2                                 12.774227\n",
       "Feature5                                  0.047323\n",
       "Feature1^2                                4.992291\n",
       "Feature4 Feature5                         1.984165\n",
       "Feature1^3                                0.000065\n",
       "Feature1^2 Feature4                       0.000111\n",
       "Feature1 Feature3^2                       0.098697\n",
       "Feature1 Feature4 Feature5                0.799753\n",
       "Feature2^3                                0.000197\n",
       "Feature3^2 Feature4                       0.000310\n",
       "Feature5^3                                0.099251"
      ]
     },
     "execution_count": 37,
     "metadata": {},
     "output_type": "execute_result"
    }
   ],
   "source": [
    "coeff1[coeff1['Coefficients Metamodel']!=0]"
   ]
  },
  {
   "cell_type": "code",
   "execution_count": 38,
   "metadata": {
    "scrolled": false
   },
   "outputs": [
    {
     "data": {
      "text/plain": [
       "[<matplotlib.lines.Line2D at 0x262c800a2b0>]"
      ]
     },
     "execution_count": 38,
     "metadata": {},
     "output_type": "execute_result"
    },
    {
     "data": {
      "image/png": "[encoded data removed]",
      "text/plain": [
       "<Figure size 864x576 with 1 Axes>"
      ]
     },
     "metadata": {
      "needs_background": "light"
     },
     "output_type": "display_data"
    }
   ],
   "source": [
    "plt.figure(figsize=(12,8))\n",
    "plt.xlabel(\"Predicted value with Metamodel\",fontsize=20)\n",
    "plt.ylabel(\"Actual y-values\",fontsize=20)\n",
    "plt.grid(1)\n",
    "plt.scatter(y_pred1,y_train,edgecolors=(0,0,0),lw=2,s=80)\n",
    "plt.plot(y_pred1,y_pred1, 'k--', lw=2)"
   ]
  },
  {
   "cell_type": "code",
   "execution_count": 39,
   "metadata": {},
   "outputs": [
    {
     "data": {
      "text/plain": [
       "(-2.3759298350146434,\n",
       " 0.9240701649853563,\n",
       " -491753.76234681066,\n",
       " 10326860.672854776)"
      ]
     },
     "execution_count": 39,
     "metadata": {},
     "output_type": "execute_result"
    },
    {
     "data": {
      "image/png": "[encoded data removed]",
      "text/plain": [
       "<Figure size 432x288 with 1 Axes>"
      ]
     },
     "metadata": {
      "needs_background": "light"
     },
     "output_type": "display_data"
    }
   ],
   "source": [
    "# Display results\n",
    "m_log_alphas = -np.log10(model1.alphas_)\n",
    "\n",
    "plt.figure()\n",
    "ymin, ymax = 2300, 3800\n",
    "plt.plot(m_log_alphas, model1.mse_path_, ':')\n",
    "plt.plot(m_log_alphas, model1.mse_path_.mean(axis=-1), 'k',\n",
    "         label='Average across the folds', linewidth=2)\n",
    "plt.axvline(-np.log10(model1.alpha_), linestyle='--', color='k',\n",
    "            label='alpha: CV estimate')\n",
    "plt.legend()\n",
    "\n",
    "plt.xlabel('-log(alpha)')\n",
    "plt.ylabel('Mean square error')\n",
    "plt.axis('tight')"
   ]
  }
 ],
 "metadata": {
  "kernelspec": {
   "display_name": "Python 3",
   "language": "python",
   "name": "python3"
  },
  "language_info": {
   "codemirror_mode": {
    "name": "ipython",
    "version": 3
   },
   "file_extension": ".py",
   "mimetype": "text/x-python",
   "name": "python",
   "nbconvert_exporter": "python",
   "pygments_lexer": "ipython3",
   "version": "3.6.8"
  }
 },
 "nbformat": 4,
 "nbformat_minor": 2
}
