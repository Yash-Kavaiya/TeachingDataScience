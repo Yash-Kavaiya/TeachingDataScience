{
 "cells": [
  {
   "cell_type": "markdown",
   "metadata": {},
   "source": [
    "# Linear regression with various methods\n",
    "This is a very simple example of using two scipy tools for linear regression.\n",
    "* Scipy.Polyfit\n",
    "* Stats.linregress\n",
    "* Optimize.curve_fit\n",
    "* numpy.linalg.lstsq\n",
    "* statsmodels.OLS\n",
    "* Analytic solution using Moore-Penrose generalized inverse or simple multiplicative matrix inverse\n",
    "* sklearn.linear_model.LinearRegression"
   ]
  },
  {
   "cell_type": "markdown",
   "metadata": {},
   "source": [
    "## Import libraries"
   ]
  },
  {
   "cell_type": "code",
   "execution_count": 1,
   "metadata": {},
   "outputs": [],
   "source": [
    "from scipy import linspace, polyval, polyfit, sqrt, stats, randn, optimize\n",
    "import statsmodels.api as sm\n",
    "import matplotlib.pyplot as plt\n",
    "import time\n",
    "import numpy as np\n",
    "from sklearn.linear_model import LinearRegression\n",
    "import pandas as pd\n",
    "%matplotlib inline"
   ]
  },
  {
   "cell_type": "markdown",
   "metadata": {},
   "source": [
    "## Generate random data of a sufficiently large size"
   ]
  },
  {
   "cell_type": "code",
   "execution_count": 2,
   "metadata": {},
   "outputs": [],
   "source": [
    "#Sample data creation\n",
    "#number of points \n",
    "n=int(5e6)\n",
    "t=np.linspace(-10,10,n)\n",
    "#parameters\n",
    "a=3.25; b=-6.5\n",
    "x=polyval([a,b],t)\n",
    "#add some noise\n",
    "xn=x+3*randn(n)"
   ]
  },
  {
   "cell_type": "markdown",
   "metadata": {},
   "source": [
    "### Draw few random sample points and plot"
   ]
  },
  {
   "cell_type": "code",
   "execution_count": 3,
   "metadata": {},
   "outputs": [
    {
     "data": {
      "image/png": "[encoded data removed]",
      "text/plain": [
       "<Figure size 432x288 with 1 Axes>"
      ]
     },
     "metadata": {
      "needs_background": "light"
     },
     "output_type": "display_data"
    }
   ],
   "source": [
    "xvar=np.random.choice(t,size=20)\n",
    "yvar=polyval([a,b],xvar)+3*randn(20)\n",
    "plt.scatter(xvar,yvar,c='green',edgecolors='k')\n",
    "plt.grid(True)\n",
    "plt.show()"
   ]
  },
  {
   "cell_type": "markdown",
   "metadata": {},
   "source": [
    "## Method: Scipy.Polyfit"
   ]
  },
  {
   "cell_type": "code",
   "execution_count": 4,
   "metadata": {},
   "outputs": [
    {
     "name": "stdout",
     "output_type": "stream",
     "text": [
      "Linear regression using polyfit\n",
      "parameters: a=3.25 b=-6.50, ms error= 3.000\n",
      "Time taken: 1.3216381072998047 seconds\n"
     ]
    }
   ],
   "source": [
    "#Linear regressison -polyfit - polyfit can be used other orders polynomials\n",
    "t1=time.time()\n",
    "(ar,br)=polyfit(t,xn,1)\n",
    "xr=polyval([ar,br],t)\n",
    "#compute the mean square error\n",
    "err=sqrt(sum((xr-xn)**2)/n)\n",
    "t2=time.time()\n",
    "t_polyfit = float(t2-t1)\n",
    "\n",
    "print('Linear regression using polyfit')\n",
    "print('parameters: a=%.2f b=%.2f, ms error= %.3f' % (ar,br,err))\n",
    "print(\"Time taken: {} seconds\".format(t_polyfit))"
   ]
  },
  {
   "cell_type": "markdown",
   "metadata": {},
   "source": [
    "## Method: Stats.linregress"
   ]
  },
  {
   "cell_type": "code",
   "execution_count": 5,
   "metadata": {},
   "outputs": [
    {
     "name": "stdout",
     "output_type": "stream",
     "text": [
      "Linear regression using stats.linregress\n",
      "a=3.25 b=-6.50, std error= 0.000, r^2 coefficient= 0.987\n",
      "Time taken: 0.13631892204284668 seconds\n"
     ]
    }
   ],
   "source": [
    "#Linear regression using stats.linregress\n",
    "t1=time.time()\n",
    "(a_s,b_s,r,tt,stderr)=stats.linregress(t,xn)\n",
    "t2=time.time()\n",
    "t_linregress = float(t2-t1)\n",
    "\n",
    "print('Linear regression using stats.linregress')\n",
    "print('a=%.2f b=%.2f, std error= %.3f, r^2 coefficient= %.3f' % (a_s,b_s,stderr,r))\n",
    "print(\"Time taken: {} seconds\".format(t_linregress))"
   ]
  },
  {
   "cell_type": "markdown",
   "metadata": {},
   "source": [
    "## Method: Optimize.curve_fit"
   ]
  },
  {
   "cell_type": "code",
   "execution_count": 6,
   "metadata": {},
   "outputs": [],
   "source": [
    "def flin(t,a,b):\n",
    "    result = a*t+b\n",
    "    return(result)"
   ]
  },
  {
   "cell_type": "code",
   "execution_count": 7,
   "metadata": {},
   "outputs": [
    {
     "name": "stdout",
     "output_type": "stream",
     "text": [
      "Linear regression using optimize.curve_fit\n",
      "parameters: a=3.25 b=-6.50\n",
      "Time taken: 1.4017224311828613 seconds\n"
     ]
    }
   ],
   "source": [
    "t1=time.time()\n",
    "p1,_=optimize.curve_fit(flin,xdata=t,ydata=xn,method='lm')\n",
    "t2=time.time()\n",
    "t_optimize_curve_fit = float(t2-t1)\n",
    "\n",
    "print('Linear regression using optimize.curve_fit')\n",
    "print('parameters: a=%.2f b=%.2f' % (p1[0],p1[1]))\n",
    "print(\"Time taken: {} seconds\".format(t_optimize_curve_fit))"
   ]
  },
  {
   "cell_type": "markdown",
   "metadata": {},
   "source": [
    "## Method: numpy.linalg.lstsq"
   ]
  },
  {
   "cell_type": "code",
   "execution_count": 8,
   "metadata": {},
   "outputs": [
    {
     "name": "stderr",
     "output_type": "stream",
     "text": [
      "C:\\Users\\Yogesh Kulkarni\\Anaconda3\\lib\\site-packages\\ipykernel_launcher.py:3: FutureWarning: `rcond` parameter will change to the default of machine precision times ``max(M, N)`` where M and N are the input matrix dimensions.\n",
      "To use the future default and silence this warning we advise to pass `rcond=None`, to keep using the old, explicitly pass `rcond=-1`.\n",
      "  This is separate from the ipykernel package so we can avoid doing imports until\n"
     ]
    },
    {
     "name": "stdout",
     "output_type": "stream",
     "text": [
      "Linear regression using numpy.linalg.lstsq\n",
      "parameters: a=3.25 b=-6.50, ms error= 3.000\n",
      "Time taken: 0.2764465808868408 seconds\n"
     ]
    }
   ],
   "source": [
    "t1=time.time()\n",
    "A = np.vstack([t, np.ones(len(t))]).T\n",
    "result = np.linalg.lstsq(A, xn)\n",
    "ar,br = result[0]\n",
    "err = np.sqrt(result[1]/len(xn))\n",
    "t2=time.time()\n",
    "t_linalg_lstsq = float(t2-t1)\n",
    "\n",
    "print('Linear regression using numpy.linalg.lstsq')\n",
    "print('parameters: a=%.2f b=%.2f, ms error= %.3f' % (ar,br,err))\n",
    "print(\"Time taken: {} seconds\".format(t_linalg_lstsq))"
   ]
  },
  {
   "cell_type": "markdown",
   "metadata": {},
   "source": [
    "## Method: Statsmodels.OLS"
   ]
  },
  {
   "cell_type": "code",
   "execution_count": 9,
   "metadata": {},
   "outputs": [
    {
     "name": "stdout",
     "output_type": "stream",
     "text": [
      "Linear regression using statsmodels.OLS\n",
      "parameters: a=3.25 b=-6.50\n",
      "Time taken: 0.8780372142791748 seconds\n"
     ]
    }
   ],
   "source": [
    "t1=time.time()\n",
    "t=sm.add_constant(t)\n",
    "model = sm.OLS(x, t)\n",
    "results = model.fit()\n",
    "ar=results.params[1]\n",
    "br=results.params[0]\n",
    "t2=time.time()\n",
    "t_OLS = float(t2-t1)\n",
    "\n",
    "print('Linear regression using statsmodels.OLS')\n",
    "print('parameters: a=%.2f b=%.2f'% (ar,br))\n",
    "print(\"Time taken: {} seconds\".format(t_OLS))      "
   ]
  },
  {
   "cell_type": "code",
   "execution_count": 10,
   "metadata": {},
   "outputs": [
    {
     "name": "stdout",
     "output_type": "stream",
     "text": [
      "                            OLS Regression Results                            \n",
      "==============================================================================\n",
      "Dep. Variable:                      y   R-squared:                       1.000\n",
      "Model:                            OLS   Adj. R-squared:                  1.000\n",
      "Method:                 Least Squares   F-statistic:                 4.287e+34\n",
      "Date:                Fri, 15 Feb 2019   Prob (F-statistic):               0.00\n",
      "Time:                        16:25:27   Log-Likelihood:             1.3904e+08\n",
      "No. Observations:             5000000   AIC:                        -2.781e+08\n",
      "Df Residuals:                 4999998   BIC:                        -2.781e+08\n",
      "Df Model:                           1                                         \n",
      "Covariance Type:            nonrobust                                         \n",
      "==============================================================================\n",
      "                 coef    std err          t      P>|t|      [0.025      0.975]\n",
      "------------------------------------------------------------------------------\n",
      "const         -6.5000   9.06e-17  -7.17e+16      0.000      -6.500      -6.500\n",
      "x1             3.2500   1.57e-17   2.07e+17      0.000       3.250       3.250\n",
      "==============================================================================\n",
      "Omnibus:                  4418788.703   Durbin-Watson:                   0.000\n",
      "Prob(Omnibus):                  0.000   Jarque-Bera (JB):           299716.811\n",
      "Skew:                          -0.001   Prob(JB):                         0.00\n",
      "Kurtosis:                       1.801   Cond. No.                         5.77\n",
      "==============================================================================\n",
      "\n",
      "Warnings:\n",
      "[1] Standard Errors assume that the covariance matrix of the errors is correctly specified.\n"
     ]
    }
   ],
   "source": [
    "print(results.summary())"
   ]
  },
  {
   "cell_type": "markdown",
   "metadata": {},
   "source": [
    "## Analytic solution using Moore-Penrose pseudoinverse"
   ]
  },
  {
   "cell_type": "code",
   "execution_count": 11,
   "metadata": {},
   "outputs": [
    {
     "name": "stdout",
     "output_type": "stream",
     "text": [
      "Linear regression using Moore-Penrose inverse\n",
      "parameters: a=3.25 b=-6.50\n",
      "Time taken: 0.4147646427154541 seconds\n"
     ]
    }
   ],
   "source": [
    "t1=time.time()\n",
    "mpinv = np.linalg.pinv(t)\n",
    "result = mpinv.dot(x)\n",
    "ar = result[1]\n",
    "br = result[0]\n",
    "t2=time.time()\n",
    "t_inv_matrix = float(t2-t1)\n",
    "\n",
    "print('Linear regression using Moore-Penrose inverse')\n",
    "print('parameters: a=%.2f b=%.2f'% (ar,br))\n",
    "print(\"Time taken: {} seconds\".format(t_inv_matrix)) "
   ]
  },
  {
   "cell_type": "markdown",
   "metadata": {},
   "source": [
    "## Analytic solution using simple multiplicative matrix inverse"
   ]
  },
  {
   "cell_type": "code",
   "execution_count": 12,
   "metadata": {},
   "outputs": [
    {
     "name": "stdout",
     "output_type": "stream",
     "text": [
      "Linear regression using simple inverse\n",
      "parameters: a=3.25 b=-6.50\n",
      "Time taken: 0.10106849670410156 seconds\n"
     ]
    }
   ],
   "source": [
    "t1=time.time()\n",
    "m = np.dot((np.dot(np.linalg.inv(np.dot(t.T,t)),t.T)),x)\n",
    "ar = m[1]\n",
    "br = m[0]\n",
    "t2=time.time()\n",
    "t_simple_inv = float(t2-t1)\n",
    "\n",
    "print('Linear regression using simple inverse')\n",
    "print('parameters: a=%.2f b=%.2f'% (ar,br))\n",
    "print(\"Time taken: {} seconds\".format(t_simple_inv)) "
   ]
  },
  {
   "cell_type": "markdown",
   "metadata": {},
   "source": [
    "## Method: sklearn.linear_model.LinearRegression"
   ]
  },
  {
   "cell_type": "code",
   "execution_count": 13,
   "metadata": {},
   "outputs": [
    {
     "name": "stdout",
     "output_type": "stream",
     "text": [
      "Linear regression using sklearn.linear_model.LinearRegression\n",
      "parameters: a=3.25 b=-6.50\n",
      "Time taken: 0.5302250385284424 seconds\n"
     ]
    }
   ],
   "source": [
    "t1=time.time()\n",
    "lm = LinearRegression()\n",
    "lm.fit(t,x)\n",
    "ar=lm.coef_[1]\n",
    "br=lm.intercept_\n",
    "t2=time.time()\n",
    "t_sklearn_linear = float(t2-t1)\n",
    "\n",
    "print('Linear regression using sklearn.linear_model.LinearRegression')\n",
    "print('parameters: a=%.2f b=%.2f'% (ar,br))\n",
    "print(\"Time taken: {} seconds\".format(t_sklearn_linear)) "
   ]
  },
  {
   "cell_type": "markdown",
   "metadata": {},
   "source": [
    "## Bucket all the execution times in a list and plot"
   ]
  },
  {
   "cell_type": "code",
   "execution_count": 14,
   "metadata": {},
   "outputs": [],
   "source": [
    "times = [t_polyfit,t_linregress,t_optimize_curve_fit,t_linalg_lstsq,t_OLS,t_inv_matrix,t_simple_inv,t_sklearn_linear]"
   ]
  },
  {
   "cell_type": "code",
   "execution_count": 16,
   "metadata": {},
   "outputs": [
    {
     "data": {
      "image/png": "[encoded data removed]",
      "text/plain": [
       "<Figure size 1440x360 with 1 Axes>"
      ]
     },
     "metadata": {
      "needs_background": "light"
     },
     "output_type": "display_data"
    }
   ],
   "source": [
    "plt.figure(figsize=(20,5))\n",
    "plt.grid(True)\n",
    "plt.bar([l*0.8 for l in range(8)],height=times, width=0.4,\n",
    "        tick_label=['Polyfit','Stats.linregress','Optimize.curve_fit',\n",
    "                    'numpy.linalg.lstsq','statsmodels.OLS','Moore-Penrose matrix inverse',\n",
    "                    'Simple matrix inverse','sklearn.linear_model'])\n",
    "plt.show()"
   ]
  },
  {
   "cell_type": "code",
   "execution_count": 17,
   "metadata": {},
   "outputs": [],
   "source": [
    "n_min = 50000\n",
    "n_max = int(1e7)\n",
    "n_levels = 25\n",
    "r = np.log10(n_max/n_min)\n",
    "l = np.linspace(0,r,n_levels)\n",
    "n_data = list((n_min*np.power(10,l)))\n",
    "n_data = [int(n) for n in n_data]"
   ]
  },
  {
   "cell_type": "code",
   "execution_count": 18,
   "metadata": {},
   "outputs": [
    {
     "name": "stderr",
     "output_type": "stream",
     "text": [
      "  0%|                                                                                           | 0/25 [00:00<?, ?it/s]C:\\Users\\Yogesh Kulkarni\\Anaconda3\\lib\\site-packages\\ipykernel_launcher.py:42: FutureWarning: `rcond` parameter will change to the default of machine precision times ``max(M, N)`` where M and N are the input matrix dimensions.\n",
      "To use the future default and silence this warning we advise to pass `rcond=None`, to keep using the old, explicitly pass `rcond=-1`.\n",
      "  4%|███▎                                                                               | 1/25 [00:00<00:02,  8.55it/s]C:\\Users\\Yogesh Kulkarni\\Anaconda3\\lib\\site-packages\\ipykernel_launcher.py:42: FutureWarning: `rcond` parameter will change to the default of machine precision times ``max(M, N)`` where M and N are the input matrix dimensions.\n",
      "To use the future default and silence this warning we advise to pass `rcond=None`, to keep using the old, explicitly pass `rcond=-1`.\n",
      "C:\\Users\\Yogesh Kulkarni\\Anaconda3\\lib\\site-packages\\ipykernel_launcher.py:42: FutureWarning: `rcond` parameter will change to the default of machine precision times ``max(M, N)`` where M and N are the input matrix dimensions.\n",
      "To use the future default and silence this warning we advise to pass `rcond=None`, to keep using the old, explicitly pass `rcond=-1`.\n",
      " 12%|█████████▉                                                                         | 3/25 [00:00<00:02,  9.71it/s]C:\\Users\\Yogesh Kulkarni\\Anaconda3\\lib\\site-packages\\ipykernel_launcher.py:42: FutureWarning: `rcond` parameter will change to the default of machine precision times ``max(M, N)`` where M and N are the input matrix dimensions.\n",
      "To use the future default and silence this warning we advise to pass `rcond=None`, to keep using the old, explicitly pass `rcond=-1`.\n",
      "C:\\Users\\Yogesh Kulkarni\\Anaconda3\\lib\\site-packages\\ipykernel_launcher.py:42: FutureWarning: `rcond` parameter will change to the default of machine precision times ``max(M, N)`` where M and N are the input matrix dimensions.\n",
      "To use the future default and silence this warning we advise to pass `rcond=None`, to keep using the old, explicitly pass `rcond=-1`.\n",
      " 20%|████████████████▌                                                                  | 5/25 [00:00<00:02,  9.84it/s]C:\\Users\\Yogesh Kulkarni\\Anaconda3\\lib\\site-packages\\ipykernel_launcher.py:42: FutureWarning: `rcond` parameter will change to the default of machine precision times ``max(M, N)`` where M and N are the input matrix dimensions.\n",
      "To use the future default and silence this warning we advise to pass `rcond=None`, to keep using the old, explicitly pass `rcond=-1`.\n",
      " 24%|███████████████████▉                                                               | 6/25 [00:00<00:02,  8.54it/s]C:\\Users\\Yogesh Kulkarni\\Anaconda3\\lib\\site-packages\\ipykernel_launcher.py:42: FutureWarning: `rcond` parameter will change to the default of machine precision times ``max(M, N)`` where M and N are the input matrix dimensions.\n",
      "To use the future default and silence this warning we advise to pass `rcond=None`, to keep using the old, explicitly pass `rcond=-1`.\n",
      " 28%|███████████████████████▏                                                           | 7/25 [00:00<00:02,  7.27it/s]C:\\Users\\Yogesh Kulkarni\\Anaconda3\\lib\\site-packages\\ipykernel_launcher.py:42: FutureWarning: `rcond` parameter will change to the default of machine precision times ``max(M, N)`` where M and N are the input matrix dimensions.\n",
      "To use the future default and silence this warning we advise to pass `rcond=None`, to keep using the old, explicitly pass `rcond=-1`.\n",
      " 32%|██████████████████████████▌                                                        | 8/25 [00:01<00:02,  5.96it/s]C:\\Users\\Yogesh Kulkarni\\Anaconda3\\lib\\site-packages\\ipykernel_launcher.py:42: FutureWarning: `rcond` parameter will change to the default of machine precision times ``max(M, N)`` where M and N are the input matrix dimensions.\n",
      "To use the future default and silence this warning we advise to pass `rcond=None`, to keep using the old, explicitly pass `rcond=-1`.\n",
      " 36%|█████████████████████████████▉                                                     | 9/25 [00:01<00:03,  4.99it/s]C:\\Users\\Yogesh Kulkarni\\Anaconda3\\lib\\site-packages\\ipykernel_launcher.py:42: FutureWarning: `rcond` parameter will change to the default of machine precision times ``max(M, N)`` where M and N are the input matrix dimensions.\n",
      "To use the future default and silence this warning we advise to pass `rcond=None`, to keep using the old, explicitly pass `rcond=-1`.\n",
      " 40%|████████████████████████████████▊                                                 | 10/25 [00:01<00:03,  4.08it/s]C:\\Users\\Yogesh Kulkarni\\Anaconda3\\lib\\site-packages\\ipykernel_launcher.py:42: FutureWarning: `rcond` parameter will change to the default of machine precision times ``max(M, N)`` where M and N are the input matrix dimensions.\n",
      "To use the future default and silence this warning we advise to pass `rcond=None`, to keep using the old, explicitly pass `rcond=-1`.\n",
      " 44%|████████████████████████████████████                                              | 11/25 [00:02<00:04,  3.32it/s]C:\\Users\\Yogesh Kulkarni\\Anaconda3\\lib\\site-packages\\ipykernel_launcher.py:42: FutureWarning: `rcond` parameter will change to the default of machine precision times ``max(M, N)`` where M and N are the input matrix dimensions.\n",
      "To use the future default and silence this warning we advise to pass `rcond=None`, to keep using the old, explicitly pass `rcond=-1`.\n",
      " 48%|███████████████████████████████████████▎                                          | 12/25 [00:02<00:05,  2.43it/s]C:\\Users\\Yogesh Kulkarni\\Anaconda3\\lib\\site-packages\\ipykernel_launcher.py:42: FutureWarning: `rcond` parameter will change to the default of machine precision times ``max(M, N)`` where M and N are the input matrix dimensions.\n",
      "To use the future default and silence this warning we advise to pass `rcond=None`, to keep using the old, explicitly pass `rcond=-1`.\n",
      " 52%|██████████████████████████████████████████▋                                       | 13/25 [00:03<00:06,  1.99it/s]C:\\Users\\Yogesh Kulkarni\\Anaconda3\\lib\\site-packages\\ipykernel_launcher.py:42: FutureWarning: `rcond` parameter will change to the default of machine precision times ``max(M, N)`` where M and N are the input matrix dimensions.\n",
      "To use the future default and silence this warning we advise to pass `rcond=None`, to keep using the old, explicitly pass `rcond=-1`.\n",
      " 56%|█████████████████████████████████████████████▉                                    | 14/25 [00:04<00:06,  1.69it/s]C:\\Users\\Yogesh Kulkarni\\Anaconda3\\lib\\site-packages\\ipykernel_launcher.py:42: FutureWarning: `rcond` parameter will change to the default of machine precision times ``max(M, N)`` where M and N are the input matrix dimensions.\n",
      "To use the future default and silence this warning we advise to pass `rcond=None`, to keep using the old, explicitly pass `rcond=-1`.\n",
      " 60%|█████████████████████████████████████████████████▏                                | 15/25 [00:05<00:07,  1.40it/s]C:\\Users\\Yogesh Kulkarni\\Anaconda3\\lib\\site-packages\\ipykernel_launcher.py:42: FutureWarning: `rcond` parameter will change to the default of machine precision times ``max(M, N)`` where M and N are the input matrix dimensions.\n",
      "To use the future default and silence this warning we advise to pass `rcond=None`, to keep using the old, explicitly pass `rcond=-1`.\n",
      " 64%|████████████████████████████████████████████████████▍                             | 16/25 [00:06<00:08,  1.10it/s]C:\\Users\\Yogesh Kulkarni\\Anaconda3\\lib\\site-packages\\ipykernel_launcher.py:42: FutureWarning: `rcond` parameter will change to the default of machine precision times ``max(M, N)`` where M and N are the input matrix dimensions.\n",
      "To use the future default and silence this warning we advise to pass `rcond=None`, to keep using the old, explicitly pass `rcond=-1`.\n",
      " 68%|███████████████████████████████████████████████████████▊                          | 17/25 [00:08<00:08,  1.11s/it]C:\\Users\\Yogesh Kulkarni\\Anaconda3\\lib\\site-packages\\ipykernel_launcher.py:42: FutureWarning: `rcond` parameter will change to the default of machine precision times ``max(M, N)`` where M and N are the input matrix dimensions.\n",
      "To use the future default and silence this warning we advise to pass `rcond=None`, to keep using the old, explicitly pass `rcond=-1`.\n"
     ]
    },
    {
     "name": "stderr",
     "output_type": "stream",
     "text": [
      " 72%|███████████████████████████████████████████████████████████                       | 18/25 [00:10<00:09,  1.37s/it]C:\\Users\\Yogesh Kulkarni\\Anaconda3\\lib\\site-packages\\ipykernel_launcher.py:42: FutureWarning: `rcond` parameter will change to the default of machine precision times ``max(M, N)`` where M and N are the input matrix dimensions.\n",
      "To use the future default and silence this warning we advise to pass `rcond=None`, to keep using the old, explicitly pass `rcond=-1`.\n",
      " 76%|██████████████████████████████████████████████████████████████▎                   | 19/25 [00:12<00:10,  1.69s/it]C:\\Users\\Yogesh Kulkarni\\Anaconda3\\lib\\site-packages\\ipykernel_launcher.py:42: FutureWarning: `rcond` parameter will change to the default of machine precision times ``max(M, N)`` where M and N are the input matrix dimensions.\n",
      "To use the future default and silence this warning we advise to pass `rcond=None`, to keep using the old, explicitly pass `rcond=-1`.\n",
      " 80%|█████████████████████████████████████████████████████████████████▌                | 20/25 [00:15<00:10,  2.09s/it]C:\\Users\\Yogesh Kulkarni\\Anaconda3\\lib\\site-packages\\ipykernel_launcher.py:42: FutureWarning: `rcond` parameter will change to the default of machine precision times ``max(M, N)`` where M and N are the input matrix dimensions.\n",
      "To use the future default and silence this warning we advise to pass `rcond=None`, to keep using the old, explicitly pass `rcond=-1`.\n",
      " 84%|████████████████████████████████████████████████████████████████████▉             | 21/25 [00:19<00:10,  2.59s/it]C:\\Users\\Yogesh Kulkarni\\Anaconda3\\lib\\site-packages\\ipykernel_launcher.py:42: FutureWarning: `rcond` parameter will change to the default of machine precision times ``max(M, N)`` where M and N are the input matrix dimensions.\n",
      "To use the future default and silence this warning we advise to pass `rcond=None`, to keep using the old, explicitly pass `rcond=-1`.\n",
      " 88%|████████████████████████████████████████████████████████████████████████▏         | 22/25 [00:24<00:09,  3.24s/it]C:\\Users\\Yogesh Kulkarni\\Anaconda3\\lib\\site-packages\\ipykernel_launcher.py:42: FutureWarning: `rcond` parameter will change to the default of machine precision times ``max(M, N)`` where M and N are the input matrix dimensions.\n",
      "To use the future default and silence this warning we advise to pass `rcond=None`, to keep using the old, explicitly pass `rcond=-1`.\n",
      " 92%|███████████████████████████████████████████████████████████████████████████▍      | 23/25 [00:30<00:08,  4.08s/it]C:\\Users\\Yogesh Kulkarni\\Anaconda3\\lib\\site-packages\\ipykernel_launcher.py:42: FutureWarning: `rcond` parameter will change to the default of machine precision times ``max(M, N)`` where M and N are the input matrix dimensions.\n",
      "To use the future default and silence this warning we advise to pass `rcond=None`, to keep using the old, explicitly pass `rcond=-1`.\n",
      " 96%|██████████████████████████████████████████████████████████████████████████████▋   | 24/25 [00:37<00:05,  5.07s/it]C:\\Users\\Yogesh Kulkarni\\Anaconda3\\lib\\site-packages\\ipykernel_launcher.py:42: FutureWarning: `rcond` parameter will change to the default of machine precision times ``max(M, N)`` where M and N are the input matrix dimensions.\n",
      "To use the future default and silence this warning we advise to pass `rcond=None`, to keep using the old, explicitly pass `rcond=-1`.\n",
      "100%|██████████████████████████████████████████████████████████████████████████████████| 25/25 [00:46<00:00,  6.36s/it]\n"
     ]
    }
   ],
   "source": [
    "#time_dict={'Polyfit':[],'Stats.lingress':[],'Optimize.curve_fit':[],'linalg.lstsq':[],'statsmodels.OLS':[],\n",
    "          #'Moore-Penrose matrix inverse':[],'Simple matrix inverse':[], 'sklearn.linear_model':[]}\n",
    "\n",
    "l1=['Polyfit', 'Stats.lingress','Optimize.curve_fit', 'linalg.lstsq', \n",
    " 'statsmodels.OLS', 'Moore-Penrose matrix inverse', 'Simple matrix inverse', 'sklearn.linear_model']\n",
    "time_dict = {key:[] for key in l1}\n",
    "\n",
    "from tqdm import tqdm\n",
    "\n",
    "for i in tqdm(range(len(n_data))):\n",
    "    t=np.linspace(-10,10,n_data[i])\n",
    "    #parameters\n",
    "    a=3.25; b=-6.5\n",
    "    x=polyval([a,b],t)\n",
    "    #add some noise\n",
    "    xn=x+3*randn(n_data[i])\n",
    "    \n",
    "    #Linear regressison -polyfit - polyfit can be used other orders polynomials\n",
    "    t1=time.time()\n",
    "    (ar,br)=polyfit(t,xn,1)\n",
    "    t2=time.time()\n",
    "    t_polyfit = 1e3*float(t2-t1)\n",
    "    time_dict['Polyfit'].append(t_polyfit)\n",
    "    \n",
    "    #Linear regression using stats.linregress\n",
    "    t1=time.time()\n",
    "    (a_s,b_s,r,tt,stderr)=stats.linregress(t,xn)\n",
    "    t2=time.time()\n",
    "    t_linregress = 1e3*float(t2-t1)\n",
    "    time_dict['Stats.lingress'].append(t_linregress)\n",
    "    \n",
    "    #Linear regression using optimize.curve_fit\n",
    "    t1=time.time()\n",
    "    p1,_=optimize.curve_fit(flin,xdata=t,ydata=xn,method='lm')\n",
    "    t2=time.time()\n",
    "    t_optimize_curve_fit = 1e3*float(t2-t1)\n",
    "    time_dict['Optimize.curve_fit'].append(t_optimize_curve_fit)\n",
    "    \n",
    "    # Linear regression using np.linalg.lstsq (solving Ax=B equation system)\n",
    "    t1=time.time()\n",
    "    A = np.vstack([t, np.ones(len(t))]).T\n",
    "    result = np.linalg.lstsq(A, xn)\n",
    "    ar,br = result[0]\n",
    "    t2=time.time()\n",
    "    t_linalg_lstsq = 1e3*float(t2-t1)\n",
    "    time_dict['linalg.lstsq'].append(t_linalg_lstsq)\n",
    "    \n",
    "    # Linear regression using statsmodels.OLS\n",
    "    t1=time.time()\n",
    "    t=sm.add_constant(t)\n",
    "    model = sm.OLS(x, t)\n",
    "    results = model.fit()\n",
    "    ar=results.params[1]\n",
    "    br=results.params[0]\n",
    "    t2=time.time()\n",
    "    t_OLS = 1e3*float(t2-t1)\n",
    "    time_dict['statsmodels.OLS'].append(t_OLS)\n",
    "    \n",
    "    # Linear regression using Moore-Penrose pseudoinverse matrix\n",
    "    t1=time.time()\n",
    "    mpinv = np.linalg.pinv(t)\n",
    "    result = mpinv.dot(x)\n",
    "    ar = result[1]\n",
    "    br = result[0]\n",
    "    t2=time.time()\n",
    "    t_mpinverse = 1e3*float(t2-t1)\n",
    "    time_dict['Moore-Penrose matrix inverse'].append(t_mpinverse)\n",
    "    \n",
    "    # Linear regression using simple multiplicative inverse matrix\n",
    "    t1=time.time()\n",
    "    m = np.dot((np.dot(np.linalg.inv(np.dot(t.T,t)),t.T)),x)\n",
    "    ar = m[1]\n",
    "    br = m[0]\n",
    "    t2=time.time()\n",
    "    t_simple_inv = 1e3*float(t2-t1)\n",
    "    time_dict['Simple matrix inverse'].append(t_simple_inv)\n",
    "    \n",
    "    # Linear regression using scikit-learn's linear_model\n",
    "    t1=time.time()\n",
    "    lm = LinearRegression()\n",
    "    lm.fit(t,x)\n",
    "    ar=lm.coef_[1]\n",
    "    br=lm.intercept_\n",
    "    t2=time.time()\n",
    "    t_sklearn_linear = 1e3*float(t2-t1)\n",
    "    time_dict['sklearn.linear_model'].append(t_sklearn_linear)"
   ]
  },
  {
   "cell_type": "code",
   "execution_count": 19,
   "metadata": {},
   "outputs": [
    {
     "data": {
      "text/html": [
       "<div>\n",
       "<style scoped>\n",
       "    .dataframe tbody tr th:only-of-type {\n",
       "        vertical-align: middle;\n",
       "    }\n",
       "\n",
       "    .dataframe tbody tr th {\n",
       "        vertical-align: top;\n",
       "    }\n",
       "\n",
       "    .dataframe thead th {\n",
       "        text-align: right;\n",
       "    }\n",
       "</style>\n",
       "<table border=\"1\" class=\"dataframe\">\n",
       "  <thead>\n",
       "    <tr style=\"text-align: right;\">\n",
       "      <th></th>\n",
       "      <th>Polyfit</th>\n",
       "      <th>Stats.lingress</th>\n",
       "      <th>Optimize.curve_fit</th>\n",
       "      <th>linalg.lstsq</th>\n",
       "      <th>statsmodels.OLS</th>\n",
       "      <th>Moore-Penrose matrix inverse</th>\n",
       "      <th>Simple matrix inverse</th>\n",
       "      <th>sklearn.linear_model</th>\n",
       "    </tr>\n",
       "  </thead>\n",
       "  <tbody>\n",
       "    <tr>\n",
       "      <th>0</th>\n",
       "      <td>6.994963</td>\n",
       "      <td>1.999617</td>\n",
       "      <td>10.008335</td>\n",
       "      <td>16.979218</td>\n",
       "      <td>47.968149</td>\n",
       "      <td>15.990973</td>\n",
       "      <td>1.001120</td>\n",
       "      <td>4.996061</td>\n",
       "    </tr>\n",
       "    <tr>\n",
       "      <th>1</th>\n",
       "      <td>7.995844</td>\n",
       "      <td>2.001047</td>\n",
       "      <td>12.990713</td>\n",
       "      <td>6.001949</td>\n",
       "      <td>16.984940</td>\n",
       "      <td>6.998777</td>\n",
       "      <td>2.001524</td>\n",
       "      <td>5.992651</td>\n",
       "    </tr>\n",
       "    <tr>\n",
       "      <th>2</th>\n",
       "      <td>10.993481</td>\n",
       "      <td>2.998829</td>\n",
       "      <td>12.994528</td>\n",
       "      <td>5.995989</td>\n",
       "      <td>18.988132</td>\n",
       "      <td>6.996155</td>\n",
       "      <td>1.999140</td>\n",
       "      <td>7.994890</td>\n",
       "    </tr>\n",
       "    <tr>\n",
       "      <th>3</th>\n",
       "      <td>14.989853</td>\n",
       "      <td>2.997637</td>\n",
       "      <td>17.989874</td>\n",
       "      <td>5.996943</td>\n",
       "      <td>18.989086</td>\n",
       "      <td>7.996798</td>\n",
       "      <td>3.005266</td>\n",
       "      <td>10.986328</td>\n",
       "    </tr>\n",
       "    <tr>\n",
       "      <th>4</th>\n",
       "      <td>12.994528</td>\n",
       "      <td>3.997564</td>\n",
       "      <td>20.987988</td>\n",
       "      <td>7.996559</td>\n",
       "      <td>26.986361</td>\n",
       "      <td>8.992195</td>\n",
       "      <td>1.998186</td>\n",
       "      <td>12.993813</td>\n",
       "    </tr>\n",
       "    <tr>\n",
       "      <th>5</th>\n",
       "      <td>18.990993</td>\n",
       "      <td>4.996777</td>\n",
       "      <td>31.878948</td>\n",
       "      <td>17.697811</td>\n",
       "      <td>34.979820</td>\n",
       "      <td>9.993553</td>\n",
       "      <td>3.601551</td>\n",
       "      <td>14.989853</td>\n",
       "    </tr>\n",
       "    <tr>\n",
       "      <th>6</th>\n",
       "      <td>23.984671</td>\n",
       "      <td>5.995750</td>\n",
       "      <td>53.234100</td>\n",
       "      <td>10.993719</td>\n",
       "      <td>38.977861</td>\n",
       "      <td>13.990641</td>\n",
       "      <td>2.326250</td>\n",
       "      <td>15.629768</td>\n",
       "    </tr>\n",
       "    <tr>\n",
       "      <th>7</th>\n",
       "      <td>26.982784</td>\n",
       "      <td>6.996870</td>\n",
       "      <td>48.092127</td>\n",
       "      <td>29.581070</td>\n",
       "      <td>40.228367</td>\n",
       "      <td>15.624523</td>\n",
       "      <td>0.000000</td>\n",
       "      <td>39.160013</td>\n",
       "    </tr>\n",
       "    <tr>\n",
       "      <th>8</th>\n",
       "      <td>32.213449</td>\n",
       "      <td>0.000000</td>\n",
       "      <td>78.126192</td>\n",
       "      <td>25.412798</td>\n",
       "      <td>61.963320</td>\n",
       "      <td>17.049551</td>\n",
       "      <td>0.000000</td>\n",
       "      <td>31.253815</td>\n",
       "    </tr>\n",
       "    <tr>\n",
       "      <th>9</th>\n",
       "      <td>24.960756</td>\n",
       "      <td>15.623808</td>\n",
       "      <td>93.740225</td>\n",
       "      <td>30.982494</td>\n",
       "      <td>59.852362</td>\n",
       "      <td>31.246424</td>\n",
       "      <td>0.000000</td>\n",
       "      <td>49.041748</td>\n",
       "    </tr>\n",
       "    <tr>\n",
       "      <th>10</th>\n",
       "      <td>41.503429</td>\n",
       "      <td>15.623808</td>\n",
       "      <td>109.369755</td>\n",
       "      <td>47.464848</td>\n",
       "      <td>77.673912</td>\n",
       "      <td>34.071684</td>\n",
       "      <td>15.624523</td>\n",
       "      <td>46.895266</td>\n",
       "    </tr>\n",
       "    <tr>\n",
       "      <th>11</th>\n",
       "      <td>71.958780</td>\n",
       "      <td>19.988298</td>\n",
       "      <td>184.169531</td>\n",
       "      <td>41.977167</td>\n",
       "      <td>141.762018</td>\n",
       "      <td>46.873093</td>\n",
       "      <td>31.249046</td>\n",
       "      <td>75.855732</td>\n",
       "    </tr>\n",
       "    <tr>\n",
       "      <th>12</th>\n",
       "      <td>78.120708</td>\n",
       "      <td>21.111012</td>\n",
       "      <td>220.870972</td>\n",
       "      <td>42.976618</td>\n",
       "      <td>118.778944</td>\n",
       "      <td>69.436312</td>\n",
       "      <td>15.627384</td>\n",
       "      <td>77.850819</td>\n",
       "    </tr>\n",
       "    <tr>\n",
       "      <th>13</th>\n",
       "      <td>93.743086</td>\n",
       "      <td>33.256292</td>\n",
       "      <td>223.735332</td>\n",
       "      <td>53.529501</td>\n",
       "      <td>154.400110</td>\n",
       "      <td>62.470436</td>\n",
       "      <td>15.645504</td>\n",
       "      <td>93.726397</td>\n",
       "    </tr>\n",
       "    <tr>\n",
       "      <th>14</th>\n",
       "      <td>129.100561</td>\n",
       "      <td>32.446384</td>\n",
       "      <td>295.092344</td>\n",
       "      <td>46.869516</td>\n",
       "      <td>204.910994</td>\n",
       "      <td>67.568541</td>\n",
       "      <td>31.249762</td>\n",
       "      <td>109.362841</td>\n",
       "    </tr>\n",
       "    <tr>\n",
       "      <th>15</th>\n",
       "      <td>134.365082</td>\n",
       "      <td>46.871901</td>\n",
       "      <td>402.182341</td>\n",
       "      <td>87.950945</td>\n",
       "      <td>258.866549</td>\n",
       "      <td>119.362116</td>\n",
       "      <td>38.953304</td>\n",
       "      <td>162.905693</td>\n",
       "    </tr>\n",
       "    <tr>\n",
       "      <th>16</th>\n",
       "      <td>171.863317</td>\n",
       "      <td>49.518108</td>\n",
       "      <td>442.275286</td>\n",
       "      <td>106.007099</td>\n",
       "      <td>300.186872</td>\n",
       "      <td>124.989748</td>\n",
       "      <td>46.875000</td>\n",
       "      <td>185.638905</td>\n",
       "    </tr>\n",
       "    <tr>\n",
       "      <th>17</th>\n",
       "      <td>233.644009</td>\n",
       "      <td>53.338289</td>\n",
       "      <td>567.940950</td>\n",
       "      <td>107.451439</td>\n",
       "      <td>386.620283</td>\n",
       "      <td>140.622854</td>\n",
       "      <td>46.878576</td>\n",
       "      <td>223.063946</td>\n",
       "    </tr>\n",
       "    <tr>\n",
       "      <th>18</th>\n",
       "      <td>285.804033</td>\n",
       "      <td>61.953545</td>\n",
       "      <td>703.057289</td>\n",
       "      <td>141.153574</td>\n",
       "      <td>470.904112</td>\n",
       "      <td>209.164381</td>\n",
       "      <td>53.530455</td>\n",
       "      <td>286.067009</td>\n",
       "    </tr>\n",
       "    <tr>\n",
       "      <th>19</th>\n",
       "      <td>365.557909</td>\n",
       "      <td>94.959974</td>\n",
       "      <td>876.950741</td>\n",
       "      <td>175.580502</td>\n",
       "      <td>578.214645</td>\n",
       "      <td>247.959375</td>\n",
       "      <td>62.500954</td>\n",
       "      <td>328.101635</td>\n",
       "    </tr>\n",
       "    <tr>\n",
       "      <th>20</th>\n",
       "      <td>421.840191</td>\n",
       "      <td>129.473686</td>\n",
       "      <td>1131.695747</td>\n",
       "      <td>194.290638</td>\n",
       "      <td>755.256176</td>\n",
       "      <td>308.355808</td>\n",
       "      <td>78.117132</td>\n",
       "      <td>416.107893</td>\n",
       "    </tr>\n",
       "    <tr>\n",
       "      <th>21</th>\n",
       "      <td>520.888805</td>\n",
       "      <td>156.235456</td>\n",
       "      <td>1395.205259</td>\n",
       "      <td>275.449753</td>\n",
       "      <td>911.106825</td>\n",
       "      <td>380.436897</td>\n",
       "      <td>143.909454</td>\n",
       "      <td>530.656338</td>\n",
       "    </tr>\n",
       "    <tr>\n",
       "      <th>22</th>\n",
       "      <td>671.942472</td>\n",
       "      <td>192.844152</td>\n",
       "      <td>1749.922991</td>\n",
       "      <td>363.451242</td>\n",
       "      <td>1231.875420</td>\n",
       "      <td>501.329660</td>\n",
       "      <td>124.996185</td>\n",
       "      <td>682.932854</td>\n",
       "    </tr>\n",
       "    <tr>\n",
       "      <th>23</th>\n",
       "      <td>858.145952</td>\n",
       "      <td>234.359980</td>\n",
       "      <td>2125.455618</td>\n",
       "      <td>374.976635</td>\n",
       "      <td>1567.087889</td>\n",
       "      <td>621.320486</td>\n",
       "      <td>174.179792</td>\n",
       "      <td>784.200191</td>\n",
       "    </tr>\n",
       "    <tr>\n",
       "      <th>24</th>\n",
       "      <td>1175.130129</td>\n",
       "      <td>306.655169</td>\n",
       "      <td>2706.933737</td>\n",
       "      <td>506.059170</td>\n",
       "      <td>1834.364891</td>\n",
       "      <td>745.384932</td>\n",
       "      <td>219.538689</td>\n",
       "      <td>1005.269051</td>\n",
       "    </tr>\n",
       "  </tbody>\n",
       "</table>\n",
       "</div>"
      ],
      "text/plain": [
       "        Polyfit  Stats.lingress  Optimize.curve_fit  linalg.lstsq  \\\n",
       "0      6.994963        1.999617           10.008335     16.979218   \n",
       "1      7.995844        2.001047           12.990713      6.001949   \n",
       "2     10.993481        2.998829           12.994528      5.995989   \n",
       "3     14.989853        2.997637           17.989874      5.996943   \n",
       "4     12.994528        3.997564           20.987988      7.996559   \n",
       "5     18.990993        4.996777           31.878948     17.697811   \n",
       "6     23.984671        5.995750           53.234100     10.993719   \n",
       "7     26.982784        6.996870           48.092127     29.581070   \n",
       "8     32.213449        0.000000           78.126192     25.412798   \n",
       "9     24.960756       15.623808           93.740225     30.982494   \n",
       "10    41.503429       15.623808          109.369755     47.464848   \n",
       "11    71.958780       19.988298          184.169531     41.977167   \n",
       "12    78.120708       21.111012          220.870972     42.976618   \n",
       "13    93.743086       33.256292          223.735332     53.529501   \n",
       "14   129.100561       32.446384          295.092344     46.869516   \n",
       "15   134.365082       46.871901          402.182341     87.950945   \n",
       "16   171.863317       49.518108          442.275286    106.007099   \n",
       "17   233.644009       53.338289          567.940950    107.451439   \n",
       "18   285.804033       61.953545          703.057289    141.153574   \n",
       "19   365.557909       94.959974          876.950741    175.580502   \n",
       "20   421.840191      129.473686         1131.695747    194.290638   \n",
       "21   520.888805      156.235456         1395.205259    275.449753   \n",
       "22   671.942472      192.844152         1749.922991    363.451242   \n",
       "23   858.145952      234.359980         2125.455618    374.976635   \n",
       "24  1175.130129      306.655169         2706.933737    506.059170   \n",
       "\n",
       "    statsmodels.OLS  Moore-Penrose matrix inverse  Simple matrix inverse  \\\n",
       "0         47.968149                     15.990973               1.001120   \n",
       "1         16.984940                      6.998777               2.001524   \n",
       "2         18.988132                      6.996155               1.999140   \n",
       "3         18.989086                      7.996798               3.005266   \n",
       "4         26.986361                      8.992195               1.998186   \n",
       "5         34.979820                      9.993553               3.601551   \n",
       "6         38.977861                     13.990641               2.326250   \n",
       "7         40.228367                     15.624523               0.000000   \n",
       "8         61.963320                     17.049551               0.000000   \n",
       "9         59.852362                     31.246424               0.000000   \n",
       "10        77.673912                     34.071684              15.624523   \n",
       "11       141.762018                     46.873093              31.249046   \n",
       "12       118.778944                     69.436312              15.627384   \n",
       "13       154.400110                     62.470436              15.645504   \n",
       "14       204.910994                     67.568541              31.249762   \n",
       "15       258.866549                    119.362116              38.953304   \n",
       "16       300.186872                    124.989748              46.875000   \n",
       "17       386.620283                    140.622854              46.878576   \n",
       "18       470.904112                    209.164381              53.530455   \n",
       "19       578.214645                    247.959375              62.500954   \n",
       "20       755.256176                    308.355808              78.117132   \n",
       "21       911.106825                    380.436897             143.909454   \n",
       "22      1231.875420                    501.329660             124.996185   \n",
       "23      1567.087889                    621.320486             174.179792   \n",
       "24      1834.364891                    745.384932             219.538689   \n",
       "\n",
       "    sklearn.linear_model  \n",
       "0               4.996061  \n",
       "1               5.992651  \n",
       "2               7.994890  \n",
       "3              10.986328  \n",
       "4              12.993813  \n",
       "5              14.989853  \n",
       "6              15.629768  \n",
       "7              39.160013  \n",
       "8              31.253815  \n",
       "9              49.041748  \n",
       "10             46.895266  \n",
       "11             75.855732  \n",
       "12             77.850819  \n",
       "13             93.726397  \n",
       "14            109.362841  \n",
       "15            162.905693  \n",
       "16            185.638905  \n",
       "17            223.063946  \n",
       "18            286.067009  \n",
       "19            328.101635  \n",
       "20            416.107893  \n",
       "21            530.656338  \n",
       "22            682.932854  \n",
       "23            784.200191  \n",
       "24           1005.269051  "
      ]
     },
     "execution_count": 19,
     "metadata": {},
     "output_type": "execute_result"
    }
   ],
   "source": [
    "df = pd.DataFrame(data=time_dict)\n",
    "df"
   ]
  },
  {
   "cell_type": "code",
   "execution_count": 20,
   "metadata": {},
   "outputs": [
    {
     "data": {
      "text/plain": [
       "<matplotlib.legend.Legend at 0x14b00023cf8>"
      ]
     },
     "execution_count": 20,
     "metadata": {},
     "output_type": "execute_result"
    },
    {
     "data": {
      "image/png": "[encoded data removed]",
      "text/plain": [
       "<Figure size 1080x720 with 1 Axes>"
      ]
     },
     "metadata": {
      "needs_background": "light"
     },
     "output_type": "display_data"
    }
   ],
   "source": [
    "plt.figure(figsize=(15,10))\n",
    "for i in df.columns:\n",
    "    plt.semilogx((n_data),df[i],lw=3)\n",
    "plt.xticks([1e5,2e5,5e5,1e6,2e6,5e6,1e7],fontsize=15)\n",
    "plt.xlabel(\"\\nSize of the data set (number of samples)\",fontsize=15)\n",
    "plt.yticks(fontsize=15)\n",
    "plt.ylabel(\"Milliseconds needed for simple linear regression model fit\\n\",fontsize=15)\n",
    "plt.grid(True)\n",
    "plt.legend([name for name in df.columns],fontsize=20)"
   ]
  },
  {
   "cell_type": "code",
   "execution_count": 21,
   "metadata": {},
   "outputs": [],
   "source": [
    "a1=df.iloc[n_levels-1]"
   ]
  },
  {
   "cell_type": "code",
   "execution_count": 23,
   "metadata": {},
   "outputs": [
    {
     "data": {
      "image/png": "[encoded data removed]",
      "text/plain": [
       "<Figure size 1440x360 with 1 Axes>"
      ]
     },
     "metadata": {
      "needs_background": "light"
     },
     "output_type": "display_data"
    }
   ],
   "source": [
    "plt.figure(figsize=(20,5))\n",
    "plt.grid(True)\n",
    "plt.bar([l*0.8 for l in range(8)],height=a1, width=0.4,\n",
    "        tick_label=list(a1.index))\n",
    "plt.show()"
   ]
  },
  {
   "cell_type": "code",
   "execution_count": null,
   "metadata": {},
   "outputs": [],
   "source": []
  }
 ],
 "metadata": {
  "kernelspec": {
   "display_name": "Python 3",
   "language": "python",
   "name": "python3"
  },
  "language_info": {
   "codemirror_mode": {
    "name": "ipython",
    "version": 3
   },
   "file_extension": ".py",
   "mimetype": "text/x-python",
   "name": "python",
   "nbconvert_exporter": "python",
   "pygments_lexer": "ipython3",
   "version": "3.6.8"
  }
 },
 "nbformat": 4,
 "nbformat_minor": 2
}
