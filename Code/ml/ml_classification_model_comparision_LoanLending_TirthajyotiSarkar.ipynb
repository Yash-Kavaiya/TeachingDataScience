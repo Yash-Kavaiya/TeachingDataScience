{
 "cells": [
  {
   "cell_type": "markdown",
   "metadata": {},
   "source": [
    "<p></p>\n",
    "<p style=\"font-size:35px;text-align:center;color:blue\">Complexity and learning curve analysis for classification</p>\n",
    "<p style=\"font-size:25px;text-align:center;color:red\">(Using Lending data set)</p>\n",
    "<p style=\"font-size:20px;text-align:center\">Dr. Tirthajyoti Sarkar, Sunnyvale, CA</p>"
   ]
  },
  {
   "cell_type": "markdown",
   "metadata": {},
   "source": [
    "## About this Notebook\n",
    "<p style=\"font-size:16px;font-family:cambria\">\n",
    "Complexity and learning curve analyses are some of the most important tasks in a Machine Learning project.\n",
    "<br><br>\n",
    "<b>Learning curve</b>: Graphs that compares the performance of a model on training and testing data over a varying number of training instances. We should generally see performance improve as the number of training points increases.\n",
    "<br><br>\n",
    "<b>Complexity curve</b>: Graphs that show the model performance over training and validation set for varying degree of model complexity (e.g. degree of polynomial for linear regression, number of layers or neurons for neural networks, number of estimator trees for a Boosting algorithm or Random Forest). Complexity curve allows us to verify when a model has learned as much as it can about the data without fitting to the noise. The optimum learning (given the fixed data) occurs when\n",
    "<ul style=\"font-size:16px;font-family:cambria\">\n",
    "<li>The performances on the training and testing sets reach a plateau</li>\n",
    "<li>There is a consistent gap between the two error rates</li>\n",
    "</ul>\n",
    "<p style=\"font-size:16px;font-family:cambria\">\n",
    "<b>The key is to find the sweet spot that minimizes bias and variance</b> by finding the right level of model complexity. Of course with more data any model can improve, and different models may be optimal.\n",
    "</p>\n",
    "<p style=\"font-size:16px;font-family:cambria\">\n",
    "In this Notebook, we show classification on two separate data sets using five (5) algorithms,\n",
    "<ul style=\"font-size:16px;font-family:cambria\">\n",
    "<li>Decision Tree with some pruning</li>\n",
    "<li>Boosting (ensemble of Decision Trees)</li>\n",
    "<li>K-Nearest neighbor</li>\n",
    "<li>Support Vector Machines (SVM)</li>\n",
    "<li>Multi-layer perceptron (MLP) aka feedforward/densely connected neural network</li>\n",
    "</ul>"
   ]
  },
  {
   "cell_type": "markdown",
   "metadata": {},
   "source": [
    "## Loan data set from lending club\n",
    "<p style=\"font-size:16px;font-family:cambria\">\n",
    "This is a dataset, publicly available from <a href=\"https://lendingclub.com\">LendingClub.com</a>. Lending Club connects people who need money (borrowers) with people who have money (investors). We try to create a model to predict the risk of lending money to someone given a wide range of credit related data. We will use lending data from 2007-2010 and be trying to classify and predict whether or not the borrower paid back their loan in full.\n",
    "To get a feeling about the class separability of the data, we plot pairwise scatters and the corresponding kernel density estimates using Python seaborn package. We observe good overlap between the features i.e. they are not very easy to separate like some well-known datasets (e.g. Iris).\n",
    "Here are the features description,\n",
    "<ul style=\"font-size:16px;font-family:cambria\">\n",
    "<li><b>credit.policy</b>: 1 if the customer meets the credit underwriting criteria of LendingClub.com, and 0 otherwise.</li>\n",
    "<li><b>purpose</b>: The purpose of the loan (takes values \"credit_card\", \"debt_consolidation\", \"educational\", \"major_purchase\", \"small_business\", and \"all_other\").</li>\n",
    "<li><b>int.rate</b>: The interest rate of the loan, as a proportion. Borrowers judged by LendingClub.com to be more risky are assigned higher interest rates.</li>\n",
    "<li><b>installment</b>: The monthly installments owed by the borrower if the loan is funded.</li>\n",
    "<li><b>log.annual.inc</b>: The natural log of the self-reported annual income of the borrower.</li>\n",
    "<li><b>dti</b>: The debt-to-income ratio of the borrower (amount of debt divided by annual income).</li>\n",
    "<li><b>fico</b>: The FICO credit score of the borrower.</li>\n",
    "<li><b>days.with.cr.line</b>: The number of days the borrower has had a credit line.</li>\n",
    "<li><b>revol.bal</b>: The borrower's revolving balance (amount unpaid at the end of the credit card billing cycle).</li>\n",
    "<li><b>revol.util</b>: The borrower's revolving line utilization rate (the amount of the credit line used relative to total credit available).</li>\n",
    "<li><b>inq.last.6mths</b>: The borrower's number of inquiries by creditors in the last 6 months.</li>\n",
    "<li><b>delinq.2yrs</b>: The number of times the borrower had been 30+ days past due on a payment in the past 2 years.</li>\n",
    "<li><b>pub.rec</b>: The borrower's number of derogatory public records (bankruptcy filings, tax liens, or judgments).</li>\n",
    "<li><b>not.fully.paid</b>: The quantity of interest for classification - whether the borrower paid back the money in full or not</li>"
   ]
  },
  {
   "cell_type": "markdown",
   "metadata": {},
   "source": [
    "## Import initial libraries"
   ]
  },
  {
   "cell_type": "code",
   "execution_count": 1,
   "metadata": {},
   "outputs": [],
   "source": [
    "import numpy as np\n",
    "import pandas as pd\n",
    "import matplotlib.pyplot as plt\n",
    "import seaborn as sns\n",
    "sns.set_style(\"white\")"
   ]
  },
  {
   "cell_type": "markdown",
   "metadata": {},
   "source": [
    "## Dataset operations"
   ]
  },
  {
   "cell_type": "markdown",
   "metadata": {},
   "source": [
    "### Load the dataset"
   ]
  },
  {
   "cell_type": "code",
   "execution_count": 2,
   "metadata": {},
   "outputs": [],
   "source": [
    "df=pd.read_csv(\"data/loan_data.csv\")"
   ]
  },
  {
   "cell_type": "markdown",
   "metadata": {},
   "source": [
    "### Look at first 5 rows"
   ]
  },
  {
   "cell_type": "code",
   "execution_count": 3,
   "metadata": {},
   "outputs": [
    {
     "data": {
      "text/html": [
       "<div>\n",
       "<style scoped>\n",
       "    .dataframe tbody tr th:only-of-type {\n",
       "        vertical-align: middle;\n",
       "    }\n",
       "\n",
       "    .dataframe tbody tr th {\n",
       "        vertical-align: top;\n",
       "    }\n",
       "\n",
       "    .dataframe thead th {\n",
       "        text-align: right;\n",
       "    }\n",
       "</style>\n",
       "<table border=\"1\" class=\"dataframe\">\n",
       "  <thead>\n",
       "    <tr style=\"text-align: right;\">\n",
       "      <th></th>\n",
       "      <th>credit.policy</th>\n",
       "      <th>purpose</th>\n",
       "      <th>int.rate</th>\n",
       "      <th>installment</th>\n",
       "      <th>log.annual.inc</th>\n",
       "      <th>dti</th>\n",
       "      <th>fico</th>\n",
       "      <th>days.with.cr.line</th>\n",
       "      <th>revol.bal</th>\n",
       "      <th>revol.util</th>\n",
       "      <th>inq.last.6mths</th>\n",
       "      <th>delinq.2yrs</th>\n",
       "      <th>pub.rec</th>\n",
       "      <th>not.fully.paid</th>\n",
       "    </tr>\n",
       "  </thead>\n",
       "  <tbody>\n",
       "    <tr>\n",
       "      <th>0</th>\n",
       "      <td>1</td>\n",
       "      <td>debt_consolidation</td>\n",
       "      <td>0.1189</td>\n",
       "      <td>829.10</td>\n",
       "      <td>11.350407</td>\n",
       "      <td>19.48</td>\n",
       "      <td>737</td>\n",
       "      <td>5639.958333</td>\n",
       "      <td>28854</td>\n",
       "      <td>52.1</td>\n",
       "      <td>0</td>\n",
       "      <td>0</td>\n",
       "      <td>0</td>\n",
       "      <td>0</td>\n",
       "    </tr>\n",
       "    <tr>\n",
       "      <th>1</th>\n",
       "      <td>1</td>\n",
       "      <td>credit_card</td>\n",
       "      <td>0.1071</td>\n",
       "      <td>228.22</td>\n",
       "      <td>11.082143</td>\n",
       "      <td>14.29</td>\n",
       "      <td>707</td>\n",
       "      <td>2760.000000</td>\n",
       "      <td>33623</td>\n",
       "      <td>76.7</td>\n",
       "      <td>0</td>\n",
       "      <td>0</td>\n",
       "      <td>0</td>\n",
       "      <td>0</td>\n",
       "    </tr>\n",
       "    <tr>\n",
       "      <th>2</th>\n",
       "      <td>1</td>\n",
       "      <td>debt_consolidation</td>\n",
       "      <td>0.1357</td>\n",
       "      <td>366.86</td>\n",
       "      <td>10.373491</td>\n",
       "      <td>11.63</td>\n",
       "      <td>682</td>\n",
       "      <td>4710.000000</td>\n",
       "      <td>3511</td>\n",
       "      <td>25.6</td>\n",
       "      <td>1</td>\n",
       "      <td>0</td>\n",
       "      <td>0</td>\n",
       "      <td>0</td>\n",
       "    </tr>\n",
       "    <tr>\n",
       "      <th>3</th>\n",
       "      <td>1</td>\n",
       "      <td>debt_consolidation</td>\n",
       "      <td>0.1008</td>\n",
       "      <td>162.34</td>\n",
       "      <td>11.350407</td>\n",
       "      <td>8.10</td>\n",
       "      <td>712</td>\n",
       "      <td>2699.958333</td>\n",
       "      <td>33667</td>\n",
       "      <td>73.2</td>\n",
       "      <td>1</td>\n",
       "      <td>0</td>\n",
       "      <td>0</td>\n",
       "      <td>0</td>\n",
       "    </tr>\n",
       "    <tr>\n",
       "      <th>4</th>\n",
       "      <td>1</td>\n",
       "      <td>credit_card</td>\n",
       "      <td>0.1426</td>\n",
       "      <td>102.92</td>\n",
       "      <td>11.299732</td>\n",
       "      <td>14.97</td>\n",
       "      <td>667</td>\n",
       "      <td>4066.000000</td>\n",
       "      <td>4740</td>\n",
       "      <td>39.5</td>\n",
       "      <td>0</td>\n",
       "      <td>1</td>\n",
       "      <td>0</td>\n",
       "      <td>0</td>\n",
       "    </tr>\n",
       "  </tbody>\n",
       "</table>\n",
       "</div>"
      ],
      "text/plain": [
       "   credit.policy             purpose  int.rate  installment  log.annual.inc  \\\n",
       "0              1  debt_consolidation    0.1189       829.10       11.350407   \n",
       "1              1         credit_card    0.1071       228.22       11.082143   \n",
       "2              1  debt_consolidation    0.1357       366.86       10.373491   \n",
       "3              1  debt_consolidation    0.1008       162.34       11.350407   \n",
       "4              1         credit_card    0.1426       102.92       11.299732   \n",
       "\n",
       "     dti  fico  days.with.cr.line  revol.bal  revol.util  inq.last.6mths  \\\n",
       "0  19.48   737        5639.958333      28854        52.1               0   \n",
       "1  14.29   707        2760.000000      33623        76.7               0   \n",
       "2  11.63   682        4710.000000       3511        25.6               1   \n",
       "3   8.10   712        2699.958333      33667        73.2               1   \n",
       "4  14.97   667        4066.000000       4740        39.5               0   \n",
       "\n",
       "   delinq.2yrs  pub.rec  not.fully.paid  \n",
       "0            0        0               0  \n",
       "1            0        0               0  \n",
       "2            0        0               0  \n",
       "3            0        0               0  \n",
       "4            1        0               0  "
      ]
     },
     "execution_count": 3,
     "metadata": {},
     "output_type": "execute_result"
    }
   ],
   "source": [
    "df.head()"
   ]
  },
  {
   "cell_type": "markdown",
   "metadata": {},
   "source": [
    "### Basic descriptive statistics"
   ]
  },
  {
   "cell_type": "code",
   "execution_count": 4,
   "metadata": {},
   "outputs": [
    {
     "data": {
      "text/html": [
       "<div>\n",
       "<style scoped>\n",
       "    .dataframe tbody tr th:only-of-type {\n",
       "        vertical-align: middle;\n",
       "    }\n",
       "\n",
       "    .dataframe tbody tr th {\n",
       "        vertical-align: top;\n",
       "    }\n",
       "\n",
       "    .dataframe thead th {\n",
       "        text-align: right;\n",
       "    }\n",
       "</style>\n",
       "<table border=\"1\" class=\"dataframe\">\n",
       "  <thead>\n",
       "    <tr style=\"text-align: right;\">\n",
       "      <th></th>\n",
       "      <th>credit.policy</th>\n",
       "      <th>int.rate</th>\n",
       "      <th>installment</th>\n",
       "      <th>log.annual.inc</th>\n",
       "      <th>dti</th>\n",
       "      <th>fico</th>\n",
       "      <th>days.with.cr.line</th>\n",
       "      <th>revol.bal</th>\n",
       "      <th>revol.util</th>\n",
       "      <th>inq.last.6mths</th>\n",
       "      <th>delinq.2yrs</th>\n",
       "      <th>pub.rec</th>\n",
       "      <th>not.fully.paid</th>\n",
       "    </tr>\n",
       "  </thead>\n",
       "  <tbody>\n",
       "    <tr>\n",
       "      <th>count</th>\n",
       "      <td>9578.000000</td>\n",
       "      <td>9578.000000</td>\n",
       "      <td>9578.000000</td>\n",
       "      <td>9578.000000</td>\n",
       "      <td>9578.000000</td>\n",
       "      <td>9578.000000</td>\n",
       "      <td>9578.000000</td>\n",
       "      <td>9.578000e+03</td>\n",
       "      <td>9578.000000</td>\n",
       "      <td>9578.000000</td>\n",
       "      <td>9578.000000</td>\n",
       "      <td>9578.000000</td>\n",
       "      <td>9578.000000</td>\n",
       "    </tr>\n",
       "    <tr>\n",
       "      <th>mean</th>\n",
       "      <td>0.804970</td>\n",
       "      <td>0.122640</td>\n",
       "      <td>319.089413</td>\n",
       "      <td>10.932117</td>\n",
       "      <td>12.606679</td>\n",
       "      <td>710.846314</td>\n",
       "      <td>4560.767197</td>\n",
       "      <td>1.691396e+04</td>\n",
       "      <td>46.799236</td>\n",
       "      <td>1.577469</td>\n",
       "      <td>0.163708</td>\n",
       "      <td>0.062122</td>\n",
       "      <td>0.160054</td>\n",
       "    </tr>\n",
       "    <tr>\n",
       "      <th>std</th>\n",
       "      <td>0.396245</td>\n",
       "      <td>0.026847</td>\n",
       "      <td>207.071301</td>\n",
       "      <td>0.614813</td>\n",
       "      <td>6.883970</td>\n",
       "      <td>37.970537</td>\n",
       "      <td>2496.930377</td>\n",
       "      <td>3.375619e+04</td>\n",
       "      <td>29.014417</td>\n",
       "      <td>2.200245</td>\n",
       "      <td>0.546215</td>\n",
       "      <td>0.262126</td>\n",
       "      <td>0.366676</td>\n",
       "    </tr>\n",
       "    <tr>\n",
       "      <th>min</th>\n",
       "      <td>0.000000</td>\n",
       "      <td>0.060000</td>\n",
       "      <td>15.670000</td>\n",
       "      <td>7.547502</td>\n",
       "      <td>0.000000</td>\n",
       "      <td>612.000000</td>\n",
       "      <td>178.958333</td>\n",
       "      <td>0.000000e+00</td>\n",
       "      <td>0.000000</td>\n",
       "      <td>0.000000</td>\n",
       "      <td>0.000000</td>\n",
       "      <td>0.000000</td>\n",
       "      <td>0.000000</td>\n",
       "    </tr>\n",
       "    <tr>\n",
       "      <th>25%</th>\n",
       "      <td>1.000000</td>\n",
       "      <td>0.103900</td>\n",
       "      <td>163.770000</td>\n",
       "      <td>10.558414</td>\n",
       "      <td>7.212500</td>\n",
       "      <td>682.000000</td>\n",
       "      <td>2820.000000</td>\n",
       "      <td>3.187000e+03</td>\n",
       "      <td>22.600000</td>\n",
       "      <td>0.000000</td>\n",
       "      <td>0.000000</td>\n",
       "      <td>0.000000</td>\n",
       "      <td>0.000000</td>\n",
       "    </tr>\n",
       "    <tr>\n",
       "      <th>50%</th>\n",
       "      <td>1.000000</td>\n",
       "      <td>0.122100</td>\n",
       "      <td>268.950000</td>\n",
       "      <td>10.928884</td>\n",
       "      <td>12.665000</td>\n",
       "      <td>707.000000</td>\n",
       "      <td>4139.958333</td>\n",
       "      <td>8.596000e+03</td>\n",
       "      <td>46.300000</td>\n",
       "      <td>1.000000</td>\n",
       "      <td>0.000000</td>\n",
       "      <td>0.000000</td>\n",
       "      <td>0.000000</td>\n",
       "    </tr>\n",
       "    <tr>\n",
       "      <th>75%</th>\n",
       "      <td>1.000000</td>\n",
       "      <td>0.140700</td>\n",
       "      <td>432.762500</td>\n",
       "      <td>11.291293</td>\n",
       "      <td>17.950000</td>\n",
       "      <td>737.000000</td>\n",
       "      <td>5730.000000</td>\n",
       "      <td>1.824950e+04</td>\n",
       "      <td>70.900000</td>\n",
       "      <td>2.000000</td>\n",
       "      <td>0.000000</td>\n",
       "      <td>0.000000</td>\n",
       "      <td>0.000000</td>\n",
       "    </tr>\n",
       "    <tr>\n",
       "      <th>max</th>\n",
       "      <td>1.000000</td>\n",
       "      <td>0.216400</td>\n",
       "      <td>940.140000</td>\n",
       "      <td>14.528354</td>\n",
       "      <td>29.960000</td>\n",
       "      <td>827.000000</td>\n",
       "      <td>17639.958330</td>\n",
       "      <td>1.207359e+06</td>\n",
       "      <td>119.000000</td>\n",
       "      <td>33.000000</td>\n",
       "      <td>13.000000</td>\n",
       "      <td>5.000000</td>\n",
       "      <td>1.000000</td>\n",
       "    </tr>\n",
       "  </tbody>\n",
       "</table>\n",
       "</div>"
      ],
      "text/plain": [
       "       credit.policy     int.rate  installment  log.annual.inc          dti  \\\n",
       "count    9578.000000  9578.000000  9578.000000     9578.000000  9578.000000   \n",
       "mean        0.804970     0.122640   319.089413       10.932117    12.606679   \n",
       "std         0.396245     0.026847   207.071301        0.614813     6.883970   \n",
       "min         0.000000     0.060000    15.670000        7.547502     0.000000   \n",
       "25%         1.000000     0.103900   163.770000       10.558414     7.212500   \n",
       "50%         1.000000     0.122100   268.950000       10.928884    12.665000   \n",
       "75%         1.000000     0.140700   432.762500       11.291293    17.950000   \n",
       "max         1.000000     0.216400   940.140000       14.528354    29.960000   \n",
       "\n",
       "              fico  days.with.cr.line     revol.bal   revol.util  \\\n",
       "count  9578.000000        9578.000000  9.578000e+03  9578.000000   \n",
       "mean    710.846314        4560.767197  1.691396e+04    46.799236   \n",
       "std      37.970537        2496.930377  3.375619e+04    29.014417   \n",
       "min     612.000000         178.958333  0.000000e+00     0.000000   \n",
       "25%     682.000000        2820.000000  3.187000e+03    22.600000   \n",
       "50%     707.000000        4139.958333  8.596000e+03    46.300000   \n",
       "75%     737.000000        5730.000000  1.824950e+04    70.900000   \n",
       "max     827.000000       17639.958330  1.207359e+06   119.000000   \n",
       "\n",
       "       inq.last.6mths  delinq.2yrs      pub.rec  not.fully.paid  \n",
       "count     9578.000000  9578.000000  9578.000000     9578.000000  \n",
       "mean         1.577469     0.163708     0.062122        0.160054  \n",
       "std          2.200245     0.546215     0.262126        0.366676  \n",
       "min          0.000000     0.000000     0.000000        0.000000  \n",
       "25%          0.000000     0.000000     0.000000        0.000000  \n",
       "50%          1.000000     0.000000     0.000000        0.000000  \n",
       "75%          2.000000     0.000000     0.000000        0.000000  \n",
       "max         33.000000    13.000000     5.000000        1.000000  "
      ]
     },
     "execution_count": 4,
     "metadata": {},
     "output_type": "execute_result"
    }
   ],
   "source": [
    "df.describe()"
   ]
  },
  {
   "cell_type": "markdown",
   "metadata": {},
   "source": [
    "### One-hot encoding of categorical features"
   ]
  },
  {
   "cell_type": "code",
   "execution_count": 5,
   "metadata": {},
   "outputs": [],
   "source": [
    "df_final = pd.get_dummies(df,['purpose'],drop_first=True)\n",
    "df_final = df_final.drop('credit.policy',axis=1)"
   ]
  },
  {
   "cell_type": "code",
   "execution_count": 6,
   "metadata": {},
   "outputs": [
    {
     "data": {
      "text/plain": [
       "(9578, 18)"
      ]
     },
     "execution_count": 6,
     "metadata": {},
     "output_type": "execute_result"
    }
   ],
   "source": [
    "df_final.shape"
   ]
  },
  {
   "cell_type": "markdown",
   "metadata": {},
   "source": [
    "## Basic visualizations\n",
    "<p style=\"font-size:16px;font-family:cambria\">\n",
    "We plot histograms, boxlots and scatterplots of the dataset and observe that <b>the class separation is not very obvious</b>. Particularly, boxplots show lot of overlap between features for two output classes. \n",
    "<br><br>\n",
    "So, <b>this should be a non-trivial classification task</b>.</p>"
   ]
  },
  {
   "cell_type": "code",
   "execution_count": 7,
   "metadata": {
    "scrolled": false
   },
   "outputs": [
    {
     "data": {
      "image/png": "[encoded data removed]",
      "text/plain": [
       "<Figure size 1440x1440 with 12 Axes>"
      ]
     },
     "metadata": {
      "needs_background": "light"
     },
     "output_type": "display_data"
    }
   ],
   "source": [
    "i=1\n",
    "plt.figure(figsize=(20,20))\n",
    "for c in df.describe().columns[:-1]:\n",
    "    plt.subplot(4,3,i)\n",
    "    plt.title(f\"Histogram of {c}\",fontsize=16)\n",
    "    plt.yticks(fontsize=12)\n",
    "    plt.xticks(fontsize=12)\n",
    "    plt.hist(df[c],bins=20,color='orange',edgecolor='k')\n",
    "    i+=1\n",
    "plt.show()"
   ]
  },
  {
   "cell_type": "code",
   "execution_count": 8,
   "metadata": {},
   "outputs": [
    {
     "data": {
      "image/png": "[encoded data removed]",
      "text/plain": [
       "<Figure size 1440x2376 with 17 Axes>"
      ]
     },
     "metadata": {
      "needs_background": "light"
     },
     "output_type": "display_data"
    }
   ],
   "source": [
    "i=1\n",
    "plt.figure(figsize=(20,33))\n",
    "for c in df_final.columns[:-1]:\n",
    "    plt.subplot(6,3,i)\n",
    "    plt.title(f\"Boxplot of {c}\",fontsize=16)\n",
    "    plt.yticks(fontsize=12)\n",
    "    plt.xticks(fontsize=12)\n",
    "    sns.boxplot(y=df_final[c],x=df_final['not.fully.paid'])\n",
    "    i+=1\n",
    "plt.show()"
   ]
  },
  {
   "cell_type": "code",
   "execution_count": 9,
   "metadata": {
    "scrolled": false
   },
   "outputs": [
    {
     "data": {
      "image/png": "[encoded data removed]",
      "text/plain": [
       "<Figure size 785.925x720 with 20 Axes>"
      ]
     },
     "metadata": {},
     "output_type": "display_data"
    }
   ],
   "source": [
    "sns.set(style=\"ticks\", color_codes=True)\n",
    "g=sns.pairplot(df_final,vars=[\"log.annual.inc\",\"dti\",\"fico\",\"revol.bal\"],\n",
    "               plot_kws=dict(s=30, edgecolor=\"b\", linewidth=1),\n",
    "               hue=\"not.fully.paid\",markers=[\"o\", \"s\"],\n",
    "               diag_kind=\"kde\",diag_kws=dict(shade=True))"
   ]
  },
  {
   "cell_type": "markdown",
   "metadata": {},
   "source": [
    "## Test/train/validation split"
   ]
  },
  {
   "cell_type": "code",
   "execution_count": 10,
   "metadata": {},
   "outputs": [],
   "source": [
    "from sklearn.model_selection import train_test_split"
   ]
  },
  {
   "cell_type": "code",
   "execution_count": 11,
   "metadata": {},
   "outputs": [],
   "source": [
    "X=df_final.drop('not.fully.paid',axis=1)\n",
    "y=df['not.fully.paid']"
   ]
  },
  {
   "cell_type": "markdown",
   "metadata": {},
   "source": [
    "### First divide train and test data in 70:30 ratio"
   ]
  },
  {
   "cell_type": "code",
   "execution_count": 12,
   "metadata": {},
   "outputs": [],
   "source": [
    "X_train, X_test, y_train, y_test = train_test_split(X, y, test_size=0.30)"
   ]
  },
  {
   "cell_type": "code",
   "execution_count": 13,
   "metadata": {},
   "outputs": [
    {
     "data": {
      "text/html": [
       "<div>\n",
       "<style scoped>\n",
       "    .dataframe tbody tr th:only-of-type {\n",
       "        vertical-align: middle;\n",
       "    }\n",
       "\n",
       "    .dataframe tbody tr th {\n",
       "        vertical-align: top;\n",
       "    }\n",
       "\n",
       "    .dataframe thead th {\n",
       "        text-align: right;\n",
       "    }\n",
       "</style>\n",
       "<table border=\"1\" class=\"dataframe\">\n",
       "  <thead>\n",
       "    <tr style=\"text-align: right;\">\n",
       "      <th></th>\n",
       "      <th>int.rate</th>\n",
       "      <th>installment</th>\n",
       "      <th>log.annual.inc</th>\n",
       "      <th>dti</th>\n",
       "      <th>fico</th>\n",
       "      <th>days.with.cr.line</th>\n",
       "      <th>revol.bal</th>\n",
       "      <th>revol.util</th>\n",
       "      <th>inq.last.6mths</th>\n",
       "      <th>delinq.2yrs</th>\n",
       "      <th>pub.rec</th>\n",
       "      <th>purpose_credit_card</th>\n",
       "      <th>purpose_debt_consolidation</th>\n",
       "      <th>purpose_educational</th>\n",
       "      <th>purpose_home_improvement</th>\n",
       "      <th>purpose_major_purchase</th>\n",
       "      <th>purpose_small_business</th>\n",
       "    </tr>\n",
       "  </thead>\n",
       "  <tbody>\n",
       "    <tr>\n",
       "      <th>6645</th>\n",
       "      <td>0.1218</td>\n",
       "      <td>532.80</td>\n",
       "      <td>11.104957</td>\n",
       "      <td>19.71</td>\n",
       "      <td>737</td>\n",
       "      <td>12600.041670</td>\n",
       "      <td>28735</td>\n",
       "      <td>82.6</td>\n",
       "      <td>3</td>\n",
       "      <td>0</td>\n",
       "      <td>0</td>\n",
       "      <td>0</td>\n",
       "      <td>1</td>\n",
       "      <td>0</td>\n",
       "      <td>0</td>\n",
       "      <td>0</td>\n",
       "      <td>0</td>\n",
       "    </tr>\n",
       "    <tr>\n",
       "      <th>2464</th>\n",
       "      <td>0.1442</td>\n",
       "      <td>302.57</td>\n",
       "      <td>10.742811</td>\n",
       "      <td>5.94</td>\n",
       "      <td>707</td>\n",
       "      <td>4379.958333</td>\n",
       "      <td>8134</td>\n",
       "      <td>80.2</td>\n",
       "      <td>0</td>\n",
       "      <td>0</td>\n",
       "      <td>0</td>\n",
       "      <td>0</td>\n",
       "      <td>1</td>\n",
       "      <td>0</td>\n",
       "      <td>0</td>\n",
       "      <td>0</td>\n",
       "      <td>0</td>\n",
       "    </tr>\n",
       "    <tr>\n",
       "      <th>3064</th>\n",
       "      <td>0.1158</td>\n",
       "      <td>825.34</td>\n",
       "      <td>11.184421</td>\n",
       "      <td>5.88</td>\n",
       "      <td>752</td>\n",
       "      <td>3480.000000</td>\n",
       "      <td>8898</td>\n",
       "      <td>29.1</td>\n",
       "      <td>1</td>\n",
       "      <td>0</td>\n",
       "      <td>0</td>\n",
       "      <td>0</td>\n",
       "      <td>0</td>\n",
       "      <td>0</td>\n",
       "      <td>0</td>\n",
       "      <td>0</td>\n",
       "      <td>0</td>\n",
       "    </tr>\n",
       "    <tr>\n",
       "      <th>1503</th>\n",
       "      <td>0.1178</td>\n",
       "      <td>49.67</td>\n",
       "      <td>11.982929</td>\n",
       "      <td>7.68</td>\n",
       "      <td>682</td>\n",
       "      <td>3630.000000</td>\n",
       "      <td>5350</td>\n",
       "      <td>87.7</td>\n",
       "      <td>3</td>\n",
       "      <td>0</td>\n",
       "      <td>0</td>\n",
       "      <td>1</td>\n",
       "      <td>0</td>\n",
       "      <td>0</td>\n",
       "      <td>0</td>\n",
       "      <td>0</td>\n",
       "      <td>0</td>\n",
       "    </tr>\n",
       "    <tr>\n",
       "      <th>3555</th>\n",
       "      <td>0.0800</td>\n",
       "      <td>219.36</td>\n",
       "      <td>10.433998</td>\n",
       "      <td>15.21</td>\n",
       "      <td>752</td>\n",
       "      <td>5880.000000</td>\n",
       "      <td>17576</td>\n",
       "      <td>36.3</td>\n",
       "      <td>0</td>\n",
       "      <td>0</td>\n",
       "      <td>0</td>\n",
       "      <td>0</td>\n",
       "      <td>0</td>\n",
       "      <td>0</td>\n",
       "      <td>0</td>\n",
       "      <td>0</td>\n",
       "      <td>0</td>\n",
       "    </tr>\n",
       "    <tr>\n",
       "      <th>823</th>\n",
       "      <td>0.1039</td>\n",
       "      <td>389.41</td>\n",
       "      <td>10.438166</td>\n",
       "      <td>15.99</td>\n",
       "      <td>712</td>\n",
       "      <td>4590.000000</td>\n",
       "      <td>6151</td>\n",
       "      <td>52.7</td>\n",
       "      <td>1</td>\n",
       "      <td>0</td>\n",
       "      <td>0</td>\n",
       "      <td>0</td>\n",
       "      <td>1</td>\n",
       "      <td>0</td>\n",
       "      <td>0</td>\n",
       "      <td>0</td>\n",
       "      <td>0</td>\n",
       "    </tr>\n",
       "    <tr>\n",
       "      <th>9098</th>\n",
       "      <td>0.1158</td>\n",
       "      <td>79.24</td>\n",
       "      <td>10.126631</td>\n",
       "      <td>19.54</td>\n",
       "      <td>727</td>\n",
       "      <td>3210.000000</td>\n",
       "      <td>268</td>\n",
       "      <td>26.8</td>\n",
       "      <td>5</td>\n",
       "      <td>0</td>\n",
       "      <td>0</td>\n",
       "      <td>0</td>\n",
       "      <td>0</td>\n",
       "      <td>0</td>\n",
       "      <td>0</td>\n",
       "      <td>0</td>\n",
       "      <td>0</td>\n",
       "    </tr>\n",
       "    <tr>\n",
       "      <th>2845</th>\n",
       "      <td>0.0963</td>\n",
       "      <td>144.43</td>\n",
       "      <td>10.545341</td>\n",
       "      <td>0.82</td>\n",
       "      <td>747</td>\n",
       "      <td>6870.000000</td>\n",
       "      <td>752</td>\n",
       "      <td>27.9</td>\n",
       "      <td>1</td>\n",
       "      <td>0</td>\n",
       "      <td>0</td>\n",
       "      <td>0</td>\n",
       "      <td>0</td>\n",
       "      <td>0</td>\n",
       "      <td>0</td>\n",
       "      <td>0</td>\n",
       "      <td>0</td>\n",
       "    </tr>\n",
       "    <tr>\n",
       "      <th>8595</th>\n",
       "      <td>0.1576</td>\n",
       "      <td>218.12</td>\n",
       "      <td>10.799392</td>\n",
       "      <td>27.41</td>\n",
       "      <td>677</td>\n",
       "      <td>5189.958333</td>\n",
       "      <td>20582</td>\n",
       "      <td>96.2</td>\n",
       "      <td>0</td>\n",
       "      <td>0</td>\n",
       "      <td>0</td>\n",
       "      <td>0</td>\n",
       "      <td>1</td>\n",
       "      <td>0</td>\n",
       "      <td>0</td>\n",
       "      <td>0</td>\n",
       "      <td>0</td>\n",
       "    </tr>\n",
       "    <tr>\n",
       "      <th>2490</th>\n",
       "      <td>0.1347</td>\n",
       "      <td>678.46</td>\n",
       "      <td>12.122691</td>\n",
       "      <td>7.28</td>\n",
       "      <td>732</td>\n",
       "      <td>7218.000000</td>\n",
       "      <td>50381</td>\n",
       "      <td>68.5</td>\n",
       "      <td>1</td>\n",
       "      <td>0</td>\n",
       "      <td>0</td>\n",
       "      <td>0</td>\n",
       "      <td>1</td>\n",
       "      <td>0</td>\n",
       "      <td>0</td>\n",
       "      <td>0</td>\n",
       "      <td>0</td>\n",
       "    </tr>\n",
       "  </tbody>\n",
       "</table>\n",
       "</div>"
      ],
      "text/plain": [
       "      int.rate  installment  log.annual.inc    dti  fico  days.with.cr.line  \\\n",
       "6645    0.1218       532.80       11.104957  19.71   737       12600.041670   \n",
       "2464    0.1442       302.57       10.742811   5.94   707        4379.958333   \n",
       "3064    0.1158       825.34       11.184421   5.88   752        3480.000000   \n",
       "1503    0.1178        49.67       11.982929   7.68   682        3630.000000   \n",
       "3555    0.0800       219.36       10.433998  15.21   752        5880.000000   \n",
       "823     0.1039       389.41       10.438166  15.99   712        4590.000000   \n",
       "9098    0.1158        79.24       10.126631  19.54   727        3210.000000   \n",
       "2845    0.0963       144.43       10.545341   0.82   747        6870.000000   \n",
       "8595    0.1576       218.12       10.799392  27.41   677        5189.958333   \n",
       "2490    0.1347       678.46       12.122691   7.28   732        7218.000000   \n",
       "\n",
       "      revol.bal  revol.util  inq.last.6mths  delinq.2yrs  pub.rec  \\\n",
       "6645      28735        82.6               3            0        0   \n",
       "2464       8134        80.2               0            0        0   \n",
       "3064       8898        29.1               1            0        0   \n",
       "1503       5350        87.7               3            0        0   \n",
       "3555      17576        36.3               0            0        0   \n",
       "823        6151        52.7               1            0        0   \n",
       "9098        268        26.8               5            0        0   \n",
       "2845        752        27.9               1            0        0   \n",
       "8595      20582        96.2               0            0        0   \n",
       "2490      50381        68.5               1            0        0   \n",
       "\n",
       "      purpose_credit_card  purpose_debt_consolidation  purpose_educational  \\\n",
       "6645                    0                           1                    0   \n",
       "2464                    0                           1                    0   \n",
       "3064                    0                           0                    0   \n",
       "1503                    1                           0                    0   \n",
       "3555                    0                           0                    0   \n",
       "823                     0                           1                    0   \n",
       "9098                    0                           0                    0   \n",
       "2845                    0                           0                    0   \n",
       "8595                    0                           1                    0   \n",
       "2490                    0                           1                    0   \n",
       "\n",
       "      purpose_home_improvement  purpose_major_purchase  purpose_small_business  \n",
       "6645                         0                       0                       0  \n",
       "2464                         0                       0                       0  \n",
       "3064                         0                       0                       0  \n",
       "1503                         0                       0                       0  \n",
       "3555                         0                       0                       0  \n",
       "823                          0                       0                       0  \n",
       "9098                         0                       0                       0  \n",
       "2845                         0                       0                       0  \n",
       "8595                         0                       0                       0  \n",
       "2490                         0                       0                       0  "
      ]
     },
     "execution_count": 13,
     "metadata": {},
     "output_type": "execute_result"
    }
   ],
   "source": [
    "X_train.head(10)"
   ]
  },
  {
   "cell_type": "code",
   "execution_count": 14,
   "metadata": {},
   "outputs": [
    {
     "data": {
      "text/plain": [
       "0    0\n",
       "1    0\n",
       "2    0\n",
       "3    0\n",
       "4    0\n",
       "Name: not.fully.paid, dtype: int64"
      ]
     },
     "execution_count": 14,
     "metadata": {},
     "output_type": "execute_result"
    }
   ],
   "source": [
    "y.head()"
   ]
  },
  {
   "cell_type": "markdown",
   "metadata": {},
   "source": [
    "### Then further divide the test set in 50:50 ratio into validation set and test set"
   ]
  },
  {
   "cell_type": "code",
   "execution_count": 15,
   "metadata": {},
   "outputs": [],
   "source": [
    "X_test, X_val, y_test, y_val = train_test_split(X_test, y_test, test_size=0.50)"
   ]
  },
  {
   "cell_type": "code",
   "execution_count": 16,
   "metadata": {},
   "outputs": [
    {
     "data": {
      "text/html": [
       "<div>\n",
       "<style scoped>\n",
       "    .dataframe tbody tr th:only-of-type {\n",
       "        vertical-align: middle;\n",
       "    }\n",
       "\n",
       "    .dataframe tbody tr th {\n",
       "        vertical-align: top;\n",
       "    }\n",
       "\n",
       "    .dataframe thead th {\n",
       "        text-align: right;\n",
       "    }\n",
       "</style>\n",
       "<table border=\"1\" class=\"dataframe\">\n",
       "  <thead>\n",
       "    <tr style=\"text-align: right;\">\n",
       "      <th></th>\n",
       "      <th>int.rate</th>\n",
       "      <th>installment</th>\n",
       "      <th>log.annual.inc</th>\n",
       "      <th>dti</th>\n",
       "      <th>fico</th>\n",
       "      <th>days.with.cr.line</th>\n",
       "      <th>revol.bal</th>\n",
       "      <th>revol.util</th>\n",
       "      <th>inq.last.6mths</th>\n",
       "      <th>delinq.2yrs</th>\n",
       "      <th>pub.rec</th>\n",
       "      <th>purpose_credit_card</th>\n",
       "      <th>purpose_debt_consolidation</th>\n",
       "      <th>purpose_educational</th>\n",
       "      <th>purpose_home_improvement</th>\n",
       "      <th>purpose_major_purchase</th>\n",
       "      <th>purpose_small_business</th>\n",
       "    </tr>\n",
       "  </thead>\n",
       "  <tbody>\n",
       "    <tr>\n",
       "      <th>5872</th>\n",
       "      <td>0.1392</td>\n",
       "      <td>136.55</td>\n",
       "      <td>10.668955</td>\n",
       "      <td>18.45</td>\n",
       "      <td>672</td>\n",
       "      <td>5940.041667</td>\n",
       "      <td>7094</td>\n",
       "      <td>51.4</td>\n",
       "      <td>0</td>\n",
       "      <td>0</td>\n",
       "      <td>0</td>\n",
       "      <td>0</td>\n",
       "      <td>0</td>\n",
       "      <td>0</td>\n",
       "      <td>0</td>\n",
       "      <td>1</td>\n",
       "      <td>0</td>\n",
       "    </tr>\n",
       "    <tr>\n",
       "      <th>2969</th>\n",
       "      <td>0.1379</td>\n",
       "      <td>340.76</td>\n",
       "      <td>10.491274</td>\n",
       "      <td>12.30</td>\n",
       "      <td>732</td>\n",
       "      <td>8130.958333</td>\n",
       "      <td>6729</td>\n",
       "      <td>97.5</td>\n",
       "      <td>1</td>\n",
       "      <td>0</td>\n",
       "      <td>0</td>\n",
       "      <td>0</td>\n",
       "      <td>0</td>\n",
       "      <td>0</td>\n",
       "      <td>1</td>\n",
       "      <td>0</td>\n",
       "      <td>0</td>\n",
       "    </tr>\n",
       "    <tr>\n",
       "      <th>4196</th>\n",
       "      <td>0.1392</td>\n",
       "      <td>682.74</td>\n",
       "      <td>11.338572</td>\n",
       "      <td>20.03</td>\n",
       "      <td>707</td>\n",
       "      <td>9359.958333</td>\n",
       "      <td>27584</td>\n",
       "      <td>54.8</td>\n",
       "      <td>1</td>\n",
       "      <td>0</td>\n",
       "      <td>0</td>\n",
       "      <td>1</td>\n",
       "      <td>0</td>\n",
       "      <td>0</td>\n",
       "      <td>0</td>\n",
       "      <td>0</td>\n",
       "      <td>0</td>\n",
       "    </tr>\n",
       "    <tr>\n",
       "      <th>1832</th>\n",
       "      <td>0.1253</td>\n",
       "      <td>167.34</td>\n",
       "      <td>11.302204</td>\n",
       "      <td>15.21</td>\n",
       "      <td>677</td>\n",
       "      <td>5160.000000</td>\n",
       "      <td>1015</td>\n",
       "      <td>25.4</td>\n",
       "      <td>0</td>\n",
       "      <td>0</td>\n",
       "      <td>0</td>\n",
       "      <td>0</td>\n",
       "      <td>0</td>\n",
       "      <td>0</td>\n",
       "      <td>0</td>\n",
       "      <td>0</td>\n",
       "      <td>0</td>\n",
       "    </tr>\n",
       "    <tr>\n",
       "      <th>2460</th>\n",
       "      <td>0.1316</td>\n",
       "      <td>472.79</td>\n",
       "      <td>11.440355</td>\n",
       "      <td>19.24</td>\n",
       "      <td>717</td>\n",
       "      <td>14760.000000</td>\n",
       "      <td>40761</td>\n",
       "      <td>65.6</td>\n",
       "      <td>0</td>\n",
       "      <td>0</td>\n",
       "      <td>0</td>\n",
       "      <td>1</td>\n",
       "      <td>0</td>\n",
       "      <td>0</td>\n",
       "      <td>0</td>\n",
       "      <td>0</td>\n",
       "      <td>0</td>\n",
       "    </tr>\n",
       "  </tbody>\n",
       "</table>\n",
       "</div>"
      ],
      "text/plain": [
       "      int.rate  installment  log.annual.inc    dti  fico  days.with.cr.line  \\\n",
       "5872    0.1392       136.55       10.668955  18.45   672        5940.041667   \n",
       "2969    0.1379       340.76       10.491274  12.30   732        8130.958333   \n",
       "4196    0.1392       682.74       11.338572  20.03   707        9359.958333   \n",
       "1832    0.1253       167.34       11.302204  15.21   677        5160.000000   \n",
       "2460    0.1316       472.79       11.440355  19.24   717       14760.000000   \n",
       "\n",
       "      revol.bal  revol.util  inq.last.6mths  delinq.2yrs  pub.rec  \\\n",
       "5872       7094        51.4               0            0        0   \n",
       "2969       6729        97.5               1            0        0   \n",
       "4196      27584        54.8               1            0        0   \n",
       "1832       1015        25.4               0            0        0   \n",
       "2460      40761        65.6               0            0        0   \n",
       "\n",
       "      purpose_credit_card  purpose_debt_consolidation  purpose_educational  \\\n",
       "5872                    0                           0                    0   \n",
       "2969                    0                           0                    0   \n",
       "4196                    1                           0                    0   \n",
       "1832                    0                           0                    0   \n",
       "2460                    1                           0                    0   \n",
       "\n",
       "      purpose_home_improvement  purpose_major_purchase  purpose_small_business  \n",
       "5872                         0                       1                       0  \n",
       "2969                         1                       0                       0  \n",
       "4196                         0                       0                       0  \n",
       "1832                         0                       0                       0  \n",
       "2460                         0                       0                       0  "
      ]
     },
     "execution_count": 16,
     "metadata": {},
     "output_type": "execute_result"
    }
   ],
   "source": [
    "X_test.head()"
   ]
  },
  {
   "cell_type": "code",
   "execution_count": 17,
   "metadata": {},
   "outputs": [
    {
     "data": {
      "text/html": [
       "<div>\n",
       "<style scoped>\n",
       "    .dataframe tbody tr th:only-of-type {\n",
       "        vertical-align: middle;\n",
       "    }\n",
       "\n",
       "    .dataframe tbody tr th {\n",
       "        vertical-align: top;\n",
       "    }\n",
       "\n",
       "    .dataframe thead th {\n",
       "        text-align: right;\n",
       "    }\n",
       "</style>\n",
       "<table border=\"1\" class=\"dataframe\">\n",
       "  <thead>\n",
       "    <tr style=\"text-align: right;\">\n",
       "      <th></th>\n",
       "      <th>int.rate</th>\n",
       "      <th>installment</th>\n",
       "      <th>log.annual.inc</th>\n",
       "      <th>dti</th>\n",
       "      <th>fico</th>\n",
       "      <th>days.with.cr.line</th>\n",
       "      <th>revol.bal</th>\n",
       "      <th>revol.util</th>\n",
       "      <th>inq.last.6mths</th>\n",
       "      <th>delinq.2yrs</th>\n",
       "      <th>pub.rec</th>\n",
       "      <th>purpose_credit_card</th>\n",
       "      <th>purpose_debt_consolidation</th>\n",
       "      <th>purpose_educational</th>\n",
       "      <th>purpose_home_improvement</th>\n",
       "      <th>purpose_major_purchase</th>\n",
       "      <th>purpose_small_business</th>\n",
       "    </tr>\n",
       "  </thead>\n",
       "  <tbody>\n",
       "    <tr>\n",
       "      <th>8937</th>\n",
       "      <td>0.1758</td>\n",
       "      <td>539.13</td>\n",
       "      <td>10.657259</td>\n",
       "      <td>9.91</td>\n",
       "      <td>677</td>\n",
       "      <td>931.041667</td>\n",
       "      <td>18208</td>\n",
       "      <td>51.0</td>\n",
       "      <td>3</td>\n",
       "      <td>0</td>\n",
       "      <td>0</td>\n",
       "      <td>0</td>\n",
       "      <td>1</td>\n",
       "      <td>0</td>\n",
       "      <td>0</td>\n",
       "      <td>0</td>\n",
       "      <td>0</td>\n",
       "    </tr>\n",
       "    <tr>\n",
       "      <th>7416</th>\n",
       "      <td>0.1025</td>\n",
       "      <td>485.78</td>\n",
       "      <td>11.736069</td>\n",
       "      <td>14.96</td>\n",
       "      <td>737</td>\n",
       "      <td>8490.000000</td>\n",
       "      <td>8443</td>\n",
       "      <td>43.7</td>\n",
       "      <td>0</td>\n",
       "      <td>0</td>\n",
       "      <td>0</td>\n",
       "      <td>0</td>\n",
       "      <td>1</td>\n",
       "      <td>0</td>\n",
       "      <td>0</td>\n",
       "      <td>0</td>\n",
       "      <td>0</td>\n",
       "    </tr>\n",
       "    <tr>\n",
       "      <th>134</th>\n",
       "      <td>0.1249</td>\n",
       "      <td>70.25</td>\n",
       "      <td>9.433484</td>\n",
       "      <td>14.40</td>\n",
       "      <td>662</td>\n",
       "      <td>1469.000000</td>\n",
       "      <td>458</td>\n",
       "      <td>91.6</td>\n",
       "      <td>1</td>\n",
       "      <td>0</td>\n",
       "      <td>0</td>\n",
       "      <td>0</td>\n",
       "      <td>1</td>\n",
       "      <td>0</td>\n",
       "      <td>0</td>\n",
       "      <td>0</td>\n",
       "      <td>0</td>\n",
       "    </tr>\n",
       "    <tr>\n",
       "      <th>9423</th>\n",
       "      <td>0.1114</td>\n",
       "      <td>328.04</td>\n",
       "      <td>10.308953</td>\n",
       "      <td>10.52</td>\n",
       "      <td>737</td>\n",
       "      <td>2070.041667</td>\n",
       "      <td>7328</td>\n",
       "      <td>21.7</td>\n",
       "      <td>4</td>\n",
       "      <td>0</td>\n",
       "      <td>0</td>\n",
       "      <td>0</td>\n",
       "      <td>1</td>\n",
       "      <td>0</td>\n",
       "      <td>0</td>\n",
       "      <td>0</td>\n",
       "      <td>0</td>\n",
       "    </tr>\n",
       "    <tr>\n",
       "      <th>465</th>\n",
       "      <td>0.0983</td>\n",
       "      <td>136.00</td>\n",
       "      <td>10.778956</td>\n",
       "      <td>11.93</td>\n",
       "      <td>717</td>\n",
       "      <td>6329.041667</td>\n",
       "      <td>19708</td>\n",
       "      <td>37.1</td>\n",
       "      <td>0</td>\n",
       "      <td>1</td>\n",
       "      <td>0</td>\n",
       "      <td>0</td>\n",
       "      <td>1</td>\n",
       "      <td>0</td>\n",
       "      <td>0</td>\n",
       "      <td>0</td>\n",
       "      <td>0</td>\n",
       "    </tr>\n",
       "  </tbody>\n",
       "</table>\n",
       "</div>"
      ],
      "text/plain": [
       "      int.rate  installment  log.annual.inc    dti  fico  days.with.cr.line  \\\n",
       "8937    0.1758       539.13       10.657259   9.91   677         931.041667   \n",
       "7416    0.1025       485.78       11.736069  14.96   737        8490.000000   \n",
       "134     0.1249        70.25        9.433484  14.40   662        1469.000000   \n",
       "9423    0.1114       328.04       10.308953  10.52   737        2070.041667   \n",
       "465     0.0983       136.00       10.778956  11.93   717        6329.041667   \n",
       "\n",
       "      revol.bal  revol.util  inq.last.6mths  delinq.2yrs  pub.rec  \\\n",
       "8937      18208        51.0               3            0        0   \n",
       "7416       8443        43.7               0            0        0   \n",
       "134         458        91.6               1            0        0   \n",
       "9423       7328        21.7               4            0        0   \n",
       "465       19708        37.1               0            1        0   \n",
       "\n",
       "      purpose_credit_card  purpose_debt_consolidation  purpose_educational  \\\n",
       "8937                    0                           1                    0   \n",
       "7416                    0                           1                    0   \n",
       "134                     0                           1                    0   \n",
       "9423                    0                           1                    0   \n",
       "465                     0                           1                    0   \n",
       "\n",
       "      purpose_home_improvement  purpose_major_purchase  purpose_small_business  \n",
       "8937                         0                       0                       0  \n",
       "7416                         0                       0                       0  \n",
       "134                          0                       0                       0  \n",
       "9423                         0                       0                       0  \n",
       "465                          0                       0                       0  "
      ]
     },
     "execution_count": 17,
     "metadata": {},
     "output_type": "execute_result"
    }
   ],
   "source": [
    "X_val.head()"
   ]
  },
  {
   "cell_type": "markdown",
   "metadata": {},
   "source": [
    "### Show the shape of these sets"
   ]
  },
  {
   "cell_type": "code",
   "execution_count": 18,
   "metadata": {},
   "outputs": [
    {
     "name": "stdout",
     "output_type": "stream",
     "text": [
      "Shape of validation set: (1437, 17)\n",
      "Shape of test set: (1437, 17)\n",
      "Shape of training set: (6704, 17)\n"
     ]
    }
   ],
   "source": [
    "print(\"Shape of validation set:\", X_val.shape)\n",
    "print(\"Shape of test set:\", X_test.shape)\n",
    "print(\"Shape of training set:\", X_train.shape)"
   ]
  },
  {
   "cell_type": "markdown",
   "metadata": {},
   "source": [
    "## Decision Tree model"
   ]
  },
  {
   "cell_type": "code",
   "execution_count": 19,
   "metadata": {},
   "outputs": [],
   "source": [
    "from sklearn.tree import DecisionTreeClassifier"
   ]
  },
  {
   "cell_type": "code",
   "execution_count": 20,
   "metadata": {},
   "outputs": [],
   "source": [
    "dtree = DecisionTreeClassifier(criterion='gini',max_depth=10,min_samples_leaf=5)"
   ]
  },
  {
   "cell_type": "code",
   "execution_count": 21,
   "metadata": {},
   "outputs": [
    {
     "data": {
      "text/plain": [
       "DecisionTreeClassifier(class_weight=None, criterion='gini', max_depth=10,\n",
       "            max_features=None, max_leaf_nodes=None,\n",
       "            min_impurity_decrease=0.0, min_impurity_split=None,\n",
       "            min_samples_leaf=5, min_samples_split=2,\n",
       "            min_weight_fraction_leaf=0.0, presort=False, random_state=None,\n",
       "            splitter='best')"
      ]
     },
     "execution_count": 21,
     "metadata": {},
     "output_type": "execute_result"
    }
   ],
   "source": [
    "dtree.fit(X_train,y_train)"
   ]
  },
  {
   "cell_type": "markdown",
   "metadata": {},
   "source": [
    "### Predictions and evaluation"
   ]
  },
  {
   "cell_type": "code",
   "execution_count": 22,
   "metadata": {},
   "outputs": [],
   "source": [
    "predictions = dtree.predict(X_val)"
   ]
  },
  {
   "cell_type": "code",
   "execution_count": 23,
   "metadata": {},
   "outputs": [],
   "source": [
    "from sklearn.metrics import accuracy_score\n",
    "from sklearn.metrics import f1_score"
   ]
  },
  {
   "cell_type": "code",
   "execution_count": 24,
   "metadata": {},
   "outputs": [
    {
     "name": "stdout",
     "output_type": "stream",
     "text": [
      "0.8107167710508003\n"
     ]
    }
   ],
   "source": [
    "score1=accuracy_score(y_val,predictions)\n",
    "print(score1)"
   ]
  },
  {
   "cell_type": "markdown",
   "metadata": {},
   "source": [
    "### Varying hyperparameters: _Pruning_ the tree\n",
    "<p style=\"font-size:16px;font-family:cambria\">\n",
    "**Pruning** is important to increase the robustness of a decision tree classifier i.e. increase its chance of performing better with unseen test data. \n",
    "<p style=\"font-size:16px;font-family:cambria\">\n",
    "One way to prune the tree is to not let it grow indefinitely. We test this by setting the `max_depth` parameter. As expected, we see an increase in the validation set accuracy, accompanied by a decrease in training set accuracy for smaller trees. This means that for this dataset, a **deeper tree clearly overfits the data** and a shallow tree of depth 2/3 should be considered. \n",
    "<p style=\"font-size:16px;font-family:cambria\">\n",
    "Similarly, we tweak the `min_samples_leaf` parameter to limit overfitting. If we allow a single leaf per node then the algorithm will fit to the noise of the data down to a single data point (splitting data on as low as two points) thereby making the decision boundary extremely nonlinear and vulnarable to the nosie."
   ]
  },
  {
   "cell_type": "markdown",
   "metadata": {},
   "source": [
    "#### Varying *`max_depth`*"
   ]
  },
  {
   "cell_type": "code",
   "execution_count": 25,
   "metadata": {},
   "outputs": [],
   "source": [
    "val_acc_max_depth=[]\n",
    "val_f1_max_depth=[]\n",
    "train_acc_max_depth=[]\n",
    "train_f1_max_depth=[]\n",
    "for i in range(3,21):\n",
    "    dtree = DecisionTreeClassifier(criterion='gini',max_depth=i,min_samples_leaf=1)\n",
    "    dtree.fit(X_train,y_train)\n",
    "    pred_train = dtree.predict(X_train)\n",
    "    pred_val = dtree.predict(X_val)\n",
    "    acc_train=accuracy_score(y_train,pred_train)\n",
    "    f1_train = f1_score(y_train,pred_train,average='micro')\n",
    "    acc_val=accuracy_score(y_val,pred_val)\n",
    "    f1_val = f1_score(y_val,pred_val,average='micro')\n",
    "    train_acc_max_depth.append(acc_train)\n",
    "    train_f1_max_depth.append(f1_train)\n",
    "    val_acc_max_depth.append(acc_val)\n",
    "    val_f1_max_depth.append(f1_val)"
   ]
  },
  {
   "cell_type": "code",
   "execution_count": 26,
   "metadata": {},
   "outputs": [
    {
     "data": {
      "image/png": "[encoded data removed]",
      "text/plain": [
       "<Figure size 432x288 with 1 Axes>"
      ]
     },
     "metadata": {},
     "output_type": "display_data"
    }
   ],
   "source": [
    "plt.plot(range(3,21),train_acc_max_depth,c='red')\n",
    "plt.plot(range(3,21),val_acc_max_depth,c='blue')\n",
    "plt.legend([\"Training\",\"Validation\"],fontsize=15)\n",
    "plt.grid(True)\n",
    "plt.xticks(fontsize=16)\n",
    "plt.yticks(fontsize=16)\n",
    "plt.xlabel(\"Max depth of the decision tree\", fontsize=16)\n",
    "plt.ylabel(\"Accuracy\",fontsize=16)\n",
    "plt.ylim(0.7,1.0)\n",
    "plt.show()"
   ]
  },
  {
   "cell_type": "markdown",
   "metadata": {},
   "source": [
    "#### Varying *`min_samples_leaf`* with *`max_depth`* = 20"
   ]
  },
  {
   "cell_type": "code",
   "execution_count": 27,
   "metadata": {},
   "outputs": [],
   "source": [
    "val_acc_min_samples_leaf=[]\n",
    "val_f1_min_samples_leaf=[]\n",
    "train_acc_min_samples_leaf=[]\n",
    "train_f1_min_samples_leaf=[]\n",
    "for i in range(1,41):\n",
    "    dtree = DecisionTreeClassifier(criterion='gini',max_depth=20,min_samples_leaf=i)\n",
    "    dtree.fit(X_train,y_train)\n",
    "    pred_train = dtree.predict(X_train)\n",
    "    pred_val = dtree.predict(X_val)\n",
    "    acc_train=accuracy_score(y_train,pred_train)\n",
    "    f1_train = f1_score(y_train,pred_train,average='micro')\n",
    "    acc_val=accuracy_score(y_val,pred_val)\n",
    "    f1_val = f1_score(y_val,pred_val,average='micro')\n",
    "    train_acc_min_samples_leaf.append(acc_train)\n",
    "    train_f1_min_samples_leaf.append(f1_train)\n",
    "    val_acc_min_samples_leaf.append(acc_val)\n",
    "    val_f1_min_samples_leaf.append(f1_val)"
   ]
  },
  {
   "cell_type": "code",
   "execution_count": 28,
   "metadata": {},
   "outputs": [
    {
     "data": {
      "image/png": "[encoded data removed]",
      "text/plain": [
       "<Figure size 432x288 with 1 Axes>"
      ]
     },
     "metadata": {},
     "output_type": "display_data"
    }
   ],
   "source": [
    "plt.plot(range(1,41),train_acc_min_samples_leaf,c='red')\n",
    "plt.plot(range(1,41),val_acc_min_samples_leaf,c='blue')\n",
    "plt.legend([\"Training\",\"Validation\"],fontsize=15)\n",
    "plt.grid(True)\n",
    "plt.xticks(fontsize=16)\n",
    "plt.yticks(fontsize=16)\n",
    "plt.xlabel(\"Minimum samples/leaf (max depth=20)\", fontsize=16)\n",
    "plt.ylabel(\"Accuracy\",fontsize=16)\n",
    "plt.ylim(0.7,1.0)\n",
    "plt.show()"
   ]
  },
  {
   "cell_type": "markdown",
   "metadata": {},
   "source": [
    "### LEARNING CURVE: Varying training set size\n",
    "<p style=\"font-size:16px;font-family:cambria\">\n",
    "We run a loop over a range of fractions (10% to 100%) and **sample random points up to that fraction from the original data set**. \n",
    "<p style=\"font-size:16px;font-family:cambria\">\n",
    "For each iteration, we run a decision tree model and **calculate prediction accuracy over the sampled training data and original validation set**. \n",
    "<p style=\"font-size:16px;font-family:cambria\">\n",
    "The plot shows that for this dataset and a sensible choice of hyperparameters, the accuracy is not a strong function of training data size down to small fraction of the original data. This means, in principle, **we can run the algorithm on a much smaller model than using all the data and still create decent predictions.**"
   ]
  },
  {
   "cell_type": "code",
   "execution_count": 29,
   "metadata": {},
   "outputs": [
    {
     "name": "stdout",
     "output_type": "stream",
     "text": [
      "Done for: 10% training set size\n",
      "Done for: 20% training set size\n",
      "Done for: 30% training set size\n",
      "Done for: 40% training set size\n",
      "Done for: 50% training set size\n",
      "Done for: 60% training set size\n",
      "Done for: 70% training set size\n",
      "Done for: 80% training set size\n",
      "Done for: 90% training set size\n",
      "Done for: 100% training set size\n"
     ]
    }
   ],
   "source": [
    "val_acc_train_size=[]\n",
    "val_f1_train_size=[]\n",
    "train_acc_train_size=[]\n",
    "train_f1_train_size=[]\n",
    "val_range=(10,101,1)\n",
    "for i in range(val_range[0],val_range[1],val_range[2]):\n",
    "    # Fitting\n",
    "    percentage=i*0.01\n",
    "    dtree = DecisionTreeClassifier(criterion='gini',max_depth=20,min_samples_leaf=20)\n",
    "    # Sampling\n",
    "    df_sampled = df_final.sample(frac=percentage)\n",
    "    X_train_sampled=df_sampled.drop('not.fully.paid',axis=1)\n",
    "    y_train_sampled=df_sampled['not.fully.paid']\n",
    "    # Fitting and Predictions\n",
    "    dtree.fit(X_train_sampled,y_train_sampled)\n",
    "    pred_train = dtree.predict(X_train_sampled)\n",
    "    pred_val = dtree.predict(X_val)\n",
    "    # Accuracy and F1 score\n",
    "    acc_train=accuracy_score(y_train_sampled,pred_train)\n",
    "    f1_train = f1_score(y_train_sampled,pred_train,average='micro')\n",
    "    acc_val=accuracy_score(y_val,pred_val)\n",
    "    f1_val = f1_score(y_val,pred_val,average='micro')\n",
    "    # Appending to the lists\n",
    "    train_acc_train_size.append(acc_train)\n",
    "    train_f1_train_size.append(f1_train)\n",
    "    val_acc_train_size.append(acc_val)\n",
    "    val_f1_train_size.append(f1_val)\n",
    "    if i%10==0:\n",
    "        print(f\"Done for: {i}% training set size\")"
   ]
  },
  {
   "cell_type": "code",
   "execution_count": 30,
   "metadata": {},
   "outputs": [
    {
     "data": {
      "image/png": "[encoded data removed]",
      "text/plain": [
       "<Figure size 432x288 with 1 Axes>"
      ]
     },
     "metadata": {},
     "output_type": "display_data"
    }
   ],
   "source": [
    "plt.plot(range(val_range[0],val_range[1],val_range[2]),train_acc_train_size,c='red')\n",
    "plt.plot(range(val_range[0],val_range[1],val_range[2]),val_acc_train_size,c='blue')\n",
    "plt.legend([\"Training\",\"Validation\"],fontsize=15)\n",
    "plt.grid(True)\n",
    "plt.xticks(fontsize=16)\n",
    "plt.yticks(fontsize=16)\n",
    "plt.xlabel(\"Percentage of training data fed\", fontsize=16)\n",
    "plt.ylabel(\"Accuracy\",fontsize=16)\n",
    "plt.ylim(0.75,1.0)\n",
    "plt.show()"
   ]
  },
  {
   "cell_type": "markdown",
   "metadata": {},
   "source": [
    "## Boosting algorithm model\n",
    "<p style=\"font-size:16px;font-family:cambria\">\n",
    "We use **`AdaBoost`** meta-learner. Adaboost is one of the earliest meta-learning algorithms, formulated by Yoav Freund and Robert Schapire, who won the 2003 Gödel Prize for their work."
   ]
  },
  {
   "cell_type": "code",
   "execution_count": 31,
   "metadata": {},
   "outputs": [],
   "source": [
    "from sklearn.ensemble import AdaBoostClassifier"
   ]
  },
  {
   "cell_type": "code",
   "execution_count": 32,
   "metadata": {},
   "outputs": [],
   "source": [
    "adaboost=AdaBoostClassifier(DecisionTreeClassifier(min_samples_leaf=2),\n",
    "                            n_estimators=20,learning_rate=0.01)"
   ]
  },
  {
   "cell_type": "code",
   "execution_count": 33,
   "metadata": {},
   "outputs": [
    {
     "data": {
      "text/plain": [
       "AdaBoostClassifier(algorithm='SAMME.R',\n",
       "          base_estimator=DecisionTreeClassifier(class_weight=None, criterion='gini', max_depth=None,\n",
       "            max_features=None, max_leaf_nodes=None,\n",
       "            min_impurity_decrease=0.0, min_impurity_split=None,\n",
       "            min_samples_leaf=2, min_samples_split=2,\n",
       "            min_weight_fraction_leaf=0.0, presort=False, random_state=None,\n",
       "            splitter='best'),\n",
       "          learning_rate=0.01, n_estimators=20, random_state=None)"
      ]
     },
     "execution_count": 33,
     "metadata": {},
     "output_type": "execute_result"
    }
   ],
   "source": [
    "adaboost.fit(X_train,y_train)"
   ]
  },
  {
   "cell_type": "markdown",
   "metadata": {},
   "source": [
    "### Predictions and evaluation"
   ]
  },
  {
   "cell_type": "code",
   "execution_count": 34,
   "metadata": {},
   "outputs": [],
   "source": [
    "predictions = adaboost.predict(X_val)"
   ]
  },
  {
   "cell_type": "code",
   "execution_count": 35,
   "metadata": {},
   "outputs": [
    {
     "name": "stdout",
     "output_type": "stream",
     "text": [
      "0.81419624217119\n"
     ]
    }
   ],
   "source": [
    "score1=accuracy_score(y_val,predictions)\n",
    "print(score1)"
   ]
  },
  {
   "cell_type": "markdown",
   "metadata": {},
   "source": [
    "### Varying number of estimators\n",
    "<p style=\"font-size:16px;font-family:cambria\">\n",
    "Adaboost works by combining multiple ‘weak learners’ and dynamically updating the weights of those learners and training data depending on whether in a given pass, those training data was correctly classified or not. Therefore, it is expected that with **increasing number of estimators, training accuracy should reach very high and the validation accuracy also should increase to the point where it hits the irreducible error rate**. \n",
    "<p style=\"font-size:16px;font-family:cambria\">\n",
    "We observe this trend in the result. Also, the biggest different between a meta-learner like Adaboost and a single decision tree is that the **validation accuracy does not drop back sharply with increase in estimators i.e. model complexity.**"
   ]
  },
  {
   "cell_type": "code",
   "execution_count": 36,
   "metadata": {},
   "outputs": [
    {
     "name": "stdout",
     "output_type": "stream",
     "text": [
      "Done for number of trees: 1\n",
      "Done for number of trees: 4\n",
      "Done for number of trees: 7\n",
      "Done for number of trees: 10\n",
      "Done for number of trees: 13\n",
      "Done for number of trees: 16\n",
      "Done for number of trees: 19\n",
      "Done for number of trees: 22\n",
      "Done for number of trees: 25\n",
      "Done for number of trees: 28\n",
      "Done for number of trees: 31\n",
      "Done for number of trees: 34\n",
      "Done for number of trees: 37\n",
      "Done for number of trees: 40\n",
      "Done for number of trees: 43\n",
      "Done for number of trees: 46\n",
      "Done for number of trees: 49\n",
      "Done for number of trees: 52\n"
     ]
    }
   ],
   "source": [
    "val_acc_num_trees=[]\n",
    "val_f1_num_trees=[]\n",
    "train_acc_num_trees=[]\n",
    "train_f1_num_trees=[]\n",
    "val_range=(1,53,3)\n",
    "for i in range(val_range[0],val_range[1],val_range[2]):\n",
    "    # Fitting\n",
    "    adaboost=AdaBoostClassifier(DecisionTreeClassifier(min_samples_leaf=20,max_depth=20),\n",
    "                            n_estimators=i,learning_rate=0.2)\n",
    "    adaboost.fit(X_train,y_train)\n",
    "    pred_train = adaboost.predict(X_train)\n",
    "    pred_val = adaboost.predict(X_val)\n",
    "    # Accuracy and F1 score\n",
    "    acc_train=accuracy_score(y_train,pred_train)\n",
    "    f1_train = f1_score(y_train,pred_train,average='micro')\n",
    "    acc_val=accuracy_score(y_val,pred_val)\n",
    "    f1_val = f1_score(y_val,pred_val,average='micro')\n",
    "    # Appending to the lists\n",
    "    train_acc_num_trees.append(acc_train)\n",
    "    train_f1_num_trees.append(f1_train)\n",
    "    val_acc_num_trees.append(acc_val)\n",
    "    val_f1_num_trees.append(f1_val)\n",
    "    print(f\"Done for number of trees: {i}\")"
   ]
  },
  {
   "cell_type": "code",
   "execution_count": 37,
   "metadata": {},
   "outputs": [
    {
     "data": {
      "image/png": "[encoded data removed]",
      "text/plain": [
       "<Figure size 432x288 with 1 Axes>"
      ]
     },
     "metadata": {},
     "output_type": "display_data"
    }
   ],
   "source": [
    "plt.plot(range(val_range[0],val_range[1],val_range[2]),train_acc_num_trees,c='red')\n",
    "plt.plot(range(val_range[0],val_range[1],val_range[2]),val_acc_num_trees,c='blue')\n",
    "plt.legend([\"Training\",\"Validation\"],fontsize=15)\n",
    "plt.grid(True)\n",
    "plt.xticks(fontsize=16)\n",
    "plt.yticks(fontsize=16)\n",
    "plt.xlabel(\"Number of trees in the meta-estimator\", fontsize=16)\n",
    "plt.ylabel(\"Accuracy\",fontsize=16)\n",
    "plt.ylim(0.7,1.05)\n",
    "plt.show()"
   ]
  },
  {
   "cell_type": "markdown",
   "metadata": {},
   "source": [
    "### LEARNING CURVE: Varying training set size\n",
    "<p style=\"font-size:16px;font-family:cambria\">\n",
    "The learning curve is plotted following the similar process as described above with decision tree. Training accuracy is almost 1.0 for all data set size and validation accuracy approaches training accuracy with increase in the training set size. We used 20 tree estimators for this exercise."
   ]
  },
  {
   "cell_type": "code",
   "execution_count": 38,
   "metadata": {},
   "outputs": [
    {
     "name": "stdout",
     "output_type": "stream",
     "text": [
      "Done for: 10% training set size\n",
      "Done for: 20% training set size\n",
      "Done for: 30% training set size\n"
     ]
    },
    {
     "ename": "KeyboardInterrupt",
     "evalue": "",
     "output_type": "error",
     "traceback": [
      "\u001b[1;31m---------------------------------------------------------------------------\u001b[0m",
      "\u001b[1;31mKeyboardInterrupt\u001b[0m                         Traceback (most recent call last)",
      "\u001b[1;32m<ipython-input-38-a563025248f8>\u001b[0m in \u001b[0;36m<module>\u001b[1;34m\u001b[0m\n\u001b[0;32m     14\u001b[0m     \u001b[0my_train_sampled\u001b[0m\u001b[1;33m=\u001b[0m\u001b[0mdf_sampled\u001b[0m\u001b[1;33m[\u001b[0m\u001b[1;34m'not.fully.paid'\u001b[0m\u001b[1;33m]\u001b[0m\u001b[1;33m\u001b[0m\u001b[1;33m\u001b[0m\u001b[0m\n\u001b[0;32m     15\u001b[0m     \u001b[1;31m# Fitting and prediction\u001b[0m\u001b[1;33m\u001b[0m\u001b[1;33m\u001b[0m\u001b[1;33m\u001b[0m\u001b[0m\n\u001b[1;32m---> 16\u001b[1;33m     \u001b[0madaboost\u001b[0m\u001b[1;33m.\u001b[0m\u001b[0mfit\u001b[0m\u001b[1;33m(\u001b[0m\u001b[0mX_train_sampled\u001b[0m\u001b[1;33m,\u001b[0m\u001b[0my_train_sampled\u001b[0m\u001b[1;33m)\u001b[0m\u001b[1;33m\u001b[0m\u001b[1;33m\u001b[0m\u001b[0m\n\u001b[0m\u001b[0;32m     17\u001b[0m     \u001b[0mpred_train\u001b[0m \u001b[1;33m=\u001b[0m \u001b[0madaboost\u001b[0m\u001b[1;33m.\u001b[0m\u001b[0mpredict\u001b[0m\u001b[1;33m(\u001b[0m\u001b[0mX_train_sampled\u001b[0m\u001b[1;33m)\u001b[0m\u001b[1;33m\u001b[0m\u001b[1;33m\u001b[0m\u001b[0m\n\u001b[0;32m     18\u001b[0m     \u001b[0mpred_val\u001b[0m \u001b[1;33m=\u001b[0m \u001b[0madaboost\u001b[0m\u001b[1;33m.\u001b[0m\u001b[0mpredict\u001b[0m\u001b[1;33m(\u001b[0m\u001b[0mX_val\u001b[0m\u001b[1;33m)\u001b[0m\u001b[1;33m\u001b[0m\u001b[1;33m\u001b[0m\u001b[0m\n",
      "\u001b[1;32m~\\Anaconda3\\lib\\site-packages\\sklearn\\ensemble\\weight_boosting.py\u001b[0m in \u001b[0;36mfit\u001b[1;34m(self, X, y, sample_weight)\u001b[0m\n\u001b[0;32m    410\u001b[0m \u001b[1;33m\u001b[0m\u001b[0m\n\u001b[0;32m    411\u001b[0m         \u001b[1;31m# Fit\u001b[0m\u001b[1;33m\u001b[0m\u001b[1;33m\u001b[0m\u001b[1;33m\u001b[0m\u001b[0m\n\u001b[1;32m--> 412\u001b[1;33m         \u001b[1;32mreturn\u001b[0m \u001b[0msuper\u001b[0m\u001b[1;33m(\u001b[0m\u001b[0mAdaBoostClassifier\u001b[0m\u001b[1;33m,\u001b[0m \u001b[0mself\u001b[0m\u001b[1;33m)\u001b[0m\u001b[1;33m.\u001b[0m\u001b[0mfit\u001b[0m\u001b[1;33m(\u001b[0m\u001b[0mX\u001b[0m\u001b[1;33m,\u001b[0m \u001b[0my\u001b[0m\u001b[1;33m,\u001b[0m \u001b[0msample_weight\u001b[0m\u001b[1;33m)\u001b[0m\u001b[1;33m\u001b[0m\u001b[1;33m\u001b[0m\u001b[0m\n\u001b[0m\u001b[0;32m    413\u001b[0m \u001b[1;33m\u001b[0m\u001b[0m\n\u001b[0;32m    414\u001b[0m     \u001b[1;32mdef\u001b[0m \u001b[0m_validate_estimator\u001b[0m\u001b[1;33m(\u001b[0m\u001b[0mself\u001b[0m\u001b[1;33m)\u001b[0m\u001b[1;33m:\u001b[0m\u001b[1;33m\u001b[0m\u001b[1;33m\u001b[0m\u001b[0m\n",
      "\u001b[1;32m~\\Anaconda3\\lib\\site-packages\\sklearn\\ensemble\\weight_boosting.py\u001b[0m in \u001b[0;36mfit\u001b[1;34m(self, X, y, sample_weight)\u001b[0m\n\u001b[0;32m    141\u001b[0m                 \u001b[0mX\u001b[0m\u001b[1;33m,\u001b[0m \u001b[0my\u001b[0m\u001b[1;33m,\u001b[0m\u001b[1;33m\u001b[0m\u001b[1;33m\u001b[0m\u001b[0m\n\u001b[0;32m    142\u001b[0m                 \u001b[0msample_weight\u001b[0m\u001b[1;33m,\u001b[0m\u001b[1;33m\u001b[0m\u001b[1;33m\u001b[0m\u001b[0m\n\u001b[1;32m--> 143\u001b[1;33m                 random_state)\n\u001b[0m\u001b[0;32m    144\u001b[0m \u001b[1;33m\u001b[0m\u001b[0m\n\u001b[0;32m    145\u001b[0m             \u001b[1;31m# Early termination\u001b[0m\u001b[1;33m\u001b[0m\u001b[1;33m\u001b[0m\u001b[1;33m\u001b[0m\u001b[0m\n",
      "\u001b[1;32m~\\Anaconda3\\lib\\site-packages\\sklearn\\ensemble\\weight_boosting.py\u001b[0m in \u001b[0;36m_boost\u001b[1;34m(self, iboost, X, y, sample_weight, random_state)\u001b[0m\n\u001b[0;32m    470\u001b[0m         \"\"\"\n\u001b[0;32m    471\u001b[0m         \u001b[1;32mif\u001b[0m \u001b[0mself\u001b[0m\u001b[1;33m.\u001b[0m\u001b[0malgorithm\u001b[0m \u001b[1;33m==\u001b[0m \u001b[1;34m'SAMME.R'\u001b[0m\u001b[1;33m:\u001b[0m\u001b[1;33m\u001b[0m\u001b[1;33m\u001b[0m\u001b[0m\n\u001b[1;32m--> 472\u001b[1;33m             \u001b[1;32mreturn\u001b[0m \u001b[0mself\u001b[0m\u001b[1;33m.\u001b[0m\u001b[0m_boost_real\u001b[0m\u001b[1;33m(\u001b[0m\u001b[0miboost\u001b[0m\u001b[1;33m,\u001b[0m \u001b[0mX\u001b[0m\u001b[1;33m,\u001b[0m \u001b[0my\u001b[0m\u001b[1;33m,\u001b[0m \u001b[0msample_weight\u001b[0m\u001b[1;33m,\u001b[0m \u001b[0mrandom_state\u001b[0m\u001b[1;33m)\u001b[0m\u001b[1;33m\u001b[0m\u001b[1;33m\u001b[0m\u001b[0m\n\u001b[0m\u001b[0;32m    473\u001b[0m \u001b[1;33m\u001b[0m\u001b[0m\n\u001b[0;32m    474\u001b[0m         \u001b[1;32melse\u001b[0m\u001b[1;33m:\u001b[0m  \u001b[1;31m# elif self.algorithm == \"SAMME\":\u001b[0m\u001b[1;33m\u001b[0m\u001b[1;33m\u001b[0m\u001b[0m\n",
      "\u001b[1;32m~\\Anaconda3\\lib\\site-packages\\sklearn\\ensemble\\weight_boosting.py\u001b[0m in \u001b[0;36m_boost_real\u001b[1;34m(self, iboost, X, y, sample_weight, random_state)\u001b[0m\n\u001b[0;32m    480\u001b[0m         \u001b[0mestimator\u001b[0m \u001b[1;33m=\u001b[0m \u001b[0mself\u001b[0m\u001b[1;33m.\u001b[0m\u001b[0m_make_estimator\u001b[0m\u001b[1;33m(\u001b[0m\u001b[0mrandom_state\u001b[0m\u001b[1;33m=\u001b[0m\u001b[0mrandom_state\u001b[0m\u001b[1;33m)\u001b[0m\u001b[1;33m\u001b[0m\u001b[1;33m\u001b[0m\u001b[0m\n\u001b[0;32m    481\u001b[0m \u001b[1;33m\u001b[0m\u001b[0m\n\u001b[1;32m--> 482\u001b[1;33m         \u001b[0mestimator\u001b[0m\u001b[1;33m.\u001b[0m\u001b[0mfit\u001b[0m\u001b[1;33m(\u001b[0m\u001b[0mX\u001b[0m\u001b[1;33m,\u001b[0m \u001b[0my\u001b[0m\u001b[1;33m,\u001b[0m \u001b[0msample_weight\u001b[0m\u001b[1;33m=\u001b[0m\u001b[0msample_weight\u001b[0m\u001b[1;33m)\u001b[0m\u001b[1;33m\u001b[0m\u001b[1;33m\u001b[0m\u001b[0m\n\u001b[0m\u001b[0;32m    483\u001b[0m \u001b[1;33m\u001b[0m\u001b[0m\n\u001b[0;32m    484\u001b[0m         \u001b[0my_predict_proba\u001b[0m \u001b[1;33m=\u001b[0m \u001b[0mestimator\u001b[0m\u001b[1;33m.\u001b[0m\u001b[0mpredict_proba\u001b[0m\u001b[1;33m(\u001b[0m\u001b[0mX\u001b[0m\u001b[1;33m)\u001b[0m\u001b[1;33m\u001b[0m\u001b[1;33m\u001b[0m\u001b[0m\n",
      "\u001b[1;32m~\\Anaconda3\\lib\\site-packages\\sklearn\\tree\\tree.py\u001b[0m in \u001b[0;36mfit\u001b[1;34m(self, X, y, sample_weight, check_input, X_idx_sorted)\u001b[0m\n\u001b[0;32m    799\u001b[0m             \u001b[0msample_weight\u001b[0m\u001b[1;33m=\u001b[0m\u001b[0msample_weight\u001b[0m\u001b[1;33m,\u001b[0m\u001b[1;33m\u001b[0m\u001b[1;33m\u001b[0m\u001b[0m\n\u001b[0;32m    800\u001b[0m             \u001b[0mcheck_input\u001b[0m\u001b[1;33m=\u001b[0m\u001b[0mcheck_input\u001b[0m\u001b[1;33m,\u001b[0m\u001b[1;33m\u001b[0m\u001b[1;33m\u001b[0m\u001b[0m\n\u001b[1;32m--> 801\u001b[1;33m             X_idx_sorted=X_idx_sorted)\n\u001b[0m\u001b[0;32m    802\u001b[0m         \u001b[1;32mreturn\u001b[0m \u001b[0mself\u001b[0m\u001b[1;33m\u001b[0m\u001b[1;33m\u001b[0m\u001b[0m\n\u001b[0;32m    803\u001b[0m \u001b[1;33m\u001b[0m\u001b[0m\n",
      "\u001b[1;32m~\\Anaconda3\\lib\\site-packages\\sklearn\\tree\\tree.py\u001b[0m in \u001b[0;36mfit\u001b[1;34m(self, X, y, sample_weight, check_input, X_idx_sorted)\u001b[0m\n\u001b[0;32m    364\u001b[0m                                            min_impurity_split)\n\u001b[0;32m    365\u001b[0m \u001b[1;33m\u001b[0m\u001b[0m\n\u001b[1;32m--> 366\u001b[1;33m         \u001b[0mbuilder\u001b[0m\u001b[1;33m.\u001b[0m\u001b[0mbuild\u001b[0m\u001b[1;33m(\u001b[0m\u001b[0mself\u001b[0m\u001b[1;33m.\u001b[0m\u001b[0mtree_\u001b[0m\u001b[1;33m,\u001b[0m \u001b[0mX\u001b[0m\u001b[1;33m,\u001b[0m \u001b[0my\u001b[0m\u001b[1;33m,\u001b[0m \u001b[0msample_weight\u001b[0m\u001b[1;33m,\u001b[0m \u001b[0mX_idx_sorted\u001b[0m\u001b[1;33m)\u001b[0m\u001b[1;33m\u001b[0m\u001b[1;33m\u001b[0m\u001b[0m\n\u001b[0m\u001b[0;32m    367\u001b[0m \u001b[1;33m\u001b[0m\u001b[0m\n\u001b[0;32m    368\u001b[0m         \u001b[1;32mif\u001b[0m \u001b[0mself\u001b[0m\u001b[1;33m.\u001b[0m\u001b[0mn_outputs_\u001b[0m \u001b[1;33m==\u001b[0m \u001b[1;36m1\u001b[0m\u001b[1;33m:\u001b[0m\u001b[1;33m\u001b[0m\u001b[1;33m\u001b[0m\u001b[0m\n",
      "\u001b[1;31mKeyboardInterrupt\u001b[0m: "
     ]
    }
   ],
   "source": [
    "val_acc_train_size=[]\n",
    "val_f1_train_size=[]\n",
    "train_acc_train_size=[]\n",
    "train_f1_train_size=[]\n",
    "val_range=(10,101,1)\n",
    "for i in range(val_range[0],val_range[1],val_range[2]):\n",
    "    # Model\n",
    "    percentage=i*0.01\n",
    "    adaboost = AdaBoostClassifier(DecisionTreeClassifier(min_samples_leaf=20,max_depth=20),\n",
    "                            n_estimators=20,learning_rate=0.2)\n",
    "    # Sampling\n",
    "    df_sampled = df_final.sample(frac=percentage)\n",
    "    X_train_sampled=df_sampled.drop('not.fully.paid',axis=1)\n",
    "    y_train_sampled=df_sampled['not.fully.paid']\n",
    "    # Fitting and prediction\n",
    "    adaboost.fit(X_train_sampled,y_train_sampled)\n",
    "    pred_train = adaboost.predict(X_train_sampled)\n",
    "    pred_val = adaboost.predict(X_val)\n",
    "    # Accuracy and F1 score\n",
    "    acc_train=accuracy_score(y_train_sampled,pred_train)\n",
    "    f1_train = f1_score(y_train_sampled,pred_train,average='micro')\n",
    "    acc_val=accuracy_score(y_val,pred_val)\n",
    "    f1_val = f1_score(y_val,pred_val,average='micro')\n",
    "    # Appending to the lists\n",
    "    train_acc_train_size.append(acc_train)\n",
    "    train_f1_train_size.append(f1_train)\n",
    "    val_acc_train_size.append(acc_val)\n",
    "    val_f1_train_size.append(f1_val)\n",
    "    \n",
    "    if i%10==0:\n",
    "        print(f\"Done for: {i}% training set size\")"
   ]
  },
  {
   "cell_type": "code",
   "execution_count": null,
   "metadata": {},
   "outputs": [],
   "source": [
    "plt.plot(range(val_range[0],val_range[1],val_range[2]),train_acc_train_size,c='red')\n",
    "plt.plot(range(val_range[0],val_range[1],val_range[2]),val_acc_train_size,c='blue')\n",
    "plt.legend([\"Training\",\"Validation\"],fontsize=15)\n",
    "plt.grid(True)\n",
    "plt.xticks(fontsize=16)\n",
    "plt.yticks(fontsize=16)\n",
    "plt.xlabel(\"Percentage of training data fed\", fontsize=16)\n",
    "plt.ylabel(\"Accuracy\",fontsize=16)\n",
    "plt.ylim(0.75,1.05)\n",
    "plt.show()"
   ]
  },
  {
   "cell_type": "markdown",
   "metadata": {},
   "source": [
    "## SVM model\n",
    "<p style=\"font-size:16px;font-family:cambria\">\n",
    "SVM is one of the most widely used non-probabilistic binary classifiers. We use `svc` method from Scikit-learn for this exercise. \n",
    "<p style=\"font-size:16px;font-family:cambria\">\n",
    "But, SVM requires normalizing the data to the same scale. So, we use `StandardScaler` function to pre-process the data to the same scale and then apply SVM. Default model shows ~ 83% accuracy on the validation set."
   ]
  },
  {
   "cell_type": "markdown",
   "metadata": {},
   "source": [
    "### Scaling the data using `StandardScaler`"
   ]
  },
  {
   "cell_type": "code",
   "execution_count": null,
   "metadata": {},
   "outputs": [],
   "source": [
    "from sklearn.preprocessing import StandardScaler"
   ]
  },
  {
   "cell_type": "code",
   "execution_count": null,
   "metadata": {},
   "outputs": [],
   "source": [
    "X_train_scaled=StandardScaler().fit_transform(X_train)\n",
    "X_val_scaled=StandardScaler().fit_transform(X_val)"
   ]
  },
  {
   "cell_type": "code",
   "execution_count": null,
   "metadata": {},
   "outputs": [],
   "source": [
    "from sklearn.svm import SVC"
   ]
  },
  {
   "cell_type": "code",
   "execution_count": null,
   "metadata": {},
   "outputs": [],
   "source": [
    "svc_clf=SVC(kernel=\"poly\", C=1,degree=2)"
   ]
  },
  {
   "cell_type": "code",
   "execution_count": null,
   "metadata": {},
   "outputs": [],
   "source": [
    "svc_clf.fit(X_train_scaled,y_train)"
   ]
  },
  {
   "cell_type": "markdown",
   "metadata": {},
   "source": [
    "### Predictions and evaluation"
   ]
  },
  {
   "cell_type": "code",
   "execution_count": null,
   "metadata": {},
   "outputs": [],
   "source": [
    "predictions=svc_clf.predict(X_val_scaled)"
   ]
  },
  {
   "cell_type": "code",
   "execution_count": null,
   "metadata": {},
   "outputs": [],
   "source": [
    "score1=accuracy_score(y_val,predictions)\n",
    "print(score1)"
   ]
  },
  {
   "cell_type": "markdown",
   "metadata": {},
   "source": [
    "### Varying degree of polynomial kernel\n",
    "<p style=\"font-size:16px;font-family:cambria\">\n",
    "We play with polynomial and rbf (radial basis function i.e. Gaussian) kernels. The degree of polynomial does not seem to improve validation accuracy i.e. a lower degree kernel or even a linear classifier is good enough. In fact, the result shows the **familiar gap between training and validation accuracy as the model complexity (degree) increases.**\n",
    "<p style=\"font-size:16px;font-family:cambria\">\n",
    "A higher degree kernel surely overfits the training data. Further, we also examine the effect of regularization parameter C and observe that this gap saturates quicker for a large value of C. This means that, **increasing strength of regularization imposes more penalty on a complex, higher degree model in terms of validation accuracy while the training accuracy can saturate to 1.0 due to over-fitting and not depending on the regularization.**"
   ]
  },
  {
   "cell_type": "code",
   "execution_count": null,
   "metadata": {},
   "outputs": [],
   "source": [
    "val_acc_degree=[]\n",
    "val_f1_degree=[]\n",
    "train_acc_degree=[]\n",
    "train_f1_degree=[]\n",
    "val_range=(1,11,1)\n",
    "for i in range(val_range[0],val_range[1],val_range[2]):\n",
    "    # Fitting\n",
    "    svc_clf=SVC(kernel=\"poly\", C=0.01,degree=i)\n",
    "    svc_clf.fit(X_train_scaled,y_train)\n",
    "    pred_train = svc_clf.predict(X_train_scaled)\n",
    "    pred_val = svc_clf.predict(X_val_scaled)\n",
    "    # Accuracy and F1 score\n",
    "    acc_train=accuracy_score(y_train,pred_train)\n",
    "    f1_train = f1_score(y_train,pred_train,average='micro')\n",
    "    acc_val=accuracy_score(y_val,pred_val)\n",
    "    f1_val = f1_score(y_val,pred_val,average='micro')\n",
    "    # Appending to the lists\n",
    "    train_acc_degree.append(acc_train)\n",
    "    train_f1_degree.append(f1_train)\n",
    "    val_acc_degree.append(acc_val)\n",
    "    val_f1_degree.append(f1_val)\n",
    "    print(f\"Done for number of degree: {i}\")"
   ]
  },
  {
   "cell_type": "code",
   "execution_count": null,
   "metadata": {},
   "outputs": [],
   "source": [
    "plt.plot(range(val_range[0],val_range[1],val_range[2]),train_acc_degree,c='red')\n",
    "plt.plot(range(val_range[0],val_range[1],val_range[2]),val_acc_degree,c='blue')\n",
    "plt.legend([\"Training\",\"Validation\"],fontsize=15)\n",
    "plt.grid(True)\n",
    "plt.xticks(fontsize=16)\n",
    "plt.yticks(fontsize=16)\n",
    "plt.xlabel(\"Degree of the SVM classifier kernel (polynomial)\", fontsize=16)\n",
    "plt.ylabel(\"Accuracy\",fontsize=16)\n",
    "plt.ylim(0.8,0.9)\n",
    "plt.show()"
   ]
  },
  {
   "cell_type": "markdown",
   "metadata": {},
   "source": [
    "#### But what if we put a penalty for misclassification? `C` = 10"
   ]
  },
  {
   "cell_type": "code",
   "execution_count": null,
   "metadata": {},
   "outputs": [],
   "source": [
    "val_acc_degree=[]\n",
    "val_f1_degree=[]\n",
    "train_acc_degree=[]\n",
    "train_f1_degree=[]\n",
    "val_range=(1,11,1)\n",
    "for i in range(val_range[0],val_range[1],val_range[2]):\n",
    "    # Fitting\n",
    "    svc_clf=SVC(kernel=\"poly\", C=1,degree=i)\n",
    "    svc_clf.fit(X_train_scaled,y_train)\n",
    "    pred_train = svc_clf.predict(X_train_scaled)\n",
    "    pred_val = svc_clf.predict(X_val_scaled)\n",
    "    # Accuracy and F1 score\n",
    "    acc_train=accuracy_score(y_train,pred_train)\n",
    "    f1_train = f1_score(y_train,pred_train,average='micro')\n",
    "    acc_val=accuracy_score(y_val,pred_val)\n",
    "    f1_val = f1_score(y_val,pred_val,average='micro')\n",
    "    # Appending to the lists\n",
    "    train_acc_degree.append(acc_train)\n",
    "    train_f1_degree.append(f1_train)\n",
    "    val_acc_degree.append(acc_val)\n",
    "    val_f1_degree.append(f1_val)\n",
    "    print(f\"Done for number of degree: {i}\")"
   ]
  },
  {
   "cell_type": "code",
   "execution_count": null,
   "metadata": {},
   "outputs": [],
   "source": [
    "plt.plot(range(val_range[0],val_range[1],val_range[2]),train_acc_degree,c='red')\n",
    "plt.plot(range(val_range[0],val_range[1],val_range[2]),val_acc_degree,c='blue')\n",
    "plt.legend([\"Training\",\"Validation\"],fontsize=15)\n",
    "plt.grid(True)\n",
    "plt.xticks(fontsize=16)\n",
    "plt.yticks(fontsize=16)\n",
    "plt.xlabel(\"Degree of the SVM classifier kernel (polynomial)\", fontsize=16)\n",
    "plt.ylabel(\"Accuracy\",fontsize=16)\n",
    "#plt.ylim(0.8,0.9)\n",
    "plt.show()"
   ]
  },
  {
   "cell_type": "markdown",
   "metadata": {},
   "source": [
    "### Varying regularization parameter _C_ (i.e. $\\frac{1}{\\lambda}$ in the Lagrangian formulation of SVM)"
   ]
  },
  {
   "cell_type": "code",
   "execution_count": null,
   "metadata": {},
   "outputs": [],
   "source": [
    "val_acc_C=[]\n",
    "val_f1_C=[]\n",
    "train_acc_C=[]\n",
    "train_f1_C=[]\n",
    "C_range=[]\n",
    "val_range=(-8,2,1)\n",
    "for i in range(val_range[0],val_range[1],val_range[2]):\n",
    "    C=2**(i)\n",
    "    C_range.append(C)\n",
    "    # Fitting\n",
    "    svc_clf=SVC(kernel=\"poly\", C=C,degree=2)\n",
    "    svc_clf.fit(X_train_scaled,y_train)\n",
    "    pred_train = svc_clf.predict(X_train_scaled)\n",
    "    pred_val = svc_clf.predict(X_val_scaled)\n",
    "    # Accuracy and F1 score\n",
    "    acc_train=accuracy_score(y_train,pred_train)\n",
    "    f1_train = f1_score(y_train,pred_train,average='micro')\n",
    "    acc_val=accuracy_score(y_val,pred_val)\n",
    "    f1_val = f1_score(y_val,pred_val,average='micro')\n",
    "    # Appending to the lists\n",
    "    train_acc_C.append(acc_train)\n",
    "    train_f1_C.append(f1_train)\n",
    "    val_acc_C.append(acc_val)\n",
    "    val_f1_C.append(f1_val)\n",
    "    print(f\"Done for number of C: {2**(i)}\")"
   ]
  },
  {
   "cell_type": "code",
   "execution_count": null,
   "metadata": {},
   "outputs": [],
   "source": [
    "plt.plot(C_range,train_acc_C,c='red')\n",
    "plt.plot(C_range,val_acc_C,c='blue')\n",
    "plt.grid(True)\n",
    "plt.xticks(fontsize=16)\n",
    "plt.yticks(fontsize=16)\n",
    "plt.xlabel(\"Regularization/penalty parameter $C$\", fontsize=16)\n",
    "plt.ylabel(\"Accuracy\",fontsize=16)\n",
    "#plt.ylim(0.81,0.85)\n",
    "plt.show()"
   ]
  },
  {
   "cell_type": "markdown",
   "metadata": {},
   "source": [
    "### Radial basis function (`RBF`) kernel - varying `gamma` "
   ]
  },
  {
   "cell_type": "code",
   "execution_count": null,
   "metadata": {},
   "outputs": [],
   "source": [
    "val_acc_gamma=[]\n",
    "val_f1_gamma=[]\n",
    "train_acc_gamma=[]\n",
    "train_f1_gamma=[]\n",
    "gamma_range=[]\n",
    "val_range=(-5,2,1)\n",
    "for i in range(val_range[0],val_range[1],val_range[2]):\n",
    "    gamma=10**(i)\n",
    "    gamma_range.append(gamma)\n",
    "    # Fitting\n",
    "    svc_clf=SVC(kernel=\"rbf\", C=10,gamma=gamma)\n",
    "    svc_clf.fit(X_train_scaled,y_train)\n",
    "    pred_train = svc_clf.predict(X_train_scaled)\n",
    "    pred_val = svc_clf.predict(X_val_scaled)\n",
    "    # Accuracy and F1 score\n",
    "    acc_train=accuracy_score(y_train,pred_train)\n",
    "    f1_train = f1_score(y_train,pred_train,average='micro')\n",
    "    acc_val=accuracy_score(y_val,pred_val)\n",
    "    f1_val = f1_score(y_val,pred_val,average='micro')\n",
    "    # Appending to the lists\n",
    "    train_acc_gamma.append(acc_train)\n",
    "    train_f1_gamma.append(f1_train)\n",
    "    val_acc_gamma.append(acc_val)\n",
    "    val_f1_gamma.append(f1_val)\n",
    "    print(f\"Done for gamma: {gamma}\")"
   ]
  },
  {
   "cell_type": "code",
   "execution_count": null,
   "metadata": {},
   "outputs": [],
   "source": [
    "plt.semilogx(gamma_range,train_acc_gamma,c='red')\n",
    "plt.semilogx(gamma_range,val_acc_gamma,c='blue')\n",
    "plt.grid(True)\n",
    "plt.xticks(fontsize=16)\n",
    "plt.yticks(fontsize=16)\n",
    "plt.xlabel(\"Gamma of the SVM classifier RBF kernel\", fontsize=16)\n",
    "plt.ylabel(\"Accuracy\",fontsize=16)\n",
    "#plt.ylim(0.8,0.9)\n",
    "plt.show()"
   ]
  },
  {
   "cell_type": "markdown",
   "metadata": {},
   "source": [
    "### LEARNING CURVE: Varying training set size\n",
    "<p style=\"font-size:16px;font-family:cambria\">\n",
    "The learning curve of the SVM model turns out pretty uninteresting for this dataset. SVM model with 2nd degree polynomial kernel is used for this experiment, and just like the single decision tree model, it shows relatively little dependence on the amount of training data. For a machine learning engineer, this is still a **very useful result indicating that this dataset can be classified using relatively simple kernel and using small amount of data** randomly sampled from the full dataset. Therefore, the whole learning process can run with high speed."
   ]
  },
  {
   "cell_type": "code",
   "execution_count": null,
   "metadata": {},
   "outputs": [],
   "source": [
    "val_acc_train_size=[]\n",
    "val_f1_train_size=[]\n",
    "train_acc_train_size=[]\n",
    "train_f1_train_size=[]\n",
    "val_range=(10,101,5)\n",
    "for i in range(val_range[0],val_range[1],val_range[2]):\n",
    "    # Fitting\n",
    "    percentage=i*0.01\n",
    "    svc_clf=SVC(kernel=\"poly\",C=0.001,degree=2)\n",
    "    # Sampling (and scaling)\n",
    "    df_sampled = df_final.sample(frac=percentage)\n",
    "    X_train_sampled=df_sampled.drop('not.fully.paid',axis=1)\n",
    "    y_train_sampled=df_sampled['not.fully.paid']\n",
    "    X_train_sampled=StandardScaler().fit_transform(X_train_sampled)\n",
    "    # Fitting and prediction\n",
    "    svc_clf.fit(X_train_sampled,y_train_sampled)\n",
    "    pred_train = svc_clf.predict(X_train_sampled)\n",
    "    pred_val = svc_clf.predict(X_val_scaled)\n",
    "    # Accuracy and F1 score\n",
    "    acc_train=accuracy_score(y_train_sampled,pred_train)\n",
    "    f1_train = f1_score(y_train_sampled,pred_train,average='micro')\n",
    "    acc_val=accuracy_score(y_val,pred_val)\n",
    "    f1_val = f1_score(y_val,pred_val,average='micro')\n",
    "    # Appending to the lists\n",
    "    train_acc_train_size.append(acc_train)\n",
    "    train_f1_train_size.append(f1_train)\n",
    "    val_acc_train_size.append(acc_val)\n",
    "    val_f1_train_size.append(f1_val)\n",
    "    \n",
    "    print(f\"Done for: {i}% training set size\")"
   ]
  },
  {
   "cell_type": "code",
   "execution_count": null,
   "metadata": {},
   "outputs": [],
   "source": [
    "plt.plot(range(val_range[0],val_range[1],val_range[2]),train_acc_train_size,c='red')\n",
    "plt.plot(range(val_range[0],val_range[1],val_range[2]),val_acc_train_size,c='blue')\n",
    "plt.legend([\"Training\",\"Validation\"],fontsize=15)\n",
    "plt.grid(True)\n",
    "plt.xticks(fontsize=16)\n",
    "plt.yticks(fontsize=16)\n",
    "plt.xlabel(\"Percentage of training data fed\", fontsize=16)\n",
    "plt.ylabel(\"Accuracy\",fontsize=16)\n",
    "plt.ylim(0.82,0.86)\n",
    "plt.show()"
   ]
  },
  {
   "cell_type": "markdown",
   "metadata": {},
   "source": [
    "## _K_-nearest neighbor model\n",
    "<p style=\"font-size:16px;font-family:cambria\">\n",
    "k-Nearest Neighbor or kNN, is one of the simplest algorithms for classification. It is extremely fast and works through **lazy evaluation** i.e. it does not build any explicit model but just stores the input training data and predicts the label of a test point by calculating various distances of other points from the test point. \n",
    "<p style=\"font-size:16px;font-family:cambria\">\n",
    "We use `KNeighborsClassifier` method from scikit-learn stable. For default model, we use k=3 and obtain ~80% accuracy. Just like SVM, we use the **scaled data** for this algorithm."
   ]
  },
  {
   "cell_type": "code",
   "execution_count": null,
   "metadata": {},
   "outputs": [],
   "source": [
    "from sklearn.neighbors import KNeighborsClassifier"
   ]
  },
  {
   "cell_type": "code",
   "execution_count": null,
   "metadata": {},
   "outputs": [],
   "source": [
    "knn=KNeighborsClassifier(3)"
   ]
  },
  {
   "cell_type": "code",
   "execution_count": null,
   "metadata": {},
   "outputs": [],
   "source": [
    "knn.fit(X_train_scaled,y_train)"
   ]
  },
  {
   "cell_type": "code",
   "execution_count": null,
   "metadata": {},
   "outputs": [],
   "source": [
    "predictions=knn.predict(X_val_scaled)"
   ]
  },
  {
   "cell_type": "code",
   "execution_count": null,
   "metadata": {},
   "outputs": [],
   "source": [
    "score1=accuracy_score(y_val,predictions)\n",
    "print(score1)"
   ]
  },
  {
   "cell_type": "markdown",
   "metadata": {},
   "source": [
    "### Varying number of neighbors\n",
    "<p style=\"font-size:16px;font-family:cambria\">\n",
    "**Increasing the number of neighbors have a ‘smoothing effect’ on the decision boundary created by kNN** i.e. noise and irregularities in the data get ‘averaged over’ when distances from multiple neighbors are considered. Quite expectedly, **this should increase the validation accuracy**. We observe exactly this trend in the plot. \n",
    "<p style=\"font-size:16px;font-family:cambria\">\n",
    "Interestingly, **when k=1, the training accuracy is always 1.0 because the model just stores the value of that point itself** (rote learning, just remembers the position). Training and validation accuracy approach one another to a plateau as k is increased. For this dataset, k=5 should be good enough."
   ]
  },
  {
   "cell_type": "code",
   "execution_count": null,
   "metadata": {},
   "outputs": [],
   "source": [
    "val_acc_k=[]\n",
    "val_f1_k=[]\n",
    "train_acc_k=[]\n",
    "train_f1_k=[]\n",
    "val_range=(1,21,1)\n",
    "for i in range(val_range[0],val_range[1],val_range[2]):\n",
    "    # Fitting\n",
    "    knn=KNeighborsClassifier(i)\n",
    "    knn.fit(X_train_scaled,y_train)\n",
    "    pred_train = knn.predict(X_train_scaled)\n",
    "    pred_val = knn.predict(X_val_scaled)\n",
    "    # Accuracy and F1 score\n",
    "    acc_train=accuracy_score(y_train,pred_train)\n",
    "    f1_train = f1_score(y_train,pred_train,average='micro')\n",
    "    acc_val=accuracy_score(y_val,pred_val)\n",
    "    f1_val = f1_score(y_val,pred_val,average='micro')\n",
    "    # Appending to the lists\n",
    "    train_acc_k.append(acc_train)\n",
    "    train_f1_k.append(f1_train)\n",
    "    val_acc_k.append(acc_val)\n",
    "    val_f1_k.append(f1_val)\n",
    "    print(f\"Done for number of neighbors: {i}\")"
   ]
  },
  {
   "cell_type": "code",
   "execution_count": null,
   "metadata": {},
   "outputs": [],
   "source": [
    "plt.plot(range(val_range[0],val_range[1],val_range[2]),train_acc_k,c='red')\n",
    "plt.plot(range(val_range[0],val_range[1],val_range[2]),val_acc_k,c='blue')\n",
    "plt.grid(True)\n",
    "plt.xticks(fontsize=16)\n",
    "plt.yticks(fontsize=16)\n",
    "plt.xlabel(\"Number of neighbors ($K$)\", fontsize=16)\n",
    "plt.ylabel(\"Accuracy\",fontsize=16)\n",
    "#plt.ylim(0.81,0.85)\n",
    "plt.show()"
   ]
  },
  {
   "cell_type": "markdown",
   "metadata": {},
   "source": [
    "### LEARNING CURVE: Varying training set size\n",
    "<p style=\"font-size:16px;font-family:cambria\">\n",
    "Learning curve for kNN is also not super interesting for this dataset. We extract the learning curve for k=5. Validation accuracy does exhibit a little dip for very small fraction of data. Anything above 50% should be good for a decent learner."
   ]
  },
  {
   "cell_type": "code",
   "execution_count": null,
   "metadata": {},
   "outputs": [],
   "source": [
    "val_acc_train_size=[]\n",
    "val_f1_train_size=[]\n",
    "train_acc_train_size=[]\n",
    "train_f1_train_size=[]\n",
    "val_range=(10,101,5)\n",
    "for i in range(val_range[0],val_range[1],val_range[2]):\n",
    "    # Fitting\n",
    "    percentage=i*0.01\n",
    "    knn=KNeighborsClassifier(5)\n",
    "   # Sampling\n",
    "    df_sampled = df_final.sample(frac=percentage)\n",
    "    X_train_sampled=df_sampled.drop('not.fully.paid',axis=1)\n",
    "    y_train_sampled=df_sampled['not.fully.paid']\n",
    "    X_train_sampled=StandardScaler().fit_transform(X_train_sampled)\n",
    "    # Fitting and prediction\n",
    "    knn.fit(X_train_sampled,y_train_sampled)\n",
    "    pred_train = knn.predict(X_train_sampled)\n",
    "    pred_val = knn.predict(X_val_scaled)\n",
    "    # Accuracy and F1 score\n",
    "    acc_train=accuracy_score(y_train_sampled,pred_train)\n",
    "    f1_train = f1_score(y_train_sampled,pred_train,average='micro')\n",
    "    acc_val=accuracy_score(y_val,pred_val)\n",
    "    f1_val = f1_score(y_val,pred_val,average='micro')\n",
    "    # Appending to the lists\n",
    "    train_acc_train_size.append(acc_train)\n",
    "    train_f1_train_size.append(f1_train)\n",
    "    val_acc_train_size.append(acc_val)\n",
    "    val_f1_train_size.append(f1_val)\n",
    "    \n",
    "    if i%10==0:\n",
    "        print(f\"Done for: {i}% training set size\")"
   ]
  },
  {
   "cell_type": "code",
   "execution_count": null,
   "metadata": {},
   "outputs": [],
   "source": [
    "plt.plot(range(val_range[0],val_range[1],val_range[2]),train_acc_train_size,c='red')\n",
    "plt.plot(range(val_range[0],val_range[1],val_range[2]),val_acc_train_size,c='blue')\n",
    "plt.legend([\"Training\",\"Validation\"],fontsize=15)\n",
    "plt.grid(True)\n",
    "plt.xticks(np.arange(0, 110, step=10),fontsize=16)\n",
    "plt.yticks(fontsize=16)\n",
    "plt.xlabel(\"Percentage of training data fed\", fontsize=16)\n",
    "plt.ylabel(\"Accuracy\",fontsize=16)\n",
    "plt.ylim(0.7,0.9)\n",
    "plt.xlim(0,110)\n",
    "plt.show()"
   ]
  },
  {
   "cell_type": "markdown",
   "metadata": {},
   "source": [
    "## Neural Networks (Multi-layer perceptron)\n",
    "<p style=\"font-size:16px;font-family:cambria\">\n",
    "We use **keras high-level API** (based on TensorFlow backend) to build our MLP. For this dataset, we chose a **2-hidden-layer** network with dropout and **binary cross-entropy** error. Because neural network has a vast number of hyperparameters, we built a couple of helper functions to easily tune them."
   ]
  },
  {
   "cell_type": "code",
   "execution_count": null,
   "metadata": {},
   "outputs": [],
   "source": [
    "import keras\n",
    "from keras.utils import np_utils\n",
    "from keras.models import Sequential\n",
    "from keras.layers import Dense, Dropout"
   ]
  },
  {
   "cell_type": "code",
   "execution_count": null,
   "metadata": {},
   "outputs": [],
   "source": [
    "n_input=X_train_scaled.shape[0]\n",
    "num_classes = len(y_train.unique())\n",
    "input_dim=X_train_scaled.shape[1]"
   ]
  },
  {
   "cell_type": "markdown",
   "metadata": {},
   "source": [
    "### Function to construct 2-hidden-layer Keras model"
   ]
  },
  {
   "cell_type": "code",
   "execution_count": null,
   "metadata": {},
   "outputs": [],
   "source": [
    "def make_NN_model(input_dim, num_classes, neuron_layer_1=20, neuron_layer_2=10, dropout_prob=0.25, \\\n",
    "                  activation_func='relu', learning_rate=0.01,optimizer='SGD'):\n",
    "    \"\"\"\n",
    "    Creates a 2-hidden-layer Keras Neural Network model by adding densely connected layers, \\\n",
    "    dropout layers, and an output layer with 'softmax' activation with appropriate number of nodes for classification\n",
    "    \"\"\"\n",
    "    model = Sequential()\n",
    "    model.add(Dense(neuron_layer_1, input_shape=(input_dim,),activation=activation_func))\n",
    "    model.add(Dropout(dropout_prob))\n",
    "    model.add(Dense(neuron_layer_2,activation=activation_func))\n",
    "    #model.add(Dense(50,activation='relu'))\n",
    "    model.add(Dropout(dropout_prob))\n",
    "    # Softmax activation for the last layer for classification\n",
    "    model.add(Dense(1, activation='sigmoid'))\n",
    "    \n",
    "    if optimizer=='SGD':\n",
    "        optimizer=keras.optimizers.SGD(lr=learning_rate)\n",
    "    if optimizer=='Adam':\n",
    "        optimizer=keras.optimizers.Adam(lr=learning_rate)\n",
    "    if optimizer=='RMSprop':\n",
    "        optimizer=keras.optimizers.RMSprop(lr=learning_rate)\n",
    "    \n",
    "    model.compile(loss='binary_crossentropy', optimizer=optimizer,metrics=['accuracy'])\n",
    "    \n",
    "    return model"
   ]
  },
  {
   "cell_type": "markdown",
   "metadata": {},
   "source": [
    "### Function to run the NN model"
   ]
  },
  {
   "cell_type": "code",
   "execution_count": null,
   "metadata": {},
   "outputs": [],
   "source": [
    "def run_NN(model,X_train,y_train,X_val,y_val,num_epochs=200,batch_size=16,plot_loss=False,verbosity=0):\n",
    "    #save best model as checkpointer\n",
    "    from keras.callbacks import ModelCheckpoint\n",
    "    checkpointer = ModelCheckpoint(filepath='model.weights.best.hdf5', \n",
    "                                   verbose=verbosity, save_best_only=True)\n",
    "    \n",
    "    # train the model\n",
    "    hist = model.fit(X_train, y_train, batch_size=batch_size, epochs=num_epochs,\n",
    "              validation_data=(X_val, y_val), \n",
    "              verbose=verbosity, shuffle=False)\n",
    "    \n",
    "    if plot_loss:\n",
    "        plt.plot(hist.history['acc'],color='red')\n",
    "        plt.plot(hist.history['val_acc'],color='blue')\n",
    "        plt.title(\"Training and validation set accuracy\",fontsize=15)\n",
    "        plt.grid(True)\n",
    "        plt.xlabel(\"Epochs\",fontsize=14)\n",
    "        plt.legend(['Training','Validation'])\n",
    "        plt.show()\n",
    "    \n",
    "    return hist"
   ]
  },
  {
   "cell_type": "markdown",
   "metadata": {},
   "source": [
    "### Function to test the NN model"
   ]
  },
  {
   "cell_type": "code",
   "execution_count": null,
   "metadata": {},
   "outputs": [],
   "source": [
    "def test_NN(hist,X_test,y_test):\n",
    "    \"\"\"\n",
    "    Test a NN model with test data set for accuracy\n",
    "    hist: A History object generated by the Keras model fitting process\n",
    "    \"\"\"\n",
    "    score=hist.model.evaluate(X_test, y_test,verbose=0)[1]\n",
    "    return score"
   ]
  },
  {
   "cell_type": "markdown",
   "metadata": {},
   "source": [
    "### Does the choice of the optimizer matter?\n",
    "<p style=\"font-size:16px;font-family:cambria\">\n",
    "There are many choices of optimizers which perform backpropagation for MLP. We try two of the most common optimizers to see their impact on the speed of convergence. The results show that for this dataset, **Adam optimizer** reaches convergence faster i.e. in lesser number of epochs than conventional **stochastic gradient descent (SGD)**. Another distinct feature of this set of results is that they show that in case of MLP, the **validation accuracy tracks the training accuracy closely. This kind of parallel trend is not seen in other type of algorithms.**"
   ]
  },
  {
   "cell_type": "markdown",
   "metadata": {},
   "source": [
    "### Basic run of the neural network (using Adam optimizer)"
   ]
  },
  {
   "cell_type": "code",
   "execution_count": null,
   "metadata": {},
   "outputs": [],
   "source": [
    "nn_model=make_NN_model(input_dim=input_dim,num_classes=num_classes,dropout_prob=0.0,learning_rate=0.0001,\n",
    "                      neuron_layer_1=10,neuron_layer_2=5,optimizer='Adam')"
   ]
  },
  {
   "cell_type": "code",
   "execution_count": null,
   "metadata": {
    "scrolled": false
   },
   "outputs": [],
   "source": [
    "hist=run_NN(nn_model,X_train_scaled,y_train,X_val_scaled,y_val,verbosity=1,batch_size=64,\n",
    "            num_epochs=25,plot_loss=True)"
   ]
  },
  {
   "cell_type": "markdown",
   "metadata": {},
   "source": [
    "### Basic run of the neural network (using Stochastic Gradient Descent optimizer)"
   ]
  },
  {
   "cell_type": "code",
   "execution_count": null,
   "metadata": {},
   "outputs": [],
   "source": [
    "nn_model=make_NN_model(input_dim=input_dim,num_classes=num_classes,dropout_prob=0.0,learning_rate=0.0001,\n",
    "                      neuron_layer_1=10,neuron_layer_2=5,optimizer='SGD')"
   ]
  },
  {
   "cell_type": "code",
   "execution_count": null,
   "metadata": {},
   "outputs": [],
   "source": [
    "hist=run_NN(nn_model,X_train_scaled,y_train,X_val_scaled,y_val,verbosity=1,batch_size=64,\n",
    "            num_epochs=25,plot_loss=True)"
   ]
  },
  {
   "cell_type": "markdown",
   "metadata": {},
   "source": [
    "### Varying hyperparameter - number of neurons per layer? How many epochs should we run for?\n",
    "<p style=\"font-size:16px;font-family:cambria\">\n",
    "These are some of the natural questions that arise for an MLP. With our helper function, we run a loop over a wide range of neurons/hidden layer, extract training and validation accuracy, and show that the **accuracy varies wildly with the model complexity i.e. number of neurons when we train it for small number of epochs. But this variation is smoothed out with large number of epochs.**"
   ]
  },
  {
   "cell_type": "markdown",
   "metadata": {},
   "source": [
    "#### Running for `num_epochs` = 5"
   ]
  },
  {
   "cell_type": "code",
   "execution_count": null,
   "metadata": {},
   "outputs": [],
   "source": [
    "train_acc_n=[]\n",
    "val_acc_n=[]\n",
    "\n",
    "val_range=(2,21,1)\n",
    "for i in range(val_range[0],val_range[1],val_range[2]):\n",
    "    # Fitting\n",
    "    nn_model=make_NN_model(input_dim=input_dim,num_classes=num_classes,dropout_prob=0.0,learning_rate=0.0001,\n",
    "                      neuron_layer_1=i,neuron_layer_2=i,optimizer='Adam')\n",
    "    hist=run_NN(nn_model,X_train_scaled,y_train,X_val_scaled,y_val,verbosity=0,batch_size=256,\n",
    "            num_epochs=5,plot_loss=False)\n",
    "    # Accuracy score\n",
    "    acc_train=hist.model.evaluate(X_train_scaled, y_train,verbose=0)[1]\n",
    "    acc_val=hist.model.evaluate(X_val_scaled,y_val,verbose=0)[1]\n",
    "   # Appending to the lists\n",
    "    train_acc_n.append(acc_train)\n",
    "    val_acc_n.append(acc_val)\n",
    "    print(f\"Done for number of neurons (each hidden layer): {i}\")"
   ]
  },
  {
   "cell_type": "code",
   "execution_count": null,
   "metadata": {},
   "outputs": [],
   "source": [
    "plt.plot(range(val_range[0],val_range[1],val_range[2]),train_acc_n,c='red')\n",
    "plt.plot(range(val_range[0],val_range[1],val_range[2]),val_acc_n,c='blue')\n",
    "plt.legend([\"Training\",\"Validation\"],fontsize=15)\n",
    "plt.grid(True)\n",
    "plt.xticks(fontsize=16)\n",
    "plt.yticks(fontsize=16)\n",
    "plt.xlabel(\"Number of neurons per layer\", fontsize=16)\n",
    "plt.ylabel(\"Accuracy\",fontsize=16)\n",
    "plt.ylim(0.0,0.9)\n",
    "plt.show()"
   ]
  },
  {
   "cell_type": "markdown",
   "metadata": {},
   "source": [
    "#### Running for `num_epochs` = 10"
   ]
  },
  {
   "cell_type": "code",
   "execution_count": null,
   "metadata": {},
   "outputs": [],
   "source": [
    "train_acc_n=[]\n",
    "val_acc_n=[]\n",
    "\n",
    "val_range=(2,21,1)\n",
    "for i in range(val_range[0],val_range[1],val_range[2]):\n",
    "    # Fitting\n",
    "    nn_model=make_NN_model(input_dim=input_dim,num_classes=num_classes,dropout_prob=0.0,learning_rate=0.0001,\n",
    "                      neuron_layer_1=i,neuron_layer_2=i,optimizer='Adam')\n",
    "    hist=run_NN(nn_model,X_train_scaled,y_train,X_val_scaled,y_val,verbosity=0,batch_size=256,\n",
    "            num_epochs=10,plot_loss=False)\n",
    "    # Accuracy score\n",
    "    acc_train=hist.model.evaluate(X_train_scaled, y_train,verbose=0)[1]\n",
    "    acc_val=hist.model.evaluate(X_val_scaled,y_val,verbose=0)[1]\n",
    "   # Appending to the lists\n",
    "    train_acc_n.append(acc_train)\n",
    "    val_acc_n.append(acc_val)\n",
    "    print(f\"Done for number of neurons (each hidden layer): {i}\")"
   ]
  },
  {
   "cell_type": "code",
   "execution_count": null,
   "metadata": {},
   "outputs": [],
   "source": [
    "plt.plot(range(val_range[0],val_range[1],val_range[2]),train_acc_n,c='red')\n",
    "plt.plot(range(val_range[0],val_range[1],val_range[2]),val_acc_n,c='blue')\n",
    "plt.legend([\"Training\",\"Validation\"],fontsize=15)\n",
    "plt.grid(True)\n",
    "plt.xticks(fontsize=16)\n",
    "plt.yticks(fontsize=16)\n",
    "plt.xlabel(\"Number of neurons per layer\", fontsize=16)\n",
    "plt.ylabel(\"Accuracy\",fontsize=16)\n",
    "plt.ylim(0.0,0.9)\n",
    "plt.show()"
   ]
  },
  {
   "cell_type": "markdown",
   "metadata": {},
   "source": [
    "#### Running for `num_epochs` = 25"
   ]
  },
  {
   "cell_type": "code",
   "execution_count": null,
   "metadata": {},
   "outputs": [],
   "source": [
    "train_acc_n=[]\n",
    "val_acc_n=[]\n",
    "\n",
    "val_range=(2,21,1)\n",
    "for i in range(val_range[0],val_range[1],val_range[2]):\n",
    "    # Fitting\n",
    "    nn_model=make_NN_model(input_dim=input_dim,num_classes=num_classes,dropout_prob=0.0,learning_rate=0.0001,\n",
    "                      neuron_layer_1=i,neuron_layer_2=i,optimizer='Adam')\n",
    "    hist=run_NN(nn_model,X_train_scaled,y_train,X_val_scaled,y_val,verbosity=0,batch_size=256,\n",
    "            num_epochs=25,plot_loss=False)\n",
    "    # Accuracy score\n",
    "    acc_train=hist.model.evaluate(X_train_scaled, y_train,verbose=0)[1]\n",
    "    acc_val=hist.model.evaluate(X_val_scaled,y_val,verbose=0)[1]\n",
    "   # Appending to the lists\n",
    "    train_acc_n.append(acc_train)\n",
    "    val_acc_n.append(acc_val)\n",
    "    print(f\"Done for number of neurons (each hidden layer): {i}\")"
   ]
  },
  {
   "cell_type": "code",
   "execution_count": null,
   "metadata": {},
   "outputs": [],
   "source": [
    "plt.plot(range(val_range[0],val_range[1],val_range[2]),train_acc_n,c='red')\n",
    "plt.plot(range(val_range[0],val_range[1],val_range[2]),val_acc_n,c='blue')\n",
    "plt.legend([\"Training\",\"Validation\"],fontsize=15)\n",
    "plt.grid(True)\n",
    "plt.xticks(fontsize=16)\n",
    "plt.yticks(fontsize=16)\n",
    "plt.xlabel(\"Number of neurons per layer\", fontsize=16)\n",
    "plt.ylabel(\"Accuracy\",fontsize=16)\n",
    "plt.ylim(0.0,0.9)\n",
    "plt.show()"
   ]
  },
  {
   "cell_type": "markdown",
   "metadata": {},
   "source": [
    "### LEARNING CURVE: Varying training set size\n",
    "<p style=\"font-size:16px;font-family:cambria\">\n",
    "Neural networks are known for their insatiable hunger for data! We plot the learning curve to see the expected variation of performance for smaller training set size. However, for this dataset, we also found that **by dialing the learning rate parameter higher, we can mostly smooth out this variation** i.e. make the network learn on a smaller subset of training data. **It is not recommended for all types of network and tuning the learning rate is an art.** But it worked for this dataset."
   ]
  },
  {
   "cell_type": "code",
   "execution_count": null,
   "metadata": {},
   "outputs": [],
   "source": [
    "val_acc_train_size=[]\n",
    "train_acc_train_size=[]\n",
    "\n",
    "val_range=(10,101,5)\n",
    "for i in range(val_range[0],val_range[1],val_range[2]):\n",
    "    percentage=i*0.01\n",
    "    # Sampling\n",
    "    df_sampled = df_final.sample(frac=percentage)\n",
    "    X_train_sampled=df_sampled.drop('not.fully.paid',axis=1)\n",
    "    y_train_sampled=df_sampled['not.fully.paid']\n",
    "    X_train_sampled=StandardScaler().fit_transform(X_train_sampled)\n",
    "    # Fitting and Predictions\n",
    "    nn_model=make_NN_model(input_dim=input_dim,num_classes=num_classes,dropout_prob=0.0,learning_rate=0.0001,\n",
    "                      neuron_layer_1=5,neuron_layer_2=5,optimizer='Adam')\n",
    "    hist=run_NN(nn_model,X_train_sampled,y_train_sampled,X_val_scaled,y_val,verbosity=0,batch_size=256,\n",
    "            num_epochs=25,plot_loss=False)\n",
    "    # Accuracy score\n",
    "    acc_train=hist.model.evaluate(X_train_sampled, y_train_sampled,verbose=0)[1]\n",
    "    acc_val=hist.model.evaluate(X_val_scaled,y_val,verbose=0)[1]\n",
    "   # Appending to the lists\n",
    "    train_acc_train_size.append(acc_train)\n",
    "    val_acc_train_size.append(acc_val)\n",
    "    \n",
    "    print(f\"Done for: {i}% training set size\")"
   ]
  },
  {
   "cell_type": "code",
   "execution_count": null,
   "metadata": {},
   "outputs": [],
   "source": [
    "plt.plot(range(val_range[0],val_range[1],val_range[2]),train_acc_train_size,c='red')\n",
    "plt.plot(range(val_range[0],val_range[1],val_range[2]),val_acc_train_size,c='blue')\n",
    "plt.legend([\"Training\",\"Validation\"],fontsize=15)\n",
    "plt.grid(True)\n",
    "plt.xticks(np.arange(0, 110, step=10),fontsize=16)\n",
    "plt.yticks(fontsize=16)\n",
    "plt.xlabel(\"Percentage of training data fed\", fontsize=16)\n",
    "plt.ylabel(\"Accuracy\",fontsize=16)\n",
    "#plt.ylim(0.8,0.9)\n",
    "plt.xlim(0,110)\n",
    "plt.show()"
   ]
  },
  {
   "cell_type": "markdown",
   "metadata": {},
   "source": [
    "#### To smooth out the dependence on training set size, can we tweak the learning rate?"
   ]
  },
  {
   "cell_type": "code",
   "execution_count": null,
   "metadata": {},
   "outputs": [],
   "source": [
    "val_acc_train_size=[]\n",
    "train_acc_train_size=[]\n",
    "\n",
    "val_range=(10,101,5)\n",
    "for i in range(val_range[0],val_range[1],val_range[2]):\n",
    "    percentage=i*0.01\n",
    "    # Sampling\n",
    "    df_sampled = df_final.sample(frac=percentage)\n",
    "    X_train_sampled=df_sampled.drop('not.fully.paid',axis=1)\n",
    "    y_train_sampled=df_sampled['not.fully.paid']\n",
    "    X_train_sampled=StandardScaler().fit_transform(X_train_sampled)\n",
    "    # Fitting and Predictions\n",
    "    nn_model=make_NN_model(input_dim=input_dim,num_classes=num_classes,dropout_prob=0.0,learning_rate=0.001,\n",
    "                      neuron_layer_1=5,neuron_layer_2=5,optimizer='Adam')\n",
    "    hist=run_NN(nn_model,X_train_sampled,y_train_sampled,X_val_scaled,y_val,verbosity=0,batch_size=256,\n",
    "            num_epochs=25,plot_loss=False)\n",
    "    # Accuracy score\n",
    "    acc_train=hist.model.evaluate(X_train_sampled, y_train_sampled,verbose=0)[1]\n",
    "    acc_val=hist.model.evaluate(X_val_scaled,y_val,verbose=0)[1]\n",
    "   # Appending to the lists\n",
    "    train_acc_train_size.append(acc_train)\n",
    "    val_acc_train_size.append(acc_val)\n",
    "    \n",
    "    print(f\"Done for: {i}% training set size\")"
   ]
  },
  {
   "cell_type": "code",
   "execution_count": null,
   "metadata": {},
   "outputs": [],
   "source": [
    "plt.plot(range(val_range[0],val_range[1],val_range[2]),train_acc_train_size,c='red')\n",
    "plt.plot(range(val_range[0],val_range[1],val_range[2]),val_acc_train_size,c='blue')\n",
    "plt.legend([\"Training\",\"Validation\"],fontsize=15)\n",
    "plt.grid(True)\n",
    "plt.xticks(np.arange(0, 110, step=10),fontsize=16)\n",
    "plt.yticks(fontsize=16)\n",
    "plt.xlabel(\"Percentage of training data fed (lr=0.001)\", fontsize=16)\n",
    "plt.ylabel(\"Accuracy\",fontsize=16)\n",
    "plt.ylim(0.5,0.9)\n",
    "plt.xlim(0,110)\n",
    "plt.show()"
   ]
  }
 ],
 "metadata": {
  "kernelspec": {
   "display_name": "Python 3",
   "language": "python",
   "name": "python3"
  },
  "language_info": {
   "codemirror_mode": {
    "name": "ipython",
    "version": 3
   },
   "file_extension": ".py",
   "mimetype": "text/x-python",
   "name": "python",
   "nbconvert_exporter": "python",
   "pygments_lexer": "ipython3",
   "version": "3.6.8"
  },
  "latex_envs": {
   "LaTeX_envs_menu_present": true,
   "autoclose": false,
   "autocomplete": true,
   "bibliofile": "biblio.bib",
   "cite_by": "apalike",
   "current_citInitial": 1,
   "eqLabelWithNumbers": true,
   "eqNumInitial": 1,
   "hotkeys": {
    "equation": "Ctrl-E",
    "itemize": "Ctrl-I"
   },
   "labels_anchors": false,
   "latex_user_defs": false,
   "report_style_numbering": false,
   "user_envs_cfg": false
  }
 },
 "nbformat": 4,
 "nbformat_minor": 2
}
