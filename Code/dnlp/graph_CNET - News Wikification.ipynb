{
  "cells": [
    {
      "cell_type": "markdown",
      "metadata": {
        "id": "view-in-github",
        "colab_type": "text"
      },
      "source": [
        "<a href=\"https://colab.research.google.com/github/tomasonjo/blogs/blob/master/news_wikification/CNET%20-%20News%20Wikification.ipynb\" target=\"_parent\"><img src=\"https://colab.research.google.com/assets/colab-badge.svg\" alt=\"Open In Colab\"/></a>"
      ]
    },
    {
      "cell_type": "markdown",
      "source": [
        "* Updated to GDS 2.0 version\n",
        "* Link to original blog post: https://medium.com/neo4j/making-sense-of-news-the-knowledge-graph-way-d33810ce5005"
      ],
      "metadata": {
        "id": "LNGtlmwpUkys"
      }
    },
    {
      "cell_type": "code",
      "execution_count": null,
      "metadata": {
        "id": "sykJi7T4Uji8",
        "outputId": "146aefef-f929-4847-e0e6-39a42123efb0"
      },
      "outputs": [
        {
          "name": "stdout",
          "output_type": "stream",
          "text": [
            "Requirement already satisfied: neo4j in /home/tomaz/anaconda3/lib/python3.8/site-packages (4.0.1)\n",
            "Requirement already satisfied: pandas in /home/tomaz/anaconda3/lib/python3.8/site-packages (1.0.5)\n",
            "Requirement already satisfied: seaborn in /home/tomaz/anaconda3/lib/python3.8/site-packages (0.11.1)\n",
            "Requirement already satisfied: pytz in /home/tomaz/anaconda3/lib/python3.8/site-packages (from neo4j) (2020.1)\n",
            "Requirement already satisfied: python-dateutil>=2.6.1 in /home/tomaz/anaconda3/lib/python3.8/site-packages (from pandas) (2.8.1)\n",
            "Requirement already satisfied: numpy>=1.13.3 in /home/tomaz/anaconda3/lib/python3.8/site-packages (from pandas) (1.18.4)\n",
            "Requirement already satisfied: scipy>=1.0 in /home/tomaz/anaconda3/lib/python3.8/site-packages (from seaborn) (1.4.1)\n",
            "Requirement already satisfied: matplotlib>=2.2 in /home/tomaz/anaconda3/lib/python3.8/site-packages (from seaborn) (3.3.0)\n",
            "Requirement already satisfied: six>=1.5 in /home/tomaz/anaconda3/lib/python3.8/site-packages (from python-dateutil>=2.6.1->pandas) (1.15.0)\n",
            "Requirement already satisfied: pyparsing!=2.0.4,!=2.1.2,!=2.1.6,>=2.0.3 in /home/tomaz/anaconda3/lib/python3.8/site-packages (from matplotlib>=2.2->seaborn) (2.4.7)\n",
            "Requirement already satisfied: pillow>=6.2.0 in /home/tomaz/anaconda3/lib/python3.8/site-packages (from matplotlib>=2.2->seaborn) (7.2.0)\n",
            "Requirement already satisfied: cycler>=0.10 in /home/tomaz/anaconda3/lib/python3.8/site-packages (from matplotlib>=2.2->seaborn) (0.10.0)\n",
            "Requirement already satisfied: kiwisolver>=1.0.1 in /home/tomaz/anaconda3/lib/python3.8/site-packages (from matplotlib>=2.2->seaborn) (1.2.0)\n"
          ]
        }
      ],
      "source": [
        "!pip install neo4j pandas seaborn"
      ]
    },
    {
      "cell_type": "code",
      "execution_count": null,
      "metadata": {
        "id": "KoWOwrO3UjjA"
      },
      "outputs": [],
      "source": [
        "%matplotlib inline\n",
        "import seaborn as sns\n",
        "from matplotlib import pyplot\n",
        "import pandas as pd\n",
        "from neo4j import GraphDatabase\n",
        "\n",
        "driver = GraphDatabase.driver('bolt://localhost:7687', auth=('neo4j', 'letmein'))\n",
        "\n",
        "def run_query(query, params={}):\n",
        "    with driver.session() as session:\n",
        "        result = session.run(query, params)\n",
        "        return pd.DataFrame([r.values() for r in result], columns=result.keys())"
      ]
    },
    {
      "cell_type": "markdown",
      "metadata": {
        "id": "y75xywG9UjjB"
      },
      "source": [
        "A wealth of information is being produced every day on the internet. Understanding the news and other content generating websites is becoming increasingly crucial to successfully running a business. It can help you spot opportunities, generate new leads, or provide indicators about the economy. In this blog post, I want to show you how you can create a news monitoring data pipeline that combines Natural language processing and knowledge graphs technologies.\n",
        "\n",
        "The data pipeline will consist of three parts. In the first part, we will scrape articles from an internet provider of news. Next, we will run the articles through an NLP pipeline and store results in the form of a knowledge graph. In the last part of the data pipeline, we will enrich our knowledge with information from the WikiData API. To demonstrate the benefits of using a knowledge graph to store the information from the data pipeline, we will perform simple network analysis and try to find insights.\n",
        "\n",
        "We will be using Neo4j to store our knowledge graph. If you want to follow along with this blog post, you need to download Neo4j and install both the APOC and Graph Data Science libraries.Our graph model consists of articles and their tags. Each article has many sections of text. Once we run the section text through the NLP pipeline, we will extract and store mentioned entities back to our graph.We will start by defining unique constraints for our graph.\n",
        "Unique constraints are used to ensure data integrity as well as to optimize cypher query performance."
      ]
    },
    {
      "cell_type": "code",
      "execution_count": null,
      "metadata": {
        "id": "_zxfXSjzUjjD",
        "outputId": "06a15bde-b139-4526-9606-45ff2bce8c72"
      },
      "outputs": [
        {
          "data": {
            "text/html": [
              "<div>\n",
              "<style scoped>\n",
              "    .dataframe tbody tr th:only-of-type {\n",
              "        vertical-align: middle;\n",
              "    }\n",
              "\n",
              "    .dataframe tbody tr th {\n",
              "        vertical-align: top;\n",
              "    }\n",
              "\n",
              "    .dataframe thead th {\n",
              "        text-align: right;\n",
              "    }\n",
              "</style>\n",
              "<table border=\"1\" class=\"dataframe\">\n",
              "  <thead>\n",
              "    <tr style=\"text-align: right;\">\n",
              "      <th></th>\n",
              "    </tr>\n",
              "  </thead>\n",
              "  <tbody>\n",
              "  </tbody>\n",
              "</table>\n",
              "</div>"
            ],
            "text/plain": [
              "Empty DataFrame\n",
              "Columns: []\n",
              "Index: []"
            ]
          },
          "execution_count": 3,
          "metadata": {},
          "output_type": "execute_result"
        }
      ],
      "source": [
        "run_query(\"CREATE CONSTRAINT IF NOT EXISTS ON (a:Article) ASSERT a.url IS UNIQUE;\")\n",
        "run_query(\"CREATE CONSTRAINT IF NOT EXISTS ON (e:Entity) ASSERT e.wikiDataItemId is UNIQUE;\")\n",
        "run_query(\"CREATE CONSTRAINT IF NOT EXISTS ON (t:Tag) ASSERT t.name is UNIQUE;\")"
      ]
    },
    {
      "cell_type": "markdown",
      "metadata": {
        "id": "d_JvwcKWUjjE"
      },
      "source": [
        "## Internet news scraping\n",
        "We will scrape the CNET news portal. I have chosen the CNET portal because it has the most consistent HTML structure, making it easier to demonstrate the data pipeline concept without focusing on the scraping element. We will use <code>apoc.load.html</code> procedure for the HTML scraping. It uses jsoup under the hood. Find more information in the documentation.\n",
        "First, we will iterate over popular topics and store the link of the last dozen of articles for each topic in Neo4j."
      ]
    },
    {
      "cell_type": "code",
      "execution_count": null,
      "metadata": {
        "id": "-TtQRGU9UjjF",
        "outputId": "ac1993ea-7e66-4ff7-a7fa-489b4dea08c0"
      },
      "outputs": [
        {
          "data": {
            "text/html": [
              "<div>\n",
              "<style scoped>\n",
              "    .dataframe tbody tr th:only-of-type {\n",
              "        vertical-align: middle;\n",
              "    }\n",
              "\n",
              "    .dataframe tbody tr th {\n",
              "        vertical-align: top;\n",
              "    }\n",
              "\n",
              "    .dataframe thead th {\n",
              "        text-align: right;\n",
              "    }\n",
              "</style>\n",
              "<table border=\"1\" class=\"dataframe\">\n",
              "  <thead>\n",
              "    <tr style=\"text-align: right;\">\n",
              "      <th></th>\n",
              "    </tr>\n",
              "  </thead>\n",
              "  <tbody>\n",
              "  </tbody>\n",
              "</table>\n",
              "</div>"
            ],
            "text/plain": [
              "Empty DataFrame\n",
              "Columns: []\n",
              "Index: []"
            ]
          },
          "execution_count": 4,
          "metadata": {},
          "output_type": "execute_result"
        }
      ],
      "source": [
        "run_query(\"\"\"\n",
        "CALL apoc.load.html(\"https://www.cnet.com/news/\", \n",
        "  {topics:\"div.tag-listing > ul > li > a\"}) YIELD value\n",
        "UNWIND value.topics as topic  \n",
        "WITH \"https://www.cnet.com\" + topic.attributes.href as link\n",
        "CALL apoc.load.html(link, {article:\"div.row.asset > div > a\"}) YIELD value as articles\n",
        "UNWIND articles.article as article\n",
        "WITH distinct \"https://www.cnet.com\" + article.attributes.href as article_link\n",
        "MERGE (a:Article{url:article_link});\n",
        "\"\"\")"
      ]
    },
    {
      "cell_type": "markdown",
      "metadata": {
        "id": "jYfZ8X_4UjjG"
      },
      "source": [
        "Now that we have the links to the articles, we can go ahead and scrape their content as well as their tags and publishing date. We will store the results according to the graph schema we defined in the previous section."
      ]
    },
    {
      "cell_type": "code",
      "execution_count": null,
      "metadata": {
        "id": "qyODXk5eUjjH",
        "outputId": "f12519d1-fda2-4305-9628-e2ba10a385aa"
      },
      "outputs": [
        {
          "data": {
            "text/html": [
              "<div>\n",
              "<style scoped>\n",
              "    .dataframe tbody tr th:only-of-type {\n",
              "        vertical-align: middle;\n",
              "    }\n",
              "\n",
              "    .dataframe tbody tr th {\n",
              "        vertical-align: top;\n",
              "    }\n",
              "\n",
              "    .dataframe thead th {\n",
              "        text-align: right;\n",
              "    }\n",
              "</style>\n",
              "<table border=\"1\" class=\"dataframe\">\n",
              "  <thead>\n",
              "    <tr style=\"text-align: right;\">\n",
              "      <th></th>\n",
              "    </tr>\n",
              "  </thead>\n",
              "  <tbody>\n",
              "  </tbody>\n",
              "</table>\n",
              "</div>"
            ],
            "text/plain": [
              "Empty DataFrame\n",
              "Columns: []\n",
              "Index: []"
            ]
          },
          "execution_count": 5,
          "metadata": {},
          "output_type": "execute_result"
        }
      ],
      "source": [
        "run_query(\"\"\"\n",
        "MATCH (a:Article)\n",
        "CALL apoc.load.html(a.url,\n",
        "{date:\"time\", title:\"h1.speakableText\", text:\"div.article-main-body > p\", tags: \"div.tagList > a\"}) YIELD value\n",
        "SET a.datetime = datetime(value.date[0].attributes.datetime)\n",
        "FOREACH (_ IN CASE WHEN value.title[0].text IS NOT NULL THEN [true] ELSE [] END | \n",
        "           CREATE (a)-[:HAS_TITLE]->(:Section{text:value.title[0].text})\n",
        ")\n",
        "FOREACH (t in value.tags | \n",
        "MERGE (tag:Tag{name:t.text}) MERGE (a)-[:HAS_TAG]->(tag)\n",
        ")\n",
        "WITH a, value.text as texts\n",
        "UNWIND texts as text\n",
        "WITH a,text\n",
        "WHERE text.text IS NOT NULL\n",
        "CREATE (a)-[:HAS_SECTION]->(:Section{text:text.text});\n",
        "\"\"\")"
      ]
    },
    {
      "cell_type": "markdown",
      "metadata": {
        "id": "-Tm1nLlGUjjI"
      },
      "source": [
        "I did not want to complicate the cypher query that stores the results of the articles even more, so we will have to perform a minor cleanup of tags before we continue."
      ]
    },
    {
      "cell_type": "code",
      "execution_count": null,
      "metadata": {
        "id": "gFtbvPfiUjjI",
        "outputId": "542c8cef-48b4-416e-e546-cbf2e3ed9acb"
      },
      "outputs": [
        {
          "data": {
            "text/html": [
              "<div>\n",
              "<style scoped>\n",
              "    .dataframe tbody tr th:only-of-type {\n",
              "        vertical-align: middle;\n",
              "    }\n",
              "\n",
              "    .dataframe tbody tr th {\n",
              "        vertical-align: top;\n",
              "    }\n",
              "\n",
              "    .dataframe thead th {\n",
              "        text-align: right;\n",
              "    }\n",
              "</style>\n",
              "<table border=\"1\" class=\"dataframe\">\n",
              "  <thead>\n",
              "    <tr style=\"text-align: right;\">\n",
              "      <th></th>\n",
              "    </tr>\n",
              "  </thead>\n",
              "  <tbody>\n",
              "  </tbody>\n",
              "</table>\n",
              "</div>"
            ],
            "text/plain": [
              "Empty DataFrame\n",
              "Columns: []\n",
              "Index: []"
            ]
          },
          "execution_count": 6,
          "metadata": {},
          "output_type": "execute_result"
        }
      ],
      "source": [
        "run_query(\"\"\"\n",
        "MATCH (n:Tag)\n",
        "WHERE n.name CONTAINS \"Notification\"\n",
        "DETACH DELETE n;\n",
        "\"\"\")"
      ]
    },
    {
      "cell_type": "markdown",
      "metadata": {
        "id": "TLPZVUgHUjjJ"
      },
      "source": [
        "Let's evaluate our scraping process and look at how many of the articles have been successfully scraped."
      ]
    },
    {
      "cell_type": "code",
      "execution_count": null,
      "metadata": {
        "id": "XtvLjiMvUjjJ",
        "outputId": "607bcc05-ef7c-4d3f-e197-de3a935f334e"
      },
      "outputs": [
        {
          "data": {
            "image/png": "[encoded data removed]",
            "text/plain": [
              "<Figure size 432x288 with 1 Axes>"
            ]
          },
          "metadata": {
            "needs_background": "light"
          },
          "output_type": "display_data"
        }
      ],
      "source": [
        "data = run_query(\"\"\"\n",
        "MATCH (a:Article)\n",
        "RETURN exists((a)-[:HAS_SECTION]->()) as scraped_articles, count(*) as count\n",
        "\"\"\")\n",
        "ax = sns.barplot(x=\"scraped_articles\", y=\"count\", data=data, color=\"blue\")"
      ]
    },
    {
      "cell_type": "markdown",
      "metadata": {
        "id": "Qvk5SxGmUjjK"
      },
      "source": [
        "In my case, I have successfully collected the information for 245 articles. Unless you have a time machine, you won't be able to recreate this analysis identically. I have scraped the website on the 30th of January 2021, and you will probably do it later. I have prepared most of the analysis queries generically, so they will work regardless of the date you choose to scrape the news.\n",
        "\n",
        "Let's also examine the most frequent tags of the articles."
      ]
    },
    {
      "cell_type": "code",
      "execution_count": null,
      "metadata": {
        "id": "tF41UbhSUjjK",
        "outputId": "677bb0ab-4886-4ee3-a50f-706d09d80ee1"
      },
      "outputs": [
        {
          "data": {
            "image/png": "[encoded data removed]",
            "text/plain": [
              "<Figure size 1152x648 with 1 Axes>"
            ]
          },
          "metadata": {
            "needs_background": "light"
          },
          "output_type": "display_data"
        }
      ],
      "source": [
        "data = run_query(\"\"\"\n",
        "MATCH (n:Tag)\n",
        "RETURN n.name as tag, size((n)<-[:HAS_TAG]-()) as articles\n",
        "ORDER BY articles DESC\n",
        "LIMIT 10\n",
        "\"\"\")\n",
        "\n",
        "fig, ax = pyplot.subplots(figsize=(16,9))\n",
        "ax = sns.barplot(x=\"tag\", y=\"articles\", data=data, color=\"blue\")"
      ]
    },
    {
      "cell_type": "markdown",
      "metadata": {
        "id": "vlO8VI0wUjjL"
      },
      "source": [
        "All charts in this blog post are made using the Seaborn library. CNET Apps Today is the most frequent tag. I think that's just a generic tag for daily news. We can observe that they have custom tags for various big companies such as Amazon, Apple, and Google.\n",
        "### Named Entity Linking - Wikification\n",
        "In my previous blog post, we have already covered the Named Entity Recognition techniques to create a knowledge graph. Here, we will take it up a notch and delve into Named Entity Linking. First of all, what exactly is Named Entity Linking?\n",
        "Image by Aparravi on Wikipedia. Licensed under CC BY-SA 4.0Named entity linking is an upgrade to the entity recognition technique. It starts by recognizing all the entities in the text. Once it finishes the named entity recognition process, it tries to link those entities to a target knowledge base. Usually, the target knowledge bases are Wikipedia or DBpedia, but there are other knowledge bases out there as well. In the above example, we can observe that the named entity recognition process recognized Paris as an entity. The next step is to link it to a target entity in a knowledge base. Here, it uses Wikipedia as the target knowledge base. This is also known as the wikification process. The entity linking process is a bit tricky as we can see that many entities exist in Wikipedia that have Paris in their title. So, as a part of the entity linking process, the NLP model also does the entity disambiguation.\n",
        "There are a dozen Entity linking models out there. Some of them are:\n",
        "* http://wikifier.org/\n",
        "* https://www.mpi-inf.mpg.de/departments/databases-and-information-systems/research/ambiverse-nlu/aida\n",
        "* https://github.com/informagi/REL\n",
        "* https://github.com/facebookresearch/BLINK\n",
        "\n",
        "I am from Slovenia, so my biased decision is to use the Slovenian solution Wikifier [1]. They don't actually offer their NLP model, but they have a free to use API endpoint. All you have to do is to register. They don't even want your password or email, which is nice of them. The Wikifier supports more than 100 languages. It also features some parameters you can use to fine-tune the results. I have noticed that the most dominant parameter is the *pageRankSqThreshold* parameter, which you can use to optimize either recall or accuracy of the model.\n",
        "\n",
        "The APOC library has the <code>apoc.load.json</code> procedure, which you can use to retrieve results from any API endpoints. If you are dealing with a larger amount of data, you will want to use the <code>apoc.periodic.iterate</code> procedure for batching purposes. If we put it all together, the following cypher query will fetch the annotation results for each section from the API endpoint and store the results to Neo4j."
      ]
    },
    {
      "cell_type": "code",
      "execution_count": null,
      "metadata": {
        "id": "uvIfDtpfUjjL",
        "outputId": "091143fb-5875-4486-ec33-6b678d48c1e8"
      },
      "outputs": [
        {
          "data": {
            "text/html": [
              "<div>\n",
              "<style scoped>\n",
              "    .dataframe tbody tr th:only-of-type {\n",
              "        vertical-align: middle;\n",
              "    }\n",
              "\n",
              "    .dataframe tbody tr th {\n",
              "        vertical-align: top;\n",
              "    }\n",
              "\n",
              "    .dataframe thead th {\n",
              "        text-align: right;\n",
              "    }\n",
              "</style>\n",
              "<table border=\"1\" class=\"dataframe\">\n",
              "  <thead>\n",
              "    <tr style=\"text-align: right;\">\n",
              "      <th></th>\n",
              "      <th>batches</th>\n",
              "      <th>total</th>\n",
              "      <th>timeTaken</th>\n",
              "      <th>committedOperations</th>\n",
              "      <th>failedOperations</th>\n",
              "      <th>failedBatches</th>\n",
              "      <th>retries</th>\n",
              "      <th>errorMessages</th>\n",
              "      <th>batch</th>\n",
              "      <th>operations</th>\n",
              "      <th>wasTerminated</th>\n",
              "      <th>failedParams</th>\n",
              "    </tr>\n",
              "  </thead>\n",
              "  <tbody>\n",
              "    <tr>\n",
              "      <th>0</th>\n",
              "      <td>38</td>\n",
              "      <td>3722</td>\n",
              "      <td>3997</td>\n",
              "      <td>3722</td>\n",
              "      <td>0</td>\n",
              "      <td>0</td>\n",
              "      <td>0</td>\n",
              "      <td>{}</td>\n",
              "      <td>{'total': 38, 'committed': 38, 'failed': 0, 'e...</td>\n",
              "      <td>{'total': 3722, 'committed': 3722, 'failed': 0...</td>\n",
              "      <td>False</td>\n",
              "      <td>{}</td>\n",
              "    </tr>\n",
              "  </tbody>\n",
              "</table>\n",
              "</div>"
            ],
            "text/plain": [
              "   batches  total  timeTaken  committedOperations  failedOperations  \\\n",
              "0       38   3722       3997                 3722                 0   \n",
              "\n",
              "   failedBatches  retries errorMessages  \\\n",
              "0              0        0            {}   \n",
              "\n",
              "                                               batch  \\\n",
              "0  {'total': 38, 'committed': 38, 'failed': 0, 'e...   \n",
              "\n",
              "                                          operations  wasTerminated  \\\n",
              "0  {'total': 3722, 'committed': 3722, 'failed': 0...          False   \n",
              "\n",
              "  failedParams  \n",
              "0           {}  "
            ]
          },
          "execution_count": 9,
          "metadata": {},
          "output_type": "execute_result"
        }
      ],
      "source": [
        "user_key = \"insert-user-key\"\n",
        "run_query(\"\"\"\n",
        "CALL apoc.periodic.iterate('\n",
        " MATCH (s:Section) RETURN s\n",
        " ','\n",
        " WITH s, \"http://www.wikifier.org/annotate-article?\" +\n",
        "        \"text=\" + s.text + \"&\" +\n",
        "        \"lang=en&\" +\n",
        "        \"pageRankSqThreshold=0.80&\" +\n",
        "        \"applyPageRankSqThreshold=true&\" +\n",
        "        \"nTopDfValuesToIgnore=200&\" +\n",
        "        \"nWordsToIgnoreFromList=200&\" +\n",
        "        \"minLinkFrequency=100&\" + \n",
        "        \"maxMentionEntropy=10&\" +\n",
        "        \"wikiDataClasses=false&\" +\n",
        "        \"wikiDataClassIds=false&\" +\n",
        "        \"userKey=\" + $userKey as url\n",
        "CALL apoc.load.json(url) YIELD value\n",
        "UNWIND value.annotations as annotation\n",
        "MERGE (e:Entity{wikiDataItemId:annotation.wikiDataItemId})\n",
        "ON CREATE SET e.title = annotation.title, e.url = annotation.url\n",
        "MERGE (s)-[:HAS_ENTITY]->(e)',\n",
        "{batchSize:100, params: {userKey:$user_key}})\n",
        "\"\"\", {\"user_key\":user_key})"
      ]
    },
    {
      "cell_type": "markdown",
      "metadata": {
        "id": "FYt0YqRVUjjM"
      },
      "source": [
        "The named entity linking process will take a couple of minutes. We can now check the most frequently mentioned entities."
      ]
    },
    {
      "cell_type": "code",
      "execution_count": null,
      "metadata": {
        "id": "Un8oiAiNUjjM",
        "outputId": "0112193e-fbef-4d31-fd6e-8b95ad459c15"
      },
      "outputs": [
        {
          "data": {
            "image/png": "[encoded data removed]",
            "text/plain": [
              "<Figure size 1152x648 with 1 Axes>"
            ]
          },
          "metadata": {
            "needs_background": "light"
          },
          "output_type": "display_data"
        }
      ],
      "source": [
        "data = run_query(\"\"\"\n",
        "MATCH (e:Entity)\n",
        "RETURN e.title as entity, size((e)<--()) as mentions\n",
        "ORDER BY mentions DESC LIMIT 10;\n",
        "\"\"\")\n",
        "\n",
        "fig, ax = pyplot.subplots(figsize=(16,9))\n",
        "ax = sns.barplot(x=\"entity\", y=\"mentions\", data=data, color=\"blue\")"
      ]
    },
    {
      "cell_type": "markdown",
      "metadata": {
        "id": "pqATvtz2UjjM"
      },
      "source": [
        "Apple Inc is the most frequently mentioned entity. I am guessing that all dollar signs or USD mentions get linked to the United States dollar. We call also examine the most frequently mentioned by article tags."
      ]
    },
    {
      "cell_type": "code",
      "execution_count": null,
      "metadata": {
        "id": "477pHCcVUjjN",
        "outputId": "04393b1f-bfd7-4e69-956b-ad29d23a8949"
      },
      "outputs": [
        {
          "data": {
            "text/html": [
              "<div>\n",
              "<style scoped>\n",
              "    .dataframe tbody tr th:only-of-type {\n",
              "        vertical-align: middle;\n",
              "    }\n",
              "\n",
              "    .dataframe tbody tr th {\n",
              "        vertical-align: top;\n",
              "    }\n",
              "\n",
              "    .dataframe thead th {\n",
              "        text-align: right;\n",
              "    }\n",
              "</style>\n",
              "<table border=\"1\" class=\"dataframe\">\n",
              "  <thead>\n",
              "    <tr style=\"text-align: right;\">\n",
              "      <th></th>\n",
              "      <th>tag</th>\n",
              "      <th>top_3_mentions</th>\n",
              "    </tr>\n",
              "  </thead>\n",
              "  <tbody>\n",
              "    <tr>\n",
              "      <th>0</th>\n",
              "      <td>Virtual Reality</td>\n",
              "      <td>[Virtual reality, Apple Inc., Facebook]</td>\n",
              "    </tr>\n",
              "    <tr>\n",
              "      <th>1</th>\n",
              "      <td>Apple</td>\n",
              "      <td>[Apple Inc., Virtual reality, IPhone]</td>\n",
              "    </tr>\n",
              "    <tr>\n",
              "      <th>2</th>\n",
              "      <td>Wearable Tech</td>\n",
              "      <td>[Apple Inc., Virtual reality, Apple Watch]</td>\n",
              "    </tr>\n",
              "    <tr>\n",
              "      <th>3</th>\n",
              "      <td>TV and Movies</td>\n",
              "      <td>[The Walt Disney Company, Film, HBO]</td>\n",
              "    </tr>\n",
              "    <tr>\n",
              "      <th>4</th>\n",
              "      <td>Augmented reality (AR)</td>\n",
              "      <td>[Virtual reality, Apple Inc., Film]</td>\n",
              "    </tr>\n",
              "  </tbody>\n",
              "</table>\n",
              "</div>"
            ],
            "text/plain": [
              "                      tag                              top_3_mentions\n",
              "0         Virtual Reality     [Virtual reality, Apple Inc., Facebook]\n",
              "1                   Apple       [Apple Inc., Virtual reality, IPhone]\n",
              "2           Wearable Tech  [Apple Inc., Virtual reality, Apple Watch]\n",
              "3           TV and Movies        [The Walt Disney Company, Film, HBO]\n",
              "4  Augmented reality (AR)         [Virtual reality, Apple Inc., Film]"
            ]
          },
          "execution_count": 11,
          "metadata": {},
          "output_type": "execute_result"
        }
      ],
      "source": [
        "run_query(\"\"\"\n",
        "MATCH (e:Entity)<-[:HAS_ENTITY]-()<-[:HAS_SECTION]-()-[:HAS_TAG]->(tag)\n",
        "WITH tag.name as tag, e.title as title, count(*) as mentions\n",
        "ORDER BY mentions DESC\n",
        "RETURN tag, collect(title)[..3] as top_3_mentions\n",
        "LIMIT 5;\n",
        "\"\"\")"
      ]
    },
    {
      "cell_type": "markdown",
      "metadata": {
        "id": "ca1FW0OLUjjN"
      },
      "source": [
        "### WikiData enrichment\n",
        "A bonus to using the wikification process is that we have the WikiData item id of our entities. This makes it very easy for us to scrape the WikiData API for additional information. Let's say we want to define all business and person entities. We will fetch the entity classes from WikiData API and use that information to group the entities. Again we will use the <code>apoc.load.json</code> procedure to retrieve the response from an API endpoint."
      ]
    },
    {
      "cell_type": "code",
      "execution_count": null,
      "metadata": {
        "id": "u1_a7TpcUjjN",
        "outputId": "5434d053-b677-4bae-d9c4-9898b39cf3ff"
      },
      "outputs": [
        {
          "data": {
            "text/html": [
              "<div>\n",
              "<style scoped>\n",
              "    .dataframe tbody tr th:only-of-type {\n",
              "        vertical-align: middle;\n",
              "    }\n",
              "\n",
              "    .dataframe tbody tr th {\n",
              "        vertical-align: top;\n",
              "    }\n",
              "\n",
              "    .dataframe thead th {\n",
              "        text-align: right;\n",
              "    }\n",
              "</style>\n",
              "<table border=\"1\" class=\"dataframe\">\n",
              "  <thead>\n",
              "    <tr style=\"text-align: right;\">\n",
              "      <th></th>\n",
              "    </tr>\n",
              "  </thead>\n",
              "  <tbody>\n",
              "  </tbody>\n",
              "</table>\n",
              "</div>"
            ],
            "text/plain": [
              "Empty DataFrame\n",
              "Columns: []\n",
              "Index: []"
            ]
          },
          "execution_count": 12,
          "metadata": {},
          "output_type": "execute_result"
        }
      ],
      "source": [
        "run_query(\"\"\"\n",
        "// Iterate over entities\n",
        "MATCH (e:Entity)\n",
        "// Prepare a SparQL query\n",
        "WITH 'SELECT * WHERE{ ?item rdfs:label ?name .filter (?item = wd:' + e.wikiDataItemId + ') filter (lang(?name) = \"en\" ) . ' +\n",
        "      'OPTIONAL{ ?item wdt:P31 [rdfs:label ?class] .filter (lang(?class)=\"en\") }}' AS sparql, e\n",
        "// make a request to Wikidata\n",
        "CALL apoc.load.jsonParams(\n",
        "    \"https://query.wikidata.org/sparql?query=\" + \n",
        "    sparql,\n",
        "     { Accept: \"application/sparql-results+json\"}, null)\n",
        "YIELD value\n",
        "UNWIND value['results']['bindings'] as row\n",
        "FOREACH(ignoreme in case when row['class'] is not null then [1] else [] end | \n",
        "        MERGE (c:Class{name:row['class']['value']})\n",
        "        MERGE (e)-[:INSTANCE_OF]->(c));    \n",
        "\"\"\")"
      ]
    },
    {
      "cell_type": "markdown",
      "metadata": {
        "id": "tLtO4GA2UjjO"
      },
      "source": [
        "We will continue by inspecting the most frequent classes of the entities."
      ]
    },
    {
      "cell_type": "code",
      "execution_count": null,
      "metadata": {
        "id": "un2UutobUjjO",
        "outputId": "493eccce-8034-41fd-b034-78f9956670e1"
      },
      "outputs": [
        {
          "data": {
            "image/png": "[encoded data removed]",
            "text/plain": [
              "<Figure size 1152x648 with 1 Axes>"
            ]
          },
          "metadata": {
            "needs_background": "light"
          },
          "output_type": "display_data"
        }
      ],
      "source": [
        "data = run_query(\"\"\"\n",
        "MATCH (c:Class)\n",
        "RETURN c.name as class, size((c)<--()) as count\n",
        "ORDER BY count DESC LIMIT 10;\n",
        "\"\"\")\n",
        "\n",
        "fig, ax = pyplot.subplots(figsize=(16,9))\n",
        "ax = sns.barplot(x=\"class\", y=\"count\", data=data, color=\"blue\")"
      ]
    },
    {
      "cell_type": "markdown",
      "metadata": {
        "id": "UQUPPCV6UjjO"
      },
      "source": [
        "The wikification process found almost 250 human entities and 100 business entities. We will assign a secondary label to Person and Business entities to simplify our further cypher queries."
      ]
    },
    {
      "cell_type": "code",
      "execution_count": null,
      "metadata": {
        "id": "tpRjYLF3UjjO",
        "outputId": "d3c6d47f-d4a1-4e5d-9be4-a27648fa33de"
      },
      "outputs": [
        {
          "data": {
            "text/html": [
              "<div>\n",
              "<style scoped>\n",
              "    .dataframe tbody tr th:only-of-type {\n",
              "        vertical-align: middle;\n",
              "    }\n",
              "\n",
              "    .dataframe tbody tr th {\n",
              "        vertical-align: top;\n",
              "    }\n",
              "\n",
              "    .dataframe thead th {\n",
              "        text-align: right;\n",
              "    }\n",
              "</style>\n",
              "<table border=\"1\" class=\"dataframe\">\n",
              "  <thead>\n",
              "    <tr style=\"text-align: right;\">\n",
              "      <th></th>\n",
              "    </tr>\n",
              "  </thead>\n",
              "  <tbody>\n",
              "  </tbody>\n",
              "</table>\n",
              "</div>"
            ],
            "text/plain": [
              "Empty DataFrame\n",
              "Columns: []\n",
              "Index: []"
            ]
          },
          "execution_count": 14,
          "metadata": {},
          "output_type": "execute_result"
        }
      ],
      "source": [
        "run_query(\"\"\"\n",
        "MATCH (e:Entity)-[:INSTANCE_OF]->(c:Class)\n",
        "WHERE c.name in [\"human\"]\n",
        "SET e:Person;\n",
        "\"\"\")\n",
        "run_query(\"\"\"\n",
        "MATCH (e:Entity)-[:INSTANCE_OF]->(c:Class)\n",
        "WHERE c.name in [\"business\", \"enterprise\"]\n",
        "SET e:Business;\n",
        "\"\"\")"
      ]
    },
    {
      "cell_type": "markdown",
      "metadata": {
        "id": "hEWAzaFIUjjP"
      },
      "source": [
        "With the added secondary label, we can now easily examine the most frequently mentioned business entities."
      ]
    },
    {
      "cell_type": "code",
      "execution_count": null,
      "metadata": {
        "id": "uJbgSdFdUjjP",
        "outputId": "d245a94a-3539-433d-9aa8-c957c37e3d41"
      },
      "outputs": [
        {
          "data": {
            "text/plain": [
              "[Text(0, 0, 'Apple Inc.'),\n",
              " Text(1, 0, 'The Walt Disney Company'),\n",
              " Text(2, 0, 'Amazon (company)'),\n",
              " Text(3, 0, 'Google'),\n",
              " Text(4, 0, 'GameStop'),\n",
              " Text(5, 0, 'Netflix'),\n",
              " Text(6, 0, 'Marvel Comics'),\n",
              " Text(7, 0, 'Sony'),\n",
              " Text(8, 0, 'Best Buy'),\n",
              " Text(9, 0, 'Microsoft')]"
            ]
          },
          "execution_count": 31,
          "metadata": {},
          "output_type": "execute_result"
        },
        {
          "data": {
            "image/png": "[encoded data removed]",
            "text/plain": [
              "<Figure size 1152x648 with 1 Axes>"
            ]
          },
          "metadata": {
            "needs_background": "light"
          },
          "output_type": "display_data"
        }
      ],
      "source": [
        "data = run_query(\"\"\"\n",
        "MATCH (b:Business)\n",
        "RETURN b.title as business, size((b)<-[:HAS_ENTITY]-()) as mentions\n",
        "ORDER BY mentions DESC\n",
        "LIMIT 10\n",
        "\"\"\")\n",
        "\n",
        "fig, ax = pyplot.subplots(figsize=(16,9))\n",
        "ax = sns.barplot(x=\"business\", y=\"mentions\", data=data, color=\"blue\")\n",
        "ax.set_xticklabels(ax.get_xticklabels(), rotation=30)"
      ]
    },
    {
      "cell_type": "markdown",
      "metadata": {
        "id": "h2FOjUA8UjjP"
      },
      "source": [
        "We already knew that Apple and Amazon were discussed a lot. Some of you already know that this was an exciting week on the stock market, as we can see lots of mentions of GameStop.\n",
        "\n",
        "Just because we can, let's also fetch the industries of the business entities from the WikiData API."
      ]
    },
    {
      "cell_type": "code",
      "execution_count": null,
      "metadata": {
        "id": "V-1QXkXBUjjP",
        "outputId": "d63a813e-dc45-47a9-b442-1adc1baba82b"
      },
      "outputs": [
        {
          "data": {
            "text/html": [
              "<div>\n",
              "<style scoped>\n",
              "    .dataframe tbody tr th:only-of-type {\n",
              "        vertical-align: middle;\n",
              "    }\n",
              "\n",
              "    .dataframe tbody tr th {\n",
              "        vertical-align: top;\n",
              "    }\n",
              "\n",
              "    .dataframe thead th {\n",
              "        text-align: right;\n",
              "    }\n",
              "</style>\n",
              "<table border=\"1\" class=\"dataframe\">\n",
              "  <thead>\n",
              "    <tr style=\"text-align: right;\">\n",
              "      <th></th>\n",
              "    </tr>\n",
              "  </thead>\n",
              "  <tbody>\n",
              "  </tbody>\n",
              "</table>\n",
              "</div>"
            ],
            "text/plain": [
              "Empty DataFrame\n",
              "Columns: []\n",
              "Index: []"
            ]
          },
          "execution_count": 16,
          "metadata": {},
          "output_type": "execute_result"
        }
      ],
      "source": [
        "run_query(\"\"\"\n",
        "MATCH (e:Business)\n",
        "// Prepare a SparQL query\n",
        "WITH 'SELECT * WHERE{ ?item rdfs:label ?name . filter (?item = wd:' + e.wikiDataItemId + ') filter (lang(?name) = \"en\" ) . + \n",
        "      'OPTIONAL{ ?item wdt:P452 [rdfs:label ?industry] .filter (lang(?industry)=\"en\")}}' AS sparql, e\n",
        "// make a request to Wikidata\n",
        "CALL apoc.load.jsonParams(\n",
        "    \"https://query.wikidata.org/sparql?query=\" + \n",
        "    sparql,\n",
        "     { Accept: \"application/sparql-results+json\"}, null)\n",
        "YIELD value\n",
        "UNWIND value['results']['bindings'] as row\n",
        "FOREACH(ignoreme in case when row['industry'] is not null then [1] else [] end | \n",
        "        MERGE (i:Industry{name:row['industry']['value']})\n",
        "        MERGE (e)-[:PART_OF_INDUSTRY]->(i));\n",
        "\"\"\")"
      ]
    },
    {
      "cell_type": "markdown",
      "metadata": {
        "id": "ZA_s9wmJUjjQ"
      },
      "source": [
        "### Exploratory graph analysis\n",
        "Our data pipeline ingestion is complete. Now we can have some fun and explore our knowledge graph. First, we will examine the most co-occurrent entities of the most frequently mentioned entity, which is Apple Inc in my case."
      ]
    },
    {
      "cell_type": "code",
      "execution_count": null,
      "metadata": {
        "id": "h_2baeJQUjjQ",
        "outputId": "6c9686da-f553-4b8a-807d-cc356ccf19eb"
      },
      "outputs": [
        {
          "data": {
            "image/png": "[encoded data removed]",
            "text/plain": [
              "<Figure size 1152x648 with 1 Axes>"
            ]
          },
          "metadata": {
            "needs_background": "light"
          },
          "output_type": "display_data"
        }
      ],
      "source": [
        "data = run_query(\"\"\"\n",
        "MATCH (b:Business)\n",
        "WITH b, size((b)<-[:HAS_ENTITY]-()) as mentions\n",
        "ORDER BY mentions DESC \n",
        "LIMIT 1\n",
        "MATCH (other_entities)<-[:HAS_ENTITY]-()-[:HAS_ENTITY]->(b)\n",
        "RETURN other_entities.title as entity, count(*) as count\n",
        "ORDER BY count DESC\n",
        "LIMIT 10;\n",
        "\"\"\")\n",
        "\n",
        "fig, ax = pyplot.subplots(figsize=(16,9))\n",
        "ax = sns.barplot(x=\"entity\", y=\"count\", data=data, color=\"blue\")"
      ]
    },
    {
      "cell_type": "markdown",
      "metadata": {
        "id": "evHqPlaKUjjQ"
      },
      "source": [
        "Nothing spectacular here. Apple Inc appears in sections where also iPhone, Apple Watch, and VR are being mentioned. We can look at some more exciting news. I was searching for any relevant tags of articles that might be interesting. CNET has many specific tags, but the Stock Market tag stood out as more broad and very relevant in these times. Let's check the most frequently mentioned industries in the Stock Market category of articles."
      ]
    },
    {
      "cell_type": "code",
      "execution_count": null,
      "metadata": {
        "id": "XFy5CRd8UjjR",
        "outputId": "85c69ad8-3c7c-4d6c-8e50-e23b48bc74db"
      },
      "outputs": [
        {
          "data": {
            "text/plain": [
              "[Text(0, 0, 'retail'),\n",
              " Text(1, 0, 'video game industry'),\n",
              " Text(2, 0, 'e-commerce'),\n",
              " Text(3, 0, 'conglomerate'),\n",
              " Text(4, 0, 'consumer electronics'),\n",
              " Text(5, 0, 'technology industry'),\n",
              " Text(6, 0, 'software development'),\n",
              " Text(7, 0, 'software industry'),\n",
              " Text(8, 0, 'telecommunications industry'),\n",
              " Text(9, 0, 'automotive industry')]"
            ]
          },
          "execution_count": 32,
          "metadata": {},
          "output_type": "execute_result"
        },
        {
          "data": {
            "image/png": "[encoded data removed]",
            "text/plain": [
              "<Figure size 1152x648 with 1 Axes>"
            ]
          },
          "metadata": {
            "needs_background": "light"
          },
          "output_type": "display_data"
        }
      ],
      "source": [
        "data = run_query(\"\"\"\n",
        "MATCH (t:Tag)<-[:HAS_TAG]-()-[:HAS_SECTION]->()-[:HAS_ENTITY]->(entity:Business)-[:PART_OF_INDUSTRY]->(industry)\n",
        "WHERE t.name = \"Stock Market\"\n",
        "RETURN industry.name as industry, count(*) as mentions\n",
        "ORDER BY mentions DESC\n",
        "LIMIT 10\n",
        "\"\"\")\n",
        "\n",
        "fig, ax = pyplot.subplots(figsize=(16,9))\n",
        "ax = sns.barplot(x=\"industry\", y=\"mentions\", data=data, color=\"blue\")\n",
        "ax.set_xticklabels(ax.get_xticklabels(), rotation=30)"
      ]
    },
    {
      "cell_type": "markdown",
      "metadata": {
        "id": "thj-mAovUjjR"
      },
      "source": [
        "Retail is by far the most mentioned, next is the video game industry, and then some other industries that are mentioned only once. Next, we will check the most mentioned businesses or persons in the Stock Market category."
      ]
    },
    {
      "cell_type": "code",
      "execution_count": null,
      "metadata": {
        "id": "-BJHzE-mUjjR",
        "outputId": "45a34d34-d527-471b-cc7f-d4032053e417"
      },
      "outputs": [
        {
          "data": {
            "text/plain": [
              "[Text(0, 0, 'GameStop'),\n",
              " Text(1, 0, 'Jim Cramer'),\n",
              " Text(2, 0, 'Elon Musk'),\n",
              " Text(3, 0, 'Alexandria Ocasio-Cortez'),\n",
              " Text(4, 0, 'Ubisoft'),\n",
              " Text(5, 0, 'Tesla, Inc.'),\n",
              " Text(6, 0, 'Rashida Tlaib'),\n",
              " Text(7, 0, 'Donald Trump'),\n",
              " Text(8, 0, 'Etsy'),\n",
              " Text(9, 0, 'Jon Stewart')]"
            ]
          },
          "execution_count": 33,
          "metadata": {},
          "output_type": "execute_result"
        },
        {
          "data": {
            "image/png": "[encoded data removed]",
            "text/plain": [
              "<Figure size 1152x648 with 1 Axes>"
            ]
          },
          "metadata": {
            "needs_background": "light"
          },
          "output_type": "display_data"
        }
      ],
      "source": [
        "data = run_query(\"\"\"\n",
        "MATCH (t:Tag)<-[:HAS_TAG]-()-[:HAS_SECTION]->()-[:HAS_ENTITY]->(entity)\n",
        "WHERE t.name = \"Stock Market\" AND (entity:Person OR entity:Business)\n",
        "RETURN entity.title as entity, count(*) as mentions\n",
        "ORDER BY mentions DESC\n",
        "LIMIT 10\n",
        "\"\"\")\n",
        "\n",
        "fig, ax = pyplot.subplots(figsize=(16,9))\n",
        "ax = sns.barplot(x=\"entity\", y=\"mentions\", data=data, color=\"blue\")\n",
        "ax.set_xticklabels(ax.get_xticklabels(), rotation=30)"
      ]
    },
    {
      "cell_type": "markdown",
      "metadata": {
        "id": "14JOat9zUjjS"
      },
      "source": [
        "Ok, so GameStop is huge this weekend with more than 40 mentions. Very far behind are Jim Cramer, Elon Musk, and Alexandria Ocasio-Cortez. We will try to understand why GameStop is so huge by looking at the co-occurring entities."
      ]
    },
    {
      "cell_type": "code",
      "execution_count": null,
      "metadata": {
        "id": "MrVZdvgsUjjS",
        "outputId": "e1ed37e1-9f01-4fab-8074-dcde0d6e6055"
      },
      "outputs": [
        {
          "data": {
            "image/png": "[encoded data removed]",
            "text/plain": [
              "<Figure size 1152x648 with 1 Axes>"
            ]
          },
          "metadata": {
            "needs_background": "light"
          },
          "output_type": "display_data"
        }
      ],
      "source": [
        "data = run_query(\"\"\"\n",
        "MATCH (b:Business{title:\"GameStop\"})<-[:HAS_ENTITY]-()-[:HAS_ENTITY]->(other_entity)\n",
        "RETURN other_entity.title as entity, count(*) as mentions\n",
        "ORDER BY mentions DESC\n",
        "LIMIT 10\n",
        "\"\"\")\n",
        "\n",
        "fig, ax = pyplot.subplots(figsize=(16,9))\n",
        "ax = sns.barplot(x=\"entity\", y=\"mentions\", data=data, color=\"blue\")"
      ]
    },
    {
      "cell_type": "markdown",
      "metadata": {
        "id": "JWssImjkUjjT"
      },
      "source": [
        "The most frequently mentioned entities in the same section as GameStop are Stock, Reddit, and US dollar. If you look at the news you might see that the results make sense. I would venture a guess that the AMC (TV channel) was wrongly identified and should probably be the AMC Theaters company. There will always be some mistakes in the NLP process. We can filter the results a bit and look for the most co-occurring person or business entities of GameStop."
      ]
    },
    {
      "cell_type": "code",
      "execution_count": null,
      "metadata": {
        "id": "daRv0UNYUjjT",
        "outputId": "23f82f45-ab1a-445b-e9b1-d8c824b685b8"
      },
      "outputs": [
        {
          "data": {
            "image/png": "[encoded data removed]",
            "text/plain": [
              "<Figure size 1152x648 with 1 Axes>"
            ]
          },
          "metadata": {
            "needs_background": "light"
          },
          "output_type": "display_data"
        }
      ],
      "source": [
        "data = run_query(\"\"\"\n",
        "MATCH (b:Business{title:\"GameStop\"})<-[:HAS_ENTITY]-()-[:HAS_ENTITY]->(other_entity:Person)\n",
        "RETURN other_entity.title as entity, count(*) as mentions\n",
        "ORDER BY mentions DESC\n",
        "LIMIT 10\n",
        "\"\"\")\n",
        "\n",
        "fig, ax = pyplot.subplots(figsize=(16,9))\n",
        "ax = sns.barplot(x=\"entity\", y=\"mentions\", data=data, color=\"blue\")"
      ]
    },
    {
      "cell_type": "markdown",
      "metadata": {
        "id": "MQ-OjIP0UjjT"
      },
      "source": [
        "Alexandria Ocasio-Cortez and Elon Musk each appear in three sections with GameStop. Let's examine the text where AOC co-occurs with GameStop."
      ]
    },
    {
      "cell_type": "code",
      "execution_count": null,
      "metadata": {
        "id": "D6x6MRU7UjjT",
        "outputId": "6137d80a-a0bb-4a23-9bba-b05e830934c4"
      },
      "outputs": [
        {
          "data": {
            "text/html": [
              "<div>\n",
              "<style scoped>\n",
              "    .dataframe tbody tr th:only-of-type {\n",
              "        vertical-align: middle;\n",
              "    }\n",
              "\n",
              "    .dataframe tbody tr th {\n",
              "        vertical-align: top;\n",
              "    }\n",
              "\n",
              "    .dataframe thead th {\n",
              "        text-align: right;\n",
              "    }\n",
              "</style>\n",
              "<table border=\"1\" class=\"dataframe\">\n",
              "  <thead>\n",
              "    <tr style=\"text-align: right;\">\n",
              "      <th></th>\n",
              "      <th>text</th>\n",
              "    </tr>\n",
              "  </thead>\n",
              "  <tbody>\n",
              "    <tr>\n",
              "      <th>0</th>\n",
              "      <td>Rep. Alexandria Ocasio-Cortez took to Twitch t...</td>\n",
              "    </tr>\n",
              "    <tr>\n",
              "      <th>1</th>\n",
              "      <td>Rep. Alexandria Ocasio-Cortez, a Democrat from...</td>\n",
              "    </tr>\n",
              "    <tr>\n",
              "      <th>2</th>\n",
              "      <td>Amid the recent stock market chaos, Robinhood ...</td>\n",
              "    </tr>\n",
              "  </tbody>\n",
              "</table>\n",
              "</div>"
            ],
            "text/plain": [
              "                                                text\n",
              "0  Rep. Alexandria Ocasio-Cortez took to Twitch t...\n",
              "1  Rep. Alexandria Ocasio-Cortez, a Democrat from...\n",
              "2  Amid the recent stock market chaos, Robinhood ..."
            ]
          },
          "execution_count": 22,
          "metadata": {},
          "output_type": "execute_result"
        }
      ],
      "source": [
        "run_query(\"\"\"\n",
        "MATCH (b:Business{title:\"GameStop\"})<-[:HAS_ENTITY]-(section)-[:HAS_ENTITY]->(p:Person{title:\"Alexandria Ocasio-Cortez\"})\n",
        "RETURN section.text as text\n",
        "\"\"\")"
      ]
    },
    {
      "cell_type": "markdown",
      "metadata": {
        "id": "cuRqC9K8UjjU"
      },
      "source": [
        "### Graph data science\n",
        "So far, we have only done a couple of aggregations using the Cypher query language. As we are utilizing a knowledge graph to store our information, let's execute some graph algorithms on it. Neo4j Graph Data Science library is a plugin for Neo4j that has at the moment more than 50 graph algorithms available. The algorithm range from community detection and centrality to node embedding and graph neural network categories.\n",
        "We have already inspected some co-occurring entities so far. Now, we will infer a co-occurrence network of persons within our knowledge graph. This process basically translates indirect relationships, where two entities are mentioned in the same section, to a direct relationship between those two entities. The cypher query for inferring the person co-occurrence network is:"
      ]
    },
    {
      "cell_type": "code",
      "execution_count": null,
      "metadata": {
        "id": "9R1YuXbPUjjU",
        "outputId": "e22d4b25-93ed-43a4-90cf-2251609f2186"
      },
      "outputs": [
        {
          "data": {
            "text/html": [
              "<div>\n",
              "<style scoped>\n",
              "    .dataframe tbody tr th:only-of-type {\n",
              "        vertical-align: middle;\n",
              "    }\n",
              "\n",
              "    .dataframe tbody tr th {\n",
              "        vertical-align: top;\n",
              "    }\n",
              "\n",
              "    .dataframe thead th {\n",
              "        text-align: right;\n",
              "    }\n",
              "</style>\n",
              "<table border=\"1\" class=\"dataframe\">\n",
              "  <thead>\n",
              "    <tr style=\"text-align: right;\">\n",
              "      <th></th>\n",
              "    </tr>\n",
              "  </thead>\n",
              "  <tbody>\n",
              "  </tbody>\n",
              "</table>\n",
              "</div>"
            ],
            "text/plain": [
              "Empty DataFrame\n",
              "Columns: []\n",
              "Index: []"
            ]
          },
          "execution_count": 23,
          "metadata": {},
          "output_type": "execute_result"
        }
      ],
      "source": [
        "run_query(\"\"\"\n",
        "MATCH (s:Person)<-[:HAS_ENTITY]-()-[:HAS_ENTITY]->(t:Person)\n",
        "WHERE id(s) < id(t)\n",
        "WITH s,t, count(*) as weight\n",
        "MERGE (s)-[c:CO_OCCURENCE]-(t)\n",
        "SET c.weight = weight\n",
        "\"\"\")"
      ]
    },
    {
      "cell_type": "markdown",
      "metadata": {
        "id": "J39ZDxWtUjjU"
      },
      "source": [
        "The first graph algorithm we will use is the Weakly Connected Components algorithm. It is used to identify disconnected components or islands within the network."
      ]
    },
    {
      "cell_type": "code",
      "source": [
        "run_query(\"\"\"\n",
        "CALL gds.graph.project('co-occurrence', 'Person', 'CO_OCCURRENCE')\n",
        "\"\"\")"
      ],
      "metadata": {
        "id": "LRi9fzN1VS3y"
      },
      "execution_count": null,
      "outputs": []
    },
    {
      "cell_type": "code",
      "execution_count": null,
      "metadata": {
        "id": "kD4n7hMvUjjU",
        "outputId": "f91d36ca-e7c5-47d9-b68d-be739cc408cf"
      },
      "outputs": [
        {
          "data": {
            "text/html": [
              "<div>\n",
              "<style scoped>\n",
              "    .dataframe tbody tr th:only-of-type {\n",
              "        vertical-align: middle;\n",
              "    }\n",
              "\n",
              "    .dataframe tbody tr th {\n",
              "        vertical-align: top;\n",
              "    }\n",
              "\n",
              "    .dataframe thead th {\n",
              "        text-align: right;\n",
              "    }\n",
              "</style>\n",
              "<table border=\"1\" class=\"dataframe\">\n",
              "  <thead>\n",
              "    <tr style=\"text-align: right;\">\n",
              "      <th></th>\n",
              "      <th>writeMillis</th>\n",
              "      <th>nodePropertiesWritten</th>\n",
              "      <th>componentCount</th>\n",
              "      <th>componentDistribution</th>\n",
              "      <th>postProcessingMillis</th>\n",
              "      <th>createMillis</th>\n",
              "      <th>computeMillis</th>\n",
              "      <th>configuration</th>\n",
              "    </tr>\n",
              "  </thead>\n",
              "  <tbody>\n",
              "    <tr>\n",
              "      <th>0</th>\n",
              "      <td>6</td>\n",
              "      <td>239</td>\n",
              "      <td>134</td>\n",
              "      <td>{'p99': 7, 'min': 1, 'max': 30, 'mean': 1.7835...</td>\n",
              "      <td>3</td>\n",
              "      <td>8</td>\n",
              "      <td>1</td>\n",
              "      <td>{'writeConcurrency': 4, 'seedProperty': None, ...</td>\n",
              "    </tr>\n",
              "  </tbody>\n",
              "</table>\n",
              "</div>"
            ],
            "text/plain": [
              "   writeMillis  nodePropertiesWritten  componentCount  \\\n",
              "0            6                    239             134   \n",
              "\n",
              "                               componentDistribution  postProcessingMillis  \\\n",
              "0  {'p99': 7, 'min': 1, 'max': 30, 'mean': 1.7835...                     3   \n",
              "\n",
              "   createMillis  computeMillis  \\\n",
              "0             8              1   \n",
              "\n",
              "                                       configuration  \n",
              "0  {'writeConcurrency': 4, 'seedProperty': None, ...  "
            ]
          },
          "execution_count": 24,
          "metadata": {},
          "output_type": "execute_result"
        }
      ],
      "source": [
        "run_query(\"\"\"\n",
        "CALL gds.wcc.write(co-occurrence,{\n",
        "    writeProperty:'wcc'})\n",
        "YIELD componentCount, componentDistribution\n",
        "\"\"\")"
      ]
    },
    {
      "cell_type": "markdown",
      "metadata": {
        "id": "oF8_9uTkUjjU"
      },
      "source": [
        "The algorithm found 134 disconnected components within our graph. The p50 value is the 50th percentile of the community size. Most of the components consist of a single node. This implies that they don't have any CO_OCCURENCE relationships. The largest island of nodes consists of 30 members. We will mark its members with a secondary label."
      ]
    },
    {
      "cell_type": "code",
      "execution_count": null,
      "metadata": {
        "id": "kzRygtmWUjjU",
        "outputId": "45054508-3aaa-4dd6-c414-38f054a1795a"
      },
      "outputs": [
        {
          "data": {
            "text/html": [
              "<div>\n",
              "<style scoped>\n",
              "    .dataframe tbody tr th:only-of-type {\n",
              "        vertical-align: middle;\n",
              "    }\n",
              "\n",
              "    .dataframe tbody tr th {\n",
              "        vertical-align: top;\n",
              "    }\n",
              "\n",
              "    .dataframe thead th {\n",
              "        text-align: right;\n",
              "    }\n",
              "</style>\n",
              "<table border=\"1\" class=\"dataframe\">\n",
              "  <thead>\n",
              "    <tr style=\"text-align: right;\">\n",
              "      <th></th>\n",
              "    </tr>\n",
              "  </thead>\n",
              "  <tbody>\n",
              "  </tbody>\n",
              "</table>\n",
              "</div>"
            ],
            "text/plain": [
              "Empty DataFrame\n",
              "Columns: []\n",
              "Index: []"
            ]
          },
          "execution_count": 25,
          "metadata": {},
          "output_type": "execute_result"
        }
      ],
      "source": [
        "run_query(\"\"\"\n",
        "MATCH (p:Person)\n",
        "WITH p.wcc as wcc, collect(p) as members\n",
        "ORDER BY size(members) DESC LIMIT 1\n",
        "UNWIND members as member\n",
        "SET member:LargestWCC\n",
        "\"\"\")"
      ]
    },
    {
      "cell_type": "markdown",
      "metadata": {
        "id": "1js7_S9AUjjV"
      },
      "source": [
        "We will further analyze the largest component by examining its community structure and trying to find the most central nodes. When you have a plan to run multiple algorithms on the same projected graph, it is better to use a named graph. The relationship in the co-occurrence network will be treated as undirected."
      ]
    },
    {
      "cell_type": "code",
      "execution_count": null,
      "metadata": {
        "id": "QzxCJRBZUjjV",
        "outputId": "3c291533-2a37-45d7-afcc-b5fa8e6a637d"
      },
      "outputs": [
        {
          "data": {
            "text/html": [
              "<div>\n",
              "<style scoped>\n",
              "    .dataframe tbody tr th:only-of-type {\n",
              "        vertical-align: middle;\n",
              "    }\n",
              "\n",
              "    .dataframe tbody tr th {\n",
              "        vertical-align: top;\n",
              "    }\n",
              "\n",
              "    .dataframe thead th {\n",
              "        text-align: right;\n",
              "    }\n",
              "</style>\n",
              "<table border=\"1\" class=\"dataframe\">\n",
              "  <thead>\n",
              "    <tr style=\"text-align: right;\">\n",
              "      <th></th>\n",
              "      <th>nodeProjection</th>\n",
              "      <th>relationshipProjection</th>\n",
              "      <th>graphName</th>\n",
              "      <th>nodeCount</th>\n",
              "      <th>relationshipCount</th>\n",
              "      <th>createMillis</th>\n",
              "    </tr>\n",
              "  </thead>\n",
              "  <tbody>\n",
              "    <tr>\n",
              "      <th>0</th>\n",
              "      <td>{'LargestWCC': {'properties': {}, 'label': 'La...</td>\n",
              "      <td>{'CO_OCCURENCE': {'orientation': 'UNDIRECTED',...</td>\n",
              "      <td>person-cooccurence</td>\n",
              "      <td>30</td>\n",
              "      <td>114</td>\n",
              "      <td>14</td>\n",
              "    </tr>\n",
              "  </tbody>\n",
              "</table>\n",
              "</div>"
            ],
            "text/plain": [
              "                                      nodeProjection  \\\n",
              "0  {'LargestWCC': {'properties': {}, 'label': 'La...   \n",
              "\n",
              "                              relationshipProjection           graphName  \\\n",
              "0  {'CO_OCCURENCE': {'orientation': 'UNDIRECTED',...  person-cooccurence   \n",
              "\n",
              "   nodeCount  relationshipCount  createMillis  \n",
              "0         30                114            14  "
            ]
          },
          "execution_count": 26,
          "metadata": {},
          "output_type": "execute_result"
        }
      ],
      "source": [
        "run_query(\"\"\"\n",
        "CALL gds.graph.project('person-cooccurence', 'LargestWCC', \n",
        "  {CO_OCCURENCE:{orientation:'UNDIRECTED'}}, {relationshipProperties:['weight']})\n",
        "\"\"\")"
      ]
    },
    {
      "cell_type": "markdown",
      "metadata": {
        "id": "VL3PmMfrUjjV"
      },
      "source": [
        "First, we will run the PageRank algorithm, which will help us identify the most central nodes."
      ]
    },
    {
      "cell_type": "code",
      "execution_count": null,
      "metadata": {
        "id": "w7KC5JrFUjjV",
        "outputId": "fd40e480-5eda-4381-aadc-0955a262bb04"
      },
      "outputs": [
        {
          "data": {
            "text/html": [
              "<div>\n",
              "<style scoped>\n",
              "    .dataframe tbody tr th:only-of-type {\n",
              "        vertical-align: middle;\n",
              "    }\n",
              "\n",
              "    .dataframe tbody tr th {\n",
              "        vertical-align: top;\n",
              "    }\n",
              "\n",
              "    .dataframe thead th {\n",
              "        text-align: right;\n",
              "    }\n",
              "</style>\n",
              "<table border=\"1\" class=\"dataframe\">\n",
              "  <thead>\n",
              "    <tr style=\"text-align: right;\">\n",
              "      <th></th>\n",
              "      <th>writeMillis</th>\n",
              "      <th>nodePropertiesWritten</th>\n",
              "      <th>ranIterations</th>\n",
              "      <th>didConverge</th>\n",
              "      <th>centralityDistribution</th>\n",
              "      <th>postProcessingMillis</th>\n",
              "      <th>createMillis</th>\n",
              "      <th>computeMillis</th>\n",
              "      <th>configuration</th>\n",
              "    </tr>\n",
              "  </thead>\n",
              "  <tbody>\n",
              "    <tr>\n",
              "      <th>0</th>\n",
              "      <td>2</td>\n",
              "      <td>30</td>\n",
              "      <td>20</td>\n",
              "      <td>False</td>\n",
              "      <td>{'p1': 0.3021354675292969, 'max': 4.2606487274...</td>\n",
              "      <td>3</td>\n",
              "      <td>1</td>\n",
              "      <td>177</td>\n",
              "      <td>{'maxIterations': 20, 'writeConcurrency': 4, '...</td>\n",
              "    </tr>\n",
              "  </tbody>\n",
              "</table>\n",
              "</div>"
            ],
            "text/plain": [
              "   writeMillis  nodePropertiesWritten  ranIterations  didConverge  \\\n",
              "0            2                     30             20        False   \n",
              "\n",
              "                              centralityDistribution  postProcessingMillis  \\\n",
              "0  {'p1': 0.3021354675292969, 'max': 4.2606487274...                     3   \n",
              "\n",
              "   createMillis  computeMillis  \\\n",
              "0             1            177   \n",
              "\n",
              "                                       configuration  \n",
              "0  {'maxIterations': 20, 'writeConcurrency': 4, '...  "
            ]
          },
          "execution_count": 27,
          "metadata": {},
          "output_type": "execute_result"
        }
      ],
      "source": [
        "run_query(\"\"\"\n",
        "CALL gds.pageRank.write('person-cooccurence', {relationshipWeightProperty:'weight', writeProperty:'pagerank'})\n",
        "\"\"\")"
      ]
    },
    {
      "cell_type": "markdown",
      "metadata": {
        "id": "tqPznQiKUjjV"
      },
      "source": [
        "Next, we will run the Louvain algorithm, which is a community detection algorithm."
      ]
    },
    {
      "cell_type": "code",
      "execution_count": null,
      "metadata": {
        "id": "6Hfek7GZUjjW",
        "outputId": "6d95578c-f694-47f2-d7ca-2c42d1de4956"
      },
      "outputs": [
        {
          "data": {
            "text/html": [
              "<div>\n",
              "<style scoped>\n",
              "    .dataframe tbody tr th:only-of-type {\n",
              "        vertical-align: middle;\n",
              "    }\n",
              "\n",
              "    .dataframe tbody tr th {\n",
              "        vertical-align: top;\n",
              "    }\n",
              "\n",
              "    .dataframe thead th {\n",
              "        text-align: right;\n",
              "    }\n",
              "</style>\n",
              "<table border=\"1\" class=\"dataframe\">\n",
              "  <thead>\n",
              "    <tr style=\"text-align: right;\">\n",
              "      <th></th>\n",
              "      <th>writeMillis</th>\n",
              "      <th>nodePropertiesWritten</th>\n",
              "      <th>modularity</th>\n",
              "      <th>modularities</th>\n",
              "      <th>ranLevels</th>\n",
              "      <th>communityCount</th>\n",
              "      <th>communityDistribution</th>\n",
              "      <th>postProcessingMillis</th>\n",
              "      <th>createMillis</th>\n",
              "      <th>computeMillis</th>\n",
              "      <th>configuration</th>\n",
              "    </tr>\n",
              "  </thead>\n",
              "  <tbody>\n",
              "    <tr>\n",
              "      <th>0</th>\n",
              "      <td>2</td>\n",
              "      <td>30</td>\n",
              "      <td>0.552532</td>\n",
              "      <td>[0.5419501133786848, 0.5525321239606953]</td>\n",
              "      <td>2</td>\n",
              "      <td>5</td>\n",
              "      <td>{'p99': 10, 'min': 3, 'max': 10, 'mean': 6.0, ...</td>\n",
              "      <td>2</td>\n",
              "      <td>0</td>\n",
              "      <td>77</td>\n",
              "      <td>{'maxIterations': 10, 'writeConcurrency': 4, '...</td>\n",
              "    </tr>\n",
              "  </tbody>\n",
              "</table>\n",
              "</div>"
            ],
            "text/plain": [
              "   writeMillis  nodePropertiesWritten  modularity  \\\n",
              "0            2                     30    0.552532   \n",
              "\n",
              "                               modularities  ranLevels  communityCount  \\\n",
              "0  [0.5419501133786848, 0.5525321239606953]          2               5   \n",
              "\n",
              "                               communityDistribution  postProcessingMillis  \\\n",
              "0  {'p99': 10, 'min': 3, 'max': 10, 'mean': 6.0, ...                     2   \n",
              "\n",
              "   createMillis  computeMillis  \\\n",
              "0             0             77   \n",
              "\n",
              "                                       configuration  \n",
              "0  {'maxIterations': 10, 'writeConcurrency': 4, '...  "
            ]
          },
          "execution_count": 28,
          "metadata": {},
          "output_type": "execute_result"
        }
      ],
      "source": [
        "run_query(\"\"\"\n",
        "CALL gds.louvain.write('person-cooccurence', {relationshipWeightProperty:'weight', writeProperty:'louvain'})\n",
        "\"\"\")"
      ]
    },
    {
      "cell_type": "markdown",
      "metadata": {
        "id": "_sVv-eUXUjjW"
      },
      "source": [
        "### Conclusion\n",
        "I really love how NLP and knowledge graphs are a perfect match. Hopefully, I have given you some ideas and pointers on how you can go about implementing your data pipeline and storing results in a form of a knowledge graph. Let me know what do you think!"
      ]
    },
    {
      "cell_type": "code",
      "execution_count": null,
      "metadata": {
        "id": "kGg9UbvmUjjW"
      },
      "outputs": [],
      "source": [
        ""
      ]
    }
  ],
  "metadata": {
    "kernelspec": {
      "display_name": "nlp",
      "language": "python",
      "name": "nlp"
    },
    "language_info": {
      "codemirror_mode": {
        "name": "ipython",
        "version": 3
      },
      "file_extension": ".py",
      "mimetype": "text/x-python",
      "name": "python",
      "nbconvert_exporter": "python",
      "pygments_lexer": "ipython3",
      "version": "3.7.9"
    },
    "colab": {
      "name": "CNET - News Wikification.ipynb",
      "provenance": [],
      "include_colab_link": true
    }
  },
  "nbformat": 4,
  "nbformat_minor": 0
}