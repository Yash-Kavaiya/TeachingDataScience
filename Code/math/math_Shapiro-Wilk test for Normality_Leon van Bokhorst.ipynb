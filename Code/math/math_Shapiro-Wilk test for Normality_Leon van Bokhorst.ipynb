{
 "cells": [
  {
   "cell_type": "code",
   "execution_count": 3,
   "metadata": {},
   "outputs": [
    {
     "data": {
      "text/plain": [
       "('1.16.1', '1.2.0', '0.24.0', '0.9.0')"
      ]
     },
     "execution_count": 3,
     "metadata": {},
     "output_type": "execute_result"
    }
   ],
   "source": [
    "from __future__ import division\n",
    "%matplotlib inline\n",
    "import numpy as np\n",
    "import pandas as pd\n",
    "import scipy\n",
    "import matplotlib.pyplot as plt\n",
    "import seaborn as sns\n",
    "from scipy import stats\n",
    "import statsmodels.api as sm\n",
    "import math\n",
    "\n",
    "\n",
    "# turn of data table rendering\n",
    "pd.set_option('display.notebook_repr_html', False)\n",
    "\n",
    "sns.set_palette(['#00A99D', '#F5CA0C', '#B6129F', '#76620C', '#095C57'])\n",
    "np.version.full_version, scipy.version.full_version, \\\n",
    "pd.__version__, sm.version.full_version"
   ]
  },
  {
   "cell_type": "markdown",
   "metadata": {},
   "source": [
    "## Non-normal distribution"
   ]
  },
  {
   "cell_type": "code",
   "execution_count": 4,
   "metadata": {},
   "outputs": [
    {
     "data": {
      "text/plain": [
       "count    50.000000\n",
       "mean      2.340000\n",
       "std       1.709637\n",
       "min       0.000000\n",
       "25%       1.000000\n",
       "50%       2.000000\n",
       "75%       3.000000\n",
       "max       8.000000\n",
       "dtype: float64"
      ]
     },
     "execution_count": 4,
     "metadata": {},
     "output_type": "execute_result"
    }
   ],
   "source": [
    "# Create a set with an obvious non-normal distribution\n",
    "data = pd.Series([1,1,0,1,2,2,3,2,1,3,3,2,8,2,1,6,2,1,1,2,2,1,3,2,1,\n",
    "                  2,3,6,2,3,2,2,1,2,2,3,2,1,2,3,2,3,2,3,1,6,1,8,1,1])\n",
    "data.describe()"
   ]
  },
  {
   "cell_type": "code",
   "execution_count": 5,
   "metadata": {},
   "outputs": [
    {
     "data": {
      "image/png": "[encoded data removed]",
      "text/plain": [
       "<Figure size 432x288 with 1 Axes>"
      ]
     },
     "metadata": {
      "needs_background": "light"
     },
     "output_type": "display_data"
    }
   ],
   "source": [
    "# Plot the non-normal distribution\n",
    "sns.distplot(data)\n",
    "plt.show()"
   ]
  },
  {
   "cell_type": "code",
   "execution_count": 6,
   "metadata": {},
   "outputs": [
    {
     "data": {
      "text/plain": [
       "(0.7413722276687622, 4.960041621870914e-08)"
      ]
     },
     "execution_count": 6,
     "metadata": {},
     "output_type": "execute_result"
    }
   ],
   "source": [
    "# The null hypothesis states the data was drawn from a normal distribution. \n",
    "# It returns the w-statistic and the probability that this statistic \n",
    "# came from a normal distribution (p value)\n",
    "w, p = stats.shapiro(data)\n",
    "w, p"
   ]
  },
  {
   "cell_type": "code",
   "execution_count": 7,
   "metadata": {},
   "outputs": [
    {
     "data": {
      "text/plain": [
       "False"
      ]
     },
     "execution_count": 7,
     "metadata": {},
     "output_type": "execute_result"
    }
   ],
   "source": [
    "# Test the null hypothesis with 5% alpha\n",
    "alpha = .05\n",
    "p > alpha"
   ]
  },
  {
   "cell_type": "markdown",
   "metadata": {},
   "source": [
    "Since this p value is much larger than the significance level, we reject the null hypothesis that this sample comes from a normal distribution."
   ]
  },
  {
   "cell_type": "markdown",
   "metadata": {},
   "source": [
    "## Normal distribution"
   ]
  },
  {
   "cell_type": "code",
   "execution_count": 8,
   "metadata": {},
   "outputs": [
    {
     "data": {
      "text/plain": [
       "array([-2.49696567e-02,  1.88380842e-01,  9.35642122e-03,  1.26769305e-01,\n",
       "        1.15862210e-02,  9.81674369e-02,  1.34282399e-01, -7.98297108e-03,\n",
       "        2.32802933e-02,  1.14597914e-01,  1.02325266e-01, -6.52991718e-02,\n",
       "        3.50703992e-02,  1.02472920e-02, -9.57886987e-02, -3.21379707e-02,\n",
       "        2.82480237e-02, -4.96370272e-02, -1.07404493e-01,  5.82473170e-02,\n",
       "        8.23509571e-03, -2.79008965e-02,  2.96226837e-02, -1.17952322e-01,\n",
       "        2.33028711e-02,  9.80228503e-02,  5.08099793e-02, -6.11849577e-04,\n",
       "        6.41728234e-02,  1.19136877e-01,  5.32389134e-02,  1.21296035e-01,\n",
       "        6.06186461e-02,  7.13031501e-02, -1.62868904e-01, -3.15621001e-02,\n",
       "        1.30805961e-01, -1.05132392e-04, -6.75584388e-02, -5.85864087e-02,\n",
       "        1.96655908e-03, -1.24415087e-01,  3.19624271e-02,  5.87124382e-04,\n",
       "       -1.35030654e-01, -1.21994363e-01,  5.88132497e-02,  3.83388176e-03,\n",
       "       -1.44185652e-01, -3.51219534e-02])"
      ]
     },
     "execution_count": 8,
     "metadata": {},
     "output_type": "execute_result"
    }
   ],
   "source": [
    "# Let perform the same test on a random generated normal distribution\n",
    "mu, sigma, n = 0, .1, 50\n",
    "data = np.random.normal(mu, sigma, n)\n",
    "data"
   ]
  },
  {
   "cell_type": "code",
   "execution_count": 9,
   "metadata": {},
   "outputs": [
    {
     "data": {
      "image/png": "[encoded data removed]",
      "text/plain": [
       "<Figure size 432x288 with 1 Axes>"
      ]
     },
     "metadata": {
      "needs_background": "light"
     },
     "output_type": "display_data"
    }
   ],
   "source": [
    "# Plot the more 'normal' distribution\n",
    "sns.distplot(data)\n",
    "plt.show()"
   ]
  },
  {
   "cell_type": "code",
   "execution_count": 10,
   "metadata": {},
   "outputs": [
    {
     "data": {
      "text/plain": [
       "(0.9787467122077942, 0.500400185585022)"
      ]
     },
     "execution_count": 10,
     "metadata": {},
     "output_type": "execute_result"
    }
   ],
   "source": [
    "# The Shapiro-Wilk test tests the null hypothesis that the data \n",
    "# was drawn from a normal distribution.\n",
    "w, p = stats.shapiro(data)\n",
    "w, p"
   ]
  },
  {
   "cell_type": "code",
   "execution_count": 11,
   "metadata": {},
   "outputs": [
    {
     "data": {
      "text/plain": [
       "True"
      ]
     },
     "execution_count": 11,
     "metadata": {},
     "output_type": "execute_result"
    }
   ],
   "source": [
    "# Test the null hypothesis with 5% alpha\n",
    "alpha = .05\n",
    "p > alpha"
   ]
  },
  {
   "cell_type": "markdown",
   "metadata": {},
   "source": [
    "Since this p value is much larger than the significance level, we retain the null hypothesis that this sample comes from a normal distribution."
   ]
  }
 ],
 "metadata": {
  "kernelspec": {
   "display_name": "Python 3",
   "language": "python",
   "name": "python3"
  },
  "language_info": {
   "codemirror_mode": {
    "name": "ipython",
    "version": 3
   },
   "file_extension": ".py",
   "mimetype": "text/x-python",
   "name": "python",
   "nbconvert_exporter": "python",
   "pygments_lexer": "ipython3",
   "version": "3.6.8"
  }
 },
 "nbformat": 4,
 "nbformat_minor": 1
}
