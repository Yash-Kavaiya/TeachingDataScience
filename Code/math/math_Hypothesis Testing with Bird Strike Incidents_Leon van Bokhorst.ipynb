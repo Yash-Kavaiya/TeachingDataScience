{
 "cells": [
  {
   "cell_type": "code",
   "execution_count": 2,
   "metadata": {},
   "outputs": [
    {
     "data": {
      "text/plain": [
       "'1.16.1'"
      ]
     },
     "execution_count": 2,
     "metadata": {},
     "output_type": "execute_result"
    }
   ],
   "source": [
    "from __future__ import division\n",
    "%matplotlib inline\n",
    "import numpy as np\n",
    "import pandas as pd\n",
    "import scipy\n",
    "import matplotlib.pyplot as plt\n",
    "import matplotlib.mlab as mlab\n",
    "import seaborn as sns\n",
    "from scipy import stats\n",
    "import math\n",
    "\n",
    "\n",
    "# turn of data table rendering\n",
    "pd.set_option('display.notebook_repr_html', False)\n",
    "\n",
    "sns.set_palette(['#00A99D', '#F5CA0C', '#B6129F', '#76620C', '#095C57'])\n",
    "np.version.full_version"
   ]
  },
  {
   "cell_type": "markdown",
   "metadata": {},
   "source": [
    "## Data\n",
    "The data used in this example contains reporting from the [Federal Aviation Administration Wildlife Strike Database](http://wildlife.faa.gov/database.aspx) in 2012 and 2013 in the US state of California. We only use daily wild life strike incident frequencies."
   ]
  },
  {
   "cell_type": "code",
   "execution_count": 3,
   "metadata": {},
   "outputs": [
    {
     "data": {
      "text/plain": [
       "INCIDENT_DATE\n",
       "2012-01-02    1\n",
       "2012-01-04    2\n",
       "2012-01-05    5\n",
       "2012-01-06    3\n",
       "2012-01-07    2\n",
       "Name: INCIDENT_DATE, dtype: int64"
      ]
     },
     "execution_count": 3,
     "metadata": {},
     "output_type": "execute_result"
    }
   ],
   "source": [
    "# Load the data from a csv file. \n",
    "data = pd.read_csv('data/wildlife.csv')\n",
    "\n",
    "# We only need the incident dates this time\n",
    "data = data[['INCIDENT_DATE']]\n",
    "data.INCIDENT_DATE = pd.to_datetime(data.INCIDENT_DATE)\n",
    "data = data.groupby('INCIDENT_DATE')['INCIDENT_DATE'].size()\n",
    "data.head()"
   ]
  },
  {
   "cell_type": "code",
   "execution_count": 4,
   "metadata": {},
   "outputs": [
    {
     "data": {
      "text/plain": [
       "           incidents\n",
       "2012-01-01       NaN\n",
       "2012-01-02       NaN\n",
       "2012-01-03       NaN\n",
       "2012-01-04       NaN\n",
       "2012-01-05       NaN"
      ]
     },
     "execution_count": 4,
     "metadata": {},
     "output_type": "execute_result"
    }
   ],
   "source": [
    "# Set the index to contain all days in 2012 and 2013\n",
    "days_2012_2013 = pd.date_range('1/1/2012', '12/31/2013')\n",
    "data = pd.DataFrame(data, index=days_2012_2013, columns=['incidents'])\n",
    "data.head()"
   ]
  },
  {
   "cell_type": "code",
   "execution_count": 5,
   "metadata": {},
   "outputs": [
    {
     "data": {
      "text/plain": [
       "            incidents\n",
       "2012-01-01          0\n",
       "2012-01-02          0\n",
       "2012-01-03          0\n",
       "2012-01-04          0\n",
       "2012-01-05          0"
      ]
     },
     "execution_count": 5,
     "metadata": {},
     "output_type": "execute_result"
    }
   ],
   "source": [
    "# Fill the data with no strike incidents (NaN) with a zero\n",
    "data = data.fillna(0)\n",
    "data.head()"
   ]
  },
  {
   "cell_type": "code",
   "execution_count": 6,
   "metadata": {},
   "outputs": [
    {
     "data": {
      "image/png": "[encoded data removed]",
      "text/plain": [
       "<Figure size 432x288 with 2 Axes>"
      ]
     },
     "metadata": {
      "needs_background": "light"
     },
     "output_type": "display_data"
    }
   ],
   "source": [
    "# Plot of the daily strike incident frequencies of 2012 and 2013\n",
    "f, (ax1, ax2) = plt.subplots(2, 1, sharex=True, sharey=True)\n",
    "sns.barplot(data['2012'].incidents, ax=ax1)\n",
    "sns.barplot(data['2013'].incidents, ax=ax2)\n",
    "ax1.set_title('Wildlife Strike Incidents 2012')\n",
    "ax2.set_title('Wildlife Strike Incidents 2013')\n",
    "ax1.set_xlabel('')\n",
    "ax2.set_xlabel('')\n",
    "plt.show()"
   ]
  },
  {
   "cell_type": "markdown",
   "metadata": {},
   "source": [
    "## Hypothesis testing\n",
    "Let's asume that the Federal Aviation Administration launched a new Wildlife Strike Prevention Program in 2013. We want to know if there is a significant decline in the number of daily strike incidents in 2013 as opposed to 2012. This forms our operational definition. We choose an alpha level of .05 as our level of significance. A probability smaller than the alpha level leads to rejecting the null hypothesis.\n",
    "\n",
    "|Hypothesis|$\\alpha = .05$||\n",
    "|---|---|---|:---:|\n",
    "|Null|$H_0:$|$\\bar{x} = \\mu$|\n",
    "|Alternative|$H_a:$|$\\bar{x} \\lt \\mu$|\n",
    "\n"
   ]
  },
  {
   "cell_type": "code",
   "execution_count": 7,
   "metadata": {},
   "outputs": [
    {
     "data": {
      "text/plain": [
       "(0.0, 0.0)"
      ]
     },
     "execution_count": 7,
     "metadata": {},
     "output_type": "execute_result"
    }
   ],
   "source": [
    "# We assume stats from the wildlife strike incidents in 2012\n",
    "# to be our population parameters\n",
    "mu = data['2012'].incidents.mean()\n",
    "sigma = data['2012'].incidents.std()\n",
    "mu, sigma"
   ]
  },
  {
   "cell_type": "code",
   "execution_count": 8,
   "metadata": {},
   "outputs": [
    {
     "data": {
      "text/plain": [
       "0.0"
      ]
     },
     "execution_count": 8,
     "metadata": {},
     "output_type": "execute_result"
    }
   ],
   "source": [
    "# We also take the average of strike incidents in 2013\n",
    "xbar = data['2013'].incidents.mean()\n",
    "xbar"
   ]
  },
  {
   "cell_type": "code",
   "execution_count": 9,
   "metadata": {},
   "outputs": [
    {
     "data": {
      "text/plain": [
       "365"
      ]
     },
     "execution_count": 9,
     "metadata": {},
     "output_type": "execute_result"
    }
   ],
   "source": [
    "# What is our sample size\n",
    "n = data['2013'].incidents.count()\n",
    "n"
   ]
  },
  {
   "cell_type": "code",
   "execution_count": 10,
   "metadata": {},
   "outputs": [
    {
     "data": {
      "text/plain": [
       "0.0"
      ]
     },
     "execution_count": 10,
     "metadata": {},
     "output_type": "execute_result"
    }
   ],
   "source": [
    "# Calculate the standard error\n",
    "SE = sigma / math.sqrt(n)\n",
    "SE"
   ]
  },
  {
   "cell_type": "markdown",
   "metadata": {},
   "source": [
    "We notice the mean average wildlife strike incidents is somewhat lower in 2013. We need to find out if this is due to the normal variation in the data. In other words, could we draw this mean by pure random chance? To find out, we calculate the z score for our sample mean and check this against the significance level alpha. "
   ]
  },
  {
   "cell_type": "code",
   "execution_count": 11,
   "metadata": {},
   "outputs": [
    {
     "name": "stderr",
     "output_type": "stream",
     "text": [
      "C:\\Users\\Yogesh Kulkarni\\Anaconda3\\lib\\site-packages\\ipykernel_launcher.py:2: RuntimeWarning: invalid value encountered in double_scalars\n",
      "  \n"
     ]
    },
    {
     "data": {
      "text/plain": [
       "nan"
      ]
     },
     "execution_count": 11,
     "metadata": {},
     "output_type": "execute_result"
    }
   ],
   "source": [
    "# Calculate the z score for the mean of 2013 (xbar)\n",
    "zscore = (xbar - mu) / SE\n",
    "zscore"
   ]
  },
  {
   "cell_type": "code",
   "execution_count": 12,
   "metadata": {},
   "outputs": [
    {
     "data": {
      "text/plain": [
       "-1.6448536269514729"
      ]
     },
     "execution_count": 12,
     "metadata": {},
     "output_type": "execute_result"
    }
   ],
   "source": [
    "# Calculate the critical value of the alpha level on one side of the\n",
    "# distribution, because we're only intrested in a mean decline\n",
    "alpha = .05\n",
    "critical_value = stats.norm.ppf(alpha)\n",
    "critical_value"
   ]
  },
  {
   "cell_type": "code",
   "execution_count": 13,
   "metadata": {},
   "outputs": [
    {
     "name": "stderr",
     "output_type": "stream",
     "text": [
      "C:\\Users\\Yogesh Kulkarni\\AppData\\Roaming\\Python\\Python36\\site-packages\\scipy\\stats\\_distn_infrastructure.py:874: RuntimeWarning: invalid value encountered in greater_equal\n",
      "  return (self.a <= x) & (x <= self.b)\n",
      "C:\\Users\\Yogesh Kulkarni\\AppData\\Roaming\\Python\\Python36\\site-packages\\scipy\\stats\\_distn_infrastructure.py:874: RuntimeWarning: invalid value encountered in less_equal\n",
      "  return (self.a <= x) & (x <= self.b)\n"
     ]
    },
    {
     "data": {
      "image/png": "[encoded data removed]",
      "text/plain": [
       "<Figure size 432x288 with 1 Axes>"
      ]
     },
     "metadata": {
      "needs_background": "light"
     },
     "output_type": "display_data"
    }
   ],
   "source": [
    "# Plot the normal distribution\n",
    "samples = 100\n",
    "x_plot = np.linspace(-3.5, 3.5, samples)\n",
    "y_plot = stats.norm.pdf(x_plot, 0, 1)\n",
    "plt.plot(x_plot, y_plot)\n",
    "\n",
    "# Plot the critical region\n",
    "x_crit = np.linspace(-3.5, critical_value, samples)\n",
    "y_crit = stats.norm.pdf(x_crit, 0, 1)\n",
    "plt.fill_between(x_crit,  y_crit, alpha=.5)\n",
    "\n",
    "# Plot the z score\n",
    "plt.plot([zscore, zscore], [0, stats.norm.pdf(zscore)])\n",
    "\n",
    "# Show legend\n",
    "plt.legend(['critical region', 'z score'])\n",
    "plt.show()"
   ]
  },
  {
   "cell_type": "code",
   "execution_count": 14,
   "metadata": {},
   "outputs": [
    {
     "data": {
      "text/plain": [
       "False"
      ]
     },
     "execution_count": 14,
     "metadata": {},
     "output_type": "execute_result"
    }
   ],
   "source": [
    "# So given these values let's test the alternative hypothesis\n",
    "zscore < critical_value"
   ]
  },
  {
   "cell_type": "markdown",
   "metadata": {},
   "source": [
    "This means we could have drawn a mean sample xbar from the real population pure by random chance, therefore we fail to reject the null hypothesis. In other words, there is no significant difference of average daily strike incidents between 2013 and 2012."
   ]
  },
  {
   "cell_type": "code",
   "execution_count": 15,
   "metadata": {},
   "outputs": [
    {
     "name": "stderr",
     "output_type": "stream",
     "text": [
      "C:\\Users\\Yogesh Kulkarni\\AppData\\Roaming\\Python\\Python36\\site-packages\\scipy\\stats\\_distn_infrastructure.py:877: RuntimeWarning: invalid value encountered in greater\n",
      "  return (self.a < x) & (x < self.b)\n",
      "C:\\Users\\Yogesh Kulkarni\\AppData\\Roaming\\Python\\Python36\\site-packages\\scipy\\stats\\_distn_infrastructure.py:877: RuntimeWarning: invalid value encountered in less\n",
      "  return (self.a < x) & (x < self.b)\n",
      "C:\\Users\\Yogesh Kulkarni\\AppData\\Roaming\\Python\\Python36\\site-packages\\scipy\\stats\\_distn_infrastructure.py:1748: RuntimeWarning: invalid value encountered in greater_equal\n",
      "  cond2 = (x >= self.b) & cond0\n"
     ]
    },
    {
     "data": {
      "text/plain": [
       "nan"
      ]
     },
     "execution_count": 15,
     "metadata": {},
     "output_type": "execute_result"
    }
   ],
   "source": [
    "# The probability of drawing this sample mean is about 8%\n",
    "p = stats.norm.cdf(zscore)\n",
    "p"
   ]
  }
 ],
 "metadata": {
  "kernelspec": {
   "display_name": "Python 3",
   "language": "python",
   "name": "python3"
  },
  "language_info": {
   "codemirror_mode": {
    "name": "ipython",
    "version": 3
   },
   "file_extension": ".py",
   "mimetype": "text/x-python",
   "name": "python",
   "nbconvert_exporter": "python",
   "pygments_lexer": "ipython3",
   "version": "3.6.8"
  }
 },
 "nbformat": 4,
 "nbformat_minor": 1
}
