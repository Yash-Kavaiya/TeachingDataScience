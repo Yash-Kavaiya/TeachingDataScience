{
  "nbformat": 4,
  "nbformat_minor": 0,
  "metadata": {
    "colab": {
      "provenance": [],
      "gpuType": "T4"
    },
    "kernelspec": {
      "name": "python3",
      "display_name": "Python 3"
    },
    "language_info": {
      "name": "python"
    },
    "accelerator": "GPU",
    "widgets": {
      "application/vnd.jupyter.widget-state+json": {
        "b2f1ac95ec9e4e73b183254f302e8564": {
          "model_module": "@jupyter-widgets/controls",
          "model_name": "HBoxModel",
          "model_module_version": "1.5.0",
          "state": {
            "_dom_classes": [],
            "_model_module": "@jupyter-widgets/controls",
            "_model_module_version": "1.5.0",
            "_model_name": "HBoxModel",
            "_view_count": null,
            "_view_module": "@jupyter-widgets/controls",
            "_view_module_version": "1.5.0",
            "_view_name": "HBoxView",
            "box_style": "",
            "children": [
              "IPY_MODEL_79cb1bfff55c430bb1bd3f54dbc71d93",
              "IPY_MODEL_39141efe737041e1857ff89e47680ef1",
              "IPY_MODEL_edab0936dcc342f394aabe92b45d97a4"
            ],
            "layout": "IPY_MODEL_9efeea2cdc504731850b8b2c5a8c38eb"
          }
        },
        "79cb1bfff55c430bb1bd3f54dbc71d93": {
          "model_module": "@jupyter-widgets/controls",
          "model_name": "HTMLModel",
          "model_module_version": "1.5.0",
          "state": {
            "_dom_classes": [],
            "_model_module": "@jupyter-widgets/controls",
            "_model_module_version": "1.5.0",
            "_model_name": "HTMLModel",
            "_view_count": null,
            "_view_module": "@jupyter-widgets/controls",
            "_view_module_version": "1.5.0",
            "_view_name": "HTMLView",
            "description": "",
            "description_tooltip": null,
            "layout": "IPY_MODEL_99a284ec42d34b2ab1dc325cfe0e6ab1",
            "placeholder": "​",
            "style": "IPY_MODEL_607a13f881774293b111c3cce9498f14",
            "value": "config.json: 100%"
          }
        },
        "39141efe737041e1857ff89e47680ef1": {
          "model_module": "@jupyter-widgets/controls",
          "model_name": "FloatProgressModel",
          "model_module_version": "1.5.0",
          "state": {
            "_dom_classes": [],
            "_model_module": "@jupyter-widgets/controls",
            "_model_module_version": "1.5.0",
            "_model_name": "FloatProgressModel",
            "_view_count": null,
            "_view_module": "@jupyter-widgets/controls",
            "_view_module_version": "1.5.0",
            "_view_name": "ProgressView",
            "bar_style": "success",
            "description": "",
            "description_tooltip": null,
            "layout": "IPY_MODEL_e29315ba12604ccb9a57b8ccaf6c12c4",
            "max": 609,
            "min": 0,
            "orientation": "horizontal",
            "style": "IPY_MODEL_63b1474aa3354c01a1588e291b1d6ddf",
            "value": 609
          }
        },
        "edab0936dcc342f394aabe92b45d97a4": {
          "model_module": "@jupyter-widgets/controls",
          "model_name": "HTMLModel",
          "model_module_version": "1.5.0",
          "state": {
            "_dom_classes": [],
            "_model_module": "@jupyter-widgets/controls",
            "_model_module_version": "1.5.0",
            "_model_name": "HTMLModel",
            "_view_count": null,
            "_view_module": "@jupyter-widgets/controls",
            "_view_module_version": "1.5.0",
            "_view_name": "HTMLView",
            "description": "",
            "description_tooltip": null,
            "layout": "IPY_MODEL_34086bde8de743eaa3154170dc3c1c11",
            "placeholder": "​",
            "style": "IPY_MODEL_eecc9bfc32f8479cae1e00bd8c448fb8",
            "value": " 609/609 [00:00&lt;00:00, 37.9kB/s]"
          }
        },
        "9efeea2cdc504731850b8b2c5a8c38eb": {
          "model_module": "@jupyter-widgets/base",
          "model_name": "LayoutModel",
          "model_module_version": "1.2.0",
          "state": {
            "_model_module": "@jupyter-widgets/base",
            "_model_module_version": "1.2.0",
            "_model_name": "LayoutModel",
            "_view_count": null,
            "_view_module": "@jupyter-widgets/base",
            "_view_module_version": "1.2.0",
            "_view_name": "LayoutView",
            "align_content": null,
            "align_items": null,
            "align_self": null,
            "border": null,
            "bottom": null,
            "display": null,
            "flex": null,
            "flex_flow": null,
            "grid_area": null,
            "grid_auto_columns": null,
            "grid_auto_flow": null,
            "grid_auto_rows": null,
            "grid_column": null,
            "grid_gap": null,
            "grid_row": null,
            "grid_template_areas": null,
            "grid_template_columns": null,
            "grid_template_rows": null,
            "height": null,
            "justify_content": null,
            "justify_items": null,
            "left": null,
            "margin": null,
            "max_height": null,
            "max_width": null,
            "min_height": null,
            "min_width": null,
            "object_fit": null,
            "object_position": null,
            "order": null,
            "overflow": null,
            "overflow_x": null,
            "overflow_y": null,
            "padding": null,
            "right": null,
            "top": null,
            "visibility": null,
            "width": null
          }
        },
        "99a284ec42d34b2ab1dc325cfe0e6ab1": {
          "model_module": "@jupyter-widgets/base",
          "model_name": "LayoutModel",
          "model_module_version": "1.2.0",
          "state": {
            "_model_module": "@jupyter-widgets/base",
            "_model_module_version": "1.2.0",
            "_model_name": "LayoutModel",
            "_view_count": null,
            "_view_module": "@jupyter-widgets/base",
            "_view_module_version": "1.2.0",
            "_view_name": "LayoutView",
            "align_content": null,
            "align_items": null,
            "align_self": null,
            "border": null,
            "bottom": null,
            "display": null,
            "flex": null,
            "flex_flow": null,
            "grid_area": null,
            "grid_auto_columns": null,
            "grid_auto_flow": null,
            "grid_auto_rows": null,
            "grid_column": null,
            "grid_gap": null,
            "grid_row": null,
            "grid_template_areas": null,
            "grid_template_columns": null,
            "grid_template_rows": null,
            "height": null,
            "justify_content": null,
            "justify_items": null,
            "left": null,
            "margin": null,
            "max_height": null,
            "max_width": null,
            "min_height": null,
            "min_width": null,
            "object_fit": null,
            "object_position": null,
            "order": null,
            "overflow": null,
            "overflow_x": null,
            "overflow_y": null,
            "padding": null,
            "right": null,
            "top": null,
            "visibility": null,
            "width": null
          }
        },
        "607a13f881774293b111c3cce9498f14": {
          "model_module": "@jupyter-widgets/controls",
          "model_name": "DescriptionStyleModel",
          "model_module_version": "1.5.0",
          "state": {
            "_model_module": "@jupyter-widgets/controls",
            "_model_module_version": "1.5.0",
            "_model_name": "DescriptionStyleModel",
            "_view_count": null,
            "_view_module": "@jupyter-widgets/base",
            "_view_module_version": "1.2.0",
            "_view_name": "StyleView",
            "description_width": ""
          }
        },
        "e29315ba12604ccb9a57b8ccaf6c12c4": {
          "model_module": "@jupyter-widgets/base",
          "model_name": "LayoutModel",
          "model_module_version": "1.2.0",
          "state": {
            "_model_module": "@jupyter-widgets/base",
            "_model_module_version": "1.2.0",
            "_model_name": "LayoutModel",
            "_view_count": null,
            "_view_module": "@jupyter-widgets/base",
            "_view_module_version": "1.2.0",
            "_view_name": "LayoutView",
            "align_content": null,
            "align_items": null,
            "align_self": null,
            "border": null,
            "bottom": null,
            "display": null,
            "flex": null,
            "flex_flow": null,
            "grid_area": null,
            "grid_auto_columns": null,
            "grid_auto_flow": null,
            "grid_auto_rows": null,
            "grid_column": null,
            "grid_gap": null,
            "grid_row": null,
            "grid_template_areas": null,
            "grid_template_columns": null,
            "grid_template_rows": null,
            "height": null,
            "justify_content": null,
            "justify_items": null,
            "left": null,
            "margin": null,
            "max_height": null,
            "max_width": null,
            "min_height": null,
            "min_width": null,
            "object_fit": null,
            "object_position": null,
            "order": null,
            "overflow": null,
            "overflow_x": null,
            "overflow_y": null,
            "padding": null,
            "right": null,
            "top": null,
            "visibility": null,
            "width": null
          }
        },
        "63b1474aa3354c01a1588e291b1d6ddf": {
          "model_module": "@jupyter-widgets/controls",
          "model_name": "ProgressStyleModel",
          "model_module_version": "1.5.0",
          "state": {
            "_model_module": "@jupyter-widgets/controls",
            "_model_module_version": "1.5.0",
            "_model_name": "ProgressStyleModel",
            "_view_count": null,
            "_view_module": "@jupyter-widgets/base",
            "_view_module_version": "1.2.0",
            "_view_name": "StyleView",
            "bar_color": null,
            "description_width": ""
          }
        },
        "34086bde8de743eaa3154170dc3c1c11": {
          "model_module": "@jupyter-widgets/base",
          "model_name": "LayoutModel",
          "model_module_version": "1.2.0",
          "state": {
            "_model_module": "@jupyter-widgets/base",
            "_model_module_version": "1.2.0",
            "_model_name": "LayoutModel",
            "_view_count": null,
            "_view_module": "@jupyter-widgets/base",
            "_view_module_version": "1.2.0",
            "_view_name": "LayoutView",
            "align_content": null,
            "align_items": null,
            "align_self": null,
            "border": null,
            "bottom": null,
            "display": null,
            "flex": null,
            "flex_flow": null,
            "grid_area": null,
            "grid_auto_columns": null,
            "grid_auto_flow": null,
            "grid_auto_rows": null,
            "grid_column": null,
            "grid_gap": null,
            "grid_row": null,
            "grid_template_areas": null,
            "grid_template_columns": null,
            "grid_template_rows": null,
            "height": null,
            "justify_content": null,
            "justify_items": null,
            "left": null,
            "margin": null,
            "max_height": null,
            "max_width": null,
            "min_height": null,
            "min_width": null,
            "object_fit": null,
            "object_position": null,
            "order": null,
            "overflow": null,
            "overflow_x": null,
            "overflow_y": null,
            "padding": null,
            "right": null,
            "top": null,
            "visibility": null,
            "width": null
          }
        },
        "eecc9bfc32f8479cae1e00bd8c448fb8": {
          "model_module": "@jupyter-widgets/controls",
          "model_name": "DescriptionStyleModel",
          "model_module_version": "1.5.0",
          "state": {
            "_model_module": "@jupyter-widgets/controls",
            "_model_module_version": "1.5.0",
            "_model_name": "DescriptionStyleModel",
            "_view_count": null,
            "_view_module": "@jupyter-widgets/base",
            "_view_module_version": "1.2.0",
            "_view_name": "StyleView",
            "description_width": ""
          }
        },
        "c5ab274e5fc84cecb5275323ffb5c0ee": {
          "model_module": "@jupyter-widgets/controls",
          "model_name": "HBoxModel",
          "model_module_version": "1.5.0",
          "state": {
            "_dom_classes": [],
            "_model_module": "@jupyter-widgets/controls",
            "_model_module_version": "1.5.0",
            "_model_name": "HBoxModel",
            "_view_count": null,
            "_view_module": "@jupyter-widgets/controls",
            "_view_module_version": "1.5.0",
            "_view_name": "HBoxView",
            "box_style": "",
            "children": [
              "IPY_MODEL_fa885f3801f3441599dd9099f5c93ecc",
              "IPY_MODEL_abd89ed74f424869b5170bc0e7d6efa9",
              "IPY_MODEL_3f136c052a0848969fa34c7c6ab54046"
            ],
            "layout": "IPY_MODEL_89bfba81deba4d1f9fe61765655daa12"
          }
        },
        "fa885f3801f3441599dd9099f5c93ecc": {
          "model_module": "@jupyter-widgets/controls",
          "model_name": "HTMLModel",
          "model_module_version": "1.5.0",
          "state": {
            "_dom_classes": [],
            "_model_module": "@jupyter-widgets/controls",
            "_model_module_version": "1.5.0",
            "_model_name": "HTMLModel",
            "_view_count": null,
            "_view_module": "@jupyter-widgets/controls",
            "_view_module_version": "1.5.0",
            "_view_name": "HTMLView",
            "description": "",
            "description_tooltip": null,
            "layout": "IPY_MODEL_baf7521840cf491d9da7f56d89a8e793",
            "placeholder": "​",
            "style": "IPY_MODEL_5e3d00d4432043bdb301e43e899faee8",
            "value": "tokenizer_config.json: 100%"
          }
        },
        "abd89ed74f424869b5170bc0e7d6efa9": {
          "model_module": "@jupyter-widgets/controls",
          "model_name": "FloatProgressModel",
          "model_module_version": "1.5.0",
          "state": {
            "_dom_classes": [],
            "_model_module": "@jupyter-widgets/controls",
            "_model_module_version": "1.5.0",
            "_model_name": "FloatProgressModel",
            "_view_count": null,
            "_view_module": "@jupyter-widgets/controls",
            "_view_module_version": "1.5.0",
            "_view_name": "ProgressView",
            "bar_style": "success",
            "description": "",
            "description_tooltip": null,
            "layout": "IPY_MODEL_f9c6431732534ac287e4c80c274498ab",
            "max": 776,
            "min": 0,
            "orientation": "horizontal",
            "style": "IPY_MODEL_b7d7e45b935f4faf8ddb00acafeefe40",
            "value": 776
          }
        },
        "3f136c052a0848969fa34c7c6ab54046": {
          "model_module": "@jupyter-widgets/controls",
          "model_name": "HTMLModel",
          "model_module_version": "1.5.0",
          "state": {
            "_dom_classes": [],
            "_model_module": "@jupyter-widgets/controls",
            "_model_module_version": "1.5.0",
            "_model_name": "HTMLModel",
            "_view_count": null,
            "_view_module": "@jupyter-widgets/controls",
            "_view_module_version": "1.5.0",
            "_view_name": "HTMLView",
            "description": "",
            "description_tooltip": null,
            "layout": "IPY_MODEL_6c80492f16ff4a9fb8774f4ccf838198",
            "placeholder": "​",
            "style": "IPY_MODEL_96171b5951bd40ec9f87509a83573a56",
            "value": " 776/776 [00:00&lt;00:00, 55.8kB/s]"
          }
        },
        "89bfba81deba4d1f9fe61765655daa12": {
          "model_module": "@jupyter-widgets/base",
          "model_name": "LayoutModel",
          "model_module_version": "1.2.0",
          "state": {
            "_model_module": "@jupyter-widgets/base",
            "_model_module_version": "1.2.0",
            "_model_name": "LayoutModel",
            "_view_count": null,
            "_view_module": "@jupyter-widgets/base",
            "_view_module_version": "1.2.0",
            "_view_name": "LayoutView",
            "align_content": null,
            "align_items": null,
            "align_self": null,
            "border": null,
            "bottom": null,
            "display": null,
            "flex": null,
            "flex_flow": null,
            "grid_area": null,
            "grid_auto_columns": null,
            "grid_auto_flow": null,
            "grid_auto_rows": null,
            "grid_column": null,
            "grid_gap": null,
            "grid_row": null,
            "grid_template_areas": null,
            "grid_template_columns": null,
            "grid_template_rows": null,
            "height": null,
            "justify_content": null,
            "justify_items": null,
            "left": null,
            "margin": null,
            "max_height": null,
            "max_width": null,
            "min_height": null,
            "min_width": null,
            "object_fit": null,
            "object_position": null,
            "order": null,
            "overflow": null,
            "overflow_x": null,
            "overflow_y": null,
            "padding": null,
            "right": null,
            "top": null,
            "visibility": null,
            "width": null
          }
        },
        "baf7521840cf491d9da7f56d89a8e793": {
          "model_module": "@jupyter-widgets/base",
          "model_name": "LayoutModel",
          "model_module_version": "1.2.0",
          "state": {
            "_model_module": "@jupyter-widgets/base",
            "_model_module_version": "1.2.0",
            "_model_name": "LayoutModel",
            "_view_count": null,
            "_view_module": "@jupyter-widgets/base",
            "_view_module_version": "1.2.0",
            "_view_name": "LayoutView",
            "align_content": null,
            "align_items": null,
            "align_self": null,
            "border": null,
            "bottom": null,
            "display": null,
            "flex": null,
            "flex_flow": null,
            "grid_area": null,
            "grid_auto_columns": null,
            "grid_auto_flow": null,
            "grid_auto_rows": null,
            "grid_column": null,
            "grid_gap": null,
            "grid_row": null,
            "grid_template_areas": null,
            "grid_template_columns": null,
            "grid_template_rows": null,
            "height": null,
            "justify_content": null,
            "justify_items": null,
            "left": null,
            "margin": null,
            "max_height": null,
            "max_width": null,
            "min_height": null,
            "min_width": null,
            "object_fit": null,
            "object_position": null,
            "order": null,
            "overflow": null,
            "overflow_x": null,
            "overflow_y": null,
            "padding": null,
            "right": null,
            "top": null,
            "visibility": null,
            "width": null
          }
        },
        "5e3d00d4432043bdb301e43e899faee8": {
          "model_module": "@jupyter-widgets/controls",
          "model_name": "DescriptionStyleModel",
          "model_module_version": "1.5.0",
          "state": {
            "_model_module": "@jupyter-widgets/controls",
            "_model_module_version": "1.5.0",
            "_model_name": "DescriptionStyleModel",
            "_view_count": null,
            "_view_module": "@jupyter-widgets/base",
            "_view_module_version": "1.2.0",
            "_view_name": "StyleView",
            "description_width": ""
          }
        },
        "f9c6431732534ac287e4c80c274498ab": {
          "model_module": "@jupyter-widgets/base",
          "model_name": "LayoutModel",
          "model_module_version": "1.2.0",
          "state": {
            "_model_module": "@jupyter-widgets/base",
            "_model_module_version": "1.2.0",
            "_model_name": "LayoutModel",
            "_view_count": null,
            "_view_module": "@jupyter-widgets/base",
            "_view_module_version": "1.2.0",
            "_view_name": "LayoutView",
            "align_content": null,
            "align_items": null,
            "align_self": null,
            "border": null,
            "bottom": null,
            "display": null,
            "flex": null,
            "flex_flow": null,
            "grid_area": null,
            "grid_auto_columns": null,
            "grid_auto_flow": null,
            "grid_auto_rows": null,
            "grid_column": null,
            "grid_gap": null,
            "grid_row": null,
            "grid_template_areas": null,
            "grid_template_columns": null,
            "grid_template_rows": null,
            "height": null,
            "justify_content": null,
            "justify_items": null,
            "left": null,
            "margin": null,
            "max_height": null,
            "max_width": null,
            "min_height": null,
            "min_width": null,
            "object_fit": null,
            "object_position": null,
            "order": null,
            "overflow": null,
            "overflow_x": null,
            "overflow_y": null,
            "padding": null,
            "right": null,
            "top": null,
            "visibility": null,
            "width": null
          }
        },
        "b7d7e45b935f4faf8ddb00acafeefe40": {
          "model_module": "@jupyter-widgets/controls",
          "model_name": "ProgressStyleModel",
          "model_module_version": "1.5.0",
          "state": {
            "_model_module": "@jupyter-widgets/controls",
            "_model_module_version": "1.5.0",
            "_model_name": "ProgressStyleModel",
            "_view_count": null,
            "_view_module": "@jupyter-widgets/base",
            "_view_module_version": "1.2.0",
            "_view_name": "StyleView",
            "bar_color": null,
            "description_width": ""
          }
        },
        "6c80492f16ff4a9fb8774f4ccf838198": {
          "model_module": "@jupyter-widgets/base",
          "model_name": "LayoutModel",
          "model_module_version": "1.2.0",
          "state": {
            "_model_module": "@jupyter-widgets/base",
            "_model_module_version": "1.2.0",
            "_model_name": "LayoutModel",
            "_view_count": null,
            "_view_module": "@jupyter-widgets/base",
            "_view_module_version": "1.2.0",
            "_view_name": "LayoutView",
            "align_content": null,
            "align_items": null,
            "align_self": null,
            "border": null,
            "bottom": null,
            "display": null,
            "flex": null,
            "flex_flow": null,
            "grid_area": null,
            "grid_auto_columns": null,
            "grid_auto_flow": null,
            "grid_auto_rows": null,
            "grid_column": null,
            "grid_gap": null,
            "grid_row": null,
            "grid_template_areas": null,
            "grid_template_columns": null,
            "grid_template_rows": null,
            "height": null,
            "justify_content": null,
            "justify_items": null,
            "left": null,
            "margin": null,
            "max_height": null,
            "max_width": null,
            "min_height": null,
            "min_width": null,
            "object_fit": null,
            "object_position": null,
            "order": null,
            "overflow": null,
            "overflow_x": null,
            "overflow_y": null,
            "padding": null,
            "right": null,
            "top": null,
            "visibility": null,
            "width": null
          }
        },
        "96171b5951bd40ec9f87509a83573a56": {
          "model_module": "@jupyter-widgets/controls",
          "model_name": "DescriptionStyleModel",
          "model_module_version": "1.5.0",
          "state": {
            "_model_module": "@jupyter-widgets/controls",
            "_model_module_version": "1.5.0",
            "_model_name": "DescriptionStyleModel",
            "_view_count": null,
            "_view_module": "@jupyter-widgets/base",
            "_view_module_version": "1.2.0",
            "_view_name": "StyleView",
            "description_width": ""
          }
        },
        "19236b5b500f40fd85846dd16945540f": {
          "model_module": "@jupyter-widgets/controls",
          "model_name": "HBoxModel",
          "model_module_version": "1.5.0",
          "state": {
            "_dom_classes": [],
            "_model_module": "@jupyter-widgets/controls",
            "_model_module_version": "1.5.0",
            "_model_name": "HBoxModel",
            "_view_count": null,
            "_view_module": "@jupyter-widgets/controls",
            "_view_module_version": "1.5.0",
            "_view_name": "HBoxView",
            "box_style": "",
            "children": [
              "IPY_MODEL_68778357f902482f80861df022a971c2",
              "IPY_MODEL_f742b51b4059490785fc6568908da6c3",
              "IPY_MODEL_a1e29c21f78e4eeb90e8526dad1ecee2"
            ],
            "layout": "IPY_MODEL_da8adceb8c7c40608afb8758d8eab32e"
          }
        },
        "68778357f902482f80861df022a971c2": {
          "model_module": "@jupyter-widgets/controls",
          "model_name": "HTMLModel",
          "model_module_version": "1.5.0",
          "state": {
            "_dom_classes": [],
            "_model_module": "@jupyter-widgets/controls",
            "_model_module_version": "1.5.0",
            "_model_name": "HTMLModel",
            "_view_count": null,
            "_view_module": "@jupyter-widgets/controls",
            "_view_module_version": "1.5.0",
            "_view_name": "HTMLView",
            "description": "",
            "description_tooltip": null,
            "layout": "IPY_MODEL_c4ffa57daa6f48f68767a23f66b4d3e0",
            "placeholder": "​",
            "style": "IPY_MODEL_e08832e70f84477eb43f77d7ef0b6f5d",
            "value": "tokenizer.model: 100%"
          }
        },
        "f742b51b4059490785fc6568908da6c3": {
          "model_module": "@jupyter-widgets/controls",
          "model_name": "FloatProgressModel",
          "model_module_version": "1.5.0",
          "state": {
            "_dom_classes": [],
            "_model_module": "@jupyter-widgets/controls",
            "_model_module_version": "1.5.0",
            "_model_name": "FloatProgressModel",
            "_view_count": null,
            "_view_module": "@jupyter-widgets/controls",
            "_view_module_version": "1.5.0",
            "_view_name": "ProgressView",
            "bar_style": "success",
            "description": "",
            "description_tooltip": null,
            "layout": "IPY_MODEL_19d4742cab2447ee87fd9d17d806d2d7",
            "max": 499723,
            "min": 0,
            "orientation": "horizontal",
            "style": "IPY_MODEL_7fa034ca10fa4506b316fbdd35030ae1",
            "value": 499723
          }
        },
        "a1e29c21f78e4eeb90e8526dad1ecee2": {
          "model_module": "@jupyter-widgets/controls",
          "model_name": "HTMLModel",
          "model_module_version": "1.5.0",
          "state": {
            "_dom_classes": [],
            "_model_module": "@jupyter-widgets/controls",
            "_model_module_version": "1.5.0",
            "_model_name": "HTMLModel",
            "_view_count": null,
            "_view_module": "@jupyter-widgets/controls",
            "_view_module_version": "1.5.0",
            "_view_name": "HTMLView",
            "description": "",
            "description_tooltip": null,
            "layout": "IPY_MODEL_211f0999cbae46a7a99e06b8301767ef",
            "placeholder": "​",
            "style": "IPY_MODEL_e0053bb0837e47a18c2a227562bf5674",
            "value": " 500k/500k [00:00&lt;00:00, 22.6MB/s]"
          }
        },
        "da8adceb8c7c40608afb8758d8eab32e": {
          "model_module": "@jupyter-widgets/base",
          "model_name": "LayoutModel",
          "model_module_version": "1.2.0",
          "state": {
            "_model_module": "@jupyter-widgets/base",
            "_model_module_version": "1.2.0",
            "_model_name": "LayoutModel",
            "_view_count": null,
            "_view_module": "@jupyter-widgets/base",
            "_view_module_version": "1.2.0",
            "_view_name": "LayoutView",
            "align_content": null,
            "align_items": null,
            "align_self": null,
            "border": null,
            "bottom": null,
            "display": null,
            "flex": null,
            "flex_flow": null,
            "grid_area": null,
            "grid_auto_columns": null,
            "grid_auto_flow": null,
            "grid_auto_rows": null,
            "grid_column": null,
            "grid_gap": null,
            "grid_row": null,
            "grid_template_areas": null,
            "grid_template_columns": null,
            "grid_template_rows": null,
            "height": null,
            "justify_content": null,
            "justify_items": null,
            "left": null,
            "margin": null,
            "max_height": null,
            "max_width": null,
            "min_height": null,
            "min_width": null,
            "object_fit": null,
            "object_position": null,
            "order": null,
            "overflow": null,
            "overflow_x": null,
            "overflow_y": null,
            "padding": null,
            "right": null,
            "top": null,
            "visibility": null,
            "width": null
          }
        },
        "c4ffa57daa6f48f68767a23f66b4d3e0": {
          "model_module": "@jupyter-widgets/base",
          "model_name": "LayoutModel",
          "model_module_version": "1.2.0",
          "state": {
            "_model_module": "@jupyter-widgets/base",
            "_model_module_version": "1.2.0",
            "_model_name": "LayoutModel",
            "_view_count": null,
            "_view_module": "@jupyter-widgets/base",
            "_view_module_version": "1.2.0",
            "_view_name": "LayoutView",
            "align_content": null,
            "align_items": null,
            "align_self": null,
            "border": null,
            "bottom": null,
            "display": null,
            "flex": null,
            "flex_flow": null,
            "grid_area": null,
            "grid_auto_columns": null,
            "grid_auto_flow": null,
            "grid_auto_rows": null,
            "grid_column": null,
            "grid_gap": null,
            "grid_row": null,
            "grid_template_areas": null,
            "grid_template_columns": null,
            "grid_template_rows": null,
            "height": null,
            "justify_content": null,
            "justify_items": null,
            "left": null,
            "margin": null,
            "max_height": null,
            "max_width": null,
            "min_height": null,
            "min_width": null,
            "object_fit": null,
            "object_position": null,
            "order": null,
            "overflow": null,
            "overflow_x": null,
            "overflow_y": null,
            "padding": null,
            "right": null,
            "top": null,
            "visibility": null,
            "width": null
          }
        },
        "e08832e70f84477eb43f77d7ef0b6f5d": {
          "model_module": "@jupyter-widgets/controls",
          "model_name": "DescriptionStyleModel",
          "model_module_version": "1.5.0",
          "state": {
            "_model_module": "@jupyter-widgets/controls",
            "_model_module_version": "1.5.0",
            "_model_name": "DescriptionStyleModel",
            "_view_count": null,
            "_view_module": "@jupyter-widgets/base",
            "_view_module_version": "1.2.0",
            "_view_name": "StyleView",
            "description_width": ""
          }
        },
        "19d4742cab2447ee87fd9d17d806d2d7": {
          "model_module": "@jupyter-widgets/base",
          "model_name": "LayoutModel",
          "model_module_version": "1.2.0",
          "state": {
            "_model_module": "@jupyter-widgets/base",
            "_model_module_version": "1.2.0",
            "_model_name": "LayoutModel",
            "_view_count": null,
            "_view_module": "@jupyter-widgets/base",
            "_view_module_version": "1.2.0",
            "_view_name": "LayoutView",
            "align_content": null,
            "align_items": null,
            "align_self": null,
            "border": null,
            "bottom": null,
            "display": null,
            "flex": null,
            "flex_flow": null,
            "grid_area": null,
            "grid_auto_columns": null,
            "grid_auto_flow": null,
            "grid_auto_rows": null,
            "grid_column": null,
            "grid_gap": null,
            "grid_row": null,
            "grid_template_areas": null,
            "grid_template_columns": null,
            "grid_template_rows": null,
            "height": null,
            "justify_content": null,
            "justify_items": null,
            "left": null,
            "margin": null,
            "max_height": null,
            "max_width": null,
            "min_height": null,
            "min_width": null,
            "object_fit": null,
            "object_position": null,
            "order": null,
            "overflow": null,
            "overflow_x": null,
            "overflow_y": null,
            "padding": null,
            "right": null,
            "top": null,
            "visibility": null,
            "width": null
          }
        },
        "7fa034ca10fa4506b316fbdd35030ae1": {
          "model_module": "@jupyter-widgets/controls",
          "model_name": "ProgressStyleModel",
          "model_module_version": "1.5.0",
          "state": {
            "_model_module": "@jupyter-widgets/controls",
            "_model_module_version": "1.5.0",
            "_model_name": "ProgressStyleModel",
            "_view_count": null,
            "_view_module": "@jupyter-widgets/base",
            "_view_module_version": "1.2.0",
            "_view_name": "StyleView",
            "bar_color": null,
            "description_width": ""
          }
        },
        "211f0999cbae46a7a99e06b8301767ef": {
          "model_module": "@jupyter-widgets/base",
          "model_name": "LayoutModel",
          "model_module_version": "1.2.0",
          "state": {
            "_model_module": "@jupyter-widgets/base",
            "_model_module_version": "1.2.0",
            "_model_name": "LayoutModel",
            "_view_count": null,
            "_view_module": "@jupyter-widgets/base",
            "_view_module_version": "1.2.0",
            "_view_name": "LayoutView",
            "align_content": null,
            "align_items": null,
            "align_self": null,
            "border": null,
            "bottom": null,
            "display": null,
            "flex": null,
            "flex_flow": null,
            "grid_area": null,
            "grid_auto_columns": null,
            "grid_auto_flow": null,
            "grid_auto_rows": null,
            "grid_column": null,
            "grid_gap": null,
            "grid_row": null,
            "grid_template_areas": null,
            "grid_template_columns": null,
            "grid_template_rows": null,
            "height": null,
            "justify_content": null,
            "justify_items": null,
            "left": null,
            "margin": null,
            "max_height": null,
            "max_width": null,
            "min_height": null,
            "min_width": null,
            "object_fit": null,
            "object_position": null,
            "order": null,
            "overflow": null,
            "overflow_x": null,
            "overflow_y": null,
            "padding": null,
            "right": null,
            "top": null,
            "visibility": null,
            "width": null
          }
        },
        "e0053bb0837e47a18c2a227562bf5674": {
          "model_module": "@jupyter-widgets/controls",
          "model_name": "DescriptionStyleModel",
          "model_module_version": "1.5.0",
          "state": {
            "_model_module": "@jupyter-widgets/controls",
            "_model_module_version": "1.5.0",
            "_model_name": "DescriptionStyleModel",
            "_view_count": null,
            "_view_module": "@jupyter-widgets/base",
            "_view_module_version": "1.2.0",
            "_view_name": "StyleView",
            "description_width": ""
          }
        },
        "019be4e6baae48e9b6b68d77e7f836d8": {
          "model_module": "@jupyter-widgets/controls",
          "model_name": "HBoxModel",
          "model_module_version": "1.5.0",
          "state": {
            "_dom_classes": [],
            "_model_module": "@jupyter-widgets/controls",
            "_model_module_version": "1.5.0",
            "_model_name": "HBoxModel",
            "_view_count": null,
            "_view_module": "@jupyter-widgets/controls",
            "_view_module_version": "1.5.0",
            "_view_name": "HBoxView",
            "box_style": "",
            "children": [
              "IPY_MODEL_0b801945608a4d5bad93220048eaf6af",
              "IPY_MODEL_6a88eb0fc476478aab07f851d1f242aa",
              "IPY_MODEL_ed7ff4162cf14f7a8b965485de092d3c"
            ],
            "layout": "IPY_MODEL_baa618fd6a7945f18738e0d9ebebe214"
          }
        },
        "0b801945608a4d5bad93220048eaf6af": {
          "model_module": "@jupyter-widgets/controls",
          "model_name": "HTMLModel",
          "model_module_version": "1.5.0",
          "state": {
            "_dom_classes": [],
            "_model_module": "@jupyter-widgets/controls",
            "_model_module_version": "1.5.0",
            "_model_name": "HTMLModel",
            "_view_count": null,
            "_view_module": "@jupyter-widgets/controls",
            "_view_module_version": "1.5.0",
            "_view_name": "HTMLView",
            "description": "",
            "description_tooltip": null,
            "layout": "IPY_MODEL_150af31ff6db46158ae26af4f6a15616",
            "placeholder": "​",
            "style": "IPY_MODEL_725de555dc194863b95d5842d0ad061c",
            "value": "special_tokens_map.json: 100%"
          }
        },
        "6a88eb0fc476478aab07f851d1f242aa": {
          "model_module": "@jupyter-widgets/controls",
          "model_name": "FloatProgressModel",
          "model_module_version": "1.5.0",
          "state": {
            "_dom_classes": [],
            "_model_module": "@jupyter-widgets/controls",
            "_model_module_version": "1.5.0",
            "_model_name": "FloatProgressModel",
            "_view_count": null,
            "_view_module": "@jupyter-widgets/controls",
            "_view_module_version": "1.5.0",
            "_view_name": "ProgressView",
            "bar_style": "success",
            "description": "",
            "description_tooltip": null,
            "layout": "IPY_MODEL_7aeeecb4add74e659c0ba5b93eea32ab",
            "max": 414,
            "min": 0,
            "orientation": "horizontal",
            "style": "IPY_MODEL_b49e59e7a105404184aae0f0be0fef3b",
            "value": 414
          }
        },
        "ed7ff4162cf14f7a8b965485de092d3c": {
          "model_module": "@jupyter-widgets/controls",
          "model_name": "HTMLModel",
          "model_module_version": "1.5.0",
          "state": {
            "_dom_classes": [],
            "_model_module": "@jupyter-widgets/controls",
            "_model_module_version": "1.5.0",
            "_model_name": "HTMLModel",
            "_view_count": null,
            "_view_module": "@jupyter-widgets/controls",
            "_view_module_version": "1.5.0",
            "_view_name": "HTMLView",
            "description": "",
            "description_tooltip": null,
            "layout": "IPY_MODEL_b106d105bdda4264b0062c515c888c8a",
            "placeholder": "​",
            "style": "IPY_MODEL_c4dd711a3de94ead9170b93dae79040b",
            "value": " 414/414 [00:00&lt;00:00, 16.6kB/s]"
          }
        },
        "baa618fd6a7945f18738e0d9ebebe214": {
          "model_module": "@jupyter-widgets/base",
          "model_name": "LayoutModel",
          "model_module_version": "1.2.0",
          "state": {
            "_model_module": "@jupyter-widgets/base",
            "_model_module_version": "1.2.0",
            "_model_name": "LayoutModel",
            "_view_count": null,
            "_view_module": "@jupyter-widgets/base",
            "_view_module_version": "1.2.0",
            "_view_name": "LayoutView",
            "align_content": null,
            "align_items": null,
            "align_self": null,
            "border": null,
            "bottom": null,
            "display": null,
            "flex": null,
            "flex_flow": null,
            "grid_area": null,
            "grid_auto_columns": null,
            "grid_auto_flow": null,
            "grid_auto_rows": null,
            "grid_column": null,
            "grid_gap": null,
            "grid_row": null,
            "grid_template_areas": null,
            "grid_template_columns": null,
            "grid_template_rows": null,
            "height": null,
            "justify_content": null,
            "justify_items": null,
            "left": null,
            "margin": null,
            "max_height": null,
            "max_width": null,
            "min_height": null,
            "min_width": null,
            "object_fit": null,
            "object_position": null,
            "order": null,
            "overflow": null,
            "overflow_x": null,
            "overflow_y": null,
            "padding": null,
            "right": null,
            "top": null,
            "visibility": null,
            "width": null
          }
        },
        "150af31ff6db46158ae26af4f6a15616": {
          "model_module": "@jupyter-widgets/base",
          "model_name": "LayoutModel",
          "model_module_version": "1.2.0",
          "state": {
            "_model_module": "@jupyter-widgets/base",
            "_model_module_version": "1.2.0",
            "_model_name": "LayoutModel",
            "_view_count": null,
            "_view_module": "@jupyter-widgets/base",
            "_view_module_version": "1.2.0",
            "_view_name": "LayoutView",
            "align_content": null,
            "align_items": null,
            "align_self": null,
            "border": null,
            "bottom": null,
            "display": null,
            "flex": null,
            "flex_flow": null,
            "grid_area": null,
            "grid_auto_columns": null,
            "grid_auto_flow": null,
            "grid_auto_rows": null,
            "grid_column": null,
            "grid_gap": null,
            "grid_row": null,
            "grid_template_areas": null,
            "grid_template_columns": null,
            "grid_template_rows": null,
            "height": null,
            "justify_content": null,
            "justify_items": null,
            "left": null,
            "margin": null,
            "max_height": null,
            "max_width": null,
            "min_height": null,
            "min_width": null,
            "object_fit": null,
            "object_position": null,
            "order": null,
            "overflow": null,
            "overflow_x": null,
            "overflow_y": null,
            "padding": null,
            "right": null,
            "top": null,
            "visibility": null,
            "width": null
          }
        },
        "725de555dc194863b95d5842d0ad061c": {
          "model_module": "@jupyter-widgets/controls",
          "model_name": "DescriptionStyleModel",
          "model_module_version": "1.5.0",
          "state": {
            "_model_module": "@jupyter-widgets/controls",
            "_model_module_version": "1.5.0",
            "_model_name": "DescriptionStyleModel",
            "_view_count": null,
            "_view_module": "@jupyter-widgets/base",
            "_view_module_version": "1.2.0",
            "_view_name": "StyleView",
            "description_width": ""
          }
        },
        "7aeeecb4add74e659c0ba5b93eea32ab": {
          "model_module": "@jupyter-widgets/base",
          "model_name": "LayoutModel",
          "model_module_version": "1.2.0",
          "state": {
            "_model_module": "@jupyter-widgets/base",
            "_model_module_version": "1.2.0",
            "_model_name": "LayoutModel",
            "_view_count": null,
            "_view_module": "@jupyter-widgets/base",
            "_view_module_version": "1.2.0",
            "_view_name": "LayoutView",
            "align_content": null,
            "align_items": null,
            "align_self": null,
            "border": null,
            "bottom": null,
            "display": null,
            "flex": null,
            "flex_flow": null,
            "grid_area": null,
            "grid_auto_columns": null,
            "grid_auto_flow": null,
            "grid_auto_rows": null,
            "grid_column": null,
            "grid_gap": null,
            "grid_row": null,
            "grid_template_areas": null,
            "grid_template_columns": null,
            "grid_template_rows": null,
            "height": null,
            "justify_content": null,
            "justify_items": null,
            "left": null,
            "margin": null,
            "max_height": null,
            "max_width": null,
            "min_height": null,
            "min_width": null,
            "object_fit": null,
            "object_position": null,
            "order": null,
            "overflow": null,
            "overflow_x": null,
            "overflow_y": null,
            "padding": null,
            "right": null,
            "top": null,
            "visibility": null,
            "width": null
          }
        },
        "b49e59e7a105404184aae0f0be0fef3b": {
          "model_module": "@jupyter-widgets/controls",
          "model_name": "ProgressStyleModel",
          "model_module_version": "1.5.0",
          "state": {
            "_model_module": "@jupyter-widgets/controls",
            "_model_module_version": "1.5.0",
            "_model_name": "ProgressStyleModel",
            "_view_count": null,
            "_view_module": "@jupyter-widgets/base",
            "_view_module_version": "1.2.0",
            "_view_name": "StyleView",
            "bar_color": null,
            "description_width": ""
          }
        },
        "b106d105bdda4264b0062c515c888c8a": {
          "model_module": "@jupyter-widgets/base",
          "model_name": "LayoutModel",
          "model_module_version": "1.2.0",
          "state": {
            "_model_module": "@jupyter-widgets/base",
            "_model_module_version": "1.2.0",
            "_model_name": "LayoutModel",
            "_view_count": null,
            "_view_module": "@jupyter-widgets/base",
            "_view_module_version": "1.2.0",
            "_view_name": "LayoutView",
            "align_content": null,
            "align_items": null,
            "align_self": null,
            "border": null,
            "bottom": null,
            "display": null,
            "flex": null,
            "flex_flow": null,
            "grid_area": null,
            "grid_auto_columns": null,
            "grid_auto_flow": null,
            "grid_auto_rows": null,
            "grid_column": null,
            "grid_gap": null,
            "grid_row": null,
            "grid_template_areas": null,
            "grid_template_columns": null,
            "grid_template_rows": null,
            "height": null,
            "justify_content": null,
            "justify_items": null,
            "left": null,
            "margin": null,
            "max_height": null,
            "max_width": null,
            "min_height": null,
            "min_width": null,
            "object_fit": null,
            "object_position": null,
            "order": null,
            "overflow": null,
            "overflow_x": null,
            "overflow_y": null,
            "padding": null,
            "right": null,
            "top": null,
            "visibility": null,
            "width": null
          }
        },
        "c4dd711a3de94ead9170b93dae79040b": {
          "model_module": "@jupyter-widgets/controls",
          "model_name": "DescriptionStyleModel",
          "model_module_version": "1.5.0",
          "state": {
            "_model_module": "@jupyter-widgets/controls",
            "_model_module_version": "1.5.0",
            "_model_name": "DescriptionStyleModel",
            "_view_count": null,
            "_view_module": "@jupyter-widgets/base",
            "_view_module_version": "1.2.0",
            "_view_name": "StyleView",
            "description_width": ""
          }
        },
        "3329a1f88ced45d1a4b7435abc1ee7fb": {
          "model_module": "@jupyter-widgets/controls",
          "model_name": "HBoxModel",
          "model_module_version": "1.5.0",
          "state": {
            "_dom_classes": [],
            "_model_module": "@jupyter-widgets/controls",
            "_model_module_version": "1.5.0",
            "_model_name": "HBoxModel",
            "_view_count": null,
            "_view_module": "@jupyter-widgets/controls",
            "_view_module_version": "1.5.0",
            "_view_name": "HBoxView",
            "box_style": "",
            "children": [
              "IPY_MODEL_c3673839abc64105864de71a23065848",
              "IPY_MODEL_08d9ef17717b470389e4650339cbd7c3",
              "IPY_MODEL_ff0d7662ffd04d3bac435e36ba099c50"
            ],
            "layout": "IPY_MODEL_49996542bac94f47a2fd109cd68d33d3"
          }
        },
        "c3673839abc64105864de71a23065848": {
          "model_module": "@jupyter-widgets/controls",
          "model_name": "HTMLModel",
          "model_module_version": "1.5.0",
          "state": {
            "_dom_classes": [],
            "_model_module": "@jupyter-widgets/controls",
            "_model_module_version": "1.5.0",
            "_model_name": "HTMLModel",
            "_view_count": null,
            "_view_module": "@jupyter-widgets/controls",
            "_view_module_version": "1.5.0",
            "_view_name": "HTMLView",
            "description": "",
            "description_tooltip": null,
            "layout": "IPY_MODEL_c52595a8c693443881765edb915b548a",
            "placeholder": "​",
            "style": "IPY_MODEL_55daba5729de4693876bdc77fb170f52",
            "value": "tokenizer.json: 100%"
          }
        },
        "08d9ef17717b470389e4650339cbd7c3": {
          "model_module": "@jupyter-widgets/controls",
          "model_name": "FloatProgressModel",
          "model_module_version": "1.5.0",
          "state": {
            "_dom_classes": [],
            "_model_module": "@jupyter-widgets/controls",
            "_model_module_version": "1.5.0",
            "_model_name": "FloatProgressModel",
            "_view_count": null,
            "_view_module": "@jupyter-widgets/controls",
            "_view_module_version": "1.5.0",
            "_view_name": "ProgressView",
            "bar_style": "success",
            "description": "",
            "description_tooltip": null,
            "layout": "IPY_MODEL_0f24f838f3034758b60ae1cd46230447",
            "max": 1842767,
            "min": 0,
            "orientation": "horizontal",
            "style": "IPY_MODEL_912c8503f17d416389b117e836434965",
            "value": 1842767
          }
        },
        "ff0d7662ffd04d3bac435e36ba099c50": {
          "model_module": "@jupyter-widgets/controls",
          "model_name": "HTMLModel",
          "model_module_version": "1.5.0",
          "state": {
            "_dom_classes": [],
            "_model_module": "@jupyter-widgets/controls",
            "_model_module_version": "1.5.0",
            "_model_name": "HTMLModel",
            "_view_count": null,
            "_view_module": "@jupyter-widgets/controls",
            "_view_module_version": "1.5.0",
            "_view_name": "HTMLView",
            "description": "",
            "description_tooltip": null,
            "layout": "IPY_MODEL_af8f54e47bc54301afbe70559e8fcc67",
            "placeholder": "​",
            "style": "IPY_MODEL_04da8d0a37164d12a77dc112af0f95c0",
            "value": " 1.84M/1.84M [00:00&lt;00:00, 29.8MB/s]"
          }
        },
        "49996542bac94f47a2fd109cd68d33d3": {
          "model_module": "@jupyter-widgets/base",
          "model_name": "LayoutModel",
          "model_module_version": "1.2.0",
          "state": {
            "_model_module": "@jupyter-widgets/base",
            "_model_module_version": "1.2.0",
            "_model_name": "LayoutModel",
            "_view_count": null,
            "_view_module": "@jupyter-widgets/base",
            "_view_module_version": "1.2.0",
            "_view_name": "LayoutView",
            "align_content": null,
            "align_items": null,
            "align_self": null,
            "border": null,
            "bottom": null,
            "display": null,
            "flex": null,
            "flex_flow": null,
            "grid_area": null,
            "grid_auto_columns": null,
            "grid_auto_flow": null,
            "grid_auto_rows": null,
            "grid_column": null,
            "grid_gap": null,
            "grid_row": null,
            "grid_template_areas": null,
            "grid_template_columns": null,
            "grid_template_rows": null,
            "height": null,
            "justify_content": null,
            "justify_items": null,
            "left": null,
            "margin": null,
            "max_height": null,
            "max_width": null,
            "min_height": null,
            "min_width": null,
            "object_fit": null,
            "object_position": null,
            "order": null,
            "overflow": null,
            "overflow_x": null,
            "overflow_y": null,
            "padding": null,
            "right": null,
            "top": null,
            "visibility": null,
            "width": null
          }
        },
        "c52595a8c693443881765edb915b548a": {
          "model_module": "@jupyter-widgets/base",
          "model_name": "LayoutModel",
          "model_module_version": "1.2.0",
          "state": {
            "_model_module": "@jupyter-widgets/base",
            "_model_module_version": "1.2.0",
            "_model_name": "LayoutModel",
            "_view_count": null,
            "_view_module": "@jupyter-widgets/base",
            "_view_module_version": "1.2.0",
            "_view_name": "LayoutView",
            "align_content": null,
            "align_items": null,
            "align_self": null,
            "border": null,
            "bottom": null,
            "display": null,
            "flex": null,
            "flex_flow": null,
            "grid_area": null,
            "grid_auto_columns": null,
            "grid_auto_flow": null,
            "grid_auto_rows": null,
            "grid_column": null,
            "grid_gap": null,
            "grid_row": null,
            "grid_template_areas": null,
            "grid_template_columns": null,
            "grid_template_rows": null,
            "height": null,
            "justify_content": null,
            "justify_items": null,
            "left": null,
            "margin": null,
            "max_height": null,
            "max_width": null,
            "min_height": null,
            "min_width": null,
            "object_fit": null,
            "object_position": null,
            "order": null,
            "overflow": null,
            "overflow_x": null,
            "overflow_y": null,
            "padding": null,
            "right": null,
            "top": null,
            "visibility": null,
            "width": null
          }
        },
        "55daba5729de4693876bdc77fb170f52": {
          "model_module": "@jupyter-widgets/controls",
          "model_name": "DescriptionStyleModel",
          "model_module_version": "1.5.0",
          "state": {
            "_model_module": "@jupyter-widgets/controls",
            "_model_module_version": "1.5.0",
            "_model_name": "DescriptionStyleModel",
            "_view_count": null,
            "_view_module": "@jupyter-widgets/base",
            "_view_module_version": "1.2.0",
            "_view_name": "StyleView",
            "description_width": ""
          }
        },
        "0f24f838f3034758b60ae1cd46230447": {
          "model_module": "@jupyter-widgets/base",
          "model_name": "LayoutModel",
          "model_module_version": "1.2.0",
          "state": {
            "_model_module": "@jupyter-widgets/base",
            "_model_module_version": "1.2.0",
            "_model_name": "LayoutModel",
            "_view_count": null,
            "_view_module": "@jupyter-widgets/base",
            "_view_module_version": "1.2.0",
            "_view_name": "LayoutView",
            "align_content": null,
            "align_items": null,
            "align_self": null,
            "border": null,
            "bottom": null,
            "display": null,
            "flex": null,
            "flex_flow": null,
            "grid_area": null,
            "grid_auto_columns": null,
            "grid_auto_flow": null,
            "grid_auto_rows": null,
            "grid_column": null,
            "grid_gap": null,
            "grid_row": null,
            "grid_template_areas": null,
            "grid_template_columns": null,
            "grid_template_rows": null,
            "height": null,
            "justify_content": null,
            "justify_items": null,
            "left": null,
            "margin": null,
            "max_height": null,
            "max_width": null,
            "min_height": null,
            "min_width": null,
            "object_fit": null,
            "object_position": null,
            "order": null,
            "overflow": null,
            "overflow_x": null,
            "overflow_y": null,
            "padding": null,
            "right": null,
            "top": null,
            "visibility": null,
            "width": null
          }
        },
        "912c8503f17d416389b117e836434965": {
          "model_module": "@jupyter-widgets/controls",
          "model_name": "ProgressStyleModel",
          "model_module_version": "1.5.0",
          "state": {
            "_model_module": "@jupyter-widgets/controls",
            "_model_module_version": "1.5.0",
            "_model_name": "ProgressStyleModel",
            "_view_count": null,
            "_view_module": "@jupyter-widgets/base",
            "_view_module_version": "1.2.0",
            "_view_name": "StyleView",
            "bar_color": null,
            "description_width": ""
          }
        },
        "af8f54e47bc54301afbe70559e8fcc67": {
          "model_module": "@jupyter-widgets/base",
          "model_name": "LayoutModel",
          "model_module_version": "1.2.0",
          "state": {
            "_model_module": "@jupyter-widgets/base",
            "_model_module_version": "1.2.0",
            "_model_name": "LayoutModel",
            "_view_count": null,
            "_view_module": "@jupyter-widgets/base",
            "_view_module_version": "1.2.0",
            "_view_name": "LayoutView",
            "align_content": null,
            "align_items": null,
            "align_self": null,
            "border": null,
            "bottom": null,
            "display": null,
            "flex": null,
            "flex_flow": null,
            "grid_area": null,
            "grid_auto_columns": null,
            "grid_auto_flow": null,
            "grid_auto_rows": null,
            "grid_column": null,
            "grid_gap": null,
            "grid_row": null,
            "grid_template_areas": null,
            "grid_template_columns": null,
            "grid_template_rows": null,
            "height": null,
            "justify_content": null,
            "justify_items": null,
            "left": null,
            "margin": null,
            "max_height": null,
            "max_width": null,
            "min_height": null,
            "min_width": null,
            "object_fit": null,
            "object_position": null,
            "order": null,
            "overflow": null,
            "overflow_x": null,
            "overflow_y": null,
            "padding": null,
            "right": null,
            "top": null,
            "visibility": null,
            "width": null
          }
        },
        "04da8d0a37164d12a77dc112af0f95c0": {
          "model_module": "@jupyter-widgets/controls",
          "model_name": "DescriptionStyleModel",
          "model_module_version": "1.5.0",
          "state": {
            "_model_module": "@jupyter-widgets/controls",
            "_model_module_version": "1.5.0",
            "_model_name": "DescriptionStyleModel",
            "_view_count": null,
            "_view_module": "@jupyter-widgets/base",
            "_view_module_version": "1.2.0",
            "_view_name": "StyleView",
            "description_width": ""
          }
        },
        "e4ee92296127461993dbeff7e86fbf2d": {
          "model_module": "@jupyter-widgets/controls",
          "model_name": "HBoxModel",
          "model_module_version": "1.5.0",
          "state": {
            "_dom_classes": [],
            "_model_module": "@jupyter-widgets/controls",
            "_model_module_version": "1.5.0",
            "_model_name": "HBoxModel",
            "_view_count": null,
            "_view_module": "@jupyter-widgets/controls",
            "_view_module_version": "1.5.0",
            "_view_name": "HBoxView",
            "box_style": "",
            "children": [
              "IPY_MODEL_2fe6c3cb6a9949389623fdcfa51abeb4",
              "IPY_MODEL_61f70654149642598612841edf35c67f",
              "IPY_MODEL_1321ceb7ed024369a64f640331f69bef"
            ],
            "layout": "IPY_MODEL_1ea24c69464b43c396a97d6f1add617b"
          }
        },
        "2fe6c3cb6a9949389623fdcfa51abeb4": {
          "model_module": "@jupyter-widgets/controls",
          "model_name": "HTMLModel",
          "model_module_version": "1.5.0",
          "state": {
            "_dom_classes": [],
            "_model_module": "@jupyter-widgets/controls",
            "_model_module_version": "1.5.0",
            "_model_name": "HTMLModel",
            "_view_count": null,
            "_view_module": "@jupyter-widgets/controls",
            "_view_module_version": "1.5.0",
            "_view_name": "HTMLView",
            "description": "",
            "description_tooltip": null,
            "layout": "IPY_MODEL_b22de617d4324872ba27f52b7060493d",
            "placeholder": "​",
            "style": "IPY_MODEL_3826569cc85047a8bb757d3a3a9feae7",
            "value": "model.safetensors.index.json: 100%"
          }
        },
        "61f70654149642598612841edf35c67f": {
          "model_module": "@jupyter-widgets/controls",
          "model_name": "FloatProgressModel",
          "model_module_version": "1.5.0",
          "state": {
            "_dom_classes": [],
            "_model_module": "@jupyter-widgets/controls",
            "_model_module_version": "1.5.0",
            "_model_name": "FloatProgressModel",
            "_view_count": null,
            "_view_module": "@jupyter-widgets/controls",
            "_view_module_version": "1.5.0",
            "_view_name": "ProgressView",
            "bar_style": "success",
            "description": "",
            "description_tooltip": null,
            "layout": "IPY_MODEL_2227defb7299478698e20734b97d9e18",
            "max": 26788,
            "min": 0,
            "orientation": "horizontal",
            "style": "IPY_MODEL_c95396d809d9408fabd83d06c03d618d",
            "value": 26788
          }
        },
        "1321ceb7ed024369a64f640331f69bef": {
          "model_module": "@jupyter-widgets/controls",
          "model_name": "HTMLModel",
          "model_module_version": "1.5.0",
          "state": {
            "_dom_classes": [],
            "_model_module": "@jupyter-widgets/controls",
            "_model_module_version": "1.5.0",
            "_model_name": "HTMLModel",
            "_view_count": null,
            "_view_module": "@jupyter-widgets/controls",
            "_view_module_version": "1.5.0",
            "_view_name": "HTMLView",
            "description": "",
            "description_tooltip": null,
            "layout": "IPY_MODEL_d710be2c58b547c4ae4bcfa1236662e5",
            "placeholder": "​",
            "style": "IPY_MODEL_1d7cd4cc324a497f9487c11e81d484df",
            "value": " 26.8k/26.8k [00:00&lt;00:00, 983kB/s]"
          }
        },
        "1ea24c69464b43c396a97d6f1add617b": {
          "model_module": "@jupyter-widgets/base",
          "model_name": "LayoutModel",
          "model_module_version": "1.2.0",
          "state": {
            "_model_module": "@jupyter-widgets/base",
            "_model_module_version": "1.2.0",
            "_model_name": "LayoutModel",
            "_view_count": null,
            "_view_module": "@jupyter-widgets/base",
            "_view_module_version": "1.2.0",
            "_view_name": "LayoutView",
            "align_content": null,
            "align_items": null,
            "align_self": null,
            "border": null,
            "bottom": null,
            "display": null,
            "flex": null,
            "flex_flow": null,
            "grid_area": null,
            "grid_auto_columns": null,
            "grid_auto_flow": null,
            "grid_auto_rows": null,
            "grid_column": null,
            "grid_gap": null,
            "grid_row": null,
            "grid_template_areas": null,
            "grid_template_columns": null,
            "grid_template_rows": null,
            "height": null,
            "justify_content": null,
            "justify_items": null,
            "left": null,
            "margin": null,
            "max_height": null,
            "max_width": null,
            "min_height": null,
            "min_width": null,
            "object_fit": null,
            "object_position": null,
            "order": null,
            "overflow": null,
            "overflow_x": null,
            "overflow_y": null,
            "padding": null,
            "right": null,
            "top": null,
            "visibility": null,
            "width": null
          }
        },
        "b22de617d4324872ba27f52b7060493d": {
          "model_module": "@jupyter-widgets/base",
          "model_name": "LayoutModel",
          "model_module_version": "1.2.0",
          "state": {
            "_model_module": "@jupyter-widgets/base",
            "_model_module_version": "1.2.0",
            "_model_name": "LayoutModel",
            "_view_count": null,
            "_view_module": "@jupyter-widgets/base",
            "_view_module_version": "1.2.0",
            "_view_name": "LayoutView",
            "align_content": null,
            "align_items": null,
            "align_self": null,
            "border": null,
            "bottom": null,
            "display": null,
            "flex": null,
            "flex_flow": null,
            "grid_area": null,
            "grid_auto_columns": null,
            "grid_auto_flow": null,
            "grid_auto_rows": null,
            "grid_column": null,
            "grid_gap": null,
            "grid_row": null,
            "grid_template_areas": null,
            "grid_template_columns": null,
            "grid_template_rows": null,
            "height": null,
            "justify_content": null,
            "justify_items": null,
            "left": null,
            "margin": null,
            "max_height": null,
            "max_width": null,
            "min_height": null,
            "min_width": null,
            "object_fit": null,
            "object_position": null,
            "order": null,
            "overflow": null,
            "overflow_x": null,
            "overflow_y": null,
            "padding": null,
            "right": null,
            "top": null,
            "visibility": null,
            "width": null
          }
        },
        "3826569cc85047a8bb757d3a3a9feae7": {
          "model_module": "@jupyter-widgets/controls",
          "model_name": "DescriptionStyleModel",
          "model_module_version": "1.5.0",
          "state": {
            "_model_module": "@jupyter-widgets/controls",
            "_model_module_version": "1.5.0",
            "_model_name": "DescriptionStyleModel",
            "_view_count": null,
            "_view_module": "@jupyter-widgets/base",
            "_view_module_version": "1.2.0",
            "_view_name": "StyleView",
            "description_width": ""
          }
        },
        "2227defb7299478698e20734b97d9e18": {
          "model_module": "@jupyter-widgets/base",
          "model_name": "LayoutModel",
          "model_module_version": "1.2.0",
          "state": {
            "_model_module": "@jupyter-widgets/base",
            "_model_module_version": "1.2.0",
            "_model_name": "LayoutModel",
            "_view_count": null,
            "_view_module": "@jupyter-widgets/base",
            "_view_module_version": "1.2.0",
            "_view_name": "LayoutView",
            "align_content": null,
            "align_items": null,
            "align_self": null,
            "border": null,
            "bottom": null,
            "display": null,
            "flex": null,
            "flex_flow": null,
            "grid_area": null,
            "grid_auto_columns": null,
            "grid_auto_flow": null,
            "grid_auto_rows": null,
            "grid_column": null,
            "grid_gap": null,
            "grid_row": null,
            "grid_template_areas": null,
            "grid_template_columns": null,
            "grid_template_rows": null,
            "height": null,
            "justify_content": null,
            "justify_items": null,
            "left": null,
            "margin": null,
            "max_height": null,
            "max_width": null,
            "min_height": null,
            "min_width": null,
            "object_fit": null,
            "object_position": null,
            "order": null,
            "overflow": null,
            "overflow_x": null,
            "overflow_y": null,
            "padding": null,
            "right": null,
            "top": null,
            "visibility": null,
            "width": null
          }
        },
        "c95396d809d9408fabd83d06c03d618d": {
          "model_module": "@jupyter-widgets/controls",
          "model_name": "ProgressStyleModel",
          "model_module_version": "1.5.0",
          "state": {
            "_model_module": "@jupyter-widgets/controls",
            "_model_module_version": "1.5.0",
            "_model_name": "ProgressStyleModel",
            "_view_count": null,
            "_view_module": "@jupyter-widgets/base",
            "_view_module_version": "1.2.0",
            "_view_name": "StyleView",
            "bar_color": null,
            "description_width": ""
          }
        },
        "d710be2c58b547c4ae4bcfa1236662e5": {
          "model_module": "@jupyter-widgets/base",
          "model_name": "LayoutModel",
          "model_module_version": "1.2.0",
          "state": {
            "_model_module": "@jupyter-widgets/base",
            "_model_module_version": "1.2.0",
            "_model_name": "LayoutModel",
            "_view_count": null,
            "_view_module": "@jupyter-widgets/base",
            "_view_module_version": "1.2.0",
            "_view_name": "LayoutView",
            "align_content": null,
            "align_items": null,
            "align_self": null,
            "border": null,
            "bottom": null,
            "display": null,
            "flex": null,
            "flex_flow": null,
            "grid_area": null,
            "grid_auto_columns": null,
            "grid_auto_flow": null,
            "grid_auto_rows": null,
            "grid_column": null,
            "grid_gap": null,
            "grid_row": null,
            "grid_template_areas": null,
            "grid_template_columns": null,
            "grid_template_rows": null,
            "height": null,
            "justify_content": null,
            "justify_items": null,
            "left": null,
            "margin": null,
            "max_height": null,
            "max_width": null,
            "min_height": null,
            "min_width": null,
            "object_fit": null,
            "object_position": null,
            "order": null,
            "overflow": null,
            "overflow_x": null,
            "overflow_y": null,
            "padding": null,
            "right": null,
            "top": null,
            "visibility": null,
            "width": null
          }
        },
        "1d7cd4cc324a497f9487c11e81d484df": {
          "model_module": "@jupyter-widgets/controls",
          "model_name": "DescriptionStyleModel",
          "model_module_version": "1.5.0",
          "state": {
            "_model_module": "@jupyter-widgets/controls",
            "_model_module_version": "1.5.0",
            "_model_name": "DescriptionStyleModel",
            "_view_count": null,
            "_view_module": "@jupyter-widgets/base",
            "_view_module_version": "1.2.0",
            "_view_name": "StyleView",
            "description_width": ""
          }
        },
        "c0fe6d03d6054c15a4c738a8633ccb7b": {
          "model_module": "@jupyter-widgets/controls",
          "model_name": "HBoxModel",
          "model_module_version": "1.5.0",
          "state": {
            "_dom_classes": [],
            "_model_module": "@jupyter-widgets/controls",
            "_model_module_version": "1.5.0",
            "_model_name": "HBoxModel",
            "_view_count": null,
            "_view_module": "@jupyter-widgets/controls",
            "_view_module_version": "1.5.0",
            "_view_name": "HBoxView",
            "box_style": "",
            "children": [
              "IPY_MODEL_c8e7ce052acd4c0599313b10ecd57453",
              "IPY_MODEL_ff75ce0fccaf438e92b17d14e68c4def",
              "IPY_MODEL_3f4ea4303ba84271a120134cd0bb4924"
            ],
            "layout": "IPY_MODEL_37f508897f2e43dfbadcd32a4c7b60e8"
          }
        },
        "c8e7ce052acd4c0599313b10ecd57453": {
          "model_module": "@jupyter-widgets/controls",
          "model_name": "HTMLModel",
          "model_module_version": "1.5.0",
          "state": {
            "_dom_classes": [],
            "_model_module": "@jupyter-widgets/controls",
            "_model_module_version": "1.5.0",
            "_model_name": "HTMLModel",
            "_view_count": null,
            "_view_module": "@jupyter-widgets/controls",
            "_view_module_version": "1.5.0",
            "_view_name": "HTMLView",
            "description": "",
            "description_tooltip": null,
            "layout": "IPY_MODEL_75dc11dbd30b446781541cb1f06492bc",
            "placeholder": "​",
            "style": "IPY_MODEL_1ceb53289ac944c9aa9ea8b724cb2a9f",
            "value": "Downloading shards: 100%"
          }
        },
        "ff75ce0fccaf438e92b17d14e68c4def": {
          "model_module": "@jupyter-widgets/controls",
          "model_name": "FloatProgressModel",
          "model_module_version": "1.5.0",
          "state": {
            "_dom_classes": [],
            "_model_module": "@jupyter-widgets/controls",
            "_model_module_version": "1.5.0",
            "_model_name": "FloatProgressModel",
            "_view_count": null,
            "_view_module": "@jupyter-widgets/controls",
            "_view_module_version": "1.5.0",
            "_view_name": "ProgressView",
            "bar_style": "success",
            "description": "",
            "description_tooltip": null,
            "layout": "IPY_MODEL_4933259aa99148048932dd9d45857b47",
            "max": 2,
            "min": 0,
            "orientation": "horizontal",
            "style": "IPY_MODEL_1420f3fd39034e90846c043763f007d8",
            "value": 2
          }
        },
        "3f4ea4303ba84271a120134cd0bb4924": {
          "model_module": "@jupyter-widgets/controls",
          "model_name": "HTMLModel",
          "model_module_version": "1.5.0",
          "state": {
            "_dom_classes": [],
            "_model_module": "@jupyter-widgets/controls",
            "_model_module_version": "1.5.0",
            "_model_name": "HTMLModel",
            "_view_count": null,
            "_view_module": "@jupyter-widgets/controls",
            "_view_module_version": "1.5.0",
            "_view_name": "HTMLView",
            "description": "",
            "description_tooltip": null,
            "layout": "IPY_MODEL_8124a5773d3b4c319b5989979a852ff7",
            "placeholder": "​",
            "style": "IPY_MODEL_f311d1ad3d0f49259f76a103583d7af5",
            "value": " 2/2 [01:25&lt;00:00, 38.49s/it]"
          }
        },
        "37f508897f2e43dfbadcd32a4c7b60e8": {
          "model_module": "@jupyter-widgets/base",
          "model_name": "LayoutModel",
          "model_module_version": "1.2.0",
          "state": {
            "_model_module": "@jupyter-widgets/base",
            "_model_module_version": "1.2.0",
            "_model_name": "LayoutModel",
            "_view_count": null,
            "_view_module": "@jupyter-widgets/base",
            "_view_module_version": "1.2.0",
            "_view_name": "LayoutView",
            "align_content": null,
            "align_items": null,
            "align_self": null,
            "border": null,
            "bottom": null,
            "display": null,
            "flex": null,
            "flex_flow": null,
            "grid_area": null,
            "grid_auto_columns": null,
            "grid_auto_flow": null,
            "grid_auto_rows": null,
            "grid_column": null,
            "grid_gap": null,
            "grid_row": null,
            "grid_template_areas": null,
            "grid_template_columns": null,
            "grid_template_rows": null,
            "height": null,
            "justify_content": null,
            "justify_items": null,
            "left": null,
            "margin": null,
            "max_height": null,
            "max_width": null,
            "min_height": null,
            "min_width": null,
            "object_fit": null,
            "object_position": null,
            "order": null,
            "overflow": null,
            "overflow_x": null,
            "overflow_y": null,
            "padding": null,
            "right": null,
            "top": null,
            "visibility": null,
            "width": null
          }
        },
        "75dc11dbd30b446781541cb1f06492bc": {
          "model_module": "@jupyter-widgets/base",
          "model_name": "LayoutModel",
          "model_module_version": "1.2.0",
          "state": {
            "_model_module": "@jupyter-widgets/base",
            "_model_module_version": "1.2.0",
            "_model_name": "LayoutModel",
            "_view_count": null,
            "_view_module": "@jupyter-widgets/base",
            "_view_module_version": "1.2.0",
            "_view_name": "LayoutView",
            "align_content": null,
            "align_items": null,
            "align_self": null,
            "border": null,
            "bottom": null,
            "display": null,
            "flex": null,
            "flex_flow": null,
            "grid_area": null,
            "grid_auto_columns": null,
            "grid_auto_flow": null,
            "grid_auto_rows": null,
            "grid_column": null,
            "grid_gap": null,
            "grid_row": null,
            "grid_template_areas": null,
            "grid_template_columns": null,
            "grid_template_rows": null,
            "height": null,
            "justify_content": null,
            "justify_items": null,
            "left": null,
            "margin": null,
            "max_height": null,
            "max_width": null,
            "min_height": null,
            "min_width": null,
            "object_fit": null,
            "object_position": null,
            "order": null,
            "overflow": null,
            "overflow_x": null,
            "overflow_y": null,
            "padding": null,
            "right": null,
            "top": null,
            "visibility": null,
            "width": null
          }
        },
        "1ceb53289ac944c9aa9ea8b724cb2a9f": {
          "model_module": "@jupyter-widgets/controls",
          "model_name": "DescriptionStyleModel",
          "model_module_version": "1.5.0",
          "state": {
            "_model_module": "@jupyter-widgets/controls",
            "_model_module_version": "1.5.0",
            "_model_name": "DescriptionStyleModel",
            "_view_count": null,
            "_view_module": "@jupyter-widgets/base",
            "_view_module_version": "1.2.0",
            "_view_name": "StyleView",
            "description_width": ""
          }
        },
        "4933259aa99148048932dd9d45857b47": {
          "model_module": "@jupyter-widgets/base",
          "model_name": "LayoutModel",
          "model_module_version": "1.2.0",
          "state": {
            "_model_module": "@jupyter-widgets/base",
            "_model_module_version": "1.2.0",
            "_model_name": "LayoutModel",
            "_view_count": null,
            "_view_module": "@jupyter-widgets/base",
            "_view_module_version": "1.2.0",
            "_view_name": "LayoutView",
            "align_content": null,
            "align_items": null,
            "align_self": null,
            "border": null,
            "bottom": null,
            "display": null,
            "flex": null,
            "flex_flow": null,
            "grid_area": null,
            "grid_auto_columns": null,
            "grid_auto_flow": null,
            "grid_auto_rows": null,
            "grid_column": null,
            "grid_gap": null,
            "grid_row": null,
            "grid_template_areas": null,
            "grid_template_columns": null,
            "grid_template_rows": null,
            "height": null,
            "justify_content": null,
            "justify_items": null,
            "left": null,
            "margin": null,
            "max_height": null,
            "max_width": null,
            "min_height": null,
            "min_width": null,
            "object_fit": null,
            "object_position": null,
            "order": null,
            "overflow": null,
            "overflow_x": null,
            "overflow_y": null,
            "padding": null,
            "right": null,
            "top": null,
            "visibility": null,
            "width": null
          }
        },
        "1420f3fd39034e90846c043763f007d8": {
          "model_module": "@jupyter-widgets/controls",
          "model_name": "ProgressStyleModel",
          "model_module_version": "1.5.0",
          "state": {
            "_model_module": "@jupyter-widgets/controls",
            "_model_module_version": "1.5.0",
            "_model_name": "ProgressStyleModel",
            "_view_count": null,
            "_view_module": "@jupyter-widgets/base",
            "_view_module_version": "1.2.0",
            "_view_name": "StyleView",
            "bar_color": null,
            "description_width": ""
          }
        },
        "8124a5773d3b4c319b5989979a852ff7": {
          "model_module": "@jupyter-widgets/base",
          "model_name": "LayoutModel",
          "model_module_version": "1.2.0",
          "state": {
            "_model_module": "@jupyter-widgets/base",
            "_model_module_version": "1.2.0",
            "_model_name": "LayoutModel",
            "_view_count": null,
            "_view_module": "@jupyter-widgets/base",
            "_view_module_version": "1.2.0",
            "_view_name": "LayoutView",
            "align_content": null,
            "align_items": null,
            "align_self": null,
            "border": null,
            "bottom": null,
            "display": null,
            "flex": null,
            "flex_flow": null,
            "grid_area": null,
            "grid_auto_columns": null,
            "grid_auto_flow": null,
            "grid_auto_rows": null,
            "grid_column": null,
            "grid_gap": null,
            "grid_row": null,
            "grid_template_areas": null,
            "grid_template_columns": null,
            "grid_template_rows": null,
            "height": null,
            "justify_content": null,
            "justify_items": null,
            "left": null,
            "margin": null,
            "max_height": null,
            "max_width": null,
            "min_height": null,
            "min_width": null,
            "object_fit": null,
            "object_position": null,
            "order": null,
            "overflow": null,
            "overflow_x": null,
            "overflow_y": null,
            "padding": null,
            "right": null,
            "top": null,
            "visibility": null,
            "width": null
          }
        },
        "f311d1ad3d0f49259f76a103583d7af5": {
          "model_module": "@jupyter-widgets/controls",
          "model_name": "DescriptionStyleModel",
          "model_module_version": "1.5.0",
          "state": {
            "_model_module": "@jupyter-widgets/controls",
            "_model_module_version": "1.5.0",
            "_model_name": "DescriptionStyleModel",
            "_view_count": null,
            "_view_module": "@jupyter-widgets/base",
            "_view_module_version": "1.2.0",
            "_view_name": "StyleView",
            "description_width": ""
          }
        },
        "78c6279be7f540ab8cc89d1767562876": {
          "model_module": "@jupyter-widgets/controls",
          "model_name": "HBoxModel",
          "model_module_version": "1.5.0",
          "state": {
            "_dom_classes": [],
            "_model_module": "@jupyter-widgets/controls",
            "_model_module_version": "1.5.0",
            "_model_name": "HBoxModel",
            "_view_count": null,
            "_view_module": "@jupyter-widgets/controls",
            "_view_module_version": "1.5.0",
            "_view_name": "HBoxView",
            "box_style": "",
            "children": [
              "IPY_MODEL_e1d2470785a644b6841cd98ebc9df8ea",
              "IPY_MODEL_57f32c4b7ca44762a6a3c68dbe947049",
              "IPY_MODEL_0713d52c29ff4a54823ccef53345e4aa"
            ],
            "layout": "IPY_MODEL_861ba27eedc94ba9a6e8fa5758cdbf17"
          }
        },
        "e1d2470785a644b6841cd98ebc9df8ea": {
          "model_module": "@jupyter-widgets/controls",
          "model_name": "HTMLModel",
          "model_module_version": "1.5.0",
          "state": {
            "_dom_classes": [],
            "_model_module": "@jupyter-widgets/controls",
            "_model_module_version": "1.5.0",
            "_model_name": "HTMLModel",
            "_view_count": null,
            "_view_module": "@jupyter-widgets/controls",
            "_view_module_version": "1.5.0",
            "_view_name": "HTMLView",
            "description": "",
            "description_tooltip": null,
            "layout": "IPY_MODEL_5fd91910a0bf4186911392d6bd80dcad",
            "placeholder": "​",
            "style": "IPY_MODEL_8b51c2765d5e449384a79bb0d468e960",
            "value": "model-00001-of-00002.safetensors: 100%"
          }
        },
        "57f32c4b7ca44762a6a3c68dbe947049": {
          "model_module": "@jupyter-widgets/controls",
          "model_name": "FloatProgressModel",
          "model_module_version": "1.5.0",
          "state": {
            "_dom_classes": [],
            "_model_module": "@jupyter-widgets/controls",
            "_model_module_version": "1.5.0",
            "_model_name": "FloatProgressModel",
            "_view_count": null,
            "_view_module": "@jupyter-widgets/controls",
            "_view_module_version": "1.5.0",
            "_view_name": "ProgressView",
            "bar_style": "success",
            "description": "",
            "description_tooltip": null,
            "layout": "IPY_MODEL_2bc8777d779c46248309e3d49738d25e",
            "max": 9976578928,
            "min": 0,
            "orientation": "horizontal",
            "style": "IPY_MODEL_a65a9055c72a4b98b74732e4a1832911",
            "value": 9976578928
          }
        },
        "0713d52c29ff4a54823ccef53345e4aa": {
          "model_module": "@jupyter-widgets/controls",
          "model_name": "HTMLModel",
          "model_module_version": "1.5.0",
          "state": {
            "_dom_classes": [],
            "_model_module": "@jupyter-widgets/controls",
            "_model_module_version": "1.5.0",
            "_model_name": "HTMLModel",
            "_view_count": null,
            "_view_module": "@jupyter-widgets/controls",
            "_view_module_version": "1.5.0",
            "_view_name": "HTMLView",
            "description": "",
            "description_tooltip": null,
            "layout": "IPY_MODEL_a0dcd1092015452abe60d455d9f68fdc",
            "placeholder": "​",
            "style": "IPY_MODEL_07563689ee89473aa50241eb439589d9",
            "value": " 9.98G/9.98G [01:08&lt;00:00, 64.8MB/s]"
          }
        },
        "861ba27eedc94ba9a6e8fa5758cdbf17": {
          "model_module": "@jupyter-widgets/base",
          "model_name": "LayoutModel",
          "model_module_version": "1.2.0",
          "state": {
            "_model_module": "@jupyter-widgets/base",
            "_model_module_version": "1.2.0",
            "_model_name": "LayoutModel",
            "_view_count": null,
            "_view_module": "@jupyter-widgets/base",
            "_view_module_version": "1.2.0",
            "_view_name": "LayoutView",
            "align_content": null,
            "align_items": null,
            "align_self": null,
            "border": null,
            "bottom": null,
            "display": null,
            "flex": null,
            "flex_flow": null,
            "grid_area": null,
            "grid_auto_columns": null,
            "grid_auto_flow": null,
            "grid_auto_rows": null,
            "grid_column": null,
            "grid_gap": null,
            "grid_row": null,
            "grid_template_areas": null,
            "grid_template_columns": null,
            "grid_template_rows": null,
            "height": null,
            "justify_content": null,
            "justify_items": null,
            "left": null,
            "margin": null,
            "max_height": null,
            "max_width": null,
            "min_height": null,
            "min_width": null,
            "object_fit": null,
            "object_position": null,
            "order": null,
            "overflow": null,
            "overflow_x": null,
            "overflow_y": null,
            "padding": null,
            "right": null,
            "top": null,
            "visibility": null,
            "width": null
          }
        },
        "5fd91910a0bf4186911392d6bd80dcad": {
          "model_module": "@jupyter-widgets/base",
          "model_name": "LayoutModel",
          "model_module_version": "1.2.0",
          "state": {
            "_model_module": "@jupyter-widgets/base",
            "_model_module_version": "1.2.0",
            "_model_name": "LayoutModel",
            "_view_count": null,
            "_view_module": "@jupyter-widgets/base",
            "_view_module_version": "1.2.0",
            "_view_name": "LayoutView",
            "align_content": null,
            "align_items": null,
            "align_self": null,
            "border": null,
            "bottom": null,
            "display": null,
            "flex": null,
            "flex_flow": null,
            "grid_area": null,
            "grid_auto_columns": null,
            "grid_auto_flow": null,
            "grid_auto_rows": null,
            "grid_column": null,
            "grid_gap": null,
            "grid_row": null,
            "grid_template_areas": null,
            "grid_template_columns": null,
            "grid_template_rows": null,
            "height": null,
            "justify_content": null,
            "justify_items": null,
            "left": null,
            "margin": null,
            "max_height": null,
            "max_width": null,
            "min_height": null,
            "min_width": null,
            "object_fit": null,
            "object_position": null,
            "order": null,
            "overflow": null,
            "overflow_x": null,
            "overflow_y": null,
            "padding": null,
            "right": null,
            "top": null,
            "visibility": null,
            "width": null
          }
        },
        "8b51c2765d5e449384a79bb0d468e960": {
          "model_module": "@jupyter-widgets/controls",
          "model_name": "DescriptionStyleModel",
          "model_module_version": "1.5.0",
          "state": {
            "_model_module": "@jupyter-widgets/controls",
            "_model_module_version": "1.5.0",
            "_model_name": "DescriptionStyleModel",
            "_view_count": null,
            "_view_module": "@jupyter-widgets/base",
            "_view_module_version": "1.2.0",
            "_view_name": "StyleView",
            "description_width": ""
          }
        },
        "2bc8777d779c46248309e3d49738d25e": {
          "model_module": "@jupyter-widgets/base",
          "model_name": "LayoutModel",
          "model_module_version": "1.2.0",
          "state": {
            "_model_module": "@jupyter-widgets/base",
            "_model_module_version": "1.2.0",
            "_model_name": "LayoutModel",
            "_view_count": null,
            "_view_module": "@jupyter-widgets/base",
            "_view_module_version": "1.2.0",
            "_view_name": "LayoutView",
            "align_content": null,
            "align_items": null,
            "align_self": null,
            "border": null,
            "bottom": null,
            "display": null,
            "flex": null,
            "flex_flow": null,
            "grid_area": null,
            "grid_auto_columns": null,
            "grid_auto_flow": null,
            "grid_auto_rows": null,
            "grid_column": null,
            "grid_gap": null,
            "grid_row": null,
            "grid_template_areas": null,
            "grid_template_columns": null,
            "grid_template_rows": null,
            "height": null,
            "justify_content": null,
            "justify_items": null,
            "left": null,
            "margin": null,
            "max_height": null,
            "max_width": null,
            "min_height": null,
            "min_width": null,
            "object_fit": null,
            "object_position": null,
            "order": null,
            "overflow": null,
            "overflow_x": null,
            "overflow_y": null,
            "padding": null,
            "right": null,
            "top": null,
            "visibility": null,
            "width": null
          }
        },
        "a65a9055c72a4b98b74732e4a1832911": {
          "model_module": "@jupyter-widgets/controls",
          "model_name": "ProgressStyleModel",
          "model_module_version": "1.5.0",
          "state": {
            "_model_module": "@jupyter-widgets/controls",
            "_model_module_version": "1.5.0",
            "_model_name": "ProgressStyleModel",
            "_view_count": null,
            "_view_module": "@jupyter-widgets/base",
            "_view_module_version": "1.2.0",
            "_view_name": "StyleView",
            "bar_color": null,
            "description_width": ""
          }
        },
        "a0dcd1092015452abe60d455d9f68fdc": {
          "model_module": "@jupyter-widgets/base",
          "model_name": "LayoutModel",
          "model_module_version": "1.2.0",
          "state": {
            "_model_module": "@jupyter-widgets/base",
            "_model_module_version": "1.2.0",
            "_model_name": "LayoutModel",
            "_view_count": null,
            "_view_module": "@jupyter-widgets/base",
            "_view_module_version": "1.2.0",
            "_view_name": "LayoutView",
            "align_content": null,
            "align_items": null,
            "align_self": null,
            "border": null,
            "bottom": null,
            "display": null,
            "flex": null,
            "flex_flow": null,
            "grid_area": null,
            "grid_auto_columns": null,
            "grid_auto_flow": null,
            "grid_auto_rows": null,
            "grid_column": null,
            "grid_gap": null,
            "grid_row": null,
            "grid_template_areas": null,
            "grid_template_columns": null,
            "grid_template_rows": null,
            "height": null,
            "justify_content": null,
            "justify_items": null,
            "left": null,
            "margin": null,
            "max_height": null,
            "max_width": null,
            "min_height": null,
            "min_width": null,
            "object_fit": null,
            "object_position": null,
            "order": null,
            "overflow": null,
            "overflow_x": null,
            "overflow_y": null,
            "padding": null,
            "right": null,
            "top": null,
            "visibility": null,
            "width": null
          }
        },
        "07563689ee89473aa50241eb439589d9": {
          "model_module": "@jupyter-widgets/controls",
          "model_name": "DescriptionStyleModel",
          "model_module_version": "1.5.0",
          "state": {
            "_model_module": "@jupyter-widgets/controls",
            "_model_module_version": "1.5.0",
            "_model_name": "DescriptionStyleModel",
            "_view_count": null,
            "_view_module": "@jupyter-widgets/base",
            "_view_module_version": "1.2.0",
            "_view_name": "StyleView",
            "description_width": ""
          }
        },
        "e311846f52d74608a2f06970efc96436": {
          "model_module": "@jupyter-widgets/controls",
          "model_name": "HBoxModel",
          "model_module_version": "1.5.0",
          "state": {
            "_dom_classes": [],
            "_model_module": "@jupyter-widgets/controls",
            "_model_module_version": "1.5.0",
            "_model_name": "HBoxModel",
            "_view_count": null,
            "_view_module": "@jupyter-widgets/controls",
            "_view_module_version": "1.5.0",
            "_view_name": "HBoxView",
            "box_style": "",
            "children": [
              "IPY_MODEL_053d2267d86b4e9bacb93758f62a70a0",
              "IPY_MODEL_e9274ed92dfe467ba56ff31ddede9b47",
              "IPY_MODEL_b095bd851d4b4c66a3d277f89b5c0e22"
            ],
            "layout": "IPY_MODEL_9832da1244154ff8aaf7c6a2db4b05d3"
          }
        },
        "053d2267d86b4e9bacb93758f62a70a0": {
          "model_module": "@jupyter-widgets/controls",
          "model_name": "HTMLModel",
          "model_module_version": "1.5.0",
          "state": {
            "_dom_classes": [],
            "_model_module": "@jupyter-widgets/controls",
            "_model_module_version": "1.5.0",
            "_model_name": "HTMLModel",
            "_view_count": null,
            "_view_module": "@jupyter-widgets/controls",
            "_view_module_version": "1.5.0",
            "_view_name": "HTMLView",
            "description": "",
            "description_tooltip": null,
            "layout": "IPY_MODEL_b96d3ba5d83f4851b7696c77437684ff",
            "placeholder": "​",
            "style": "IPY_MODEL_56627212c59348afb7c717c2a3a0a65e",
            "value": "model-00002-of-00002.safetensors: 100%"
          }
        },
        "e9274ed92dfe467ba56ff31ddede9b47": {
          "model_module": "@jupyter-widgets/controls",
          "model_name": "FloatProgressModel",
          "model_module_version": "1.5.0",
          "state": {
            "_dom_classes": [],
            "_model_module": "@jupyter-widgets/controls",
            "_model_module_version": "1.5.0",
            "_model_name": "FloatProgressModel",
            "_view_count": null,
            "_view_module": "@jupyter-widgets/controls",
            "_view_module_version": "1.5.0",
            "_view_name": "ProgressView",
            "bar_style": "success",
            "description": "",
            "description_tooltip": null,
            "layout": "IPY_MODEL_568ee6cade1e4c31a10f05f04621bc75",
            "max": 3500297344,
            "min": 0,
            "orientation": "horizontal",
            "style": "IPY_MODEL_02c6b6d5dffc4285a5be4cd2a4e7cd21",
            "value": 3500297344
          }
        },
        "b095bd851d4b4c66a3d277f89b5c0e22": {
          "model_module": "@jupyter-widgets/controls",
          "model_name": "HTMLModel",
          "model_module_version": "1.5.0",
          "state": {
            "_dom_classes": [],
            "_model_module": "@jupyter-widgets/controls",
            "_model_module_version": "1.5.0",
            "_model_name": "HTMLModel",
            "_view_count": null,
            "_view_module": "@jupyter-widgets/controls",
            "_view_module_version": "1.5.0",
            "_view_name": "HTMLView",
            "description": "",
            "description_tooltip": null,
            "layout": "IPY_MODEL_e8cf3b90a1cb42d890a4c1327309cc21",
            "placeholder": "​",
            "style": "IPY_MODEL_087e68ff71a840ed8e0d2039e69057fe",
            "value": " 3.50G/3.50G [00:17&lt;00:00, 253MB/s]"
          }
        },
        "9832da1244154ff8aaf7c6a2db4b05d3": {
          "model_module": "@jupyter-widgets/base",
          "model_name": "LayoutModel",
          "model_module_version": "1.2.0",
          "state": {
            "_model_module": "@jupyter-widgets/base",
            "_model_module_version": "1.2.0",
            "_model_name": "LayoutModel",
            "_view_count": null,
            "_view_module": "@jupyter-widgets/base",
            "_view_module_version": "1.2.0",
            "_view_name": "LayoutView",
            "align_content": null,
            "align_items": null,
            "align_self": null,
            "border": null,
            "bottom": null,
            "display": null,
            "flex": null,
            "flex_flow": null,
            "grid_area": null,
            "grid_auto_columns": null,
            "grid_auto_flow": null,
            "grid_auto_rows": null,
            "grid_column": null,
            "grid_gap": null,
            "grid_row": null,
            "grid_template_areas": null,
            "grid_template_columns": null,
            "grid_template_rows": null,
            "height": null,
            "justify_content": null,
            "justify_items": null,
            "left": null,
            "margin": null,
            "max_height": null,
            "max_width": null,
            "min_height": null,
            "min_width": null,
            "object_fit": null,
            "object_position": null,
            "order": null,
            "overflow": null,
            "overflow_x": null,
            "overflow_y": null,
            "padding": null,
            "right": null,
            "top": null,
            "visibility": null,
            "width": null
          }
        },
        "b96d3ba5d83f4851b7696c77437684ff": {
          "model_module": "@jupyter-widgets/base",
          "model_name": "LayoutModel",
          "model_module_version": "1.2.0",
          "state": {
            "_model_module": "@jupyter-widgets/base",
            "_model_module_version": "1.2.0",
            "_model_name": "LayoutModel",
            "_view_count": null,
            "_view_module": "@jupyter-widgets/base",
            "_view_module_version": "1.2.0",
            "_view_name": "LayoutView",
            "align_content": null,
            "align_items": null,
            "align_self": null,
            "border": null,
            "bottom": null,
            "display": null,
            "flex": null,
            "flex_flow": null,
            "grid_area": null,
            "grid_auto_columns": null,
            "grid_auto_flow": null,
            "grid_auto_rows": null,
            "grid_column": null,
            "grid_gap": null,
            "grid_row": null,
            "grid_template_areas": null,
            "grid_template_columns": null,
            "grid_template_rows": null,
            "height": null,
            "justify_content": null,
            "justify_items": null,
            "left": null,
            "margin": null,
            "max_height": null,
            "max_width": null,
            "min_height": null,
            "min_width": null,
            "object_fit": null,
            "object_position": null,
            "order": null,
            "overflow": null,
            "overflow_x": null,
            "overflow_y": null,
            "padding": null,
            "right": null,
            "top": null,
            "visibility": null,
            "width": null
          }
        },
        "56627212c59348afb7c717c2a3a0a65e": {
          "model_module": "@jupyter-widgets/controls",
          "model_name": "DescriptionStyleModel",
          "model_module_version": "1.5.0",
          "state": {
            "_model_module": "@jupyter-widgets/controls",
            "_model_module_version": "1.5.0",
            "_model_name": "DescriptionStyleModel",
            "_view_count": null,
            "_view_module": "@jupyter-widgets/base",
            "_view_module_version": "1.2.0",
            "_view_name": "StyleView",
            "description_width": ""
          }
        },
        "568ee6cade1e4c31a10f05f04621bc75": {
          "model_module": "@jupyter-widgets/base",
          "model_name": "LayoutModel",
          "model_module_version": "1.2.0",
          "state": {
            "_model_module": "@jupyter-widgets/base",
            "_model_module_version": "1.2.0",
            "_model_name": "LayoutModel",
            "_view_count": null,
            "_view_module": "@jupyter-widgets/base",
            "_view_module_version": "1.2.0",
            "_view_name": "LayoutView",
            "align_content": null,
            "align_items": null,
            "align_self": null,
            "border": null,
            "bottom": null,
            "display": null,
            "flex": null,
            "flex_flow": null,
            "grid_area": null,
            "grid_auto_columns": null,
            "grid_auto_flow": null,
            "grid_auto_rows": null,
            "grid_column": null,
            "grid_gap": null,
            "grid_row": null,
            "grid_template_areas": null,
            "grid_template_columns": null,
            "grid_template_rows": null,
            "height": null,
            "justify_content": null,
            "justify_items": null,
            "left": null,
            "margin": null,
            "max_height": null,
            "max_width": null,
            "min_height": null,
            "min_width": null,
            "object_fit": null,
            "object_position": null,
            "order": null,
            "overflow": null,
            "overflow_x": null,
            "overflow_y": null,
            "padding": null,
            "right": null,
            "top": null,
            "visibility": null,
            "width": null
          }
        },
        "02c6b6d5dffc4285a5be4cd2a4e7cd21": {
          "model_module": "@jupyter-widgets/controls",
          "model_name": "ProgressStyleModel",
          "model_module_version": "1.5.0",
          "state": {
            "_model_module": "@jupyter-widgets/controls",
            "_model_module_version": "1.5.0",
            "_model_name": "ProgressStyleModel",
            "_view_count": null,
            "_view_module": "@jupyter-widgets/base",
            "_view_module_version": "1.2.0",
            "_view_name": "StyleView",
            "bar_color": null,
            "description_width": ""
          }
        },
        "e8cf3b90a1cb42d890a4c1327309cc21": {
          "model_module": "@jupyter-widgets/base",
          "model_name": "LayoutModel",
          "model_module_version": "1.2.0",
          "state": {
            "_model_module": "@jupyter-widgets/base",
            "_model_module_version": "1.2.0",
            "_model_name": "LayoutModel",
            "_view_count": null,
            "_view_module": "@jupyter-widgets/base",
            "_view_module_version": "1.2.0",
            "_view_name": "LayoutView",
            "align_content": null,
            "align_items": null,
            "align_self": null,
            "border": null,
            "bottom": null,
            "display": null,
            "flex": null,
            "flex_flow": null,
            "grid_area": null,
            "grid_auto_columns": null,
            "grid_auto_flow": null,
            "grid_auto_rows": null,
            "grid_column": null,
            "grid_gap": null,
            "grid_row": null,
            "grid_template_areas": null,
            "grid_template_columns": null,
            "grid_template_rows": null,
            "height": null,
            "justify_content": null,
            "justify_items": null,
            "left": null,
            "margin": null,
            "max_height": null,
            "max_width": null,
            "min_height": null,
            "min_width": null,
            "object_fit": null,
            "object_position": null,
            "order": null,
            "overflow": null,
            "overflow_x": null,
            "overflow_y": null,
            "padding": null,
            "right": null,
            "top": null,
            "visibility": null,
            "width": null
          }
        },
        "087e68ff71a840ed8e0d2039e69057fe": {
          "model_module": "@jupyter-widgets/controls",
          "model_name": "DescriptionStyleModel",
          "model_module_version": "1.5.0",
          "state": {
            "_model_module": "@jupyter-widgets/controls",
            "_model_module_version": "1.5.0",
            "_model_name": "DescriptionStyleModel",
            "_view_count": null,
            "_view_module": "@jupyter-widgets/base",
            "_view_module_version": "1.2.0",
            "_view_name": "StyleView",
            "description_width": ""
          }
        },
        "2cc3a81575a041e2929d04eb5c29d06f": {
          "model_module": "@jupyter-widgets/controls",
          "model_name": "HBoxModel",
          "model_module_version": "1.5.0",
          "state": {
            "_dom_classes": [],
            "_model_module": "@jupyter-widgets/controls",
            "_model_module_version": "1.5.0",
            "_model_name": "HBoxModel",
            "_view_count": null,
            "_view_module": "@jupyter-widgets/controls",
            "_view_module_version": "1.5.0",
            "_view_name": "HBoxView",
            "box_style": "",
            "children": [
              "IPY_MODEL_b89222a862b14799b7777fb82d9055e3",
              "IPY_MODEL_2e372d63788743e8b3729d1199dffdd1",
              "IPY_MODEL_7629ac631e774eb6831785c8a0bb5e6a"
            ],
            "layout": "IPY_MODEL_198f177d0cc942289c29675dd9b11013"
          }
        },
        "b89222a862b14799b7777fb82d9055e3": {
          "model_module": "@jupyter-widgets/controls",
          "model_name": "HTMLModel",
          "model_module_version": "1.5.0",
          "state": {
            "_dom_classes": [],
            "_model_module": "@jupyter-widgets/controls",
            "_model_module_version": "1.5.0",
            "_model_name": "HTMLModel",
            "_view_count": null,
            "_view_module": "@jupyter-widgets/controls",
            "_view_module_version": "1.5.0",
            "_view_name": "HTMLView",
            "description": "",
            "description_tooltip": null,
            "layout": "IPY_MODEL_5cc157bf96da418abddb9b3a6e9a5e30",
            "placeholder": "​",
            "style": "IPY_MODEL_1ebce9a58af5479984053df2db5dce81",
            "value": "Loading checkpoint shards: 100%"
          }
        },
        "2e372d63788743e8b3729d1199dffdd1": {
          "model_module": "@jupyter-widgets/controls",
          "model_name": "FloatProgressModel",
          "model_module_version": "1.5.0",
          "state": {
            "_dom_classes": [],
            "_model_module": "@jupyter-widgets/controls",
            "_model_module_version": "1.5.0",
            "_model_name": "FloatProgressModel",
            "_view_count": null,
            "_view_module": "@jupyter-widgets/controls",
            "_view_module_version": "1.5.0",
            "_view_name": "ProgressView",
            "bar_style": "success",
            "description": "",
            "description_tooltip": null,
            "layout": "IPY_MODEL_21d1d42302974a439e93dae208923e7b",
            "max": 2,
            "min": 0,
            "orientation": "horizontal",
            "style": "IPY_MODEL_31607c5cd4204b09ae4ceca7e1d71525",
            "value": 2
          }
        },
        "7629ac631e774eb6831785c8a0bb5e6a": {
          "model_module": "@jupyter-widgets/controls",
          "model_name": "HTMLModel",
          "model_module_version": "1.5.0",
          "state": {
            "_dom_classes": [],
            "_model_module": "@jupyter-widgets/controls",
            "_model_module_version": "1.5.0",
            "_model_name": "HTMLModel",
            "_view_count": null,
            "_view_module": "@jupyter-widgets/controls",
            "_view_module_version": "1.5.0",
            "_view_name": "HTMLView",
            "description": "",
            "description_tooltip": null,
            "layout": "IPY_MODEL_22542bd18be6499e906f129049ed778f",
            "placeholder": "​",
            "style": "IPY_MODEL_1bb6a86ba6f44e8a8b22b4df40650244",
            "value": " 2/2 [01:02&lt;00:00, 28.77s/it]"
          }
        },
        "198f177d0cc942289c29675dd9b11013": {
          "model_module": "@jupyter-widgets/base",
          "model_name": "LayoutModel",
          "model_module_version": "1.2.0",
          "state": {
            "_model_module": "@jupyter-widgets/base",
            "_model_module_version": "1.2.0",
            "_model_name": "LayoutModel",
            "_view_count": null,
            "_view_module": "@jupyter-widgets/base",
            "_view_module_version": "1.2.0",
            "_view_name": "LayoutView",
            "align_content": null,
            "align_items": null,
            "align_self": null,
            "border": null,
            "bottom": null,
            "display": null,
            "flex": null,
            "flex_flow": null,
            "grid_area": null,
            "grid_auto_columns": null,
            "grid_auto_flow": null,
            "grid_auto_rows": null,
            "grid_column": null,
            "grid_gap": null,
            "grid_row": null,
            "grid_template_areas": null,
            "grid_template_columns": null,
            "grid_template_rows": null,
            "height": null,
            "justify_content": null,
            "justify_items": null,
            "left": null,
            "margin": null,
            "max_height": null,
            "max_width": null,
            "min_height": null,
            "min_width": null,
            "object_fit": null,
            "object_position": null,
            "order": null,
            "overflow": null,
            "overflow_x": null,
            "overflow_y": null,
            "padding": null,
            "right": null,
            "top": null,
            "visibility": null,
            "width": null
          }
        },
        "5cc157bf96da418abddb9b3a6e9a5e30": {
          "model_module": "@jupyter-widgets/base",
          "model_name": "LayoutModel",
          "model_module_version": "1.2.0",
          "state": {
            "_model_module": "@jupyter-widgets/base",
            "_model_module_version": "1.2.0",
            "_model_name": "LayoutModel",
            "_view_count": null,
            "_view_module": "@jupyter-widgets/base",
            "_view_module_version": "1.2.0",
            "_view_name": "LayoutView",
            "align_content": null,
            "align_items": null,
            "align_self": null,
            "border": null,
            "bottom": null,
            "display": null,
            "flex": null,
            "flex_flow": null,
            "grid_area": null,
            "grid_auto_columns": null,
            "grid_auto_flow": null,
            "grid_auto_rows": null,
            "grid_column": null,
            "grid_gap": null,
            "grid_row": null,
            "grid_template_areas": null,
            "grid_template_columns": null,
            "grid_template_rows": null,
            "height": null,
            "justify_content": null,
            "justify_items": null,
            "left": null,
            "margin": null,
            "max_height": null,
            "max_width": null,
            "min_height": null,
            "min_width": null,
            "object_fit": null,
            "object_position": null,
            "order": null,
            "overflow": null,
            "overflow_x": null,
            "overflow_y": null,
            "padding": null,
            "right": null,
            "top": null,
            "visibility": null,
            "width": null
          }
        },
        "1ebce9a58af5479984053df2db5dce81": {
          "model_module": "@jupyter-widgets/controls",
          "model_name": "DescriptionStyleModel",
          "model_module_version": "1.5.0",
          "state": {
            "_model_module": "@jupyter-widgets/controls",
            "_model_module_version": "1.5.0",
            "_model_name": "DescriptionStyleModel",
            "_view_count": null,
            "_view_module": "@jupyter-widgets/base",
            "_view_module_version": "1.2.0",
            "_view_name": "StyleView",
            "description_width": ""
          }
        },
        "21d1d42302974a439e93dae208923e7b": {
          "model_module": "@jupyter-widgets/base",
          "model_name": "LayoutModel",
          "model_module_version": "1.2.0",
          "state": {
            "_model_module": "@jupyter-widgets/base",
            "_model_module_version": "1.2.0",
            "_model_name": "LayoutModel",
            "_view_count": null,
            "_view_module": "@jupyter-widgets/base",
            "_view_module_version": "1.2.0",
            "_view_name": "LayoutView",
            "align_content": null,
            "align_items": null,
            "align_self": null,
            "border": null,
            "bottom": null,
            "display": null,
            "flex": null,
            "flex_flow": null,
            "grid_area": null,
            "grid_auto_columns": null,
            "grid_auto_flow": null,
            "grid_auto_rows": null,
            "grid_column": null,
            "grid_gap": null,
            "grid_row": null,
            "grid_template_areas": null,
            "grid_template_columns": null,
            "grid_template_rows": null,
            "height": null,
            "justify_content": null,
            "justify_items": null,
            "left": null,
            "margin": null,
            "max_height": null,
            "max_width": null,
            "min_height": null,
            "min_width": null,
            "object_fit": null,
            "object_position": null,
            "order": null,
            "overflow": null,
            "overflow_x": null,
            "overflow_y": null,
            "padding": null,
            "right": null,
            "top": null,
            "visibility": null,
            "width": null
          }
        },
        "31607c5cd4204b09ae4ceca7e1d71525": {
          "model_module": "@jupyter-widgets/controls",
          "model_name": "ProgressStyleModel",
          "model_module_version": "1.5.0",
          "state": {
            "_model_module": "@jupyter-widgets/controls",
            "_model_module_version": "1.5.0",
            "_model_name": "ProgressStyleModel",
            "_view_count": null,
            "_view_module": "@jupyter-widgets/base",
            "_view_module_version": "1.2.0",
            "_view_name": "StyleView",
            "bar_color": null,
            "description_width": ""
          }
        },
        "22542bd18be6499e906f129049ed778f": {
          "model_module": "@jupyter-widgets/base",
          "model_name": "LayoutModel",
          "model_module_version": "1.2.0",
          "state": {
            "_model_module": "@jupyter-widgets/base",
            "_model_module_version": "1.2.0",
            "_model_name": "LayoutModel",
            "_view_count": null,
            "_view_module": "@jupyter-widgets/base",
            "_view_module_version": "1.2.0",
            "_view_name": "LayoutView",
            "align_content": null,
            "align_items": null,
            "align_self": null,
            "border": null,
            "bottom": null,
            "display": null,
            "flex": null,
            "flex_flow": null,
            "grid_area": null,
            "grid_auto_columns": null,
            "grid_auto_flow": null,
            "grid_auto_rows": null,
            "grid_column": null,
            "grid_gap": null,
            "grid_row": null,
            "grid_template_areas": null,
            "grid_template_columns": null,
            "grid_template_rows": null,
            "height": null,
            "justify_content": null,
            "justify_items": null,
            "left": null,
            "margin": null,
            "max_height": null,
            "max_width": null,
            "min_height": null,
            "min_width": null,
            "object_fit": null,
            "object_position": null,
            "order": null,
            "overflow": null,
            "overflow_x": null,
            "overflow_y": null,
            "padding": null,
            "right": null,
            "top": null,
            "visibility": null,
            "width": null
          }
        },
        "1bb6a86ba6f44e8a8b22b4df40650244": {
          "model_module": "@jupyter-widgets/controls",
          "model_name": "DescriptionStyleModel",
          "model_module_version": "1.5.0",
          "state": {
            "_model_module": "@jupyter-widgets/controls",
            "_model_module_version": "1.5.0",
            "_model_name": "DescriptionStyleModel",
            "_view_count": null,
            "_view_module": "@jupyter-widgets/base",
            "_view_module_version": "1.2.0",
            "_view_name": "StyleView",
            "description_width": ""
          }
        },
        "01a81df1e636440f9b6ef58449987690": {
          "model_module": "@jupyter-widgets/controls",
          "model_name": "HBoxModel",
          "model_module_version": "1.5.0",
          "state": {
            "_dom_classes": [],
            "_model_module": "@jupyter-widgets/controls",
            "_model_module_version": "1.5.0",
            "_model_name": "HBoxModel",
            "_view_count": null,
            "_view_module": "@jupyter-widgets/controls",
            "_view_module_version": "1.5.0",
            "_view_name": "HBoxView",
            "box_style": "",
            "children": [
              "IPY_MODEL_99a85c3f0f044372a806c5c090c71b13",
              "IPY_MODEL_dd7ed397ae5c46be8b300e9ab915058b",
              "IPY_MODEL_cffa5d3b721a4ed5afec63e0e101e0f4"
            ],
            "layout": "IPY_MODEL_ef9e897b9ae6407f9a4449364927da0d"
          }
        },
        "99a85c3f0f044372a806c5c090c71b13": {
          "model_module": "@jupyter-widgets/controls",
          "model_name": "HTMLModel",
          "model_module_version": "1.5.0",
          "state": {
            "_dom_classes": [],
            "_model_module": "@jupyter-widgets/controls",
            "_model_module_version": "1.5.0",
            "_model_name": "HTMLModel",
            "_view_count": null,
            "_view_module": "@jupyter-widgets/controls",
            "_view_module_version": "1.5.0",
            "_view_name": "HTMLView",
            "description": "",
            "description_tooltip": null,
            "layout": "IPY_MODEL_67463dab453a4101b4cf4f3060a11a77",
            "placeholder": "​",
            "style": "IPY_MODEL_9c521a8af88d487f9f01086e68b7319e",
            "value": "generation_config.json: 100%"
          }
        },
        "dd7ed397ae5c46be8b300e9ab915058b": {
          "model_module": "@jupyter-widgets/controls",
          "model_name": "FloatProgressModel",
          "model_module_version": "1.5.0",
          "state": {
            "_dom_classes": [],
            "_model_module": "@jupyter-widgets/controls",
            "_model_module_version": "1.5.0",
            "_model_name": "FloatProgressModel",
            "_view_count": null,
            "_view_module": "@jupyter-widgets/controls",
            "_view_module_version": "1.5.0",
            "_view_name": "ProgressView",
            "bar_style": "success",
            "description": "",
            "description_tooltip": null,
            "layout": "IPY_MODEL_a6bcb94b2519463c90a04ebaae943080",
            "max": 188,
            "min": 0,
            "orientation": "horizontal",
            "style": "IPY_MODEL_6b2fabbf5df549c9a3ac2508b5b2ebbc",
            "value": 188
          }
        },
        "cffa5d3b721a4ed5afec63e0e101e0f4": {
          "model_module": "@jupyter-widgets/controls",
          "model_name": "HTMLModel",
          "model_module_version": "1.5.0",
          "state": {
            "_dom_classes": [],
            "_model_module": "@jupyter-widgets/controls",
            "_model_module_version": "1.5.0",
            "_model_name": "HTMLModel",
            "_view_count": null,
            "_view_module": "@jupyter-widgets/controls",
            "_view_module_version": "1.5.0",
            "_view_name": "HTMLView",
            "description": "",
            "description_tooltip": null,
            "layout": "IPY_MODEL_d35514a3711345dea5b9cde36f343070",
            "placeholder": "​",
            "style": "IPY_MODEL_90847fb4561245199dcc6121367fa714",
            "value": " 188/188 [00:00&lt;00:00, 12.3kB/s]"
          }
        },
        "ef9e897b9ae6407f9a4449364927da0d": {
          "model_module": "@jupyter-widgets/base",
          "model_name": "LayoutModel",
          "model_module_version": "1.2.0",
          "state": {
            "_model_module": "@jupyter-widgets/base",
            "_model_module_version": "1.2.0",
            "_model_name": "LayoutModel",
            "_view_count": null,
            "_view_module": "@jupyter-widgets/base",
            "_view_module_version": "1.2.0",
            "_view_name": "LayoutView",
            "align_content": null,
            "align_items": null,
            "align_self": null,
            "border": null,
            "bottom": null,
            "display": null,
            "flex": null,
            "flex_flow": null,
            "grid_area": null,
            "grid_auto_columns": null,
            "grid_auto_flow": null,
            "grid_auto_rows": null,
            "grid_column": null,
            "grid_gap": null,
            "grid_row": null,
            "grid_template_areas": null,
            "grid_template_columns": null,
            "grid_template_rows": null,
            "height": null,
            "justify_content": null,
            "justify_items": null,
            "left": null,
            "margin": null,
            "max_height": null,
            "max_width": null,
            "min_height": null,
            "min_width": null,
            "object_fit": null,
            "object_position": null,
            "order": null,
            "overflow": null,
            "overflow_x": null,
            "overflow_y": null,
            "padding": null,
            "right": null,
            "top": null,
            "visibility": null,
            "width": null
          }
        },
        "67463dab453a4101b4cf4f3060a11a77": {
          "model_module": "@jupyter-widgets/base",
          "model_name": "LayoutModel",
          "model_module_version": "1.2.0",
          "state": {
            "_model_module": "@jupyter-widgets/base",
            "_model_module_version": "1.2.0",
            "_model_name": "LayoutModel",
            "_view_count": null,
            "_view_module": "@jupyter-widgets/base",
            "_view_module_version": "1.2.0",
            "_view_name": "LayoutView",
            "align_content": null,
            "align_items": null,
            "align_self": null,
            "border": null,
            "bottom": null,
            "display": null,
            "flex": null,
            "flex_flow": null,
            "grid_area": null,
            "grid_auto_columns": null,
            "grid_auto_flow": null,
            "grid_auto_rows": null,
            "grid_column": null,
            "grid_gap": null,
            "grid_row": null,
            "grid_template_areas": null,
            "grid_template_columns": null,
            "grid_template_rows": null,
            "height": null,
            "justify_content": null,
            "justify_items": null,
            "left": null,
            "margin": null,
            "max_height": null,
            "max_width": null,
            "min_height": null,
            "min_width": null,
            "object_fit": null,
            "object_position": null,
            "order": null,
            "overflow": null,
            "overflow_x": null,
            "overflow_y": null,
            "padding": null,
            "right": null,
            "top": null,
            "visibility": null,
            "width": null
          }
        },
        "9c521a8af88d487f9f01086e68b7319e": {
          "model_module": "@jupyter-widgets/controls",
          "model_name": "DescriptionStyleModel",
          "model_module_version": "1.5.0",
          "state": {
            "_model_module": "@jupyter-widgets/controls",
            "_model_module_version": "1.5.0",
            "_model_name": "DescriptionStyleModel",
            "_view_count": null,
            "_view_module": "@jupyter-widgets/base",
            "_view_module_version": "1.2.0",
            "_view_name": "StyleView",
            "description_width": ""
          }
        },
        "a6bcb94b2519463c90a04ebaae943080": {
          "model_module": "@jupyter-widgets/base",
          "model_name": "LayoutModel",
          "model_module_version": "1.2.0",
          "state": {
            "_model_module": "@jupyter-widgets/base",
            "_model_module_version": "1.2.0",
            "_model_name": "LayoutModel",
            "_view_count": null,
            "_view_module": "@jupyter-widgets/base",
            "_view_module_version": "1.2.0",
            "_view_name": "LayoutView",
            "align_content": null,
            "align_items": null,
            "align_self": null,
            "border": null,
            "bottom": null,
            "display": null,
            "flex": null,
            "flex_flow": null,
            "grid_area": null,
            "grid_auto_columns": null,
            "grid_auto_flow": null,
            "grid_auto_rows": null,
            "grid_column": null,
            "grid_gap": null,
            "grid_row": null,
            "grid_template_areas": null,
            "grid_template_columns": null,
            "grid_template_rows": null,
            "height": null,
            "justify_content": null,
            "justify_items": null,
            "left": null,
            "margin": null,
            "max_height": null,
            "max_width": null,
            "min_height": null,
            "min_width": null,
            "object_fit": null,
            "object_position": null,
            "order": null,
            "overflow": null,
            "overflow_x": null,
            "overflow_y": null,
            "padding": null,
            "right": null,
            "top": null,
            "visibility": null,
            "width": null
          }
        },
        "6b2fabbf5df549c9a3ac2508b5b2ebbc": {
          "model_module": "@jupyter-widgets/controls",
          "model_name": "ProgressStyleModel",
          "model_module_version": "1.5.0",
          "state": {
            "_model_module": "@jupyter-widgets/controls",
            "_model_module_version": "1.5.0",
            "_model_name": "ProgressStyleModel",
            "_view_count": null,
            "_view_module": "@jupyter-widgets/base",
            "_view_module_version": "1.2.0",
            "_view_name": "StyleView",
            "bar_color": null,
            "description_width": ""
          }
        },
        "d35514a3711345dea5b9cde36f343070": {
          "model_module": "@jupyter-widgets/base",
          "model_name": "LayoutModel",
          "model_module_version": "1.2.0",
          "state": {
            "_model_module": "@jupyter-widgets/base",
            "_model_module_version": "1.2.0",
            "_model_name": "LayoutModel",
            "_view_count": null,
            "_view_module": "@jupyter-widgets/base",
            "_view_module_version": "1.2.0",
            "_view_name": "LayoutView",
            "align_content": null,
            "align_items": null,
            "align_self": null,
            "border": null,
            "bottom": null,
            "display": null,
            "flex": null,
            "flex_flow": null,
            "grid_area": null,
            "grid_auto_columns": null,
            "grid_auto_flow": null,
            "grid_auto_rows": null,
            "grid_column": null,
            "grid_gap": null,
            "grid_row": null,
            "grid_template_areas": null,
            "grid_template_columns": null,
            "grid_template_rows": null,
            "height": null,
            "justify_content": null,
            "justify_items": null,
            "left": null,
            "margin": null,
            "max_height": null,
            "max_width": null,
            "min_height": null,
            "min_width": null,
            "object_fit": null,
            "object_position": null,
            "order": null,
            "overflow": null,
            "overflow_x": null,
            "overflow_y": null,
            "padding": null,
            "right": null,
            "top": null,
            "visibility": null,
            "width": null
          }
        },
        "90847fb4561245199dcc6121367fa714": {
          "model_module": "@jupyter-widgets/controls",
          "model_name": "DescriptionStyleModel",
          "model_module_version": "1.5.0",
          "state": {
            "_model_module": "@jupyter-widgets/controls",
            "_model_module_version": "1.5.0",
            "_model_name": "DescriptionStyleModel",
            "_view_count": null,
            "_view_module": "@jupyter-widgets/base",
            "_view_module_version": "1.2.0",
            "_view_name": "StyleView",
            "description_width": ""
          }
        }
      }
    }
  },
  "cells": [
    {
      "cell_type": "markdown",
      "source": [
        "# Fine tuning LLM by FAQs on GST"
      ],
      "metadata": {
        "id": "Qo1SrGMHbd_w"
      }
    },
    {
      "cell_type": "code",
      "source": [
        "!pip uninstall -y tensorflow --quiet\n",
        "!pip install ludwig\n",
        "!pip install ludwig[llm]"
      ],
      "metadata": {
        "colab": {
          "base_uri": "https://localhost:8080/",
          "height": 1000
        },
        "id": "JlnserCJbpIB",
        "outputId": "e68dd34d-b13b-402d-a76b-9188f5a5e66d"
      },
      "execution_count": 1,
      "outputs": [
        {
          "output_type": "stream",
          "name": "stdout",
          "text": [
            "Collecting ludwig\n",
            "  Downloading ludwig-0.8.6.tar.gz (1.0 MB)\n",
            "\u001b[?25l     \u001b[90m━━━━━━━━━━━━━━━━━━━━━━━━━━━━━━━━━━━━━━━━\u001b[0m \u001b[32m0.0/1.0 MB\u001b[0m \u001b[31m?\u001b[0m eta \u001b[36m-:--:--\u001b[0m\r\u001b[2K     \u001b[91m━━━━━━━\u001b[0m\u001b[91m╸\u001b[0m\u001b[90m━━━━━━━━━━━━━━━━━━━━━━━━━━━━━━━━\u001b[0m \u001b[32m0.2/1.0 MB\u001b[0m \u001b[31m5.7 MB/s\u001b[0m eta \u001b[36m0:00:01\u001b[0m\r\u001b[2K     \u001b[90m━━━━━━━━━━━━━━━━━━━━━━━━━━━━━━━━━━━━━━━━\u001b[0m \u001b[32m1.0/1.0 MB\u001b[0m \u001b[31m16.9 MB/s\u001b[0m eta \u001b[36m0:00:00\u001b[0m\n",
            "\u001b[?25h  Installing build dependencies ... \u001b[?25l\u001b[?25hdone\n",
            "  Getting requirements to build wheel ... \u001b[?25l\u001b[?25hdone\n",
            "  Preparing metadata (pyproject.toml) ... \u001b[?25l\u001b[?25hdone\n",
            "Requirement already satisfied: Cython>=0.25 in /usr/local/lib/python3.10/dist-packages (from ludwig) (3.0.5)\n",
            "Requirement already satisfied: h5py!=3.0.0,>=2.6 in /usr/local/lib/python3.10/dist-packages (from ludwig) (3.9.0)\n",
            "Requirement already satisfied: numpy>=1.15 in /usr/local/lib/python3.10/dist-packages (from ludwig) (1.23.5)\n",
            "Requirement already satisfied: pandas!=1.1.5,>=1.0 in /usr/local/lib/python3.10/dist-packages (from ludwig) (1.5.3)\n",
            "Requirement already satisfied: scipy>=0.18 in /usr/local/lib/python3.10/dist-packages (from ludwig) (1.11.3)\n",
            "Requirement already satisfied: tabulate>=0.7 in /usr/local/lib/python3.10/dist-packages (from ludwig) (0.9.0)\n",
            "Requirement already satisfied: scikit-learn in /usr/local/lib/python3.10/dist-packages (from ludwig) (1.2.2)\n",
            "Requirement already satisfied: tqdm in /usr/local/lib/python3.10/dist-packages (from ludwig) (4.66.1)\n",
            "Requirement already satisfied: torch>=1.13.0 in /usr/local/lib/python3.10/dist-packages (from ludwig) (2.1.0+cu118)\n",
            "Requirement already satisfied: torchaudio in /usr/local/lib/python3.10/dist-packages (from ludwig) (2.1.0+cu118)\n",
            "Requirement already satisfied: torchtext in /usr/local/lib/python3.10/dist-packages (from ludwig) (0.16.0)\n",
            "Requirement already satisfied: torchvision in /usr/local/lib/python3.10/dist-packages (from ludwig) (0.16.0+cu118)\n",
            "Requirement already satisfied: pydantic<2.0 in /usr/local/lib/python3.10/dist-packages (from ludwig) (1.10.13)\n",
            "Requirement already satisfied: transformers>=4.33.2 in /usr/local/lib/python3.10/dist-packages (from ludwig) (4.35.2)\n",
            "Requirement already satisfied: tokenizers>=0.13.3 in /usr/local/lib/python3.10/dist-packages (from ludwig) (0.15.0)\n",
            "Requirement already satisfied: spacy>=2.3 in /usr/local/lib/python3.10/dist-packages (from ludwig) (3.6.1)\n",
            "Collecting PyYAML!=5.4.*,<6.0.1,>=3.12 (from ludwig)\n",
            "  Downloading PyYAML-6.0-cp310-cp310-manylinux_2_5_x86_64.manylinux1_x86_64.manylinux_2_12_x86_64.manylinux2010_x86_64.whl (682 kB)\n",
            "\u001b[2K     \u001b[90m━━━━━━━━━━━━━━━━━━━━━━━━━━━━━━━━━━━━━━━━\u001b[0m \u001b[32m682.2/682.2 kB\u001b[0m \u001b[31m50.3 MB/s\u001b[0m eta \u001b[36m0:00:00\u001b[0m\n",
            "\u001b[?25hRequirement already satisfied: absl-py in /usr/local/lib/python3.10/dist-packages (from ludwig) (1.4.0)\n",
            "Requirement already satisfied: kaggle in /usr/local/lib/python3.10/dist-packages (from ludwig) (1.5.16)\n",
            "Requirement already satisfied: requests in /usr/local/lib/python3.10/dist-packages (from ludwig) (2.31.0)\n",
            "Requirement already satisfied: fsspec[http] in /usr/local/lib/python3.10/dist-packages (from ludwig) (2023.6.0)\n",
            "Collecting dataclasses-json (from ludwig)\n",
            "  Downloading dataclasses_json-0.6.3-py3-none-any.whl (28 kB)\n",
            "Collecting jsonschema<4.7,>=4.5.0 (from ludwig)\n",
            "  Downloading jsonschema-4.6.2-py3-none-any.whl (80 kB)\n",
            "\u001b[2K     \u001b[90m━━━━━━━━━━━━━━━━━━━━━━━━━━━━━━━━━━━━━━━━\u001b[0m \u001b[32m80.8/80.8 kB\u001b[0m \u001b[31m11.5 MB/s\u001b[0m eta \u001b[36m0:00:00\u001b[0m\n",
            "\u001b[?25hCollecting marshmallow (from ludwig)\n",
            "  Downloading marshmallow-3.20.1-py3-none-any.whl (49 kB)\n",
            "\u001b[2K     \u001b[90m━━━━━━━━━━━━━━━━━━━━━━━━━━━━━━━━━━━━━━━━\u001b[0m \u001b[32m49.4/49.4 kB\u001b[0m \u001b[31m7.2 MB/s\u001b[0m eta \u001b[36m0:00:00\u001b[0m\n",
            "\u001b[?25hCollecting marshmallow-jsonschema (from ludwig)\n",
            "  Downloading marshmallow_jsonschema-0.13.0-py3-none-any.whl (11 kB)\n",
            "Collecting marshmallow-dataclass==8.5.4 (from ludwig)\n",
            "  Downloading marshmallow_dataclass-8.5.4-py3-none-any.whl (16 kB)\n",
            "Requirement already satisfied: tensorboard in /usr/local/lib/python3.10/dist-packages (from ludwig) (2.14.1)\n",
            "Requirement already satisfied: nltk in /usr/local/lib/python3.10/dist-packages (from ludwig) (3.8.1)\n",
            "Collecting torchmetrics<=0.11.4,>=0.11.0 (from ludwig)\n",
            "  Downloading torchmetrics-0.11.4-py3-none-any.whl (519 kB)\n",
            "\u001b[2K     \u001b[90m━━━━━━━━━━━━━━━━━━━━━━━━━━━━━━━━━━━━━━━━\u001b[0m \u001b[32m519.2/519.2 kB\u001b[0m \u001b[31m40.4 MB/s\u001b[0m eta \u001b[36m0:00:00\u001b[0m\n",
            "\u001b[?25hCollecting torchinfo (from ludwig)\n",
            "  Downloading torchinfo-1.8.0-py3-none-any.whl (23 kB)\n",
            "Requirement already satisfied: filelock in /usr/local/lib/python3.10/dist-packages (from ludwig) (3.13.1)\n",
            "Collecting psutil==5.9.4 (from ludwig)\n",
            "  Downloading psutil-5.9.4-cp36-abi3-manylinux_2_12_x86_64.manylinux2010_x86_64.manylinux_2_17_x86_64.manylinux2014_x86_64.whl (280 kB)\n",
            "\u001b[2K     \u001b[90m━━━━━━━━━━━━━━━━━━━━━━━━━━━━━━━━━━━━━━━━\u001b[0m \u001b[32m280.2/280.2 kB\u001b[0m \u001b[31m30.5 MB/s\u001b[0m eta \u001b[36m0:00:00\u001b[0m\n",
            "\u001b[?25hRequirement already satisfied: protobuf==3.20.3 in /usr/local/lib/python3.10/dist-packages (from ludwig) (3.20.3)\n",
            "Requirement already satisfied: py-cpuinfo==9.0.0 in /usr/local/lib/python3.10/dist-packages (from ludwig) (9.0.0)\n",
            "Collecting gpustat (from ludwig)\n",
            "  Downloading gpustat-1.1.1.tar.gz (98 kB)\n",
            "\u001b[2K     \u001b[90m━━━━━━━━━━━━━━━━━━━━━━━━━━━━━━━━━━━━━━━━\u001b[0m \u001b[32m98.1/98.1 kB\u001b[0m \u001b[31m14.8 MB/s\u001b[0m eta \u001b[36m0:00:00\u001b[0m\n",
            "\u001b[?25h  Installing build dependencies ... \u001b[?25l\u001b[?25hdone\n",
            "  Getting requirements to build wheel ... \u001b[?25l\u001b[?25hdone\n",
            "  Preparing metadata (pyproject.toml) ... \u001b[?25l\u001b[?25hdone\n",
            "Collecting rich~=12.4.4 (from ludwig)\n",
            "  Downloading rich-12.4.4-py3-none-any.whl (232 kB)\n",
            "\u001b[2K     \u001b[90m━━━━━━━━━━━━━━━━━━━━━━━━━━━━━━━━━━━━━━━━\u001b[0m \u001b[32m232.0/232.0 kB\u001b[0m \u001b[31m31.3 MB/s\u001b[0m eta \u001b[36m0:00:00\u001b[0m\n",
            "\u001b[?25hRequirement already satisfied: packaging in /usr/local/lib/python3.10/dist-packages (from ludwig) (23.2)\n",
            "Collecting retry (from ludwig)\n",
            "  Downloading retry-0.9.2-py2.py3-none-any.whl (8.0 kB)\n",
            "Collecting sacremoses (from ludwig)\n",
            "  Downloading sacremoses-0.1.1-py3-none-any.whl (897 kB)\n",
            "\u001b[2K     \u001b[90m━━━━━━━━━━━━━━━━━━━━━━━━━━━━━━━━━━━━━━━━\u001b[0m \u001b[32m897.5/897.5 kB\u001b[0m \u001b[31m68.5 MB/s\u001b[0m eta \u001b[36m0:00:00\u001b[0m\n",
            "\u001b[?25hCollecting sentencepiece (from ludwig)\n",
            "  Downloading sentencepiece-0.1.99-cp310-cp310-manylinux_2_17_x86_64.manylinux2014_x86_64.whl (1.3 MB)\n",
            "\u001b[2K     \u001b[90m━━━━━━━━━━━━━━━━━━━━━━━━━━━━━━━━━━━━━━━━\u001b[0m \u001b[32m1.3/1.3 MB\u001b[0m \u001b[31m81.6 MB/s\u001b[0m eta \u001b[36m0:00:00\u001b[0m\n",
            "\u001b[?25hCollecting getdaft (from ludwig)\n",
            "  Downloading getdaft-0.2.4-cp37-abi3-manylinux_2_17_x86_64.manylinux2014_x86_64.whl (20.5 MB)\n",
            "\u001b[2K     \u001b[90m━━━━━━━━━━━━━━━━━━━━━━━━━━━━━━━━━━━━━━━━\u001b[0m \u001b[32m20.5/20.5 MB\u001b[0m \u001b[31m79.7 MB/s\u001b[0m eta \u001b[36m0:00:00\u001b[0m\n",
            "\u001b[?25hCollecting bitsandbytes<0.41.0 (from ludwig)\n",
            "  Downloading bitsandbytes-0.40.2-py3-none-any.whl (92.5 MB)\n",
            "\u001b[2K     \u001b[90m━━━━━━━━━━━━━━━━━━━━━━━━━━━━━━━━━━━━━━━━\u001b[0m \u001b[32m92.5/92.5 MB\u001b[0m \u001b[31m8.9 MB/s\u001b[0m eta \u001b[36m0:00:00\u001b[0m\n",
            "\u001b[?25hCollecting xlwt (from ludwig)\n",
            "  Downloading xlwt-1.3.0-py2.py3-none-any.whl (99 kB)\n",
            "\u001b[2K     \u001b[90m━━━━━━━━━━━━━━━━━━━━━━━━━━━━━━━━━━━━━━━━\u001b[0m \u001b[32m100.0/100.0 kB\u001b[0m \u001b[31m14.2 MB/s\u001b[0m eta \u001b[36m0:00:00\u001b[0m\n",
            "\u001b[?25hRequirement already satisfied: xlrd>=2.0.1 in /usr/local/lib/python3.10/dist-packages (from ludwig) (2.0.1)\n",
            "Collecting xlsxwriter>=1.4.3 (from ludwig)\n",
            "  Downloading XlsxWriter-3.1.9-py3-none-any.whl (154 kB)\n",
            "\u001b[2K     \u001b[90m━━━━━━━━━━━━━━━━━━━━━━━━━━━━━━━━━━━━━━━━\u001b[0m \u001b[32m154.8/154.8 kB\u001b[0m \u001b[31m19.6 MB/s\u001b[0m eta \u001b[36m0:00:00\u001b[0m\n",
            "\u001b[?25hRequirement already satisfied: openpyxl>=3.0.7 in /usr/local/lib/python3.10/dist-packages (from ludwig) (3.1.2)\n",
            "Collecting pyxlsb>=1.0.8 (from ludwig)\n",
            "  Downloading pyxlsb-1.0.10-py2.py3-none-any.whl (23 kB)\n",
            "Requirement already satisfied: pyarrow in /usr/local/lib/python3.10/dist-packages (from ludwig) (9.0.0)\n",
            "Requirement already satisfied: lxml in /usr/local/lib/python3.10/dist-packages (from ludwig) (4.9.3)\n",
            "Requirement already satisfied: html5lib in /usr/local/lib/python3.10/dist-packages (from ludwig) (1.1)\n",
            "Collecting typing-inspect>=0.7.1 (from marshmallow-dataclass==8.5.4->ludwig)\n",
            "  Downloading typing_inspect-0.9.0-py3-none-any.whl (8.8 kB)\n",
            "Requirement already satisfied: attrs>=17.4.0 in /usr/local/lib/python3.10/dist-packages (from jsonschema<4.7,>=4.5.0->ludwig) (23.1.0)\n",
            "Collecting pyrsistent!=0.17.0,!=0.17.1,!=0.17.2,>=0.14.0 (from jsonschema<4.7,>=4.5.0->ludwig)\n",
            "  Downloading pyrsistent-0.20.0-cp310-cp310-manylinux_2_17_x86_64.manylinux2014_x86_64.whl (117 kB)\n",
            "\u001b[2K     \u001b[90m━━━━━━━━━━━━━━━━━━━━━━━━━━━━━━━━━━━━━━━━\u001b[0m \u001b[32m117.7/117.7 kB\u001b[0m \u001b[31m17.3 MB/s\u001b[0m eta \u001b[36m0:00:00\u001b[0m\n",
            "\u001b[?25hRequirement already satisfied: et-xmlfile in /usr/local/lib/python3.10/dist-packages (from openpyxl>=3.0.7->ludwig) (1.1.0)\n",
            "Requirement already satisfied: python-dateutil>=2.8.1 in /usr/local/lib/python3.10/dist-packages (from pandas!=1.1.5,>=1.0->ludwig) (2.8.2)\n",
            "Requirement already satisfied: pytz>=2020.1 in /usr/local/lib/python3.10/dist-packages (from pandas!=1.1.5,>=1.0->ludwig) (2023.3.post1)\n",
            "Requirement already satisfied: typing-extensions>=4.2.0 in /usr/local/lib/python3.10/dist-packages (from pydantic<2.0->ludwig) (4.5.0)\n",
            "Collecting commonmark<0.10.0,>=0.9.0 (from rich~=12.4.4->ludwig)\n",
            "  Downloading commonmark-0.9.1-py2.py3-none-any.whl (51 kB)\n",
            "\u001b[2K     \u001b[90m━━━━━━━━━━━━━━━━━━━━━━━━━━━━━━━━━━━━━━━━\u001b[0m \u001b[32m51.1/51.1 kB\u001b[0m \u001b[31m7.8 MB/s\u001b[0m eta \u001b[36m0:00:00\u001b[0m\n",
            "\u001b[?25hRequirement already satisfied: pygments<3.0.0,>=2.6.0 in /usr/local/lib/python3.10/dist-packages (from rich~=12.4.4->ludwig) (2.16.1)\n",
            "Requirement already satisfied: spacy-legacy<3.1.0,>=3.0.11 in /usr/local/lib/python3.10/dist-packages (from spacy>=2.3->ludwig) (3.0.12)\n",
            "Requirement already satisfied: spacy-loggers<2.0.0,>=1.0.0 in /usr/local/lib/python3.10/dist-packages (from spacy>=2.3->ludwig) (1.0.5)\n",
            "Requirement already satisfied: murmurhash<1.1.0,>=0.28.0 in /usr/local/lib/python3.10/dist-packages (from spacy>=2.3->ludwig) (1.0.10)\n",
            "Requirement already satisfied: cymem<2.1.0,>=2.0.2 in /usr/local/lib/python3.10/dist-packages (from spacy>=2.3->ludwig) (2.0.8)\n",
            "Requirement already satisfied: preshed<3.1.0,>=3.0.2 in /usr/local/lib/python3.10/dist-packages (from spacy>=2.3->ludwig) (3.0.9)\n",
            "Requirement already satisfied: thinc<8.2.0,>=8.1.8 in /usr/local/lib/python3.10/dist-packages (from spacy>=2.3->ludwig) (8.1.12)\n",
            "Requirement already satisfied: wasabi<1.2.0,>=0.9.1 in /usr/local/lib/python3.10/dist-packages (from spacy>=2.3->ludwig) (1.1.2)\n",
            "Requirement already satisfied: srsly<3.0.0,>=2.4.3 in /usr/local/lib/python3.10/dist-packages (from spacy>=2.3->ludwig) (2.4.8)\n",
            "Requirement already satisfied: catalogue<2.1.0,>=2.0.6 in /usr/local/lib/python3.10/dist-packages (from spacy>=2.3->ludwig) (2.0.10)\n",
            "Requirement already satisfied: typer<0.10.0,>=0.3.0 in /usr/local/lib/python3.10/dist-packages (from spacy>=2.3->ludwig) (0.9.0)\n",
            "Requirement already satisfied: pathy>=0.10.0 in /usr/local/lib/python3.10/dist-packages (from spacy>=2.3->ludwig) (0.10.3)\n",
            "Requirement already satisfied: smart-open<7.0.0,>=5.2.1 in /usr/local/lib/python3.10/dist-packages (from spacy>=2.3->ludwig) (6.4.0)\n",
            "Requirement already satisfied: jinja2 in /usr/local/lib/python3.10/dist-packages (from spacy>=2.3->ludwig) (3.1.2)\n",
            "Requirement already satisfied: setuptools in /usr/local/lib/python3.10/dist-packages (from spacy>=2.3->ludwig) (67.7.2)\n",
            "Requirement already satisfied: langcodes<4.0.0,>=3.2.0 in /usr/local/lib/python3.10/dist-packages (from spacy>=2.3->ludwig) (3.3.0)\n",
            "Requirement already satisfied: charset-normalizer<4,>=2 in /usr/local/lib/python3.10/dist-packages (from requests->ludwig) (3.3.2)\n",
            "Requirement already satisfied: idna<4,>=2.5 in /usr/local/lib/python3.10/dist-packages (from requests->ludwig) (3.4)\n",
            "Requirement already satisfied: urllib3<3,>=1.21.1 in /usr/local/lib/python3.10/dist-packages (from requests->ludwig) (2.0.7)\n",
            "Requirement already satisfied: certifi>=2017.4.17 in /usr/local/lib/python3.10/dist-packages (from requests->ludwig) (2023.7.22)\n",
            "Requirement already satisfied: huggingface_hub<1.0,>=0.16.4 in /usr/local/lib/python3.10/dist-packages (from tokenizers>=0.13.3->ludwig) (0.19.4)\n",
            "Requirement already satisfied: sympy in /usr/local/lib/python3.10/dist-packages (from torch>=1.13.0->ludwig) (1.12)\n",
            "Requirement already satisfied: networkx in /usr/local/lib/python3.10/dist-packages (from torch>=1.13.0->ludwig) (3.2.1)\n",
            "Requirement already satisfied: triton==2.1.0 in /usr/local/lib/python3.10/dist-packages (from torch>=1.13.0->ludwig) (2.1.0)\n",
            "Requirement already satisfied: regex!=2019.12.17 in /usr/local/lib/python3.10/dist-packages (from transformers>=4.33.2->ludwig) (2023.6.3)\n",
            "Requirement already satisfied: safetensors>=0.3.1 in /usr/local/lib/python3.10/dist-packages (from transformers>=4.33.2->ludwig) (0.4.0)\n",
            "Requirement already satisfied: aiohttp!=4.0.0a0,!=4.0.0a1 in /usr/local/lib/python3.10/dist-packages (from fsspec[http]->ludwig) (3.8.6)\n",
            "Collecting nvidia-ml-py>=11.450.129 (from gpustat->ludwig)\n",
            "  Downloading nvidia_ml_py-12.535.133-py3-none-any.whl (37 kB)\n",
            "Collecting blessed>=1.17.1 (from gpustat->ludwig)\n",
            "  Downloading blessed-1.20.0-py2.py3-none-any.whl (58 kB)\n",
            "\u001b[2K     \u001b[90m━━━━━━━━━━━━━━━━━━━━━━━━━━━━━━━━━━━━━━━━\u001b[0m \u001b[32m58.4/58.4 kB\u001b[0m \u001b[31m7.9 MB/s\u001b[0m eta \u001b[36m0:00:00\u001b[0m\n",
            "\u001b[?25hRequirement already satisfied: six>=1.9 in /usr/local/lib/python3.10/dist-packages (from html5lib->ludwig) (1.16.0)\n",
            "Requirement already satisfied: webencodings in /usr/local/lib/python3.10/dist-packages (from html5lib->ludwig) (0.5.1)\n",
            "Requirement already satisfied: python-slugify in /usr/local/lib/python3.10/dist-packages (from kaggle->ludwig) (8.0.1)\n",
            "Requirement already satisfied: bleach in /usr/local/lib/python3.10/dist-packages (from kaggle->ludwig) (6.1.0)\n",
            "Requirement already satisfied: click in /usr/local/lib/python3.10/dist-packages (from nltk->ludwig) (8.1.7)\n",
            "Requirement already satisfied: joblib in /usr/local/lib/python3.10/dist-packages (from nltk->ludwig) (1.3.2)\n",
            "Requirement already satisfied: decorator>=3.4.2 in /usr/local/lib/python3.10/dist-packages (from retry->ludwig) (4.4.2)\n",
            "Collecting py<2.0.0,>=1.4.26 (from retry->ludwig)\n",
            "  Downloading py-1.11.0-py2.py3-none-any.whl (98 kB)\n",
            "\u001b[2K     \u001b[90m━━━━━━━━━━━━━━━━━━━━━━━━━━━━━━━━━━━━━━━━\u001b[0m \u001b[32m98.7/98.7 kB\u001b[0m \u001b[31m14.5 MB/s\u001b[0m eta \u001b[36m0:00:00\u001b[0m\n",
            "\u001b[?25hRequirement already satisfied: threadpoolctl>=2.0.0 in /usr/local/lib/python3.10/dist-packages (from scikit-learn->ludwig) (3.2.0)\n",
            "Requirement already satisfied: grpcio>=1.48.2 in /usr/local/lib/python3.10/dist-packages (from tensorboard->ludwig) (1.59.2)\n",
            "Requirement already satisfied: google-auth<3,>=1.6.3 in /usr/local/lib/python3.10/dist-packages (from tensorboard->ludwig) (2.17.3)\n",
            "Requirement already satisfied: google-auth-oauthlib<1.1,>=0.5 in /usr/local/lib/python3.10/dist-packages (from tensorboard->ludwig) (1.0.0)\n",
            "Requirement already satisfied: markdown>=2.6.8 in /usr/local/lib/python3.10/dist-packages (from tensorboard->ludwig) (3.5.1)\n",
            "Requirement already satisfied: tensorboard-data-server<0.8.0,>=0.7.0 in /usr/local/lib/python3.10/dist-packages (from tensorboard->ludwig) (0.7.2)\n",
            "Requirement already satisfied: werkzeug>=1.0.1 in /usr/local/lib/python3.10/dist-packages (from tensorboard->ludwig) (3.0.1)\n",
            "Requirement already satisfied: torchdata==0.7.0 in /usr/local/lib/python3.10/dist-packages (from torchtext->ludwig) (0.7.0)\n",
            "Requirement already satisfied: pillow!=8.3.*,>=5.3.0 in /usr/local/lib/python3.10/dist-packages (from torchvision->ludwig) (9.4.0)\n",
            "Requirement already satisfied: multidict<7.0,>=4.5 in /usr/local/lib/python3.10/dist-packages (from aiohttp!=4.0.0a0,!=4.0.0a1->fsspec[http]->ludwig) (6.0.4)\n",
            "Requirement already satisfied: async-timeout<5.0,>=4.0.0a3 in /usr/local/lib/python3.10/dist-packages (from aiohttp!=4.0.0a0,!=4.0.0a1->fsspec[http]->ludwig) (4.0.3)\n",
            "Requirement already satisfied: yarl<2.0,>=1.0 in /usr/local/lib/python3.10/dist-packages (from aiohttp!=4.0.0a0,!=4.0.0a1->fsspec[http]->ludwig) (1.9.2)\n",
            "Requirement already satisfied: frozenlist>=1.1.1 in /usr/local/lib/python3.10/dist-packages (from aiohttp!=4.0.0a0,!=4.0.0a1->fsspec[http]->ludwig) (1.4.0)\n",
            "Requirement already satisfied: aiosignal>=1.1.2 in /usr/local/lib/python3.10/dist-packages (from aiohttp!=4.0.0a0,!=4.0.0a1->fsspec[http]->ludwig) (1.3.1)\n",
            "Requirement already satisfied: wcwidth>=0.1.4 in /usr/local/lib/python3.10/dist-packages (from blessed>=1.17.1->gpustat->ludwig) (0.2.10)\n",
            "Requirement already satisfied: cachetools<6.0,>=2.0.0 in /usr/local/lib/python3.10/dist-packages (from google-auth<3,>=1.6.3->tensorboard->ludwig) (5.3.2)\n",
            "Requirement already satisfied: pyasn1-modules>=0.2.1 in /usr/local/lib/python3.10/dist-packages (from google-auth<3,>=1.6.3->tensorboard->ludwig) (0.3.0)\n",
            "Requirement already satisfied: rsa<5,>=3.1.4 in /usr/local/lib/python3.10/dist-packages (from google-auth<3,>=1.6.3->tensorboard->ludwig) (4.9)\n",
            "Requirement already satisfied: requests-oauthlib>=0.7.0 in /usr/local/lib/python3.10/dist-packages (from google-auth-oauthlib<1.1,>=0.5->tensorboard->ludwig) (1.3.1)\n",
            "Requirement already satisfied: blis<0.8.0,>=0.7.8 in /usr/local/lib/python3.10/dist-packages (from thinc<8.2.0,>=8.1.8->spacy>=2.3->ludwig) (0.7.11)\n",
            "Requirement already satisfied: confection<1.0.0,>=0.0.1 in /usr/local/lib/python3.10/dist-packages (from thinc<8.2.0,>=8.1.8->spacy>=2.3->ludwig) (0.1.3)\n",
            "Collecting mypy-extensions>=0.3.0 (from typing-inspect>=0.7.1->marshmallow-dataclass==8.5.4->ludwig)\n",
            "  Downloading mypy_extensions-1.0.0-py3-none-any.whl (4.7 kB)\n",
            "Requirement already satisfied: MarkupSafe>=2.1.1 in /usr/local/lib/python3.10/dist-packages (from werkzeug>=1.0.1->tensorboard->ludwig) (2.1.3)\n",
            "Requirement already satisfied: text-unidecode>=1.3 in /usr/local/lib/python3.10/dist-packages (from python-slugify->kaggle->ludwig) (1.3)\n",
            "Requirement already satisfied: mpmath>=0.19 in /usr/local/lib/python3.10/dist-packages (from sympy->torch>=1.13.0->ludwig) (1.3.0)\n",
            "Requirement already satisfied: pyasn1<0.6.0,>=0.4.6 in /usr/local/lib/python3.10/dist-packages (from pyasn1-modules>=0.2.1->google-auth<3,>=1.6.3->tensorboard->ludwig) (0.5.0)\n",
            "Requirement already satisfied: oauthlib>=3.0.0 in /usr/local/lib/python3.10/dist-packages (from requests-oauthlib>=0.7.0->google-auth-oauthlib<1.1,>=0.5->tensorboard->ludwig) (3.2.2)\n",
            "Building wheels for collected packages: ludwig, gpustat\n",
            "  Building wheel for ludwig (pyproject.toml) ... \u001b[?25l\u001b[?25hdone\n",
            "  Created wheel for ludwig: filename=ludwig-0.8.6-py3-none-any.whl size=1093533 sha256=8ba56ee538098bd26514294b00e2aa662f6eeb1fe2514ded3a01ad1faf5f25e1\n",
            "  Stored in directory: /root/.cache/pip/wheels/82/0c/63/2cda9fe882c9157666142d5108c83e0c8de5dc4e735985e3cd\n",
            "  Building wheel for gpustat (pyproject.toml) ... \u001b[?25l\u001b[?25hdone\n",
            "  Created wheel for gpustat: filename=gpustat-1.1.1-py3-none-any.whl size=26535 sha256=3051995ecb537a6a6a6d24aaac9420308779002fe8987d5333a55487bf764f3a\n",
            "  Stored in directory: /root/.cache/pip/wheels/ec/d7/80/a71ba3540900e1f276bcae685efd8e590c810d2108b95f1e47\n",
            "Successfully built ludwig gpustat\n",
            "Installing collected packages: xlwt, sentencepiece, pyxlsb, nvidia-ml-py, commonmark, bitsandbytes, xlsxwriter, torchinfo, sacremoses, rich, PyYAML, pyrsistent, py, psutil, mypy-extensions, marshmallow, blessed, typing-inspect, retry, marshmallow-jsonschema, jsonschema, gpustat, torchmetrics, marshmallow-dataclass, dataclasses-json, getdaft, ludwig\n",
            "  Attempting uninstall: rich\n",
            "    Found existing installation: rich 13.7.0\n",
            "    Uninstalling rich-13.7.0:\n",
            "      Successfully uninstalled rich-13.7.0\n",
            "  Attempting uninstall: PyYAML\n",
            "    Found existing installation: PyYAML 6.0.1\n",
            "    Uninstalling PyYAML-6.0.1:\n",
            "      Successfully uninstalled PyYAML-6.0.1\n",
            "  Attempting uninstall: psutil\n",
            "    Found existing installation: psutil 5.9.5\n",
            "    Uninstalling psutil-5.9.5:\n",
            "      Successfully uninstalled psutil-5.9.5\n",
            "  Attempting uninstall: jsonschema\n",
            "    Found existing installation: jsonschema 4.19.2\n",
            "    Uninstalling jsonschema-4.19.2:\n",
            "      Successfully uninstalled jsonschema-4.19.2\n",
            "\u001b[31mERROR: pip's dependency resolver does not currently take into account all the packages that are installed. This behaviour is the source of the following dependency conflicts.\n",
            "lida 0.0.10 requires fastapi, which is not installed.\n",
            "lida 0.0.10 requires kaleido, which is not installed.\n",
            "lida 0.0.10 requires python-multipart, which is not installed.\n",
            "lida 0.0.10 requires uvicorn, which is not installed.\n",
            "llmx 0.0.15a0 requires cohere, which is not installed.\n",
            "llmx 0.0.15a0 requires openai, which is not installed.\n",
            "llmx 0.0.15a0 requires tiktoken, which is not installed.\u001b[0m\u001b[31m\n",
            "\u001b[0mSuccessfully installed PyYAML-6.0 bitsandbytes-0.40.2 blessed-1.20.0 commonmark-0.9.1 dataclasses-json-0.6.3 getdaft-0.2.4 gpustat-1.1.1 jsonschema-4.6.2 ludwig-0.8.6 marshmallow-3.20.1 marshmallow-dataclass-8.5.4 marshmallow-jsonschema-0.13.0 mypy-extensions-1.0.0 nvidia-ml-py-12.535.133 psutil-5.9.4 py-1.11.0 pyrsistent-0.20.0 pyxlsb-1.0.10 retry-0.9.2 rich-12.4.4 sacremoses-0.1.1 sentencepiece-0.1.99 torchinfo-1.8.0 torchmetrics-0.11.4 typing-inspect-0.9.0 xlsxwriter-3.1.9 xlwt-1.3.0\n"
          ]
        },
        {
          "output_type": "display_data",
          "data": {
            "application/vnd.colab-display-data+json": {
              "pip_warning": {
                "packages": [
                  "psutil"
                ]
              }
            }
          },
          "metadata": {}
        },
        {
          "output_type": "stream",
          "name": "stdout",
          "text": [
            "Requirement already satisfied: ludwig[llm] in /usr/local/lib/python3.10/dist-packages (0.8.6)\n",
            "Requirement already satisfied: Cython>=0.25 in /usr/local/lib/python3.10/dist-packages (from ludwig[llm]) (3.0.5)\n",
            "Requirement already satisfied: h5py!=3.0.0,>=2.6 in /usr/local/lib/python3.10/dist-packages (from ludwig[llm]) (3.9.0)\n",
            "Requirement already satisfied: numpy>=1.15 in /usr/local/lib/python3.10/dist-packages (from ludwig[llm]) (1.23.5)\n",
            "Requirement already satisfied: pandas!=1.1.5,>=1.0 in /usr/local/lib/python3.10/dist-packages (from ludwig[llm]) (1.5.3)\n",
            "Requirement already satisfied: scipy>=0.18 in /usr/local/lib/python3.10/dist-packages (from ludwig[llm]) (1.11.3)\n",
            "Requirement already satisfied: tabulate>=0.7 in /usr/local/lib/python3.10/dist-packages (from ludwig[llm]) (0.9.0)\n",
            "Requirement already satisfied: scikit-learn in /usr/local/lib/python3.10/dist-packages (from ludwig[llm]) (1.2.2)\n",
            "Requirement already satisfied: tqdm in /usr/local/lib/python3.10/dist-packages (from ludwig[llm]) (4.66.1)\n",
            "Requirement already satisfied: torch>=1.13.0 in /usr/local/lib/python3.10/dist-packages (from ludwig[llm]) (2.1.0+cu118)\n",
            "Requirement already satisfied: torchaudio in /usr/local/lib/python3.10/dist-packages (from ludwig[llm]) (2.1.0+cu118)\n",
            "Requirement already satisfied: torchtext in /usr/local/lib/python3.10/dist-packages (from ludwig[llm]) (0.16.0)\n",
            "Requirement already satisfied: torchvision in /usr/local/lib/python3.10/dist-packages (from ludwig[llm]) (0.16.0+cu118)\n",
            "Requirement already satisfied: pydantic<2.0 in /usr/local/lib/python3.10/dist-packages (from ludwig[llm]) (1.10.13)\n",
            "Requirement already satisfied: transformers>=4.33.2 in /usr/local/lib/python3.10/dist-packages (from ludwig[llm]) (4.35.2)\n",
            "Requirement already satisfied: tokenizers>=0.13.3 in /usr/local/lib/python3.10/dist-packages (from ludwig[llm]) (0.15.0)\n",
            "Requirement already satisfied: spacy>=2.3 in /usr/local/lib/python3.10/dist-packages (from ludwig[llm]) (3.6.1)\n",
            "Requirement already satisfied: PyYAML!=5.4.*,<6.0.1,>=3.12 in /usr/local/lib/python3.10/dist-packages (from ludwig[llm]) (6.0)\n",
            "Requirement already satisfied: absl-py in /usr/local/lib/python3.10/dist-packages (from ludwig[llm]) (1.4.0)\n",
            "Requirement already satisfied: kaggle in /usr/local/lib/python3.10/dist-packages (from ludwig[llm]) (1.5.16)\n",
            "Requirement already satisfied: requests in /usr/local/lib/python3.10/dist-packages (from ludwig[llm]) (2.31.0)\n",
            "Requirement already satisfied: fsspec[http] in /usr/local/lib/python3.10/dist-packages (from ludwig[llm]) (2023.6.0)\n",
            "Requirement already satisfied: dataclasses-json in /usr/local/lib/python3.10/dist-packages (from ludwig[llm]) (0.6.3)\n",
            "Requirement already satisfied: jsonschema<4.7,>=4.5.0 in /usr/local/lib/python3.10/dist-packages (from ludwig[llm]) (4.6.2)\n",
            "Requirement already satisfied: marshmallow in /usr/local/lib/python3.10/dist-packages (from ludwig[llm]) (3.20.1)\n",
            "Requirement already satisfied: marshmallow-jsonschema in /usr/local/lib/python3.10/dist-packages (from ludwig[llm]) (0.13.0)\n",
            "Requirement already satisfied: marshmallow-dataclass==8.5.4 in /usr/local/lib/python3.10/dist-packages (from ludwig[llm]) (8.5.4)\n",
            "Requirement already satisfied: tensorboard in /usr/local/lib/python3.10/dist-packages (from ludwig[llm]) (2.14.1)\n",
            "Requirement already satisfied: nltk in /usr/local/lib/python3.10/dist-packages (from ludwig[llm]) (3.8.1)\n",
            "Requirement already satisfied: torchmetrics<=0.11.4,>=0.11.0 in /usr/local/lib/python3.10/dist-packages (from ludwig[llm]) (0.11.4)\n",
            "Requirement already satisfied: torchinfo in /usr/local/lib/python3.10/dist-packages (from ludwig[llm]) (1.8.0)\n",
            "Requirement already satisfied: filelock in /usr/local/lib/python3.10/dist-packages (from ludwig[llm]) (3.13.1)\n",
            "Requirement already satisfied: psutil==5.9.4 in /usr/local/lib/python3.10/dist-packages (from ludwig[llm]) (5.9.4)\n",
            "Requirement already satisfied: protobuf==3.20.3 in /usr/local/lib/python3.10/dist-packages (from ludwig[llm]) (3.20.3)\n",
            "Requirement already satisfied: py-cpuinfo==9.0.0 in /usr/local/lib/python3.10/dist-packages (from ludwig[llm]) (9.0.0)\n",
            "Requirement already satisfied: gpustat in /usr/local/lib/python3.10/dist-packages (from ludwig[llm]) (1.1.1)\n",
            "Requirement already satisfied: rich~=12.4.4 in /usr/local/lib/python3.10/dist-packages (from ludwig[llm]) (12.4.4)\n",
            "Requirement already satisfied: packaging in /usr/local/lib/python3.10/dist-packages (from ludwig[llm]) (23.2)\n",
            "Requirement already satisfied: retry in /usr/local/lib/python3.10/dist-packages (from ludwig[llm]) (0.9.2)\n",
            "Requirement already satisfied: sacremoses in /usr/local/lib/python3.10/dist-packages (from ludwig[llm]) (0.1.1)\n",
            "Requirement already satisfied: sentencepiece in /usr/local/lib/python3.10/dist-packages (from ludwig[llm]) (0.1.99)\n",
            "Requirement already satisfied: getdaft in /usr/local/lib/python3.10/dist-packages (from ludwig[llm]) (0.2.4)\n",
            "Requirement already satisfied: bitsandbytes<0.41.0 in /usr/local/lib/python3.10/dist-packages (from ludwig[llm]) (0.40.2)\n",
            "Requirement already satisfied: xlwt in /usr/local/lib/python3.10/dist-packages (from ludwig[llm]) (1.3.0)\n",
            "Requirement already satisfied: xlrd>=2.0.1 in /usr/local/lib/python3.10/dist-packages (from ludwig[llm]) (2.0.1)\n",
            "Requirement already satisfied: xlsxwriter>=1.4.3 in /usr/local/lib/python3.10/dist-packages (from ludwig[llm]) (3.1.9)\n",
            "Requirement already satisfied: openpyxl>=3.0.7 in /usr/local/lib/python3.10/dist-packages (from ludwig[llm]) (3.1.2)\n",
            "Requirement already satisfied: pyxlsb>=1.0.8 in /usr/local/lib/python3.10/dist-packages (from ludwig[llm]) (1.0.10)\n",
            "Requirement already satisfied: pyarrow in /usr/local/lib/python3.10/dist-packages (from ludwig[llm]) (9.0.0)\n",
            "Requirement already satisfied: lxml in /usr/local/lib/python3.10/dist-packages (from ludwig[llm]) (4.9.3)\n",
            "Requirement already satisfied: html5lib in /usr/local/lib/python3.10/dist-packages (from ludwig[llm]) (1.1)\n",
            "Collecting sentence-transformers (from ludwig[llm])\n",
            "  Downloading sentence-transformers-2.2.2.tar.gz (85 kB)\n",
            "\u001b[2K     \u001b[90m━━━━━━━━━━━━━━━━━━━━━━━━━━━━━━━━━━━━━━━━\u001b[0m \u001b[32m86.0/86.0 kB\u001b[0m \u001b[31m1.4 MB/s\u001b[0m eta \u001b[36m0:00:00\u001b[0m\n",
            "\u001b[?25h  Preparing metadata (setup.py) ... \u001b[?25l\u001b[?25hdone\n",
            "Collecting faiss-cpu (from ludwig[llm])\n",
            "  Downloading faiss_cpu-1.7.4-cp310-cp310-manylinux_2_17_x86_64.manylinux2014_x86_64.whl (17.6 MB)\n",
            "\u001b[2K     \u001b[90m━━━━━━━━━━━━━━━━━━━━━━━━━━━━━━━━━━━━━━━━\u001b[0m \u001b[32m17.6/17.6 MB\u001b[0m \u001b[31m61.7 MB/s\u001b[0m eta \u001b[36m0:00:00\u001b[0m\n",
            "\u001b[?25hCollecting accelerate (from ludwig[llm])\n",
            "  Downloading accelerate-0.24.1-py3-none-any.whl (261 kB)\n",
            "\u001b[2K     \u001b[90m━━━━━━━━━━━━━━━━━━━━━━━━━━━━━━━━━━━━━━━━\u001b[0m \u001b[32m261.4/261.4 kB\u001b[0m \u001b[31m28.3 MB/s\u001b[0m eta \u001b[36m0:00:00\u001b[0m\n",
            "\u001b[?25hCollecting loralib (from ludwig[llm])\n",
            "  Downloading loralib-0.1.2-py3-none-any.whl (10 kB)\n",
            "Collecting peft>=0.4.0 (from ludwig[llm])\n",
            "  Downloading peft-0.6.2-py3-none-any.whl (174 kB)\n",
            "\u001b[2K     \u001b[90m━━━━━━━━━━━━━━━━━━━━━━━━━━━━━━━━━━━━━━━━\u001b[0m \u001b[32m174.7/174.7 kB\u001b[0m \u001b[31m23.1 MB/s\u001b[0m eta \u001b[36m0:00:00\u001b[0m\n",
            "\u001b[?25hRequirement already satisfied: typing-inspect>=0.7.1 in /usr/local/lib/python3.10/dist-packages (from marshmallow-dataclass==8.5.4->ludwig[llm]) (0.9.0)\n",
            "Requirement already satisfied: attrs>=17.4.0 in /usr/local/lib/python3.10/dist-packages (from jsonschema<4.7,>=4.5.0->ludwig[llm]) (23.1.0)\n",
            "Requirement already satisfied: pyrsistent!=0.17.0,!=0.17.1,!=0.17.2,>=0.14.0 in /usr/local/lib/python3.10/dist-packages (from jsonschema<4.7,>=4.5.0->ludwig[llm]) (0.20.0)\n",
            "Requirement already satisfied: et-xmlfile in /usr/local/lib/python3.10/dist-packages (from openpyxl>=3.0.7->ludwig[llm]) (1.1.0)\n",
            "Requirement already satisfied: python-dateutil>=2.8.1 in /usr/local/lib/python3.10/dist-packages (from pandas!=1.1.5,>=1.0->ludwig[llm]) (2.8.2)\n",
            "Requirement already satisfied: pytz>=2020.1 in /usr/local/lib/python3.10/dist-packages (from pandas!=1.1.5,>=1.0->ludwig[llm]) (2023.3.post1)\n",
            "Requirement already satisfied: safetensors in /usr/local/lib/python3.10/dist-packages (from peft>=0.4.0->ludwig[llm]) (0.4.0)\n",
            "Requirement already satisfied: huggingface-hub in /usr/local/lib/python3.10/dist-packages (from accelerate->ludwig[llm]) (0.19.4)\n",
            "Requirement already satisfied: typing-extensions>=4.2.0 in /usr/local/lib/python3.10/dist-packages (from pydantic<2.0->ludwig[llm]) (4.5.0)\n",
            "Requirement already satisfied: commonmark<0.10.0,>=0.9.0 in /usr/local/lib/python3.10/dist-packages (from rich~=12.4.4->ludwig[llm]) (0.9.1)\n",
            "Requirement already satisfied: pygments<3.0.0,>=2.6.0 in /usr/local/lib/python3.10/dist-packages (from rich~=12.4.4->ludwig[llm]) (2.16.1)\n",
            "Requirement already satisfied: spacy-legacy<3.1.0,>=3.0.11 in /usr/local/lib/python3.10/dist-packages (from spacy>=2.3->ludwig[llm]) (3.0.12)\n",
            "Requirement already satisfied: spacy-loggers<2.0.0,>=1.0.0 in /usr/local/lib/python3.10/dist-packages (from spacy>=2.3->ludwig[llm]) (1.0.5)\n",
            "Requirement already satisfied: murmurhash<1.1.0,>=0.28.0 in /usr/local/lib/python3.10/dist-packages (from spacy>=2.3->ludwig[llm]) (1.0.10)\n",
            "Requirement already satisfied: cymem<2.1.0,>=2.0.2 in /usr/local/lib/python3.10/dist-packages (from spacy>=2.3->ludwig[llm]) (2.0.8)\n",
            "Requirement already satisfied: preshed<3.1.0,>=3.0.2 in /usr/local/lib/python3.10/dist-packages (from spacy>=2.3->ludwig[llm]) (3.0.9)\n",
            "Requirement already satisfied: thinc<8.2.0,>=8.1.8 in /usr/local/lib/python3.10/dist-packages (from spacy>=2.3->ludwig[llm]) (8.1.12)\n",
            "Requirement already satisfied: wasabi<1.2.0,>=0.9.1 in /usr/local/lib/python3.10/dist-packages (from spacy>=2.3->ludwig[llm]) (1.1.2)\n",
            "Requirement already satisfied: srsly<3.0.0,>=2.4.3 in /usr/local/lib/python3.10/dist-packages (from spacy>=2.3->ludwig[llm]) (2.4.8)\n",
            "Requirement already satisfied: catalogue<2.1.0,>=2.0.6 in /usr/local/lib/python3.10/dist-packages (from spacy>=2.3->ludwig[llm]) (2.0.10)\n",
            "Requirement already satisfied: typer<0.10.0,>=0.3.0 in /usr/local/lib/python3.10/dist-packages (from spacy>=2.3->ludwig[llm]) (0.9.0)\n",
            "Requirement already satisfied: pathy>=0.10.0 in /usr/local/lib/python3.10/dist-packages (from spacy>=2.3->ludwig[llm]) (0.10.3)\n",
            "Requirement already satisfied: smart-open<7.0.0,>=5.2.1 in /usr/local/lib/python3.10/dist-packages (from spacy>=2.3->ludwig[llm]) (6.4.0)\n",
            "Requirement already satisfied: jinja2 in /usr/local/lib/python3.10/dist-packages (from spacy>=2.3->ludwig[llm]) (3.1.2)\n",
            "Requirement already satisfied: setuptools in /usr/local/lib/python3.10/dist-packages (from spacy>=2.3->ludwig[llm]) (67.7.2)\n",
            "Requirement already satisfied: langcodes<4.0.0,>=3.2.0 in /usr/local/lib/python3.10/dist-packages (from spacy>=2.3->ludwig[llm]) (3.3.0)\n",
            "Requirement already satisfied: charset-normalizer<4,>=2 in /usr/local/lib/python3.10/dist-packages (from requests->ludwig[llm]) (3.3.2)\n",
            "Requirement already satisfied: idna<4,>=2.5 in /usr/local/lib/python3.10/dist-packages (from requests->ludwig[llm]) (3.4)\n",
            "Requirement already satisfied: urllib3<3,>=1.21.1 in /usr/local/lib/python3.10/dist-packages (from requests->ludwig[llm]) (2.0.7)\n",
            "Requirement already satisfied: certifi>=2017.4.17 in /usr/local/lib/python3.10/dist-packages (from requests->ludwig[llm]) (2023.7.22)\n",
            "Requirement already satisfied: sympy in /usr/local/lib/python3.10/dist-packages (from torch>=1.13.0->ludwig[llm]) (1.12)\n",
            "Requirement already satisfied: networkx in /usr/local/lib/python3.10/dist-packages (from torch>=1.13.0->ludwig[llm]) (3.2.1)\n",
            "Requirement already satisfied: triton==2.1.0 in /usr/local/lib/python3.10/dist-packages (from torch>=1.13.0->ludwig[llm]) (2.1.0)\n",
            "Requirement already satisfied: regex!=2019.12.17 in /usr/local/lib/python3.10/dist-packages (from transformers>=4.33.2->ludwig[llm]) (2023.6.3)\n",
            "Requirement already satisfied: aiohttp!=4.0.0a0,!=4.0.0a1 in /usr/local/lib/python3.10/dist-packages (from fsspec[http]->ludwig[llm]) (3.8.6)\n",
            "Requirement already satisfied: nvidia-ml-py>=11.450.129 in /usr/local/lib/python3.10/dist-packages (from gpustat->ludwig[llm]) (12.535.133)\n",
            "Requirement already satisfied: blessed>=1.17.1 in /usr/local/lib/python3.10/dist-packages (from gpustat->ludwig[llm]) (1.20.0)\n",
            "Requirement already satisfied: six>=1.9 in /usr/local/lib/python3.10/dist-packages (from html5lib->ludwig[llm]) (1.16.0)\n",
            "Requirement already satisfied: webencodings in /usr/local/lib/python3.10/dist-packages (from html5lib->ludwig[llm]) (0.5.1)\n",
            "Requirement already satisfied: python-slugify in /usr/local/lib/python3.10/dist-packages (from kaggle->ludwig[llm]) (8.0.1)\n",
            "Requirement already satisfied: bleach in /usr/local/lib/python3.10/dist-packages (from kaggle->ludwig[llm]) (6.1.0)\n",
            "Requirement already satisfied: click in /usr/local/lib/python3.10/dist-packages (from nltk->ludwig[llm]) (8.1.7)\n",
            "Requirement already satisfied: joblib in /usr/local/lib/python3.10/dist-packages (from nltk->ludwig[llm]) (1.3.2)\n",
            "Requirement already satisfied: decorator>=3.4.2 in /usr/local/lib/python3.10/dist-packages (from retry->ludwig[llm]) (4.4.2)\n",
            "Requirement already satisfied: py<2.0.0,>=1.4.26 in /usr/local/lib/python3.10/dist-packages (from retry->ludwig[llm]) (1.11.0)\n",
            "Requirement already satisfied: threadpoolctl>=2.0.0 in /usr/local/lib/python3.10/dist-packages (from scikit-learn->ludwig[llm]) (3.2.0)\n",
            "Requirement already satisfied: grpcio>=1.48.2 in /usr/local/lib/python3.10/dist-packages (from tensorboard->ludwig[llm]) (1.59.2)\n",
            "Requirement already satisfied: google-auth<3,>=1.6.3 in /usr/local/lib/python3.10/dist-packages (from tensorboard->ludwig[llm]) (2.17.3)\n",
            "Requirement already satisfied: google-auth-oauthlib<1.1,>=0.5 in /usr/local/lib/python3.10/dist-packages (from tensorboard->ludwig[llm]) (1.0.0)\n",
            "Requirement already satisfied: markdown>=2.6.8 in /usr/local/lib/python3.10/dist-packages (from tensorboard->ludwig[llm]) (3.5.1)\n",
            "Requirement already satisfied: tensorboard-data-server<0.8.0,>=0.7.0 in /usr/local/lib/python3.10/dist-packages (from tensorboard->ludwig[llm]) (0.7.2)\n",
            "Requirement already satisfied: werkzeug>=1.0.1 in /usr/local/lib/python3.10/dist-packages (from tensorboard->ludwig[llm]) (3.0.1)\n",
            "Requirement already satisfied: torchdata==0.7.0 in /usr/local/lib/python3.10/dist-packages (from torchtext->ludwig[llm]) (0.7.0)\n",
            "Requirement already satisfied: pillow!=8.3.*,>=5.3.0 in /usr/local/lib/python3.10/dist-packages (from torchvision->ludwig[llm]) (9.4.0)\n",
            "Requirement already satisfied: multidict<7.0,>=4.5 in /usr/local/lib/python3.10/dist-packages (from aiohttp!=4.0.0a0,!=4.0.0a1->fsspec[http]->ludwig[llm]) (6.0.4)\n",
            "Requirement already satisfied: async-timeout<5.0,>=4.0.0a3 in /usr/local/lib/python3.10/dist-packages (from aiohttp!=4.0.0a0,!=4.0.0a1->fsspec[http]->ludwig[llm]) (4.0.3)\n",
            "Requirement already satisfied: yarl<2.0,>=1.0 in /usr/local/lib/python3.10/dist-packages (from aiohttp!=4.0.0a0,!=4.0.0a1->fsspec[http]->ludwig[llm]) (1.9.2)\n",
            "Requirement already satisfied: frozenlist>=1.1.1 in /usr/local/lib/python3.10/dist-packages (from aiohttp!=4.0.0a0,!=4.0.0a1->fsspec[http]->ludwig[llm]) (1.4.0)\n",
            "Requirement already satisfied: aiosignal>=1.1.2 in /usr/local/lib/python3.10/dist-packages (from aiohttp!=4.0.0a0,!=4.0.0a1->fsspec[http]->ludwig[llm]) (1.3.1)\n",
            "Requirement already satisfied: wcwidth>=0.1.4 in /usr/local/lib/python3.10/dist-packages (from blessed>=1.17.1->gpustat->ludwig[llm]) (0.2.10)\n",
            "Requirement already satisfied: cachetools<6.0,>=2.0.0 in /usr/local/lib/python3.10/dist-packages (from google-auth<3,>=1.6.3->tensorboard->ludwig[llm]) (5.3.2)\n",
            "Requirement already satisfied: pyasn1-modules>=0.2.1 in /usr/local/lib/python3.10/dist-packages (from google-auth<3,>=1.6.3->tensorboard->ludwig[llm]) (0.3.0)\n",
            "Requirement already satisfied: rsa<5,>=3.1.4 in /usr/local/lib/python3.10/dist-packages (from google-auth<3,>=1.6.3->tensorboard->ludwig[llm]) (4.9)\n",
            "Requirement already satisfied: requests-oauthlib>=0.7.0 in /usr/local/lib/python3.10/dist-packages (from google-auth-oauthlib<1.1,>=0.5->tensorboard->ludwig[llm]) (1.3.1)\n",
            "Requirement already satisfied: blis<0.8.0,>=0.7.8 in /usr/local/lib/python3.10/dist-packages (from thinc<8.2.0,>=8.1.8->spacy>=2.3->ludwig[llm]) (0.7.11)\n",
            "Requirement already satisfied: confection<1.0.0,>=0.0.1 in /usr/local/lib/python3.10/dist-packages (from thinc<8.2.0,>=8.1.8->spacy>=2.3->ludwig[llm]) (0.1.3)\n",
            "Requirement already satisfied: mypy-extensions>=0.3.0 in /usr/local/lib/python3.10/dist-packages (from typing-inspect>=0.7.1->marshmallow-dataclass==8.5.4->ludwig[llm]) (1.0.0)\n",
            "Requirement already satisfied: MarkupSafe>=2.1.1 in /usr/local/lib/python3.10/dist-packages (from werkzeug>=1.0.1->tensorboard->ludwig[llm]) (2.1.3)\n",
            "Requirement already satisfied: text-unidecode>=1.3 in /usr/local/lib/python3.10/dist-packages (from python-slugify->kaggle->ludwig[llm]) (1.3)\n",
            "Requirement already satisfied: mpmath>=0.19 in /usr/local/lib/python3.10/dist-packages (from sympy->torch>=1.13.0->ludwig[llm]) (1.3.0)\n",
            "Requirement already satisfied: pyasn1<0.6.0,>=0.4.6 in /usr/local/lib/python3.10/dist-packages (from pyasn1-modules>=0.2.1->google-auth<3,>=1.6.3->tensorboard->ludwig[llm]) (0.5.0)\n",
            "Requirement already satisfied: oauthlib>=3.0.0 in /usr/local/lib/python3.10/dist-packages (from requests-oauthlib>=0.7.0->google-auth-oauthlib<1.1,>=0.5->tensorboard->ludwig[llm]) (3.2.2)\n",
            "Building wheels for collected packages: sentence-transformers\n",
            "  Building wheel for sentence-transformers (setup.py) ... \u001b[?25l\u001b[?25hdone\n",
            "  Created wheel for sentence-transformers: filename=sentence_transformers-2.2.2-py3-none-any.whl size=125923 sha256=6bc162815951c72c8879f6ff4e2f1d1798623be8a028c63e073409876aecbc49\n",
            "  Stored in directory: /root/.cache/pip/wheels/62/f2/10/1e606fd5f02395388f74e7462910fe851042f97238cbbd902f\n",
            "Successfully built sentence-transformers\n",
            "Installing collected packages: faiss-cpu, loralib, accelerate, sentence-transformers, peft\n",
            "Successfully installed accelerate-0.24.1 faiss-cpu-1.7.4 loralib-0.1.2 peft-0.6.2 sentence-transformers-2.2.2\n"
          ]
        }
      ]
    },
    {
      "cell_type": "code",
      "execution_count": 2,
      "metadata": {
        "id": "6CQ6aCGibQ_S"
      },
      "outputs": [],
      "source": [
        "from IPython.display import HTML, display\n",
        "\n",
        "def set_css():\n",
        "  display(HTML('''\n",
        "  <style>\n",
        "    pre {\n",
        "        white-space: pre-wrap;\n",
        "    }\n",
        "  </style>\n",
        "  '''))\n",
        "\n",
        "get_ipython().events.register('pre_run_cell', set_css)\n",
        "\n",
        "def clear_cache():\n",
        "  if torch.cuda.is_available():\n",
        "    model = None\n",
        "    torch.cuda.empty_cache()"
      ]
    },
    {
      "cell_type": "code",
      "source": [
        "import getpass\n",
        "import locale; locale.getpreferredencoding = lambda: \"UTF-8\"\n",
        "import logging\n",
        "import os\n",
        "import torch\n",
        "import yaml\n",
        "\n",
        "from ludwig.api import LudwigModel\n",
        "\n",
        "\n",
        "os.environ[\"HUGGING_FACE_HUB_TOKEN\"] = getpass.getpass(\"Token:\")\n",
        "assert os.environ[\"HUGGING_FACE_HUB_TOKEN\"]"
      ],
      "metadata": {
        "colab": {
          "base_uri": "https://localhost:8080/",
          "height": 34
        },
        "id": "z7RwmXYgb25q",
        "outputId": "1981b5ff-97f3-4039-9a06-d63bc3b8797d"
      },
      "execution_count": 3,
      "outputs": [
        {
          "output_type": "display_data",
          "data": {
            "text/plain": [
              "<IPython.core.display.HTML object>"
            ],
            "text/html": [
              "\n",
              "  <style>\n",
              "    pre {\n",
              "        white-space: pre-wrap;\n",
              "    }\n",
              "  </style>\n",
              "  "
            ]
          },
          "metadata": {}
        },
        {
          "name": "stdout",
          "output_type": "stream",
          "text": [
            "Token:··········\n"
          ]
        }
      ]
    },
    {
      "cell_type": "code",
      "source": [
        "from google.colab import drive\n",
        "drive.mount('/content/drive')\n",
        "\n",
        "import os\n",
        "os.chdir('/content/drive/MyDrive/ImpDocs/Work/AICoach/Notebooks/data')\n"
      ],
      "metadata": {
        "colab": {
          "base_uri": "https://localhost:8080/",
          "height": 34
        },
        "id": "kaxZhzW3cjiE",
        "outputId": "abf299a5-867d-457f-9d6f-c18eb48902c7"
      },
      "execution_count": 4,
      "outputs": [
        {
          "output_type": "display_data",
          "data": {
            "text/plain": [
              "<IPython.core.display.HTML object>"
            ],
            "text/html": [
              "\n",
              "  <style>\n",
              "    pre {\n",
              "        white-space: pre-wrap;\n",
              "    }\n",
              "  </style>\n",
              "  "
            ]
          },
          "metadata": {}
        },
        {
          "output_type": "stream",
          "name": "stdout",
          "text": [
            "Mounted at /content/drive\n"
          ]
        }
      ]
    },
    {
      "cell_type": "markdown",
      "source": [
        "Do following only the first time."
      ],
      "metadata": {
        "id": "Sv6Ts0bjfeR8"
      }
    },
    {
      "cell_type": "code",
      "source": [
        "# !pip install wget\n",
        "# import wget\n",
        "\n",
        "# # Replace the URL with the raw URL of the file on GitHub\n",
        "# url = \"https://raw.githubusercontent.com/yogeshhk/Sarvadnya/master/src/ludwig/data/cbic-gst_gov_in_fgaq.csv\"\n",
        "\n",
        "# # Download the file\n",
        "# wget.download(url, 'cbic-gst_gov_in_fgaq.csv')"
      ],
      "metadata": {
        "colab": {
          "base_uri": "https://localhost:8080/",
          "height": 17
        },
        "id": "CkTu8Uj2c5RA",
        "outputId": "cb3a9780-38a3-4986-de9b-9a22378fb766"
      },
      "execution_count": 5,
      "outputs": [
        {
          "output_type": "display_data",
          "data": {
            "text/plain": [
              "<IPython.core.display.HTML object>"
            ],
            "text/html": [
              "\n",
              "  <style>\n",
              "    pre {\n",
              "        white-space: pre-wrap;\n",
              "    }\n",
              "  </style>\n",
              "  "
            ]
          },
          "metadata": {}
        }
      ]
    },
    {
      "cell_type": "code",
      "source": [
        "from google.colab import data_table; data_table.enable_dataframe_formatter()\n",
        "import numpy as np; np.random.seed(123)\n",
        "import pandas as pd"
      ],
      "metadata": {
        "colab": {
          "base_uri": "https://localhost:8080/",
          "height": 17
        },
        "id": "ZwjgLInCdbNv",
        "outputId": "46cecc58-a87b-4ec0-96cb-875178872def"
      },
      "execution_count": 6,
      "outputs": [
        {
          "output_type": "display_data",
          "data": {
            "text/plain": [
              "<IPython.core.display.HTML object>"
            ],
            "text/html": [
              "\n",
              "  <style>\n",
              "    pre {\n",
              "        white-space: pre-wrap;\n",
              "    }\n",
              "  </style>\n",
              "  "
            ]
          },
          "metadata": {}
        }
      ]
    },
    {
      "cell_type": "code",
      "source": [
        "instruction_tuning_config_yaml = yaml.safe_load(\"\"\"\n",
        "model_type: llm\n",
        "base_model: meta-llama/Llama-2-7b-hf\n",
        "\n",
        "quantization:\n",
        " bits: 4\n",
        "\n",
        "adapter:\n",
        " type: lora\n",
        "\n",
        "prompt:\n",
        "  template: |\n",
        "    ### Instruction:\n",
        "    You are a taxation expert on Goods and Services Tax used in India.\n",
        "    Take the Input given below which is a Question. Give Answer for it as a Response.\n",
        "\n",
        "    ### Input:\n",
        "    {Question}\n",
        "\n",
        "    ### Response:\n",
        "\n",
        "input_features:\n",
        " - name: Question\n",
        "   type: text\n",
        "\n",
        "output_features:\n",
        " - name: Answer\n",
        "   type: text\n",
        "\n",
        "trainer:\n",
        " type: finetune\n",
        " learning_rate: 0.0003\n",
        " batch_size: 1\n",
        " gradient_accumulation_steps: 8\n",
        " epochs: 3\n",
        "\n",
        "backend:\n",
        " type: local\n",
        "\"\"\")"
      ],
      "metadata": {
        "colab": {
          "base_uri": "https://localhost:8080/",
          "height": 17
        },
        "id": "jU_bRFR7ft29",
        "outputId": "672fc88d-e5e3-4306-cae4-098d312ee45b"
      },
      "execution_count": 7,
      "outputs": [
        {
          "output_type": "display_data",
          "data": {
            "text/plain": [
              "<IPython.core.display.HTML object>"
            ],
            "text/html": [
              "\n",
              "  <style>\n",
              "    pre {\n",
              "        white-space: pre-wrap;\n",
              "    }\n",
              "  </style>\n",
              "  "
            ]
          },
          "metadata": {}
        }
      ]
    },
    {
      "cell_type": "code",
      "source": [
        "qna_tuning_config_dict = {\n",
        "    \"input_features\": [\n",
        "        {\n",
        "            \"name\": \"Question\",\n",
        "            \"type\": \"text\",\n",
        "            \"encoder\": {\n",
        "                \"type\": \"auto_transformer\",\n",
        "                \"pretrained_model_name_or_path\": \"meta-llama/Llama-2-7b-hf\",\n",
        "                \"trainable\": False\n",
        "            },\n",
        "            \"preprocessing\": {\n",
        "                \"cache_encoder_embeddings\": True\n",
        "            }\n",
        "        }\n",
        "    ],\n",
        "    \"output_features\": [\n",
        "        {\n",
        "            \"name\": \"Answer\",\n",
        "            \"type\": \"text\"\n",
        "        }\n",
        "    ]\n",
        "}"
      ],
      "metadata": {
        "colab": {
          "base_uri": "https://localhost:8080/",
          "height": 17
        },
        "id": "CdRC7EAvdfPO",
        "outputId": "58a45de7-5d49-4688-8f06-7f83ed2d1f25"
      },
      "execution_count": 8,
      "outputs": [
        {
          "output_type": "display_data",
          "data": {
            "text/plain": [
              "<IPython.core.display.HTML object>"
            ],
            "text/html": [
              "\n",
              "  <style>\n",
              "    pre {\n",
              "        white-space: pre-wrap;\n",
              "    }\n",
              "  </style>\n",
              "  "
            ]
          },
          "metadata": {}
        }
      ]
    },
    {
      "cell_type": "code",
      "source": [
        "df = pd.read_csv('/content/drive/MyDrive/ImpDocs/Work/AICoach/Notebooks/data/cbic-gst_gov_in_fgaq.csv', encoding='cp1252')\n",
        "df.head()\n"
      ],
      "metadata": {
        "colab": {
          "base_uri": "https://localhost:8080/",
          "height": 294
        },
        "id": "x9Xurf11dhmo",
        "outputId": "54fef26a-35fc-41b9-b016-de88bcc24462"
      },
      "execution_count": 9,
      "outputs": [
        {
          "output_type": "display_data",
          "data": {
            "text/plain": [
              "<IPython.core.display.HTML object>"
            ],
            "text/html": [
              "\n",
              "  <style>\n",
              "    pre {\n",
              "        white-space: pre-wrap;\n",
              "    }\n",
              "  </style>\n",
              "  "
            ]
          },
          "metadata": {}
        },
        {
          "output_type": "execute_result",
          "data": {
            "text/plain": [
              "                                            Question  \\\n",
              "0  Does aggregate turnover include value of inwar...   \n",
              "1  What if the dealer migrated with wrong PAN as ...   \n",
              "2  A taxable person’s business is in many states....   \n",
              "3  Can we use provisional GSTIN or do we get new ...   \n",
              "4  Whether trader of country liquor is required t...   \n",
              "\n",
              "                                              Answer  \n",
              "0  Refer Section 2(6) of CGST Act. Aggregate turn...  \n",
              "1  New registration would be required as partners...  \n",
              "2  He is liable to register if the aggregate turn...  \n",
              "3  Provisional GSTIN (PID) should be converted in...  \n",
              "4  If the person is involved in 100% supply of go...  "
            ],
            "text/html": [
              "\n",
              "  <div id=\"df-4d81a285-231d-4d56-8b0a-a264d553930d\" class=\"colab-df-container\">\n",
              "    <div>\n",
              "<style scoped>\n",
              "    .dataframe tbody tr th:only-of-type {\n",
              "        vertical-align: middle;\n",
              "    }\n",
              "\n",
              "    .dataframe tbody tr th {\n",
              "        vertical-align: top;\n",
              "    }\n",
              "\n",
              "    .dataframe thead th {\n",
              "        text-align: right;\n",
              "    }\n",
              "</style>\n",
              "<table border=\"1\" class=\"dataframe\">\n",
              "  <thead>\n",
              "    <tr style=\"text-align: right;\">\n",
              "      <th></th>\n",
              "      <th>Question</th>\n",
              "      <th>Answer</th>\n",
              "    </tr>\n",
              "  </thead>\n",
              "  <tbody>\n",
              "    <tr>\n",
              "      <th>0</th>\n",
              "      <td>Does aggregate turnover include value of inwar...</td>\n",
              "      <td>Refer Section 2(6) of CGST Act. Aggregate turn...</td>\n",
              "    </tr>\n",
              "    <tr>\n",
              "      <th>1</th>\n",
              "      <td>What if the dealer migrated with wrong PAN as ...</td>\n",
              "      <td>New registration would be required as partners...</td>\n",
              "    </tr>\n",
              "    <tr>\n",
              "      <th>2</th>\n",
              "      <td>A taxable person’s business is in many states....</td>\n",
              "      <td>He is liable to register if the aggregate turn...</td>\n",
              "    </tr>\n",
              "    <tr>\n",
              "      <th>3</th>\n",
              "      <td>Can we use provisional GSTIN or do we get new ...</td>\n",
              "      <td>Provisional GSTIN (PID) should be converted in...</td>\n",
              "    </tr>\n",
              "    <tr>\n",
              "      <th>4</th>\n",
              "      <td>Whether trader of country liquor is required t...</td>\n",
              "      <td>If the person is involved in 100% supply of go...</td>\n",
              "    </tr>\n",
              "  </tbody>\n",
              "</table>\n",
              "</div>\n",
              "    <div class=\"colab-df-buttons\">\n",
              "\n",
              "  <div class=\"colab-df-container\">\n",
              "    <button class=\"colab-df-convert\" onclick=\"convertToInteractive('df-4d81a285-231d-4d56-8b0a-a264d553930d')\"\n",
              "            title=\"Convert this dataframe to an interactive table.\"\n",
              "            style=\"display:none;\">\n",
              "\n",
              "  <svg xmlns=\"http://www.w3.org/2000/svg\" height=\"24px\" viewBox=\"0 -960 960 960\">\n",
              "    <path d=\"M120-120v-720h720v720H120Zm60-500h600v-160H180v160Zm220 220h160v-160H400v160Zm0 220h160v-160H400v160ZM180-400h160v-160H180v160Zm440 0h160v-160H620v160ZM180-180h160v-160H180v160Zm440 0h160v-160H620v160Z\"/>\n",
              "  </svg>\n",
              "    </button>\n",
              "\n",
              "  <style>\n",
              "    .colab-df-container {\n",
              "      display:flex;\n",
              "      gap: 12px;\n",
              "    }\n",
              "\n",
              "    .colab-df-convert {\n",
              "      background-color: #E8F0FE;\n",
              "      border: none;\n",
              "      border-radius: 50%;\n",
              "      cursor: pointer;\n",
              "      display: none;\n",
              "      fill: #1967D2;\n",
              "      height: 32px;\n",
              "      padding: 0 0 0 0;\n",
              "      width: 32px;\n",
              "    }\n",
              "\n",
              "    .colab-df-convert:hover {\n",
              "      background-color: #E2EBFA;\n",
              "      box-shadow: 0px 1px 2px rgba(60, 64, 67, 0.3), 0px 1px 3px 1px rgba(60, 64, 67, 0.15);\n",
              "      fill: #174EA6;\n",
              "    }\n",
              "\n",
              "    .colab-df-buttons div {\n",
              "      margin-bottom: 4px;\n",
              "    }\n",
              "\n",
              "    [theme=dark] .colab-df-convert {\n",
              "      background-color: #3B4455;\n",
              "      fill: #D2E3FC;\n",
              "    }\n",
              "\n",
              "    [theme=dark] .colab-df-convert:hover {\n",
              "      background-color: #434B5C;\n",
              "      box-shadow: 0px 1px 3px 1px rgba(0, 0, 0, 0.15);\n",
              "      filter: drop-shadow(0px 1px 2px rgba(0, 0, 0, 0.3));\n",
              "      fill: #FFFFFF;\n",
              "    }\n",
              "  </style>\n",
              "\n",
              "    <script>\n",
              "      const buttonEl =\n",
              "        document.querySelector('#df-4d81a285-231d-4d56-8b0a-a264d553930d button.colab-df-convert');\n",
              "      buttonEl.style.display =\n",
              "        google.colab.kernel.accessAllowed ? 'block' : 'none';\n",
              "\n",
              "      async function convertToInteractive(key) {\n",
              "        const element = document.querySelector('#df-4d81a285-231d-4d56-8b0a-a264d553930d');\n",
              "        const dataTable =\n",
              "          await google.colab.kernel.invokeFunction('convertToInteractive',\n",
              "                                                    [key], {});\n",
              "        if (!dataTable) return;\n",
              "\n",
              "        const docLinkHtml = 'Like what you see? Visit the ' +\n",
              "          '<a target=\"_blank\" href=https://colab.research.google.com/notebooks/data_table.ipynb>data table notebook</a>'\n",
              "          + ' to learn more about interactive tables.';\n",
              "        element.innerHTML = '';\n",
              "        dataTable['output_type'] = 'display_data';\n",
              "        await google.colab.output.renderOutput(dataTable, element);\n",
              "        const docLink = document.createElement('div');\n",
              "        docLink.innerHTML = docLinkHtml;\n",
              "        element.appendChild(docLink);\n",
              "      }\n",
              "    </script>\n",
              "  </div>\n",
              "\n",
              "\n",
              "<div id=\"df-af2b9303-e794-478f-9583-525bfa9f4839\">\n",
              "  <button class=\"colab-df-quickchart\" onclick=\"quickchart('df-af2b9303-e794-478f-9583-525bfa9f4839')\"\n",
              "            title=\"Suggest charts\"\n",
              "            style=\"display:none;\">\n",
              "\n",
              "<svg xmlns=\"http://www.w3.org/2000/svg\" height=\"24px\"viewBox=\"0 0 24 24\"\n",
              "     width=\"24px\">\n",
              "    <g>\n",
              "        <path d=\"M19 3H5c-1.1 0-2 .9-2 2v14c0 1.1.9 2 2 2h14c1.1 0 2-.9 2-2V5c0-1.1-.9-2-2-2zM9 17H7v-7h2v7zm4 0h-2V7h2v10zm4 0h-2v-4h2v4z\"/>\n",
              "    </g>\n",
              "</svg>\n",
              "  </button>\n",
              "\n",
              "<style>\n",
              "  .colab-df-quickchart {\n",
              "      --bg-color: #E8F0FE;\n",
              "      --fill-color: #1967D2;\n",
              "      --hover-bg-color: #E2EBFA;\n",
              "      --hover-fill-color: #174EA6;\n",
              "      --disabled-fill-color: #AAA;\n",
              "      --disabled-bg-color: #DDD;\n",
              "  }\n",
              "\n",
              "  [theme=dark] .colab-df-quickchart {\n",
              "      --bg-color: #3B4455;\n",
              "      --fill-color: #D2E3FC;\n",
              "      --hover-bg-color: #434B5C;\n",
              "      --hover-fill-color: #FFFFFF;\n",
              "      --disabled-bg-color: #3B4455;\n",
              "      --disabled-fill-color: #666;\n",
              "  }\n",
              "\n",
              "  .colab-df-quickchart {\n",
              "    background-color: var(--bg-color);\n",
              "    border: none;\n",
              "    border-radius: 50%;\n",
              "    cursor: pointer;\n",
              "    display: none;\n",
              "    fill: var(--fill-color);\n",
              "    height: 32px;\n",
              "    padding: 0;\n",
              "    width: 32px;\n",
              "  }\n",
              "\n",
              "  .colab-df-quickchart:hover {\n",
              "    background-color: var(--hover-bg-color);\n",
              "    box-shadow: 0 1px 2px rgba(60, 64, 67, 0.3), 0 1px 3px 1px rgba(60, 64, 67, 0.15);\n",
              "    fill: var(--button-hover-fill-color);\n",
              "  }\n",
              "\n",
              "  .colab-df-quickchart-complete:disabled,\n",
              "  .colab-df-quickchart-complete:disabled:hover {\n",
              "    background-color: var(--disabled-bg-color);\n",
              "    fill: var(--disabled-fill-color);\n",
              "    box-shadow: none;\n",
              "  }\n",
              "\n",
              "  .colab-df-spinner {\n",
              "    border: 2px solid var(--fill-color);\n",
              "    border-color: transparent;\n",
              "    border-bottom-color: var(--fill-color);\n",
              "    animation:\n",
              "      spin 1s steps(1) infinite;\n",
              "  }\n",
              "\n",
              "  @keyframes spin {\n",
              "    0% {\n",
              "      border-color: transparent;\n",
              "      border-bottom-color: var(--fill-color);\n",
              "      border-left-color: var(--fill-color);\n",
              "    }\n",
              "    20% {\n",
              "      border-color: transparent;\n",
              "      border-left-color: var(--fill-color);\n",
              "      border-top-color: var(--fill-color);\n",
              "    }\n",
              "    30% {\n",
              "      border-color: transparent;\n",
              "      border-left-color: var(--fill-color);\n",
              "      border-top-color: var(--fill-color);\n",
              "      border-right-color: var(--fill-color);\n",
              "    }\n",
              "    40% {\n",
              "      border-color: transparent;\n",
              "      border-right-color: var(--fill-color);\n",
              "      border-top-color: var(--fill-color);\n",
              "    }\n",
              "    60% {\n",
              "      border-color: transparent;\n",
              "      border-right-color: var(--fill-color);\n",
              "    }\n",
              "    80% {\n",
              "      border-color: transparent;\n",
              "      border-right-color: var(--fill-color);\n",
              "      border-bottom-color: var(--fill-color);\n",
              "    }\n",
              "    90% {\n",
              "      border-color: transparent;\n",
              "      border-bottom-color: var(--fill-color);\n",
              "    }\n",
              "  }\n",
              "</style>\n",
              "\n",
              "  <script>\n",
              "    async function quickchart(key) {\n",
              "      const quickchartButtonEl =\n",
              "        document.querySelector('#' + key + ' button');\n",
              "      quickchartButtonEl.disabled = true;  // To prevent multiple clicks.\n",
              "      quickchartButtonEl.classList.add('colab-df-spinner');\n",
              "      try {\n",
              "        const charts = await google.colab.kernel.invokeFunction(\n",
              "            'suggestCharts', [key], {});\n",
              "      } catch (error) {\n",
              "        console.error('Error during call to suggestCharts:', error);\n",
              "      }\n",
              "      quickchartButtonEl.classList.remove('colab-df-spinner');\n",
              "      quickchartButtonEl.classList.add('colab-df-quickchart-complete');\n",
              "    }\n",
              "    (() => {\n",
              "      let quickchartButtonEl =\n",
              "        document.querySelector('#df-af2b9303-e794-478f-9583-525bfa9f4839 button');\n",
              "      quickchartButtonEl.style.display =\n",
              "        google.colab.kernel.accessAllowed ? 'block' : 'none';\n",
              "    })();\n",
              "  </script>\n",
              "</div>\n",
              "    </div>\n",
              "  </div>\n"
            ],
            "application/vnd.google.colaboratory.module+javascript": "\n      import \"https://ssl.gstatic.com/colaboratory/data_table/881c4a0d49046431/data_table.js\";\n\n      const table = window.createDataTable({\n        data: [[{\n            'v': 0,\n            'f': \"0\",\n        },\n\"Does aggregate turnover include value of inward supplies received on which RCM is payable?\",\n\"Refer Section 2(6) of CGST Act. Aggregate turnover does not include value of inward supplies on which tax is payable on reverse charge basis.\"],\n [{\n            'v': 1,\n            'f': \"1\",\n        },\n\"What if the dealer migrated with wrong PAN as the status of firm was changed from proprietorship to partnership?\",\n\"New registration would be required as partnership firm would have new PAN.\"],\n [{\n            'v': 2,\n            'f': \"2\",\n        },\n\"A taxable person\\u2019s business is in many states. All supplies are below 10 Lakhs. He makes an Inter State supply from one state. Is he liable for registration?\",\n\"He is liable to register if the aggregate turnover (all India) is more than 20 lacs (Rs. 10 lacs in Special Category States) or if he is engaged in inter-State supplies.\"],\n [{\n            'v': 3,\n            'f': \"3\",\n        },\n\"Can we use provisional GSTIN or do we get new GSTIN? Can we start using provisional GSTIN till new one is issued?\",\n\"Provisional GSTIN (PID) should be converted into final GSTIN within 90 days. Yes, provisional GSTIN can be used till final GSTIN is issued. PID & final GSTIN would be same.\"],\n [{\n            'v': 4,\n            'f': \"4\",\n        },\n\"Whether trader of country liquor is required to migrate to GST from VAT as liquor is out of GST law?\",\n\"If the person is involved in 100% supply of goods which are not liable for GST, then no registration is required.\"]],\n        columns: [[\"number\", \"index\"], [\"string\", \"Question\"], [\"string\", \"Answer\"]],\n        columnOptions: [{\"width\": \"1px\", \"className\": \"index_column\"}],\n        rowsPerPage: 25,\n        helpUrl: \"https://colab.research.google.com/notebooks/data_table.ipynb\",\n        suppressOutputScrolling: true,\n        minimumWidth: undefined,\n      });\n\n      function appendQuickchartButton(parentElement) {\n        let quickchartButtonContainerElement = document.createElement('div');\n        quickchartButtonContainerElement.innerHTML = `\n<div id=\"df-d462cb6f-8436-4cfc-ad06-aeafcb81d487\">\n  <button class=\"colab-df-quickchart\" onclick=\"quickchart('df-d462cb6f-8436-4cfc-ad06-aeafcb81d487')\"\n            title=\"Suggest charts\"\n            style=\"display:none;\">\n    \n<svg xmlns=\"http://www.w3.org/2000/svg\" height=\"24px\"viewBox=\"0 0 24 24\"\n     width=\"24px\">\n    <g>\n        <path d=\"M19 3H5c-1.1 0-2 .9-2 2v14c0 1.1.9 2 2 2h14c1.1 0 2-.9 2-2V5c0-1.1-.9-2-2-2zM9 17H7v-7h2v7zm4 0h-2V7h2v10zm4 0h-2v-4h2v4z\"/>\n    </g>\n</svg>\n  </button>\n  \n<style>\n  .colab-df-quickchart {\n      --bg-color: #E8F0FE;\n      --fill-color: #1967D2;\n      --hover-bg-color: #E2EBFA;\n      --hover-fill-color: #174EA6;\n      --disabled-fill-color: #AAA;\n      --disabled-bg-color: #DDD;\n  }\n\n  [theme=dark] .colab-df-quickchart {\n      --bg-color: #3B4455;\n      --fill-color: #D2E3FC;\n      --hover-bg-color: #434B5C;\n      --hover-fill-color: #FFFFFF;\n      --disabled-bg-color: #3B4455;\n      --disabled-fill-color: #666;\n  }\n\n  .colab-df-quickchart {\n    background-color: var(--bg-color);\n    border: none;\n    border-radius: 50%;\n    cursor: pointer;\n    display: none;\n    fill: var(--fill-color);\n    height: 32px;\n    padding: 0;\n    width: 32px;\n  }\n\n  .colab-df-quickchart:hover {\n    background-color: var(--hover-bg-color);\n    box-shadow: 0 1px 2px rgba(60, 64, 67, 0.3), 0 1px 3px 1px rgba(60, 64, 67, 0.15);\n    fill: var(--button-hover-fill-color);\n  }\n\n  .colab-df-quickchart-complete:disabled,\n  .colab-df-quickchart-complete:disabled:hover {\n    background-color: var(--disabled-bg-color);\n    fill: var(--disabled-fill-color);\n    box-shadow: none;\n  }\n\n  .colab-df-spinner {\n    border: 2px solid var(--fill-color);\n    border-color: transparent;\n    border-bottom-color: var(--fill-color);\n    animation:\n      spin 1s steps(1) infinite;\n  }\n\n  @keyframes spin {\n    0% {\n      border-color: transparent;\n      border-bottom-color: var(--fill-color);\n      border-left-color: var(--fill-color);\n    }\n    20% {\n      border-color: transparent;\n      border-left-color: var(--fill-color);\n      border-top-color: var(--fill-color);\n    }\n    30% {\n      border-color: transparent;\n      border-left-color: var(--fill-color);\n      border-top-color: var(--fill-color);\n      border-right-color: var(--fill-color);\n    }\n    40% {\n      border-color: transparent;\n      border-right-color: var(--fill-color);\n      border-top-color: var(--fill-color);\n    }\n    60% {\n      border-color: transparent;\n      border-right-color: var(--fill-color);\n    }\n    80% {\n      border-color: transparent;\n      border-right-color: var(--fill-color);\n      border-bottom-color: var(--fill-color);\n    }\n    90% {\n      border-color: transparent;\n      border-bottom-color: var(--fill-color);\n    }\n  }\n</style>\n\n  <script>\n    async function quickchart(key) {\n      const quickchartButtonEl =\n        document.querySelector('#' + key + ' button');\n      quickchartButtonEl.disabled = true;  // To prevent multiple clicks.\n      quickchartButtonEl.classList.add('colab-df-spinner');\n      try {\n        const charts = await google.colab.kernel.invokeFunction(\n            'suggestCharts', [key], {});\n      } catch (error) {\n        console.error('Error during call to suggestCharts:', error);\n      }\n      quickchartButtonEl.classList.remove('colab-df-spinner');\n      quickchartButtonEl.classList.add('colab-df-quickchart-complete');\n    }\n    (() => {\n      let quickchartButtonEl =\n        document.querySelector('#df-d462cb6f-8436-4cfc-ad06-aeafcb81d487 button');\n      quickchartButtonEl.style.display =\n        google.colab.kernel.accessAllowed ? 'block' : 'none';\n    })();\n  </script>\n</div>`;\n        parentElement.appendChild(quickchartButtonContainerElement);\n      }\n\n      appendQuickchartButton(table);\n    "
          },
          "metadata": {},
          "execution_count": 9
        }
      ]
    },
    {
      "cell_type": "code",
      "source": [
        "model = LudwigModel(config=instruction_tuning_config_yaml)\n",
        "_ = model.train(dataset=df)"
      ],
      "metadata": {
        "colab": {
          "base_uri": "https://localhost:8080/",
          "height": 1000,
          "referenced_widgets": [
            "b2f1ac95ec9e4e73b183254f302e8564",
            "79cb1bfff55c430bb1bd3f54dbc71d93",
            "39141efe737041e1857ff89e47680ef1",
            "edab0936dcc342f394aabe92b45d97a4",
            "9efeea2cdc504731850b8b2c5a8c38eb",
            "99a284ec42d34b2ab1dc325cfe0e6ab1",
            "607a13f881774293b111c3cce9498f14",
            "e29315ba12604ccb9a57b8ccaf6c12c4",
            "63b1474aa3354c01a1588e291b1d6ddf",
            "34086bde8de743eaa3154170dc3c1c11",
            "eecc9bfc32f8479cae1e00bd8c448fb8",
            "c5ab274e5fc84cecb5275323ffb5c0ee",
            "fa885f3801f3441599dd9099f5c93ecc",
            "abd89ed74f424869b5170bc0e7d6efa9",
            "3f136c052a0848969fa34c7c6ab54046",
            "89bfba81deba4d1f9fe61765655daa12",
            "baf7521840cf491d9da7f56d89a8e793",
            "5e3d00d4432043bdb301e43e899faee8",
            "f9c6431732534ac287e4c80c274498ab",
            "b7d7e45b935f4faf8ddb00acafeefe40",
            "6c80492f16ff4a9fb8774f4ccf838198",
            "96171b5951bd40ec9f87509a83573a56",
            "19236b5b500f40fd85846dd16945540f",
            "68778357f902482f80861df022a971c2",
            "f742b51b4059490785fc6568908da6c3",
            "a1e29c21f78e4eeb90e8526dad1ecee2",
            "da8adceb8c7c40608afb8758d8eab32e",
            "c4ffa57daa6f48f68767a23f66b4d3e0",
            "e08832e70f84477eb43f77d7ef0b6f5d",
            "19d4742cab2447ee87fd9d17d806d2d7",
            "7fa034ca10fa4506b316fbdd35030ae1",
            "211f0999cbae46a7a99e06b8301767ef",
            "e0053bb0837e47a18c2a227562bf5674",
            "019be4e6baae48e9b6b68d77e7f836d8",
            "0b801945608a4d5bad93220048eaf6af",
            "6a88eb0fc476478aab07f851d1f242aa",
            "ed7ff4162cf14f7a8b965485de092d3c",
            "baa618fd6a7945f18738e0d9ebebe214",
            "150af31ff6db46158ae26af4f6a15616",
            "725de555dc194863b95d5842d0ad061c",
            "7aeeecb4add74e659c0ba5b93eea32ab",
            "b49e59e7a105404184aae0f0be0fef3b",
            "b106d105bdda4264b0062c515c888c8a",
            "c4dd711a3de94ead9170b93dae79040b",
            "3329a1f88ced45d1a4b7435abc1ee7fb",
            "c3673839abc64105864de71a23065848",
            "08d9ef17717b470389e4650339cbd7c3",
            "ff0d7662ffd04d3bac435e36ba099c50",
            "49996542bac94f47a2fd109cd68d33d3",
            "c52595a8c693443881765edb915b548a",
            "55daba5729de4693876bdc77fb170f52",
            "0f24f838f3034758b60ae1cd46230447",
            "912c8503f17d416389b117e836434965",
            "af8f54e47bc54301afbe70559e8fcc67",
            "04da8d0a37164d12a77dc112af0f95c0",
            "e4ee92296127461993dbeff7e86fbf2d",
            "2fe6c3cb6a9949389623fdcfa51abeb4",
            "61f70654149642598612841edf35c67f",
            "1321ceb7ed024369a64f640331f69bef",
            "1ea24c69464b43c396a97d6f1add617b",
            "b22de617d4324872ba27f52b7060493d",
            "3826569cc85047a8bb757d3a3a9feae7",
            "2227defb7299478698e20734b97d9e18",
            "c95396d809d9408fabd83d06c03d618d",
            "d710be2c58b547c4ae4bcfa1236662e5",
            "1d7cd4cc324a497f9487c11e81d484df",
            "c0fe6d03d6054c15a4c738a8633ccb7b",
            "c8e7ce052acd4c0599313b10ecd57453",
            "ff75ce0fccaf438e92b17d14e68c4def",
            "3f4ea4303ba84271a120134cd0bb4924",
            "37f508897f2e43dfbadcd32a4c7b60e8",
            "75dc11dbd30b446781541cb1f06492bc",
            "1ceb53289ac944c9aa9ea8b724cb2a9f",
            "4933259aa99148048932dd9d45857b47",
            "1420f3fd39034e90846c043763f007d8",
            "8124a5773d3b4c319b5989979a852ff7",
            "f311d1ad3d0f49259f76a103583d7af5",
            "78c6279be7f540ab8cc89d1767562876",
            "e1d2470785a644b6841cd98ebc9df8ea",
            "57f32c4b7ca44762a6a3c68dbe947049",
            "0713d52c29ff4a54823ccef53345e4aa",
            "861ba27eedc94ba9a6e8fa5758cdbf17",
            "5fd91910a0bf4186911392d6bd80dcad",
            "8b51c2765d5e449384a79bb0d468e960",
            "2bc8777d779c46248309e3d49738d25e",
            "a65a9055c72a4b98b74732e4a1832911",
            "a0dcd1092015452abe60d455d9f68fdc",
            "07563689ee89473aa50241eb439589d9",
            "e311846f52d74608a2f06970efc96436",
            "053d2267d86b4e9bacb93758f62a70a0",
            "e9274ed92dfe467ba56ff31ddede9b47",
            "b095bd851d4b4c66a3d277f89b5c0e22",
            "9832da1244154ff8aaf7c6a2db4b05d3",
            "b96d3ba5d83f4851b7696c77437684ff",
            "56627212c59348afb7c717c2a3a0a65e",
            "568ee6cade1e4c31a10f05f04621bc75",
            "02c6b6d5dffc4285a5be4cd2a4e7cd21",
            "e8cf3b90a1cb42d890a4c1327309cc21",
            "087e68ff71a840ed8e0d2039e69057fe",
            "2cc3a81575a041e2929d04eb5c29d06f",
            "b89222a862b14799b7777fb82d9055e3",
            "2e372d63788743e8b3729d1199dffdd1",
            "7629ac631e774eb6831785c8a0bb5e6a",
            "198f177d0cc942289c29675dd9b11013",
            "5cc157bf96da418abddb9b3a6e9a5e30",
            "1ebce9a58af5479984053df2db5dce81",
            "21d1d42302974a439e93dae208923e7b",
            "31607c5cd4204b09ae4ceca7e1d71525",
            "22542bd18be6499e906f129049ed778f",
            "1bb6a86ba6f44e8a8b22b4df40650244",
            "01a81df1e636440f9b6ef58449987690",
            "99a85c3f0f044372a806c5c090c71b13",
            "dd7ed397ae5c46be8b300e9ab915058b",
            "cffa5d3b721a4ed5afec63e0e101e0f4",
            "ef9e897b9ae6407f9a4449364927da0d",
            "67463dab453a4101b4cf4f3060a11a77",
            "9c521a8af88d487f9f01086e68b7319e",
            "a6bcb94b2519463c90a04ebaae943080",
            "6b2fabbf5df549c9a3ac2508b5b2ebbc",
            "d35514a3711345dea5b9cde36f343070",
            "90847fb4561245199dcc6121367fa714"
          ]
        },
        "id": "wtH328Q-egPm",
        "outputId": "86f128dd-8068-4339-87de-f72589b3f472"
      },
      "execution_count": 10,
      "outputs": [
        {
          "output_type": "display_data",
          "data": {
            "text/plain": [
              "<IPython.core.display.HTML object>"
            ],
            "text/html": [
              "\n",
              "  <style>\n",
              "    pre {\n",
              "        white-space: pre-wrap;\n",
              "    }\n",
              "  </style>\n",
              "  "
            ]
          },
          "metadata": {}
        },
        {
          "output_type": "display_data",
          "data": {
            "text/plain": [
              "config.json:   0%|          | 0.00/609 [00:00<?, ?B/s]"
            ],
            "application/vnd.jupyter.widget-view+json": {
              "version_major": 2,
              "version_minor": 0,
              "model_id": "b2f1ac95ec9e4e73b183254f302e8564"
            }
          },
          "metadata": {}
        },
        {
          "output_type": "stream",
          "name": "stderr",
          "text": [
            "INFO:ludwig.utils.print_utils:\n",
            "INFO:ludwig.utils.print_utils:╒════════════════════════╕\n",
            "INFO:ludwig.utils.print_utils:│ EXPERIMENT DESCRIPTION │\n",
            "INFO:ludwig.utils.print_utils:╘════════════════════════╛\n",
            "INFO:ludwig.utils.print_utils:\n",
            "INFO:ludwig.api:╒══════════════════╤═════════════════════════════════════════════════════════════════════════════════════════╕\n",
            "│ Experiment name  │ api_experiment                                                                          │\n",
            "├──────────────────┼─────────────────────────────────────────────────────────────────────────────────────────┤\n",
            "│ Model name       │ run                                                                                     │\n",
            "├──────────────────┼─────────────────────────────────────────────────────────────────────────────────────────┤\n",
            "│ Output directory │ /content/drive/MyDrive/ImpDocs/Work/AICoach/Notebooks/data/results/api_experiment_run_0 │\n",
            "├──────────────────┼─────────────────────────────────────────────────────────────────────────────────────────┤\n",
            "│ ludwig_version   │ '0.8.6'                                                                                 │\n",
            "├──────────────────┼─────────────────────────────────────────────────────────────────────────────────────────┤\n",
            "│ command          │ ('/usr/local/lib/python3.10/dist-packages/colab_kernel_launcher.py -f '                 │\n",
            "│                  │  '/root/.local/share/jupyter/runtime/kernel-0f9fc8ca-4b1d-46a0-9381-22b1fae0c20b.json') │\n",
            "├──────────────────┼─────────────────────────────────────────────────────────────────────────────────────────┤\n",
            "│ random_seed      │ 42                                                                                      │\n",
            "├──────────────────┼─────────────────────────────────────────────────────────────────────────────────────────┤\n",
            "│ data_format      │ \"<class 'pandas.core.frame.DataFrame'>\"                                                 │\n",
            "├──────────────────┼─────────────────────────────────────────────────────────────────────────────────────────┤\n",
            "│ torch_version    │ '2.1.0+cu118'                                                                           │\n",
            "├──────────────────┼─────────────────────────────────────────────────────────────────────────────────────────┤\n",
            "│ compute          │ {   'arch_list': [   'sm_50',                                                           │\n",
            "│                  │                      'sm_60',                                                           │\n",
            "│                  │                      'sm_70',                                                           │\n",
            "│                  │                      'sm_75',                                                           │\n",
            "│                  │                      'sm_80',                                                           │\n",
            "│                  │                      'sm_86',                                                           │\n",
            "│                  │                      'sm_37',                                                           │\n",
            "│                  │                      'sm_90'],                                                          │\n",
            "│                  │     'devices': {   0: {   'device_capability': (7, 5),                                  │\n",
            "│                  │                           'device_properties': \"_CudaDeviceProperties(name='Tesla \"     │\n",
            "│                  │                                                \"T4', major=7, minor=5, \"                │\n",
            "│                  │                                                'total_memory=15101MB, '                 │\n",
            "│                  │                                                'multi_processor_count=40)',             │\n",
            "│                  │                           'gpu_type': 'Tesla T4'}},                                     │\n",
            "│                  │     'gencode_flags': '-gencode compute=compute_50,code=sm_50 -gencode '                 │\n",
            "│                  │                      'compute=compute_60,code=sm_60 -gencode '                          │\n",
            "│                  │                      'compute=compute_70,code=sm_70 -gencode '                          │\n",
            "│                  │                      'compute=compute_75,code=sm_75 -gencode '                          │\n",
            "│                  │                      'compute=compute_80,code=sm_80 -gencode '                          │\n",
            "│                  │                      'compute=compute_86,code=sm_86 -gencode '                          │\n",
            "│                  │                      'compute=compute_37,code=sm_37 -gencode '                          │\n",
            "│                  │                      'compute=compute_90,code=sm_90',                                   │\n",
            "│                  │     'gpus_per_node': 1,                                                                 │\n",
            "│                  │     'num_nodes': 1}                                                                     │\n",
            "╘══════════════════╧═════════════════════════════════════════════════════════════════════════════════════════╛\n",
            "INFO:ludwig.utils.print_utils:\n",
            "INFO:ludwig.utils.print_utils:╒═══════════════╕\n",
            "INFO:ludwig.utils.print_utils:│ LUDWIG CONFIG │\n",
            "INFO:ludwig.utils.print_utils:╘═══════════════╛\n",
            "INFO:ludwig.utils.print_utils:\n",
            "INFO:ludwig.api:User-specified config (with upgrades):\n",
            "\n",
            "INFO:ludwig.api:{   'adapter': {'type': 'lora'},\n",
            "    'backend': {'type': 'local'},\n",
            "    'base_model': 'meta-llama/Llama-2-7b-hf',\n",
            "    'input_features': [{'name': 'Question', 'type': 'text'}],\n",
            "    'ludwig_version': '0.8.6',\n",
            "    'model_type': 'llm',\n",
            "    'output_features': [{'name': 'Answer', 'type': 'text'}],\n",
            "    'prompt': {   'template': '### Instruction:\\n'\n",
            "                              'You are a taxation expert on Goods and Services '\n",
            "                              'Tax used in India.\\n'\n",
            "                              'Take the Input given below which is a Question. '\n",
            "                              'Give Answer for it as a Response.\\n'\n",
            "                              '\\n'\n",
            "                              '### Input:\\n'\n",
            "                              '{Question}\\n'\n",
            "                              '\\n'\n",
            "                              '### Response:\\n'},\n",
            "    'quantization': {'bits': 4},\n",
            "    'trainer': {   'batch_size': 1,\n",
            "                   'epochs': 3,\n",
            "                   'gradient_accumulation_steps': 8,\n",
            "                   'learning_rate': 0.0003,\n",
            "                   'type': 'finetune'}}\n",
            "INFO:ludwig.api:\n",
            "Full config saved to:\n",
            "/content/drive/MyDrive/ImpDocs/Work/AICoach/Notebooks/data/results/api_experiment_run_0/api_experiment/model/model_hyperparameters.json\n",
            "INFO:ludwig.utils.print_utils:\n",
            "INFO:ludwig.utils.print_utils:╒═══════════════╕\n",
            "INFO:ludwig.utils.print_utils:│ PREPROCESSING │\n",
            "INFO:ludwig.utils.print_utils:╘═══════════════╛\n",
            "INFO:ludwig.utils.print_utils:\n",
            "INFO:ludwig.data.preprocessing:No cached dataset found at /content/drive/MyDrive/ImpDocs/Work/AICoach/Notebooks/data/1abd12ea8dda11eea88e0242ac1c000c.training.hdf5. Preprocessing the dataset.\n",
            "INFO:ludwig.data.preprocessing:Using full dataframe\n",
            "INFO:ludwig.data.preprocessing:Building dataset (it may take a while)\n",
            "DEBUG:ludwig.data.preprocessing:handle text features with prompt parameters\n",
            "DEBUG:ludwig.data.preprocessing:build preprocessing parameters\n",
            "DEBUG:ludwig.data.preprocessing:handle missing values\n",
            "DEBUG:ludwig.data.preprocessing:cast columns\n",
            "DEBUG:ludwig.data.preprocessing:build metadata\n"
          ]
        },
        {
          "output_type": "display_data",
          "data": {
            "text/plain": [
              "tokenizer_config.json:   0%|          | 0.00/776 [00:00<?, ?B/s]"
            ],
            "application/vnd.jupyter.widget-view+json": {
              "version_major": 2,
              "version_minor": 0,
              "model_id": "c5ab274e5fc84cecb5275323ffb5c0ee"
            }
          },
          "metadata": {}
        },
        {
          "output_type": "display_data",
          "data": {
            "text/plain": [
              "tokenizer.model:   0%|          | 0.00/500k [00:00<?, ?B/s]"
            ],
            "application/vnd.jupyter.widget-view+json": {
              "version_major": 2,
              "version_minor": 0,
              "model_id": "19236b5b500f40fd85846dd16945540f"
            }
          },
          "metadata": {}
        },
        {
          "output_type": "display_data",
          "data": {
            "text/plain": [
              "special_tokens_map.json:   0%|          | 0.00/414 [00:00<?, ?B/s]"
            ],
            "application/vnd.jupyter.widget-view+json": {
              "version_major": 2,
              "version_minor": 0,
              "model_id": "019be4e6baae48e9b6b68d77e7f836d8"
            }
          },
          "metadata": {}
        },
        {
          "output_type": "display_data",
          "data": {
            "text/plain": [
              "tokenizer.json:   0%|          | 0.00/1.84M [00:00<?, ?B/s]"
            ],
            "application/vnd.jupyter.widget-view+json": {
              "version_major": 2,
              "version_minor": 0,
              "model_id": "3329a1f88ced45d1a4b7435abc1ee7fb"
            }
          },
          "metadata": {}
        },
        {
          "output_type": "stream",
          "name": "stderr",
          "text": [
            "INFO:ludwig.utils.tokenizers:Loaded HuggingFace implementation of meta-llama/Llama-2-7b-hf tokenizer\n",
            "WARNING:ludwig.utils.tokenizers:No padding token id found. Using eos_token as pad_token.\n",
            "Asking to truncate to max_length but no maximum length is provided and the model has no predefined maximum length. Default to no truncation.\n",
            "INFO:ludwig.features.text_feature:Max length of feature 'None': 114 (without start and stop symbols)\n",
            "INFO:ludwig.features.text_feature:Setting max length using dataset: 116 (including start and stop symbols)\n",
            "INFO:ludwig.features.text_feature:max sequence length is 116 for feature 'None'\n",
            "INFO:ludwig.utils.tokenizers:Loaded HuggingFace implementation of meta-llama/Llama-2-7b-hf tokenizer\n",
            "WARNING:ludwig.utils.tokenizers:No padding token id found. Using eos_token as pad_token.\n",
            "Asking to truncate to max_length but no maximum length is provided and the model has no predefined maximum length. Default to no truncation.\n",
            "INFO:ludwig.features.text_feature:Max length of feature 'Answer': 102 (without start and stop symbols)\n",
            "INFO:ludwig.features.text_feature:Setting max length using dataset: 104 (including start and stop symbols)\n",
            "INFO:ludwig.features.text_feature:max sequence length is 104 for feature 'Answer'\n",
            "DEBUG:ludwig.data.preprocessing:build data\n",
            "INFO:ludwig.utils.tokenizers:Loaded HuggingFace implementation of meta-llama/Llama-2-7b-hf tokenizer\n",
            "WARNING:ludwig.utils.tokenizers:No padding token id found. Using eos_token as pad_token.\n",
            "Asking to truncate to max_length but no maximum length is provided and the model has no predefined maximum length. Default to no truncation.\n",
            "DEBUG:ludwig.utils.strings_utils:max length of <built-in function format>: 114 < limit: 116\n",
            "INFO:ludwig.utils.tokenizers:Loaded HuggingFace implementation of meta-llama/Llama-2-7b-hf tokenizer\n",
            "WARNING:ludwig.utils.tokenizers:No padding token id found. Using eos_token as pad_token.\n",
            "Asking to truncate to max_length but no maximum length is provided and the model has no predefined maximum length. Default to no truncation.\n",
            "DEBUG:ludwig.utils.strings_utils:max length of <built-in function format>: 102 < limit: 104\n",
            "DEBUG:ludwig.data.preprocessing:split train-val-test\n",
            "INFO:ludwig.data.preprocessing:Building dataset: DONE\n",
            "DEBUG:ludwig.data.preprocessing:cache processed data\n",
            "INFO:ludwig.data.cache.manager:Writing preprocessed training set cache to /content/drive/MyDrive/ImpDocs/Work/AICoach/Notebooks/data/1abd12ea8dda11eea88e0242ac1c000c.training.hdf5\n",
            "INFO:ludwig.data.cache.manager:Writing preprocessed validation set cache to /content/drive/MyDrive/ImpDocs/Work/AICoach/Notebooks/data/1abd12ea8dda11eea88e0242ac1c000c.validation.hdf5\n",
            "INFO:ludwig.data.cache.manager:Writing preprocessed test set cache to /content/drive/MyDrive/ImpDocs/Work/AICoach/Notebooks/data/1abd12ea8dda11eea88e0242ac1c000c.test.hdf5\n",
            "INFO:ludwig.data.cache.manager:Writing train set metadata to /content/drive/MyDrive/ImpDocs/Work/AICoach/Notebooks/data/1abd12ea8dda11eea88e0242ac1c000c.meta.json\n",
            "DEBUG:ludwig.data.preprocessing:create training dataset\n",
            "DEBUG:ludwig.data.preprocessing:create validation dataset\n",
            "DEBUG:ludwig.data.preprocessing:create test dataset\n",
            "INFO:ludwig.api:\n",
            "Dataset Statistics\n",
            "INFO:ludwig.api:╒════════════╤═══════════════╤════════════════════╕\n",
            "│ Dataset    │   Size (Rows) │ Size (In Memory)   │\n",
            "╞════════════╪═══════════════╪════════════════════╡\n",
            "│ Training   │           108 │ 25.44 Kb           │\n",
            "├────────────┼───────────────┼────────────────────┤\n",
            "│ Validation │            15 │ 3.64 Kb            │\n",
            "├────────────┼───────────────┼────────────────────┤\n",
            "│ Test       │            30 │ 7.16 Kb            │\n",
            "╘════════════╧═══════════════╧════════════════════╛\n",
            "INFO:ludwig.utils.print_utils:\n",
            "INFO:ludwig.utils.print_utils:╒═══════╕\n",
            "INFO:ludwig.utils.print_utils:│ MODEL │\n",
            "INFO:ludwig.utils.print_utils:╘═══════╛\n",
            "INFO:ludwig.utils.print_utils:\n",
            "INFO:ludwig.api:Warnings and other logs:\n",
            "INFO:ludwig.models.llm:Loading large language model...\n"
          ]
        },
        {
          "output_type": "display_data",
          "data": {
            "text/plain": [
              "model.safetensors.index.json:   0%|          | 0.00/26.8k [00:00<?, ?B/s]"
            ],
            "application/vnd.jupyter.widget-view+json": {
              "version_major": 2,
              "version_minor": 0,
              "model_id": "e4ee92296127461993dbeff7e86fbf2d"
            }
          },
          "metadata": {}
        },
        {
          "output_type": "display_data",
          "data": {
            "text/plain": [
              "Downloading shards:   0%|          | 0/2 [00:00<?, ?it/s]"
            ],
            "application/vnd.jupyter.widget-view+json": {
              "version_major": 2,
              "version_minor": 0,
              "model_id": "c0fe6d03d6054c15a4c738a8633ccb7b"
            }
          },
          "metadata": {}
        },
        {
          "output_type": "display_data",
          "data": {
            "text/plain": [
              "model-00001-of-00002.safetensors:   0%|          | 0.00/9.98G [00:00<?, ?B/s]"
            ],
            "application/vnd.jupyter.widget-view+json": {
              "version_major": 2,
              "version_minor": 0,
              "model_id": "78c6279be7f540ab8cc89d1767562876"
            }
          },
          "metadata": {}
        },
        {
          "output_type": "display_data",
          "data": {
            "text/plain": [
              "model-00002-of-00002.safetensors:   0%|          | 0.00/3.50G [00:00<?, ?B/s]"
            ],
            "application/vnd.jupyter.widget-view+json": {
              "version_major": 2,
              "version_minor": 0,
              "model_id": "e311846f52d74608a2f06970efc96436"
            }
          },
          "metadata": {}
        },
        {
          "output_type": "display_data",
          "data": {
            "text/plain": [
              "Loading checkpoint shards:   0%|          | 0/2 [00:00<?, ?it/s]"
            ],
            "application/vnd.jupyter.widget-view+json": {
              "version_major": 2,
              "version_minor": 0,
              "model_id": "2cc3a81575a041e2929d04eb5c29d06f"
            }
          },
          "metadata": {}
        },
        {
          "output_type": "display_data",
          "data": {
            "text/plain": [
              "generation_config.json:   0%|          | 0.00/188 [00:00<?, ?B/s]"
            ],
            "application/vnd.jupyter.widget-view+json": {
              "version_major": 2,
              "version_minor": 0,
              "model_id": "01a81df1e636440f9b6ef58449987690"
            }
          },
          "metadata": {}
        },
        {
          "output_type": "stream",
          "name": "stderr",
          "text": [
            "INFO:ludwig.models.llm:Done.\n",
            "DEBUG:ludwig.models.base:Input text feature Question\n",
            "DEBUG:ludwig.encoders.sequence_encoders: SequencePassthroughEncoder\n",
            "DEBUG:ludwig.models.base:Output text feature Answer\n",
            "DEBUG:ludwig.features.base_feature: output feature fully connected layers\n",
            "DEBUG:ludwig.features.base_feature:  FCStack\n",
            "INFO:ludwig.utils.tokenizers:Loaded HuggingFace implementation of meta-llama/Llama-2-7b-hf tokenizer\n",
            "WARNING:ludwig.utils.tokenizers:No padding token id found. Using eos_token as pad_token.\n",
            "INFO:ludwig.models.llm:==================================================\n",
            "INFO:ludwig.models.llm:Trainable Parameter Summary For Fine-Tuning\n",
            "INFO:ludwig.models.llm:Fine-tuning with adapter: lora\n",
            "INFO:ludwig.models.llm:==================================================\n",
            "INFO:ludwig.utils.print_utils:\n",
            "INFO:ludwig.utils.print_utils:╒══════════╕\n",
            "INFO:ludwig.utils.print_utils:│ TRAINING │\n",
            "INFO:ludwig.utils.print_utils:╘══════════╛\n",
            "INFO:ludwig.utils.print_utils:\n"
          ]
        },
        {
          "output_type": "stream",
          "name": "stdout",
          "text": [
            "trainable params: 4,194,304 || all params: 6,742,609,920 || trainable%: 0.06220594176090199\n"
          ]
        },
        {
          "output_type": "stream",
          "name": "stderr",
          "text": [
            "INFO:ludwig.trainers.trainer:Creating fresh model training run.\n",
            "INFO:ludwig.trainers.trainer:Training for 324 step(s), approximately 3 epoch(s).\n",
            "INFO:ludwig.trainers.trainer:Early stopping policy: 5 round(s) of evaluation, or 540 step(s), approximately 5 epoch(s).\n",
            "\n",
            "INFO:ludwig.trainers.trainer:Starting with step 0, epoch: 0\n"
          ]
        },
        {
          "output_type": "stream",
          "name": "stdout",
          "text": [
            "Training:   0%|          | 1/324 [00:03<21:02,  3.91s/it, loss=0.655]"
          ]
        },
        {
          "output_type": "stream",
          "name": "stderr",
          "text": [
            "DEBUG:ludwig.trainers.trainer:training: completed batch 1 memory used: 2931.25MB\n"
          ]
        },
        {
          "output_type": "stream",
          "name": "stdout",
          "text": [
            "Training:   1%|          | 2/324 [00:04<10:18,  1.92s/it, loss=0.424]"
          ]
        },
        {
          "output_type": "stream",
          "name": "stderr",
          "text": [
            "DEBUG:ludwig.trainers.trainer:training: completed batch 2 memory used: 2932.88MB\n"
          ]
        },
        {
          "output_type": "stream",
          "name": "stdout",
          "text": [
            "Training:   1%|          | 3/324 [00:04<06:49,  1.28s/it, loss=0.532]"
          ]
        },
        {
          "output_type": "stream",
          "name": "stderr",
          "text": [
            "DEBUG:ludwig.trainers.trainer:training: completed batch 3 memory used: 2932.88MB\n"
          ]
        },
        {
          "output_type": "stream",
          "name": "stdout",
          "text": [
            "Training:   1%|          | 4/324 [00:05<05:26,  1.02s/it, loss=0.265]"
          ]
        },
        {
          "output_type": "stream",
          "name": "stderr",
          "text": [
            "DEBUG:ludwig.trainers.trainer:training: completed batch 4 memory used: 2932.88MB\n"
          ]
        },
        {
          "output_type": "stream",
          "name": "stdout",
          "text": [
            "Training:   2%|▏         | 5/324 [00:06<04:40,  1.14it/s, loss=0.359]"
          ]
        },
        {
          "output_type": "stream",
          "name": "stderr",
          "text": [
            "DEBUG:ludwig.trainers.trainer:training: completed batch 5 memory used: 2933.26MB\n"
          ]
        },
        {
          "output_type": "stream",
          "name": "stdout",
          "text": [
            "Training:   2%|▏         | 6/324 [00:06<04:01,  1.32it/s, loss=0.382]"
          ]
        },
        {
          "output_type": "stream",
          "name": "stderr",
          "text": [
            "DEBUG:ludwig.trainers.trainer:training: completed batch 6 memory used: 2933.26MB\n"
          ]
        },
        {
          "output_type": "stream",
          "name": "stdout",
          "text": [
            "Training:   2%|▏         | 7/324 [00:07<03:35,  1.47it/s, loss=0.627]"
          ]
        },
        {
          "output_type": "stream",
          "name": "stderr",
          "text": [
            "DEBUG:ludwig.trainers.trainer:training: completed batch 7 memory used: 2933.26MB\n"
          ]
        },
        {
          "output_type": "stream",
          "name": "stdout",
          "text": [
            "Training:   2%|▏         | 8/324 [00:08<04:01,  1.31it/s, loss=0.474]"
          ]
        },
        {
          "output_type": "stream",
          "name": "stderr",
          "text": [
            "DEBUG:ludwig.trainers.trainer:training: completed batch 8 memory used: 2938.46MB\n"
          ]
        },
        {
          "output_type": "stream",
          "name": "stdout",
          "text": [
            "Training:   3%|▎         | 9/324 [00:08<03:36,  1.46it/s, loss=0.351]"
          ]
        },
        {
          "output_type": "stream",
          "name": "stderr",
          "text": [
            "DEBUG:ludwig.trainers.trainer:training: completed batch 9 memory used: 2938.46MB\n"
          ]
        },
        {
          "output_type": "stream",
          "name": "stdout",
          "text": [
            "Training:   3%|▎         | 10/324 [00:09<03:20,  1.57it/s, loss=0.5]"
          ]
        },
        {
          "output_type": "stream",
          "name": "stderr",
          "text": [
            "DEBUG:ludwig.trainers.trainer:training: completed batch 10 memory used: 2938.46MB\n"
          ]
        },
        {
          "output_type": "stream",
          "name": "stdout",
          "text": [
            "Training:   3%|▎         | 11/324 [00:09<03:12,  1.63it/s, loss=0.345]"
          ]
        },
        {
          "output_type": "stream",
          "name": "stderr",
          "text": [
            "DEBUG:ludwig.trainers.trainer:training: completed batch 11 memory used: 2938.46MB\n"
          ]
        },
        {
          "output_type": "stream",
          "name": "stdout",
          "text": [
            "Training:   4%|▎         | 12/324 [00:10<03:03,  1.70it/s, loss=0.374]"
          ]
        },
        {
          "output_type": "stream",
          "name": "stderr",
          "text": [
            "DEBUG:ludwig.trainers.trainer:training: completed batch 12 memory used: 2938.72MB\n"
          ]
        },
        {
          "output_type": "stream",
          "name": "stdout",
          "text": [
            "Training:   4%|▍         | 13/324 [00:10<02:58,  1.75it/s, loss=0.481]"
          ]
        },
        {
          "output_type": "stream",
          "name": "stderr",
          "text": [
            "DEBUG:ludwig.trainers.trainer:training: completed batch 13 memory used: 2938.72MB\n"
          ]
        },
        {
          "output_type": "stream",
          "name": "stdout",
          "text": [
            "Training:   4%|▍         | 14/324 [00:11<03:05,  1.67it/s, loss=0.35]"
          ]
        },
        {
          "output_type": "stream",
          "name": "stderr",
          "text": [
            "DEBUG:ludwig.trainers.trainer:training: completed batch 14 memory used: 2938.72MB\n"
          ]
        },
        {
          "output_type": "stream",
          "name": "stdout",
          "text": [
            "Training:   5%|▍         | 15/324 [00:12<02:59,  1.73it/s, loss=0.348]"
          ]
        },
        {
          "output_type": "stream",
          "name": "stderr",
          "text": [
            "DEBUG:ludwig.trainers.trainer:training: completed batch 15 memory used: 2938.72MB\n"
          ]
        },
        {
          "output_type": "stream",
          "name": "stdout",
          "text": [
            "Training:   5%|▍         | 16/324 [00:12<03:17,  1.56it/s, loss=0.305]"
          ]
        },
        {
          "output_type": "stream",
          "name": "stderr",
          "text": [
            "DEBUG:ludwig.trainers.trainer:training: completed batch 16 memory used: 2939.81MB\n"
          ]
        },
        {
          "output_type": "stream",
          "name": "stdout",
          "text": [
            "Training:   5%|▌         | 17/324 [00:13<03:07,  1.64it/s, loss=0.351]"
          ]
        },
        {
          "output_type": "stream",
          "name": "stderr",
          "text": [
            "DEBUG:ludwig.trainers.trainer:training: completed batch 17 memory used: 2939.81MB\n"
          ]
        },
        {
          "output_type": "stream",
          "name": "stdout",
          "text": [
            "Training:   6%|▌         | 18/324 [00:13<03:01,  1.69it/s, loss=0.36]"
          ]
        },
        {
          "output_type": "stream",
          "name": "stderr",
          "text": [
            "DEBUG:ludwig.trainers.trainer:training: completed batch 18 memory used: 2939.81MB\n"
          ]
        },
        {
          "output_type": "stream",
          "name": "stdout",
          "text": [
            "Training:   6%|▌         | 19/324 [00:14<02:56,  1.73it/s, loss=0.424]"
          ]
        },
        {
          "output_type": "stream",
          "name": "stderr",
          "text": [
            "DEBUG:ludwig.trainers.trainer:training: completed batch 19 memory used: 2939.81MB\n"
          ]
        },
        {
          "output_type": "stream",
          "name": "stdout",
          "text": [
            "Training:   6%|▌         | 20/324 [00:15<02:53,  1.75it/s, loss=0.275]"
          ]
        },
        {
          "output_type": "stream",
          "name": "stderr",
          "text": [
            "DEBUG:ludwig.trainers.trainer:training: completed batch 20 memory used: 2939.81MB\n"
          ]
        },
        {
          "output_type": "stream",
          "name": "stdout",
          "text": [
            "Training:   6%|▋         | 21/324 [00:15<02:51,  1.77it/s, loss=0.358]"
          ]
        },
        {
          "output_type": "stream",
          "name": "stderr",
          "text": [
            "DEBUG:ludwig.trainers.trainer:training: completed batch 21 memory used: 2939.81MB\n"
          ]
        },
        {
          "output_type": "stream",
          "name": "stdout",
          "text": [
            "Training:   7%|▋         | 22/324 [00:16<02:48,  1.80it/s, loss=0.558]"
          ]
        },
        {
          "output_type": "stream",
          "name": "stderr",
          "text": [
            "DEBUG:ludwig.trainers.trainer:training: completed batch 22 memory used: 2939.81MB\n"
          ]
        },
        {
          "output_type": "stream",
          "name": "stdout",
          "text": [
            "Training:   7%|▋         | 23/324 [00:16<02:48,  1.79it/s, loss=0.293]"
          ]
        },
        {
          "output_type": "stream",
          "name": "stderr",
          "text": [
            "DEBUG:ludwig.trainers.trainer:training: completed batch 23 memory used: 2939.81MB\n"
          ]
        },
        {
          "output_type": "stream",
          "name": "stdout",
          "text": [
            "Training:   7%|▋         | 24/324 [00:17<02:52,  1.74it/s, loss=0.36]"
          ]
        },
        {
          "output_type": "stream",
          "name": "stderr",
          "text": [
            "DEBUG:ludwig.trainers.trainer:training: completed batch 24 memory used: 2939.81MB\n"
          ]
        },
        {
          "output_type": "stream",
          "name": "stdout",
          "text": [
            "Training:   8%|▊         | 25/324 [00:17<02:46,  1.79it/s, loss=0.28]"
          ]
        },
        {
          "output_type": "stream",
          "name": "stderr",
          "text": [
            "DEBUG:ludwig.trainers.trainer:training: completed batch 25 memory used: 2939.81MB\n"
          ]
        },
        {
          "output_type": "stream",
          "name": "stdout",
          "text": [
            "Training:   8%|▊         | 26/324 [00:18<02:43,  1.82it/s, loss=0.473]"
          ]
        },
        {
          "output_type": "stream",
          "name": "stderr",
          "text": [
            "DEBUG:ludwig.trainers.trainer:training: completed batch 26 memory used: 2939.81MB\n"
          ]
        },
        {
          "output_type": "stream",
          "name": "stdout",
          "text": [
            "Training:   8%|▊         | 27/324 [00:18<02:41,  1.84it/s, loss=0.308]"
          ]
        },
        {
          "output_type": "stream",
          "name": "stderr",
          "text": [
            "DEBUG:ludwig.trainers.trainer:training: completed batch 27 memory used: 2939.81MB\n"
          ]
        },
        {
          "output_type": "stream",
          "name": "stdout",
          "text": [
            "Training:   9%|▊         | 28/324 [00:19<02:42,  1.82it/s, loss=0.297]"
          ]
        },
        {
          "output_type": "stream",
          "name": "stderr",
          "text": [
            "DEBUG:ludwig.trainers.trainer:training: completed batch 28 memory used: 2939.81MB\n"
          ]
        },
        {
          "output_type": "stream",
          "name": "stdout",
          "text": [
            "Training:   9%|▉         | 29/324 [00:19<02:42,  1.81it/s, loss=0.302]"
          ]
        },
        {
          "output_type": "stream",
          "name": "stderr",
          "text": [
            "DEBUG:ludwig.trainers.trainer:training: completed batch 29 memory used: 2940.97MB\n"
          ]
        },
        {
          "output_type": "stream",
          "name": "stdout",
          "text": [
            "Training:   9%|▉         | 30/324 [00:20<02:41,  1.82it/s, loss=0.317]"
          ]
        },
        {
          "output_type": "stream",
          "name": "stderr",
          "text": [
            "DEBUG:ludwig.trainers.trainer:training: completed batch 30 memory used: 2940.97MB\n"
          ]
        },
        {
          "output_type": "stream",
          "name": "stdout",
          "text": [
            "Training:  10%|▉         | 31/324 [00:21<02:41,  1.82it/s, loss=0.345]"
          ]
        },
        {
          "output_type": "stream",
          "name": "stderr",
          "text": [
            "DEBUG:ludwig.trainers.trainer:training: completed batch 31 memory used: 2940.97MB\n"
          ]
        },
        {
          "output_type": "stream",
          "name": "stdout",
          "text": [
            "Training:  10%|▉         | 32/324 [00:21<02:46,  1.75it/s, loss=0.315]"
          ]
        },
        {
          "output_type": "stream",
          "name": "stderr",
          "text": [
            "DEBUG:ludwig.trainers.trainer:training: completed batch 32 memory used: 2941.51MB\n"
          ]
        },
        {
          "output_type": "stream",
          "name": "stdout",
          "text": [
            "Training:  10%|█         | 33/324 [00:22<02:45,  1.75it/s, loss=0.251]"
          ]
        },
        {
          "output_type": "stream",
          "name": "stderr",
          "text": [
            "DEBUG:ludwig.trainers.trainer:training: completed batch 33 memory used: 2941.51MB\n"
          ]
        },
        {
          "output_type": "stream",
          "name": "stdout",
          "text": [
            "Training:  10%|█         | 34/324 [00:22<02:52,  1.68it/s, loss=0.307]"
          ]
        },
        {
          "output_type": "stream",
          "name": "stderr",
          "text": [
            "DEBUG:ludwig.trainers.trainer:training: completed batch 34 memory used: 2941.51MB\n"
          ]
        },
        {
          "output_type": "stream",
          "name": "stdout",
          "text": [
            "Training:  11%|█         | 35/324 [00:23<02:45,  1.75it/s, loss=0.306]"
          ]
        },
        {
          "output_type": "stream",
          "name": "stderr",
          "text": [
            "DEBUG:ludwig.trainers.trainer:training: completed batch 35 memory used: 2941.51MB\n"
          ]
        },
        {
          "output_type": "stream",
          "name": "stdout",
          "text": [
            "Training:  11%|█         | 36/324 [00:24<02:43,  1.76it/s, loss=0.221]"
          ]
        },
        {
          "output_type": "stream",
          "name": "stderr",
          "text": [
            "DEBUG:ludwig.trainers.trainer:training: completed batch 36 memory used: 2941.51MB\n"
          ]
        },
        {
          "output_type": "stream",
          "name": "stdout",
          "text": [
            "Training:  11%|█▏        | 37/324 [00:24<02:51,  1.68it/s, loss=0.18]"
          ]
        },
        {
          "output_type": "stream",
          "name": "stderr",
          "text": [
            "DEBUG:ludwig.trainers.trainer:training: completed batch 37 memory used: 2941.51MB\n"
          ]
        },
        {
          "output_type": "stream",
          "name": "stdout",
          "text": [
            "Training:  12%|█▏        | 38/324 [00:25<02:46,  1.71it/s, loss=0.247]"
          ]
        },
        {
          "output_type": "stream",
          "name": "stderr",
          "text": [
            "DEBUG:ludwig.trainers.trainer:training: completed batch 38 memory used: 2941.51MB\n"
          ]
        },
        {
          "output_type": "stream",
          "name": "stdout",
          "text": [
            "Training:  12%|█▏        | 39/324 [00:25<02:41,  1.77it/s, loss=1.16]"
          ]
        },
        {
          "output_type": "stream",
          "name": "stderr",
          "text": [
            "DEBUG:ludwig.trainers.trainer:training: completed batch 39 memory used: 2941.51MB\n"
          ]
        },
        {
          "output_type": "stream",
          "name": "stdout",
          "text": [
            "Training:  12%|█▏        | 40/324 [00:26<03:01,  1.57it/s, loss=0.143]"
          ]
        },
        {
          "output_type": "stream",
          "name": "stderr",
          "text": [
            "DEBUG:ludwig.trainers.trainer:training: completed batch 40 memory used: 2943.39MB\n"
          ]
        },
        {
          "output_type": "stream",
          "name": "stdout",
          "text": [
            "Training:  13%|█▎        | 41/324 [00:27<03:01,  1.56it/s, loss=0.229]"
          ]
        },
        {
          "output_type": "stream",
          "name": "stderr",
          "text": [
            "DEBUG:ludwig.trainers.trainer:training: completed batch 41 memory used: 2943.39MB\n"
          ]
        },
        {
          "output_type": "stream",
          "name": "stdout",
          "text": [
            "Training:  13%|█▎        | 42/324 [00:27<03:06,  1.51it/s, loss=0.198]"
          ]
        },
        {
          "output_type": "stream",
          "name": "stderr",
          "text": [
            "DEBUG:ludwig.trainers.trainer:training: completed batch 42 memory used: 2943.39MB\n"
          ]
        },
        {
          "output_type": "stream",
          "name": "stdout",
          "text": [
            "Training:  13%|█▎        | 43/324 [00:28<02:55,  1.60it/s, loss=0.655]"
          ]
        },
        {
          "output_type": "stream",
          "name": "stderr",
          "text": [
            "DEBUG:ludwig.trainers.trainer:training: completed batch 43 memory used: 2943.39MB\n"
          ]
        },
        {
          "output_type": "stream",
          "name": "stdout",
          "text": [
            "Training:  14%|█▎        | 44/324 [00:28<02:46,  1.68it/s, loss=0.443]"
          ]
        },
        {
          "output_type": "stream",
          "name": "stderr",
          "text": [
            "DEBUG:ludwig.trainers.trainer:training: completed batch 44 memory used: 2943.39MB\n"
          ]
        },
        {
          "output_type": "stream",
          "name": "stdout",
          "text": [
            "Training:  14%|█▍        | 45/324 [00:29<02:51,  1.62it/s, loss=0.23]"
          ]
        },
        {
          "output_type": "stream",
          "name": "stderr",
          "text": [
            "DEBUG:ludwig.trainers.trainer:training: completed batch 45 memory used: 2943.39MB\n"
          ]
        },
        {
          "output_type": "stream",
          "name": "stdout",
          "text": [
            "Training:  14%|█▍        | 46/324 [00:30<02:55,  1.58it/s, loss=0.231]"
          ]
        },
        {
          "output_type": "stream",
          "name": "stderr",
          "text": [
            "DEBUG:ludwig.trainers.trainer:training: completed batch 46 memory used: 2943.39MB\n"
          ]
        },
        {
          "output_type": "stream",
          "name": "stdout",
          "text": [
            "Training:  15%|█▍        | 47/324 [00:30<02:44,  1.68it/s, loss=0.71]"
          ]
        },
        {
          "output_type": "stream",
          "name": "stderr",
          "text": [
            "DEBUG:ludwig.trainers.trainer:training: completed batch 47 memory used: 2943.39MB\n"
          ]
        },
        {
          "output_type": "stream",
          "name": "stdout",
          "text": [
            "Training:  15%|█▍        | 48/324 [00:31<02:42,  1.69it/s, loss=0.339]"
          ]
        },
        {
          "output_type": "stream",
          "name": "stderr",
          "text": [
            "DEBUG:ludwig.trainers.trainer:training: completed batch 48 memory used: 2943.39MB\n"
          ]
        },
        {
          "output_type": "stream",
          "name": "stdout",
          "text": [
            "Training:  15%|█▌        | 49/324 [00:31<02:41,  1.71it/s, loss=0.169]"
          ]
        },
        {
          "output_type": "stream",
          "name": "stderr",
          "text": [
            "DEBUG:ludwig.trainers.trainer:training: completed batch 49 memory used: 2943.39MB\n"
          ]
        },
        {
          "output_type": "stream",
          "name": "stdout",
          "text": [
            "Training:  15%|█▌        | 50/324 [00:32<02:35,  1.76it/s, loss=0.301]"
          ]
        },
        {
          "output_type": "stream",
          "name": "stderr",
          "text": [
            "DEBUG:ludwig.trainers.trainer:training: completed batch 50 memory used: 2943.39MB\n"
          ]
        },
        {
          "output_type": "stream",
          "name": "stdout",
          "text": [
            "Training:  16%|█▌        | 51/324 [00:33<02:32,  1.79it/s, loss=0.282]"
          ]
        },
        {
          "output_type": "stream",
          "name": "stderr",
          "text": [
            "DEBUG:ludwig.trainers.trainer:training: completed batch 51 memory used: 2943.39MB\n"
          ]
        },
        {
          "output_type": "stream",
          "name": "stdout",
          "text": [
            "Training:  16%|█▌        | 52/324 [00:33<02:30,  1.80it/s, loss=0.316]"
          ]
        },
        {
          "output_type": "stream",
          "name": "stderr",
          "text": [
            "DEBUG:ludwig.trainers.trainer:training: completed batch 52 memory used: 2943.39MB\n"
          ]
        },
        {
          "output_type": "stream",
          "name": "stdout",
          "text": [
            "Training:  16%|█▋        | 53/324 [00:34<02:29,  1.82it/s, loss=0.349]"
          ]
        },
        {
          "output_type": "stream",
          "name": "stderr",
          "text": [
            "DEBUG:ludwig.trainers.trainer:training: completed batch 53 memory used: 2943.39MB\n"
          ]
        },
        {
          "output_type": "stream",
          "name": "stdout",
          "text": [
            "Training:  17%|█▋        | 54/324 [00:34<02:30,  1.80it/s, loss=0.283]"
          ]
        },
        {
          "output_type": "stream",
          "name": "stderr",
          "text": [
            "DEBUG:ludwig.trainers.trainer:training: completed batch 54 memory used: 2943.39MB\n"
          ]
        },
        {
          "output_type": "stream",
          "name": "stdout",
          "text": [
            "Training:  17%|█▋        | 55/324 [00:35<02:36,  1.71it/s, loss=0.215]"
          ]
        },
        {
          "output_type": "stream",
          "name": "stderr",
          "text": [
            "DEBUG:ludwig.trainers.trainer:training: completed batch 55 memory used: 2943.39MB\n"
          ]
        },
        {
          "output_type": "stream",
          "name": "stdout",
          "text": [
            "Training:  17%|█▋        | 56/324 [00:35<02:36,  1.71it/s, loss=0.264]"
          ]
        },
        {
          "output_type": "stream",
          "name": "stderr",
          "text": [
            "DEBUG:ludwig.trainers.trainer:training: completed batch 56 memory used: 2943.39MB\n"
          ]
        },
        {
          "output_type": "stream",
          "name": "stdout",
          "text": [
            "Training:  18%|█▊        | 57/324 [00:36<02:41,  1.65it/s, loss=0.244]"
          ]
        },
        {
          "output_type": "stream",
          "name": "stderr",
          "text": [
            "DEBUG:ludwig.trainers.trainer:training: completed batch 57 memory used: 2943.39MB\n"
          ]
        },
        {
          "output_type": "stream",
          "name": "stdout",
          "text": [
            "Training:  18%|█▊        | 58/324 [00:37<02:35,  1.71it/s, loss=0.23]"
          ]
        },
        {
          "output_type": "stream",
          "name": "stderr",
          "text": [
            "DEBUG:ludwig.trainers.trainer:training: completed batch 58 memory used: 2943.39MB\n"
          ]
        },
        {
          "output_type": "stream",
          "name": "stdout",
          "text": [
            "Training:  18%|█▊        | 59/324 [00:37<02:42,  1.63it/s, loss=0.15]"
          ]
        },
        {
          "output_type": "stream",
          "name": "stderr",
          "text": [
            "DEBUG:ludwig.trainers.trainer:training: completed batch 59 memory used: 2943.39MB\n"
          ]
        },
        {
          "output_type": "stream",
          "name": "stdout",
          "text": [
            "Training:  19%|█▊        | 60/324 [00:38<02:35,  1.69it/s, loss=0.303]"
          ]
        },
        {
          "output_type": "stream",
          "name": "stderr",
          "text": [
            "DEBUG:ludwig.trainers.trainer:training: completed batch 60 memory used: 2943.39MB\n"
          ]
        },
        {
          "output_type": "stream",
          "name": "stdout",
          "text": [
            "Training:  19%|█▉        | 61/324 [00:38<02:33,  1.72it/s, loss=0.22]"
          ]
        },
        {
          "output_type": "stream",
          "name": "stderr",
          "text": [
            "DEBUG:ludwig.trainers.trainer:training: completed batch 61 memory used: 2943.39MB\n"
          ]
        },
        {
          "output_type": "stream",
          "name": "stdout",
          "text": [
            "Training:  19%|█▉        | 62/324 [00:39<02:29,  1.76it/s, loss=0.331]"
          ]
        },
        {
          "output_type": "stream",
          "name": "stderr",
          "text": [
            "DEBUG:ludwig.trainers.trainer:training: completed batch 62 memory used: 2943.39MB\n"
          ]
        },
        {
          "output_type": "stream",
          "name": "stdout",
          "text": [
            "Training:  19%|█▉        | 63/324 [00:39<02:25,  1.80it/s, loss=0.245]"
          ]
        },
        {
          "output_type": "stream",
          "name": "stderr",
          "text": [
            "DEBUG:ludwig.trainers.trainer:training: completed batch 63 memory used: 2943.39MB\n"
          ]
        },
        {
          "output_type": "stream",
          "name": "stdout",
          "text": [
            "Training:  20%|█▉        | 64/324 [00:40<02:24,  1.79it/s, loss=0.372]"
          ]
        },
        {
          "output_type": "stream",
          "name": "stderr",
          "text": [
            "DEBUG:ludwig.trainers.trainer:training: completed batch 64 memory used: 2943.39MB\n"
          ]
        },
        {
          "output_type": "stream",
          "name": "stdout",
          "text": [
            "Training:  20%|██        | 65/324 [00:41<02:23,  1.80it/s, loss=0.337]"
          ]
        },
        {
          "output_type": "stream",
          "name": "stderr",
          "text": [
            "DEBUG:ludwig.trainers.trainer:training: completed batch 65 memory used: 2943.39MB\n"
          ]
        },
        {
          "output_type": "stream",
          "name": "stdout",
          "text": [
            "Training:  20%|██        | 66/324 [00:41<02:22,  1.82it/s, loss=0.307]"
          ]
        },
        {
          "output_type": "stream",
          "name": "stderr",
          "text": [
            "DEBUG:ludwig.trainers.trainer:training: completed batch 66 memory used: 2943.39MB\n"
          ]
        },
        {
          "output_type": "stream",
          "name": "stdout",
          "text": [
            "Training:  21%|██        | 67/324 [00:42<02:29,  1.72it/s, loss=0.218]"
          ]
        },
        {
          "output_type": "stream",
          "name": "stderr",
          "text": [
            "DEBUG:ludwig.trainers.trainer:training: completed batch 67 memory used: 2943.39MB\n"
          ]
        },
        {
          "output_type": "stream",
          "name": "stdout",
          "text": [
            "Training:  21%|██        | 68/324 [00:42<02:25,  1.76it/s, loss=0.326]"
          ]
        },
        {
          "output_type": "stream",
          "name": "stderr",
          "text": [
            "DEBUG:ludwig.trainers.trainer:training: completed batch 68 memory used: 2943.39MB\n"
          ]
        },
        {
          "output_type": "stream",
          "name": "stdout",
          "text": [
            "Training:  21%|██▏       | 69/324 [00:43<02:22,  1.78it/s, loss=0.388]"
          ]
        },
        {
          "output_type": "stream",
          "name": "stderr",
          "text": [
            "DEBUG:ludwig.trainers.trainer:training: completed batch 69 memory used: 2943.39MB\n"
          ]
        },
        {
          "output_type": "stream",
          "name": "stdout",
          "text": [
            "Training:  22%|██▏       | 70/324 [00:43<02:29,  1.70it/s, loss=0.26]"
          ]
        },
        {
          "output_type": "stream",
          "name": "stderr",
          "text": [
            "DEBUG:ludwig.trainers.trainer:training: completed batch 70 memory used: 2943.39MB\n"
          ]
        },
        {
          "output_type": "stream",
          "name": "stdout",
          "text": [
            "Training:  22%|██▏       | 71/324 [00:44<02:26,  1.72it/s, loss=0.385]"
          ]
        },
        {
          "output_type": "stream",
          "name": "stderr",
          "text": [
            "DEBUG:ludwig.trainers.trainer:training: completed batch 71 memory used: 2943.39MB\n"
          ]
        },
        {
          "output_type": "stream",
          "name": "stdout",
          "text": [
            "Training:  22%|██▏       | 72/324 [00:45<02:57,  1.42it/s, loss=0.228]"
          ]
        },
        {
          "output_type": "stream",
          "name": "stderr",
          "text": [
            "DEBUG:ludwig.trainers.trainer:training: completed batch 72 memory used: 2943.79MB\n"
          ]
        },
        {
          "output_type": "stream",
          "name": "stdout",
          "text": [
            "Training:  23%|██▎       | 73/324 [00:46<02:43,  1.53it/s, loss=0.374]"
          ]
        },
        {
          "output_type": "stream",
          "name": "stderr",
          "text": [
            "DEBUG:ludwig.trainers.trainer:training: completed batch 73 memory used: 2943.79MB\n"
          ]
        },
        {
          "output_type": "stream",
          "name": "stdout",
          "text": [
            "Training:  23%|██▎       | 74/324 [00:46<02:37,  1.59it/s, loss=0.284]"
          ]
        },
        {
          "output_type": "stream",
          "name": "stderr",
          "text": [
            "DEBUG:ludwig.trainers.trainer:training: completed batch 74 memory used: 2943.79MB\n"
          ]
        },
        {
          "output_type": "stream",
          "name": "stdout",
          "text": [
            "Training:  23%|██▎       | 75/324 [00:47<02:32,  1.63it/s, loss=0.219]"
          ]
        },
        {
          "output_type": "stream",
          "name": "stderr",
          "text": [
            "DEBUG:ludwig.trainers.trainer:training: completed batch 75 memory used: 2943.79MB\n"
          ]
        },
        {
          "output_type": "stream",
          "name": "stdout",
          "text": [
            "Training:  23%|██▎       | 76/324 [00:47<02:26,  1.69it/s, loss=0.358]"
          ]
        },
        {
          "output_type": "stream",
          "name": "stderr",
          "text": [
            "DEBUG:ludwig.trainers.trainer:training: completed batch 76 memory used: 2943.79MB\n"
          ]
        },
        {
          "output_type": "stream",
          "name": "stdout",
          "text": [
            "Training:  24%|██▍       | 77/324 [00:48<02:33,  1.61it/s, loss=0.296]"
          ]
        },
        {
          "output_type": "stream",
          "name": "stderr",
          "text": [
            "DEBUG:ludwig.trainers.trainer:training: completed batch 77 memory used: 2943.79MB\n"
          ]
        },
        {
          "output_type": "stream",
          "name": "stdout",
          "text": [
            "Training:  24%|██▍       | 78/324 [00:49<02:28,  1.65it/s, loss=0.286]"
          ]
        },
        {
          "output_type": "stream",
          "name": "stderr",
          "text": [
            "DEBUG:ludwig.trainers.trainer:training: completed batch 78 memory used: 2943.79MB\n"
          ]
        },
        {
          "output_type": "stream",
          "name": "stdout",
          "text": [
            "Training:  24%|██▍       | 79/324 [00:49<02:24,  1.69it/s, loss=0.393]"
          ]
        },
        {
          "output_type": "stream",
          "name": "stderr",
          "text": [
            "DEBUG:ludwig.trainers.trainer:training: completed batch 79 memory used: 2943.79MB\n"
          ]
        },
        {
          "output_type": "stream",
          "name": "stdout",
          "text": [
            "Training:  25%|██▍       | 80/324 [00:50<02:24,  1.69it/s, loss=0.316]"
          ]
        },
        {
          "output_type": "stream",
          "name": "stderr",
          "text": [
            "DEBUG:ludwig.trainers.trainer:training: completed batch 80 memory used: 2943.79MB\n"
          ]
        },
        {
          "output_type": "stream",
          "name": "stdout",
          "text": [
            "Training:  25%|██▌       | 81/324 [00:50<02:29,  1.63it/s, loss=0.134]"
          ]
        },
        {
          "output_type": "stream",
          "name": "stderr",
          "text": [
            "DEBUG:ludwig.trainers.trainer:training: completed batch 81 memory used: 2943.79MB\n"
          ]
        },
        {
          "output_type": "stream",
          "name": "stdout",
          "text": [
            "Training:  25%|██▌       | 82/324 [00:51<02:33,  1.58it/s, loss=0.326]"
          ]
        },
        {
          "output_type": "stream",
          "name": "stderr",
          "text": [
            "DEBUG:ludwig.trainers.trainer:training: completed batch 82 memory used: 2943.79MB\n"
          ]
        },
        {
          "output_type": "stream",
          "name": "stdout",
          "text": [
            "Training:  26%|██▌       | 83/324 [00:52<02:27,  1.64it/s, loss=0.347]"
          ]
        },
        {
          "output_type": "stream",
          "name": "stderr",
          "text": [
            "DEBUG:ludwig.trainers.trainer:training: completed batch 83 memory used: 2943.79MB\n"
          ]
        },
        {
          "output_type": "stream",
          "name": "stdout",
          "text": [
            "Training:  26%|██▌       | 84/324 [00:52<02:24,  1.66it/s, loss=0.251]"
          ]
        },
        {
          "output_type": "stream",
          "name": "stderr",
          "text": [
            "DEBUG:ludwig.trainers.trainer:training: completed batch 84 memory used: 2943.79MB\n"
          ]
        },
        {
          "output_type": "stream",
          "name": "stdout",
          "text": [
            "Training:  26%|██▌       | 85/324 [00:53<02:20,  1.70it/s, loss=0.3]"
          ]
        },
        {
          "output_type": "stream",
          "name": "stderr",
          "text": [
            "DEBUG:ludwig.trainers.trainer:training: completed batch 85 memory used: 2943.79MB\n"
          ]
        },
        {
          "output_type": "stream",
          "name": "stdout",
          "text": [
            "Training:  27%|██▋       | 86/324 [00:53<02:16,  1.74it/s, loss=0.198]"
          ]
        },
        {
          "output_type": "stream",
          "name": "stderr",
          "text": [
            "DEBUG:ludwig.trainers.trainer:training: completed batch 86 memory used: 2943.79MB\n"
          ]
        },
        {
          "output_type": "stream",
          "name": "stdout",
          "text": [
            "Training:  27%|██▋       | 87/324 [00:54<02:15,  1.75it/s, loss=0.202]"
          ]
        },
        {
          "output_type": "stream",
          "name": "stderr",
          "text": [
            "DEBUG:ludwig.trainers.trainer:training: completed batch 87 memory used: 2943.79MB\n"
          ]
        },
        {
          "output_type": "stream",
          "name": "stdout",
          "text": [
            "Training:  27%|██▋       | 88/324 [00:54<02:15,  1.75it/s, loss=0.372]"
          ]
        },
        {
          "output_type": "stream",
          "name": "stderr",
          "text": [
            "DEBUG:ludwig.trainers.trainer:training: completed batch 88 memory used: 2943.79MB\n"
          ]
        },
        {
          "output_type": "stream",
          "name": "stdout",
          "text": [
            "Training:  27%|██▋       | 89/324 [00:55<02:15,  1.74it/s, loss=0.228]"
          ]
        },
        {
          "output_type": "stream",
          "name": "stderr",
          "text": [
            "DEBUG:ludwig.trainers.trainer:training: completed batch 89 memory used: 2943.79MB\n"
          ]
        },
        {
          "output_type": "stream",
          "name": "stdout",
          "text": [
            "Training:  28%|██▊       | 90/324 [00:56<02:14,  1.74it/s, loss=0.253]"
          ]
        },
        {
          "output_type": "stream",
          "name": "stderr",
          "text": [
            "DEBUG:ludwig.trainers.trainer:training: completed batch 90 memory used: 2943.79MB\n"
          ]
        },
        {
          "output_type": "stream",
          "name": "stdout",
          "text": [
            "Training:  28%|██▊       | 91/324 [00:56<02:11,  1.77it/s, loss=0.18]"
          ]
        },
        {
          "output_type": "stream",
          "name": "stderr",
          "text": [
            "DEBUG:ludwig.trainers.trainer:training: completed batch 91 memory used: 2943.79MB\n"
          ]
        },
        {
          "output_type": "stream",
          "name": "stdout",
          "text": [
            "Training:  28%|██▊       | 92/324 [00:57<02:19,  1.66it/s, loss=0.211]"
          ]
        },
        {
          "output_type": "stream",
          "name": "stderr",
          "text": [
            "DEBUG:ludwig.trainers.trainer:training: completed batch 92 memory used: 2943.79MB\n"
          ]
        },
        {
          "output_type": "stream",
          "name": "stdout",
          "text": [
            "Training:  29%|██▊       | 93/324 [00:57<02:23,  1.61it/s, loss=0.299]"
          ]
        },
        {
          "output_type": "stream",
          "name": "stderr",
          "text": [
            "DEBUG:ludwig.trainers.trainer:training: completed batch 93 memory used: 2943.79MB\n"
          ]
        },
        {
          "output_type": "stream",
          "name": "stdout",
          "text": [
            "Training:  29%|██▉       | 94/324 [00:58<02:18,  1.66it/s, loss=0.32]"
          ]
        },
        {
          "output_type": "stream",
          "name": "stderr",
          "text": [
            "DEBUG:ludwig.trainers.trainer:training: completed batch 94 memory used: 2943.79MB\n"
          ]
        },
        {
          "output_type": "stream",
          "name": "stdout",
          "text": [
            "Training:  29%|██▉       | 95/324 [00:59<02:24,  1.59it/s, loss=0.31]"
          ]
        },
        {
          "output_type": "stream",
          "name": "stderr",
          "text": [
            "DEBUG:ludwig.trainers.trainer:training: completed batch 95 memory used: 2943.79MB\n"
          ]
        },
        {
          "output_type": "stream",
          "name": "stdout",
          "text": [
            "Training:  30%|██▉       | 96/324 [00:59<02:24,  1.57it/s, loss=0.264]"
          ]
        },
        {
          "output_type": "stream",
          "name": "stderr",
          "text": [
            "DEBUG:ludwig.trainers.trainer:training: completed batch 96 memory used: 2943.79MB\n"
          ]
        },
        {
          "output_type": "stream",
          "name": "stdout",
          "text": [
            "Training:  30%|██▉       | 97/324 [01:00<02:20,  1.62it/s, loss=0.313]"
          ]
        },
        {
          "output_type": "stream",
          "name": "stderr",
          "text": [
            "DEBUG:ludwig.trainers.trainer:training: completed batch 97 memory used: 2943.79MB\n"
          ]
        },
        {
          "output_type": "stream",
          "name": "stdout",
          "text": [
            "Training:  30%|███       | 98/324 [01:00<02:15,  1.67it/s, loss=0.25]"
          ]
        },
        {
          "output_type": "stream",
          "name": "stderr",
          "text": [
            "DEBUG:ludwig.trainers.trainer:training: completed batch 98 memory used: 2943.79MB\n"
          ]
        },
        {
          "output_type": "stream",
          "name": "stdout",
          "text": [
            "Training:  31%|███       | 99/324 [01:01<02:12,  1.70it/s, loss=0.373]"
          ]
        },
        {
          "output_type": "stream",
          "name": "stderr",
          "text": [
            "DEBUG:ludwig.trainers.trainer:training: completed batch 99 memory used: 2943.79MB\n"
          ]
        },
        {
          "output_type": "stream",
          "name": "stdout",
          "text": [
            "Training:  31%|███       | 100/324 [01:02<02:10,  1.71it/s, loss=0.245]"
          ]
        },
        {
          "output_type": "stream",
          "name": "stderr",
          "text": [
            "DEBUG:ludwig.trainers.trainer:training: completed batch 100 memory used: 2943.79MB\n"
          ]
        },
        {
          "output_type": "stream",
          "name": "stdout",
          "text": [
            "Training:  31%|███       | 101/324 [01:02<02:07,  1.74it/s, loss=0.328]"
          ]
        },
        {
          "output_type": "stream",
          "name": "stderr",
          "text": [
            "DEBUG:ludwig.trainers.trainer:training: completed batch 101 memory used: 2943.79MB\n"
          ]
        },
        {
          "output_type": "stream",
          "name": "stdout",
          "text": [
            "Training:  31%|███▏      | 102/324 [01:03<02:06,  1.75it/s, loss=0.254]"
          ]
        },
        {
          "output_type": "stream",
          "name": "stderr",
          "text": [
            "DEBUG:ludwig.trainers.trainer:training: completed batch 102 memory used: 2943.79MB\n"
          ]
        },
        {
          "output_type": "stream",
          "name": "stdout",
          "text": [
            "Training:  32%|███▏      | 103/324 [01:03<02:06,  1.75it/s, loss=0.128]"
          ]
        },
        {
          "output_type": "stream",
          "name": "stderr",
          "text": [
            "DEBUG:ludwig.trainers.trainer:training: completed batch 103 memory used: 2943.79MB\n"
          ]
        },
        {
          "output_type": "stream",
          "name": "stdout",
          "text": [
            "Training:  32%|███▏      | 104/324 [01:04<02:16,  1.61it/s, loss=0.192]"
          ]
        },
        {
          "output_type": "stream",
          "name": "stderr",
          "text": [
            "DEBUG:ludwig.trainers.trainer:training: completed batch 104 memory used: 2943.79MB\n"
          ]
        },
        {
          "output_type": "stream",
          "name": "stdout",
          "text": [
            "Training:  32%|███▏      | 105/324 [01:05<02:12,  1.65it/s, loss=0.16]"
          ]
        },
        {
          "output_type": "stream",
          "name": "stderr",
          "text": [
            "DEBUG:ludwig.trainers.trainer:training: completed batch 105 memory used: 2943.79MB\n"
          ]
        },
        {
          "output_type": "stream",
          "name": "stdout",
          "text": [
            "Training:  33%|███▎      | 106/324 [01:05<02:08,  1.70it/s, loss=0.148]"
          ]
        },
        {
          "output_type": "stream",
          "name": "stderr",
          "text": [
            "DEBUG:ludwig.trainers.trainer:training: completed batch 106 memory used: 2943.79MB\n"
          ]
        },
        {
          "output_type": "stream",
          "name": "stdout",
          "text": [
            "Training:  33%|███▎      | 107/324 [01:06<02:06,  1.71it/s, loss=0.224]"
          ]
        },
        {
          "output_type": "stream",
          "name": "stderr",
          "text": [
            "DEBUG:ludwig.trainers.trainer:training: completed batch 107 memory used: 2943.79MB\n"
          ]
        },
        {
          "output_type": "stream",
          "name": "stdout",
          "text": [
            "Training:  33%|███▎      | 108/324 [01:06<02:05,  1.72it/s, loss=0.389]"
          ]
        },
        {
          "output_type": "stream",
          "name": "stderr",
          "text": [
            "DEBUG:ludwig.trainers.trainer:training: completed batch 108 memory used: 2943.79MB\n",
            "INFO:ludwig.trainers.trainer:\n",
            "Running evaluation for step: 108, epoch: 0\n"
          ]
        },
        {
          "output_type": "stream",
          "name": "stdout",
          "text": [
            "\rEvaluation valid:   0%|          | 0/8 [00:00<?, ?it/s]"
          ]
        },
        {
          "output_type": "stream",
          "name": "stderr",
          "text": [
            "DEBUG:ludwig.models.predictor:evaluation for validation: obtained next batch memory used: 2943.79MB\n"
          ]
        },
        {
          "output_type": "stream",
          "name": "stdout",
          "text": [
            "\rEvaluation valid:  12%|█▎        | 1/8 [00:00<00:04,  1.64it/s]"
          ]
        },
        {
          "output_type": "stream",
          "name": "stderr",
          "text": [
            "DEBUG:ludwig.models.predictor:evaluation for validation: completed batch 1 memory used: 2945.56MB\n",
            "DEBUG:ludwig.models.predictor:evaluation for validation: obtained next batch memory used: 2945.56MB\n"
          ]
        },
        {
          "output_type": "stream",
          "name": "stdout",
          "text": [
            "\rEvaluation valid:  25%|██▌       | 2/8 [00:01<00:02,  2.06it/s]"
          ]
        },
        {
          "output_type": "stream",
          "name": "stderr",
          "text": [
            "DEBUG:ludwig.models.predictor:evaluation for validation: completed batch 2 memory used: 2945.56MB\n",
            "DEBUG:ludwig.models.predictor:evaluation for validation: obtained next batch memory used: 2945.56MB\n"
          ]
        },
        {
          "output_type": "stream",
          "name": "stdout",
          "text": [
            "\rEvaluation valid:  38%|███▊      | 3/8 [00:01<00:02,  1.94it/s]"
          ]
        },
        {
          "output_type": "stream",
          "name": "stderr",
          "text": [
            "DEBUG:ludwig.models.predictor:evaluation for validation: completed batch 3 memory used: 2945.56MB\n",
            "DEBUG:ludwig.models.predictor:evaluation for validation: obtained next batch memory used: 2945.56MB\n"
          ]
        },
        {
          "output_type": "stream",
          "name": "stdout",
          "text": [
            "\rEvaluation valid:  50%|█████     | 4/8 [00:01<00:01,  2.11it/s]"
          ]
        },
        {
          "output_type": "stream",
          "name": "stderr",
          "text": [
            "DEBUG:ludwig.models.predictor:evaluation for validation: completed batch 4 memory used: 2945.56MB\n",
            "DEBUG:ludwig.models.predictor:evaluation for validation: obtained next batch memory used: 2945.56MB\n"
          ]
        },
        {
          "output_type": "stream",
          "name": "stdout",
          "text": [
            "\rEvaluation valid:  62%|██████▎   | 5/8 [00:02<00:01,  2.23it/s]"
          ]
        },
        {
          "output_type": "stream",
          "name": "stderr",
          "text": [
            "DEBUG:ludwig.models.predictor:evaluation for validation: completed batch 5 memory used: 2945.56MB\n",
            "DEBUG:ludwig.models.predictor:evaluation for validation: obtained next batch memory used: 2945.56MB\n"
          ]
        },
        {
          "output_type": "stream",
          "name": "stdout",
          "text": [
            "\rEvaluation valid:  75%|███████▌  | 6/8 [00:02<00:00,  2.05it/s]"
          ]
        },
        {
          "output_type": "stream",
          "name": "stderr",
          "text": [
            "DEBUG:ludwig.models.predictor:evaluation for validation: completed batch 6 memory used: 2945.56MB\n",
            "DEBUG:ludwig.models.predictor:evaluation for validation: obtained next batch memory used: 2945.56MB\n"
          ]
        },
        {
          "output_type": "stream",
          "name": "stdout",
          "text": [
            "\rEvaluation valid:  88%|████████▊ | 7/8 [00:03<00:00,  2.15it/s]"
          ]
        },
        {
          "output_type": "stream",
          "name": "stderr",
          "text": [
            "DEBUG:ludwig.models.predictor:evaluation for validation: completed batch 7 memory used: 2945.56MB\n",
            "DEBUG:ludwig.models.predictor:evaluation for validation: obtained next batch memory used: 2945.56MB\n"
          ]
        },
        {
          "output_type": "stream",
          "name": "stdout",
          "text": [
            "\rEvaluation valid: 100%|██████████| 8/8 [00:03<00:00,  2.44it/s]"
          ]
        },
        {
          "output_type": "stream",
          "name": "stderr",
          "text": [
            "DEBUG:ludwig.models.predictor:evaluation for validation: completed batch 8 memory used: 2945.56MB\n"
          ]
        },
        {
          "output_type": "stream",
          "name": "stdout",
          "text": [
            "Evaluation valid: 100%|██████████| 8/8 [00:03<00:00,  2.19it/s]\n",
            "Evaluation test :   0%|          | 0/15 [00:00<?, ?it/s]"
          ]
        },
        {
          "output_type": "stream",
          "name": "stderr",
          "text": [
            "DEBUG:ludwig.models.predictor:evaluation for test: obtained next batch memory used: 2945.56MB\n"
          ]
        },
        {
          "output_type": "stream",
          "name": "stdout",
          "text": [
            "\rEvaluation test :   7%|▋         | 1/15 [00:00<00:05,  2.35it/s]"
          ]
        },
        {
          "output_type": "stream",
          "name": "stderr",
          "text": [
            "DEBUG:ludwig.models.predictor:evaluation for test: completed batch 1 memory used: 2945.56MB\n",
            "DEBUG:ludwig.models.predictor:evaluation for test: obtained next batch memory used: 2945.56MB\n"
          ]
        },
        {
          "output_type": "stream",
          "name": "stdout",
          "text": [
            "\rEvaluation test :  13%|█▎        | 2/15 [00:00<00:06,  2.13it/s]"
          ]
        },
        {
          "output_type": "stream",
          "name": "stderr",
          "text": [
            "DEBUG:ludwig.models.predictor:evaluation for test: completed batch 2 memory used: 2945.56MB\n",
            "DEBUG:ludwig.models.predictor:evaluation for test: obtained next batch memory used: 2945.56MB\n"
          ]
        },
        {
          "output_type": "stream",
          "name": "stdout",
          "text": [
            "\rEvaluation test :  20%|██        | 3/15 [00:01<00:05,  2.23it/s]"
          ]
        },
        {
          "output_type": "stream",
          "name": "stderr",
          "text": [
            "DEBUG:ludwig.models.predictor:evaluation for test: completed batch 3 memory used: 2945.56MB\n",
            "DEBUG:ludwig.models.predictor:evaluation for test: obtained next batch memory used: 2945.56MB\n"
          ]
        },
        {
          "output_type": "stream",
          "name": "stdout",
          "text": [
            "\rEvaluation test :  27%|██▋       | 4/15 [00:01<00:04,  2.30it/s]"
          ]
        },
        {
          "output_type": "stream",
          "name": "stderr",
          "text": [
            "DEBUG:ludwig.models.predictor:evaluation for test: completed batch 4 memory used: 2945.56MB\n",
            "DEBUG:ludwig.models.predictor:evaluation for test: obtained next batch memory used: 2945.56MB\n"
          ]
        },
        {
          "output_type": "stream",
          "name": "stdout",
          "text": [
            "\rEvaluation test :  33%|███▎      | 5/15 [00:02<00:04,  2.40it/s]"
          ]
        },
        {
          "output_type": "stream",
          "name": "stderr",
          "text": [
            "DEBUG:ludwig.models.predictor:evaluation for test: completed batch 5 memory used: 2945.56MB\n",
            "DEBUG:ludwig.models.predictor:evaluation for test: obtained next batch memory used: 2945.56MB\n"
          ]
        },
        {
          "output_type": "stream",
          "name": "stdout",
          "text": [
            "\rEvaluation test :  40%|████      | 6/15 [00:02<00:04,  2.07it/s]"
          ]
        },
        {
          "output_type": "stream",
          "name": "stderr",
          "text": [
            "DEBUG:ludwig.models.predictor:evaluation for test: completed batch 6 memory used: 2944.56MB\n",
            "DEBUG:ludwig.models.predictor:evaluation for test: obtained next batch memory used: 2944.56MB\n"
          ]
        },
        {
          "output_type": "stream",
          "name": "stdout",
          "text": [
            "\rEvaluation test :  47%|████▋     | 7/15 [00:03<00:03,  2.03it/s]"
          ]
        },
        {
          "output_type": "stream",
          "name": "stderr",
          "text": [
            "DEBUG:ludwig.models.predictor:evaluation for test: completed batch 7 memory used: 2944.56MB\n",
            "DEBUG:ludwig.models.predictor:evaluation for test: obtained next batch memory used: 2944.56MB\n"
          ]
        },
        {
          "output_type": "stream",
          "name": "stdout",
          "text": [
            "\rEvaluation test :  53%|█████▎    | 8/15 [00:03<00:03,  2.13it/s]"
          ]
        },
        {
          "output_type": "stream",
          "name": "stderr",
          "text": [
            "DEBUG:ludwig.models.predictor:evaluation for test: completed batch 8 memory used: 2944.56MB\n",
            "DEBUG:ludwig.models.predictor:evaluation for test: obtained next batch memory used: 2944.56MB\n"
          ]
        },
        {
          "output_type": "stream",
          "name": "stdout",
          "text": [
            "\rEvaluation test :  60%|██████    | 9/15 [00:04<00:02,  2.14it/s]"
          ]
        },
        {
          "output_type": "stream",
          "name": "stderr",
          "text": [
            "DEBUG:ludwig.models.predictor:evaluation for test: completed batch 9 memory used: 2944.56MB\n",
            "DEBUG:ludwig.models.predictor:evaluation for test: obtained next batch memory used: 2944.56MB\n"
          ]
        },
        {
          "output_type": "stream",
          "name": "stdout",
          "text": [
            "\rEvaluation test :  67%|██████▋   | 10/15 [00:04<00:02,  1.92it/s]"
          ]
        },
        {
          "output_type": "stream",
          "name": "stderr",
          "text": [
            "DEBUG:ludwig.models.predictor:evaluation for test: completed batch 10 memory used: 2944.56MB\n",
            "DEBUG:ludwig.models.predictor:evaluation for test: obtained next batch memory used: 2944.56MB\n"
          ]
        },
        {
          "output_type": "stream",
          "name": "stdout",
          "text": [
            "\rEvaluation test :  73%|███████▎  | 11/15 [00:05<00:02,  1.91it/s]"
          ]
        },
        {
          "output_type": "stream",
          "name": "stderr",
          "text": [
            "DEBUG:ludwig.models.predictor:evaluation for test: completed batch 11 memory used: 2944.56MB\n",
            "DEBUG:ludwig.models.predictor:evaluation for test: obtained next batch memory used: 2944.56MB\n"
          ]
        },
        {
          "output_type": "stream",
          "name": "stdout",
          "text": [
            "\rEvaluation test :  80%|████████  | 12/15 [00:05<00:01,  1.78it/s]"
          ]
        },
        {
          "output_type": "stream",
          "name": "stderr",
          "text": [
            "DEBUG:ludwig.models.predictor:evaluation for test: completed batch 12 memory used: 2944.56MB\n",
            "DEBUG:ludwig.models.predictor:evaluation for test: obtained next batch memory used: 2944.56MB\n"
          ]
        },
        {
          "output_type": "stream",
          "name": "stdout",
          "text": [
            "\rEvaluation test :  87%|████████▋ | 13/15 [00:06<00:01,  1.84it/s]"
          ]
        },
        {
          "output_type": "stream",
          "name": "stderr",
          "text": [
            "DEBUG:ludwig.models.predictor:evaluation for test: completed batch 13 memory used: 2944.56MB\n",
            "DEBUG:ludwig.models.predictor:evaluation for test: obtained next batch memory used: 2944.56MB\n"
          ]
        },
        {
          "output_type": "stream",
          "name": "stdout",
          "text": [
            "\rEvaluation test :  93%|█████████▎| 14/15 [00:07<00:00,  1.79it/s]"
          ]
        },
        {
          "output_type": "stream",
          "name": "stderr",
          "text": [
            "DEBUG:ludwig.models.predictor:evaluation for test: completed batch 14 memory used: 2944.56MB\n",
            "DEBUG:ludwig.models.predictor:evaluation for test: obtained next batch memory used: 2944.56MB\n"
          ]
        },
        {
          "output_type": "stream",
          "name": "stdout",
          "text": [
            "\rEvaluation test : 100%|██████████| 15/15 [00:07<00:00,  1.71it/s]"
          ]
        },
        {
          "output_type": "stream",
          "name": "stderr",
          "text": [
            "DEBUG:ludwig.models.predictor:evaluation for test: completed batch 15 memory used: 2944.56MB\n"
          ]
        },
        {
          "output_type": "stream",
          "name": "stdout",
          "text": [
            "\rEvaluation test : 100%|██████████| 15/15 [00:07<00:00,  1.94it/s]"
          ]
        },
        {
          "output_type": "stream",
          "name": "stderr",
          "text": [
            "INFO:ludwig.trainers.trainer:Evaluation took 11.6510s\n",
            "\n",
            "INFO:ludwig.utils.metrics_printed_table:╒═══════════════════════╤════════════╤══════════════╤════════════╕\n",
            "│                       │      train │   validation │       test │\n",
            "╞═══════════════════════╪════════════╪══════════════╪════════════╡\n",
            "│ bleu                  │     0.0562 │       0.0469 │     0.0415 │\n",
            "├───────────────────────┼────────────┼──────────────┼────────────┤\n",
            "│ char_error_rate       │     2.2574 │       2.0973 │     1.9777 │\n",
            "├───────────────────────┼────────────┼──────────────┼────────────┤\n",
            "│ loss                  │     2.4746 │       2.1419 │     2.3451 │\n",
            "├───────────────────────┼────────────┼──────────────┼────────────┤\n",
            "│ next_token_perplexity │ 20980.2090 │   20884.6172 │ 21083.6270 │\n",
            "├───────────────────────┼────────────┼──────────────┼────────────┤\n",
            "│ perplexity            │ 31851.0293 │   31906.4180 │ 31918.3809 │\n",
            "├───────────────────────┼────────────┼──────────────┼────────────┤\n",
            "│ rouge1_fmeasure       │     0.2650 │       0.2658 │     0.2731 │\n",
            "├───────────────────────┼────────────┼──────────────┼────────────┤\n",
            "│ rouge1_precision      │     0.1825 │       0.1836 │     0.1908 │\n",
            "├───────────────────────┼────────────┼──────────────┼────────────┤\n",
            "│ rouge1_recall         │     0.5424 │       0.5063 │     0.5061 │\n",
            "├───────────────────────┼────────────┼──────────────┼────────────┤\n",
            "│ rouge2_fmeasure       │     0.0940 │       0.0850 │     0.0898 │\n",
            "├───────────────────────┼────────────┼──────────────┼────────────┤\n",
            "│ rouge2_precision      │     0.0665 │       0.0591 │     0.0630 │\n",
            "├───────────────────────┼────────────┼──────────────┼────────────┤\n",
            "│ rouge2_recall         │     0.1835 │       0.1591 │     0.1634 │\n",
            "├───────────────────────┼────────────┼──────────────┼────────────┤\n",
            "│ rougeL_fmeasure       │     0.2139 │       0.2127 │     0.2213 │\n",
            "├───────────────────────┼────────────┼──────────────┼────────────┤\n",
            "│ rougeL_precision      │     0.1477 │       0.1471 │     0.1543 │\n",
            "├───────────────────────┼────────────┼──────────────┼────────────┤\n",
            "│ rougeL_recall         │     0.4376 │       0.4045 │     0.4113 │\n",
            "├───────────────────────┼────────────┼──────────────┼────────────┤\n",
            "│ rougeLsum_fmeasure    │     0.2489 │       0.2459 │     0.2527 │\n",
            "├───────────────────────┼────────────┼──────────────┼────────────┤\n",
            "│ rougeLsum_precision   │     0.1716 │       0.1700 │     0.1766 │\n",
            "├───────────────────────┼────────────┼──────────────┼────────────┤\n",
            "│ rougeLsum_recall      │     0.5115 │       0.4674 │     0.4675 │\n",
            "├───────────────────────┼────────────┼──────────────┼────────────┤\n",
            "│ sequence_accuracy     │     0.0000 │       0.0000 │     0.0000 │\n",
            "├───────────────────────┼────────────┼──────────────┼────────────┤\n",
            "│ token_accuracy        │     0.0017 │       0.0004 │     0.0005 │\n",
            "├───────────────────────┼────────────┼──────────────┼────────────┤\n",
            "│ word_error_rate       │     2.5850 │       2.4342 │     2.3509 │\n",
            "├───────────────────────┼────────────┼──────────────┼────────────┤\n",
            "│ combined_loss         │     2.4746 │       2.1419 │     2.3451 │\n",
            "╘═══════════════════════╧════════════╧══════════════╧════════════╛\n",
            "INFO:ludwig.trainers.trainer:Evaluation validation metric: 'Answer' 'loss' improved.\n",
            "INFO:ludwig.trainers.trainer:'Answer' 'loss' decreased by inf.\n",
            "INFO:ludwig.trainers.trainer:New best model saved.\n",
            "\n"
          ]
        },
        {
          "output_type": "stream",
          "name": "stdout",
          "text": [
            "\n"
          ]
        },
        {
          "output_type": "stream",
          "name": "stderr",
          "text": [
            "DEBUG:ludwig.utils.checkpoint_utils:Saved checkpoint at /content/drive/MyDrive/ImpDocs/Work/AICoach/Notebooks/data/results/api_experiment_run_0/model/training_checkpoints/best.ckpt.\n",
            "DEBUG:ludwig.utils.checkpoint_utils:Saved checkpoint at /content/drive/MyDrive/ImpDocs/Work/AICoach/Notebooks/data/results/api_experiment_run_0/model/training_checkpoints/latest.ckpt.\n",
            "DEBUG:ludwig.trainers.trainer:Epoch 1 took: 1m 19.9752s.\n",
            "DEBUG:ludwig.utils.checkpoint_utils:Saved checkpoint at /content/drive/MyDrive/ImpDocs/Work/AICoach/Notebooks/data/results/api_experiment_run_0/model/training_checkpoints/latest.ckpt.\n"
          ]
        },
        {
          "output_type": "stream",
          "name": "stdout",
          "text": [
            "Training:  34%|███▎      | 109/324 [01:21<16:48,  4.69s/it, loss=0.288]"
          ]
        },
        {
          "output_type": "stream",
          "name": "stderr",
          "text": [
            "DEBUG:ludwig.trainers.trainer:training: completed batch 109 memory used: 2944.56MB\n"
          ]
        },
        {
          "output_type": "stream",
          "name": "stdout",
          "text": [
            "Training:  34%|███▍      | 110/324 [01:21<12:38,  3.55s/it, loss=0.262]"
          ]
        },
        {
          "output_type": "stream",
          "name": "stderr",
          "text": [
            "DEBUG:ludwig.trainers.trainer:training: completed batch 110 memory used: 2944.56MB\n"
          ]
        },
        {
          "output_type": "stream",
          "name": "stdout",
          "text": [
            "Training:  34%|███▍      | 111/324 [01:22<09:23,  2.65s/it, loss=0.183]"
          ]
        },
        {
          "output_type": "stream",
          "name": "stderr",
          "text": [
            "DEBUG:ludwig.trainers.trainer:training: completed batch 111 memory used: 2944.56MB\n"
          ]
        },
        {
          "output_type": "stream",
          "name": "stdout",
          "text": [
            "Training:  35%|███▍      | 112/324 [01:23<07:10,  2.03s/it, loss=0.225]"
          ]
        },
        {
          "output_type": "stream",
          "name": "stderr",
          "text": [
            "DEBUG:ludwig.trainers.trainer:training: completed batch 112 memory used: 2944.56MB\n"
          ]
        },
        {
          "output_type": "stream",
          "name": "stdout",
          "text": [
            "Training:  35%|███▍      | 113/324 [01:23<05:36,  1.59s/it, loss=0.269]"
          ]
        },
        {
          "output_type": "stream",
          "name": "stderr",
          "text": [
            "DEBUG:ludwig.trainers.trainer:training: completed batch 113 memory used: 2944.56MB\n"
          ]
        },
        {
          "output_type": "stream",
          "name": "stdout",
          "text": [
            "Training:  35%|███▌      | 114/324 [01:24<04:37,  1.32s/it, loss=0.262]"
          ]
        },
        {
          "output_type": "stream",
          "name": "stderr",
          "text": [
            "DEBUG:ludwig.trainers.trainer:training: completed batch 114 memory used: 2944.56MB\n"
          ]
        },
        {
          "output_type": "stream",
          "name": "stdout",
          "text": [
            "Training:  35%|███▌      | 115/324 [01:24<03:50,  1.10s/it, loss=0.195]"
          ]
        },
        {
          "output_type": "stream",
          "name": "stderr",
          "text": [
            "DEBUG:ludwig.trainers.trainer:training: completed batch 115 memory used: 2944.56MB\n"
          ]
        },
        {
          "output_type": "stream",
          "name": "stdout",
          "text": [
            "Training:  36%|███▌      | 116/324 [01:25<03:19,  1.04it/s, loss=0.244]"
          ]
        },
        {
          "output_type": "stream",
          "name": "stderr",
          "text": [
            "DEBUG:ludwig.trainers.trainer:training: completed batch 116 memory used: 2944.56MB\n"
          ]
        },
        {
          "output_type": "stream",
          "name": "stdout",
          "text": [
            "Training:  36%|███▌      | 117/324 [01:26<02:56,  1.18it/s, loss=0.257]"
          ]
        },
        {
          "output_type": "stream",
          "name": "stderr",
          "text": [
            "DEBUG:ludwig.trainers.trainer:training: completed batch 117 memory used: 2944.56MB\n"
          ]
        },
        {
          "output_type": "stream",
          "name": "stdout",
          "text": [
            "Training:  36%|███▋      | 118/324 [01:26<02:43,  1.26it/s, loss=0.214]"
          ]
        },
        {
          "output_type": "stream",
          "name": "stderr",
          "text": [
            "DEBUG:ludwig.trainers.trainer:training: completed batch 118 memory used: 2944.56MB\n"
          ]
        },
        {
          "output_type": "stream",
          "name": "stdout",
          "text": [
            "Training:  37%|███▋      | 119/324 [01:27<02:36,  1.31it/s, loss=0.216]"
          ]
        },
        {
          "output_type": "stream",
          "name": "stderr",
          "text": [
            "DEBUG:ludwig.trainers.trainer:training: completed batch 119 memory used: 2944.56MB\n"
          ]
        },
        {
          "output_type": "stream",
          "name": "stdout",
          "text": [
            "Training:  37%|███▋      | 120/324 [01:28<02:23,  1.42it/s, loss=0.329]"
          ]
        },
        {
          "output_type": "stream",
          "name": "stderr",
          "text": [
            "DEBUG:ludwig.trainers.trainer:training: completed batch 120 memory used: 2944.56MB\n"
          ]
        },
        {
          "output_type": "stream",
          "name": "stdout",
          "text": [
            "Training:  37%|███▋      | 121/324 [01:28<02:13,  1.52it/s, loss=0.358]"
          ]
        },
        {
          "output_type": "stream",
          "name": "stderr",
          "text": [
            "DEBUG:ludwig.trainers.trainer:training: completed batch 121 memory used: 2944.56MB\n"
          ]
        },
        {
          "output_type": "stream",
          "name": "stdout",
          "text": [
            "Training:  38%|███▊      | 122/324 [01:29<02:08,  1.57it/s, loss=0.181]"
          ]
        },
        {
          "output_type": "stream",
          "name": "stderr",
          "text": [
            "DEBUG:ludwig.trainers.trainer:training: completed batch 122 memory used: 2944.56MB\n"
          ]
        },
        {
          "output_type": "stream",
          "name": "stdout",
          "text": [
            "Training:  38%|███▊      | 123/324 [01:29<02:02,  1.64it/s, loss=0.283]"
          ]
        },
        {
          "output_type": "stream",
          "name": "stderr",
          "text": [
            "DEBUG:ludwig.trainers.trainer:training: completed batch 123 memory used: 2944.56MB\n"
          ]
        },
        {
          "output_type": "stream",
          "name": "stdout",
          "text": [
            "Training:  38%|███▊      | 124/324 [01:30<02:14,  1.49it/s, loss=0.283]"
          ]
        },
        {
          "output_type": "stream",
          "name": "stderr",
          "text": [
            "DEBUG:ludwig.trainers.trainer:training: completed batch 124 memory used: 2944.56MB\n"
          ]
        },
        {
          "output_type": "stream",
          "name": "stdout",
          "text": [
            "Training:  39%|███▊      | 125/324 [01:31<02:08,  1.55it/s, loss=0.191]"
          ]
        },
        {
          "output_type": "stream",
          "name": "stderr",
          "text": [
            "DEBUG:ludwig.trainers.trainer:training: completed batch 125 memory used: 2944.56MB\n"
          ]
        },
        {
          "output_type": "stream",
          "name": "stdout",
          "text": [
            "Training:  39%|███▉      | 126/324 [01:31<02:03,  1.61it/s, loss=0.247]"
          ]
        },
        {
          "output_type": "stream",
          "name": "stderr",
          "text": [
            "DEBUG:ludwig.trainers.trainer:training: completed batch 126 memory used: 2944.56MB\n"
          ]
        },
        {
          "output_type": "stream",
          "name": "stdout",
          "text": [
            "Training:  39%|███▉      | 127/324 [01:32<01:59,  1.65it/s, loss=0.304]"
          ]
        },
        {
          "output_type": "stream",
          "name": "stderr",
          "text": [
            "DEBUG:ludwig.trainers.trainer:training: completed batch 127 memory used: 2944.56MB\n"
          ]
        },
        {
          "output_type": "stream",
          "name": "stdout",
          "text": [
            "Training:  40%|███▉      | 128/324 [01:33<02:05,  1.56it/s, loss=0.134]"
          ]
        },
        {
          "output_type": "stream",
          "name": "stderr",
          "text": [
            "DEBUG:ludwig.trainers.trainer:training: completed batch 128 memory used: 2944.56MB\n"
          ]
        },
        {
          "output_type": "stream",
          "name": "stdout",
          "text": [
            "Training:  40%|███▉      | 129/324 [01:33<02:01,  1.61it/s, loss=0.651]"
          ]
        },
        {
          "output_type": "stream",
          "name": "stderr",
          "text": [
            "DEBUG:ludwig.trainers.trainer:training: completed batch 129 memory used: 2944.56MB\n"
          ]
        },
        {
          "output_type": "stream",
          "name": "stdout",
          "text": [
            "Training:  40%|████      | 130/324 [01:34<02:04,  1.56it/s, loss=0.195]"
          ]
        },
        {
          "output_type": "stream",
          "name": "stderr",
          "text": [
            "DEBUG:ludwig.trainers.trainer:training: completed batch 130 memory used: 2944.56MB\n"
          ]
        },
        {
          "output_type": "stream",
          "name": "stdout",
          "text": [
            "Training:  40%|████      | 131/324 [01:35<02:08,  1.51it/s, loss=0.199]"
          ]
        },
        {
          "output_type": "stream",
          "name": "stderr",
          "text": [
            "DEBUG:ludwig.trainers.trainer:training: completed batch 131 memory used: 2944.56MB\n"
          ]
        },
        {
          "output_type": "stream",
          "name": "stdout",
          "text": [
            "Training:  41%|████      | 132/324 [01:35<02:04,  1.54it/s, loss=0.159]"
          ]
        },
        {
          "output_type": "stream",
          "name": "stderr",
          "text": [
            "DEBUG:ludwig.trainers.trainer:training: completed batch 132 memory used: 2944.56MB\n"
          ]
        },
        {
          "output_type": "stream",
          "name": "stdout",
          "text": [
            "Training:  41%|████      | 133/324 [01:36<01:58,  1.61it/s, loss=0.163]"
          ]
        },
        {
          "output_type": "stream",
          "name": "stderr",
          "text": [
            "DEBUG:ludwig.trainers.trainer:training: completed batch 133 memory used: 2944.56MB\n"
          ]
        },
        {
          "output_type": "stream",
          "name": "stdout",
          "text": [
            "Training:  41%|████▏     | 134/324 [01:36<01:56,  1.64it/s, loss=0.198]"
          ]
        },
        {
          "output_type": "stream",
          "name": "stderr",
          "text": [
            "DEBUG:ludwig.trainers.trainer:training: completed batch 134 memory used: 2944.56MB\n"
          ]
        },
        {
          "output_type": "stream",
          "name": "stdout",
          "text": [
            "Training:  42%|████▏     | 135/324 [01:37<01:52,  1.67it/s, loss=0.216]"
          ]
        },
        {
          "output_type": "stream",
          "name": "stderr",
          "text": [
            "DEBUG:ludwig.trainers.trainer:training: completed batch 135 memory used: 2944.56MB\n"
          ]
        },
        {
          "output_type": "stream",
          "name": "stdout",
          "text": [
            "Training:  42%|████▏     | 136/324 [01:38<01:59,  1.57it/s, loss=0.196]"
          ]
        },
        {
          "output_type": "stream",
          "name": "stderr",
          "text": [
            "DEBUG:ludwig.trainers.trainer:training: completed batch 136 memory used: 2944.56MB\n"
          ]
        },
        {
          "output_type": "stream",
          "name": "stdout",
          "text": [
            "Training:  42%|████▏     | 137/324 [01:38<01:54,  1.63it/s, loss=0.315]"
          ]
        },
        {
          "output_type": "stream",
          "name": "stderr",
          "text": [
            "DEBUG:ludwig.trainers.trainer:training: completed batch 137 memory used: 2944.56MB\n"
          ]
        },
        {
          "output_type": "stream",
          "name": "stdout",
          "text": [
            "Training:  43%|████▎     | 138/324 [01:39<01:52,  1.66it/s, loss=0.241]"
          ]
        },
        {
          "output_type": "stream",
          "name": "stderr",
          "text": [
            "DEBUG:ludwig.trainers.trainer:training: completed batch 138 memory used: 2944.56MB\n"
          ]
        },
        {
          "output_type": "stream",
          "name": "stdout",
          "text": [
            "Training:  43%|████▎     | 139/324 [01:39<01:50,  1.68it/s, loss=0.19]"
          ]
        },
        {
          "output_type": "stream",
          "name": "stderr",
          "text": [
            "DEBUG:ludwig.trainers.trainer:training: completed batch 139 memory used: 2944.56MB\n"
          ]
        },
        {
          "output_type": "stream",
          "name": "stdout",
          "text": [
            "Training:  43%|████▎     | 140/324 [01:40<01:57,  1.56it/s, loss=0.183]"
          ]
        },
        {
          "output_type": "stream",
          "name": "stderr",
          "text": [
            "DEBUG:ludwig.trainers.trainer:training: completed batch 140 memory used: 2944.56MB\n"
          ]
        },
        {
          "output_type": "stream",
          "name": "stdout",
          "text": [
            "Training:  44%|████▎     | 141/324 [01:41<01:53,  1.62it/s, loss=0.25]"
          ]
        },
        {
          "output_type": "stream",
          "name": "stderr",
          "text": [
            "DEBUG:ludwig.trainers.trainer:training: completed batch 141 memory used: 2944.56MB\n"
          ]
        },
        {
          "output_type": "stream",
          "name": "stdout",
          "text": [
            "Training:  44%|████▍     | 142/324 [01:41<01:50,  1.65it/s, loss=0.137]"
          ]
        },
        {
          "output_type": "stream",
          "name": "stderr",
          "text": [
            "DEBUG:ludwig.trainers.trainer:training: completed batch 142 memory used: 2944.56MB\n"
          ]
        },
        {
          "output_type": "stream",
          "name": "stdout",
          "text": [
            "Training:  44%|████▍     | 143/324 [01:42<01:56,  1.55it/s, loss=0.173]"
          ]
        },
        {
          "output_type": "stream",
          "name": "stderr",
          "text": [
            "DEBUG:ludwig.trainers.trainer:training: completed batch 143 memory used: 2944.56MB\n"
          ]
        },
        {
          "output_type": "stream",
          "name": "stdout",
          "text": [
            "Training:  44%|████▍     | 144/324 [01:42<01:51,  1.61it/s, loss=0.245]"
          ]
        },
        {
          "output_type": "stream",
          "name": "stderr",
          "text": [
            "DEBUG:ludwig.trainers.trainer:training: completed batch 144 memory used: 2944.56MB\n"
          ]
        },
        {
          "output_type": "stream",
          "name": "stdout",
          "text": [
            "Training:  45%|████▍     | 145/324 [01:43<01:49,  1.64it/s, loss=0.288]"
          ]
        },
        {
          "output_type": "stream",
          "name": "stderr",
          "text": [
            "DEBUG:ludwig.trainers.trainer:training: completed batch 145 memory used: 2944.56MB\n"
          ]
        },
        {
          "output_type": "stream",
          "name": "stdout",
          "text": [
            "Training:  45%|████▌     | 146/324 [01:44<01:46,  1.68it/s, loss=0.143]"
          ]
        },
        {
          "output_type": "stream",
          "name": "stderr",
          "text": [
            "DEBUG:ludwig.trainers.trainer:training: completed batch 146 memory used: 2944.56MB\n"
          ]
        },
        {
          "output_type": "stream",
          "name": "stdout",
          "text": [
            "Training:  45%|████▌     | 147/324 [01:44<01:44,  1.69it/s, loss=0.217]"
          ]
        },
        {
          "output_type": "stream",
          "name": "stderr",
          "text": [
            "DEBUG:ludwig.trainers.trainer:training: completed batch 147 memory used: 2944.56MB\n"
          ]
        },
        {
          "output_type": "stream",
          "name": "stdout",
          "text": [
            "Training:  46%|████▌     | 148/324 [01:45<01:44,  1.68it/s, loss=0.262]"
          ]
        },
        {
          "output_type": "stream",
          "name": "stderr",
          "text": [
            "DEBUG:ludwig.trainers.trainer:training: completed batch 148 memory used: 2944.56MB\n"
          ]
        },
        {
          "output_type": "stream",
          "name": "stdout",
          "text": [
            "Training:  46%|████▌     | 149/324 [01:45<01:42,  1.70it/s, loss=0.268]"
          ]
        },
        {
          "output_type": "stream",
          "name": "stderr",
          "text": [
            "DEBUG:ludwig.trainers.trainer:training: completed batch 149 memory used: 2944.56MB\n"
          ]
        },
        {
          "output_type": "stream",
          "name": "stdout",
          "text": [
            "Training:  46%|████▋     | 150/324 [01:46<01:43,  1.67it/s, loss=0.136]"
          ]
        },
        {
          "output_type": "stream",
          "name": "stderr",
          "text": [
            "DEBUG:ludwig.trainers.trainer:training: completed batch 150 memory used: 2944.56MB\n"
          ]
        },
        {
          "output_type": "stream",
          "name": "stdout",
          "text": [
            "Training:  47%|████▋     | 151/324 [01:47<01:41,  1.71it/s, loss=0.243]"
          ]
        },
        {
          "output_type": "stream",
          "name": "stderr",
          "text": [
            "DEBUG:ludwig.trainers.trainer:training: completed batch 151 memory used: 2944.56MB\n"
          ]
        },
        {
          "output_type": "stream",
          "name": "stdout",
          "text": [
            "Training:  47%|████▋     | 152/324 [01:47<01:39,  1.73it/s, loss=0.258]"
          ]
        },
        {
          "output_type": "stream",
          "name": "stderr",
          "text": [
            "DEBUG:ludwig.trainers.trainer:training: completed batch 152 memory used: 2944.56MB\n"
          ]
        },
        {
          "output_type": "stream",
          "name": "stdout",
          "text": [
            "Training:  47%|████▋     | 153/324 [01:48<01:37,  1.75it/s, loss=0.248]"
          ]
        },
        {
          "output_type": "stream",
          "name": "stderr",
          "text": [
            "DEBUG:ludwig.trainers.trainer:training: completed batch 153 memory used: 2944.56MB\n"
          ]
        },
        {
          "output_type": "stream",
          "name": "stdout",
          "text": [
            "Training:  48%|████▊     | 154/324 [01:48<01:37,  1.74it/s, loss=0.24]"
          ]
        },
        {
          "output_type": "stream",
          "name": "stderr",
          "text": [
            "DEBUG:ludwig.trainers.trainer:training: completed batch 154 memory used: 2944.56MB\n"
          ]
        },
        {
          "output_type": "stream",
          "name": "stdout",
          "text": [
            "Training:  48%|████▊     | 155/324 [01:49<01:36,  1.76it/s, loss=0.153]"
          ]
        },
        {
          "output_type": "stream",
          "name": "stderr",
          "text": [
            "DEBUG:ludwig.trainers.trainer:training: completed batch 155 memory used: 2944.56MB\n"
          ]
        },
        {
          "output_type": "stream",
          "name": "stdout",
          "text": [
            "Training:  48%|████▊     | 156/324 [01:50<01:41,  1.65it/s, loss=0.204]"
          ]
        },
        {
          "output_type": "stream",
          "name": "stderr",
          "text": [
            "DEBUG:ludwig.trainers.trainer:training: completed batch 156 memory used: 2944.56MB\n"
          ]
        },
        {
          "output_type": "stream",
          "name": "stdout",
          "text": [
            "Training:  48%|████▊     | 157/324 [01:50<01:38,  1.69it/s, loss=0.281]"
          ]
        },
        {
          "output_type": "stream",
          "name": "stderr",
          "text": [
            "DEBUG:ludwig.trainers.trainer:training: completed batch 157 memory used: 2944.56MB\n"
          ]
        },
        {
          "output_type": "stream",
          "name": "stdout",
          "text": [
            "Training:  49%|████▉     | 158/324 [01:51<01:37,  1.70it/s, loss=0.222]"
          ]
        },
        {
          "output_type": "stream",
          "name": "stderr",
          "text": [
            "DEBUG:ludwig.trainers.trainer:training: completed batch 158 memory used: 2944.56MB\n"
          ]
        },
        {
          "output_type": "stream",
          "name": "stdout",
          "text": [
            "Training:  49%|████▉     | 159/324 [01:51<01:43,  1.59it/s, loss=0.128]"
          ]
        },
        {
          "output_type": "stream",
          "name": "stderr",
          "text": [
            "DEBUG:ludwig.trainers.trainer:training: completed batch 159 memory used: 2944.56MB\n"
          ]
        },
        {
          "output_type": "stream",
          "name": "stdout",
          "text": [
            "Training:  49%|████▉     | 160/324 [01:52<01:39,  1.65it/s, loss=0.221]"
          ]
        },
        {
          "output_type": "stream",
          "name": "stderr",
          "text": [
            "DEBUG:ludwig.trainers.trainer:training: completed batch 160 memory used: 2944.56MB\n"
          ]
        },
        {
          "output_type": "stream",
          "name": "stdout",
          "text": [
            "Training:  50%|████▉     | 161/324 [01:52<01:36,  1.69it/s, loss=0.2]"
          ]
        },
        {
          "output_type": "stream",
          "name": "stderr",
          "text": [
            "DEBUG:ludwig.trainers.trainer:training: completed batch 161 memory used: 2944.56MB\n"
          ]
        },
        {
          "output_type": "stream",
          "name": "stdout",
          "text": [
            "Training:  50%|█████     | 162/324 [01:53<01:34,  1.72it/s, loss=0.286]"
          ]
        },
        {
          "output_type": "stream",
          "name": "stderr",
          "text": [
            "DEBUG:ludwig.trainers.trainer:training: completed batch 162 memory used: 2944.56MB\n"
          ]
        },
        {
          "output_type": "stream",
          "name": "stdout",
          "text": [
            "Training:  50%|█████     | 163/324 [01:54<01:33,  1.73it/s, loss=0.281]"
          ]
        },
        {
          "output_type": "stream",
          "name": "stderr",
          "text": [
            "DEBUG:ludwig.trainers.trainer:training: completed batch 163 memory used: 2944.56MB\n"
          ]
        },
        {
          "output_type": "stream",
          "name": "stdout",
          "text": [
            "Training:  51%|█████     | 164/324 [01:54<01:34,  1.70it/s, loss=0.194]"
          ]
        },
        {
          "output_type": "stream",
          "name": "stderr",
          "text": [
            "DEBUG:ludwig.trainers.trainer:training: completed batch 164 memory used: 2944.56MB\n"
          ]
        },
        {
          "output_type": "stream",
          "name": "stdout",
          "text": [
            "Training:  51%|█████     | 165/324 [01:55<01:38,  1.62it/s, loss=0.284]"
          ]
        },
        {
          "output_type": "stream",
          "name": "stderr",
          "text": [
            "DEBUG:ludwig.trainers.trainer:training: completed batch 165 memory used: 2944.56MB\n"
          ]
        },
        {
          "output_type": "stream",
          "name": "stdout",
          "text": [
            "Training:  51%|█████     | 166/324 [01:55<01:35,  1.66it/s, loss=0.343]"
          ]
        },
        {
          "output_type": "stream",
          "name": "stderr",
          "text": [
            "DEBUG:ludwig.trainers.trainer:training: completed batch 166 memory used: 2944.56MB\n"
          ]
        },
        {
          "output_type": "stream",
          "name": "stdout",
          "text": [
            "Training:  52%|█████▏    | 167/324 [01:56<01:37,  1.61it/s, loss=0.238]"
          ]
        },
        {
          "output_type": "stream",
          "name": "stderr",
          "text": [
            "DEBUG:ludwig.trainers.trainer:training: completed batch 167 memory used: 2944.56MB\n"
          ]
        },
        {
          "output_type": "stream",
          "name": "stdout",
          "text": [
            "Training:  52%|█████▏    | 168/324 [01:57<01:34,  1.65it/s, loss=0.201]"
          ]
        },
        {
          "output_type": "stream",
          "name": "stderr",
          "text": [
            "DEBUG:ludwig.trainers.trainer:training: completed batch 168 memory used: 2944.56MB\n"
          ]
        },
        {
          "output_type": "stream",
          "name": "stdout",
          "text": [
            "Training:  52%|█████▏    | 169/324 [01:57<01:32,  1.68it/s, loss=0.156]"
          ]
        },
        {
          "output_type": "stream",
          "name": "stderr",
          "text": [
            "DEBUG:ludwig.trainers.trainer:training: completed batch 169 memory used: 2944.56MB\n"
          ]
        },
        {
          "output_type": "stream",
          "name": "stdout",
          "text": [
            "Training:  52%|█████▏    | 170/324 [01:58<01:35,  1.61it/s, loss=0.195]"
          ]
        },
        {
          "output_type": "stream",
          "name": "stderr",
          "text": [
            "DEBUG:ludwig.trainers.trainer:training: completed batch 170 memory used: 2944.56MB\n"
          ]
        },
        {
          "output_type": "stream",
          "name": "stdout",
          "text": [
            "Training:  53%|█████▎    | 171/324 [01:59<01:36,  1.58it/s, loss=0.169]"
          ]
        },
        {
          "output_type": "stream",
          "name": "stderr",
          "text": [
            "DEBUG:ludwig.trainers.trainer:training: completed batch 171 memory used: 2944.56MB\n"
          ]
        },
        {
          "output_type": "stream",
          "name": "stdout",
          "text": [
            "Training:  53%|█████▎    | 172/324 [01:59<01:37,  1.56it/s, loss=0.22]"
          ]
        },
        {
          "output_type": "stream",
          "name": "stderr",
          "text": [
            "DEBUG:ludwig.trainers.trainer:training: completed batch 172 memory used: 2944.56MB\n"
          ]
        },
        {
          "output_type": "stream",
          "name": "stdout",
          "text": [
            "Training:  53%|█████▎    | 173/324 [02:00<01:33,  1.61it/s, loss=0.195]"
          ]
        },
        {
          "output_type": "stream",
          "name": "stderr",
          "text": [
            "DEBUG:ludwig.trainers.trainer:training: completed batch 173 memory used: 2944.56MB\n"
          ]
        },
        {
          "output_type": "stream",
          "name": "stdout",
          "text": [
            "Training:  54%|█████▎    | 174/324 [02:00<01:31,  1.64it/s, loss=0.247]"
          ]
        },
        {
          "output_type": "stream",
          "name": "stderr",
          "text": [
            "DEBUG:ludwig.trainers.trainer:training: completed batch 174 memory used: 2944.56MB\n"
          ]
        },
        {
          "output_type": "stream",
          "name": "stdout",
          "text": [
            "Training:  54%|█████▍    | 175/324 [02:01<01:27,  1.70it/s, loss=0.311]"
          ]
        },
        {
          "output_type": "stream",
          "name": "stderr",
          "text": [
            "DEBUG:ludwig.trainers.trainer:training: completed batch 175 memory used: 2944.56MB\n"
          ]
        },
        {
          "output_type": "stream",
          "name": "stdout",
          "text": [
            "Training:  54%|█████▍    | 176/324 [02:02<01:26,  1.71it/s, loss=0.188]"
          ]
        },
        {
          "output_type": "stream",
          "name": "stderr",
          "text": [
            "DEBUG:ludwig.trainers.trainer:training: completed batch 176 memory used: 2944.56MB\n"
          ]
        },
        {
          "output_type": "stream",
          "name": "stdout",
          "text": [
            "Training:  55%|█████▍    | 177/324 [02:02<01:24,  1.73it/s, loss=0.217]"
          ]
        },
        {
          "output_type": "stream",
          "name": "stderr",
          "text": [
            "DEBUG:ludwig.trainers.trainer:training: completed batch 177 memory used: 2944.56MB\n"
          ]
        },
        {
          "output_type": "stream",
          "name": "stdout",
          "text": [
            "Training:  55%|█████▍    | 178/324 [02:03<01:29,  1.62it/s, loss=0.122]"
          ]
        },
        {
          "output_type": "stream",
          "name": "stderr",
          "text": [
            "DEBUG:ludwig.trainers.trainer:training: completed batch 178 memory used: 2944.56MB\n"
          ]
        },
        {
          "output_type": "stream",
          "name": "stdout",
          "text": [
            "Training:  55%|█████▌    | 179/324 [02:03<01:27,  1.66it/s, loss=0.284]"
          ]
        },
        {
          "output_type": "stream",
          "name": "stderr",
          "text": [
            "DEBUG:ludwig.trainers.trainer:training: completed batch 179 memory used: 2944.56MB\n"
          ]
        },
        {
          "output_type": "stream",
          "name": "stdout",
          "text": [
            "Training:  56%|█████▌    | 180/324 [02:04<01:29,  1.61it/s, loss=0.215]"
          ]
        },
        {
          "output_type": "stream",
          "name": "stderr",
          "text": [
            "DEBUG:ludwig.trainers.trainer:training: completed batch 180 memory used: 2944.56MB\n"
          ]
        },
        {
          "output_type": "stream",
          "name": "stdout",
          "text": [
            "Training:  56%|█████▌    | 181/324 [02:05<01:25,  1.67it/s, loss=0.22]"
          ]
        },
        {
          "output_type": "stream",
          "name": "stderr",
          "text": [
            "DEBUG:ludwig.trainers.trainer:training: completed batch 181 memory used: 2944.56MB\n"
          ]
        },
        {
          "output_type": "stream",
          "name": "stdout",
          "text": [
            "Training:  56%|█████▌    | 182/324 [02:05<01:29,  1.58it/s, loss=0.128]"
          ]
        },
        {
          "output_type": "stream",
          "name": "stderr",
          "text": [
            "DEBUG:ludwig.trainers.trainer:training: completed batch 182 memory used: 2944.56MB\n"
          ]
        },
        {
          "output_type": "stream",
          "name": "stdout",
          "text": [
            "Training:  56%|█████▋    | 183/324 [02:06<01:31,  1.54it/s, loss=0.221]"
          ]
        },
        {
          "output_type": "stream",
          "name": "stderr",
          "text": [
            "DEBUG:ludwig.trainers.trainer:training: completed batch 183 memory used: 2944.56MB\n"
          ]
        },
        {
          "output_type": "stream",
          "name": "stdout",
          "text": [
            "Training:  57%|█████▋    | 184/324 [02:07<01:33,  1.50it/s, loss=0.264]"
          ]
        },
        {
          "output_type": "stream",
          "name": "stderr",
          "text": [
            "DEBUG:ludwig.trainers.trainer:training: completed batch 184 memory used: 2944.56MB\n"
          ]
        },
        {
          "output_type": "stream",
          "name": "stdout",
          "text": [
            "Training:  57%|█████▋    | 185/324 [02:07<01:28,  1.57it/s, loss=0.249]"
          ]
        },
        {
          "output_type": "stream",
          "name": "stderr",
          "text": [
            "DEBUG:ludwig.trainers.trainer:training: completed batch 185 memory used: 2944.56MB\n"
          ]
        },
        {
          "output_type": "stream",
          "name": "stdout",
          "text": [
            "Training:  57%|█████▋    | 186/324 [02:08<01:25,  1.62it/s, loss=0.228]"
          ]
        },
        {
          "output_type": "stream",
          "name": "stderr",
          "text": [
            "DEBUG:ludwig.trainers.trainer:training: completed batch 186 memory used: 2944.56MB\n"
          ]
        },
        {
          "output_type": "stream",
          "name": "stdout",
          "text": [
            "Training:  58%|█████▊    | 187/324 [02:09<01:29,  1.53it/s, loss=0.212]"
          ]
        },
        {
          "output_type": "stream",
          "name": "stderr",
          "text": [
            "DEBUG:ludwig.trainers.trainer:training: completed batch 187 memory used: 2944.56MB\n"
          ]
        },
        {
          "output_type": "stream",
          "name": "stdout",
          "text": [
            "Training:  58%|█████▊    | 188/324 [02:09<01:27,  1.56it/s, loss=0.102]"
          ]
        },
        {
          "output_type": "stream",
          "name": "stderr",
          "text": [
            "DEBUG:ludwig.trainers.trainer:training: completed batch 188 memory used: 2944.56MB\n"
          ]
        },
        {
          "output_type": "stream",
          "name": "stdout",
          "text": [
            "Training:  58%|█████▊    | 189/324 [02:10<01:22,  1.63it/s, loss=0.315]"
          ]
        },
        {
          "output_type": "stream",
          "name": "stderr",
          "text": [
            "DEBUG:ludwig.trainers.trainer:training: completed batch 189 memory used: 2944.56MB\n"
          ]
        },
        {
          "output_type": "stream",
          "name": "stdout",
          "text": [
            "Training:  59%|█████▊    | 190/324 [02:10<01:20,  1.65it/s, loss=0.208]"
          ]
        },
        {
          "output_type": "stream",
          "name": "stderr",
          "text": [
            "DEBUG:ludwig.trainers.trainer:training: completed batch 190 memory used: 2944.56MB\n"
          ]
        },
        {
          "output_type": "stream",
          "name": "stdout",
          "text": [
            "Training:  59%|█████▉    | 191/324 [02:11<01:18,  1.69it/s, loss=0.227]"
          ]
        },
        {
          "output_type": "stream",
          "name": "stderr",
          "text": [
            "DEBUG:ludwig.trainers.trainer:training: completed batch 191 memory used: 2944.56MB\n"
          ]
        },
        {
          "output_type": "stream",
          "name": "stdout",
          "text": [
            "Training:  59%|█████▉    | 192/324 [02:11<01:16,  1.71it/s, loss=0.256]"
          ]
        },
        {
          "output_type": "stream",
          "name": "stderr",
          "text": [
            "DEBUG:ludwig.trainers.trainer:training: completed batch 192 memory used: 2944.56MB\n"
          ]
        },
        {
          "output_type": "stream",
          "name": "stdout",
          "text": [
            "Training:  60%|█████▉    | 193/324 [02:12<01:15,  1.73it/s, loss=0.302]"
          ]
        },
        {
          "output_type": "stream",
          "name": "stderr",
          "text": [
            "DEBUG:ludwig.trainers.trainer:training: completed batch 193 memory used: 2944.56MB\n"
          ]
        },
        {
          "output_type": "stream",
          "name": "stdout",
          "text": [
            "Training:  60%|█████▉    | 194/324 [02:13<01:13,  1.76it/s, loss=0.277]"
          ]
        },
        {
          "output_type": "stream",
          "name": "stderr",
          "text": [
            "DEBUG:ludwig.trainers.trainer:training: completed batch 194 memory used: 2944.56MB\n"
          ]
        },
        {
          "output_type": "stream",
          "name": "stdout",
          "text": [
            "Training:  60%|██████    | 195/324 [02:13<01:12,  1.78it/s, loss=0.246]"
          ]
        },
        {
          "output_type": "stream",
          "name": "stderr",
          "text": [
            "DEBUG:ludwig.trainers.trainer:training: completed batch 195 memory used: 2944.56MB\n"
          ]
        },
        {
          "output_type": "stream",
          "name": "stdout",
          "text": [
            "Training:  60%|██████    | 196/324 [02:14<01:13,  1.75it/s, loss=0.224]"
          ]
        },
        {
          "output_type": "stream",
          "name": "stderr",
          "text": [
            "DEBUG:ludwig.trainers.trainer:training: completed batch 196 memory used: 2944.56MB\n"
          ]
        },
        {
          "output_type": "stream",
          "name": "stdout",
          "text": [
            "Training:  61%|██████    | 197/324 [02:14<01:16,  1.67it/s, loss=0.219]"
          ]
        },
        {
          "output_type": "stream",
          "name": "stderr",
          "text": [
            "DEBUG:ludwig.trainers.trainer:training: completed batch 197 memory used: 2944.56MB\n"
          ]
        },
        {
          "output_type": "stream",
          "name": "stdout",
          "text": [
            "Training:  61%|██████    | 198/324 [02:15<01:13,  1.72it/s, loss=0.218]"
          ]
        },
        {
          "output_type": "stream",
          "name": "stderr",
          "text": [
            "DEBUG:ludwig.trainers.trainer:training: completed batch 198 memory used: 2944.56MB\n"
          ]
        },
        {
          "output_type": "stream",
          "name": "stdout",
          "text": [
            "Training:  61%|██████▏   | 199/324 [02:15<01:12,  1.73it/s, loss=0.23]"
          ]
        },
        {
          "output_type": "stream",
          "name": "stderr",
          "text": [
            "DEBUG:ludwig.trainers.trainer:training: completed batch 199 memory used: 2944.56MB\n"
          ]
        },
        {
          "output_type": "stream",
          "name": "stdout",
          "text": [
            "Training:  62%|██████▏   | 200/324 [02:16<01:12,  1.72it/s, loss=0.333]"
          ]
        },
        {
          "output_type": "stream",
          "name": "stderr",
          "text": [
            "DEBUG:ludwig.trainers.trainer:training: completed batch 200 memory used: 2944.56MB\n"
          ]
        },
        {
          "output_type": "stream",
          "name": "stdout",
          "text": [
            "Training:  62%|██████▏   | 201/324 [02:17<01:11,  1.73it/s, loss=0.308]"
          ]
        },
        {
          "output_type": "stream",
          "name": "stderr",
          "text": [
            "DEBUG:ludwig.trainers.trainer:training: completed batch 201 memory used: 2944.56MB\n"
          ]
        },
        {
          "output_type": "stream",
          "name": "stdout",
          "text": [
            "Training:  62%|██████▏   | 202/324 [02:17<01:09,  1.76it/s, loss=0.451]"
          ]
        },
        {
          "output_type": "stream",
          "name": "stderr",
          "text": [
            "DEBUG:ludwig.trainers.trainer:training: completed batch 202 memory used: 2944.56MB\n"
          ]
        },
        {
          "output_type": "stream",
          "name": "stdout",
          "text": [
            "Training:  63%|██████▎   | 203/324 [02:18<01:09,  1.75it/s, loss=0.214]"
          ]
        },
        {
          "output_type": "stream",
          "name": "stderr",
          "text": [
            "DEBUG:ludwig.trainers.trainer:training: completed batch 203 memory used: 2944.56MB\n"
          ]
        },
        {
          "output_type": "stream",
          "name": "stdout",
          "text": [
            "Training:  63%|██████▎   | 204/324 [02:18<01:11,  1.68it/s, loss=0.287]"
          ]
        },
        {
          "output_type": "stream",
          "name": "stderr",
          "text": [
            "DEBUG:ludwig.trainers.trainer:training: completed batch 204 memory used: 2944.56MB\n"
          ]
        },
        {
          "output_type": "stream",
          "name": "stdout",
          "text": [
            "Training:  63%|██████▎   | 205/324 [02:19<01:09,  1.70it/s, loss=0.265]"
          ]
        },
        {
          "output_type": "stream",
          "name": "stderr",
          "text": [
            "DEBUG:ludwig.trainers.trainer:training: completed batch 205 memory used: 2944.56MB\n"
          ]
        },
        {
          "output_type": "stream",
          "name": "stdout",
          "text": [
            "Training:  64%|██████▎   | 206/324 [02:20<01:07,  1.76it/s, loss=0.408]"
          ]
        },
        {
          "output_type": "stream",
          "name": "stderr",
          "text": [
            "DEBUG:ludwig.trainers.trainer:training: completed batch 206 memory used: 2944.56MB\n"
          ]
        },
        {
          "output_type": "stream",
          "name": "stdout",
          "text": [
            "Training:  64%|██████▍   | 207/324 [02:20<01:06,  1.76it/s, loss=0.332]"
          ]
        },
        {
          "output_type": "stream",
          "name": "stderr",
          "text": [
            "DEBUG:ludwig.trainers.trainer:training: completed batch 207 memory used: 2944.56MB\n"
          ]
        },
        {
          "output_type": "stream",
          "name": "stdout",
          "text": [
            "Training:  64%|██████▍   | 208/324 [02:21<01:06,  1.75it/s, loss=0.151]"
          ]
        },
        {
          "output_type": "stream",
          "name": "stderr",
          "text": [
            "DEBUG:ludwig.trainers.trainer:training: completed batch 208 memory used: 2944.56MB\n"
          ]
        },
        {
          "output_type": "stream",
          "name": "stdout",
          "text": [
            "Training:  65%|██████▍   | 209/324 [02:21<01:05,  1.77it/s, loss=0.295]"
          ]
        },
        {
          "output_type": "stream",
          "name": "stderr",
          "text": [
            "DEBUG:ludwig.trainers.trainer:training: completed batch 209 memory used: 2944.56MB\n"
          ]
        },
        {
          "output_type": "stream",
          "name": "stdout",
          "text": [
            "Training:  65%|██████▍   | 210/324 [02:22<01:05,  1.75it/s, loss=0.183]"
          ]
        },
        {
          "output_type": "stream",
          "name": "stderr",
          "text": [
            "DEBUG:ludwig.trainers.trainer:training: completed batch 210 memory used: 2944.56MB\n"
          ]
        },
        {
          "output_type": "stream",
          "name": "stdout",
          "text": [
            "Training:  65%|██████▌   | 211/324 [02:22<01:02,  1.80it/s, loss=0.264]"
          ]
        },
        {
          "output_type": "stream",
          "name": "stderr",
          "text": [
            "DEBUG:ludwig.trainers.trainer:training: completed batch 211 memory used: 2944.56MB\n"
          ]
        },
        {
          "output_type": "stream",
          "name": "stdout",
          "text": [
            "Training:  65%|██████▌   | 212/324 [02:23<01:04,  1.73it/s, loss=0.347]"
          ]
        },
        {
          "output_type": "stream",
          "name": "stderr",
          "text": [
            "DEBUG:ludwig.trainers.trainer:training: completed batch 212 memory used: 2944.56MB\n"
          ]
        },
        {
          "output_type": "stream",
          "name": "stdout",
          "text": [
            "Training:  66%|██████▌   | 213/324 [02:24<01:03,  1.74it/s, loss=0.262]"
          ]
        },
        {
          "output_type": "stream",
          "name": "stderr",
          "text": [
            "DEBUG:ludwig.trainers.trainer:training: completed batch 213 memory used: 2944.56MB\n"
          ]
        },
        {
          "output_type": "stream",
          "name": "stdout",
          "text": [
            "Training:  66%|██████▌   | 214/324 [02:24<01:03,  1.74it/s, loss=0.185]"
          ]
        },
        {
          "output_type": "stream",
          "name": "stderr",
          "text": [
            "DEBUG:ludwig.trainers.trainer:training: completed batch 214 memory used: 2944.56MB\n"
          ]
        },
        {
          "output_type": "stream",
          "name": "stdout",
          "text": [
            "Training:  66%|██████▋   | 215/324 [02:25<01:03,  1.73it/s, loss=0.231]"
          ]
        },
        {
          "output_type": "stream",
          "name": "stderr",
          "text": [
            "DEBUG:ludwig.trainers.trainer:training: completed batch 215 memory used: 2944.56MB\n"
          ]
        },
        {
          "output_type": "stream",
          "name": "stdout",
          "text": [
            "Training:  67%|██████▋   | 216/324 [02:25<01:07,  1.61it/s, loss=0.22]"
          ]
        },
        {
          "output_type": "stream",
          "name": "stderr",
          "text": [
            "DEBUG:ludwig.trainers.trainer:training: completed batch 216 memory used: 2944.56MB\n",
            "INFO:ludwig.trainers.trainer:\n",
            "Running evaluation for step: 216, epoch: 1\n"
          ]
        },
        {
          "output_type": "stream",
          "name": "stdout",
          "text": [
            "\rEvaluation valid:   0%|          | 0/8 [00:00<?, ?it/s]"
          ]
        },
        {
          "output_type": "stream",
          "name": "stderr",
          "text": [
            "DEBUG:ludwig.models.predictor:evaluation for validation: obtained next batch memory used: 2944.56MB\n"
          ]
        },
        {
          "output_type": "stream",
          "name": "stdout",
          "text": [
            "\rEvaluation valid:  12%|█▎        | 1/8 [00:00<00:04,  1.62it/s]"
          ]
        },
        {
          "output_type": "stream",
          "name": "stderr",
          "text": [
            "DEBUG:ludwig.models.predictor:evaluation for validation: completed batch 1 memory used: 2946.13MB\n",
            "DEBUG:ludwig.models.predictor:evaluation for validation: obtained next batch memory used: 2946.13MB\n"
          ]
        },
        {
          "output_type": "stream",
          "name": "stdout",
          "text": [
            "\rEvaluation valid:  25%|██▌       | 2/8 [00:01<00:02,  2.05it/s]"
          ]
        },
        {
          "output_type": "stream",
          "name": "stderr",
          "text": [
            "DEBUG:ludwig.models.predictor:evaluation for validation: completed batch 2 memory used: 2946.13MB\n",
            "DEBUG:ludwig.models.predictor:evaluation for validation: obtained next batch memory used: 2946.13MB\n"
          ]
        },
        {
          "output_type": "stream",
          "name": "stdout",
          "text": [
            "\rEvaluation valid:  38%|███▊      | 3/8 [00:01<00:02,  1.95it/s]"
          ]
        },
        {
          "output_type": "stream",
          "name": "stderr",
          "text": [
            "DEBUG:ludwig.models.predictor:evaluation for validation: completed batch 3 memory used: 2946.13MB\n",
            "DEBUG:ludwig.models.predictor:evaluation for validation: obtained next batch memory used: 2946.13MB\n"
          ]
        },
        {
          "output_type": "stream",
          "name": "stdout",
          "text": [
            "\rEvaluation valid:  50%|█████     | 4/8 [00:01<00:01,  2.11it/s]"
          ]
        },
        {
          "output_type": "stream",
          "name": "stderr",
          "text": [
            "DEBUG:ludwig.models.predictor:evaluation for validation: completed batch 4 memory used: 2946.13MB\n",
            "DEBUG:ludwig.models.predictor:evaluation for validation: obtained next batch memory used: 2946.13MB\n"
          ]
        },
        {
          "output_type": "stream",
          "name": "stdout",
          "text": [
            "\rEvaluation valid:  62%|██████▎   | 5/8 [00:02<00:01,  2.28it/s]"
          ]
        },
        {
          "output_type": "stream",
          "name": "stderr",
          "text": [
            "DEBUG:ludwig.models.predictor:evaluation for validation: completed batch 5 memory used: 2946.13MB\n",
            "DEBUG:ludwig.models.predictor:evaluation for validation: obtained next batch memory used: 2946.13MB\n"
          ]
        },
        {
          "output_type": "stream",
          "name": "stdout",
          "text": [
            "\rEvaluation valid:  75%|███████▌  | 6/8 [00:02<00:00,  2.08it/s]"
          ]
        },
        {
          "output_type": "stream",
          "name": "stderr",
          "text": [
            "DEBUG:ludwig.models.predictor:evaluation for validation: completed batch 6 memory used: 2946.13MB\n",
            "DEBUG:ludwig.models.predictor:evaluation for validation: obtained next batch memory used: 2946.13MB\n"
          ]
        },
        {
          "output_type": "stream",
          "name": "stdout",
          "text": [
            "\rEvaluation valid:  88%|████████▊ | 7/8 [00:03<00:00,  2.17it/s]"
          ]
        },
        {
          "output_type": "stream",
          "name": "stderr",
          "text": [
            "DEBUG:ludwig.models.predictor:evaluation for validation: completed batch 7 memory used: 2946.13MB\n",
            "DEBUG:ludwig.models.predictor:evaluation for validation: obtained next batch memory used: 2946.13MB\n"
          ]
        },
        {
          "output_type": "stream",
          "name": "stdout",
          "text": [
            "\rEvaluation valid: 100%|██████████| 8/8 [00:03<00:00,  2.46it/s]"
          ]
        },
        {
          "output_type": "stream",
          "name": "stderr",
          "text": [
            "DEBUG:ludwig.models.predictor:evaluation for validation: completed batch 8 memory used: 2946.13MB\n"
          ]
        },
        {
          "output_type": "stream",
          "name": "stdout",
          "text": [
            "Evaluation valid: 100%|██████████| 8/8 [00:03<00:00,  2.21it/s]\n",
            "Evaluation test :   0%|          | 0/15 [00:00<?, ?it/s]"
          ]
        },
        {
          "output_type": "stream",
          "name": "stderr",
          "text": [
            "DEBUG:ludwig.models.predictor:evaluation for test: obtained next batch memory used: 2946.13MB\n"
          ]
        },
        {
          "output_type": "stream",
          "name": "stdout",
          "text": [
            "\rEvaluation test :   7%|▋         | 1/15 [00:00<00:05,  2.34it/s]"
          ]
        },
        {
          "output_type": "stream",
          "name": "stderr",
          "text": [
            "DEBUG:ludwig.models.predictor:evaluation for test: completed batch 1 memory used: 2946.13MB\n",
            "DEBUG:ludwig.models.predictor:evaluation for test: obtained next batch memory used: 2946.13MB\n"
          ]
        },
        {
          "output_type": "stream",
          "name": "stdout",
          "text": [
            "\rEvaluation test :  13%|█▎        | 2/15 [00:00<00:06,  2.14it/s]"
          ]
        },
        {
          "output_type": "stream",
          "name": "stderr",
          "text": [
            "DEBUG:ludwig.models.predictor:evaluation for test: completed batch 2 memory used: 2946.13MB\n",
            "DEBUG:ludwig.models.predictor:evaluation for test: obtained next batch memory used: 2946.13MB\n"
          ]
        },
        {
          "output_type": "stream",
          "name": "stdout",
          "text": [
            "\rEvaluation test :  20%|██        | 3/15 [00:01<00:05,  2.26it/s]"
          ]
        },
        {
          "output_type": "stream",
          "name": "stderr",
          "text": [
            "DEBUG:ludwig.models.predictor:evaluation for test: completed batch 3 memory used: 2946.13MB\n",
            "DEBUG:ludwig.models.predictor:evaluation for test: obtained next batch memory used: 2946.13MB\n"
          ]
        },
        {
          "output_type": "stream",
          "name": "stdout",
          "text": [
            "\rEvaluation test :  27%|██▋       | 4/15 [00:01<00:04,  2.32it/s]"
          ]
        },
        {
          "output_type": "stream",
          "name": "stderr",
          "text": [
            "DEBUG:ludwig.models.predictor:evaluation for test: completed batch 4 memory used: 2946.13MB\n",
            "DEBUG:ludwig.models.predictor:evaluation for test: obtained next batch memory used: 2946.13MB\n"
          ]
        },
        {
          "output_type": "stream",
          "name": "stdout",
          "text": [
            "\rEvaluation test :  33%|███▎      | 5/15 [00:02<00:04,  2.41it/s]"
          ]
        },
        {
          "output_type": "stream",
          "name": "stderr",
          "text": [
            "DEBUG:ludwig.models.predictor:evaluation for test: completed batch 5 memory used: 2946.13MB\n",
            "DEBUG:ludwig.models.predictor:evaluation for test: obtained next batch memory used: 2946.13MB\n"
          ]
        },
        {
          "output_type": "stream",
          "name": "stdout",
          "text": [
            "\rEvaluation test :  40%|████      | 6/15 [00:02<00:04,  2.09it/s]"
          ]
        },
        {
          "output_type": "stream",
          "name": "stderr",
          "text": [
            "DEBUG:ludwig.models.predictor:evaluation for test: completed batch 6 memory used: 2946.13MB\n",
            "DEBUG:ludwig.models.predictor:evaluation for test: obtained next batch memory used: 2946.13MB\n"
          ]
        },
        {
          "output_type": "stream",
          "name": "stdout",
          "text": [
            "\rEvaluation test :  47%|████▋     | 7/15 [00:03<00:03,  2.03it/s]"
          ]
        },
        {
          "output_type": "stream",
          "name": "stderr",
          "text": [
            "DEBUG:ludwig.models.predictor:evaluation for test: completed batch 7 memory used: 2946.13MB\n",
            "DEBUG:ludwig.models.predictor:evaluation for test: obtained next batch memory used: 2946.13MB\n"
          ]
        },
        {
          "output_type": "stream",
          "name": "stdout",
          "text": [
            "\rEvaluation test :  53%|█████▎    | 8/15 [00:03<00:03,  2.14it/s]"
          ]
        },
        {
          "output_type": "stream",
          "name": "stderr",
          "text": [
            "DEBUG:ludwig.models.predictor:evaluation for test: completed batch 8 memory used: 2946.13MB\n",
            "DEBUG:ludwig.models.predictor:evaluation for test: obtained next batch memory used: 2946.13MB\n"
          ]
        },
        {
          "output_type": "stream",
          "name": "stdout",
          "text": [
            "\rEvaluation test :  60%|██████    | 9/15 [00:04<00:02,  2.13it/s]"
          ]
        },
        {
          "output_type": "stream",
          "name": "stderr",
          "text": [
            "DEBUG:ludwig.models.predictor:evaluation for test: completed batch 9 memory used: 2946.13MB\n",
            "DEBUG:ludwig.models.predictor:evaluation for test: obtained next batch memory used: 2946.13MB\n"
          ]
        },
        {
          "output_type": "stream",
          "name": "stdout",
          "text": [
            "\rEvaluation test :  67%|██████▋   | 10/15 [00:04<00:02,  1.95it/s]"
          ]
        },
        {
          "output_type": "stream",
          "name": "stderr",
          "text": [
            "DEBUG:ludwig.models.predictor:evaluation for test: completed batch 10 memory used: 2946.13MB\n",
            "DEBUG:ludwig.models.predictor:evaluation for test: obtained next batch memory used: 2946.13MB\n"
          ]
        },
        {
          "output_type": "stream",
          "name": "stdout",
          "text": [
            "\rEvaluation test :  73%|███████▎  | 11/15 [00:05<00:02,  1.94it/s]"
          ]
        },
        {
          "output_type": "stream",
          "name": "stderr",
          "text": [
            "DEBUG:ludwig.models.predictor:evaluation for test: completed batch 11 memory used: 2946.13MB\n",
            "DEBUG:ludwig.models.predictor:evaluation for test: obtained next batch memory used: 2946.13MB\n"
          ]
        },
        {
          "output_type": "stream",
          "name": "stdout",
          "text": [
            "\rEvaluation test :  80%|████████  | 12/15 [00:05<00:01,  1.82it/s]"
          ]
        },
        {
          "output_type": "stream",
          "name": "stderr",
          "text": [
            "DEBUG:ludwig.models.predictor:evaluation for test: completed batch 12 memory used: 2946.13MB\n",
            "DEBUG:ludwig.models.predictor:evaluation for test: obtained next batch memory used: 2946.13MB\n"
          ]
        },
        {
          "output_type": "stream",
          "name": "stdout",
          "text": [
            "\rEvaluation test :  87%|████████▋ | 13/15 [00:06<00:01,  1.87it/s]"
          ]
        },
        {
          "output_type": "stream",
          "name": "stderr",
          "text": [
            "DEBUG:ludwig.models.predictor:evaluation for test: completed batch 13 memory used: 2946.13MB\n",
            "DEBUG:ludwig.models.predictor:evaluation for test: obtained next batch memory used: 2946.13MB\n"
          ]
        },
        {
          "output_type": "stream",
          "name": "stdout",
          "text": [
            "\rEvaluation test :  93%|█████████▎| 14/15 [00:06<00:00,  1.82it/s]"
          ]
        },
        {
          "output_type": "stream",
          "name": "stderr",
          "text": [
            "DEBUG:ludwig.models.predictor:evaluation for test: completed batch 14 memory used: 2946.13MB\n",
            "DEBUG:ludwig.models.predictor:evaluation for test: obtained next batch memory used: 2946.13MB\n"
          ]
        },
        {
          "output_type": "stream",
          "name": "stdout",
          "text": [
            "\rEvaluation test : 100%|██████████| 15/15 [00:07<00:00,  1.74it/s]"
          ]
        },
        {
          "output_type": "stream",
          "name": "stderr",
          "text": [
            "DEBUG:ludwig.models.predictor:evaluation for test: completed batch 15 memory used: 2946.13MB\n"
          ]
        },
        {
          "output_type": "stream",
          "name": "stdout",
          "text": [
            "\rEvaluation test : 100%|██████████| 15/15 [00:07<00:00,  1.97it/s]"
          ]
        },
        {
          "output_type": "stream",
          "name": "stderr",
          "text": [
            "INFO:ludwig.trainers.trainer:Evaluation took 11.5161s\n",
            "\n",
            "INFO:ludwig.utils.metrics_printed_table:╒═══════════════════════╤════════════╤══════════════╤════════════╕\n",
            "│                       │      train │   validation │       test │\n",
            "╞═══════════════════════╪════════════╪══════════════╪════════════╡\n",
            "│ bleu                  │     0.0646 │       0.0454 │     0.0502 │\n",
            "├───────────────────────┼────────────┼──────────────┼────────────┤\n",
            "│ char_error_rate       │     2.4547 │       2.1022 │     1.9988 │\n",
            "├───────────────────────┼────────────┼──────────────┼────────────┤\n",
            "│ loss                  │     1.7964 │       1.9912 │     2.2111 │\n",
            "├───────────────────────┼────────────┼──────────────┼────────────┤\n",
            "│ next_token_perplexity │ 19313.2070 │   20050.0332 │ 20393.2148 │\n",
            "├───────────────────────┼────────────┼──────────────┼────────────┤\n",
            "│ perplexity            │ 31952.0645 │   31883.7598 │ 31914.6660 │\n",
            "├───────────────────────┼────────────┼──────────────┼────────────┤\n",
            "│ rouge1_fmeasure       │     0.2951 │       0.2860 │     0.2799 │\n",
            "├───────────────────────┼────────────┼──────────────┼────────────┤\n",
            "│ rouge1_precision      │     0.1981 │       0.1973 │     0.1952 │\n",
            "├───────────────────────┼────────────┼──────────────┼────────────┤\n",
            "│ rouge1_recall         │     0.6115 │       0.5482 │     0.5214 │\n",
            "├───────────────────────┼────────────┼──────────────┼────────────┤\n",
            "│ rouge2_fmeasure       │     0.1428 │       0.1002 │     0.0981 │\n",
            "├───────────────────────┼────────────┼──────────────┼────────────┤\n",
            "│ rouge2_precision      │     0.0948 │       0.0692 │     0.0687 │\n",
            "├───────────────────────┼────────────┼──────────────┼────────────┤\n",
            "│ rouge2_recall         │     0.3139 │       0.1911 │     0.1804 │\n",
            "├───────────────────────┼────────────┼──────────────┼────────────┤\n",
            "│ rougeL_fmeasure       │     0.2595 │       0.2360 │     0.2290 │\n",
            "├───────────────────────┼────────────┼──────────────┼────────────┤\n",
            "│ rougeL_precision      │     0.1736 │       0.1628 │     0.1595 │\n",
            "├───────────────────────┼────────────┼──────────────┼────────────┤\n",
            "│ rougeL_recall         │     0.5456 │       0.4520 │     0.4274 │\n",
            "├───────────────────────┼────────────┼──────────────┼────────────┤\n",
            "│ rougeLsum_fmeasure    │     0.2800 │       0.2663 │     0.2571 │\n",
            "├───────────────────────┼────────────┼──────────────┼────────────┤\n",
            "│ rougeLsum_precision   │     0.1878 │       0.1836 │     0.1794 │\n",
            "├───────────────────────┼────────────┼──────────────┼────────────┤\n",
            "│ rougeLsum_recall      │     0.5830 │       0.5102 │     0.4773 │\n",
            "├───────────────────────┼────────────┼──────────────┼────────────┤\n",
            "│ sequence_accuracy     │     0.0000 │       0.0000 │     0.0000 │\n",
            "├───────────────────────┼────────────┼──────────────┼────────────┤\n",
            "│ token_accuracy        │     0.0000 │       0.0013 │     0.0007 │\n",
            "├───────────────────────┼────────────┼──────────────┼────────────┤\n",
            "│ word_error_rate       │     2.6645 │       2.3725 │     2.3024 │\n",
            "├───────────────────────┼────────────┼──────────────┼────────────┤\n",
            "│ combined_loss         │     1.7964 │       1.9912 │     2.2111 │\n",
            "╘═══════════════════════╧════════════╧══════════════╧════════════╛\n",
            "INFO:ludwig.trainers.trainer:Evaluation validation metric: 'Answer' 'loss' improved.\n",
            "INFO:ludwig.trainers.trainer:'Answer' 'loss' decreased by 0.151.\n",
            "INFO:ludwig.trainers.trainer:New best model saved.\n",
            "\n"
          ]
        },
        {
          "output_type": "stream",
          "name": "stdout",
          "text": [
            "\n"
          ]
        },
        {
          "output_type": "stream",
          "name": "stderr",
          "text": [
            "DEBUG:ludwig.utils.checkpoint_utils:Saved checkpoint at /content/drive/MyDrive/ImpDocs/Work/AICoach/Notebooks/data/results/api_experiment_run_0/model/training_checkpoints/best.ckpt.\n",
            "DEBUG:ludwig.utils.checkpoint_utils:Saved checkpoint at /content/drive/MyDrive/ImpDocs/Work/AICoach/Notebooks/data/results/api_experiment_run_0/model/training_checkpoints/latest.ckpt.\n",
            "DEBUG:ludwig.trainers.trainer:Epoch 2 took: 1m 18.3187s.\n",
            "DEBUG:ludwig.utils.checkpoint_utils:Saved checkpoint at /content/drive/MyDrive/ImpDocs/Work/AICoach/Notebooks/data/results/api_experiment_run_0/model/training_checkpoints/latest.ckpt.\n"
          ]
        },
        {
          "output_type": "stream",
          "name": "stdout",
          "text": [
            "Training:  67%|██████▋   | 217/324 [02:39<08:15,  4.63s/it, loss=0.123]"
          ]
        },
        {
          "output_type": "stream",
          "name": "stderr",
          "text": [
            "DEBUG:ludwig.trainers.trainer:training: completed batch 217 memory used: 2946.13MB\n"
          ]
        },
        {
          "output_type": "stream",
          "name": "stdout",
          "text": [
            "Training:  67%|██████▋   | 218/324 [02:40<06:06,  3.46s/it, loss=0.163]"
          ]
        },
        {
          "output_type": "stream",
          "name": "stderr",
          "text": [
            "DEBUG:ludwig.trainers.trainer:training: completed batch 218 memory used: 2946.13MB\n"
          ]
        },
        {
          "output_type": "stream",
          "name": "stdout",
          "text": [
            "Training:  68%|██████▊   | 219/324 [02:41<04:35,  2.62s/it, loss=0.205]"
          ]
        },
        {
          "output_type": "stream",
          "name": "stderr",
          "text": [
            "DEBUG:ludwig.trainers.trainer:training: completed batch 219 memory used: 2946.13MB\n"
          ]
        },
        {
          "output_type": "stream",
          "name": "stdout",
          "text": [
            "Training:  68%|██████▊   | 220/324 [02:41<03:28,  2.00s/it, loss=0.194]"
          ]
        },
        {
          "output_type": "stream",
          "name": "stderr",
          "text": [
            "DEBUG:ludwig.trainers.trainer:training: completed batch 220 memory used: 2946.13MB\n"
          ]
        },
        {
          "output_type": "stream",
          "name": "stdout",
          "text": [
            "Training:  68%|██████▊   | 221/324 [02:42<02:41,  1.57s/it, loss=0.167]"
          ]
        },
        {
          "output_type": "stream",
          "name": "stderr",
          "text": [
            "DEBUG:ludwig.trainers.trainer:training: completed batch 221 memory used: 2946.13MB\n"
          ]
        },
        {
          "output_type": "stream",
          "name": "stdout",
          "text": [
            "Training:  69%|██████▊   | 222/324 [02:42<02:09,  1.27s/it, loss=0.257]"
          ]
        },
        {
          "output_type": "stream",
          "name": "stderr",
          "text": [
            "DEBUG:ludwig.trainers.trainer:training: completed batch 222 memory used: 2946.13MB\n"
          ]
        },
        {
          "output_type": "stream",
          "name": "stdout",
          "text": [
            "Training:  69%|██████▉   | 223/324 [02:43<01:46,  1.06s/it, loss=0.241]"
          ]
        },
        {
          "output_type": "stream",
          "name": "stderr",
          "text": [
            "DEBUG:ludwig.trainers.trainer:training: completed batch 223 memory used: 2946.13MB\n"
          ]
        },
        {
          "output_type": "stream",
          "name": "stdout",
          "text": [
            "Training:  69%|██████▉   | 224/324 [02:44<01:40,  1.00s/it, loss=0.194]"
          ]
        },
        {
          "output_type": "stream",
          "name": "stderr",
          "text": [
            "DEBUG:ludwig.trainers.trainer:training: completed batch 224 memory used: 2946.13MB\n"
          ]
        },
        {
          "output_type": "stream",
          "name": "stdout",
          "text": [
            "Training:  69%|██████▉   | 225/324 [02:44<01:26,  1.15it/s, loss=0.257]"
          ]
        },
        {
          "output_type": "stream",
          "name": "stderr",
          "text": [
            "DEBUG:ludwig.trainers.trainer:training: completed batch 225 memory used: 2946.13MB\n"
          ]
        },
        {
          "output_type": "stream",
          "name": "stdout",
          "text": [
            "Training:  70%|██████▉   | 226/324 [02:45<01:18,  1.26it/s, loss=0.217]"
          ]
        },
        {
          "output_type": "stream",
          "name": "stderr",
          "text": [
            "DEBUG:ludwig.trainers.trainer:training: completed batch 226 memory used: 2946.13MB\n"
          ]
        },
        {
          "output_type": "stream",
          "name": "stdout",
          "text": [
            "Training:  70%|███████   | 227/324 [02:46<01:11,  1.36it/s, loss=0.172]"
          ]
        },
        {
          "output_type": "stream",
          "name": "stderr",
          "text": [
            "DEBUG:ludwig.trainers.trainer:training: completed batch 227 memory used: 2946.13MB\n"
          ]
        },
        {
          "output_type": "stream",
          "name": "stdout",
          "text": [
            "Training:  70%|███████   | 228/324 [02:46<01:05,  1.47it/s, loss=0.252]"
          ]
        },
        {
          "output_type": "stream",
          "name": "stderr",
          "text": [
            "DEBUG:ludwig.trainers.trainer:training: completed batch 228 memory used: 2946.13MB\n"
          ]
        },
        {
          "output_type": "stream",
          "name": "stdout",
          "text": [
            "Training:  71%|███████   | 229/324 [02:47<01:00,  1.56it/s, loss=0.241]"
          ]
        },
        {
          "output_type": "stream",
          "name": "stderr",
          "text": [
            "DEBUG:ludwig.trainers.trainer:training: completed batch 229 memory used: 2946.13MB\n"
          ]
        },
        {
          "output_type": "stream",
          "name": "stdout",
          "text": [
            "Training:  71%|███████   | 230/324 [02:47<00:57,  1.63it/s, loss=0.207]"
          ]
        },
        {
          "output_type": "stream",
          "name": "stderr",
          "text": [
            "DEBUG:ludwig.trainers.trainer:training: completed batch 230 memory used: 2946.13MB\n"
          ]
        },
        {
          "output_type": "stream",
          "name": "stdout",
          "text": [
            "Training:  71%|███████▏  | 231/324 [02:48<00:55,  1.67it/s, loss=0.181]"
          ]
        },
        {
          "output_type": "stream",
          "name": "stderr",
          "text": [
            "DEBUG:ludwig.trainers.trainer:training: completed batch 231 memory used: 2946.13MB\n"
          ]
        },
        {
          "output_type": "stream",
          "name": "stdout",
          "text": [
            "Training:  72%|███████▏  | 232/324 [02:49<00:59,  1.54it/s, loss=0.208]"
          ]
        },
        {
          "output_type": "stream",
          "name": "stderr",
          "text": [
            "DEBUG:ludwig.trainers.trainer:training: completed batch 232 memory used: 2946.13MB\n"
          ]
        },
        {
          "output_type": "stream",
          "name": "stdout",
          "text": [
            "Training:  72%|███████▏  | 233/324 [02:49<01:00,  1.49it/s, loss=0.241]"
          ]
        },
        {
          "output_type": "stream",
          "name": "stderr",
          "text": [
            "DEBUG:ludwig.trainers.trainer:training: completed batch 233 memory used: 2946.13MB\n"
          ]
        },
        {
          "output_type": "stream",
          "name": "stdout",
          "text": [
            "Training:  72%|███████▏  | 234/324 [02:50<00:58,  1.55it/s, loss=0.195]"
          ]
        },
        {
          "output_type": "stream",
          "name": "stderr",
          "text": [
            "DEBUG:ludwig.trainers.trainer:training: completed batch 234 memory used: 2946.13MB\n"
          ]
        },
        {
          "output_type": "stream",
          "name": "stdout",
          "text": [
            "Training:  73%|███████▎  | 235/324 [02:51<00:55,  1.61it/s, loss=0.187]"
          ]
        },
        {
          "output_type": "stream",
          "name": "stderr",
          "text": [
            "DEBUG:ludwig.trainers.trainer:training: completed batch 235 memory used: 2946.13MB\n"
          ]
        },
        {
          "output_type": "stream",
          "name": "stdout",
          "text": [
            "Training:  73%|███████▎  | 236/324 [02:51<00:53,  1.64it/s, loss=0.221]"
          ]
        },
        {
          "output_type": "stream",
          "name": "stderr",
          "text": [
            "DEBUG:ludwig.trainers.trainer:training: completed batch 236 memory used: 2946.13MB\n"
          ]
        },
        {
          "output_type": "stream",
          "name": "stdout",
          "text": [
            "Training:  73%|███████▎  | 237/324 [02:52<00:51,  1.68it/s, loss=0.242]"
          ]
        },
        {
          "output_type": "stream",
          "name": "stderr",
          "text": [
            "DEBUG:ludwig.trainers.trainer:training: completed batch 237 memory used: 2946.13MB\n"
          ]
        },
        {
          "output_type": "stream",
          "name": "stdout",
          "text": [
            "Training:  73%|███████▎  | 238/324 [02:52<00:51,  1.68it/s, loss=0.18]"
          ]
        },
        {
          "output_type": "stream",
          "name": "stderr",
          "text": [
            "DEBUG:ludwig.trainers.trainer:training: completed batch 238 memory used: 2946.13MB\n"
          ]
        },
        {
          "output_type": "stream",
          "name": "stdout",
          "text": [
            "Training:  74%|███████▍  | 239/324 [02:53<00:52,  1.62it/s, loss=0.23]"
          ]
        },
        {
          "output_type": "stream",
          "name": "stderr",
          "text": [
            "DEBUG:ludwig.trainers.trainer:training: completed batch 239 memory used: 2946.13MB\n"
          ]
        },
        {
          "output_type": "stream",
          "name": "stdout",
          "text": [
            "Training:  74%|███████▍  | 240/324 [02:54<00:51,  1.64it/s, loss=0.517]"
          ]
        },
        {
          "output_type": "stream",
          "name": "stderr",
          "text": [
            "DEBUG:ludwig.trainers.trainer:training: completed batch 240 memory used: 2946.13MB\n"
          ]
        },
        {
          "output_type": "stream",
          "name": "stdout",
          "text": [
            "Training:  74%|███████▍  | 241/324 [02:54<00:49,  1.66it/s, loss=0.202]"
          ]
        },
        {
          "output_type": "stream",
          "name": "stderr",
          "text": [
            "DEBUG:ludwig.trainers.trainer:training: completed batch 241 memory used: 2946.13MB\n"
          ]
        },
        {
          "output_type": "stream",
          "name": "stdout",
          "text": [
            "Training:  75%|███████▍  | 242/324 [02:55<00:47,  1.72it/s, loss=0.19]"
          ]
        },
        {
          "output_type": "stream",
          "name": "stderr",
          "text": [
            "DEBUG:ludwig.trainers.trainer:training: completed batch 242 memory used: 2946.13MB\n"
          ]
        },
        {
          "output_type": "stream",
          "name": "stdout",
          "text": [
            "Training:  75%|███████▌  | 243/324 [02:55<00:47,  1.70it/s, loss=0.22]"
          ]
        },
        {
          "output_type": "stream",
          "name": "stderr",
          "text": [
            "DEBUG:ludwig.trainers.trainer:training: completed batch 243 memory used: 2946.13MB\n"
          ]
        },
        {
          "output_type": "stream",
          "name": "stdout",
          "text": [
            "Training:  75%|███████▌  | 244/324 [02:56<00:46,  1.72it/s, loss=0.107]"
          ]
        },
        {
          "output_type": "stream",
          "name": "stderr",
          "text": [
            "DEBUG:ludwig.trainers.trainer:training: completed batch 244 memory used: 2946.13MB\n"
          ]
        },
        {
          "output_type": "stream",
          "name": "stdout",
          "text": [
            "Training:  76%|███████▌  | 245/324 [02:56<00:45,  1.74it/s, loss=0.269]"
          ]
        },
        {
          "output_type": "stream",
          "name": "stderr",
          "text": [
            "DEBUG:ludwig.trainers.trainer:training: completed batch 245 memory used: 2946.13MB\n"
          ]
        },
        {
          "output_type": "stream",
          "name": "stdout",
          "text": [
            "Training:  76%|███████▌  | 246/324 [02:57<00:44,  1.75it/s, loss=0.206]"
          ]
        },
        {
          "output_type": "stream",
          "name": "stderr",
          "text": [
            "DEBUG:ludwig.trainers.trainer:training: completed batch 246 memory used: 2946.13MB\n"
          ]
        },
        {
          "output_type": "stream",
          "name": "stdout",
          "text": [
            "Training:  76%|███████▌  | 247/324 [02:58<00:46,  1.66it/s, loss=0.211]"
          ]
        },
        {
          "output_type": "stream",
          "name": "stderr",
          "text": [
            "DEBUG:ludwig.trainers.trainer:training: completed batch 247 memory used: 2946.13MB\n"
          ]
        },
        {
          "output_type": "stream",
          "name": "stdout",
          "text": [
            "Training:  77%|███████▋  | 248/324 [02:58<00:45,  1.66it/s, loss=0.207]"
          ]
        },
        {
          "output_type": "stream",
          "name": "stderr",
          "text": [
            "DEBUG:ludwig.trainers.trainer:training: completed batch 248 memory used: 2946.13MB\n"
          ]
        },
        {
          "output_type": "stream",
          "name": "stdout",
          "text": [
            "Training:  77%|███████▋  | 249/324 [02:59<00:43,  1.71it/s, loss=0.242]"
          ]
        },
        {
          "output_type": "stream",
          "name": "stderr",
          "text": [
            "DEBUG:ludwig.trainers.trainer:training: completed batch 249 memory used: 2946.13MB\n"
          ]
        },
        {
          "output_type": "stream",
          "name": "stdout",
          "text": [
            "Training:  77%|███████▋  | 250/324 [02:59<00:46,  1.60it/s, loss=0.19]"
          ]
        },
        {
          "output_type": "stream",
          "name": "stderr",
          "text": [
            "DEBUG:ludwig.trainers.trainer:training: completed batch 250 memory used: 2946.13MB\n"
          ]
        },
        {
          "output_type": "stream",
          "name": "stdout",
          "text": [
            "Training:  77%|███████▋  | 251/324 [03:00<00:44,  1.63it/s, loss=0.217]"
          ]
        },
        {
          "output_type": "stream",
          "name": "stderr",
          "text": [
            "DEBUG:ludwig.trainers.trainer:training: completed batch 251 memory used: 2946.13MB\n"
          ]
        },
        {
          "output_type": "stream",
          "name": "stdout",
          "text": [
            "Training:  78%|███████▊  | 252/324 [03:01<00:43,  1.67it/s, loss=0.198]"
          ]
        },
        {
          "output_type": "stream",
          "name": "stderr",
          "text": [
            "DEBUG:ludwig.trainers.trainer:training: completed batch 252 memory used: 2946.13MB\n"
          ]
        },
        {
          "output_type": "stream",
          "name": "stdout",
          "text": [
            "Training:  78%|███████▊  | 253/324 [03:01<00:42,  1.69it/s, loss=0.302]"
          ]
        },
        {
          "output_type": "stream",
          "name": "stderr",
          "text": [
            "DEBUG:ludwig.trainers.trainer:training: completed batch 253 memory used: 2946.13MB\n"
          ]
        },
        {
          "output_type": "stream",
          "name": "stdout",
          "text": [
            "Training:  78%|███████▊  | 254/324 [03:02<00:40,  1.72it/s, loss=0.167]"
          ]
        },
        {
          "output_type": "stream",
          "name": "stderr",
          "text": [
            "DEBUG:ludwig.trainers.trainer:training: completed batch 254 memory used: 2946.13MB\n"
          ]
        },
        {
          "output_type": "stream",
          "name": "stdout",
          "text": [
            "Training:  79%|███████▊  | 255/324 [03:02<00:40,  1.70it/s, loss=0.163]"
          ]
        },
        {
          "output_type": "stream",
          "name": "stderr",
          "text": [
            "DEBUG:ludwig.trainers.trainer:training: completed batch 255 memory used: 2946.13MB\n"
          ]
        },
        {
          "output_type": "stream",
          "name": "stdout",
          "text": [
            "Training:  79%|███████▉  | 256/324 [03:03<00:39,  1.71it/s, loss=0.182]"
          ]
        },
        {
          "output_type": "stream",
          "name": "stderr",
          "text": [
            "DEBUG:ludwig.trainers.trainer:training: completed batch 256 memory used: 2946.13MB\n"
          ]
        },
        {
          "output_type": "stream",
          "name": "stdout",
          "text": [
            "Training:  79%|███████▉  | 257/324 [03:04<00:39,  1.71it/s, loss=0.196]"
          ]
        },
        {
          "output_type": "stream",
          "name": "stderr",
          "text": [
            "DEBUG:ludwig.trainers.trainer:training: completed batch 257 memory used: 2946.13MB\n"
          ]
        },
        {
          "output_type": "stream",
          "name": "stdout",
          "text": [
            "Training:  80%|███████▉  | 258/324 [03:04<00:38,  1.73it/s, loss=0.0755]"
          ]
        },
        {
          "output_type": "stream",
          "name": "stderr",
          "text": [
            "DEBUG:ludwig.trainers.trainer:training: completed batch 258 memory used: 2946.13MB\n"
          ]
        },
        {
          "output_type": "stream",
          "name": "stdout",
          "text": [
            "Training:  80%|███████▉  | 259/324 [03:05<00:39,  1.64it/s, loss=0.153]"
          ]
        },
        {
          "output_type": "stream",
          "name": "stderr",
          "text": [
            "DEBUG:ludwig.trainers.trainer:training: completed batch 259 memory used: 2946.13MB\n"
          ]
        },
        {
          "output_type": "stream",
          "name": "stdout",
          "text": [
            "Training:  80%|████████  | 260/324 [03:05<00:38,  1.67it/s, loss=0.197]"
          ]
        },
        {
          "output_type": "stream",
          "name": "stderr",
          "text": [
            "DEBUG:ludwig.trainers.trainer:training: completed batch 260 memory used: 2946.13MB\n"
          ]
        },
        {
          "output_type": "stream",
          "name": "stdout",
          "text": [
            "Training:  81%|████████  | 261/324 [03:06<00:37,  1.68it/s, loss=0.19]"
          ]
        },
        {
          "output_type": "stream",
          "name": "stderr",
          "text": [
            "DEBUG:ludwig.trainers.trainer:training: completed batch 261 memory used: 2946.13MB\n"
          ]
        },
        {
          "output_type": "stream",
          "name": "stdout",
          "text": [
            "Training:  81%|████████  | 262/324 [03:07<00:39,  1.57it/s, loss=0.12]"
          ]
        },
        {
          "output_type": "stream",
          "name": "stderr",
          "text": [
            "DEBUG:ludwig.trainers.trainer:training: completed batch 262 memory used: 2946.13MB\n"
          ]
        },
        {
          "output_type": "stream",
          "name": "stdout",
          "text": [
            "Training:  81%|████████  | 263/324 [03:07<00:37,  1.61it/s, loss=0.232]"
          ]
        },
        {
          "output_type": "stream",
          "name": "stderr",
          "text": [
            "DEBUG:ludwig.trainers.trainer:training: completed batch 263 memory used: 2946.13MB\n"
          ]
        },
        {
          "output_type": "stream",
          "name": "stdout",
          "text": [
            "Training:  81%|████████▏ | 264/324 [03:08<00:37,  1.58it/s, loss=0.238]"
          ]
        },
        {
          "output_type": "stream",
          "name": "stderr",
          "text": [
            "DEBUG:ludwig.trainers.trainer:training: completed batch 264 memory used: 2946.13MB\n"
          ]
        },
        {
          "output_type": "stream",
          "name": "stdout",
          "text": [
            "Training:  82%|████████▏ | 265/324 [03:08<00:36,  1.64it/s, loss=0.248]"
          ]
        },
        {
          "output_type": "stream",
          "name": "stderr",
          "text": [
            "DEBUG:ludwig.trainers.trainer:training: completed batch 265 memory used: 2946.13MB\n"
          ]
        },
        {
          "output_type": "stream",
          "name": "stdout",
          "text": [
            "Training:  82%|████████▏ | 266/324 [03:09<00:37,  1.56it/s, loss=0.113]"
          ]
        },
        {
          "output_type": "stream",
          "name": "stderr",
          "text": [
            "DEBUG:ludwig.trainers.trainer:training: completed batch 266 memory used: 2946.13MB\n"
          ]
        },
        {
          "output_type": "stream",
          "name": "stdout",
          "text": [
            "Training:  82%|████████▏ | 267/324 [03:10<00:35,  1.59it/s, loss=0.316]"
          ]
        },
        {
          "output_type": "stream",
          "name": "stderr",
          "text": [
            "DEBUG:ludwig.trainers.trainer:training: completed batch 267 memory used: 2946.13MB\n"
          ]
        },
        {
          "output_type": "stream",
          "name": "stdout",
          "text": [
            "Training:  83%|████████▎ | 268/324 [03:10<00:34,  1.62it/s, loss=0.108]"
          ]
        },
        {
          "output_type": "stream",
          "name": "stderr",
          "text": [
            "DEBUG:ludwig.trainers.trainer:training: completed batch 268 memory used: 2946.13MB\n"
          ]
        },
        {
          "output_type": "stream",
          "name": "stdout",
          "text": [
            "Training:  83%|████████▎ | 269/324 [03:11<00:33,  1.64it/s, loss=0.201]"
          ]
        },
        {
          "output_type": "stream",
          "name": "stderr",
          "text": [
            "DEBUG:ludwig.trainers.trainer:training: completed batch 269 memory used: 2946.13MB\n"
          ]
        },
        {
          "output_type": "stream",
          "name": "stdout",
          "text": [
            "Training:  83%|████████▎ | 270/324 [03:12<00:33,  1.60it/s, loss=0.191]"
          ]
        },
        {
          "output_type": "stream",
          "name": "stderr",
          "text": [
            "DEBUG:ludwig.trainers.trainer:training: completed batch 270 memory used: 2946.13MB\n"
          ]
        },
        {
          "output_type": "stream",
          "name": "stdout",
          "text": [
            "Training:  84%|████████▎ | 271/324 [03:12<00:32,  1.62it/s, loss=0.176]"
          ]
        },
        {
          "output_type": "stream",
          "name": "stderr",
          "text": [
            "DEBUG:ludwig.trainers.trainer:training: completed batch 271 memory used: 2946.13MB\n"
          ]
        },
        {
          "output_type": "stream",
          "name": "stdout",
          "text": [
            "Training:  84%|████████▍ | 272/324 [03:13<00:35,  1.46it/s, loss=0.113]"
          ]
        },
        {
          "output_type": "stream",
          "name": "stderr",
          "text": [
            "DEBUG:ludwig.trainers.trainer:training: completed batch 272 memory used: 2946.13MB\n"
          ]
        },
        {
          "output_type": "stream",
          "name": "stdout",
          "text": [
            "Training:  84%|████████▍ | 273/324 [03:14<00:33,  1.53it/s, loss=0.193]"
          ]
        },
        {
          "output_type": "stream",
          "name": "stderr",
          "text": [
            "DEBUG:ludwig.trainers.trainer:training: completed batch 273 memory used: 2946.13MB\n"
          ]
        },
        {
          "output_type": "stream",
          "name": "stdout",
          "text": [
            "Training:  85%|████████▍ | 274/324 [03:14<00:31,  1.60it/s, loss=0.199]"
          ]
        },
        {
          "output_type": "stream",
          "name": "stderr",
          "text": [
            "DEBUG:ludwig.trainers.trainer:training: completed batch 274 memory used: 2946.13MB\n"
          ]
        },
        {
          "output_type": "stream",
          "name": "stdout",
          "text": [
            "Training:  85%|████████▍ | 275/324 [03:15<00:31,  1.56it/s, loss=0.239]"
          ]
        },
        {
          "output_type": "stream",
          "name": "stderr",
          "text": [
            "DEBUG:ludwig.trainers.trainer:training: completed batch 275 memory used: 2946.13MB\n"
          ]
        },
        {
          "output_type": "stream",
          "name": "stdout",
          "text": [
            "Training:  85%|████████▌ | 276/324 [03:15<00:29,  1.61it/s, loss=0.291]"
          ]
        },
        {
          "output_type": "stream",
          "name": "stderr",
          "text": [
            "DEBUG:ludwig.trainers.trainer:training: completed batch 276 memory used: 2946.13MB\n"
          ]
        },
        {
          "output_type": "stream",
          "name": "stdout",
          "text": [
            "Training:  85%|████████▌ | 277/324 [03:16<00:28,  1.65it/s, loss=0.288]"
          ]
        },
        {
          "output_type": "stream",
          "name": "stderr",
          "text": [
            "DEBUG:ludwig.trainers.trainer:training: completed batch 277 memory used: 2946.13MB\n"
          ]
        },
        {
          "output_type": "stream",
          "name": "stdout",
          "text": [
            "Training:  86%|████████▌ | 278/324 [03:17<00:29,  1.58it/s, loss=0.21]"
          ]
        },
        {
          "output_type": "stream",
          "name": "stderr",
          "text": [
            "DEBUG:ludwig.trainers.trainer:training: completed batch 278 memory used: 2946.13MB\n"
          ]
        },
        {
          "output_type": "stream",
          "name": "stdout",
          "text": [
            "Training:  86%|████████▌ | 279/324 [03:17<00:27,  1.63it/s, loss=0.193]"
          ]
        },
        {
          "output_type": "stream",
          "name": "stderr",
          "text": [
            "DEBUG:ludwig.trainers.trainer:training: completed batch 279 memory used: 2946.13MB\n"
          ]
        },
        {
          "output_type": "stream",
          "name": "stdout",
          "text": [
            "Training:  86%|████████▋ | 280/324 [03:18<00:27,  1.60it/s, loss=0.235]"
          ]
        },
        {
          "output_type": "stream",
          "name": "stderr",
          "text": [
            "DEBUG:ludwig.trainers.trainer:training: completed batch 280 memory used: 2946.13MB\n"
          ]
        },
        {
          "output_type": "stream",
          "name": "stdout",
          "text": [
            "Training:  87%|████████▋ | 281/324 [03:19<00:26,  1.65it/s, loss=0.261]"
          ]
        },
        {
          "output_type": "stream",
          "name": "stderr",
          "text": [
            "DEBUG:ludwig.trainers.trainer:training: completed batch 281 memory used: 2946.13MB\n"
          ]
        },
        {
          "output_type": "stream",
          "name": "stdout",
          "text": [
            "Training:  87%|████████▋ | 282/324 [03:19<00:25,  1.67it/s, loss=0.148]"
          ]
        },
        {
          "output_type": "stream",
          "name": "stderr",
          "text": [
            "DEBUG:ludwig.trainers.trainer:training: completed batch 282 memory used: 2946.13MB\n"
          ]
        },
        {
          "output_type": "stream",
          "name": "stdout",
          "text": [
            "Training:  87%|████████▋ | 283/324 [03:20<00:24,  1.70it/s, loss=0.195]"
          ]
        },
        {
          "output_type": "stream",
          "name": "stderr",
          "text": [
            "DEBUG:ludwig.trainers.trainer:training: completed batch 283 memory used: 2946.13MB\n"
          ]
        },
        {
          "output_type": "stream",
          "name": "stdout",
          "text": [
            "Training:  88%|████████▊ | 284/324 [03:20<00:22,  1.74it/s, loss=0.365]"
          ]
        },
        {
          "output_type": "stream",
          "name": "stderr",
          "text": [
            "DEBUG:ludwig.trainers.trainer:training: completed batch 284 memory used: 2946.13MB\n"
          ]
        },
        {
          "output_type": "stream",
          "name": "stdout",
          "text": [
            "Training:  88%|████████▊ | 285/324 [03:21<00:23,  1.65it/s, loss=0.171]"
          ]
        },
        {
          "output_type": "stream",
          "name": "stderr",
          "text": [
            "DEBUG:ludwig.trainers.trainer:training: completed batch 285 memory used: 2946.13MB\n"
          ]
        },
        {
          "output_type": "stream",
          "name": "stdout",
          "text": [
            "Training:  88%|████████▊ | 286/324 [03:22<00:24,  1.58it/s, loss=0.263]"
          ]
        },
        {
          "output_type": "stream",
          "name": "stderr",
          "text": [
            "DEBUG:ludwig.trainers.trainer:training: completed batch 286 memory used: 2946.13MB\n"
          ]
        },
        {
          "output_type": "stream",
          "name": "stdout",
          "text": [
            "Training:  89%|████████▊ | 287/324 [03:22<00:22,  1.61it/s, loss=0.195]"
          ]
        },
        {
          "output_type": "stream",
          "name": "stderr",
          "text": [
            "DEBUG:ludwig.trainers.trainer:training: completed batch 287 memory used: 2946.13MB\n"
          ]
        },
        {
          "output_type": "stream",
          "name": "stdout",
          "text": [
            "Training:  89%|████████▉ | 288/324 [03:23<00:22,  1.60it/s, loss=0.16]"
          ]
        },
        {
          "output_type": "stream",
          "name": "stderr",
          "text": [
            "DEBUG:ludwig.trainers.trainer:training: completed batch 288 memory used: 2946.40MB\n"
          ]
        },
        {
          "output_type": "stream",
          "name": "stdout",
          "text": [
            "Training:  89%|████████▉ | 289/324 [03:23<00:21,  1.65it/s, loss=0.301]"
          ]
        },
        {
          "output_type": "stream",
          "name": "stderr",
          "text": [
            "DEBUG:ludwig.trainers.trainer:training: completed batch 289 memory used: 2946.40MB\n"
          ]
        },
        {
          "output_type": "stream",
          "name": "stdout",
          "text": [
            "Training:  90%|████████▉ | 290/324 [03:24<00:20,  1.65it/s, loss=0.187]"
          ]
        },
        {
          "output_type": "stream",
          "name": "stderr",
          "text": [
            "DEBUG:ludwig.trainers.trainer:training: completed batch 290 memory used: 2946.40MB\n"
          ]
        },
        {
          "output_type": "stream",
          "name": "stdout",
          "text": [
            "Training:  90%|████████▉ | 291/324 [03:25<00:19,  1.68it/s, loss=0.251]"
          ]
        },
        {
          "output_type": "stream",
          "name": "stderr",
          "text": [
            "DEBUG:ludwig.trainers.trainer:training: completed batch 291 memory used: 2946.40MB\n"
          ]
        },
        {
          "output_type": "stream",
          "name": "stdout",
          "text": [
            "Training:  90%|█████████ | 292/324 [03:25<00:19,  1.68it/s, loss=0.277]"
          ]
        },
        {
          "output_type": "stream",
          "name": "stderr",
          "text": [
            "DEBUG:ludwig.trainers.trainer:training: completed batch 292 memory used: 2946.40MB\n"
          ]
        },
        {
          "output_type": "stream",
          "name": "stdout",
          "text": [
            "Training:  90%|█████████ | 293/324 [03:26<00:18,  1.69it/s, loss=0.161]"
          ]
        },
        {
          "output_type": "stream",
          "name": "stderr",
          "text": [
            "DEBUG:ludwig.trainers.trainer:training: completed batch 293 memory used: 2946.40MB\n"
          ]
        },
        {
          "output_type": "stream",
          "name": "stdout",
          "text": [
            "Training:  91%|█████████ | 294/324 [03:26<00:18,  1.59it/s, loss=0.184]"
          ]
        },
        {
          "output_type": "stream",
          "name": "stderr",
          "text": [
            "DEBUG:ludwig.trainers.trainer:training: completed batch 294 memory used: 2946.40MB\n"
          ]
        },
        {
          "output_type": "stream",
          "name": "stdout",
          "text": [
            "Training:  91%|█████████ | 295/324 [03:27<00:17,  1.67it/s, loss=0.213]"
          ]
        },
        {
          "output_type": "stream",
          "name": "stderr",
          "text": [
            "DEBUG:ludwig.trainers.trainer:training: completed batch 295 memory used: 2946.40MB\n"
          ]
        },
        {
          "output_type": "stream",
          "name": "stdout",
          "text": [
            "Training:  91%|█████████▏| 296/324 [03:28<00:17,  1.64it/s, loss=0.227]"
          ]
        },
        {
          "output_type": "stream",
          "name": "stderr",
          "text": [
            "DEBUG:ludwig.trainers.trainer:training: completed batch 296 memory used: 2946.40MB\n"
          ]
        },
        {
          "output_type": "stream",
          "name": "stdout",
          "text": [
            "Training:  92%|█████████▏| 297/324 [03:28<00:16,  1.68it/s, loss=0.219]"
          ]
        },
        {
          "output_type": "stream",
          "name": "stderr",
          "text": [
            "DEBUG:ludwig.trainers.trainer:training: completed batch 297 memory used: 2946.40MB\n"
          ]
        },
        {
          "output_type": "stream",
          "name": "stdout",
          "text": [
            "Training:  92%|█████████▏| 298/324 [03:29<00:15,  1.70it/s, loss=0.174]"
          ]
        },
        {
          "output_type": "stream",
          "name": "stderr",
          "text": [
            "DEBUG:ludwig.trainers.trainer:training: completed batch 298 memory used: 2946.40MB\n"
          ]
        },
        {
          "output_type": "stream",
          "name": "stdout",
          "text": [
            "Training:  92%|█████████▏| 299/324 [03:29<00:14,  1.72it/s, loss=0.187]"
          ]
        },
        {
          "output_type": "stream",
          "name": "stderr",
          "text": [
            "DEBUG:ludwig.trainers.trainer:training: completed batch 299 memory used: 2946.40MB\n"
          ]
        },
        {
          "output_type": "stream",
          "name": "stdout",
          "text": [
            "Training:  93%|█████████▎| 300/324 [03:30<00:13,  1.75it/s, loss=0.119]"
          ]
        },
        {
          "output_type": "stream",
          "name": "stderr",
          "text": [
            "DEBUG:ludwig.trainers.trainer:training: completed batch 300 memory used: 2946.40MB\n"
          ]
        },
        {
          "output_type": "stream",
          "name": "stdout",
          "text": [
            "Training:  93%|█████████▎| 301/324 [03:30<00:13,  1.75it/s, loss=0.175]"
          ]
        },
        {
          "output_type": "stream",
          "name": "stderr",
          "text": [
            "DEBUG:ludwig.trainers.trainer:training: completed batch 301 memory used: 2946.40MB\n"
          ]
        },
        {
          "output_type": "stream",
          "name": "stdout",
          "text": [
            "Training:  93%|█████████▎| 302/324 [03:31<00:12,  1.77it/s, loss=0.171]"
          ]
        },
        {
          "output_type": "stream",
          "name": "stderr",
          "text": [
            "DEBUG:ludwig.trainers.trainer:training: completed batch 302 memory used: 2946.40MB\n"
          ]
        },
        {
          "output_type": "stream",
          "name": "stdout",
          "text": [
            "Training:  94%|█████████▎| 303/324 [03:32<00:11,  1.76it/s, loss=0.244]"
          ]
        },
        {
          "output_type": "stream",
          "name": "stderr",
          "text": [
            "DEBUG:ludwig.trainers.trainer:training: completed batch 303 memory used: 2946.40MB\n"
          ]
        },
        {
          "output_type": "stream",
          "name": "stdout",
          "text": [
            "Training:  94%|█████████▍| 304/324 [03:32<00:12,  1.63it/s, loss=0.132]"
          ]
        },
        {
          "output_type": "stream",
          "name": "stderr",
          "text": [
            "DEBUG:ludwig.trainers.trainer:training: completed batch 304 memory used: 2946.40MB\n"
          ]
        },
        {
          "output_type": "stream",
          "name": "stdout",
          "text": [
            "Training:  94%|█████████▍| 305/324 [03:33<00:11,  1.59it/s, loss=0.244]"
          ]
        },
        {
          "output_type": "stream",
          "name": "stderr",
          "text": [
            "DEBUG:ludwig.trainers.trainer:training: completed batch 305 memory used: 2946.40MB\n"
          ]
        },
        {
          "output_type": "stream",
          "name": "stdout",
          "text": [
            "Training:  94%|█████████▍| 306/324 [03:34<00:10,  1.64it/s, loss=0.247]"
          ]
        },
        {
          "output_type": "stream",
          "name": "stderr",
          "text": [
            "DEBUG:ludwig.trainers.trainer:training: completed batch 306 memory used: 2946.40MB\n"
          ]
        },
        {
          "output_type": "stream",
          "name": "stdout",
          "text": [
            "Training:  95%|█████████▍| 307/324 [03:34<00:10,  1.68it/s, loss=0.129]"
          ]
        },
        {
          "output_type": "stream",
          "name": "stderr",
          "text": [
            "DEBUG:ludwig.trainers.trainer:training: completed batch 307 memory used: 2946.40MB\n"
          ]
        },
        {
          "output_type": "stream",
          "name": "stdout",
          "text": [
            "Training:  95%|█████████▌| 308/324 [03:35<00:10,  1.60it/s, loss=0.158]"
          ]
        },
        {
          "output_type": "stream",
          "name": "stderr",
          "text": [
            "DEBUG:ludwig.trainers.trainer:training: completed batch 308 memory used: 2946.40MB\n"
          ]
        },
        {
          "output_type": "stream",
          "name": "stdout",
          "text": [
            "Training:  95%|█████████▌| 309/324 [03:35<00:09,  1.57it/s, loss=0.228]"
          ]
        },
        {
          "output_type": "stream",
          "name": "stderr",
          "text": [
            "DEBUG:ludwig.trainers.trainer:training: completed batch 309 memory used: 2946.40MB\n"
          ]
        },
        {
          "output_type": "stream",
          "name": "stdout",
          "text": [
            "Training:  96%|█████████▌| 310/324 [03:36<00:08,  1.63it/s, loss=0.121]"
          ]
        },
        {
          "output_type": "stream",
          "name": "stderr",
          "text": [
            "DEBUG:ludwig.trainers.trainer:training: completed batch 310 memory used: 2946.40MB\n"
          ]
        },
        {
          "output_type": "stream",
          "name": "stdout",
          "text": [
            "Training:  96%|█████████▌| 311/324 [03:37<00:08,  1.56it/s, loss=0.151]"
          ]
        },
        {
          "output_type": "stream",
          "name": "stderr",
          "text": [
            "DEBUG:ludwig.trainers.trainer:training: completed batch 311 memory used: 2946.40MB\n"
          ]
        },
        {
          "output_type": "stream",
          "name": "stdout",
          "text": [
            "Training:  96%|█████████▋| 312/324 [03:37<00:07,  1.58it/s, loss=0.175]"
          ]
        },
        {
          "output_type": "stream",
          "name": "stderr",
          "text": [
            "DEBUG:ludwig.trainers.trainer:training: completed batch 312 memory used: 2946.40MB\n"
          ]
        },
        {
          "output_type": "stream",
          "name": "stdout",
          "text": [
            "Training:  97%|█████████▋| 313/324 [03:38<00:06,  1.60it/s, loss=0.219]"
          ]
        },
        {
          "output_type": "stream",
          "name": "stderr",
          "text": [
            "DEBUG:ludwig.trainers.trainer:training: completed batch 313 memory used: 2946.40MB\n"
          ]
        },
        {
          "output_type": "stream",
          "name": "stdout",
          "text": [
            "Training:  97%|█████████▋| 314/324 [03:38<00:06,  1.65it/s, loss=0.138]"
          ]
        },
        {
          "output_type": "stream",
          "name": "stderr",
          "text": [
            "DEBUG:ludwig.trainers.trainer:training: completed batch 314 memory used: 2946.40MB\n"
          ]
        },
        {
          "output_type": "stream",
          "name": "stdout",
          "text": [
            "Training:  97%|█████████▋| 315/324 [03:39<00:05,  1.68it/s, loss=0.156]"
          ]
        },
        {
          "output_type": "stream",
          "name": "stderr",
          "text": [
            "DEBUG:ludwig.trainers.trainer:training: completed batch 315 memory used: 2946.40MB\n"
          ]
        },
        {
          "output_type": "stream",
          "name": "stdout",
          "text": [
            "Training:  98%|█████████▊| 316/324 [03:40<00:04,  1.70it/s, loss=0.212]"
          ]
        },
        {
          "output_type": "stream",
          "name": "stderr",
          "text": [
            "DEBUG:ludwig.trainers.trainer:training: completed batch 316 memory used: 2946.40MB\n"
          ]
        },
        {
          "output_type": "stream",
          "name": "stdout",
          "text": [
            "Training:  98%|█████████▊| 317/324 [03:40<00:04,  1.68it/s, loss=0.142]"
          ]
        },
        {
          "output_type": "stream",
          "name": "stderr",
          "text": [
            "DEBUG:ludwig.trainers.trainer:training: completed batch 317 memory used: 2946.40MB\n"
          ]
        },
        {
          "output_type": "stream",
          "name": "stdout",
          "text": [
            "Training:  98%|█████████▊| 318/324 [03:41<00:03,  1.67it/s, loss=0.218]"
          ]
        },
        {
          "output_type": "stream",
          "name": "stderr",
          "text": [
            "DEBUG:ludwig.trainers.trainer:training: completed batch 318 memory used: 2946.40MB\n"
          ]
        },
        {
          "output_type": "stream",
          "name": "stdout",
          "text": [
            "Training:  98%|█████████▊| 319/324 [03:41<00:02,  1.70it/s, loss=0.135]"
          ]
        },
        {
          "output_type": "stream",
          "name": "stderr",
          "text": [
            "DEBUG:ludwig.trainers.trainer:training: completed batch 319 memory used: 2946.40MB\n"
          ]
        },
        {
          "output_type": "stream",
          "name": "stdout",
          "text": [
            "Training:  99%|█████████▉| 320/324 [03:42<00:02,  1.65it/s, loss=0.165]"
          ]
        },
        {
          "output_type": "stream",
          "name": "stderr",
          "text": [
            "DEBUG:ludwig.trainers.trainer:training: completed batch 320 memory used: 2946.40MB\n"
          ]
        },
        {
          "output_type": "stream",
          "name": "stdout",
          "text": [
            "Training:  99%|█████████▉| 321/324 [03:43<00:01,  1.69it/s, loss=0.136]"
          ]
        },
        {
          "output_type": "stream",
          "name": "stderr",
          "text": [
            "DEBUG:ludwig.trainers.trainer:training: completed batch 321 memory used: 2946.40MB\n"
          ]
        },
        {
          "output_type": "stream",
          "name": "stdout",
          "text": [
            "Training:  99%|█████████▉| 322/324 [03:43<00:01,  1.70it/s, loss=0.226]"
          ]
        },
        {
          "output_type": "stream",
          "name": "stderr",
          "text": [
            "DEBUG:ludwig.trainers.trainer:training: completed batch 322 memory used: 2946.40MB\n"
          ]
        },
        {
          "output_type": "stream",
          "name": "stdout",
          "text": [
            "Training: 100%|█████████▉| 323/324 [03:44<00:00,  1.74it/s, loss=0.309]"
          ]
        },
        {
          "output_type": "stream",
          "name": "stderr",
          "text": [
            "DEBUG:ludwig.trainers.trainer:training: completed batch 323 memory used: 2946.40MB\n"
          ]
        },
        {
          "output_type": "stream",
          "name": "stdout",
          "text": [
            "Training: 100%|██████████| 324/324 [03:44<00:00,  1.71it/s, loss=0.206]"
          ]
        },
        {
          "output_type": "stream",
          "name": "stderr",
          "text": [
            "DEBUG:ludwig.trainers.trainer:training: completed batch 324 memory used: 2946.40MB\n",
            "INFO:ludwig.trainers.trainer:\n",
            "Running evaluation for step: 324, epoch: 2\n"
          ]
        },
        {
          "output_type": "stream",
          "name": "stdout",
          "text": [
            "\rEvaluation valid:   0%|          | 0/8 [00:00<?, ?it/s]"
          ]
        },
        {
          "output_type": "stream",
          "name": "stderr",
          "text": [
            "DEBUG:ludwig.models.predictor:evaluation for validation: obtained next batch memory used: 2946.40MB\n"
          ]
        },
        {
          "output_type": "stream",
          "name": "stdout",
          "text": [
            "\rEvaluation valid:  12%|█▎        | 1/8 [00:00<00:04,  1.61it/s]"
          ]
        },
        {
          "output_type": "stream",
          "name": "stderr",
          "text": [
            "DEBUG:ludwig.models.predictor:evaluation for validation: completed batch 1 memory used: 2945.84MB\n",
            "DEBUG:ludwig.models.predictor:evaluation for validation: obtained next batch memory used: 2945.84MB\n"
          ]
        },
        {
          "output_type": "stream",
          "name": "stdout",
          "text": [
            "\rEvaluation valid:  25%|██▌       | 2/8 [00:01<00:02,  2.04it/s]"
          ]
        },
        {
          "output_type": "stream",
          "name": "stderr",
          "text": [
            "DEBUG:ludwig.models.predictor:evaluation for validation: completed batch 2 memory used: 2945.84MB\n",
            "DEBUG:ludwig.models.predictor:evaluation for validation: obtained next batch memory used: 2945.84MB\n"
          ]
        },
        {
          "output_type": "stream",
          "name": "stdout",
          "text": [
            "\rEvaluation valid:  38%|███▊      | 3/8 [00:01<00:02,  1.90it/s]"
          ]
        },
        {
          "output_type": "stream",
          "name": "stderr",
          "text": [
            "DEBUG:ludwig.models.predictor:evaluation for validation: completed batch 3 memory used: 2945.84MB\n",
            "DEBUG:ludwig.models.predictor:evaluation for validation: obtained next batch memory used: 2945.84MB\n"
          ]
        },
        {
          "output_type": "stream",
          "name": "stdout",
          "text": [
            "\rEvaluation valid:  50%|█████     | 4/8 [00:01<00:01,  2.08it/s]"
          ]
        },
        {
          "output_type": "stream",
          "name": "stderr",
          "text": [
            "DEBUG:ludwig.models.predictor:evaluation for validation: completed batch 4 memory used: 2945.84MB\n",
            "DEBUG:ludwig.models.predictor:evaluation for validation: obtained next batch memory used: 2945.84MB\n"
          ]
        },
        {
          "output_type": "stream",
          "name": "stdout",
          "text": [
            "\rEvaluation valid:  62%|██████▎   | 5/8 [00:02<00:01,  2.25it/s]"
          ]
        },
        {
          "output_type": "stream",
          "name": "stderr",
          "text": [
            "DEBUG:ludwig.models.predictor:evaluation for validation: completed batch 5 memory used: 2945.84MB\n",
            "DEBUG:ludwig.models.predictor:evaluation for validation: obtained next batch memory used: 2945.84MB\n"
          ]
        },
        {
          "output_type": "stream",
          "name": "stdout",
          "text": [
            "\rEvaluation valid:  75%|███████▌  | 6/8 [00:02<00:00,  2.05it/s]"
          ]
        },
        {
          "output_type": "stream",
          "name": "stderr",
          "text": [
            "DEBUG:ludwig.models.predictor:evaluation for validation: completed batch 6 memory used: 2945.84MB\n",
            "DEBUG:ludwig.models.predictor:evaluation for validation: obtained next batch memory used: 2945.84MB\n"
          ]
        },
        {
          "output_type": "stream",
          "name": "stdout",
          "text": [
            "\rEvaluation valid:  88%|████████▊ | 7/8 [00:03<00:00,  2.15it/s]"
          ]
        },
        {
          "output_type": "stream",
          "name": "stderr",
          "text": [
            "DEBUG:ludwig.models.predictor:evaluation for validation: completed batch 7 memory used: 2945.84MB\n",
            "DEBUG:ludwig.models.predictor:evaluation for validation: obtained next batch memory used: 2945.84MB\n"
          ]
        },
        {
          "output_type": "stream",
          "name": "stdout",
          "text": [
            "\rEvaluation valid: 100%|██████████| 8/8 [00:03<00:00,  2.44it/s]"
          ]
        },
        {
          "output_type": "stream",
          "name": "stderr",
          "text": [
            "DEBUG:ludwig.models.predictor:evaluation for validation: completed batch 8 memory used: 2945.84MB\n"
          ]
        },
        {
          "output_type": "stream",
          "name": "stdout",
          "text": [
            "Evaluation valid: 100%|██████████| 8/8 [00:03<00:00,  2.18it/s]\n",
            "Evaluation test :   0%|          | 0/15 [00:00<?, ?it/s]"
          ]
        },
        {
          "output_type": "stream",
          "name": "stderr",
          "text": [
            "DEBUG:ludwig.models.predictor:evaluation for test: obtained next batch memory used: 2945.84MB\n"
          ]
        },
        {
          "output_type": "stream",
          "name": "stdout",
          "text": [
            "\rEvaluation test :   7%|▋         | 1/15 [00:00<00:05,  2.35it/s]"
          ]
        },
        {
          "output_type": "stream",
          "name": "stderr",
          "text": [
            "DEBUG:ludwig.models.predictor:evaluation for test: completed batch 1 memory used: 2945.84MB\n",
            "DEBUG:ludwig.models.predictor:evaluation for test: obtained next batch memory used: 2945.84MB\n"
          ]
        },
        {
          "output_type": "stream",
          "name": "stdout",
          "text": [
            "\rEvaluation test :  13%|█▎        | 2/15 [00:00<00:06,  2.13it/s]"
          ]
        },
        {
          "output_type": "stream",
          "name": "stderr",
          "text": [
            "DEBUG:ludwig.models.predictor:evaluation for test: completed batch 2 memory used: 2945.84MB\n",
            "DEBUG:ludwig.models.predictor:evaluation for test: obtained next batch memory used: 2945.84MB\n"
          ]
        },
        {
          "output_type": "stream",
          "name": "stdout",
          "text": [
            "\rEvaluation test :  20%|██        | 3/15 [00:01<00:05,  2.23it/s]"
          ]
        },
        {
          "output_type": "stream",
          "name": "stderr",
          "text": [
            "DEBUG:ludwig.models.predictor:evaluation for test: completed batch 3 memory used: 2945.84MB\n",
            "DEBUG:ludwig.models.predictor:evaluation for test: obtained next batch memory used: 2945.84MB\n"
          ]
        },
        {
          "output_type": "stream",
          "name": "stdout",
          "text": [
            "\rEvaluation test :  27%|██▋       | 4/15 [00:01<00:04,  2.31it/s]"
          ]
        },
        {
          "output_type": "stream",
          "name": "stderr",
          "text": [
            "DEBUG:ludwig.models.predictor:evaluation for test: completed batch 4 memory used: 2945.84MB\n",
            "DEBUG:ludwig.models.predictor:evaluation for test: obtained next batch memory used: 2945.84MB\n"
          ]
        },
        {
          "output_type": "stream",
          "name": "stdout",
          "text": [
            "\rEvaluation test :  33%|███▎      | 5/15 [00:02<00:04,  2.41it/s]"
          ]
        },
        {
          "output_type": "stream",
          "name": "stderr",
          "text": [
            "DEBUG:ludwig.models.predictor:evaluation for test: completed batch 5 memory used: 2945.84MB\n",
            "DEBUG:ludwig.models.predictor:evaluation for test: obtained next batch memory used: 2945.84MB\n"
          ]
        },
        {
          "output_type": "stream",
          "name": "stdout",
          "text": [
            "\rEvaluation test :  40%|████      | 6/15 [00:02<00:04,  2.08it/s]"
          ]
        },
        {
          "output_type": "stream",
          "name": "stderr",
          "text": [
            "DEBUG:ludwig.models.predictor:evaluation for test: completed batch 6 memory used: 2946.10MB\n",
            "DEBUG:ludwig.models.predictor:evaluation for test: obtained next batch memory used: 2946.10MB\n"
          ]
        },
        {
          "output_type": "stream",
          "name": "stdout",
          "text": [
            "\rEvaluation test :  47%|████▋     | 7/15 [00:03<00:03,  2.03it/s]"
          ]
        },
        {
          "output_type": "stream",
          "name": "stderr",
          "text": [
            "DEBUG:ludwig.models.predictor:evaluation for test: completed batch 7 memory used: 2946.10MB\n",
            "DEBUG:ludwig.models.predictor:evaluation for test: obtained next batch memory used: 2946.10MB\n"
          ]
        },
        {
          "output_type": "stream",
          "name": "stdout",
          "text": [
            "\rEvaluation test :  53%|█████▎    | 8/15 [00:03<00:03,  2.13it/s]"
          ]
        },
        {
          "output_type": "stream",
          "name": "stderr",
          "text": [
            "DEBUG:ludwig.models.predictor:evaluation for test: completed batch 8 memory used: 2946.10MB\n",
            "DEBUG:ludwig.models.predictor:evaluation for test: obtained next batch memory used: 2946.10MB\n"
          ]
        },
        {
          "output_type": "stream",
          "name": "stdout",
          "text": [
            "\rEvaluation test :  60%|██████    | 9/15 [00:04<00:02,  2.20it/s]"
          ]
        },
        {
          "output_type": "stream",
          "name": "stderr",
          "text": [
            "DEBUG:ludwig.models.predictor:evaluation for test: completed batch 9 memory used: 2946.10MB\n",
            "DEBUG:ludwig.models.predictor:evaluation for test: obtained next batch memory used: 2946.10MB\n"
          ]
        },
        {
          "output_type": "stream",
          "name": "stdout",
          "text": [
            "\rEvaluation test :  67%|██████▋   | 10/15 [00:04<00:02,  1.99it/s]"
          ]
        },
        {
          "output_type": "stream",
          "name": "stderr",
          "text": [
            "DEBUG:ludwig.models.predictor:evaluation for test: completed batch 10 memory used: 2946.10MB\n",
            "DEBUG:ludwig.models.predictor:evaluation for test: obtained next batch memory used: 2946.10MB\n"
          ]
        },
        {
          "output_type": "stream",
          "name": "stdout",
          "text": [
            "\rEvaluation test :  73%|███████▎  | 11/15 [00:05<00:02,  1.96it/s]"
          ]
        },
        {
          "output_type": "stream",
          "name": "stderr",
          "text": [
            "DEBUG:ludwig.models.predictor:evaluation for test: completed batch 11 memory used: 2946.10MB\n",
            "DEBUG:ludwig.models.predictor:evaluation for test: obtained next batch memory used: 2946.10MB\n"
          ]
        },
        {
          "output_type": "stream",
          "name": "stdout",
          "text": [
            "\rEvaluation test :  80%|████████  | 12/15 [00:05<00:01,  1.83it/s]"
          ]
        },
        {
          "output_type": "stream",
          "name": "stderr",
          "text": [
            "DEBUG:ludwig.models.predictor:evaluation for test: completed batch 12 memory used: 2946.10MB\n",
            "DEBUG:ludwig.models.predictor:evaluation for test: obtained next batch memory used: 2946.10MB\n"
          ]
        },
        {
          "output_type": "stream",
          "name": "stdout",
          "text": [
            "\rEvaluation test :  87%|████████▋ | 13/15 [00:06<00:01,  1.89it/s]"
          ]
        },
        {
          "output_type": "stream",
          "name": "stderr",
          "text": [
            "DEBUG:ludwig.models.predictor:evaluation for test: completed batch 13 memory used: 2946.10MB\n",
            "DEBUG:ludwig.models.predictor:evaluation for test: obtained next batch memory used: 2946.10MB\n"
          ]
        },
        {
          "output_type": "stream",
          "name": "stdout",
          "text": [
            "\rEvaluation test :  93%|█████████▎| 14/15 [00:06<00:00,  1.84it/s]"
          ]
        },
        {
          "output_type": "stream",
          "name": "stderr",
          "text": [
            "DEBUG:ludwig.models.predictor:evaluation for test: completed batch 14 memory used: 2946.10MB\n",
            "DEBUG:ludwig.models.predictor:evaluation for test: obtained next batch memory used: 2946.10MB\n"
          ]
        },
        {
          "output_type": "stream",
          "name": "stdout",
          "text": [
            "\rEvaluation test : 100%|██████████| 15/15 [00:07<00:00,  1.75it/s]"
          ]
        },
        {
          "output_type": "stream",
          "name": "stderr",
          "text": [
            "DEBUG:ludwig.models.predictor:evaluation for test: completed batch 15 memory used: 2946.10MB\n"
          ]
        },
        {
          "output_type": "stream",
          "name": "stdout",
          "text": [
            "\rEvaluation test : 100%|██████████| 15/15 [00:07<00:00,  1.98it/s]"
          ]
        },
        {
          "output_type": "stream",
          "name": "stderr",
          "text": [
            "INFO:ludwig.trainers.trainer:Evaluation took 11.5299s\n",
            "\n",
            "INFO:ludwig.utils.metrics_printed_table:╒═══════════════════════╤════════════╤══════════════╤════════════╕\n",
            "│                       │      train │   validation │       test │\n",
            "╞═══════════════════════╪════════════╪══════════════╪════════════╡\n",
            "│ bleu                  │     0.0883 │       0.0608 │     0.0545 │\n",
            "├───────────────────────┼────────────┼──────────────┼────────────┤\n",
            "│ char_error_rate       │     2.0315 │       2.1007 │     1.9855 │\n",
            "├───────────────────────┼────────────┼──────────────┼────────────┤\n",
            "│ loss                  │     1.6914 │       1.9657 │     2.2095 │\n",
            "├───────────────────────┼────────────┼──────────────┼────────────┤\n",
            "│ next_token_perplexity │ 18506.5078 │   19569.5488 │ 19921.1934 │\n",
            "├───────────────────────┼────────────┼──────────────┼────────────┤\n",
            "│ perplexity            │ 31916.5234 │   31903.0742 │ 31941.6152 │\n",
            "├───────────────────────┼────────────┼──────────────┼────────────┤\n",
            "│ rouge1_fmeasure       │     0.3243 │       0.2845 │     0.2837 │\n",
            "├───────────────────────┼────────────┼──────────────┼────────────┤\n",
            "│ rouge1_precision      │     0.2284 │       0.1954 │     0.1981 │\n",
            "├───────────────────────┼────────────┼──────────────┼────────────┤\n",
            "│ rouge1_recall         │     0.5968 │       0.5520 │     0.5264 │\n",
            "├───────────────────────┼────────────┼──────────────┼────────────┤\n",
            "│ rouge2_fmeasure       │     0.1707 │       0.1161 │     0.1097 │\n",
            "├───────────────────────┼────────────┼──────────────┼────────────┤\n",
            "│ rouge2_precision      │     0.1211 │       0.0791 │     0.0764 │\n",
            "├───────────────────────┼────────────┼──────────────┼────────────┤\n",
            "│ rouge2_recall         │     0.3153 │       0.2316 │     0.2044 │\n",
            "├───────────────────────┼────────────┼──────────────┼────────────┤\n",
            "│ rougeL_fmeasure       │     0.2881 │       0.2484 │     0.2334 │\n",
            "├───────────────────────┼────────────┼──────────────┼────────────┤\n",
            "│ rougeL_precision      │     0.2029 │       0.1706 │     0.1626 │\n",
            "├───────────────────────┼────────────┼──────────────┼────────────┤\n",
            "│ rougeL_recall         │     0.5333 │       0.4812 │     0.4342 │\n",
            "├───────────────────────┼────────────┼──────────────┼────────────┤\n",
            "│ rougeLsum_fmeasure    │     0.3140 │       0.2684 │     0.2649 │\n",
            "├───────────────────────┼────────────┼──────────────┼────────────┤\n",
            "│ rougeLsum_precision   │     0.2214 │       0.1843 │     0.1850 │\n",
            "├───────────────────────┼────────────┼──────────────┼────────────┤\n",
            "│ rougeLsum_recall      │     0.5769 │       0.5204 │     0.4903 │\n",
            "├───────────────────────┼────────────┼──────────────┼────────────┤\n",
            "│ sequence_accuracy     │     0.0000 │       0.0000 │     0.0000 │\n",
            "├───────────────────────┼────────────┼──────────────┼────────────┤\n",
            "│ token_accuracy        │     0.0006 │       0.0009 │     0.0005 │\n",
            "├───────────────────────┼────────────┼──────────────┼────────────┤\n",
            "│ word_error_rate       │     2.2318 │       2.3613 │     2.2705 │\n",
            "├───────────────────────┼────────────┼──────────────┼────────────┤\n",
            "│ combined_loss         │     1.6914 │       1.9657 │     2.2095 │\n",
            "╘═══════════════════════╧════════════╧══════════════╧════════════╛\n",
            "INFO:ludwig.trainers.trainer:Evaluation validation metric: 'Answer' 'loss' improved.\n",
            "INFO:ludwig.trainers.trainer:'Answer' 'loss' decreased by 0.026.\n",
            "INFO:ludwig.trainers.trainer:New best model saved.\n",
            "\n"
          ]
        },
        {
          "output_type": "stream",
          "name": "stdout",
          "text": [
            "\n"
          ]
        },
        {
          "output_type": "stream",
          "name": "stderr",
          "text": [
            "DEBUG:ludwig.utils.checkpoint_utils:Saved checkpoint at /content/drive/MyDrive/ImpDocs/Work/AICoach/Notebooks/data/results/api_experiment_run_0/model/training_checkpoints/best.ckpt.\n",
            "DEBUG:ludwig.utils.checkpoint_utils:Saved checkpoint at /content/drive/MyDrive/ImpDocs/Work/AICoach/Notebooks/data/results/api_experiment_run_0/model/training_checkpoints/latest.ckpt.\n",
            "DEBUG:ludwig.trainers.trainer:Epoch 3 took: 1m 18.1810s.\n",
            "DEBUG:ludwig.utils.checkpoint_utils:Saved checkpoint at /content/drive/MyDrive/ImpDocs/Work/AICoach/Notebooks/data/results/api_experiment_run_0/model/training_checkpoints/latest.ckpt.\n"
          ]
        },
        {
          "output_type": "stream",
          "name": "stdout",
          "text": [
            "\rTraining: 100%|██████████| 324/324 [03:58<00:00,  1.36it/s, loss=0.206]"
          ]
        },
        {
          "output_type": "stream",
          "name": "stderr",
          "text": [
            "INFO:ludwig.utils.print_utils:\n",
            "INFO:ludwig.utils.print_utils:╒═════════════════╕\n",
            "INFO:ludwig.utils.print_utils:│ TRAINING REPORT │\n",
            "INFO:ludwig.utils.print_utils:╘═════════════════╛\n",
            "INFO:ludwig.utils.print_utils:\n",
            "INFO:ludwig.api:╒══════════════════════════════╤════════════════════╕\n",
            "│ Validation feature           │ Answer             │\n",
            "├──────────────────────────────┼────────────────────┤\n",
            "│ Validation metric            │ loss               │\n",
            "├──────────────────────────────┼────────────────────┤\n",
            "│ Best model step              │ 324                │\n",
            "├──────────────────────────────┼────────────────────┤\n",
            "│ Best model epoch             │ 3                  │\n",
            "├──────────────────────────────┼────────────────────┤\n",
            "│ Best model's validation loss │ 1.9656940698623657 │\n",
            "├──────────────────────────────┼────────────────────┤\n",
            "│ Best model's test loss       │ 2.2095017433166504 │\n",
            "╘══════════════════════════════╧════════════════════╛\n",
            "INFO:ludwig.api:\n",
            "Finished: api_experiment_run\n",
            "INFO:ludwig.api:Saved to: /content/drive/MyDrive/ImpDocs/Work/AICoach/Notebooks/data/results/api_experiment_run_0\n"
          ]
        },
        {
          "output_type": "stream",
          "name": "stdout",
          "text": [
            "\n"
          ]
        },
        {
          "output_type": "stream",
          "name": "stderr",
          "text": [
            "INFO:ludwig.utils.print_utils:\n",
            "INFO:ludwig.utils.print_utils:╒══════════╕\n",
            "INFO:ludwig.utils.print_utils:│ FINISHED │\n",
            "INFO:ludwig.utils.print_utils:╘══════════╛\n",
            "INFO:ludwig.utils.print_utils:\n"
          ]
        }
      ]
    },
    {
      "cell_type": "code",
      "source": [
        "test_df = pd.DataFrame([\n",
        "    {\n",
        "        \"Question\": \"What is GST?\"\n",
        "    },\n",
        "    {\n",
        "        \"Question\": \"Does aggregate turnover include value of inward supplies received on which RCM is payable?\"\n",
        "    },\n",
        "])\n",
        "\n",
        "results = model.predict(dataset=test_df)\n",
        "print(results)"
      ],
      "metadata": {
        "colab": {
          "base_uri": "https://localhost:8080/",
          "height": 1000
        },
        "id": "aNdVJhqLdlb_",
        "outputId": "5f4a8853-8983-4aa1-d906-a1702ab57370"
      },
      "execution_count": 11,
      "outputs": [
        {
          "output_type": "display_data",
          "data": {
            "text/plain": [
              "<IPython.core.display.HTML object>"
            ],
            "text/html": [
              "\n",
              "  <style>\n",
              "    pre {\n",
              "        white-space: pre-wrap;\n",
              "    }\n",
              "  </style>\n",
              "  "
            ]
          },
          "metadata": {}
        },
        {
          "output_type": "stream",
          "name": "stderr",
          "text": [
            "DEBUG:ludwig.api:Preprocessing\n",
            "DEBUG:ludwig.data.preprocessing:handle text features with prompt parameters\n",
            "DEBUG:ludwig.data.preprocessing:build preprocessing parameters\n",
            "DEBUG:ludwig.data.preprocessing:handle missing values\n",
            "DEBUG:ludwig.data.preprocessing:cast columns\n",
            "DEBUG:ludwig.data.preprocessing:build metadata\n",
            "DEBUG:ludwig.data.preprocessing:build data\n",
            "INFO:ludwig.utils.tokenizers:Loaded HuggingFace implementation of meta-llama/Llama-2-7b-hf tokenizer\n",
            "WARNING:ludwig.utils.tokenizers:No padding token id found. Using eos_token as pad_token.\n",
            "Asking to truncate to max_length but no maximum length is provided and the model has no predefined maximum length. Default to no truncation.\n",
            "DEBUG:ludwig.utils.strings_utils:max length of <built-in function format>: 73 < limit: 116\n",
            "DEBUG:ludwig.api:Predicting\n"
          ]
        },
        {
          "output_type": "stream",
          "name": "stdout",
          "text": [
            "\rPrediction:   0%|          | 0/1 [00:00<?, ?it/s]"
          ]
        },
        {
          "output_type": "stream",
          "name": "stderr",
          "text": [
            "INFO:ludwig.models.llm:Decoded text inputs for the first example in batch: ### instruction:\n",
            "you are a taxation expert on goods and services tax used in india.\n",
            "take the input given below which is a question. give answer for it as a response.\n",
            "\n",
            "### input:\n",
            "what is gst?\n",
            "\n",
            "### response:\n",
            "\n",
            "INFO:ludwig.models.llm:Decoded generated output for the first example in batch: ### instruction:\n",
            "you are a taxation expert on goods and services tax used in india.\n",
            "take the input given below which is a question. give answer for it as a response.\n",
            "\n",
            "### input:\n",
            "what is gst?\n",
            "\n",
            "### response:\n",
            " nobody can give a better definition of gst than the constitution of india.\n",
            "INFO:ludwig.models.llm:Decoded text inputs for the first example in batch: ### instruction:\n",
            "you are a taxation expert on goods and services tax used in india.\n",
            "take the input given below which is a question. give answer for it as a response.\n",
            "\n",
            "### input:\n",
            "does aggregate turnover include value of inward supplies received on which rcm is payable?\n",
            "\n",
            "### response:\n",
            "\n",
            "INFO:ludwig.models.llm:Decoded generated output for the first example in batch: ### instruction:\n",
            "you are a taxation expert on goods and services tax used in india.\n",
            "take the input given below which is a question. give answer for it as a response.\n",
            "\n",
            "### input:\n",
            "does aggregate turnover include value of inward supplies received on which rcm is payable?\n",
            "\n",
            "### response:\n",
            " nobody is liable to pay rcm on inward supplies.\n"
          ]
        },
        {
          "output_type": "stream",
          "name": "stdout",
          "text": [
            "Prediction: 100%|██████████| 1/1 [00:06<00:00,  6.03s/it]\n"
          ]
        },
        {
          "output_type": "stream",
          "name": "stderr",
          "text": [
            "DEBUG:ludwig.api:Postprocessing\n",
            "INFO:ludwig.utils.tokenizers:Loaded HuggingFace implementation of meta-llama/Llama-2-7b-hf tokenizer\n",
            "WARNING:ludwig.utils.tokenizers:No padding token id found. Using eos_token as pad_token.\n"
          ]
        },
        {
          "output_type": "stream",
          "name": "stdout",
          "text": [
            "(                                  Answer_predictions  \\\n",
            "0  [, nobody, can, give, a, better, definition, o...   \n",
            "1  [, nobody, is, li, able, to, pay, r, cm, on, i...   \n",
            "\n",
            "                                Answer_probabilities  \\\n",
            "0  [0.0, 0.0, 0.0, 0.0, 0.0, 0.0, 0.0, 0.0, 0.0, ...   \n",
            "1  [0.0, 0.0, 0.0, 0.0, 0.0, 0.0, 0.0, 0.0, 0.0, ...   \n",
            "\n",
            "                                     Answer_response  Answer_probability  \n",
            "0  [nobody can give a better definition of gst th...                -inf  \n",
            "1  [nobody is liable to pay rcm on inward supplies.]                -inf  , 'results')\n"
          ]
        },
        {
          "output_type": "stream",
          "name": "stderr",
          "text": [
            "/usr/local/lib/python3.10/dist-packages/ludwig/features/feature_utils.py:102: RuntimeWarning: divide by zero encountered in log\n",
            "  return np.sum(np.log(sequence_probabilities))\n"
          ]
        }
      ]
    }
  ]
}